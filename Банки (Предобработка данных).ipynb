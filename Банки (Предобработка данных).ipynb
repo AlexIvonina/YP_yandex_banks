{
 "cells": [
  {
   "cell_type": "markdown",
   "id": "90e9cc76",
   "metadata": {},
   "source": [
    "# Исследование надежности заемщиков."
   ]
  },
  {
   "cell_type": "markdown",
   "id": "8b789c07",
   "metadata": {},
   "source": [
    "Заказчик — кредитный отдел банка. \n",
    "В ходе работы нужно разобраться, влияет ли семейное положение и количество детей клиента на факт погашения кредита в срок.\n",
    "\n",
    "Результаты исследования будут учтены при построении модели кредитного скоринга — специальной системы, которая оценивает способность потенциального заёмщика вернуть кредит банку.\n",
    "\n",
    "**Цель исследования**\n",
    "Входные данные от банка — статистика о платёжеспособности клиентов. На их основе мы ответим на следующие вопросы:\n",
    "1. Есть ли зависимость между количеством детей и возвратом кредита в срок?\n",
    "2. Есть ли зависимость между семейным положением и возвратом кредита в срок?\n",
    "3. Есть ли зависимость между уровнем дохода и возвратом кредита в срок?\n",
    "4. Как разные цели кредита влияют на его возврат в срок?\n",
    "\n",
    "**Ход исследования**\n",
    "\n",
    "Данные о поведении пользователей мы получаем из файла `/datasets/data.csv`. О качестве данных ничего не известно. Поэтому перед проверкой гипотез понадобится обзор данных. \n",
    "\n",
    "Мы проверим данные на ошибки и оценим их влияние на исследование. Затем, на этапе предобработки мы поищем возможность исправить самые критичные ошибки данных.\n",
    " \n",
    "Таким образом, исследование пройдёт в три этапа:\n",
    " 1. [Обзор данных.](#explore) \n",
    " 2. [Предобработка данных.](#preprocessing)\n",
    " 3. [Ответы на вопросы и выводы.](#conclusion)"
   ]
  },
  {
   "cell_type": "markdown",
   "id": "fbb8c2c2",
   "metadata": {},
   "source": [
    "## Шаг 1. Обзор данных <a id='explore'></a>\n",
    "Откроем файл с данными и посмотрим на общую информацию и состав данных."
   ]
  },
  {
   "cell_type": "code",
   "execution_count": 1,
   "id": "7c53cd58",
   "metadata": {},
   "outputs": [],
   "source": [
    "# импорт библиотек\n",
    "import pandas as pd\n",
    "import os\n",
    "import numpy as np"
   ]
  },
  {
   "cell_type": "code",
   "execution_count": 2,
   "id": "6ca23613",
   "metadata": {},
   "outputs": [
    {
     "data": {
      "text/html": [
       "<div>\n",
       "<style scoped>\n",
       "    .dataframe tbody tr th:only-of-type {\n",
       "        vertical-align: middle;\n",
       "    }\n",
       "\n",
       "    .dataframe tbody tr th {\n",
       "        vertical-align: top;\n",
       "    }\n",
       "\n",
       "    .dataframe thead th {\n",
       "        text-align: right;\n",
       "    }\n",
       "</style>\n",
       "<table border=\"1\" class=\"dataframe\">\n",
       "  <thead>\n",
       "    <tr style=\"text-align: right;\">\n",
       "      <th></th>\n",
       "      <th>children</th>\n",
       "      <th>days_employed</th>\n",
       "      <th>dob_years</th>\n",
       "      <th>education</th>\n",
       "      <th>education_id</th>\n",
       "      <th>family_status</th>\n",
       "      <th>family_status_id</th>\n",
       "      <th>gender</th>\n",
       "      <th>income_type</th>\n",
       "      <th>debt</th>\n",
       "      <th>total_income</th>\n",
       "      <th>purpose</th>\n",
       "    </tr>\n",
       "  </thead>\n",
       "  <tbody>\n",
       "    <tr>\n",
       "      <th>0</th>\n",
       "      <td>1</td>\n",
       "      <td>-8437.673028</td>\n",
       "      <td>42</td>\n",
       "      <td>высшее</td>\n",
       "      <td>0</td>\n",
       "      <td>женат / замужем</td>\n",
       "      <td>0</td>\n",
       "      <td>F</td>\n",
       "      <td>сотрудник</td>\n",
       "      <td>0</td>\n",
       "      <td>253875.639453</td>\n",
       "      <td>покупка жилья</td>\n",
       "    </tr>\n",
       "    <tr>\n",
       "      <th>1</th>\n",
       "      <td>1</td>\n",
       "      <td>-4024.803754</td>\n",
       "      <td>36</td>\n",
       "      <td>среднее</td>\n",
       "      <td>1</td>\n",
       "      <td>женат / замужем</td>\n",
       "      <td>0</td>\n",
       "      <td>F</td>\n",
       "      <td>сотрудник</td>\n",
       "      <td>0</td>\n",
       "      <td>112080.014102</td>\n",
       "      <td>приобретение автомобиля</td>\n",
       "    </tr>\n",
       "    <tr>\n",
       "      <th>2</th>\n",
       "      <td>0</td>\n",
       "      <td>-5623.422610</td>\n",
       "      <td>33</td>\n",
       "      <td>Среднее</td>\n",
       "      <td>1</td>\n",
       "      <td>женат / замужем</td>\n",
       "      <td>0</td>\n",
       "      <td>M</td>\n",
       "      <td>сотрудник</td>\n",
       "      <td>0</td>\n",
       "      <td>145885.952297</td>\n",
       "      <td>покупка жилья</td>\n",
       "    </tr>\n",
       "    <tr>\n",
       "      <th>3</th>\n",
       "      <td>3</td>\n",
       "      <td>-4124.747207</td>\n",
       "      <td>32</td>\n",
       "      <td>среднее</td>\n",
       "      <td>1</td>\n",
       "      <td>женат / замужем</td>\n",
       "      <td>0</td>\n",
       "      <td>M</td>\n",
       "      <td>сотрудник</td>\n",
       "      <td>0</td>\n",
       "      <td>267628.550329</td>\n",
       "      <td>дополнительное образование</td>\n",
       "    </tr>\n",
       "    <tr>\n",
       "      <th>4</th>\n",
       "      <td>0</td>\n",
       "      <td>340266.072047</td>\n",
       "      <td>53</td>\n",
       "      <td>среднее</td>\n",
       "      <td>1</td>\n",
       "      <td>гражданский брак</td>\n",
       "      <td>1</td>\n",
       "      <td>F</td>\n",
       "      <td>пенсионер</td>\n",
       "      <td>0</td>\n",
       "      <td>158616.077870</td>\n",
       "      <td>сыграть свадьбу</td>\n",
       "    </tr>\n",
       "    <tr>\n",
       "      <th>5</th>\n",
       "      <td>0</td>\n",
       "      <td>-926.185831</td>\n",
       "      <td>27</td>\n",
       "      <td>высшее</td>\n",
       "      <td>0</td>\n",
       "      <td>гражданский брак</td>\n",
       "      <td>1</td>\n",
       "      <td>M</td>\n",
       "      <td>компаньон</td>\n",
       "      <td>0</td>\n",
       "      <td>255763.565419</td>\n",
       "      <td>покупка жилья</td>\n",
       "    </tr>\n",
       "    <tr>\n",
       "      <th>6</th>\n",
       "      <td>0</td>\n",
       "      <td>-2879.202052</td>\n",
       "      <td>43</td>\n",
       "      <td>высшее</td>\n",
       "      <td>0</td>\n",
       "      <td>женат / замужем</td>\n",
       "      <td>0</td>\n",
       "      <td>F</td>\n",
       "      <td>компаньон</td>\n",
       "      <td>0</td>\n",
       "      <td>240525.971920</td>\n",
       "      <td>операции с жильем</td>\n",
       "    </tr>\n",
       "    <tr>\n",
       "      <th>7</th>\n",
       "      <td>0</td>\n",
       "      <td>-152.779569</td>\n",
       "      <td>50</td>\n",
       "      <td>СРЕДНЕЕ</td>\n",
       "      <td>1</td>\n",
       "      <td>женат / замужем</td>\n",
       "      <td>0</td>\n",
       "      <td>M</td>\n",
       "      <td>сотрудник</td>\n",
       "      <td>0</td>\n",
       "      <td>135823.934197</td>\n",
       "      <td>образование</td>\n",
       "    </tr>\n",
       "    <tr>\n",
       "      <th>8</th>\n",
       "      <td>2</td>\n",
       "      <td>-6929.865299</td>\n",
       "      <td>35</td>\n",
       "      <td>ВЫСШЕЕ</td>\n",
       "      <td>0</td>\n",
       "      <td>гражданский брак</td>\n",
       "      <td>1</td>\n",
       "      <td>F</td>\n",
       "      <td>сотрудник</td>\n",
       "      <td>0</td>\n",
       "      <td>95856.832424</td>\n",
       "      <td>на проведение свадьбы</td>\n",
       "    </tr>\n",
       "    <tr>\n",
       "      <th>9</th>\n",
       "      <td>0</td>\n",
       "      <td>-2188.756445</td>\n",
       "      <td>41</td>\n",
       "      <td>среднее</td>\n",
       "      <td>1</td>\n",
       "      <td>женат / замужем</td>\n",
       "      <td>0</td>\n",
       "      <td>M</td>\n",
       "      <td>сотрудник</td>\n",
       "      <td>0</td>\n",
       "      <td>144425.938277</td>\n",
       "      <td>покупка жилья для семьи</td>\n",
       "    </tr>\n",
       "  </tbody>\n",
       "</table>\n",
       "</div>"
      ],
      "text/plain": [
       "   children  days_employed  dob_years education  education_id  \\\n",
       "0         1   -8437.673028         42    высшее             0   \n",
       "1         1   -4024.803754         36   среднее             1   \n",
       "2         0   -5623.422610         33   Среднее             1   \n",
       "3         3   -4124.747207         32   среднее             1   \n",
       "4         0  340266.072047         53   среднее             1   \n",
       "5         0    -926.185831         27    высшее             0   \n",
       "6         0   -2879.202052         43    высшее             0   \n",
       "7         0    -152.779569         50   СРЕДНЕЕ             1   \n",
       "8         2   -6929.865299         35    ВЫСШЕЕ             0   \n",
       "9         0   -2188.756445         41   среднее             1   \n",
       "\n",
       "      family_status  family_status_id gender income_type  debt   total_income  \\\n",
       "0   женат / замужем                 0      F   сотрудник     0  253875.639453   \n",
       "1   женат / замужем                 0      F   сотрудник     0  112080.014102   \n",
       "2   женат / замужем                 0      M   сотрудник     0  145885.952297   \n",
       "3   женат / замужем                 0      M   сотрудник     0  267628.550329   \n",
       "4  гражданский брак                 1      F   пенсионер     0  158616.077870   \n",
       "5  гражданский брак                 1      M   компаньон     0  255763.565419   \n",
       "6   женат / замужем                 0      F   компаньон     0  240525.971920   \n",
       "7   женат / замужем                 0      M   сотрудник     0  135823.934197   \n",
       "8  гражданский брак                 1      F   сотрудник     0   95856.832424   \n",
       "9   женат / замужем                 0      M   сотрудник     0  144425.938277   \n",
       "\n",
       "                      purpose  \n",
       "0               покупка жилья  \n",
       "1     приобретение автомобиля  \n",
       "2               покупка жилья  \n",
       "3  дополнительное образование  \n",
       "4             сыграть свадьбу  \n",
       "5               покупка жилья  \n",
       "6           операции с жильем  \n",
       "7                 образование  \n",
       "8       на проведение свадьбы  \n",
       "9     покупка жилья для семьи  "
      ]
     },
     "execution_count": 2,
     "metadata": {},
     "output_type": "execute_result"
    }
   ],
   "source": [
    "# проверка на путь\n",
    "if os.path.exists('/datasets/data.csv'):\n",
    "    path = '/datasets/'\n",
    "else:\n",
    "    path = './'\n",
    "    \n",
    "# загружаем датасет в df\n",
    "df = pd.read_csv(path+'data.csv')\n",
    "\n",
    "# проверка загрузки данных и отображение первых 10 строк\n",
    "df.head(10)"
   ]
  },
  {
   "cell_type": "code",
   "execution_count": 3,
   "id": "85e09a1c",
   "metadata": {},
   "outputs": [
    {
     "data": {
      "text/html": [
       "<div>\n",
       "<style scoped>\n",
       "    .dataframe tbody tr th:only-of-type {\n",
       "        vertical-align: middle;\n",
       "    }\n",
       "\n",
       "    .dataframe tbody tr th {\n",
       "        vertical-align: top;\n",
       "    }\n",
       "\n",
       "    .dataframe thead th {\n",
       "        text-align: right;\n",
       "    }\n",
       "</style>\n",
       "<table border=\"1\" class=\"dataframe\">\n",
       "  <thead>\n",
       "    <tr style=\"text-align: right;\">\n",
       "      <th></th>\n",
       "      <th>children</th>\n",
       "      <th>days_employed</th>\n",
       "      <th>dob_years</th>\n",
       "      <th>education</th>\n",
       "      <th>education_id</th>\n",
       "      <th>family_status</th>\n",
       "      <th>family_status_id</th>\n",
       "      <th>gender</th>\n",
       "      <th>income_type</th>\n",
       "      <th>debt</th>\n",
       "      <th>total_income</th>\n",
       "      <th>purpose</th>\n",
       "    </tr>\n",
       "  </thead>\n",
       "  <tbody>\n",
       "    <tr>\n",
       "      <th>423</th>\n",
       "      <td>0</td>\n",
       "      <td>-191.167760</td>\n",
       "      <td>56</td>\n",
       "      <td>среднее</td>\n",
       "      <td>1</td>\n",
       "      <td>женат / замужем</td>\n",
       "      <td>0</td>\n",
       "      <td>M</td>\n",
       "      <td>сотрудник</td>\n",
       "      <td>0</td>\n",
       "      <td>138653.748793</td>\n",
       "      <td>автомобили</td>\n",
       "    </tr>\n",
       "    <tr>\n",
       "      <th>3522</th>\n",
       "      <td>0</td>\n",
       "      <td>-2319.817259</td>\n",
       "      <td>58</td>\n",
       "      <td>среднее</td>\n",
       "      <td>1</td>\n",
       "      <td>Не женат / не замужем</td>\n",
       "      <td>4</td>\n",
       "      <td>F</td>\n",
       "      <td>сотрудник</td>\n",
       "      <td>0</td>\n",
       "      <td>123152.627177</td>\n",
       "      <td>покупка жилья</td>\n",
       "    </tr>\n",
       "    <tr>\n",
       "      <th>8760</th>\n",
       "      <td>1</td>\n",
       "      <td>-2990.578297</td>\n",
       "      <td>34</td>\n",
       "      <td>высшее</td>\n",
       "      <td>0</td>\n",
       "      <td>гражданский брак</td>\n",
       "      <td>1</td>\n",
       "      <td>M</td>\n",
       "      <td>компаньон</td>\n",
       "      <td>0</td>\n",
       "      <td>232380.737167</td>\n",
       "      <td>свадьба</td>\n",
       "    </tr>\n",
       "    <tr>\n",
       "      <th>20695</th>\n",
       "      <td>0</td>\n",
       "      <td>-926.209452</td>\n",
       "      <td>28</td>\n",
       "      <td>среднее</td>\n",
       "      <td>1</td>\n",
       "      <td>Не женат / не замужем</td>\n",
       "      <td>4</td>\n",
       "      <td>F</td>\n",
       "      <td>сотрудник</td>\n",
       "      <td>0</td>\n",
       "      <td>210617.086601</td>\n",
       "      <td>получение высшего образования</td>\n",
       "    </tr>\n",
       "    <tr>\n",
       "      <th>4351</th>\n",
       "      <td>0</td>\n",
       "      <td>-2524.302106</td>\n",
       "      <td>42</td>\n",
       "      <td>СРЕДНЕЕ</td>\n",
       "      <td>1</td>\n",
       "      <td>женат / замужем</td>\n",
       "      <td>0</td>\n",
       "      <td>F</td>\n",
       "      <td>сотрудник</td>\n",
       "      <td>0</td>\n",
       "      <td>78487.540219</td>\n",
       "      <td>сделка с автомобилем</td>\n",
       "    </tr>\n",
       "    <tr>\n",
       "      <th>3002</th>\n",
       "      <td>0</td>\n",
       "      <td>NaN</td>\n",
       "      <td>28</td>\n",
       "      <td>высшее</td>\n",
       "      <td>0</td>\n",
       "      <td>женат / замужем</td>\n",
       "      <td>0</td>\n",
       "      <td>M</td>\n",
       "      <td>компаньон</td>\n",
       "      <td>0</td>\n",
       "      <td>NaN</td>\n",
       "      <td>покупка жилой недвижимости</td>\n",
       "    </tr>\n",
       "    <tr>\n",
       "      <th>17306</th>\n",
       "      <td>0</td>\n",
       "      <td>-5000.830630</td>\n",
       "      <td>0</td>\n",
       "      <td>среднее</td>\n",
       "      <td>1</td>\n",
       "      <td>гражданский брак</td>\n",
       "      <td>1</td>\n",
       "      <td>F</td>\n",
       "      <td>компаньон</td>\n",
       "      <td>0</td>\n",
       "      <td>83019.106740</td>\n",
       "      <td>свадьба</td>\n",
       "    </tr>\n",
       "    <tr>\n",
       "      <th>2830</th>\n",
       "      <td>0</td>\n",
       "      <td>-574.995923</td>\n",
       "      <td>40</td>\n",
       "      <td>среднее</td>\n",
       "      <td>1</td>\n",
       "      <td>женат / замужем</td>\n",
       "      <td>0</td>\n",
       "      <td>F</td>\n",
       "      <td>сотрудник</td>\n",
       "      <td>0</td>\n",
       "      <td>161158.806308</td>\n",
       "      <td>автомобили</td>\n",
       "    </tr>\n",
       "    <tr>\n",
       "      <th>14822</th>\n",
       "      <td>2</td>\n",
       "      <td>NaN</td>\n",
       "      <td>33</td>\n",
       "      <td>среднее</td>\n",
       "      <td>1</td>\n",
       "      <td>женат / замужем</td>\n",
       "      <td>0</td>\n",
       "      <td>F</td>\n",
       "      <td>сотрудник</td>\n",
       "      <td>0</td>\n",
       "      <td>NaN</td>\n",
       "      <td>заняться образованием</td>\n",
       "    </tr>\n",
       "    <tr>\n",
       "      <th>10347</th>\n",
       "      <td>1</td>\n",
       "      <td>-713.140231</td>\n",
       "      <td>48</td>\n",
       "      <td>среднее</td>\n",
       "      <td>1</td>\n",
       "      <td>женат / замужем</td>\n",
       "      <td>0</td>\n",
       "      <td>M</td>\n",
       "      <td>компаньон</td>\n",
       "      <td>0</td>\n",
       "      <td>177474.885995</td>\n",
       "      <td>ремонт жилью</td>\n",
       "    </tr>\n",
       "  </tbody>\n",
       "</table>\n",
       "</div>"
      ],
      "text/plain": [
       "       children  days_employed  dob_years education  education_id  \\\n",
       "423           0    -191.167760         56   среднее             1   \n",
       "3522          0   -2319.817259         58   среднее             1   \n",
       "8760          1   -2990.578297         34    высшее             0   \n",
       "20695         0    -926.209452         28   среднее             1   \n",
       "4351          0   -2524.302106         42   СРЕДНЕЕ             1   \n",
       "3002          0            NaN         28    высшее             0   \n",
       "17306         0   -5000.830630          0   среднее             1   \n",
       "2830          0    -574.995923         40   среднее             1   \n",
       "14822         2            NaN         33   среднее             1   \n",
       "10347         1    -713.140231         48   среднее             1   \n",
       "\n",
       "               family_status  family_status_id gender income_type  debt  \\\n",
       "423          женат / замужем                 0      M   сотрудник     0   \n",
       "3522   Не женат / не замужем                 4      F   сотрудник     0   \n",
       "8760        гражданский брак                 1      M   компаньон     0   \n",
       "20695  Не женат / не замужем                 4      F   сотрудник     0   \n",
       "4351         женат / замужем                 0      F   сотрудник     0   \n",
       "3002         женат / замужем                 0      M   компаньон     0   \n",
       "17306       гражданский брак                 1      F   компаньон     0   \n",
       "2830         женат / замужем                 0      F   сотрудник     0   \n",
       "14822        женат / замужем                 0      F   сотрудник     0   \n",
       "10347        женат / замужем                 0      M   компаньон     0   \n",
       "\n",
       "        total_income                        purpose  \n",
       "423    138653.748793                     автомобили  \n",
       "3522   123152.627177                  покупка жилья  \n",
       "8760   232380.737167                        свадьба  \n",
       "20695  210617.086601  получение высшего образования  \n",
       "4351    78487.540219           сделка с автомобилем  \n",
       "3002             NaN     покупка жилой недвижимости  \n",
       "17306   83019.106740                        свадьба  \n",
       "2830   161158.806308                     автомобили  \n",
       "14822            NaN          заняться образованием  \n",
       "10347  177474.885995                   ремонт жилью  "
      ]
     },
     "execution_count": 3,
     "metadata": {},
     "output_type": "execute_result"
    }
   ],
   "source": [
    "# также посмотрим на случайную выборку данных, т.к. в начале и в конце таблицы \n",
    "# данные могут сильно отличаться от всего набора\n",
    "# получение случайных 10 строк таблицы df\n",
    "df.sample(10, random_state=42)"
   ]
  },
  {
   "cell_type": "code",
   "execution_count": 4,
   "id": "97678757",
   "metadata": {},
   "outputs": [
    {
     "name": "stdout",
     "output_type": "stream",
     "text": [
      "<class 'pandas.core.frame.DataFrame'>\n",
      "RangeIndex: 21525 entries, 0 to 21524\n",
      "Data columns (total 12 columns):\n",
      " #   Column            Non-Null Count  Dtype  \n",
      "---  ------            --------------  -----  \n",
      " 0   children          21525 non-null  int64  \n",
      " 1   days_employed     19351 non-null  float64\n",
      " 2   dob_years         21525 non-null  int64  \n",
      " 3   education         21525 non-null  object \n",
      " 4   education_id      21525 non-null  int64  \n",
      " 5   family_status     21525 non-null  object \n",
      " 6   family_status_id  21525 non-null  int64  \n",
      " 7   gender            21525 non-null  object \n",
      " 8   income_type       21525 non-null  object \n",
      " 9   debt              21525 non-null  int64  \n",
      " 10  total_income      19351 non-null  float64\n",
      " 11  purpose           21525 non-null  object \n",
      "dtypes: float64(2), int64(5), object(5)\n",
      "memory usage: 2.0+ MB\n"
     ]
    }
   ],
   "source": [
    "# получение общей информации о данных в таблице df\n",
    "df.info()"
   ]
  },
  {
   "cell_type": "markdown",
   "id": "af11e2b8",
   "metadata": {},
   "source": [
    "Итак, в таблице 12 столбцов. \n",
    "\n",
    "Согласно документации к данным:\n",
    "\n",
    "* `children` — количество детей в семье\n",
    "* `days_employed` — общий трудовой стаж в днях \n",
    "* `dob_years` — возраст клиента в годах\n",
    "* `education` — уровень образования клиента\n",
    "* `education_id` — идентификатор уровня образования\n",
    "* `family_status` — семейное положение\n",
    "* `family_status_id` — идентификатор семейного положения\n",
    "* `gender` — пол клиента\n",
    "* `income_type` — тип занятости\n",
    "* `debt` — имел ли задолженность по возврату кредитов\n",
    "* `total_income` — ежемесячный доход\n",
    "* `purpose` — цель получения кредита\n",
    "\n",
    "Всего 21525 строк, но кол-во значений в столбцах различается:\n",
    "* `days_employed`     19351\n",
    "* `total_income`      19351\n",
    "\n",
    "Значит, в этих столбцах пропущены значения, обработаем эти пропуски.\n",
    "\n",
    "Также из первых и случайных 10-ти строк видно, что есть ошибки в данных столбцов:\n",
    "* `days_employed` - отрицательные значения\n",
    "* `education` - разный регистр\n",
    "\n",
    "Скорее всего, это не все ошибки. Внимательно изучим каждый слолбец и проверим, можем ли мы исправить ошибки.\n"
   ]
  },
  {
   "cell_type": "markdown",
   "id": "a99fd600",
   "metadata": {},
   "source": [
    "Выводы\n",
    "\n",
    "В каждой строке таблицы — данные о заемщике. Большая часть колонок описывает заемщика: возраст, стаж, образование, кол-во детей, доход, семейное положение. Две колонки содержат информацию о кредите: задолженность и цель. Еще две колонки являются инетификаторами других колонок: семейного положения и образования.\n",
    "\n",
    "Предварительно можно утверждать, что, данных достаточно для ответа на поставленные вопросы. Но встречаются пропуски и ошибки в данных, а две колонки дублируют другие по сути значений.\n",
    "\n",
    "Чтобы данные были более точные, нужно устранить проблемы в данных."
   ]
  },
  {
   "cell_type": "markdown",
   "id": "af8ca47c",
   "metadata": {},
   "source": [
    "## Шаг 2. Предобработка данных <a id='preprocessing'></a>\n",
    "### Шаг 2.1 Заполнение пропусков\n",
    "\n",
    "Посмотрим, сколько пропусков есть в таблице и в каких колонках."
   ]
  },
  {
   "cell_type": "code",
   "execution_count": 5,
   "id": "3f016d5e",
   "metadata": {},
   "outputs": [
    {
     "data": {
      "text/html": [
       "<style type=\"text/css\">\n",
       "#T_ad844_row0_col0, #T_ad844_row2_col0, #T_ad844_row3_col0, #T_ad844_row4_col0, #T_ad844_row5_col0, #T_ad844_row6_col0, #T_ad844_row7_col0, #T_ad844_row8_col0, #T_ad844_row9_col0, #T_ad844_row11_col0 {\n",
       "  background-color: #0000ff;\n",
       "  color: #f1f1f1;\n",
       "}\n",
       "#T_ad844_row1_col0, #T_ad844_row10_col0 {\n",
       "  background-color: #ff0000;\n",
       "  color: #f1f1f1;\n",
       "}\n",
       "</style>\n",
       "<table id=\"T_ad844_\">\n",
       "  <thead>\n",
       "    <tr>\n",
       "      <th class=\"blank level0\" >&nbsp;</th>\n",
       "      <th class=\"col_heading level0 col0\" >NaNs, %</th>\n",
       "    </tr>\n",
       "  </thead>\n",
       "  <tbody>\n",
       "    <tr>\n",
       "      <th id=\"T_ad844_level0_row0\" class=\"row_heading level0 row0\" >children</th>\n",
       "      <td id=\"T_ad844_row0_col0\" class=\"data row0 col0\" >0.00</td>\n",
       "    </tr>\n",
       "    <tr>\n",
       "      <th id=\"T_ad844_level0_row1\" class=\"row_heading level0 row1\" >days_employed</th>\n",
       "      <td id=\"T_ad844_row1_col0\" class=\"data row1 col0\" >10.10</td>\n",
       "    </tr>\n",
       "    <tr>\n",
       "      <th id=\"T_ad844_level0_row2\" class=\"row_heading level0 row2\" >dob_years</th>\n",
       "      <td id=\"T_ad844_row2_col0\" class=\"data row2 col0\" >0.00</td>\n",
       "    </tr>\n",
       "    <tr>\n",
       "      <th id=\"T_ad844_level0_row3\" class=\"row_heading level0 row3\" >education</th>\n",
       "      <td id=\"T_ad844_row3_col0\" class=\"data row3 col0\" >0.00</td>\n",
       "    </tr>\n",
       "    <tr>\n",
       "      <th id=\"T_ad844_level0_row4\" class=\"row_heading level0 row4\" >education_id</th>\n",
       "      <td id=\"T_ad844_row4_col0\" class=\"data row4 col0\" >0.00</td>\n",
       "    </tr>\n",
       "    <tr>\n",
       "      <th id=\"T_ad844_level0_row5\" class=\"row_heading level0 row5\" >family_status</th>\n",
       "      <td id=\"T_ad844_row5_col0\" class=\"data row5 col0\" >0.00</td>\n",
       "    </tr>\n",
       "    <tr>\n",
       "      <th id=\"T_ad844_level0_row6\" class=\"row_heading level0 row6\" >family_status_id</th>\n",
       "      <td id=\"T_ad844_row6_col0\" class=\"data row6 col0\" >0.00</td>\n",
       "    </tr>\n",
       "    <tr>\n",
       "      <th id=\"T_ad844_level0_row7\" class=\"row_heading level0 row7\" >gender</th>\n",
       "      <td id=\"T_ad844_row7_col0\" class=\"data row7 col0\" >0.00</td>\n",
       "    </tr>\n",
       "    <tr>\n",
       "      <th id=\"T_ad844_level0_row8\" class=\"row_heading level0 row8\" >income_type</th>\n",
       "      <td id=\"T_ad844_row8_col0\" class=\"data row8 col0\" >0.00</td>\n",
       "    </tr>\n",
       "    <tr>\n",
       "      <th id=\"T_ad844_level0_row9\" class=\"row_heading level0 row9\" >debt</th>\n",
       "      <td id=\"T_ad844_row9_col0\" class=\"data row9 col0\" >0.00</td>\n",
       "    </tr>\n",
       "    <tr>\n",
       "      <th id=\"T_ad844_level0_row10\" class=\"row_heading level0 row10\" >total_income</th>\n",
       "      <td id=\"T_ad844_row10_col0\" class=\"data row10 col0\" >10.10</td>\n",
       "    </tr>\n",
       "    <tr>\n",
       "      <th id=\"T_ad844_level0_row11\" class=\"row_heading level0 row11\" >purpose</th>\n",
       "      <td id=\"T_ad844_row11_col0\" class=\"data row11 col0\" >0.00</td>\n",
       "    </tr>\n",
       "  </tbody>\n",
       "</table>\n"
      ],
      "text/plain": [
       "<pandas.io.formats.style.Styler at 0x1e0766dc730>"
      ]
     },
     "metadata": {},
     "output_type": "display_data"
    },
    {
     "data": {
      "text/plain": [
       "children               0\n",
       "days_employed       2174\n",
       "dob_years              0\n",
       "education              0\n",
       "education_id           0\n",
       "family_status          0\n",
       "family_status_id       0\n",
       "gender                 0\n",
       "income_type            0\n",
       "debt                   0\n",
       "total_income        2174\n",
       "purpose                0\n",
       "dtype: int64"
      ]
     },
     "execution_count": 5,
     "metadata": {},
     "output_type": "execute_result"
    }
   ],
   "source": [
    "# подсчет пропусков и визуализация процентного соотношения пропусков\n",
    "display(pd.DataFrame(round((df.isna().mean()*100),2), columns=['NaNs, %']).style.format(\n",
    "    '{:.2f}').background_gradient('bwr'))\n",
    "df.isna().sum()"
   ]
  },
  {
   "cell_type": "markdown",
   "id": "d26d4644",
   "metadata": {},
   "source": [
    "В двух столбцах есть пропуски:\n",
    "* `days_employed` - 2174\n",
    "* `total_income` - 2174\n",
    "\n",
    "2174 это 10% от всего набора данных 21525. Достаточно много пропусков.\n",
    "\n",
    "Данные `days_employed` - трудовой стаж в днях не участвует в исследовании. А `total_income` - ежемесячный доход влияет на один из поставленных вопросов.\n",
    "\n",
    "На практике было бы правильно установить причину пропусков и восстановить данные. Такой возможности нет в учебном проекте. Придётся:\n",
    "\n",
    "- заполнить и эти пропуски подходящими значениями,\n",
    "- оценить, насколько они повредят расчётам.\n",
    "\n",
    "Из общих данных мы видим, что обе колонки в формате `float64` и содержат количественные переменные. Для того, чтобы заполнить пропуски, посмотрим на крайние значения в этих колонках."
   ]
  },
  {
   "cell_type": "code",
   "execution_count": 6,
   "id": "37f82e50",
   "metadata": {},
   "outputs": [
    {
     "data": {
      "text/plain": [
       "array([-18388.94990057, -17615.56326563, -16593.47281726, ...,\n",
       "       401715.81174889, 401755.40047533,             nan])"
      ]
     },
     "execution_count": 6,
     "metadata": {},
     "output_type": "execute_result"
    }
   ],
   "source": [
    "# выводим уникальные значения days_values\n",
    "df.sort_values(by='days_employed')['days_employed'].unique()"
   ]
  },
  {
   "cell_type": "code",
   "execution_count": 7,
   "id": "a519e6a2",
   "metadata": {},
   "outputs": [
    {
     "data": {
      "text/plain": [
       "array([  20667.26379327,   21205.28056622,   21367.64835649, ...,\n",
       "       2200852.2102589 , 2265604.02872274,              nan])"
      ]
     },
     "execution_count": 7,
     "metadata": {},
     "output_type": "execute_result"
    }
   ],
   "source": [
    "# выводим уникальные значения total_income\n",
    "df.sort_values(by='total_income')['total_income'].unique()"
   ]
  },
  {
   "cell_type": "markdown",
   "id": "0d074be5",
   "metadata": {},
   "source": [
    "Т.к. в указанных столбцах количественные перменные, их можно заполнить средним или медианным значением. В столбце `days_employed` видим разброс значений от отрицательных, до положительных чисел, заполнение пропусков приведет к искажению данных. А в столбце `total_income` значения положительные и данные от 20-ти тысяч рублей до 2-х миллионов выглядят реальными. Но разброс очень большой, поэтому заполнение медианой меньше искозит данные, чем заполнение средним значением.\n",
    "\n",
    "Можно предположить, что пропуски в колонке с ежемесячным доходом возникли из-за того, что человек не работает. Проверим какие типы занятости у заемщиков с пропущенными значениями в в ежемесячном доходе."
   ]
  },
  {
   "cell_type": "code",
   "execution_count": 8,
   "id": "6849ecf7",
   "metadata": {},
   "outputs": [
    {
     "data": {
      "text/plain": [
       "array(['пенсионер', 'госслужащий', 'компаньон', 'сотрудник',\n",
       "       'предприниматель'], dtype=object)"
      ]
     },
     "execution_count": 8,
     "metadata": {},
     "output_type": "execute_result"
    }
   ],
   "source": [
    "# фильтруем значения с NaN в колонке total_income и выведим уникальные значения для колонки income_type\n",
    "df[df['total_income'].isna()]['income_type'].unique()"
   ]
  },
  {
   "cell_type": "markdown",
   "id": "6f7fb0d9",
   "metadata": {},
   "source": [
    "Видим, что типы занятости не предполагают нулевого дохода. Значит это техническая ошибка или пропущенные данные при заполнении. Заполним пропуски в столбце `total_income` медианным значением. Чтобы данные были ближе к истинным, вычислим медиану для каждой группы по типу занятости и уровню образования.\n",
    "\n",
    "Колонка `income_type` участвует в исследовании. Поэтому для оценки искажения результатов изменением данных, отметим в каких строчках были внесены изменения в новой колонке `flag_change_income` "
   ]
  },
  {
   "cell_type": "code",
   "execution_count": 9,
   "id": "28e491b1",
   "metadata": {},
   "outputs": [
    {
     "data": {
      "text/html": [
       "<div>\n",
       "<style scoped>\n",
       "    .dataframe tbody tr th:only-of-type {\n",
       "        vertical-align: middle;\n",
       "    }\n",
       "\n",
       "    .dataframe tbody tr th {\n",
       "        vertical-align: top;\n",
       "    }\n",
       "\n",
       "    .dataframe thead th {\n",
       "        text-align: right;\n",
       "    }\n",
       "</style>\n",
       "<table border=\"1\" class=\"dataframe\">\n",
       "  <thead>\n",
       "    <tr style=\"text-align: right;\">\n",
       "      <th></th>\n",
       "      <th>children</th>\n",
       "      <th>days_employed</th>\n",
       "      <th>dob_years</th>\n",
       "      <th>education</th>\n",
       "      <th>education_id</th>\n",
       "      <th>family_status</th>\n",
       "      <th>family_status_id</th>\n",
       "      <th>gender</th>\n",
       "      <th>income_type</th>\n",
       "      <th>debt</th>\n",
       "      <th>total_income</th>\n",
       "      <th>purpose</th>\n",
       "      <th>flag_change_income</th>\n",
       "    </tr>\n",
       "  </thead>\n",
       "  <tbody>\n",
       "    <tr>\n",
       "      <th>12</th>\n",
       "      <td>0</td>\n",
       "      <td>NaN</td>\n",
       "      <td>65</td>\n",
       "      <td>среднее</td>\n",
       "      <td>1</td>\n",
       "      <td>гражданский брак</td>\n",
       "      <td>1</td>\n",
       "      <td>M</td>\n",
       "      <td>пенсионер</td>\n",
       "      <td>0</td>\n",
       "      <td>NaN</td>\n",
       "      <td>сыграть свадьбу</td>\n",
       "      <td>1.0</td>\n",
       "    </tr>\n",
       "    <tr>\n",
       "      <th>26</th>\n",
       "      <td>0</td>\n",
       "      <td>NaN</td>\n",
       "      <td>41</td>\n",
       "      <td>среднее</td>\n",
       "      <td>1</td>\n",
       "      <td>женат / замужем</td>\n",
       "      <td>0</td>\n",
       "      <td>M</td>\n",
       "      <td>госслужащий</td>\n",
       "      <td>0</td>\n",
       "      <td>NaN</td>\n",
       "      <td>образование</td>\n",
       "      <td>1.0</td>\n",
       "    </tr>\n",
       "    <tr>\n",
       "      <th>29</th>\n",
       "      <td>0</td>\n",
       "      <td>NaN</td>\n",
       "      <td>63</td>\n",
       "      <td>среднее</td>\n",
       "      <td>1</td>\n",
       "      <td>Не женат / не замужем</td>\n",
       "      <td>4</td>\n",
       "      <td>F</td>\n",
       "      <td>пенсионер</td>\n",
       "      <td>0</td>\n",
       "      <td>NaN</td>\n",
       "      <td>строительство жилой недвижимости</td>\n",
       "      <td>1.0</td>\n",
       "    </tr>\n",
       "    <tr>\n",
       "      <th>41</th>\n",
       "      <td>0</td>\n",
       "      <td>NaN</td>\n",
       "      <td>50</td>\n",
       "      <td>среднее</td>\n",
       "      <td>1</td>\n",
       "      <td>женат / замужем</td>\n",
       "      <td>0</td>\n",
       "      <td>F</td>\n",
       "      <td>госслужащий</td>\n",
       "      <td>0</td>\n",
       "      <td>NaN</td>\n",
       "      <td>сделка с подержанным автомобилем</td>\n",
       "      <td>1.0</td>\n",
       "    </tr>\n",
       "    <tr>\n",
       "      <th>55</th>\n",
       "      <td>0</td>\n",
       "      <td>NaN</td>\n",
       "      <td>54</td>\n",
       "      <td>среднее</td>\n",
       "      <td>1</td>\n",
       "      <td>гражданский брак</td>\n",
       "      <td>1</td>\n",
       "      <td>F</td>\n",
       "      <td>пенсионер</td>\n",
       "      <td>1</td>\n",
       "      <td>NaN</td>\n",
       "      <td>сыграть свадьбу</td>\n",
       "      <td>1.0</td>\n",
       "    </tr>\n",
       "    <tr>\n",
       "      <th>65</th>\n",
       "      <td>0</td>\n",
       "      <td>NaN</td>\n",
       "      <td>21</td>\n",
       "      <td>среднее</td>\n",
       "      <td>1</td>\n",
       "      <td>Не женат / не замужем</td>\n",
       "      <td>4</td>\n",
       "      <td>M</td>\n",
       "      <td>компаньон</td>\n",
       "      <td>0</td>\n",
       "      <td>NaN</td>\n",
       "      <td>операции с коммерческой недвижимостью</td>\n",
       "      <td>1.0</td>\n",
       "    </tr>\n",
       "    <tr>\n",
       "      <th>67</th>\n",
       "      <td>0</td>\n",
       "      <td>NaN</td>\n",
       "      <td>52</td>\n",
       "      <td>высшее</td>\n",
       "      <td>0</td>\n",
       "      <td>женат / замужем</td>\n",
       "      <td>0</td>\n",
       "      <td>F</td>\n",
       "      <td>пенсионер</td>\n",
       "      <td>0</td>\n",
       "      <td>NaN</td>\n",
       "      <td>покупка жилья для семьи</td>\n",
       "      <td>1.0</td>\n",
       "    </tr>\n",
       "    <tr>\n",
       "      <th>72</th>\n",
       "      <td>1</td>\n",
       "      <td>NaN</td>\n",
       "      <td>32</td>\n",
       "      <td>высшее</td>\n",
       "      <td>0</td>\n",
       "      <td>женат / замужем</td>\n",
       "      <td>0</td>\n",
       "      <td>M</td>\n",
       "      <td>госслужащий</td>\n",
       "      <td>0</td>\n",
       "      <td>NaN</td>\n",
       "      <td>операции с коммерческой недвижимостью</td>\n",
       "      <td>1.0</td>\n",
       "    </tr>\n",
       "    <tr>\n",
       "      <th>82</th>\n",
       "      <td>2</td>\n",
       "      <td>NaN</td>\n",
       "      <td>50</td>\n",
       "      <td>высшее</td>\n",
       "      <td>0</td>\n",
       "      <td>женат / замужем</td>\n",
       "      <td>0</td>\n",
       "      <td>F</td>\n",
       "      <td>сотрудник</td>\n",
       "      <td>0</td>\n",
       "      <td>NaN</td>\n",
       "      <td>жилье</td>\n",
       "      <td>1.0</td>\n",
       "    </tr>\n",
       "    <tr>\n",
       "      <th>83</th>\n",
       "      <td>0</td>\n",
       "      <td>NaN</td>\n",
       "      <td>52</td>\n",
       "      <td>среднее</td>\n",
       "      <td>1</td>\n",
       "      <td>женат / замужем</td>\n",
       "      <td>0</td>\n",
       "      <td>M</td>\n",
       "      <td>сотрудник</td>\n",
       "      <td>0</td>\n",
       "      <td>NaN</td>\n",
       "      <td>жилье</td>\n",
       "      <td>1.0</td>\n",
       "    </tr>\n",
       "  </tbody>\n",
       "</table>\n",
       "</div>"
      ],
      "text/plain": [
       "    children  days_employed  dob_years education  education_id  \\\n",
       "12         0            NaN         65   среднее             1   \n",
       "26         0            NaN         41   среднее             1   \n",
       "29         0            NaN         63   среднее             1   \n",
       "41         0            NaN         50   среднее             1   \n",
       "55         0            NaN         54   среднее             1   \n",
       "65         0            NaN         21   среднее             1   \n",
       "67         0            NaN         52    высшее             0   \n",
       "72         1            NaN         32    высшее             0   \n",
       "82         2            NaN         50    высшее             0   \n",
       "83         0            NaN         52   среднее             1   \n",
       "\n",
       "            family_status  family_status_id gender  income_type  debt  \\\n",
       "12       гражданский брак                 1      M    пенсионер     0   \n",
       "26        женат / замужем                 0      M  госслужащий     0   \n",
       "29  Не женат / не замужем                 4      F    пенсионер     0   \n",
       "41        женат / замужем                 0      F  госслужащий     0   \n",
       "55       гражданский брак                 1      F    пенсионер     1   \n",
       "65  Не женат / не замужем                 4      M    компаньон     0   \n",
       "67        женат / замужем                 0      F    пенсионер     0   \n",
       "72        женат / замужем                 0      M  госслужащий     0   \n",
       "82        женат / замужем                 0      F    сотрудник     0   \n",
       "83        женат / замужем                 0      M    сотрудник     0   \n",
       "\n",
       "    total_income                                purpose  flag_change_income  \n",
       "12           NaN                        сыграть свадьбу                 1.0  \n",
       "26           NaN                            образование                 1.0  \n",
       "29           NaN       строительство жилой недвижимости                 1.0  \n",
       "41           NaN       сделка с подержанным автомобилем                 1.0  \n",
       "55           NaN                        сыграть свадьбу                 1.0  \n",
       "65           NaN  операции с коммерческой недвижимостью                 1.0  \n",
       "67           NaN                покупка жилья для семьи                 1.0  \n",
       "72           NaN  операции с коммерческой недвижимостью                 1.0  \n",
       "82           NaN                                  жилье                 1.0  \n",
       "83           NaN                                  жилье                 1.0  "
      ]
     },
     "execution_count": 9,
     "metadata": {},
     "output_type": "execute_result"
    }
   ],
   "source": [
    "# отмечаем 1 в flag_change_income строки с пропущенными данными в total_income\n",
    "df.loc[df['total_income'].isna(),'flag_change_income']=1\n",
    "\n",
    "# смотрим первые 10 строчек с пропущенными данными в total_income\n",
    "df[df['total_income'].isna()].head(10)"
   ]
  },
  {
   "cell_type": "code",
   "execution_count": 10,
   "id": "3d979a70",
   "metadata": {},
   "outputs": [
    {
     "data": {
      "text/html": [
       "<div>\n",
       "<style scoped>\n",
       "    .dataframe tbody tr th:only-of-type {\n",
       "        vertical-align: middle;\n",
       "    }\n",
       "\n",
       "    .dataframe tbody tr th {\n",
       "        vertical-align: top;\n",
       "    }\n",
       "\n",
       "    .dataframe thead th {\n",
       "        text-align: right;\n",
       "    }\n",
       "</style>\n",
       "<table border=\"1\" class=\"dataframe\">\n",
       "  <thead>\n",
       "    <tr style=\"text-align: right;\">\n",
       "      <th></th>\n",
       "      <th>children</th>\n",
       "      <th>days_employed</th>\n",
       "      <th>dob_years</th>\n",
       "      <th>education</th>\n",
       "      <th>education_id</th>\n",
       "      <th>family_status</th>\n",
       "      <th>family_status_id</th>\n",
       "      <th>gender</th>\n",
       "      <th>income_type</th>\n",
       "      <th>debt</th>\n",
       "      <th>total_income</th>\n",
       "      <th>purpose</th>\n",
       "      <th>flag_change_income</th>\n",
       "    </tr>\n",
       "  </thead>\n",
       "  <tbody>\n",
       "    <tr>\n",
       "      <th>12</th>\n",
       "      <td>0</td>\n",
       "      <td>NaN</td>\n",
       "      <td>65</td>\n",
       "      <td>среднее</td>\n",
       "      <td>1</td>\n",
       "      <td>гражданский брак</td>\n",
       "      <td>1</td>\n",
       "      <td>M</td>\n",
       "      <td>пенсионер</td>\n",
       "      <td>0</td>\n",
       "      <td>114842.854099</td>\n",
       "      <td>сыграть свадьбу</td>\n",
       "      <td>1.0</td>\n",
       "    </tr>\n",
       "    <tr>\n",
       "      <th>26</th>\n",
       "      <td>0</td>\n",
       "      <td>NaN</td>\n",
       "      <td>41</td>\n",
       "      <td>среднее</td>\n",
       "      <td>1</td>\n",
       "      <td>женат / замужем</td>\n",
       "      <td>0</td>\n",
       "      <td>M</td>\n",
       "      <td>госслужащий</td>\n",
       "      <td>0</td>\n",
       "      <td>136652.970357</td>\n",
       "      <td>образование</td>\n",
       "      <td>1.0</td>\n",
       "    </tr>\n",
       "    <tr>\n",
       "      <th>29</th>\n",
       "      <td>0</td>\n",
       "      <td>NaN</td>\n",
       "      <td>63</td>\n",
       "      <td>среднее</td>\n",
       "      <td>1</td>\n",
       "      <td>Не женат / не замужем</td>\n",
       "      <td>4</td>\n",
       "      <td>F</td>\n",
       "      <td>пенсионер</td>\n",
       "      <td>0</td>\n",
       "      <td>114842.854099</td>\n",
       "      <td>строительство жилой недвижимости</td>\n",
       "      <td>1.0</td>\n",
       "    </tr>\n",
       "    <tr>\n",
       "      <th>41</th>\n",
       "      <td>0</td>\n",
       "      <td>NaN</td>\n",
       "      <td>50</td>\n",
       "      <td>среднее</td>\n",
       "      <td>1</td>\n",
       "      <td>женат / замужем</td>\n",
       "      <td>0</td>\n",
       "      <td>F</td>\n",
       "      <td>госслужащий</td>\n",
       "      <td>0</td>\n",
       "      <td>136652.970357</td>\n",
       "      <td>сделка с подержанным автомобилем</td>\n",
       "      <td>1.0</td>\n",
       "    </tr>\n",
       "    <tr>\n",
       "      <th>55</th>\n",
       "      <td>0</td>\n",
       "      <td>NaN</td>\n",
       "      <td>54</td>\n",
       "      <td>среднее</td>\n",
       "      <td>1</td>\n",
       "      <td>гражданский брак</td>\n",
       "      <td>1</td>\n",
       "      <td>F</td>\n",
       "      <td>пенсионер</td>\n",
       "      <td>1</td>\n",
       "      <td>114842.854099</td>\n",
       "      <td>сыграть свадьбу</td>\n",
       "      <td>1.0</td>\n",
       "    </tr>\n",
       "    <tr>\n",
       "      <th>...</th>\n",
       "      <td>...</td>\n",
       "      <td>...</td>\n",
       "      <td>...</td>\n",
       "      <td>...</td>\n",
       "      <td>...</td>\n",
       "      <td>...</td>\n",
       "      <td>...</td>\n",
       "      <td>...</td>\n",
       "      <td>...</td>\n",
       "      <td>...</td>\n",
       "      <td>...</td>\n",
       "      <td>...</td>\n",
       "      <td>...</td>\n",
       "    </tr>\n",
       "    <tr>\n",
       "      <th>21489</th>\n",
       "      <td>2</td>\n",
       "      <td>NaN</td>\n",
       "      <td>47</td>\n",
       "      <td>Среднее</td>\n",
       "      <td>1</td>\n",
       "      <td>женат / замужем</td>\n",
       "      <td>0</td>\n",
       "      <td>M</td>\n",
       "      <td>компаньон</td>\n",
       "      <td>0</td>\n",
       "      <td>159070.690289</td>\n",
       "      <td>сделка с автомобилем</td>\n",
       "      <td>1.0</td>\n",
       "    </tr>\n",
       "    <tr>\n",
       "      <th>21495</th>\n",
       "      <td>1</td>\n",
       "      <td>NaN</td>\n",
       "      <td>50</td>\n",
       "      <td>среднее</td>\n",
       "      <td>1</td>\n",
       "      <td>гражданский брак</td>\n",
       "      <td>1</td>\n",
       "      <td>F</td>\n",
       "      <td>сотрудник</td>\n",
       "      <td>0</td>\n",
       "      <td>136555.108821</td>\n",
       "      <td>свадьба</td>\n",
       "      <td>1.0</td>\n",
       "    </tr>\n",
       "    <tr>\n",
       "      <th>21497</th>\n",
       "      <td>0</td>\n",
       "      <td>NaN</td>\n",
       "      <td>48</td>\n",
       "      <td>ВЫСШЕЕ</td>\n",
       "      <td>0</td>\n",
       "      <td>женат / замужем</td>\n",
       "      <td>0</td>\n",
       "      <td>F</td>\n",
       "      <td>компаньон</td>\n",
       "      <td>0</td>\n",
       "      <td>201785.400018</td>\n",
       "      <td>строительство недвижимости</td>\n",
       "      <td>1.0</td>\n",
       "    </tr>\n",
       "    <tr>\n",
       "      <th>21502</th>\n",
       "      <td>1</td>\n",
       "      <td>NaN</td>\n",
       "      <td>42</td>\n",
       "      <td>среднее</td>\n",
       "      <td>1</td>\n",
       "      <td>женат / замужем</td>\n",
       "      <td>0</td>\n",
       "      <td>F</td>\n",
       "      <td>сотрудник</td>\n",
       "      <td>0</td>\n",
       "      <td>136555.108821</td>\n",
       "      <td>строительство жилой недвижимости</td>\n",
       "      <td>1.0</td>\n",
       "    </tr>\n",
       "    <tr>\n",
       "      <th>21510</th>\n",
       "      <td>2</td>\n",
       "      <td>NaN</td>\n",
       "      <td>28</td>\n",
       "      <td>среднее</td>\n",
       "      <td>1</td>\n",
       "      <td>женат / замужем</td>\n",
       "      <td>0</td>\n",
       "      <td>F</td>\n",
       "      <td>сотрудник</td>\n",
       "      <td>0</td>\n",
       "      <td>136555.108821</td>\n",
       "      <td>приобретение автомобиля</td>\n",
       "      <td>1.0</td>\n",
       "    </tr>\n",
       "  </tbody>\n",
       "</table>\n",
       "<p>2174 rows × 13 columns</p>\n",
       "</div>"
      ],
      "text/plain": [
       "       children  days_employed  dob_years education  education_id  \\\n",
       "12            0            NaN         65   среднее             1   \n",
       "26            0            NaN         41   среднее             1   \n",
       "29            0            NaN         63   среднее             1   \n",
       "41            0            NaN         50   среднее             1   \n",
       "55            0            NaN         54   среднее             1   \n",
       "...         ...            ...        ...       ...           ...   \n",
       "21489         2            NaN         47   Среднее             1   \n",
       "21495         1            NaN         50   среднее             1   \n",
       "21497         0            NaN         48    ВЫСШЕЕ             0   \n",
       "21502         1            NaN         42   среднее             1   \n",
       "21510         2            NaN         28   среднее             1   \n",
       "\n",
       "               family_status  family_status_id gender  income_type  debt  \\\n",
       "12          гражданский брак                 1      M    пенсионер     0   \n",
       "26           женат / замужем                 0      M  госслужащий     0   \n",
       "29     Не женат / не замужем                 4      F    пенсионер     0   \n",
       "41           женат / замужем                 0      F  госслужащий     0   \n",
       "55          гражданский брак                 1      F    пенсионер     1   \n",
       "...                      ...               ...    ...          ...   ...   \n",
       "21489        женат / замужем                 0      M    компаньон     0   \n",
       "21495       гражданский брак                 1      F    сотрудник     0   \n",
       "21497        женат / замужем                 0      F    компаньон     0   \n",
       "21502        женат / замужем                 0      F    сотрудник     0   \n",
       "21510        женат / замужем                 0      F    сотрудник     0   \n",
       "\n",
       "        total_income                           purpose  flag_change_income  \n",
       "12     114842.854099                   сыграть свадьбу                 1.0  \n",
       "26     136652.970357                       образование                 1.0  \n",
       "29     114842.854099  строительство жилой недвижимости                 1.0  \n",
       "41     136652.970357  сделка с подержанным автомобилем                 1.0  \n",
       "55     114842.854099                   сыграть свадьбу                 1.0  \n",
       "...              ...                               ...                 ...  \n",
       "21489  159070.690289              сделка с автомобилем                 1.0  \n",
       "21495  136555.108821                           свадьба                 1.0  \n",
       "21497  201785.400018        строительство недвижимости                 1.0  \n",
       "21502  136555.108821  строительство жилой недвижимости                 1.0  \n",
       "21510  136555.108821           приобретение автомобиля                 1.0  \n",
       "\n",
       "[2174 rows x 13 columns]"
      ]
     },
     "metadata": {},
     "output_type": "display_data"
    },
    {
     "data": {
      "text/plain": [
       "children                  0\n",
       "days_employed          2174\n",
       "dob_years                 0\n",
       "education                 0\n",
       "education_id              0\n",
       "family_status             0\n",
       "family_status_id          0\n",
       "gender                    0\n",
       "income_type               0\n",
       "debt                      0\n",
       "total_income              0\n",
       "purpose                   0\n",
       "flag_change_income    19351\n",
       "dtype: int64"
      ]
     },
     "execution_count": 10,
     "metadata": {},
     "output_type": "execute_result"
    }
   ],
   "source": [
    "# заполнение пропусков в колонке total_income медианными значениями с группировкой по типу занятости и уровню образования.\n",
    "df['total_income'].fillna(df.groupby(['income_type','education_id'])['total_income'].transform('median'),inplace = True)\n",
    "\n",
    "# отображаем строчки, в которых было выполнено заполнение\n",
    "display(df[df['flag_change_income']==1])\n",
    "\n",
    "# подсчёт пропусков\n",
    "df.isna().sum()"
   ]
  },
  {
   "cell_type": "markdown",
   "id": "b2922922",
   "metadata": {},
   "source": [
    "2174 пропусков заполнили медианой.\n",
    "\n",
    "Пропусков в колонке `total_income` нет. А для заполнения пропусков в колонке `days_employed` сначала надо разобраться с аномалиями."
   ]
  },
  {
   "cell_type": "markdown",
   "id": "6cc3f1d5",
   "metadata": {},
   "source": [
    "### Шаг 2.2 Проверка данных на аномалии и исправления.\n",
    "Мы знаем, что в колонке `days_employed` есть пропуски, и отрицательные значения. Для ответов на поставленные проектом вопросы, трудовой стаж не требуется и можно было бы игнорировать эту колонку полностью. Но для отработки учебного процесса, посмотрим, что можно сделать с этими данными, на случай, если потребуется их дальнейшее использование.\n",
    "\n",
    "Из данных выше видно, минимальное значение стажа -18388 дней (50 лет), а максимальное положительное значение в трудовом стаже 401755дней. Это 401755/365 = 1100 лет. Точно аномалия, учитывая, что средний рабочий стаж при выходе на пенсию в РФ 35 лет = 12775 дней. Посмотрим на положительные значения `days_employed`."
   ]
  },
  {
   "cell_type": "code",
   "execution_count": 11,
   "id": "112f9492",
   "metadata": {},
   "outputs": [
    {
     "data": {
      "text/plain": [
       "array([328728.72060452, 328734.92399633, 328771.3413868 , ...,\n",
       "       401675.09343386, 401715.81174889, 401755.40047533])"
      ]
     },
     "execution_count": 11,
     "metadata": {},
     "output_type": "execute_result"
    }
   ],
   "source": [
    "# фильтруем и выводим положительные значения в колонке days_employed\n",
    "df[df['days_employed']>0].sort_values(by='days_employed')['days_employed'].unique()"
   ]
  },
  {
   "cell_type": "markdown",
   "id": "9e5f8398",
   "metadata": {},
   "source": [
    "Минимальное положительное значение больше 900 лет. Следовательно все положительные значения или аномальны или записаны не в формате дней. Предположим, что значения записаны в часах, тогда минимальное положительное значение 37 лет, а максимальное 45 лет. Похоже на правду, но надо сравнить еще с возрастом этих заемщиков.\n",
    "\n",
    "Посмотрим сколько таких заемщиков с аномально-большим стажем. Если процент не большой, то ими можно будет пренебречь."
   ]
  },
  {
   "cell_type": "code",
   "execution_count": 12,
   "id": "23fa650e",
   "metadata": {},
   "outputs": [
    {
     "data": {
      "text/plain": [
       "3445"
      ]
     },
     "execution_count": 12,
     "metadata": {},
     "output_type": "execute_result"
    }
   ],
   "source": [
    "# посчитаем положительные значения в колонке days_employed\n",
    "df[df['days_employed']>0]['days_employed'].count()"
   ]
  },
  {
   "cell_type": "markdown",
   "id": "5d92cbd6",
   "metadata": {},
   "source": [
    "3445 заемщика - 16% от общего числа. Достаточно большая доля для того, чтобы удалять эти данные.\n",
    "\n",
    "Посмотрим на тип занятости этих заемщиков."
   ]
  },
  {
   "cell_type": "code",
   "execution_count": 13,
   "id": "982a4332",
   "metadata": {},
   "outputs": [
    {
     "data": {
      "text/plain": [
       "income_type\n",
       "безработный       2\n",
       "пенсионер      3443\n",
       "Name: income_type, dtype: int64"
      ]
     },
     "execution_count": 13,
     "metadata": {},
     "output_type": "execute_result"
    }
   ],
   "source": [
    "# Подсчёт количества заемщиков по типу занятости с положительным стажем работы\n",
    "df[df['days_employed']>0].groupby(by='income_type')['income_type'].count()"
   ]
  },
  {
   "cell_type": "markdown",
   "id": "13b18484",
   "metadata": {},
   "source": [
    "Всего 2 безработных, которыми можно пренебречь, а остальные пенсионеры, для которых стаж 37-45 лет вполне допустим. Посмотрим на возраст этих заемщиков."
   ]
  },
  {
   "cell_type": "code",
   "execution_count": 14,
   "id": "3bb3cb8f",
   "metadata": {},
   "outputs": [
    {
     "data": {
      "text/plain": [
       "dob_years\n",
       "0      17\n",
       "22      1\n",
       "26      2\n",
       "27      3\n",
       "28      1\n",
       "31      1\n",
       "32      3\n",
       "33      2\n",
       "34      3\n",
       "35      1\n",
       "36      3\n",
       "37      5\n",
       "38      8\n",
       "39      4\n",
       "40      7\n",
       "41      6\n",
       "42      9\n",
       "43      9\n",
       "44     10\n",
       "45     11\n",
       "46     13\n",
       "47     13\n",
       "48     20\n",
       "49     30\n",
       "50     61\n",
       "51     73\n",
       "52     95\n",
       "53    105\n",
       "54    145\n",
       "55    162\n",
       "56    184\n",
       "57    212\n",
       "58    208\n",
       "59    254\n",
       "60    243\n",
       "61    214\n",
       "62    235\n",
       "63    192\n",
       "64    179\n",
       "65    136\n",
       "66    139\n",
       "67    132\n",
       "68     80\n",
       "69     74\n",
       "70     54\n",
       "71     48\n",
       "72     28\n",
       "73      6\n",
       "74      4\n",
       "Name: dob_years, dtype: int64"
      ]
     },
     "execution_count": 14,
     "metadata": {},
     "output_type": "execute_result"
    }
   ],
   "source": [
    "# Подсчёт количества заемщиков по возрасту с положительным стажем работы\n",
    "df[df['days_employed']>0].groupby(by='dob_years')['dob_years'].count()"
   ]
  },
  {
   "cell_type": "markdown",
   "id": "3538ab29",
   "metadata": {},
   "source": [
    "В возрасте видно, что тоже есть аномалии. Посмотрим на уникильные данные в столбце `dob_years`"
   ]
  },
  {
   "cell_type": "code",
   "execution_count": 15,
   "id": "cc12ab5e",
   "metadata": {},
   "outputs": [
    {
     "data": {
      "text/plain": [
       "array([ 0, 19, 20, 21, 22, 23, 24, 25, 26, 27, 28, 29, 30, 31, 32, 33, 34,\n",
       "       35, 36, 37, 38, 39, 40, 41, 42, 43, 44, 45, 46, 47, 48, 49, 50, 51,\n",
       "       52, 53, 54, 55, 56, 57, 58, 59, 60, 61, 62, 63, 64, 65, 66, 67, 68,\n",
       "       69, 70, 71, 72, 73, 74, 75], dtype=int64)"
      ]
     },
     "execution_count": 15,
     "metadata": {},
     "output_type": "execute_result"
    }
   ],
   "source": [
    "# сортируем и выводим уникальные значения в колонке dob_years       \n",
    "df.sort_values(by='dob_years')['dob_years'].unique()"
   ]
  },
  {
   "cell_type": "markdown",
   "id": "1c096e02",
   "metadata": {},
   "source": [
    "Верхнее значение выглядит вполне правдоподобно. А заемщиков младше 18 лет быть не должно. \n",
    "\n",
    "Для ответов на поставленные проектом вопросы, возраст не требуется и можно было бы игнорировать эту колонку полностью. Но для отработки учебного процесса, посмотрим, что можно сделать с этими данными, на случай, если потребуется их дальнейшее использование.\n",
    "\n",
    "Посмотрим сколько заемщиков с возрастом 0."
   ]
  },
  {
   "cell_type": "code",
   "execution_count": 16,
   "id": "f557859a",
   "metadata": {},
   "outputs": [
    {
     "data": {
      "text/plain": [
       "101"
      ]
     },
     "execution_count": 16,
     "metadata": {},
     "output_type": "execute_result"
    }
   ],
   "source": [
    "# фильтруем и считаем значения 0 в колонке dob_years\n",
    "df[df['dob_years']==0]['dob_years'].count()\n"
   ]
  },
  {
   "cell_type": "markdown",
   "id": "b976eb30",
   "metadata": {},
   "source": [
    "Меньше, чем 0,5% от общего числа. Эта ошибка может быть технической или случайной. Такой небольшой процент с аномалиями можно игнорировать, удалить или заменить на подходящие данные. Т.к. дальше с возрастом будет связано заполнение данных по стажу, заполним нулевые значения медианным.\n",
    "\n",
    "--------------------------------------\n",
    "\n",
    "! Важное отступление !\n",
    "\n",
    "В рабочем проекте на этом этапе я бы остановилась с обработкой данных из столбца `days_employed` и попросила бы их исправить/восстановить, если на их основе проводилось бы исследование. Т.к. такое большое кол-во неточностей при исправлении большею частью догадками без доказательной базы, могут привести к большому искажению. Но, с учетом того, что проект учебный и данные из колонок `days_employed` и `dob_years` в исследовании не участвуют и не исказят его, я попробую исправить ошибки максимально приближенными к реальности данными. \n",
    "\n",
    "Т.к. эти исправления могут повлиять на дальнейшую работу в части удаления явных дубликатов, посчитаем такие дубликаты сейчас, установим их долю и сравним с долей после заполнения полей `days_employed` и `dob_years`\n",
    "\n",
    "--------------------------------------\n",
    "\n"
   ]
  },
  {
   "cell_type": "code",
   "execution_count": 17,
   "id": "1c77eeaa",
   "metadata": {},
   "outputs": [
    {
     "data": {
      "text/plain": [
       "54"
      ]
     },
     "execution_count": 17,
     "metadata": {},
     "output_type": "execute_result"
    }
   ],
   "source": [
    "# считаем кол-во явных дубликатов\n",
    "df.duplicated().sum()"
   ]
  },
  {
   "cell_type": "markdown",
   "id": "1b1340cd",
   "metadata": {},
   "source": [
    "54 дубликата - 0,25% очень маленькая доля от общего числа. Удалим эти строчки."
   ]
  },
  {
   "cell_type": "code",
   "execution_count": 18,
   "id": "98f03f89",
   "metadata": {},
   "outputs": [
    {
     "data": {
      "text/plain": [
       "0"
      ]
     },
     "execution_count": 18,
     "metadata": {},
     "output_type": "execute_result"
    }
   ],
   "source": [
    "df=df.drop_duplicates()\n",
    "# проверяем кол-во явных дубликатов\n",
    "df.duplicated().sum()"
   ]
  },
  {
   "cell_type": "markdown",
   "id": "9839d304",
   "metadata": {},
   "source": [
    "Явные дубликаты удалены.\n",
    "\n",
    "Приступаем к удалению аномалий в колонках `days_employed` и `dob_years`"
   ]
  },
  {
   "cell_type": "code",
   "execution_count": 19,
   "id": "7fa41a59",
   "metadata": {},
   "outputs": [
    {
     "data": {
      "text/plain": [
       "array([19., 20., 21., 22., 23., 24., 25., 26., 27., 28., 29., 30., 31.,\n",
       "       32., 33., 34., 35., 36., 37., 38., 39., 40., 41., 42., 43., 44.,\n",
       "       45., 46., 47., 48., 49., 50., 51., 52., 53., 54., 55., 56., 57.,\n",
       "       58., 59., 60., 61., 62., 63., 64., 65., 66., 67., 68., 69., 70.,\n",
       "       71., 72., 73., 74., 75.])"
      ]
     },
     "execution_count": 19,
     "metadata": {},
     "output_type": "execute_result"
    }
   ],
   "source": [
    "# заполнение 0 в колонке dob_years медианными значениями с группировкой семейному положению и типу занятости.\n",
    "df.loc[df['dob_years']==0, 'dob_years']=df.groupby(['family_status_id','income_type'])['dob_years'].transform('median')\n",
    "\n",
    "# сортируем и выводим уникальные значения в колонке dob_years для проверки       \n",
    "df.sort_values(by='dob_years')['dob_years'].unique()"
   ]
  },
  {
   "cell_type": "markdown",
   "id": "e95e11f2",
   "metadata": {},
   "source": [
    "Возраст отображается без нулей, но формат стал вещественным числом. Для ближайшей работы формат не помешает, позже его изменим.\n",
    "\n",
    "Возвращаемся к стажу работы. Допустим, что положительный стаж указан в часах, а не днях. В этом случае разброс 37-45 выглядит правдиво, а разница между стажем и возрастом более, чем 18 лет прибавит веса в этом утверждении.\n",
    "\n",
    "Создадим колонку `years_employed` в `df` и поместим туда пересчитанные положительные значения из `days_employed` в годы."
   ]
  },
  {
   "cell_type": "code",
   "execution_count": 20,
   "id": "6863094d",
   "metadata": {},
   "outputs": [
    {
     "data": {
      "text/plain": [
       "years_employed\n",
       "37.526110    1\n",
       "37.526818    1\n",
       "37.530975    1\n",
       "37.533759    1\n",
       "37.537368    1\n",
       "            ..\n",
       "45.852038    1\n",
       "45.853250    1\n",
       "45.853321    1\n",
       "45.857969    1\n",
       "45.862489    1\n",
       "Name: years_employed, Length: 3445, dtype: int64"
      ]
     },
     "execution_count": 20,
     "metadata": {},
     "output_type": "execute_result"
    }
   ],
   "source": [
    "def employed_minutes_years(row):\n",
    "    \"\"\"\n",
    "    Функция возвращает стаж работы в годах\n",
    "    \"\"\"\n",
    "    days_employed=row['days_employed']\n",
    "    \n",
    "    if days_employed>0:\n",
    "        return days_employed/365/24\n",
    "\n",
    "# добавляем колонку years_employed в df\n",
    "df['years_employed']=df.apply(employed_minutes_years,axis=1)\n",
    "\n",
    "# смотрим, какие значения получились в years_employed\n",
    "df.groupby(by='years_employed')['years_employed'].count()"
   ]
  },
  {
   "cell_type": "markdown",
   "id": "b458ff07",
   "metadata": {},
   "source": [
    "37-45 ожидаемые результаты. Теперь можно посмотреть на разницу в возрате и стаже.\n",
    "\n",
    "Создадим колонку `difference` в `df` и поместим туда разницу `dob_years` и `days_employed`для положительного стажа."
   ]
  },
  {
   "cell_type": "code",
   "execution_count": 21,
   "id": "2c8e8b25",
   "metadata": {},
   "outputs": [
    {
     "data": {
      "text/plain": [
       "difference\n",
       "-18.451731    1\n",
       "-16.321016    1\n",
       "-16.215098    1\n",
       "-16.016505    1\n",
       "-15.592260    1\n",
       "             ..\n",
       " 33.742551    1\n",
       " 34.473890    1\n",
       " 34.558466    1\n",
       " 34.659379    1\n",
       " 35.012771    1\n",
       "Name: difference, Length: 3445, dtype: int64"
      ]
     },
     "execution_count": 21,
     "metadata": {},
     "output_type": "execute_result"
    }
   ],
   "source": [
    "def difference_employed_dob(row):\n",
    "    \"\"\"\n",
    "    Функция возвращает разницу между возрастом и стажем работы для положительного стажа\n",
    "    \"\"\"\n",
    "    days_employed=row['days_employed']\n",
    "    dob_years=row['dob_years']\n",
    "    years_employed=row['years_employed']\n",
    "    \n",
    "    if days_employed>0:\n",
    "        return dob_years-years_employed\n",
    "\n",
    "# добавляем колонку difference в df\n",
    "df['difference']=df.apply(difference_employed_dob,axis=1)\n",
    "\n",
    "# смотрим, какие значения получились в difference\n",
    "df.groupby(by='difference')['difference'].count()"
   ]
  },
  {
   "cell_type": "markdown",
   "id": "227ccf64",
   "metadata": {},
   "source": [
    "Минимальное значение не может превышать 18 лет, а мы видим даже отрицательные значения. Но 17 строк с положительным стажем были изначально с 0 значением в возрасте. Возможно именно они дали искажение после внесения правок с колонку `dob_years`.\n",
    "\n",
    "Посмотрим, сколько значений меньше 18 в колонке `difference`."
   ]
  },
  {
   "cell_type": "code",
   "execution_count": 22,
   "id": "977a0407",
   "metadata": {},
   "outputs": [
    {
     "data": {
      "text/plain": [
       "1717"
      ]
     },
     "execution_count": 22,
     "metadata": {},
     "output_type": "execute_result"
    }
   ],
   "source": [
    "# фильтруем и считаем значения 0 в колонке difference\n",
    "df[df['difference']<18]['difference'].count()"
   ]
  },
  {
   "cell_type": "markdown",
   "id": "44bb41bb",
   "metadata": {},
   "source": [
    "1717 Даже не близко к 17 замененным.\n",
    "\n",
    "Трудовой договор разрешается заключать с подростками, достигшими возраста 16 лет (ст. 63 ТК РФ). Для выполнения легкого труда, не причиняющего вред здоровью, можно принять 15-летнего работника, если он получил общее образование либо продолжает обучение по основной программе общего образования по вечерней или заочной форме. Допускается наем 15-летнего и в случае, когда он оставил учебу.\n",
    "\n",
    "Опустим минимальную планку до 15 лет."
   ]
  },
  {
   "cell_type": "code",
   "execution_count": 23,
   "id": "bd35c282",
   "metadata": {},
   "outputs": [
    {
     "data": {
      "text/plain": [
       "1061"
      ]
     },
     "execution_count": 23,
     "metadata": {},
     "output_type": "execute_result"
    }
   ],
   "source": [
    "# фильтруем и считаем значения 0 в колонке difference\n",
    "df[df['difference']<15]['difference'].count()"
   ]
  },
  {
   "cell_type": "markdown",
   "id": "24c44c50",
   "metadata": {},
   "source": [
    "1061 это треть от всех заемщиков с положительным стажем. Значит, положительные данные в колонке `days_employed` вряд ли были записаны в формате часы.\n",
    "\n",
    "Посмотрим на отрицательные значения."
   ]
  },
  {
   "cell_type": "code",
   "execution_count": 24,
   "id": "45eaa1cc",
   "metadata": {},
   "outputs": [
    {
     "data": {
      "text/plain": [
       "15906"
      ]
     },
     "execution_count": 24,
     "metadata": {},
     "output_type": "execute_result"
    }
   ],
   "source": [
    "# фильтруем и считаем уникальные отрицательные значения days_values \n",
    "df[df['days_employed']<=0]['days_employed'].count()"
   ]
  },
  {
   "cell_type": "code",
   "execution_count": 25,
   "id": "9a2d22be",
   "metadata": {},
   "outputs": [
    {
     "data": {
      "text/plain": [
       "array([-18388.94990057, -17615.56326563, -16593.47281726, ...,\n",
       "          -30.19533716,    -24.24069479,    -24.14163324])"
      ]
     },
     "execution_count": 25,
     "metadata": {},
     "output_type": "execute_result"
    }
   ],
   "source": [
    "# фильтруем, сортируем и выводим уникальные отрицательные значения days_values \n",
    "df[df['days_employed']<=0].sort_values(by='days_employed')['days_employed'].unique()"
   ]
  },
  {
   "cell_type": "markdown",
   "id": "750076c9",
   "metadata": {},
   "source": [
    "Отрицательных значений довольно много 15906. 74% от общего числа. При этом разброс абсолютных отрицательных значений стажа выглядит правдоподобнее (от 24 дней до 50 лет). Нулевых значений нет.\n",
    "\n",
    "Допустим, что отрицательные значения стажа были по ошибке записаны со знаком \"-\", тогда разница между возрастом и абсолютным отрицательным стажем будет не менее 15-18 лет."
   ]
  },
  {
   "cell_type": "code",
   "execution_count": 26,
   "id": "7002bef3",
   "metadata": {},
   "outputs": [],
   "source": [
    "# удаляем столбцы years_employed и difference из df\n",
    "df=df.drop(['years_employed', 'difference'], axis=1)"
   ]
  },
  {
   "cell_type": "markdown",
   "id": "2d7d53e3",
   "metadata": {},
   "source": [
    "Создадим колонку `difference` в `df` и поместим туда разницу `dob_years` и `days_employed`для отрицательного стажа."
   ]
  },
  {
   "cell_type": "code",
   "execution_count": 27,
   "id": "748bd1a3",
   "metadata": {},
   "outputs": [
    {
     "data": {
      "text/plain": [
       "difference\n",
       "10.619315    1\n",
       "10.714382    1\n",
       "10.806890    1\n",
       "10.857530    1\n",
       "11.736114    1\n",
       "            ..\n",
       "68.666679    1\n",
       "68.979765    1\n",
       "68.997604    1\n",
       "69.261281    1\n",
       "70.400083    1\n",
       "Name: difference, Length: 15906, dtype: int64"
      ]
     },
     "execution_count": 27,
     "metadata": {},
     "output_type": "execute_result"
    }
   ],
   "source": [
    "def difference_employed_dob(row):\n",
    "    \"\"\"\n",
    "    Функция возвращает разницу между возрастом и стажем работы\n",
    "    \"\"\"\n",
    "    days_employed=row['days_employed']\n",
    "    dob_years=row['dob_years']\n",
    "    \n",
    "    if days_employed<0:\n",
    "        return dob_years-abs(days_employed)/365\n",
    "\n",
    "# добавляем колонку difference в df\n",
    "df['difference']=df.apply(difference_employed_dob,axis=1)\n",
    "\n",
    "# смотрим, какие значения получились в difference\n",
    "df.groupby(by='difference')['difference'].count()"
   ]
  },
  {
   "cell_type": "markdown",
   "id": "cd80b64e",
   "metadata": {},
   "source": [
    "Минимальное значение 10. Не правдоподобно, но нельзя забывать, что 84 строки с 0 возрастом были заполнены медианой.\n",
    "Максимальный возраст в данных 75 лет. Максимальные значение разницы - 70 не превышает 75.\n",
    "Посмотрим, сколько значений меньше 18 в колонке `difference`."
   ]
  },
  {
   "cell_type": "code",
   "execution_count": 28,
   "id": "d592f970",
   "metadata": {},
   "outputs": [
    {
     "data": {
      "text/plain": [
       "409"
      ]
     },
     "execution_count": 28,
     "metadata": {},
     "output_type": "execute_result"
    }
   ],
   "source": [
    "# фильтруем и считаем значения в колонке difference\n",
    "df[df['difference']<18]['difference'].count()"
   ]
  },
  {
   "cell_type": "markdown",
   "id": "a20d2510",
   "metadata": {},
   "source": [
    "409 много. Допустим, что 300 из них начали стаж в период 15-18 лет."
   ]
  },
  {
   "cell_type": "code",
   "execution_count": 29,
   "id": "e8752326",
   "metadata": {},
   "outputs": [
    {
     "data": {
      "text/plain": [
       "46"
      ]
     },
     "execution_count": 29,
     "metadata": {},
     "output_type": "execute_result"
    }
   ],
   "source": [
    "# фильтруем и считаем значения в колонке difference\n",
    "df[df['difference']<15]['difference'].count()"
   ]
  },
  {
   "cell_type": "markdown",
   "id": "a69a7db5",
   "metadata": {},
   "source": [
    "46 меньше, чем 84. Значит можно списать эту разницу 10-15 лет на заполнение 0 возраста.\n",
    "\n",
    "Можно допустить, что отрицательные значения в абсолютном пересчете будут верными. И, из всех возможных вариантов заполнения (кроме восстановления данных у заказчика) меньше всего искажений принесет следующий алгоритм:\n",
    "- удалить из столбца `difference` значения меньше 15\n",
    "- заполнить все пропуски `difference` медианой по этому столбцу с группировкой по возрасту\n",
    "- удалить из столбца `days_employed` все положительные значения\n",
    "- заполнисть все пропуски столбца `days_employed` разницей `dob_years` и `difference`\n",
    "- заменить отрицательные значения в столбце `days_employed` на их абсолютные значения"
   ]
  },
  {
   "cell_type": "code",
   "execution_count": 30,
   "id": "34d27174",
   "metadata": {},
   "outputs": [
    {
     "data": {
      "text/plain": [
       "difference\n",
       "15.016952    1\n",
       "15.024018    1\n",
       "15.079178    1\n",
       "15.079578    1\n",
       "15.086162    1\n",
       "            ..\n",
       "68.666679    1\n",
       "68.979765    1\n",
       "68.997604    1\n",
       "69.261281    1\n",
       "70.400083    1\n",
       "Name: difference, Length: 15860, dtype: int64"
      ]
     },
     "execution_count": 30,
     "metadata": {},
     "output_type": "execute_result"
    }
   ],
   "source": [
    "# удаляем из столбца difference значения меньше 15\n",
    "df.loc[df['difference']<15,'difference']=df.drop(columns='difference')\n",
    "\n",
    "# смотрим, какие значения получились в difference\n",
    "df.groupby(by='difference')['difference'].count()"
   ]
  },
  {
   "cell_type": "code",
   "execution_count": 31,
   "id": "ead68006",
   "metadata": {},
   "outputs": [
    {
     "data": {
      "text/plain": [
       "children                  0\n",
       "days_employed          2120\n",
       "dob_years                 0\n",
       "education                 0\n",
       "education_id              0\n",
       "family_status             0\n",
       "family_status_id          0\n",
       "gender                    0\n",
       "income_type               0\n",
       "debt                      0\n",
       "total_income              0\n",
       "purpose                   0\n",
       "flag_change_income    19351\n",
       "difference             5611\n",
       "dtype: int64"
      ]
     },
     "execution_count": 31,
     "metadata": {},
     "output_type": "execute_result"
    }
   ],
   "source": [
    "# подсчет пропусков\n",
    "df.isna().sum()"
   ]
  },
  {
   "cell_type": "code",
   "execution_count": 32,
   "id": "649ea96b",
   "metadata": {},
   "outputs": [
    {
     "data": {
      "text/plain": [
       "children                  0\n",
       "days_employed          2120\n",
       "dob_years                 0\n",
       "education                 0\n",
       "education_id              0\n",
       "family_status             0\n",
       "family_status_id          0\n",
       "gender                    0\n",
       "income_type               0\n",
       "debt                      0\n",
       "total_income              0\n",
       "purpose                   0\n",
       "flag_change_income    19351\n",
       "difference                0\n",
       "dtype: int64"
      ]
     },
     "execution_count": 32,
     "metadata": {},
     "output_type": "execute_result"
    }
   ],
   "source": [
    "# заполняем пропуски difference медианой по этому столбцу с группировкой по возрасту\n",
    "df['difference'].fillna(df.groupby(['dob_years'])['difference'].transform('median'),inplace = True)\n",
    "\n",
    "# подсчет пропусков\n",
    "df.isna().sum()"
   ]
  },
  {
   "cell_type": "markdown",
   "id": "1b88b263",
   "metadata": {},
   "source": [
    "В столбцe `difference` пропусков нет."
   ]
  },
  {
   "cell_type": "code",
   "execution_count": 33,
   "id": "4b99d9cc",
   "metadata": {},
   "outputs": [
    {
     "data": {
      "text/plain": [
       "days_employed\n",
       "-18388.949901    1\n",
       "-17615.563266    1\n",
       "-16593.472817    1\n",
       "-16264.699501    1\n",
       "-16119.687737    1\n",
       "                ..\n",
       "-34.701045       1\n",
       "-33.520665       1\n",
       "-30.195337       1\n",
       "-24.240695       1\n",
       "-24.141633       1\n",
       "Name: days_employed, Length: 15906, dtype: int64"
      ]
     },
     "execution_count": 33,
     "metadata": {},
     "output_type": "execute_result"
    }
   ],
   "source": [
    "# удаляем из столбца days_employed все положительные значения\n",
    "df.loc[df['days_employed']>0,'days_employed']=df.drop(columns='days_employed')\n",
    "\n",
    "# смотрим, какие значения получились в days_employed\n",
    "df.groupby(by='days_employed')['days_employed'].count()"
   ]
  },
  {
   "cell_type": "code",
   "execution_count": 34,
   "id": "cf4b839b",
   "metadata": {},
   "outputs": [
    {
     "data": {
      "text/plain": [
       "days_employed\n",
       "24.141633       1\n",
       "24.240695       1\n",
       "30.195337       1\n",
       "33.520665       1\n",
       "34.701045       1\n",
       "               ..\n",
       "16119.687737    1\n",
       "16264.699501    1\n",
       "16593.472817    1\n",
       "17615.563266    1\n",
       "18388.949901    1\n",
       "Name: days_employed, Length: 15957, dtype: int64"
      ]
     },
     "execution_count": 34,
     "metadata": {},
     "output_type": "execute_result"
    }
   ],
   "source": [
    "# заполняем все пропуски столбца days_employed разностью dob_years и difference,\n",
    "# а отрицательные значения в столбце days_employed на заменяем на их абсолютные значения\n",
    "\n",
    "def change_days_employed(row):\n",
    "    \"\"\"\n",
    "    Функция возвращает:\n",
    "    - сумму возраста и разницей между возрастом и стажем работы, если значение days_employed пустое\n",
    "    - абсолютное значение, если значение days_employed отрицательное\n",
    "    \n",
    "    \"\"\"\n",
    "    days_employed=row['days_employed']\n",
    "    dob_years=row['dob_years']\n",
    "    difference=row['difference']\n",
    "    \n",
    "    if days_employed<0:\n",
    "        return abs(days_employed)\n",
    "    else:\n",
    "        return dob_years*365-difference*365\n",
    "\n",
    "# исправляем данные в days_employed в df\n",
    "df['days_employed']=df.apply(change_days_employed,axis=1)\n",
    "\n",
    "# смотрим, какие значения получились в days_employed\n",
    "df.groupby(by='days_employed')['days_employed'].count()\n"
   ]
  },
  {
   "cell_type": "code",
   "execution_count": 35,
   "id": "b7e33fda",
   "metadata": {},
   "outputs": [
    {
     "data": {
      "text/plain": [
       "children                  0\n",
       "days_employed             0\n",
       "dob_years                 0\n",
       "education                 0\n",
       "education_id              0\n",
       "family_status             0\n",
       "family_status_id          0\n",
       "gender                    0\n",
       "income_type               0\n",
       "debt                      0\n",
       "total_income              0\n",
       "purpose                   0\n",
       "flag_change_income    19351\n",
       "difference                0\n",
       "dtype: int64"
      ]
     },
     "execution_count": 35,
     "metadata": {},
     "output_type": "execute_result"
    }
   ],
   "source": [
    "# подсчет пропусков\n",
    "df.isna().sum()"
   ]
  },
  {
   "cell_type": "markdown",
   "id": "6eafc2e7",
   "metadata": {},
   "source": [
    "Пропусков нет, данные в `days_employed` от 24 дней до 50 лет, отрицательных значений нет.\n",
    "Заполнение пропусков для колонок `days_employed` и `dob_years` в данном случае выполнены только для учебных целей. Скорее всего такое заполнение в рабочем проекте приведет к искажению в анализе этих данных, т.к. изначально данные были очень некорректны.\n",
    "\n",
    "Столбец `difference` для дальнейшей работы не нужен. Удалим его."
   ]
  },
  {
   "cell_type": "code",
   "execution_count": 36,
   "id": "4fbfdc1d",
   "metadata": {},
   "outputs": [],
   "source": [
    "# удаляем колонку difference из df\n",
    "df=df.drop(['difference'], axis=1)"
   ]
  },
  {
   "cell_type": "markdown",
   "id": "8584e9a7",
   "metadata": {},
   "source": [
    "Теперь посмотрим на колонку `children`"
   ]
  },
  {
   "cell_type": "code",
   "execution_count": 37,
   "id": "0f2a0015",
   "metadata": {},
   "outputs": [
    {
     "data": {
      "text/plain": [
       "array([-1,  0,  1,  2,  3,  4,  5, 20], dtype=int64)"
      ]
     },
     "execution_count": 37,
     "metadata": {},
     "output_type": "execute_result"
    }
   ],
   "source": [
    "# проверяем уникальные значения в колонке children       \n",
    "df.sort_values(by='children')['children'].unique()"
   ]
  },
  {
   "cell_type": "markdown",
   "id": "357ba723",
   "metadata": {},
   "source": [
    "0-5 детей в семье вполне может быть. 20, конечно, можно допустить (например, семья берет много приемных детей), но скорее это аномалия, как и значение -1. Посмотрим, сколько аномальных значений в данных."
   ]
  },
  {
   "cell_type": "code",
   "execution_count": 38,
   "id": "d6d10aab",
   "metadata": {},
   "outputs": [
    {
     "data": {
      "text/html": [
       "<div>\n",
       "<style scoped>\n",
       "    .dataframe tbody tr th:only-of-type {\n",
       "        vertical-align: middle;\n",
       "    }\n",
       "\n",
       "    .dataframe tbody tr th {\n",
       "        vertical-align: top;\n",
       "    }\n",
       "\n",
       "    .dataframe thead th {\n",
       "        text-align: right;\n",
       "    }\n",
       "</style>\n",
       "<table border=\"1\" class=\"dataframe\">\n",
       "  <thead>\n",
       "    <tr style=\"text-align: right;\">\n",
       "      <th></th>\n",
       "      <th>children</th>\n",
       "      <th>children</th>\n",
       "    </tr>\n",
       "  </thead>\n",
       "  <tbody>\n",
       "    <tr>\n",
       "      <th>-1</th>\n",
       "      <td>47</td>\n",
       "      <td>0.2%</td>\n",
       "    </tr>\n",
       "    <tr>\n",
       "      <th>0</th>\n",
       "      <td>14107</td>\n",
       "      <td>65.7%</td>\n",
       "    </tr>\n",
       "    <tr>\n",
       "      <th>1</th>\n",
       "      <td>4809</td>\n",
       "      <td>22.4%</td>\n",
       "    </tr>\n",
       "    <tr>\n",
       "      <th>2</th>\n",
       "      <td>2052</td>\n",
       "      <td>9.6%</td>\n",
       "    </tr>\n",
       "    <tr>\n",
       "      <th>3</th>\n",
       "      <td>330</td>\n",
       "      <td>1.5%</td>\n",
       "    </tr>\n",
       "    <tr>\n",
       "      <th>4</th>\n",
       "      <td>41</td>\n",
       "      <td>0.2%</td>\n",
       "    </tr>\n",
       "    <tr>\n",
       "      <th>5</th>\n",
       "      <td>9</td>\n",
       "      <td>0.0%</td>\n",
       "    </tr>\n",
       "    <tr>\n",
       "      <th>20</th>\n",
       "      <td>76</td>\n",
       "      <td>0.4%</td>\n",
       "    </tr>\n",
       "  </tbody>\n",
       "</table>\n",
       "</div>"
      ],
      "text/plain": [
       "    children children\n",
       "-1        47     0.2%\n",
       " 0     14107    65.7%\n",
       " 1      4809    22.4%\n",
       " 2      2052     9.6%\n",
       " 3       330     1.5%\n",
       " 4        41     0.2%\n",
       " 5         9     0.0%\n",
       " 20       76     0.4%"
      ]
     },
     "execution_count": 38,
     "metadata": {},
     "output_type": "execute_result"
    }
   ],
   "source": [
    "# Подсчёт количества и процента заемщиков по кол-ву детей\n",
    "(pd.concat([df['children'].value_counts().sort_index()\n",
    "            , df['children'].value_counts(normalize = True).map('{:.1%}'.format)]\n",
    "           , axis=1))"
   ]
  },
  {
   "cell_type": "markdown",
   "id": "3d3d1b98",
   "metadata": {},
   "source": [
    "0,2 % со значение -1 (47 шт.)\n",
    "0,4 % со значением 20 (76 шт.)\n",
    "\n",
    "Процент аномалий маленький. Данные из этой колонки участвуют в исследовании, поэтому игнорировать нельзя. Судя по значениям -1 и 20 имеет место опечатки при вводе данных. -1 вместо 1 и 20 вместо 2. Т.к. процент не большой, эти строки можно удалить или объединить со значениями 1 и 2.\n",
    "\n",
    "С 1 ребенком 66% семей, а с 2 - 22%. Объединение не критично исказит данные, зато мы сохраним эти строки для исследования в других столбцах."
   ]
  },
  {
   "cell_type": "code",
   "execution_count": 39,
   "id": "0b5d8688",
   "metadata": {},
   "outputs": [
    {
     "data": {
      "text/html": [
       "<div>\n",
       "<style scoped>\n",
       "    .dataframe tbody tr th:only-of-type {\n",
       "        vertical-align: middle;\n",
       "    }\n",
       "\n",
       "    .dataframe tbody tr th {\n",
       "        vertical-align: top;\n",
       "    }\n",
       "\n",
       "    .dataframe thead th {\n",
       "        text-align: right;\n",
       "    }\n",
       "</style>\n",
       "<table border=\"1\" class=\"dataframe\">\n",
       "  <thead>\n",
       "    <tr style=\"text-align: right;\">\n",
       "      <th></th>\n",
       "      <th>children</th>\n",
       "      <th>children</th>\n",
       "    </tr>\n",
       "  </thead>\n",
       "  <tbody>\n",
       "    <tr>\n",
       "      <th>0</th>\n",
       "      <td>14107</td>\n",
       "      <td>65.7%</td>\n",
       "    </tr>\n",
       "    <tr>\n",
       "      <th>1</th>\n",
       "      <td>4856</td>\n",
       "      <td>22.6%</td>\n",
       "    </tr>\n",
       "    <tr>\n",
       "      <th>2</th>\n",
       "      <td>2128</td>\n",
       "      <td>9.9%</td>\n",
       "    </tr>\n",
       "    <tr>\n",
       "      <th>3</th>\n",
       "      <td>330</td>\n",
       "      <td>1.5%</td>\n",
       "    </tr>\n",
       "    <tr>\n",
       "      <th>4</th>\n",
       "      <td>41</td>\n",
       "      <td>0.2%</td>\n",
       "    </tr>\n",
       "    <tr>\n",
       "      <th>5</th>\n",
       "      <td>9</td>\n",
       "      <td>0.0%</td>\n",
       "    </tr>\n",
       "  </tbody>\n",
       "</table>\n",
       "</div>"
      ],
      "text/plain": [
       "  children children\n",
       "0    14107    65.7%\n",
       "1     4856    22.6%\n",
       "2     2128     9.9%\n",
       "3      330     1.5%\n",
       "4       41     0.2%\n",
       "5        9     0.0%"
      ]
     },
     "execution_count": 39,
     "metadata": {},
     "output_type": "execute_result"
    }
   ],
   "source": [
    "# заменим -1 на 1 и 20 на 2 в колонке children\n",
    "df.loc[df['children']==-1,'children']=1\n",
    "df.loc[df['children']==20,'children']=2\n",
    "\n",
    "# Подсчёт количества и процента заемщиков по кол-ву детей\n",
    "(pd.concat([df['children'].value_counts().sort_index()\n",
    "            , df['children'].value_counts(normalize = True).map('{:.1%}'.format)]\n",
    "           , axis=1))"
   ]
  },
  {
   "cell_type": "markdown",
   "id": "cdf2cc8b",
   "metadata": {},
   "source": [
    "В процентном соотношении данные по 1 и 2 детям в семье изменились на десятые доли процентов, что совсем не значительно и критически не исказит результаты исследования.\n",
    "\n",
    "С колличественными перемеными закончили. Посмотрим на уникальные значения категориальных переменных: `education`, `education_id`, `family_status`, `family_status_id`, `gender`, `income_type`, `debt`, `purpose`"
   ]
  },
  {
   "cell_type": "code",
   "execution_count": 40,
   "id": "9f632a33",
   "metadata": {},
   "outputs": [
    {
     "data": {
      "text/plain": [
       "array(['высшее', 'среднее', 'Среднее', 'СРЕДНЕЕ', 'ВЫСШЕЕ',\n",
       "       'неоконченное высшее', 'начальное', 'Высшее',\n",
       "       'НЕОКОНЧЕННОЕ ВЫСШЕЕ', 'Неоконченное высшее', 'НАЧАЛЬНОЕ',\n",
       "       'Начальное', 'Ученая степень', 'УЧЕНАЯ СТЕПЕНЬ', 'ученая степень'],\n",
       "      dtype=object)"
      ]
     },
     "execution_count": 40,
     "metadata": {},
     "output_type": "execute_result"
    }
   ],
   "source": [
    "# выводим уникальные значения education\n",
    "df['education'].unique()"
   ]
  },
  {
   "cell_type": "markdown",
   "id": "225eb432",
   "metadata": {},
   "source": [
    "В колонке с обрзованием много неявных дубликатов, которые мы обработаем в дальнейшем. Аномалий нет."
   ]
  },
  {
   "cell_type": "code",
   "execution_count": 41,
   "id": "871405c3",
   "metadata": {},
   "outputs": [
    {
     "data": {
      "text/plain": [
       "array([0, 1, 2, 3, 4], dtype=int64)"
      ]
     },
     "execution_count": 41,
     "metadata": {},
     "output_type": "execute_result"
    }
   ],
   "source": [
    "# выводим уникальные значения education_id\n",
    "df['education_id'].unique()"
   ]
  },
  {
   "cell_type": "markdown",
   "id": "4eb0ea76",
   "metadata": {},
   "source": [
    "В колонке `education_id` значения без аномалий."
   ]
  },
  {
   "cell_type": "code",
   "execution_count": 42,
   "id": "64c34fd7",
   "metadata": {},
   "outputs": [
    {
     "data": {
      "text/plain": [
       "array(['женат / замужем', 'гражданский брак', 'вдовец / вдова',\n",
       "       'в разводе', 'Не женат / не замужем'], dtype=object)"
      ]
     },
     "execution_count": 42,
     "metadata": {},
     "output_type": "execute_result"
    }
   ],
   "source": [
    "# выводим уникальные значения family_status \n",
    "df['family_status'].unique()"
   ]
  },
  {
   "cell_type": "markdown",
   "id": "b7fc58cb",
   "metadata": {},
   "source": [
    "В колонке `family_status` значения без аномалий. Но одно значение отличается по формату - \"Не женат / не замужем\" с заглавной буквы. Исправим это."
   ]
  },
  {
   "cell_type": "code",
   "execution_count": 43,
   "id": "c8725b9d",
   "metadata": {},
   "outputs": [
    {
     "data": {
      "text/plain": [
       "array(['женат / замужем', 'гражданский брак', 'вдовец / вдова',\n",
       "       'в разводе', 'не женат / не замужем'], dtype=object)"
      ]
     },
     "execution_count": 43,
     "metadata": {},
     "output_type": "execute_result"
    }
   ],
   "source": [
    "# заменяем \"Не женат / не замужем\" на \"не женат / не замужем\" в колонке family_status\n",
    "df.loc[df['family_status']=='Не женат / не замужем','family_status']='не женат / не замужем'\n",
    "\n",
    "# выводим уникальные значения family_status для проверки замены\n",
    "df['family_status'].unique()"
   ]
  },
  {
   "cell_type": "markdown",
   "id": "f11d5827",
   "metadata": {},
   "source": [
    "Все уникальные значения в колонке `family_status` в едином стиле, без аномалий."
   ]
  },
  {
   "cell_type": "code",
   "execution_count": 44,
   "id": "88d52534",
   "metadata": {},
   "outputs": [
    {
     "data": {
      "text/plain": [
       "array([0, 1, 2, 3, 4], dtype=int64)"
      ]
     },
     "execution_count": 44,
     "metadata": {},
     "output_type": "execute_result"
    }
   ],
   "source": [
    "# выводим уникальные значения family_status_id\n",
    "df.sort_values(by='family_status_id')['family_status_id'].unique()"
   ]
  },
  {
   "cell_type": "markdown",
   "id": "26699ea9",
   "metadata": {},
   "source": [
    "В колонке `family_status_id` аномальных значений нет."
   ]
  },
  {
   "cell_type": "code",
   "execution_count": 45,
   "id": "742f2799",
   "metadata": {},
   "outputs": [
    {
     "data": {
      "text/plain": [
       "array(['F', 'M', 'XNA'], dtype=object)"
      ]
     },
     "execution_count": 45,
     "metadata": {},
     "output_type": "execute_result"
    }
   ],
   "source": [
    "# выводим уникальные значения gender\n",
    "df['gender'].unique()"
   ]
  },
  {
   "cell_type": "markdown",
   "id": "f235f76b",
   "metadata": {},
   "source": [
    "В колонке `gender` 3 значения. На данный момент в РФ официально признается только 2 гендера. Посмотрим, сколько значений приходится на все значения."
   ]
  },
  {
   "cell_type": "code",
   "execution_count": 46,
   "id": "cb65d20a",
   "metadata": {},
   "outputs": [
    {
     "data": {
      "text/plain": [
       "F      14189\n",
       "M       7281\n",
       "XNA        1\n",
       "Name: gender, dtype: int64"
      ]
     },
     "execution_count": 46,
     "metadata": {},
     "output_type": "execute_result"
    }
   ],
   "source": [
    "# Подсчёт количества заемщиков по полу\n",
    "df['gender'].value_counts()"
   ]
  },
  {
   "cell_type": "markdown",
   "id": "e689595e",
   "metadata": {},
   "source": [
    "Всего 1 заемщик с ошибкой в заполнении поля `gender`. Совсем ничтожная доля в данных. Восстановить данные по другим полям не получится. На исследование эта колонка не влияет. Удалим эту строчку."
   ]
  },
  {
   "cell_type": "code",
   "execution_count": 47,
   "id": "26e88078",
   "metadata": {},
   "outputs": [],
   "source": [
    "# удаляем строчку с индексом 10701\n",
    "df = df[df['gender']!='XNA']"
   ]
  },
  {
   "cell_type": "code",
   "execution_count": 48,
   "id": "343ba2ce",
   "metadata": {},
   "outputs": [
    {
     "data": {
      "text/plain": [
       "F    14189\n",
       "M     7281\n",
       "Name: gender, dtype: int64"
      ]
     },
     "execution_count": 48,
     "metadata": {},
     "output_type": "execute_result"
    }
   ],
   "source": [
    "# Подсчёт количества заемщиков по полу\n",
    "df['gender'].value_counts()"
   ]
  },
  {
   "cell_type": "markdown",
   "id": "aa55b8ed",
   "metadata": {},
   "source": [
    "Данные в колонке `gender` без аномалий."
   ]
  },
  {
   "cell_type": "code",
   "execution_count": 49,
   "id": "6d42f83f",
   "metadata": {},
   "outputs": [
    {
     "data": {
      "text/plain": [
       "array(['сотрудник', 'пенсионер', 'компаньон', 'госслужащий',\n",
       "       'безработный', 'предприниматель', 'студент', 'в декрете'],\n",
       "      dtype=object)"
      ]
     },
     "execution_count": 49,
     "metadata": {},
     "output_type": "execute_result"
    }
   ],
   "source": [
    "# выводим уникальные значения income_type\n",
    "df['income_type'].unique()"
   ]
  },
  {
   "cell_type": "code",
   "execution_count": 50,
   "id": "6ed8b6cb",
   "metadata": {},
   "outputs": [
    {
     "data": {
      "text/plain": [
       "array([0, 1], dtype=int64)"
      ]
     },
     "execution_count": 50,
     "metadata": {},
     "output_type": "execute_result"
    }
   ],
   "source": [
    "# выводим уникальные значения debt\n",
    "df.sort_values(by='debt')['debt'].unique()"
   ]
  },
  {
   "cell_type": "code",
   "execution_count": 51,
   "id": "a32e0436",
   "metadata": {},
   "outputs": [
    {
     "data": {
      "text/plain": [
       "array(['покупка жилья', 'приобретение автомобиля',\n",
       "       'дополнительное образование', 'сыграть свадьбу',\n",
       "       'операции с жильем', 'образование', 'на проведение свадьбы',\n",
       "       'покупка жилья для семьи', 'покупка недвижимости',\n",
       "       'покупка коммерческой недвижимости', 'покупка жилой недвижимости',\n",
       "       'строительство собственной недвижимости', 'недвижимость',\n",
       "       'строительство недвижимости', 'на покупку подержанного автомобиля',\n",
       "       'на покупку своего автомобиля',\n",
       "       'операции с коммерческой недвижимостью',\n",
       "       'строительство жилой недвижимости', 'жилье',\n",
       "       'операции со своей недвижимостью', 'автомобили',\n",
       "       'заняться образованием', 'сделка с подержанным автомобилем',\n",
       "       'получение образования', 'автомобиль', 'свадьба',\n",
       "       'получение дополнительного образования', 'покупка своего жилья',\n",
       "       'операции с недвижимостью', 'получение высшего образования',\n",
       "       'свой автомобиль', 'сделка с автомобилем',\n",
       "       'профильное образование', 'высшее образование',\n",
       "       'покупка жилья для сдачи', 'на покупку автомобиля', 'ремонт жилью',\n",
       "       'заняться высшим образованием'], dtype=object)"
      ]
     },
     "execution_count": 51,
     "metadata": {},
     "output_type": "execute_result"
    }
   ],
   "source": [
    "# выводим уникальные значения purpose\n",
    "df['purpose'].unique()"
   ]
  },
  {
   "cell_type": "markdown",
   "id": "e08e208f",
   "metadata": {},
   "source": [
    "В колонках `income_type`, `debt`, `purpose` уникальные значения без аномалий."
   ]
  },
  {
   "cell_type": "markdown",
   "id": "9b84dbba",
   "metadata": {},
   "source": [
    "### Шаг 2.3. Изменение типов данных.\n",
    "\n",
    "Для дальнейшей работы над поставленными вопросами, необходимо посмотреть на типы данных в столбцах:\n",
    "\n",
    "* `children` имеет целочисленный формат - `int64` и удобна для дальнейшего исследования\n",
    "* `family_status` имеет строковый формат - `object`, но для дальнейшей работы будем использовать `family_status_id` с целочисленным форматом\n",
    "* `total_income` данные записаны в фомате вещественных чисел - `float64`, для удобства дальнейшей категоризации переведем в целочисленный формат\n",
    "* `purpose`- строковый формат `object` оставим без изменений."
   ]
  },
  {
   "cell_type": "code",
   "execution_count": 52,
   "id": "30ab4580",
   "metadata": {
    "scrolled": true
   },
   "outputs": [
    {
     "name": "stdout",
     "output_type": "stream",
     "text": [
      "<class 'pandas.core.frame.DataFrame'>\n",
      "Int64Index: 21470 entries, 0 to 21524\n",
      "Data columns (total 13 columns):\n",
      " #   Column              Non-Null Count  Dtype  \n",
      "---  ------              --------------  -----  \n",
      " 0   children            21470 non-null  int64  \n",
      " 1   days_employed       21470 non-null  float64\n",
      " 2   dob_years           21470 non-null  float64\n",
      " 3   education           21470 non-null  object \n",
      " 4   education_id        21470 non-null  int64  \n",
      " 5   family_status       21470 non-null  object \n",
      " 6   family_status_id    21470 non-null  int64  \n",
      " 7   gender              21470 non-null  object \n",
      " 8   income_type         21470 non-null  object \n",
      " 9   debt                21470 non-null  int64  \n",
      " 10  total_income        21470 non-null  int32  \n",
      " 11  purpose             21470 non-null  object \n",
      " 12  flag_change_income  2120 non-null   float64\n",
      "dtypes: float64(3), int32(1), int64(4), object(5)\n",
      "memory usage: 2.2+ MB\n"
     ]
    }
   ],
   "source": [
    "# изменяем формат total_income на целочисленный\n",
    "df['total_income']=df['total_income'].astype('int')\n",
    "\n",
    "# проверяем формат total_income\n",
    "df.info()"
   ]
  },
  {
   "cell_type": "markdown",
   "id": "79fec62d",
   "metadata": {},
   "source": [
    "Столбцы `days_employed` и `dob_years` не участвуют в исследовании, но мы вносили в них изменения и приведем их тоже к целочисленному формату."
   ]
  },
  {
   "cell_type": "code",
   "execution_count": 53,
   "id": "84d82d6e",
   "metadata": {},
   "outputs": [
    {
     "name": "stdout",
     "output_type": "stream",
     "text": [
      "<class 'pandas.core.frame.DataFrame'>\n",
      "Int64Index: 21470 entries, 0 to 21524\n",
      "Data columns (total 13 columns):\n",
      " #   Column              Non-Null Count  Dtype  \n",
      "---  ------              --------------  -----  \n",
      " 0   children            21470 non-null  int64  \n",
      " 1   days_employed       21470 non-null  int32  \n",
      " 2   dob_years           21470 non-null  int32  \n",
      " 3   education           21470 non-null  object \n",
      " 4   education_id        21470 non-null  int64  \n",
      " 5   family_status       21470 non-null  object \n",
      " 6   family_status_id    21470 non-null  int64  \n",
      " 7   gender              21470 non-null  object \n",
      " 8   income_type         21470 non-null  object \n",
      " 9   debt                21470 non-null  int64  \n",
      " 10  total_income        21470 non-null  int32  \n",
      " 11  purpose             21470 non-null  object \n",
      " 12  flag_change_income  2120 non-null   float64\n",
      "dtypes: float64(1), int32(3), int64(4), object(5)\n",
      "memory usage: 2.0+ MB\n"
     ]
    }
   ],
   "source": [
    "# изменяем формат days_employed и dob_years на целочисленный\n",
    "df['days_employed']=df['days_employed'].astype('int')\n",
    "df['dob_years']=df['dob_years'].astype('int')\n",
    "\n",
    "# проверяем формат days_employed и dob_years\n",
    "df.info()"
   ]
  },
  {
   "cell_type": "markdown",
   "id": "6c27e7fd",
   "metadata": {},
   "source": [
    "Формат `total_income`, `days_employed` и `dob_years` изменен на целочисленный. Можно переходить к дубликатам."
   ]
  },
  {
   "cell_type": "markdown",
   "id": "097638af",
   "metadata": {},
   "source": [
    "### Шаг 2.4. Удаление дубликатов."
   ]
  },
  {
   "cell_type": "code",
   "execution_count": 54,
   "id": "5d84ec58",
   "metadata": {},
   "outputs": [
    {
     "data": {
      "text/plain": [
       "0"
      ]
     },
     "execution_count": 54,
     "metadata": {},
     "output_type": "execute_result"
    }
   ],
   "source": [
    "# считаем кол-во явных дубликатов\n",
    "df.duplicated().sum()"
   ]
  },
  {
   "cell_type": "markdown",
   "id": "3e5cd5a2",
   "metadata": {},
   "source": [
    "Явных дубликатов нет. В шаге 2.2 мы уже удалили 54 дубликата. После всех изменений явных дубликатов не прибавилось.\n",
    "\n",
    "В шаге 2.2 неявные дубликаты были выявлены в колонкe `education`.\n",
    "Посмотрим на уникальные значения."
   ]
  },
  {
   "cell_type": "code",
   "execution_count": 55,
   "id": "b81cc2c2",
   "metadata": {},
   "outputs": [
    {
     "data": {
      "text/plain": [
       "array(['высшее', 'среднее', 'Среднее', 'СРЕДНЕЕ', 'ВЫСШЕЕ',\n",
       "       'неоконченное высшее', 'начальное', 'Высшее',\n",
       "       'НЕОКОНЧЕННОЕ ВЫСШЕЕ', 'Неоконченное высшее', 'НАЧАЛЬНОЕ',\n",
       "       'Начальное', 'Ученая степень', 'УЧЕНАЯ СТЕПЕНЬ', 'ученая степень'],\n",
       "      dtype=object)"
      ]
     },
     "execution_count": 55,
     "metadata": {},
     "output_type": "execute_result"
    }
   ],
   "source": [
    "# выводим уникальные значения education\n",
    "df['education'].unique()"
   ]
  },
  {
   "cell_type": "markdown",
   "id": "49ea4c12",
   "metadata": {},
   "source": [
    "Ошибка скорее всего случайная: не было валидации регистра на вводе данных. Необходимо привести все значения к нижнему регистру."
   ]
  },
  {
   "cell_type": "code",
   "execution_count": 56,
   "id": "1e8b9261",
   "metadata": {},
   "outputs": [
    {
     "data": {
      "text/plain": [
       "array(['высшее', 'среднее', 'неоконченное высшее', 'начальное',\n",
       "       'ученая степень'], dtype=object)"
      ]
     },
     "execution_count": 56,
     "metadata": {},
     "output_type": "execute_result"
    }
   ],
   "source": [
    "# приводим значения из колонки education к нижнему регистру\n",
    "df['education'] = df['education'].str.lower()\n",
    "\n",
    "# выводим уникальные значения education\n",
    "df['education'].unique()"
   ]
  },
  {
   "cell_type": "markdown",
   "id": "e17d3dfb",
   "metadata": {},
   "source": [
    "Посмотрим, есть ли явные дубликаты после замены регистра."
   ]
  },
  {
   "cell_type": "code",
   "execution_count": 57,
   "id": "5dca2ffb",
   "metadata": {},
   "outputs": [
    {
     "data": {
      "text/plain": [
       "17"
      ]
     },
     "execution_count": 57,
     "metadata": {},
     "output_type": "execute_result"
    }
   ],
   "source": [
    "# считаем кол-во явных дубликатов\n",
    "df.duplicated().sum()"
   ]
  },
  {
   "cell_type": "markdown",
   "id": "390d1772",
   "metadata": {},
   "source": [
    "17 дубликатов. Удаляем."
   ]
  },
  {
   "cell_type": "code",
   "execution_count": 58,
   "id": "8e3634c6",
   "metadata": {},
   "outputs": [
    {
     "data": {
      "text/plain": [
       "0"
      ]
     },
     "execution_count": 58,
     "metadata": {},
     "output_type": "execute_result"
    }
   ],
   "source": [
    "df=df.drop_duplicates()\n",
    "# проверяем кол-во явных дубликатов\n",
    "df.duplicated().sum()"
   ]
  },
  {
   "cell_type": "markdown",
   "id": "6a2d17c1",
   "metadata": {},
   "source": [
    "Все строки уникальны. Явных и неявных дубликатов в данных нет."
   ]
  },
  {
   "cell_type": "markdown",
   "id": "446683c9",
   "metadata": {},
   "source": [
    "### Шаг 2.5. Формирование дополнительных датафреймов словарей, декомпозиция исходного датафрейма.\n",
    "\n",
    "На данный момент в датафрейме есть дублирующие друг друга колонки по значению:\n",
    "* `education` - `education_id`\n",
    "* `family_status` - `family_status_id`\n",
    "\n",
    "Текстовые данные в первых занимают много памяти, являются источниками опечаток и продублированы вторыми. Для удобства создадим два новых датафрейма, в которых:\n",
    "* каждому уникальному значению из `education` соответствует уникальное значение `education_id`\n",
    "* каждому уникальному значению из `family_status` соответствует уникальное значение `family_status_id`"
   ]
  },
  {
   "cell_type": "code",
   "execution_count": 59,
   "id": "8b9a94a1",
   "metadata": {
    "scrolled": false
   },
   "outputs": [
    {
     "data": {
      "text/html": [
       "<div>\n",
       "<style scoped>\n",
       "    .dataframe tbody tr th:only-of-type {\n",
       "        vertical-align: middle;\n",
       "    }\n",
       "\n",
       "    .dataframe tbody tr th {\n",
       "        vertical-align: top;\n",
       "    }\n",
       "\n",
       "    .dataframe thead th {\n",
       "        text-align: right;\n",
       "    }\n",
       "</style>\n",
       "<table border=\"1\" class=\"dataframe\">\n",
       "  <thead>\n",
       "    <tr style=\"text-align: right;\">\n",
       "      <th></th>\n",
       "      <th>education</th>\n",
       "      <th>education_id</th>\n",
       "    </tr>\n",
       "  </thead>\n",
       "  <tbody>\n",
       "    <tr>\n",
       "      <th>0</th>\n",
       "      <td>высшее</td>\n",
       "      <td>0</td>\n",
       "    </tr>\n",
       "    <tr>\n",
       "      <th>1</th>\n",
       "      <td>среднее</td>\n",
       "      <td>1</td>\n",
       "    </tr>\n",
       "    <tr>\n",
       "      <th>2</th>\n",
       "      <td>неоконченное высшее</td>\n",
       "      <td>2</td>\n",
       "    </tr>\n",
       "    <tr>\n",
       "      <th>3</th>\n",
       "      <td>начальное</td>\n",
       "      <td>3</td>\n",
       "    </tr>\n",
       "    <tr>\n",
       "      <th>4</th>\n",
       "      <td>ученая степень</td>\n",
       "      <td>4</td>\n",
       "    </tr>\n",
       "  </tbody>\n",
       "</table>\n",
       "</div>"
      ],
      "text/plain": [
       "             education  education_id\n",
       "0               высшее             0\n",
       "1              среднее             1\n",
       "2  неоконченное высшее             2\n",
       "3            начальное             3\n",
       "4       ученая степень             4"
      ]
     },
     "execution_count": 59,
     "metadata": {},
     "output_type": "execute_result"
    }
   ],
   "source": [
    "# создаем словарь education_dict\n",
    "education_dict=df[['education','education_id']]\n",
    "education_dict=education_dict.drop_duplicates().reset_index(drop=True)\n",
    "# отображаем словарь\n",
    "education_dict"
   ]
  },
  {
   "cell_type": "code",
   "execution_count": 60,
   "id": "f5c12bb1",
   "metadata": {},
   "outputs": [
    {
     "data": {
      "text/html": [
       "<div>\n",
       "<style scoped>\n",
       "    .dataframe tbody tr th:only-of-type {\n",
       "        vertical-align: middle;\n",
       "    }\n",
       "\n",
       "    .dataframe tbody tr th {\n",
       "        vertical-align: top;\n",
       "    }\n",
       "\n",
       "    .dataframe thead th {\n",
       "        text-align: right;\n",
       "    }\n",
       "</style>\n",
       "<table border=\"1\" class=\"dataframe\">\n",
       "  <thead>\n",
       "    <tr style=\"text-align: right;\">\n",
       "      <th></th>\n",
       "      <th>family_status</th>\n",
       "      <th>family_status_id</th>\n",
       "    </tr>\n",
       "  </thead>\n",
       "  <tbody>\n",
       "    <tr>\n",
       "      <th>0</th>\n",
       "      <td>женат / замужем</td>\n",
       "      <td>0</td>\n",
       "    </tr>\n",
       "    <tr>\n",
       "      <th>1</th>\n",
       "      <td>гражданский брак</td>\n",
       "      <td>1</td>\n",
       "    </tr>\n",
       "    <tr>\n",
       "      <th>2</th>\n",
       "      <td>вдовец / вдова</td>\n",
       "      <td>2</td>\n",
       "    </tr>\n",
       "    <tr>\n",
       "      <th>3</th>\n",
       "      <td>в разводе</td>\n",
       "      <td>3</td>\n",
       "    </tr>\n",
       "    <tr>\n",
       "      <th>4</th>\n",
       "      <td>не женат / не замужем</td>\n",
       "      <td>4</td>\n",
       "    </tr>\n",
       "  </tbody>\n",
       "</table>\n",
       "</div>"
      ],
      "text/plain": [
       "           family_status  family_status_id\n",
       "0        женат / замужем                 0\n",
       "1       гражданский брак                 1\n",
       "2         вдовец / вдова                 2\n",
       "3              в разводе                 3\n",
       "4  не женат / не замужем                 4"
      ]
     },
     "execution_count": 60,
     "metadata": {},
     "output_type": "execute_result"
    }
   ],
   "source": [
    "# создаем словарь family_dict\n",
    "family_dict=df[['family_status','family_status_id']]\n",
    "family_dict=family_dict.drop_duplicates().reset_index(drop=True)\n",
    "# отображаем словарь\n",
    "family_dict"
   ]
  },
  {
   "cell_type": "markdown",
   "id": "8912cc05",
   "metadata": {},
   "source": [
    "Словари `education_dict` и `family_dict` созданы и теперь можно удалить из исходного датафрейма столбцы `education` и `family_status`, оставив только их идентификаторы: `education_id` и `family_status_id`. Новые датафреймы — это те самые «словари», к которым мы сможем обращаться по идентификатору."
   ]
  },
  {
   "cell_type": "code",
   "execution_count": 61,
   "id": "99237aee",
   "metadata": {},
   "outputs": [
    {
     "data": {
      "text/html": [
       "<div>\n",
       "<style scoped>\n",
       "    .dataframe tbody tr th:only-of-type {\n",
       "        vertical-align: middle;\n",
       "    }\n",
       "\n",
       "    .dataframe tbody tr th {\n",
       "        vertical-align: top;\n",
       "    }\n",
       "\n",
       "    .dataframe thead th {\n",
       "        text-align: right;\n",
       "    }\n",
       "</style>\n",
       "<table border=\"1\" class=\"dataframe\">\n",
       "  <thead>\n",
       "    <tr style=\"text-align: right;\">\n",
       "      <th></th>\n",
       "      <th>children</th>\n",
       "      <th>days_employed</th>\n",
       "      <th>dob_years</th>\n",
       "      <th>education_id</th>\n",
       "      <th>family_status_id</th>\n",
       "      <th>gender</th>\n",
       "      <th>income_type</th>\n",
       "      <th>debt</th>\n",
       "      <th>total_income</th>\n",
       "      <th>purpose</th>\n",
       "      <th>flag_change_income</th>\n",
       "    </tr>\n",
       "  </thead>\n",
       "  <tbody>\n",
       "    <tr>\n",
       "      <th>0</th>\n",
       "      <td>1</td>\n",
       "      <td>8437</td>\n",
       "      <td>42</td>\n",
       "      <td>0</td>\n",
       "      <td>0</td>\n",
       "      <td>F</td>\n",
       "      <td>сотрудник</td>\n",
       "      <td>0</td>\n",
       "      <td>253875</td>\n",
       "      <td>покупка жилья</td>\n",
       "      <td>NaN</td>\n",
       "    </tr>\n",
       "    <tr>\n",
       "      <th>1</th>\n",
       "      <td>1</td>\n",
       "      <td>4024</td>\n",
       "      <td>36</td>\n",
       "      <td>1</td>\n",
       "      <td>0</td>\n",
       "      <td>F</td>\n",
       "      <td>сотрудник</td>\n",
       "      <td>0</td>\n",
       "      <td>112080</td>\n",
       "      <td>приобретение автомобиля</td>\n",
       "      <td>NaN</td>\n",
       "    </tr>\n",
       "    <tr>\n",
       "      <th>2</th>\n",
       "      <td>0</td>\n",
       "      <td>5623</td>\n",
       "      <td>33</td>\n",
       "      <td>1</td>\n",
       "      <td>0</td>\n",
       "      <td>M</td>\n",
       "      <td>сотрудник</td>\n",
       "      <td>0</td>\n",
       "      <td>145885</td>\n",
       "      <td>покупка жилья</td>\n",
       "      <td>NaN</td>\n",
       "    </tr>\n",
       "    <tr>\n",
       "      <th>3</th>\n",
       "      <td>3</td>\n",
       "      <td>4124</td>\n",
       "      <td>32</td>\n",
       "      <td>1</td>\n",
       "      <td>0</td>\n",
       "      <td>M</td>\n",
       "      <td>сотрудник</td>\n",
       "      <td>0</td>\n",
       "      <td>267628</td>\n",
       "      <td>дополнительное образование</td>\n",
       "      <td>NaN</td>\n",
       "    </tr>\n",
       "    <tr>\n",
       "      <th>4</th>\n",
       "      <td>0</td>\n",
       "      <td>2249</td>\n",
       "      <td>53</td>\n",
       "      <td>1</td>\n",
       "      <td>1</td>\n",
       "      <td>F</td>\n",
       "      <td>пенсионер</td>\n",
       "      <td>0</td>\n",
       "      <td>158616</td>\n",
       "      <td>сыграть свадьбу</td>\n",
       "      <td>NaN</td>\n",
       "    </tr>\n",
       "  </tbody>\n",
       "</table>\n",
       "</div>"
      ],
      "text/plain": [
       "   children  days_employed  dob_years  education_id  family_status_id gender  \\\n",
       "0         1           8437         42             0                 0      F   \n",
       "1         1           4024         36             1                 0      F   \n",
       "2         0           5623         33             1                 0      M   \n",
       "3         3           4124         32             1                 0      M   \n",
       "4         0           2249         53             1                 1      F   \n",
       "\n",
       "  income_type  debt  total_income                     purpose  \\\n",
       "0   сотрудник     0        253875               покупка жилья   \n",
       "1   сотрудник     0        112080     приобретение автомобиля   \n",
       "2   сотрудник     0        145885               покупка жилья   \n",
       "3   сотрудник     0        267628  дополнительное образование   \n",
       "4   пенсионер     0        158616             сыграть свадьбу   \n",
       "\n",
       "   flag_change_income  \n",
       "0                 NaN  \n",
       "1                 NaN  \n",
       "2                 NaN  \n",
       "3                 NaN  \n",
       "4                 NaN  "
      ]
     },
     "execution_count": 61,
     "metadata": {},
     "output_type": "execute_result"
    }
   ],
   "source": [
    "# удаляем education и family_status из df\n",
    "df=df.drop(['education', 'family_status'], axis=1)\n",
    "df.head()"
   ]
  },
  {
   "cell_type": "markdown",
   "id": "285ddced",
   "metadata": {},
   "source": [
    "### Шаг 2.6. Категоризация дохода.\n",
    "\n",
    "Для исследования создадим категории дохода заемщиков.\n",
    "На основании диапазонов, указанных ниже, создаем столбец `total_income_category` с категориями:\n",
    "* 0–30000 — 'E';\n",
    "* 30001–50000 — 'D';\n",
    "* 50001–200000 — 'C';\n",
    "* 200001–1000000 — 'B';\n",
    "* 100001 и выше — 'A'.\n"
   ]
  },
  {
   "cell_type": "code",
   "execution_count": 62,
   "id": "a6bcc119",
   "metadata": {},
   "outputs": [
    {
     "data": {
      "text/html": [
       "<div>\n",
       "<style scoped>\n",
       "    .dataframe tbody tr th:only-of-type {\n",
       "        vertical-align: middle;\n",
       "    }\n",
       "\n",
       "    .dataframe tbody tr th {\n",
       "        vertical-align: top;\n",
       "    }\n",
       "\n",
       "    .dataframe thead th {\n",
       "        text-align: right;\n",
       "    }\n",
       "</style>\n",
       "<table border=\"1\" class=\"dataframe\">\n",
       "  <thead>\n",
       "    <tr style=\"text-align: right;\">\n",
       "      <th></th>\n",
       "      <th>children</th>\n",
       "      <th>days_employed</th>\n",
       "      <th>dob_years</th>\n",
       "      <th>education_id</th>\n",
       "      <th>family_status_id</th>\n",
       "      <th>gender</th>\n",
       "      <th>income_type</th>\n",
       "      <th>debt</th>\n",
       "      <th>total_income</th>\n",
       "      <th>purpose</th>\n",
       "      <th>flag_change_income</th>\n",
       "      <th>total_income_category</th>\n",
       "    </tr>\n",
       "  </thead>\n",
       "  <tbody>\n",
       "    <tr>\n",
       "      <th>0</th>\n",
       "      <td>1</td>\n",
       "      <td>8437</td>\n",
       "      <td>42</td>\n",
       "      <td>0</td>\n",
       "      <td>0</td>\n",
       "      <td>F</td>\n",
       "      <td>сотрудник</td>\n",
       "      <td>0</td>\n",
       "      <td>253875</td>\n",
       "      <td>покупка жилья</td>\n",
       "      <td>NaN</td>\n",
       "      <td>B</td>\n",
       "    </tr>\n",
       "    <tr>\n",
       "      <th>1</th>\n",
       "      <td>1</td>\n",
       "      <td>4024</td>\n",
       "      <td>36</td>\n",
       "      <td>1</td>\n",
       "      <td>0</td>\n",
       "      <td>F</td>\n",
       "      <td>сотрудник</td>\n",
       "      <td>0</td>\n",
       "      <td>112080</td>\n",
       "      <td>приобретение автомобиля</td>\n",
       "      <td>NaN</td>\n",
       "      <td>C</td>\n",
       "    </tr>\n",
       "    <tr>\n",
       "      <th>2</th>\n",
       "      <td>0</td>\n",
       "      <td>5623</td>\n",
       "      <td>33</td>\n",
       "      <td>1</td>\n",
       "      <td>0</td>\n",
       "      <td>M</td>\n",
       "      <td>сотрудник</td>\n",
       "      <td>0</td>\n",
       "      <td>145885</td>\n",
       "      <td>покупка жилья</td>\n",
       "      <td>NaN</td>\n",
       "      <td>C</td>\n",
       "    </tr>\n",
       "    <tr>\n",
       "      <th>3</th>\n",
       "      <td>3</td>\n",
       "      <td>4124</td>\n",
       "      <td>32</td>\n",
       "      <td>1</td>\n",
       "      <td>0</td>\n",
       "      <td>M</td>\n",
       "      <td>сотрудник</td>\n",
       "      <td>0</td>\n",
       "      <td>267628</td>\n",
       "      <td>дополнительное образование</td>\n",
       "      <td>NaN</td>\n",
       "      <td>B</td>\n",
       "    </tr>\n",
       "    <tr>\n",
       "      <th>4</th>\n",
       "      <td>0</td>\n",
       "      <td>2249</td>\n",
       "      <td>53</td>\n",
       "      <td>1</td>\n",
       "      <td>1</td>\n",
       "      <td>F</td>\n",
       "      <td>пенсионер</td>\n",
       "      <td>0</td>\n",
       "      <td>158616</td>\n",
       "      <td>сыграть свадьбу</td>\n",
       "      <td>NaN</td>\n",
       "      <td>C</td>\n",
       "    </tr>\n",
       "    <tr>\n",
       "      <th>5</th>\n",
       "      <td>0</td>\n",
       "      <td>926</td>\n",
       "      <td>27</td>\n",
       "      <td>0</td>\n",
       "      <td>1</td>\n",
       "      <td>M</td>\n",
       "      <td>компаньон</td>\n",
       "      <td>0</td>\n",
       "      <td>255763</td>\n",
       "      <td>покупка жилья</td>\n",
       "      <td>NaN</td>\n",
       "      <td>B</td>\n",
       "    </tr>\n",
       "    <tr>\n",
       "      <th>6</th>\n",
       "      <td>0</td>\n",
       "      <td>2879</td>\n",
       "      <td>43</td>\n",
       "      <td>0</td>\n",
       "      <td>0</td>\n",
       "      <td>F</td>\n",
       "      <td>компаньон</td>\n",
       "      <td>0</td>\n",
       "      <td>240525</td>\n",
       "      <td>операции с жильем</td>\n",
       "      <td>NaN</td>\n",
       "      <td>B</td>\n",
       "    </tr>\n",
       "    <tr>\n",
       "      <th>7</th>\n",
       "      <td>0</td>\n",
       "      <td>152</td>\n",
       "      <td>50</td>\n",
       "      <td>1</td>\n",
       "      <td>0</td>\n",
       "      <td>M</td>\n",
       "      <td>сотрудник</td>\n",
       "      <td>0</td>\n",
       "      <td>135823</td>\n",
       "      <td>образование</td>\n",
       "      <td>NaN</td>\n",
       "      <td>C</td>\n",
       "    </tr>\n",
       "    <tr>\n",
       "      <th>8</th>\n",
       "      <td>2</td>\n",
       "      <td>6929</td>\n",
       "      <td>35</td>\n",
       "      <td>0</td>\n",
       "      <td>1</td>\n",
       "      <td>F</td>\n",
       "      <td>сотрудник</td>\n",
       "      <td>0</td>\n",
       "      <td>95856</td>\n",
       "      <td>на проведение свадьбы</td>\n",
       "      <td>NaN</td>\n",
       "      <td>C</td>\n",
       "    </tr>\n",
       "    <tr>\n",
       "      <th>9</th>\n",
       "      <td>0</td>\n",
       "      <td>2188</td>\n",
       "      <td>41</td>\n",
       "      <td>1</td>\n",
       "      <td>0</td>\n",
       "      <td>M</td>\n",
       "      <td>сотрудник</td>\n",
       "      <td>0</td>\n",
       "      <td>144425</td>\n",
       "      <td>покупка жилья для семьи</td>\n",
       "      <td>NaN</td>\n",
       "      <td>C</td>\n",
       "    </tr>\n",
       "  </tbody>\n",
       "</table>\n",
       "</div>"
      ],
      "text/plain": [
       "   children  days_employed  dob_years  education_id  family_status_id gender  \\\n",
       "0         1           8437         42             0                 0      F   \n",
       "1         1           4024         36             1                 0      F   \n",
       "2         0           5623         33             1                 0      M   \n",
       "3         3           4124         32             1                 0      M   \n",
       "4         0           2249         53             1                 1      F   \n",
       "5         0            926         27             0                 1      M   \n",
       "6         0           2879         43             0                 0      F   \n",
       "7         0            152         50             1                 0      M   \n",
       "8         2           6929         35             0                 1      F   \n",
       "9         0           2188         41             1                 0      M   \n",
       "\n",
       "  income_type  debt  total_income                     purpose  \\\n",
       "0   сотрудник     0        253875               покупка жилья   \n",
       "1   сотрудник     0        112080     приобретение автомобиля   \n",
       "2   сотрудник     0        145885               покупка жилья   \n",
       "3   сотрудник     0        267628  дополнительное образование   \n",
       "4   пенсионер     0        158616             сыграть свадьбу   \n",
       "5   компаньон     0        255763               покупка жилья   \n",
       "6   компаньон     0        240525           операции с жильем   \n",
       "7   сотрудник     0        135823                 образование   \n",
       "8   сотрудник     0         95856       на проведение свадьбы   \n",
       "9   сотрудник     0        144425     покупка жилья для семьи   \n",
       "\n",
       "   flag_change_income total_income_category  \n",
       "0                 NaN                     B  \n",
       "1                 NaN                     C  \n",
       "2                 NaN                     C  \n",
       "3                 NaN                     B  \n",
       "4                 NaN                     C  \n",
       "5                 NaN                     B  \n",
       "6                 NaN                     B  \n",
       "7                 NaN                     C  \n",
       "8                 NaN                     C  \n",
       "9                 NaN                     C  "
      ]
     },
     "execution_count": 62,
     "metadata": {},
     "output_type": "execute_result"
    }
   ],
   "source": [
    "# создаем функцию, которая распределяет клиентов по категории в зависимости от их дохода\n",
    "\n",
    "def category_total_income(row):\n",
    "    \"\"\"\n",
    "    Функция возвращает категорию дохода клиента:\n",
    "       0–30000 — 'E';\n",
    "       30001–50000 — 'D';\n",
    "       50001–200000 — 'C';\n",
    "       200001–1000000 — 'B';\n",
    "       100001 и выше — 'A'.\n",
    "    \n",
    "    \"\"\"\n",
    "     \n",
    "    if 0<=row<=30000:\n",
    "        return 'E'\n",
    "    elif row<=50000:\n",
    "        return 'D'\n",
    "    elif row<=200000:\n",
    "        return 'C'\n",
    "    elif row<=1000000:\n",
    "        return 'B'\n",
    "    return 'A'\n",
    "\n",
    "# создаем столбец total_income_category в df\n",
    "df['total_income_category']=df['total_income'].apply(category_total_income)\n",
    "\n",
    "# смотрим первые 10 строчек df\n",
    "df.head(10)"
   ]
  },
  {
   "cell_type": "markdown",
   "id": "b6cb3b4e",
   "metadata": {},
   "source": [
    "Котегоризация по уровню дохода прошла успешно!"
   ]
  },
  {
   "cell_type": "markdown",
   "id": "4d93748f",
   "metadata": {},
   "source": [
    "### Шаг 2.7. Категоризация целей кредита.\n",
    "\n",
    "В шаге 2.2 видим в колонке `purpose` много уникальных значений целей кредита. Посмотрим на них еще раз.\n"
   ]
  },
  {
   "cell_type": "code",
   "execution_count": 63,
   "id": "ea9ddac6",
   "metadata": {},
   "outputs": [
    {
     "data": {
      "text/plain": [
       "array(['покупка жилья', 'приобретение автомобиля',\n",
       "       'дополнительное образование', 'сыграть свадьбу',\n",
       "       'операции с жильем', 'образование', 'на проведение свадьбы',\n",
       "       'покупка жилья для семьи', 'покупка недвижимости',\n",
       "       'покупка коммерческой недвижимости', 'покупка жилой недвижимости',\n",
       "       'строительство собственной недвижимости', 'недвижимость',\n",
       "       'строительство недвижимости', 'на покупку подержанного автомобиля',\n",
       "       'на покупку своего автомобиля',\n",
       "       'операции с коммерческой недвижимостью',\n",
       "       'строительство жилой недвижимости', 'жилье',\n",
       "       'операции со своей недвижимостью', 'автомобили',\n",
       "       'заняться образованием', 'сделка с подержанным автомобилем',\n",
       "       'получение образования', 'автомобиль', 'свадьба',\n",
       "       'получение дополнительного образования', 'покупка своего жилья',\n",
       "       'операции с недвижимостью', 'получение высшего образования',\n",
       "       'свой автомобиль', 'сделка с автомобилем',\n",
       "       'профильное образование', 'высшее образование',\n",
       "       'покупка жилья для сдачи', 'на покупку автомобиля', 'ремонт жилью',\n",
       "       'заняться высшим образованием'], dtype=object)"
      ]
     },
     "execution_count": 63,
     "metadata": {},
     "output_type": "execute_result"
    }
   ],
   "source": [
    "# выводим уникальные значения purpose\n",
    "df['purpose'].unique()"
   ]
  },
  {
   "cell_type": "markdown",
   "id": "65377ae1",
   "metadata": {},
   "source": [
    "Значения для удобства исследования можно обобщить в категории:\n",
    "\n",
    "* операции с автомобилем\n",
    "* операции с недвижимостью\n",
    "* проведение свадьбы\n",
    "* получение образования\n",
    "\n",
    "Создадим новый столбец `purpose_category` в df и присвоим клиентам категории на основе данных из `purpose`"
   ]
  },
  {
   "cell_type": "code",
   "execution_count": 64,
   "id": "a64affd9",
   "metadata": {},
   "outputs": [
    {
     "data": {
      "text/html": [
       "<div>\n",
       "<style scoped>\n",
       "    .dataframe tbody tr th:only-of-type {\n",
       "        vertical-align: middle;\n",
       "    }\n",
       "\n",
       "    .dataframe tbody tr th {\n",
       "        vertical-align: top;\n",
       "    }\n",
       "\n",
       "    .dataframe thead th {\n",
       "        text-align: right;\n",
       "    }\n",
       "</style>\n",
       "<table border=\"1\" class=\"dataframe\">\n",
       "  <thead>\n",
       "    <tr style=\"text-align: right;\">\n",
       "      <th></th>\n",
       "      <th>children</th>\n",
       "      <th>days_employed</th>\n",
       "      <th>dob_years</th>\n",
       "      <th>education_id</th>\n",
       "      <th>family_status_id</th>\n",
       "      <th>gender</th>\n",
       "      <th>income_type</th>\n",
       "      <th>debt</th>\n",
       "      <th>total_income</th>\n",
       "      <th>purpose</th>\n",
       "      <th>flag_change_income</th>\n",
       "      <th>total_income_category</th>\n",
       "      <th>purpose_category</th>\n",
       "    </tr>\n",
       "  </thead>\n",
       "  <tbody>\n",
       "    <tr>\n",
       "      <th>0</th>\n",
       "      <td>1</td>\n",
       "      <td>8437</td>\n",
       "      <td>42</td>\n",
       "      <td>0</td>\n",
       "      <td>0</td>\n",
       "      <td>F</td>\n",
       "      <td>сотрудник</td>\n",
       "      <td>0</td>\n",
       "      <td>253875</td>\n",
       "      <td>покупка жилья</td>\n",
       "      <td>NaN</td>\n",
       "      <td>B</td>\n",
       "      <td>операции с недвижимостью</td>\n",
       "    </tr>\n",
       "    <tr>\n",
       "      <th>1</th>\n",
       "      <td>1</td>\n",
       "      <td>4024</td>\n",
       "      <td>36</td>\n",
       "      <td>1</td>\n",
       "      <td>0</td>\n",
       "      <td>F</td>\n",
       "      <td>сотрудник</td>\n",
       "      <td>0</td>\n",
       "      <td>112080</td>\n",
       "      <td>приобретение автомобиля</td>\n",
       "      <td>NaN</td>\n",
       "      <td>C</td>\n",
       "      <td>операции с автомобилем</td>\n",
       "    </tr>\n",
       "    <tr>\n",
       "      <th>2</th>\n",
       "      <td>0</td>\n",
       "      <td>5623</td>\n",
       "      <td>33</td>\n",
       "      <td>1</td>\n",
       "      <td>0</td>\n",
       "      <td>M</td>\n",
       "      <td>сотрудник</td>\n",
       "      <td>0</td>\n",
       "      <td>145885</td>\n",
       "      <td>покупка жилья</td>\n",
       "      <td>NaN</td>\n",
       "      <td>C</td>\n",
       "      <td>операции с недвижимостью</td>\n",
       "    </tr>\n",
       "    <tr>\n",
       "      <th>3</th>\n",
       "      <td>3</td>\n",
       "      <td>4124</td>\n",
       "      <td>32</td>\n",
       "      <td>1</td>\n",
       "      <td>0</td>\n",
       "      <td>M</td>\n",
       "      <td>сотрудник</td>\n",
       "      <td>0</td>\n",
       "      <td>267628</td>\n",
       "      <td>дополнительное образование</td>\n",
       "      <td>NaN</td>\n",
       "      <td>B</td>\n",
       "      <td>получение образования</td>\n",
       "    </tr>\n",
       "    <tr>\n",
       "      <th>4</th>\n",
       "      <td>0</td>\n",
       "      <td>2249</td>\n",
       "      <td>53</td>\n",
       "      <td>1</td>\n",
       "      <td>1</td>\n",
       "      <td>F</td>\n",
       "      <td>пенсионер</td>\n",
       "      <td>0</td>\n",
       "      <td>158616</td>\n",
       "      <td>сыграть свадьбу</td>\n",
       "      <td>NaN</td>\n",
       "      <td>C</td>\n",
       "      <td>проведение свадьбы</td>\n",
       "    </tr>\n",
       "    <tr>\n",
       "      <th>5</th>\n",
       "      <td>0</td>\n",
       "      <td>926</td>\n",
       "      <td>27</td>\n",
       "      <td>0</td>\n",
       "      <td>1</td>\n",
       "      <td>M</td>\n",
       "      <td>компаньон</td>\n",
       "      <td>0</td>\n",
       "      <td>255763</td>\n",
       "      <td>покупка жилья</td>\n",
       "      <td>NaN</td>\n",
       "      <td>B</td>\n",
       "      <td>операции с недвижимостью</td>\n",
       "    </tr>\n",
       "    <tr>\n",
       "      <th>6</th>\n",
       "      <td>0</td>\n",
       "      <td>2879</td>\n",
       "      <td>43</td>\n",
       "      <td>0</td>\n",
       "      <td>0</td>\n",
       "      <td>F</td>\n",
       "      <td>компаньон</td>\n",
       "      <td>0</td>\n",
       "      <td>240525</td>\n",
       "      <td>операции с жильем</td>\n",
       "      <td>NaN</td>\n",
       "      <td>B</td>\n",
       "      <td>операции с недвижимостью</td>\n",
       "    </tr>\n",
       "    <tr>\n",
       "      <th>7</th>\n",
       "      <td>0</td>\n",
       "      <td>152</td>\n",
       "      <td>50</td>\n",
       "      <td>1</td>\n",
       "      <td>0</td>\n",
       "      <td>M</td>\n",
       "      <td>сотрудник</td>\n",
       "      <td>0</td>\n",
       "      <td>135823</td>\n",
       "      <td>образование</td>\n",
       "      <td>NaN</td>\n",
       "      <td>C</td>\n",
       "      <td>получение образования</td>\n",
       "    </tr>\n",
       "    <tr>\n",
       "      <th>8</th>\n",
       "      <td>2</td>\n",
       "      <td>6929</td>\n",
       "      <td>35</td>\n",
       "      <td>0</td>\n",
       "      <td>1</td>\n",
       "      <td>F</td>\n",
       "      <td>сотрудник</td>\n",
       "      <td>0</td>\n",
       "      <td>95856</td>\n",
       "      <td>на проведение свадьбы</td>\n",
       "      <td>NaN</td>\n",
       "      <td>C</td>\n",
       "      <td>проведение свадьбы</td>\n",
       "    </tr>\n",
       "    <tr>\n",
       "      <th>9</th>\n",
       "      <td>0</td>\n",
       "      <td>2188</td>\n",
       "      <td>41</td>\n",
       "      <td>1</td>\n",
       "      <td>0</td>\n",
       "      <td>M</td>\n",
       "      <td>сотрудник</td>\n",
       "      <td>0</td>\n",
       "      <td>144425</td>\n",
       "      <td>покупка жилья для семьи</td>\n",
       "      <td>NaN</td>\n",
       "      <td>C</td>\n",
       "      <td>операции с недвижимостью</td>\n",
       "    </tr>\n",
       "  </tbody>\n",
       "</table>\n",
       "</div>"
      ],
      "text/plain": [
       "   children  days_employed  dob_years  education_id  family_status_id gender  \\\n",
       "0         1           8437         42             0                 0      F   \n",
       "1         1           4024         36             1                 0      F   \n",
       "2         0           5623         33             1                 0      M   \n",
       "3         3           4124         32             1                 0      M   \n",
       "4         0           2249         53             1                 1      F   \n",
       "5         0            926         27             0                 1      M   \n",
       "6         0           2879         43             0                 0      F   \n",
       "7         0            152         50             1                 0      M   \n",
       "8         2           6929         35             0                 1      F   \n",
       "9         0           2188         41             1                 0      M   \n",
       "\n",
       "  income_type  debt  total_income                     purpose  \\\n",
       "0   сотрудник     0        253875               покупка жилья   \n",
       "1   сотрудник     0        112080     приобретение автомобиля   \n",
       "2   сотрудник     0        145885               покупка жилья   \n",
       "3   сотрудник     0        267628  дополнительное образование   \n",
       "4   пенсионер     0        158616             сыграть свадьбу   \n",
       "5   компаньон     0        255763               покупка жилья   \n",
       "6   компаньон     0        240525           операции с жильем   \n",
       "7   сотрудник     0        135823                 образование   \n",
       "8   сотрудник     0         95856       на проведение свадьбы   \n",
       "9   сотрудник     0        144425     покупка жилья для семьи   \n",
       "\n",
       "   flag_change_income total_income_category          purpose_category  \n",
       "0                 NaN                     B  операции с недвижимостью  \n",
       "1                 NaN                     C    операции с автомобилем  \n",
       "2                 NaN                     C  операции с недвижимостью  \n",
       "3                 NaN                     B     получение образования  \n",
       "4                 NaN                     C        проведение свадьбы  \n",
       "5                 NaN                     B  операции с недвижимостью  \n",
       "6                 NaN                     B  операции с недвижимостью  \n",
       "7                 NaN                     C     получение образования  \n",
       "8                 NaN                     C        проведение свадьбы  \n",
       "9                 NaN                     C  операции с недвижимостью  "
      ]
     },
     "execution_count": 64,
     "metadata": {},
     "output_type": "execute_result"
    }
   ],
   "source": [
    "# автомобил свадьб образован\n",
    "# создаем функцию, которая распределяет клиентов по категории в зависимости от цели кредита\n",
    "\n",
    "def category_purpose(row):\n",
    "    \"\"\"\n",
    "    Функция возвращает категорию цели кредита:\n",
    "       операции с автомобилем\n",
    "       операции с недвижимостью\n",
    "       проведение свадьбы\n",
    "       получение образования\n",
    "    \n",
    "    \"\"\"\n",
    "     \n",
    "    if 'автомобил' in row:\n",
    "        return 'операции с автомобилем'\n",
    "    elif 'свадьб' in row:\n",
    "        return 'проведение свадьбы'\n",
    "    elif 'образован' in row:\n",
    "        return 'получение образования'\n",
    "    return 'операции с недвижимостью'\n",
    "\n",
    "# создаем столбец purpose_category в df\n",
    "df['purpose_category']=df['purpose'].apply(category_purpose)\n",
    "\n",
    "# смотрим первые 10 строчек df\n",
    "df.head(10)"
   ]
  },
  {
   "cell_type": "markdown",
   "id": "6313adab",
   "metadata": {},
   "source": [
    "Категоризация по цели кредитования прошла успешно.\n",
    "\n",
    "Данные готовы к исследованию."
   ]
  },
  {
   "cell_type": "markdown",
   "id": "41595a38",
   "metadata": {},
   "source": [
    "**Выводы**\n",
    "\n",
    "Предобработка обнаружила проблемы в данных:\n",
    "\n",
    "- пропуски в двух столбцах,\n",
    "- аномальные значения,\n",
    "- дубликаты.\n",
    "\n",
    "Что было сделано:\n",
    "- заполнены 10% пропусков в колонке `total_income` медианными значениями с группировкой по типу занятости и уровню образования.\n",
    "- аномалии в `days_employed` и `dob_years` исправлены в учебных целях\n",
    "- аномалии в `children` - исправлены, в `gender` - удалены\n",
    "- удалены неявные дубликаты в `education`\n",
    "- значения столбцов `education` и `family_status` перенесены в словари\n",
    "- выделены категории `total_income_category` по уровню дохода и `purpose_category` по цели кредитования\n",
    "\n",
    "Теперь можно перейти к вопросам исследования. "
   ]
  },
  {
   "cell_type": "markdown",
   "id": "916efe9e",
   "metadata": {},
   "source": [
    "## Шаг 3. Ответы на вопросы. <a id='conclusion'></a>"
   ]
  },
  {
   "cell_type": "markdown",
   "id": "4d565872",
   "metadata": {},
   "source": [
    "### Вопрос 1:\n",
    "\n",
    "Есть ли зависимость между количеством детей и возвратом кредита в срок?\n",
    "\n",
    "Обычно людям, обременненным детьми не охотно предоставляют кредиты, исходя из большей обремененности родителей. Посмотрим, справедливы ли эти опасения кредиторов?\n",
    "\n",
    "Для ответа на этот вопрос посмотрим кол-во задолженностей из колонки `debt` относительно кол-ву детей в семье из колонки `children`"
   ]
  },
  {
   "cell_type": "code",
   "execution_count": 65,
   "id": "084f2776",
   "metadata": {},
   "outputs": [
    {
     "data": {
      "text/plain": [
       "children\n",
       "0    1063\n",
       "1     445\n",
       "2     202\n",
       "3      27\n",
       "4       4\n",
       "5       0\n",
       "Name: debt, dtype: int64"
      ]
     },
     "execution_count": 65,
     "metadata": {},
     "output_type": "execute_result"
    }
   ],
   "source": [
    "# Подсчёт количества клиентов с задолженностью по кол-ву детей в семье\n",
    "df.groupby(by='children')['debt'].sum()\n"
   ]
  },
  {
   "cell_type": "markdown",
   "id": "16db1e2d",
   "metadata": {},
   "source": [
    "Неожиданный поворот: чем больше детей, тем больше ответсвенности перед банком, если смотреть на сухие данные по должникам. Бездетных должников больше, чем должников-родителей. Но бездетных клиентов тоже больше. Посмотрим на процентное соотношение должников из каждой категории к общему числу."
   ]
  },
  {
   "cell_type": "code",
   "execution_count": 79,
   "id": "64ac9946",
   "metadata": {},
   "outputs": [],
   "source": [
    "# создаем функцию для отображения сводной таблицы с процентным соотношением доли.\n",
    "def pivot_table_ratio (column):\n",
    "    \n",
    "    # построим сводную таблицу и посчитаем долю задолженности по отношению к общему числу в группе\n",
    "    df_pivot=df.pivot_table(index=column, columns='debt', values='gender', aggfunc='count')\n",
    "\n",
    "    # считаем и округляем процентное соотношение\n",
    "    df_pivot['ratio']= df.groupby(by=column).agg({'debt': ['mean']})*100\n",
    "    df_pivot=df_pivot.round(1)\n",
    "\n",
    "    return df_pivot"
   ]
  },
  {
   "cell_type": "code",
   "execution_count": 80,
   "id": "cdf18db6",
   "metadata": {},
   "outputs": [
    {
     "data": {
      "text/html": [
       "<div>\n",
       "<style scoped>\n",
       "    .dataframe tbody tr th:only-of-type {\n",
       "        vertical-align: middle;\n",
       "    }\n",
       "\n",
       "    .dataframe tbody tr th {\n",
       "        vertical-align: top;\n",
       "    }\n",
       "\n",
       "    .dataframe thead th {\n",
       "        text-align: right;\n",
       "    }\n",
       "</style>\n",
       "<table border=\"1\" class=\"dataframe\">\n",
       "  <thead>\n",
       "    <tr style=\"text-align: right;\">\n",
       "      <th>debt</th>\n",
       "      <th>0</th>\n",
       "      <th>1</th>\n",
       "      <th>ratio</th>\n",
       "    </tr>\n",
       "    <tr>\n",
       "      <th>children</th>\n",
       "      <th></th>\n",
       "      <th></th>\n",
       "      <th></th>\n",
       "    </tr>\n",
       "  </thead>\n",
       "  <tbody>\n",
       "    <tr>\n",
       "      <th>0</th>\n",
       "      <td>13027.0</td>\n",
       "      <td>1063.0</td>\n",
       "      <td>7.5</td>\n",
       "    </tr>\n",
       "    <tr>\n",
       "      <th>1</th>\n",
       "      <td>4410.0</td>\n",
       "      <td>445.0</td>\n",
       "      <td>9.2</td>\n",
       "    </tr>\n",
       "    <tr>\n",
       "      <th>2</th>\n",
       "      <td>1926.0</td>\n",
       "      <td>202.0</td>\n",
       "      <td>9.5</td>\n",
       "    </tr>\n",
       "    <tr>\n",
       "      <th>3</th>\n",
       "      <td>303.0</td>\n",
       "      <td>27.0</td>\n",
       "      <td>8.2</td>\n",
       "    </tr>\n",
       "    <tr>\n",
       "      <th>4</th>\n",
       "      <td>37.0</td>\n",
       "      <td>4.0</td>\n",
       "      <td>9.8</td>\n",
       "    </tr>\n",
       "    <tr>\n",
       "      <th>5</th>\n",
       "      <td>9.0</td>\n",
       "      <td>NaN</td>\n",
       "      <td>0.0</td>\n",
       "    </tr>\n",
       "  </tbody>\n",
       "</table>\n",
       "</div>"
      ],
      "text/plain": [
       "debt            0       1  ratio\n",
       "children                        \n",
       "0         13027.0  1063.0    7.5\n",
       "1          4410.0   445.0    9.2\n",
       "2          1926.0   202.0    9.5\n",
       "3           303.0    27.0    8.2\n",
       "4            37.0     4.0    9.8\n",
       "5             9.0     NaN    0.0"
      ]
     },
     "execution_count": 80,
     "metadata": {},
     "output_type": "execute_result"
    }
   ],
   "source": [
    "# вызываем функцию для колонки children\n",
    "pivot_table_ratio('children')"
   ]
  },
  {
   "cell_type": "markdown",
   "id": "25dbf84a",
   "metadata": {},
   "source": [
    "И все-таки без детей кредиты выплачиваются лучше всего 7,5% должников из этой группы.\n",
    "\n",
    "Многодетные семьи с 3-я детьми идут на втором месте - 8,2%\n",
    "\n",
    "в 9,2% случаев задолженности у семей с 1 ребенком.\n",
    "\n",
    "Семьям с 2-мя и 4-мя детьми сложнее всего отдавать кредиты -9,5 - 9,8% должников.\n",
    "\n",
    "Только наличие 5 детей полностью гарантирует своевременную оплату долга. Но кол-во таких семей в данных всего 9, что не очень показательно."
   ]
  },
  {
   "cell_type": "markdown",
   "id": "91a3bdf0",
   "metadata": {},
   "source": [
    "#### Вывод 1:\n",
    "\n",
    "Клиенты без детей лучше выплачивают кредиты на 0,7-2,3% лучше, чем с детьми. Прямой зависимости кол-ва задолженностей от кол-ва детей в семьях с детьми нет."
   ]
  },
  {
   "cell_type": "markdown",
   "id": "5d19f40c",
   "metadata": {},
   "source": [
    "### Вопрос 2:\n",
    "\n",
    "Есть ли зависимость между семейным положением и возвратом кредита в срок?\n",
    "\n",
    "Ячейке общества из двух трудоспособных людей проще нести бремя долговой отвественности, чем одинокому человеку?\n",
    "\n",
    "Сгруппируем данные из `debt` по семейному положению и отобразим значения статусов из `family_dict`"
   ]
  },
  {
   "cell_type": "code",
   "execution_count": 81,
   "id": "e2d4d9e7",
   "metadata": {},
   "outputs": [
    {
     "data": {
      "text/html": [
       "<div>\n",
       "<style scoped>\n",
       "    .dataframe tbody tr th:only-of-type {\n",
       "        vertical-align: middle;\n",
       "    }\n",
       "\n",
       "    .dataframe tbody tr th {\n",
       "        vertical-align: top;\n",
       "    }\n",
       "\n",
       "    .dataframe thead th {\n",
       "        text-align: right;\n",
       "    }\n",
       "</style>\n",
       "<table border=\"1\" class=\"dataframe\">\n",
       "  <thead>\n",
       "    <tr style=\"text-align: right;\">\n",
       "      <th></th>\n",
       "      <th>family_status</th>\n",
       "      <th>family_status_id</th>\n",
       "    </tr>\n",
       "  </thead>\n",
       "  <tbody>\n",
       "    <tr>\n",
       "      <th>0</th>\n",
       "      <td>женат / замужем</td>\n",
       "      <td>0</td>\n",
       "    </tr>\n",
       "    <tr>\n",
       "      <th>1</th>\n",
       "      <td>гражданский брак</td>\n",
       "      <td>1</td>\n",
       "    </tr>\n",
       "    <tr>\n",
       "      <th>2</th>\n",
       "      <td>вдовец / вдова</td>\n",
       "      <td>2</td>\n",
       "    </tr>\n",
       "    <tr>\n",
       "      <th>3</th>\n",
       "      <td>в разводе</td>\n",
       "      <td>3</td>\n",
       "    </tr>\n",
       "    <tr>\n",
       "      <th>4</th>\n",
       "      <td>не женат / не замужем</td>\n",
       "      <td>4</td>\n",
       "    </tr>\n",
       "  </tbody>\n",
       "</table>\n",
       "</div>"
      ],
      "text/plain": [
       "           family_status  family_status_id\n",
       "0        женат / замужем                 0\n",
       "1       гражданский брак                 1\n",
       "2         вдовец / вдова                 2\n",
       "3              в разводе                 3\n",
       "4  не женат / не замужем                 4"
      ]
     },
     "execution_count": 81,
     "metadata": {},
     "output_type": "execute_result"
    }
   ],
   "source": [
    "# отображаем словарь family_dict\n",
    "family_dict"
   ]
  },
  {
   "cell_type": "code",
   "execution_count": 82,
   "id": "0b4c6d6b",
   "metadata": {},
   "outputs": [
    {
     "data": {
      "text/plain": [
       "family_status_id\n",
       "0    931\n",
       "1    388\n",
       "2     63\n",
       "3     85\n",
       "4    274\n",
       "Name: debt, dtype: int64"
      ]
     },
     "execution_count": 82,
     "metadata": {},
     "output_type": "execute_result"
    }
   ],
   "source": [
    "# Подсчёт количества клиентов с задолженностью по семейному положению\n",
    "df.groupby(by='family_status_id')['debt'].sum()"
   ]
  },
  {
   "cell_type": "markdown",
   "id": "c497915d",
   "metadata": {},
   "source": [
    "\"У двух кредиторов кредит без присмотра\" можно сказать, глядя на сухую выборку по должникам.\n",
    "Лидеры по задолженностям с хорошим отрывом пары в официальном браке, за ними идет гражданский брак и клиенты не в браке. Зато овдовевшие и в разводе реже попадают в список должников.\n",
    "\n",
    "Но посмотрим на долю должников по каждой группе."
   ]
  },
  {
   "cell_type": "code",
   "execution_count": 83,
   "id": "d33e5fb7",
   "metadata": {},
   "outputs": [
    {
     "data": {
      "text/html": [
       "<div>\n",
       "<style scoped>\n",
       "    .dataframe tbody tr th:only-of-type {\n",
       "        vertical-align: middle;\n",
       "    }\n",
       "\n",
       "    .dataframe tbody tr th {\n",
       "        vertical-align: top;\n",
       "    }\n",
       "\n",
       "    .dataframe thead th {\n",
       "        text-align: right;\n",
       "    }\n",
       "</style>\n",
       "<table border=\"1\" class=\"dataframe\">\n",
       "  <thead>\n",
       "    <tr style=\"text-align: right;\">\n",
       "      <th>debt</th>\n",
       "      <th>0</th>\n",
       "      <th>1</th>\n",
       "      <th>ratio</th>\n",
       "    </tr>\n",
       "    <tr>\n",
       "      <th>family_status_id</th>\n",
       "      <th></th>\n",
       "      <th></th>\n",
       "      <th></th>\n",
       "    </tr>\n",
       "  </thead>\n",
       "  <tbody>\n",
       "    <tr>\n",
       "      <th>0</th>\n",
       "      <td>11408</td>\n",
       "      <td>931</td>\n",
       "      <td>7.5</td>\n",
       "    </tr>\n",
       "    <tr>\n",
       "      <th>1</th>\n",
       "      <td>3762</td>\n",
       "      <td>388</td>\n",
       "      <td>9.3</td>\n",
       "    </tr>\n",
       "    <tr>\n",
       "      <th>2</th>\n",
       "      <td>896</td>\n",
       "      <td>63</td>\n",
       "      <td>6.6</td>\n",
       "    </tr>\n",
       "    <tr>\n",
       "      <th>3</th>\n",
       "      <td>1110</td>\n",
       "      <td>85</td>\n",
       "      <td>7.1</td>\n",
       "    </tr>\n",
       "    <tr>\n",
       "      <th>4</th>\n",
       "      <td>2536</td>\n",
       "      <td>274</td>\n",
       "      <td>9.8</td>\n",
       "    </tr>\n",
       "  </tbody>\n",
       "</table>\n",
       "</div>"
      ],
      "text/plain": [
       "debt                  0    1  ratio\n",
       "family_status_id                   \n",
       "0                 11408  931    7.5\n",
       "1                  3762  388    9.3\n",
       "2                   896   63    6.6\n",
       "3                  1110   85    7.1\n",
       "4                  2536  274    9.8"
      ]
     },
     "execution_count": 83,
     "metadata": {},
     "output_type": "execute_result"
    }
   ],
   "source": [
    "pivot_table_ratio('family_status_id')"
   ]
  },
  {
   "cell_type": "code",
   "execution_count": 84,
   "id": "e53595a4",
   "metadata": {},
   "outputs": [
    {
     "data": {
      "text/html": [
       "<div>\n",
       "<style scoped>\n",
       "    .dataframe tbody tr th:only-of-type {\n",
       "        vertical-align: middle;\n",
       "    }\n",
       "\n",
       "    .dataframe tbody tr th {\n",
       "        vertical-align: top;\n",
       "    }\n",
       "\n",
       "    .dataframe thead th {\n",
       "        text-align: right;\n",
       "    }\n",
       "</style>\n",
       "<table border=\"1\" class=\"dataframe\">\n",
       "  <thead>\n",
       "    <tr style=\"text-align: right;\">\n",
       "      <th></th>\n",
       "      <th>family_status_id</th>\n",
       "      <th>0</th>\n",
       "      <th>1</th>\n",
       "      <th>ratio</th>\n",
       "      <th>family_status</th>\n",
       "    </tr>\n",
       "  </thead>\n",
       "  <tbody>\n",
       "    <tr>\n",
       "      <th>0</th>\n",
       "      <td>0</td>\n",
       "      <td>11408</td>\n",
       "      <td>931</td>\n",
       "      <td>7.5</td>\n",
       "      <td>женат / замужем</td>\n",
       "    </tr>\n",
       "    <tr>\n",
       "      <th>1</th>\n",
       "      <td>1</td>\n",
       "      <td>3762</td>\n",
       "      <td>388</td>\n",
       "      <td>9.3</td>\n",
       "      <td>гражданский брак</td>\n",
       "    </tr>\n",
       "    <tr>\n",
       "      <th>2</th>\n",
       "      <td>2</td>\n",
       "      <td>896</td>\n",
       "      <td>63</td>\n",
       "      <td>6.6</td>\n",
       "      <td>вдовец / вдова</td>\n",
       "    </tr>\n",
       "    <tr>\n",
       "      <th>3</th>\n",
       "      <td>3</td>\n",
       "      <td>1110</td>\n",
       "      <td>85</td>\n",
       "      <td>7.1</td>\n",
       "      <td>в разводе</td>\n",
       "    </tr>\n",
       "    <tr>\n",
       "      <th>4</th>\n",
       "      <td>4</td>\n",
       "      <td>2536</td>\n",
       "      <td>274</td>\n",
       "      <td>9.8</td>\n",
       "      <td>не женат / не замужем</td>\n",
       "    </tr>\n",
       "  </tbody>\n",
       "</table>\n",
       "</div>"
      ],
      "text/plain": [
       "   family_status_id      0    1  ratio          family_status\n",
       "0                 0  11408  931    7.5        женат / замужем\n",
       "1                 1   3762  388    9.3       гражданский брак\n",
       "2                 2    896   63    6.6         вдовец / вдова\n",
       "3                 3   1110   85    7.1              в разводе\n",
       "4                 4   2536  274    9.8  не женат / не замужем"
      ]
     },
     "execution_count": 84,
     "metadata": {},
     "output_type": "execute_result"
    }
   ],
   "source": [
    "# вызываем функцию для колонки family_status_id добавим в сводную таблицу расшифровку family_status_id из family_dict\n",
    "df_pivot = pivot_table_ratio('family_status_id').merge(family_dict, on = 'family_status_id', how='left')\n",
    "df_pivot"
   ]
  },
  {
   "cell_type": "markdown",
   "id": "fe29ff34",
   "metadata": {},
   "source": [
    "Опять первое впечатление обманчиво. \n",
    "\n",
    "По доле в общем числе группы лидируют люди без семьи - 9,8% должников среди них; и клиенты в гражданском браке - 9,3%.\n",
    "\n",
    "В официальном браке и после него с отвественностью лучше: 7,5% и 7,1% должников.\n",
    "\n",
    "А овдовевшие люди реже всего задерживают выплаты - 6,6%"
   ]
  },
  {
   "cell_type": "markdown",
   "id": "5758749f",
   "metadata": {},
   "source": [
    "#### Вывод 2:\n",
    "\n",
    "Клиенты без официально-зарегистрированных отношений хуже возвращают кредиты, чем клиенты в браке или после него на 0,5-3,2%"
   ]
  },
  {
   "cell_type": "markdown",
   "id": "574f29a4",
   "metadata": {},
   "source": [
    "### Вопрос 3:\n",
    "\n",
    "Есть ли зависимость между уровнем дохода и возвратом кредита в срок?\n",
    "\n",
    "Чем выше доход, тем легче платить по кредиту?\n",
    "\n",
    "Сразу посмотрим на долю должников по каждой группе дохода."
   ]
  },
  {
   "cell_type": "code",
   "execution_count": 85,
   "id": "706e2fa9",
   "metadata": {},
   "outputs": [
    {
     "data": {
      "text/html": [
       "<div>\n",
       "<style scoped>\n",
       "    .dataframe tbody tr th:only-of-type {\n",
       "        vertical-align: middle;\n",
       "    }\n",
       "\n",
       "    .dataframe tbody tr th {\n",
       "        vertical-align: top;\n",
       "    }\n",
       "\n",
       "    .dataframe thead th {\n",
       "        text-align: right;\n",
       "    }\n",
       "</style>\n",
       "<table border=\"1\" class=\"dataframe\">\n",
       "  <thead>\n",
       "    <tr style=\"text-align: right;\">\n",
       "      <th>debt</th>\n",
       "      <th>0</th>\n",
       "      <th>1</th>\n",
       "      <th>ratio</th>\n",
       "    </tr>\n",
       "    <tr>\n",
       "      <th>total_income_category</th>\n",
       "      <th></th>\n",
       "      <th></th>\n",
       "      <th></th>\n",
       "    </tr>\n",
       "  </thead>\n",
       "  <tbody>\n",
       "    <tr>\n",
       "      <th>A</th>\n",
       "      <td>23</td>\n",
       "      <td>2</td>\n",
       "      <td>8.0</td>\n",
       "    </tr>\n",
       "    <tr>\n",
       "      <th>B</th>\n",
       "      <td>4863</td>\n",
       "      <td>364</td>\n",
       "      <td>7.0</td>\n",
       "    </tr>\n",
       "    <tr>\n",
       "      <th>C</th>\n",
       "      <td>14477</td>\n",
       "      <td>1352</td>\n",
       "      <td>8.5</td>\n",
       "    </tr>\n",
       "    <tr>\n",
       "      <th>D</th>\n",
       "      <td>329</td>\n",
       "      <td>21</td>\n",
       "      <td>6.0</td>\n",
       "    </tr>\n",
       "    <tr>\n",
       "      <th>E</th>\n",
       "      <td>20</td>\n",
       "      <td>2</td>\n",
       "      <td>9.1</td>\n",
       "    </tr>\n",
       "  </tbody>\n",
       "</table>\n",
       "</div>"
      ],
      "text/plain": [
       "debt                       0     1  ratio\n",
       "total_income_category                    \n",
       "A                         23     2    8.0\n",
       "B                       4863   364    7.0\n",
       "C                      14477  1352    8.5\n",
       "D                        329    21    6.0\n",
       "E                         20     2    9.1"
      ]
     },
     "execution_count": 85,
     "metadata": {},
     "output_type": "execute_result"
    }
   ],
   "source": [
    "# вызываем функцию для колонки total_income_category\n",
    "pivot_table_ratio('total_income_category')"
   ]
  },
  {
   "cell_type": "markdown",
   "id": "3c7195d8",
   "metadata": {},
   "source": [
    "Категории дохода от A до Е, где А - самые обеспеченные клиенты, а Е - самый низкий доход.\n",
    "По распределению дохода прямой пропорции к возврату долгов не наблюдается. Ожидаемо хуже всего с выплатами у клиентов с самым низким доходом (до 30тр) - 9,1%, но самый низкий процент должников 6% у следующей категории 30-50тр. в 7% случаях задерживают выплаты клиенты с высоким доходом 200тр-1млн. А самые богатые (>1млн) в 8%. Средний доход (50-200тр) возвращают долги почти также как и люди с самым низким доходом - 8,5%\n",
    "\n",
    "Также надо не забывать, что 10% пропусков в колонке с доходами были заменены медианными значениями с группировкой по типу занятости и уровню образования.\n",
    "\n",
    "Посмотрим на распределение клиентов с изначально пропущенным доходом и какая доля должников среди них."
   ]
  },
  {
   "cell_type": "code",
   "execution_count": 86,
   "id": "64827a79",
   "metadata": {},
   "outputs": [
    {
     "data": {
      "text/html": [
       "<div>\n",
       "<style scoped>\n",
       "    .dataframe tbody tr th:only-of-type {\n",
       "        vertical-align: middle;\n",
       "    }\n",
       "\n",
       "    .dataframe tbody tr th {\n",
       "        vertical-align: top;\n",
       "    }\n",
       "\n",
       "    .dataframe thead th {\n",
       "        text-align: right;\n",
       "    }\n",
       "</style>\n",
       "<table border=\"1\" class=\"dataframe\">\n",
       "  <thead>\n",
       "    <tr style=\"text-align: right;\">\n",
       "      <th></th>\n",
       "      <th>debt</th>\n",
       "      <th>0</th>\n",
       "      <th>1</th>\n",
       "      <th>ratio</th>\n",
       "    </tr>\n",
       "    <tr>\n",
       "      <th>flag_change_income</th>\n",
       "      <th>total_income_category</th>\n",
       "      <th></th>\n",
       "      <th></th>\n",
       "      <th></th>\n",
       "    </tr>\n",
       "  </thead>\n",
       "  <tbody>\n",
       "    <tr>\n",
       "      <th rowspan=\"5\" valign=\"top\">False</th>\n",
       "      <th>A</th>\n",
       "      <td>23</td>\n",
       "      <td>2</td>\n",
       "      <td>8.0</td>\n",
       "    </tr>\n",
       "    <tr>\n",
       "      <th>B</th>\n",
       "      <td>4684</td>\n",
       "      <td>356</td>\n",
       "      <td>7.1</td>\n",
       "    </tr>\n",
       "    <tr>\n",
       "      <th>C</th>\n",
       "      <td>12723</td>\n",
       "      <td>1190</td>\n",
       "      <td>8.6</td>\n",
       "    </tr>\n",
       "    <tr>\n",
       "      <th>D</th>\n",
       "      <td>329</td>\n",
       "      <td>21</td>\n",
       "      <td>6.0</td>\n",
       "    </tr>\n",
       "    <tr>\n",
       "      <th>E</th>\n",
       "      <td>20</td>\n",
       "      <td>2</td>\n",
       "      <td>9.1</td>\n",
       "    </tr>\n",
       "    <tr>\n",
       "      <th rowspan=\"2\" valign=\"top\">True</th>\n",
       "      <th>B</th>\n",
       "      <td>179</td>\n",
       "      <td>8</td>\n",
       "      <td>4.3</td>\n",
       "    </tr>\n",
       "    <tr>\n",
       "      <th>C</th>\n",
       "      <td>1754</td>\n",
       "      <td>162</td>\n",
       "      <td>8.5</td>\n",
       "    </tr>\n",
       "  </tbody>\n",
       "</table>\n",
       "</div>"
      ],
      "text/plain": [
       "debt                                          0     1  ratio\n",
       "flag_change_income total_income_category                    \n",
       "False              A                         23     2    8.0\n",
       "                   B                       4684   356    7.1\n",
       "                   C                      12723  1190    8.6\n",
       "                   D                        329    21    6.0\n",
       "                   E                         20     2    9.1\n",
       "True               B                        179     8    4.3\n",
       "                   C                       1754   162    8.5"
      ]
     },
     "execution_count": 86,
     "metadata": {},
     "output_type": "execute_result"
    }
   ],
   "source": [
    "# вызываем функцию для колонки total_income_category с сортировкой по #flag_change_income\n",
    "pivot_table_ratio([df['flag_change_income']==1, 'total_income_category'])"
   ]
  },
  {
   "cell_type": "markdown",
   "id": "d388d466",
   "metadata": {},
   "source": [
    "Изменения в заполнении коснулись только категории В и С. До заполнения пропусков значения были 7,1% и 8,6%, а после 7,0% и 8,5%. Из этого можно сделать вывод, что заполнение пропусков не сильно исказило значения в процентном соотношении."
   ]
  },
  {
   "cell_type": "markdown",
   "id": "6284c6db",
   "metadata": {},
   "source": [
    "#### Вывод 3:\n",
    "\n",
    "По распределению дохода прямой пропорции к возврату долгов не наблюдается. Хуже всего с возвратом долгов у самых бедных и клиентов со средним доходом. Лучше всего платят по кредитам клиенты с небольшим доходом. А самые богатые клиенты позволяют себе пропускать платежи чаще. Заполнение пропущенных значений в доходе медианой не сильно исказило данные. "
   ]
  },
  {
   "cell_type": "markdown",
   "id": "4f2c9d17",
   "metadata": {},
   "source": [
    "### Вопрос 4:\n",
    "\n",
    "Как разные цели кредита влияют на его возврат в срок?\n",
    "\n",
    "Никаких предположений пока нет. Посмотрим на долю должников по каждой группе дохода."
   ]
  },
  {
   "cell_type": "code",
   "execution_count": 87,
   "id": "10293f06",
   "metadata": {},
   "outputs": [
    {
     "data": {
      "text/html": [
       "<div>\n",
       "<style scoped>\n",
       "    .dataframe tbody tr th:only-of-type {\n",
       "        vertical-align: middle;\n",
       "    }\n",
       "\n",
       "    .dataframe tbody tr th {\n",
       "        vertical-align: top;\n",
       "    }\n",
       "\n",
       "    .dataframe thead th {\n",
       "        text-align: right;\n",
       "    }\n",
       "</style>\n",
       "<table border=\"1\" class=\"dataframe\">\n",
       "  <thead>\n",
       "    <tr style=\"text-align: right;\">\n",
       "      <th>debt</th>\n",
       "      <th>0</th>\n",
       "      <th>1</th>\n",
       "      <th>ratio</th>\n",
       "    </tr>\n",
       "    <tr>\n",
       "      <th>purpose_category</th>\n",
       "      <th></th>\n",
       "      <th></th>\n",
       "      <th></th>\n",
       "    </tr>\n",
       "  </thead>\n",
       "  <tbody>\n",
       "    <tr>\n",
       "      <th>операции с автомобилем</th>\n",
       "      <td>3903</td>\n",
       "      <td>403</td>\n",
       "      <td>9.4</td>\n",
       "    </tr>\n",
       "    <tr>\n",
       "      <th>операции с недвижимостью</th>\n",
       "      <td>10028</td>\n",
       "      <td>782</td>\n",
       "      <td>7.2</td>\n",
       "    </tr>\n",
       "    <tr>\n",
       "      <th>получение образования</th>\n",
       "      <td>3643</td>\n",
       "      <td>370</td>\n",
       "      <td>9.2</td>\n",
       "    </tr>\n",
       "    <tr>\n",
       "      <th>проведение свадьбы</th>\n",
       "      <td>2138</td>\n",
       "      <td>186</td>\n",
       "      <td>8.0</td>\n",
       "    </tr>\n",
       "  </tbody>\n",
       "</table>\n",
       "</div>"
      ],
      "text/plain": [
       "debt                          0    1  ratio\n",
       "purpose_category                           \n",
       "операции с автомобилем     3903  403    9.4\n",
       "операции с недвижимостью  10028  782    7.2\n",
       "получение образования      3643  370    9.2\n",
       "проведение свадьбы         2138  186    8.0"
      ]
     },
     "execution_count": 87,
     "metadata": {},
     "output_type": "execute_result"
    }
   ],
   "source": [
    "# вызываем функцию для колонки purpose_category\n",
    "pivot_table_ratio('purpose_category')"
   ]
  },
  {
   "cell_type": "markdown",
   "id": "b7fc98d1",
   "metadata": {},
   "source": [
    "По операциям с недвижимостью самый маленький процент просрочек - 7,2%\n",
    "\n",
    "На свадьбу кредит берут реже, а процент возврата на 2-м месте - 8,0%\n",
    "\n",
    "Образование и автомобили - цели, по которым задерживают чаще всего - 9,2%, 9,4%"
   ]
  },
  {
   "cell_type": "markdown",
   "id": "f86210e8",
   "metadata": {},
   "source": [
    "#### Вывод 4:\n",
    "Разброс по долям 2,2%. Не самый маленький. Наблюдается зависимость цели кредита от задержек в выплате. Чаще всего задерживают по целям Образование и Автомобили, а цели Свадьба и Недвижимость выплачивают лучше."
   ]
  },
  {
   "cell_type": "markdown",
   "id": "6ec0070b",
   "metadata": {},
   "source": [
    "## Общий вывод:"
   ]
  },
  {
   "cell_type": "markdown",
   "id": "7f161244",
   "metadata": {},
   "source": [
    "Мы провели исследование с целью ответить на вопросы по возвращаемости кредитов в зависимости от семейного положения, наличия и кол-ва детей, целей кредита и дохода заемщика.\n",
    "\n",
    "Можно резюмировать:\n",
    "\n",
    "Меньше задолженностей у овдовевших и разведенных людей, без детей, с небольшим доходом 30-50тр, по целям Свадьба и Недвижимость.\n",
    "\n",
    "Хуже возвращают кредиты клиенты без партнера или в гражданском браке, с 4-мя детьми, с низким доходом до 30тр и по целям Образование и Автомобиль.\n",
    "\n",
    "Внесенные изменения в данные в статье доходы не сильно исказили результаты. А по сильно измененным колонкам Стаж и Возраст исследование не проводилось. Остальные изменения были не значительны."
   ]
  }
 ],
 "metadata": {
  "ExecuteTimeLog": [
   {
    "duration": 760,
    "start_time": "2022-05-18T11:02:16.773Z"
   },
   {
    "duration": 20,
    "start_time": "2022-05-18T11:02:17.535Z"
   },
   {
    "duration": 48,
    "start_time": "2022-05-18T11:02:17.557Z"
   },
   {
    "duration": 15,
    "start_time": "2022-05-18T11:02:17.607Z"
   },
   {
    "duration": 11,
    "start_time": "2022-05-18T11:02:17.624Z"
   },
   {
    "duration": 11,
    "start_time": "2022-05-18T11:02:17.636Z"
   },
   {
    "duration": 7,
    "start_time": "2022-05-18T11:02:17.648Z"
   },
   {
    "duration": 19,
    "start_time": "2022-05-18T11:02:17.659Z"
   },
   {
    "duration": 11,
    "start_time": "2022-05-18T11:02:17.680Z"
   },
   {
    "duration": 7,
    "start_time": "2022-05-18T11:02:17.692Z"
   },
   {
    "duration": 14,
    "start_time": "2022-05-18T11:02:17.701Z"
   },
   {
    "duration": 11,
    "start_time": "2022-05-18T11:02:17.717Z"
   },
   {
    "duration": 40,
    "start_time": "2022-05-18T11:02:17.730Z"
   },
   {
    "duration": 188,
    "start_time": "2022-05-18T11:02:17.773Z"
   },
   {
    "duration": 8,
    "start_time": "2022-05-18T11:02:17.963Z"
   },
   {
    "duration": 225,
    "start_time": "2022-05-18T11:02:17.973Z"
   },
   {
    "duration": 11,
    "start_time": "2022-05-18T11:02:18.200Z"
   },
   {
    "duration": 47,
    "start_time": "2022-05-18T11:02:18.213Z"
   },
   {
    "duration": 16,
    "start_time": "2022-05-18T11:02:18.262Z"
   },
   {
    "duration": 17,
    "start_time": "2022-05-18T11:02:18.279Z"
   },
   {
    "duration": 16,
    "start_time": "2022-05-18T11:02:18.299Z"
   },
   {
    "duration": 12,
    "start_time": "2022-05-18T11:02:18.317Z"
   },
   {
    "duration": 30,
    "start_time": "2022-05-18T11:02:18.331Z"
   },
   {
    "duration": 4223,
    "start_time": "2022-05-18T11:02:18.363Z"
   },
   {
    "duration": 17,
    "start_time": "2022-05-18T11:02:22.588Z"
   },
   {
    "duration": 23,
    "start_time": "2022-05-18T11:02:22.608Z"
   },
   {
    "duration": 34,
    "start_time": "2022-05-18T11:02:22.633Z"
   },
   {
    "duration": 41,
    "start_time": "2022-05-18T11:02:22.669Z"
   },
   {
    "duration": 8,
    "start_time": "2022-05-18T11:02:22.711Z"
   },
   {
    "duration": 20,
    "start_time": "2022-05-18T11:02:22.720Z"
   },
   {
    "duration": 13,
    "start_time": "2022-05-18T11:02:22.741Z"
   },
   {
    "duration": 42,
    "start_time": "2022-05-18T11:02:22.756Z"
   },
   {
    "duration": 48,
    "start_time": "2022-05-18T11:02:22.801Z"
   },
   {
    "duration": 53,
    "start_time": "2022-05-18T11:02:22.852Z"
   },
   {
    "duration": 17,
    "start_time": "2022-05-18T11:02:22.906Z"
   },
   {
    "duration": 46,
    "start_time": "2022-05-18T11:02:22.926Z"
   },
   {
    "duration": 6,
    "start_time": "2022-05-18T11:02:22.974Z"
   },
   {
    "duration": 16,
    "start_time": "2022-05-18T11:02:22.981Z"
   },
   {
    "duration": 10,
    "start_time": "2022-05-18T11:02:22.998Z"
   },
   {
    "duration": 45,
    "start_time": "2022-05-18T11:02:23.010Z"
   },
   {
    "duration": 7,
    "start_time": "2022-05-18T11:02:23.061Z"
   },
   {
    "duration": 22,
    "start_time": "2022-05-18T11:02:23.070Z"
   },
   {
    "duration": 9,
    "start_time": "2022-05-18T11:02:23.094Z"
   },
   {
    "duration": 17,
    "start_time": "2022-05-18T11:02:23.106Z"
   },
   {
    "duration": 25,
    "start_time": "2022-05-18T11:02:23.126Z"
   },
   {
    "duration": 15,
    "start_time": "2022-05-18T11:02:23.153Z"
   },
   {
    "duration": 18,
    "start_time": "2022-05-18T11:02:23.170Z"
   },
   {
    "duration": 8,
    "start_time": "2022-05-18T11:02:23.190Z"
   },
   {
    "duration": 22,
    "start_time": "2022-05-18T11:02:23.201Z"
   },
   {
    "duration": 38,
    "start_time": "2022-05-18T11:02:23.224Z"
   },
   {
    "duration": 537,
    "start_time": "2022-05-18T11:06:52.160Z"
   },
   {
    "duration": 14,
    "start_time": "2022-05-18T11:06:52.699Z"
   },
   {
    "duration": 29,
    "start_time": "2022-05-18T11:06:52.715Z"
   },
   {
    "duration": 25,
    "start_time": "2022-05-18T11:06:52.746Z"
   },
   {
    "duration": 12,
    "start_time": "2022-05-18T11:06:52.774Z"
   },
   {
    "duration": 9,
    "start_time": "2022-05-18T11:06:52.788Z"
   },
   {
    "duration": 6,
    "start_time": "2022-05-18T11:06:52.799Z"
   },
   {
    "duration": 17,
    "start_time": "2022-05-18T11:06:52.807Z"
   },
   {
    "duration": 37,
    "start_time": "2022-05-18T11:06:52.825Z"
   },
   {
    "duration": 6,
    "start_time": "2022-05-18T11:06:52.864Z"
   },
   {
    "duration": 16,
    "start_time": "2022-05-18T11:06:52.871Z"
   },
   {
    "duration": 8,
    "start_time": "2022-05-18T11:06:52.888Z"
   },
   {
    "duration": 14,
    "start_time": "2022-05-18T11:06:52.898Z"
   },
   {
    "duration": 258,
    "start_time": "2022-05-18T11:06:52.914Z"
   },
   {
    "duration": 10,
    "start_time": "2022-05-18T11:06:53.173Z"
   },
   {
    "duration": 209,
    "start_time": "2022-05-18T11:06:53.185Z"
   },
   {
    "duration": 10,
    "start_time": "2022-05-18T11:06:53.397Z"
   },
   {
    "duration": 22,
    "start_time": "2022-05-18T11:06:53.409Z"
   },
   {
    "duration": 36,
    "start_time": "2022-05-18T11:06:53.433Z"
   },
   {
    "duration": 9,
    "start_time": "2022-05-18T11:06:53.470Z"
   },
   {
    "duration": 17,
    "start_time": "2022-05-18T11:06:53.480Z"
   },
   {
    "duration": 7,
    "start_time": "2022-05-18T11:06:53.499Z"
   },
   {
    "duration": 6,
    "start_time": "2022-05-18T11:06:53.508Z"
   },
   {
    "duration": 4222,
    "start_time": "2022-05-18T11:06:53.516Z"
   },
   {
    "duration": 20,
    "start_time": "2022-05-18T11:06:57.739Z"
   },
   {
    "duration": 5,
    "start_time": "2022-05-18T11:06:57.761Z"
   },
   {
    "duration": 7,
    "start_time": "2022-05-18T11:06:57.767Z"
   },
   {
    "duration": 9,
    "start_time": "2022-05-18T11:06:57.778Z"
   },
   {
    "duration": 6,
    "start_time": "2022-05-18T11:06:57.789Z"
   },
   {
    "duration": 8,
    "start_time": "2022-05-18T11:06:57.796Z"
   },
   {
    "duration": 6,
    "start_time": "2022-05-18T11:06:57.806Z"
   },
   {
    "duration": 58,
    "start_time": "2022-05-18T11:06:57.814Z"
   },
   {
    "duration": 16,
    "start_time": "2022-05-18T11:06:57.874Z"
   },
   {
    "duration": 22,
    "start_time": "2022-05-18T11:06:57.892Z"
   },
   {
    "duration": 44,
    "start_time": "2022-05-18T11:06:57.916Z"
   },
   {
    "duration": 11,
    "start_time": "2022-05-18T11:06:57.961Z"
   },
   {
    "duration": 5,
    "start_time": "2022-05-18T11:06:57.973Z"
   },
   {
    "duration": 8,
    "start_time": "2022-05-18T11:06:57.980Z"
   },
   {
    "duration": 12,
    "start_time": "2022-05-18T11:06:57.990Z"
   },
   {
    "duration": 11,
    "start_time": "2022-05-18T11:06:58.004Z"
   },
   {
    "duration": 44,
    "start_time": "2022-05-18T11:06:58.016Z"
   },
   {
    "duration": 12,
    "start_time": "2022-05-18T11:06:58.062Z"
   },
   {
    "duration": 11,
    "start_time": "2022-05-18T11:06:58.075Z"
   },
   {
    "duration": 13,
    "start_time": "2022-05-18T11:06:58.088Z"
   },
   {
    "duration": 7,
    "start_time": "2022-05-18T11:06:58.103Z"
   },
   {
    "duration": 14,
    "start_time": "2022-05-18T11:06:58.112Z"
   },
   {
    "duration": 36,
    "start_time": "2022-05-18T11:06:58.129Z"
   },
   {
    "duration": 7,
    "start_time": "2022-05-18T11:06:58.167Z"
   },
   {
    "duration": 22,
    "start_time": "2022-05-18T11:06:58.176Z"
   },
   {
    "duration": 27,
    "start_time": "2022-05-18T11:06:58.200Z"
   },
   {
    "duration": 9,
    "start_time": "2022-05-18T11:10:52.922Z"
   },
   {
    "duration": 9,
    "start_time": "2022-05-18T11:11:51.351Z"
   },
   {
    "duration": 5,
    "start_time": "2022-05-18T11:12:36.399Z"
   },
   {
    "duration": 12,
    "start_time": "2022-05-18T11:23:18.257Z"
   },
   {
    "duration": 592,
    "start_time": "2022-05-18T11:24:41.668Z"
   },
   {
    "duration": 15,
    "start_time": "2022-05-18T11:24:42.263Z"
   },
   {
    "duration": 25,
    "start_time": "2022-05-18T11:24:42.280Z"
   },
   {
    "duration": 11,
    "start_time": "2022-05-18T11:24:42.306Z"
   },
   {
    "duration": 17,
    "start_time": "2022-05-18T11:24:42.319Z"
   },
   {
    "duration": 15,
    "start_time": "2022-05-18T11:24:42.360Z"
   },
   {
    "duration": 7,
    "start_time": "2022-05-18T11:24:42.377Z"
   },
   {
    "duration": 20,
    "start_time": "2022-05-18T11:24:42.386Z"
   },
   {
    "duration": 10,
    "start_time": "2022-05-18T11:24:42.408Z"
   },
   {
    "duration": 41,
    "start_time": "2022-05-18T11:24:42.420Z"
   },
   {
    "duration": 8,
    "start_time": "2022-05-18T11:24:42.463Z"
   },
   {
    "duration": 17,
    "start_time": "2022-05-18T11:24:42.473Z"
   },
   {
    "duration": 16,
    "start_time": "2022-05-18T11:24:42.492Z"
   },
   {
    "duration": 6,
    "start_time": "2022-05-18T11:24:42.512Z"
   },
   {
    "duration": 39,
    "start_time": "2022-05-18T11:24:42.520Z"
   },
   {
    "duration": 182,
    "start_time": "2022-05-18T11:24:42.561Z"
   },
   {
    "duration": 22,
    "start_time": "2022-05-18T11:24:42.745Z"
   },
   {
    "duration": 230,
    "start_time": "2022-05-18T11:24:42.769Z"
   },
   {
    "duration": 12,
    "start_time": "2022-05-18T11:24:43.001Z"
   },
   {
    "duration": 53,
    "start_time": "2022-05-18T11:24:43.015Z"
   },
   {
    "duration": 18,
    "start_time": "2022-05-18T11:24:43.070Z"
   },
   {
    "duration": 11,
    "start_time": "2022-05-18T11:24:43.090Z"
   },
   {
    "duration": 15,
    "start_time": "2022-05-18T11:24:43.104Z"
   },
   {
    "duration": 38,
    "start_time": "2022-05-18T11:24:43.121Z"
   },
   {
    "duration": 10,
    "start_time": "2022-05-18T11:24:43.161Z"
   },
   {
    "duration": 4638,
    "start_time": "2022-05-18T11:24:43.173Z"
   },
   {
    "duration": 18,
    "start_time": "2022-05-18T11:24:47.814Z"
   },
   {
    "duration": 28,
    "start_time": "2022-05-18T11:24:47.834Z"
   },
   {
    "duration": 6,
    "start_time": "2022-05-18T11:24:47.864Z"
   },
   {
    "duration": 16,
    "start_time": "2022-05-18T11:24:47.872Z"
   },
   {
    "duration": 7,
    "start_time": "2022-05-18T11:24:47.890Z"
   },
   {
    "duration": 20,
    "start_time": "2022-05-18T11:24:47.899Z"
   },
   {
    "duration": 38,
    "start_time": "2022-05-18T11:24:47.921Z"
   },
   {
    "duration": 26,
    "start_time": "2022-05-18T11:24:47.961Z"
   },
   {
    "duration": 20,
    "start_time": "2022-05-18T11:24:47.989Z"
   },
   {
    "duration": 11,
    "start_time": "2022-05-18T11:24:48.010Z"
   },
   {
    "duration": 7,
    "start_time": "2022-05-18T11:24:48.022Z"
   },
   {
    "duration": 6,
    "start_time": "2022-05-18T11:24:48.060Z"
   },
   {
    "duration": 15,
    "start_time": "2022-05-18T11:24:48.067Z"
   },
   {
    "duration": 9,
    "start_time": "2022-05-18T11:24:48.083Z"
   },
   {
    "duration": 7,
    "start_time": "2022-05-18T11:24:48.096Z"
   },
   {
    "duration": 11,
    "start_time": "2022-05-18T11:24:48.105Z"
   },
   {
    "duration": 42,
    "start_time": "2022-05-18T11:24:48.119Z"
   },
   {
    "duration": 8,
    "start_time": "2022-05-18T11:24:48.163Z"
   },
   {
    "duration": 10,
    "start_time": "2022-05-18T11:24:48.172Z"
   },
   {
    "duration": 7,
    "start_time": "2022-05-18T11:24:48.185Z"
   },
   {
    "duration": 11,
    "start_time": "2022-05-18T11:24:48.193Z"
   },
   {
    "duration": 10,
    "start_time": "2022-05-18T11:24:48.206Z"
   },
   {
    "duration": 54,
    "start_time": "2022-05-18T11:24:48.217Z"
   },
   {
    "duration": 19,
    "start_time": "2022-05-18T11:24:48.273Z"
   },
   {
    "duration": 565,
    "start_time": "2022-05-18T11:27:24.201Z"
   },
   {
    "duration": 25,
    "start_time": "2022-05-18T11:27:24.769Z"
   },
   {
    "duration": 36,
    "start_time": "2022-05-18T11:27:24.796Z"
   },
   {
    "duration": 21,
    "start_time": "2022-05-18T11:27:24.835Z"
   },
   {
    "duration": 12,
    "start_time": "2022-05-18T11:27:24.859Z"
   },
   {
    "duration": 15,
    "start_time": "2022-05-18T11:27:24.873Z"
   },
   {
    "duration": 20,
    "start_time": "2022-05-18T11:27:24.890Z"
   },
   {
    "duration": 43,
    "start_time": "2022-05-18T11:27:24.912Z"
   },
   {
    "duration": 26,
    "start_time": "2022-05-18T11:27:24.957Z"
   },
   {
    "duration": 16,
    "start_time": "2022-05-18T11:27:24.985Z"
   },
   {
    "duration": 26,
    "start_time": "2022-05-18T11:27:25.003Z"
   },
   {
    "duration": 24,
    "start_time": "2022-05-18T11:27:25.031Z"
   },
   {
    "duration": 18,
    "start_time": "2022-05-18T11:27:25.058Z"
   },
   {
    "duration": 8,
    "start_time": "2022-05-18T11:27:25.081Z"
   },
   {
    "duration": 80,
    "start_time": "2022-05-18T11:27:25.091Z"
   },
   {
    "duration": 0,
    "start_time": "2022-05-18T11:27:25.173Z"
   },
   {
    "duration": 0,
    "start_time": "2022-05-18T11:27:25.175Z"
   },
   {
    "duration": 0,
    "start_time": "2022-05-18T11:27:25.176Z"
   },
   {
    "duration": 0,
    "start_time": "2022-05-18T11:27:25.178Z"
   },
   {
    "duration": 0,
    "start_time": "2022-05-18T11:27:25.179Z"
   },
   {
    "duration": 0,
    "start_time": "2022-05-18T11:27:25.180Z"
   },
   {
    "duration": 0,
    "start_time": "2022-05-18T11:27:25.182Z"
   },
   {
    "duration": 0,
    "start_time": "2022-05-18T11:27:25.183Z"
   },
   {
    "duration": 0,
    "start_time": "2022-05-18T11:27:25.184Z"
   },
   {
    "duration": 0,
    "start_time": "2022-05-18T11:27:25.185Z"
   },
   {
    "duration": 0,
    "start_time": "2022-05-18T11:27:25.187Z"
   },
   {
    "duration": 0,
    "start_time": "2022-05-18T11:27:25.189Z"
   },
   {
    "duration": 0,
    "start_time": "2022-05-18T11:27:25.190Z"
   },
   {
    "duration": 0,
    "start_time": "2022-05-18T11:27:25.192Z"
   },
   {
    "duration": 0,
    "start_time": "2022-05-18T11:27:25.194Z"
   },
   {
    "duration": 0,
    "start_time": "2022-05-18T11:27:25.196Z"
   },
   {
    "duration": 0,
    "start_time": "2022-05-18T11:27:25.197Z"
   },
   {
    "duration": 0,
    "start_time": "2022-05-18T11:27:25.200Z"
   },
   {
    "duration": 0,
    "start_time": "2022-05-18T11:27:25.203Z"
   },
   {
    "duration": 0,
    "start_time": "2022-05-18T11:27:25.209Z"
   },
   {
    "duration": 0,
    "start_time": "2022-05-18T11:27:25.210Z"
   },
   {
    "duration": 0,
    "start_time": "2022-05-18T11:27:25.261Z"
   },
   {
    "duration": 0,
    "start_time": "2022-05-18T11:27:25.262Z"
   },
   {
    "duration": 0,
    "start_time": "2022-05-18T11:27:25.265Z"
   },
   {
    "duration": 0,
    "start_time": "2022-05-18T11:27:25.268Z"
   },
   {
    "duration": 1,
    "start_time": "2022-05-18T11:27:25.269Z"
   },
   {
    "duration": 0,
    "start_time": "2022-05-18T11:27:25.271Z"
   },
   {
    "duration": 0,
    "start_time": "2022-05-18T11:27:25.272Z"
   },
   {
    "duration": 0,
    "start_time": "2022-05-18T11:27:25.274Z"
   },
   {
    "duration": 0,
    "start_time": "2022-05-18T11:27:25.275Z"
   },
   {
    "duration": 0,
    "start_time": "2022-05-18T11:27:25.276Z"
   },
   {
    "duration": 0,
    "start_time": "2022-05-18T11:27:25.277Z"
   },
   {
    "duration": 0,
    "start_time": "2022-05-18T11:27:25.278Z"
   },
   {
    "duration": 0,
    "start_time": "2022-05-18T11:27:25.279Z"
   },
   {
    "duration": 0,
    "start_time": "2022-05-18T11:27:25.281Z"
   },
   {
    "duration": 0,
    "start_time": "2022-05-18T11:27:25.282Z"
   },
   {
    "duration": 8,
    "start_time": "2022-05-18T11:27:42.090Z"
   },
   {
    "duration": 6,
    "start_time": "2022-05-18T11:28:36.755Z"
   },
   {
    "duration": 17,
    "start_time": "2022-05-18T11:29:16.111Z"
   },
   {
    "duration": 718,
    "start_time": "2022-05-18T11:29:26.690Z"
   },
   {
    "duration": 19,
    "start_time": "2022-05-18T11:29:27.410Z"
   },
   {
    "duration": 58,
    "start_time": "2022-05-18T11:29:27.430Z"
   },
   {
    "duration": 30,
    "start_time": "2022-05-18T11:29:27.490Z"
   },
   {
    "duration": 41,
    "start_time": "2022-05-18T11:29:27.523Z"
   },
   {
    "duration": 14,
    "start_time": "2022-05-18T11:29:27.567Z"
   },
   {
    "duration": 9,
    "start_time": "2022-05-18T11:29:27.584Z"
   },
   {
    "duration": 41,
    "start_time": "2022-05-18T11:29:27.596Z"
   },
   {
    "duration": 30,
    "start_time": "2022-05-18T11:29:27.639Z"
   },
   {
    "duration": 8,
    "start_time": "2022-05-18T11:29:27.672Z"
   },
   {
    "duration": 17,
    "start_time": "2022-05-18T11:29:27.683Z"
   },
   {
    "duration": 9,
    "start_time": "2022-05-18T11:29:27.704Z"
   },
   {
    "duration": 45,
    "start_time": "2022-05-18T11:29:27.715Z"
   },
   {
    "duration": 9,
    "start_time": "2022-05-18T11:29:27.762Z"
   },
   {
    "duration": 42,
    "start_time": "2022-05-18T11:29:27.776Z"
   },
   {
    "duration": 23,
    "start_time": "2022-05-18T11:29:27.819Z"
   },
   {
    "duration": 254,
    "start_time": "2022-05-18T11:29:27.844Z"
   },
   {
    "duration": 18,
    "start_time": "2022-05-18T11:29:28.103Z"
   },
   {
    "duration": 309,
    "start_time": "2022-05-18T11:29:28.124Z"
   },
   {
    "duration": 18,
    "start_time": "2022-05-18T11:29:28.435Z"
   },
   {
    "duration": 40,
    "start_time": "2022-05-18T11:29:28.458Z"
   },
   {
    "duration": 29,
    "start_time": "2022-05-18T11:29:28.500Z"
   },
   {
    "duration": 36,
    "start_time": "2022-05-18T11:29:28.532Z"
   },
   {
    "duration": 28,
    "start_time": "2022-05-18T11:29:28.570Z"
   },
   {
    "duration": 11,
    "start_time": "2022-05-18T11:29:28.600Z"
   },
   {
    "duration": 10,
    "start_time": "2022-05-18T11:29:28.613Z"
   },
   {
    "duration": 5818,
    "start_time": "2022-05-18T11:29:28.625Z"
   },
   {
    "duration": 26,
    "start_time": "2022-05-18T11:29:34.445Z"
   },
   {
    "duration": 14,
    "start_time": "2022-05-18T11:29:34.473Z"
   },
   {
    "duration": 12,
    "start_time": "2022-05-18T11:29:34.491Z"
   },
   {
    "duration": 13,
    "start_time": "2022-05-18T11:29:34.505Z"
   },
   {
    "duration": 10,
    "start_time": "2022-05-18T11:29:34.520Z"
   },
   {
    "duration": 32,
    "start_time": "2022-05-18T11:29:34.532Z"
   },
   {
    "duration": 18,
    "start_time": "2022-05-18T11:29:34.566Z"
   },
   {
    "duration": 32,
    "start_time": "2022-05-18T11:29:34.585Z"
   },
   {
    "duration": 18,
    "start_time": "2022-05-18T11:29:34.619Z"
   },
   {
    "duration": 26,
    "start_time": "2022-05-18T11:29:34.639Z"
   },
   {
    "duration": 10,
    "start_time": "2022-05-18T11:29:34.667Z"
   },
   {
    "duration": 18,
    "start_time": "2022-05-18T11:29:34.680Z"
   },
   {
    "duration": 16,
    "start_time": "2022-05-18T11:29:34.700Z"
   },
   {
    "duration": 21,
    "start_time": "2022-05-18T11:29:34.720Z"
   },
   {
    "duration": 40,
    "start_time": "2022-05-18T11:29:34.744Z"
   },
   {
    "duration": 44,
    "start_time": "2022-05-18T11:29:34.787Z"
   },
   {
    "duration": 31,
    "start_time": "2022-05-18T11:29:34.834Z"
   },
   {
    "duration": 20,
    "start_time": "2022-05-18T11:29:34.869Z"
   },
   {
    "duration": 16,
    "start_time": "2022-05-18T11:29:34.891Z"
   },
   {
    "duration": 17,
    "start_time": "2022-05-18T11:29:34.909Z"
   },
   {
    "duration": 12,
    "start_time": "2022-05-18T11:29:34.931Z"
   },
   {
    "duration": 15,
    "start_time": "2022-05-18T11:29:34.945Z"
   },
   {
    "duration": 23,
    "start_time": "2022-05-18T11:29:34.963Z"
   },
   {
    "duration": 30,
    "start_time": "2022-05-18T11:29:34.988Z"
   },
   {
    "duration": 25,
    "start_time": "2022-05-18T11:30:12.810Z"
   },
   {
    "duration": 43,
    "start_time": "2022-05-18T11:30:31.920Z"
   },
   {
    "duration": 6,
    "start_time": "2022-05-18T11:31:29.470Z"
   },
   {
    "duration": 11,
    "start_time": "2022-05-18T11:31:57.091Z"
   },
   {
    "duration": 17,
    "start_time": "2022-05-18T11:32:21.820Z"
   },
   {
    "duration": 153,
    "start_time": "2022-05-18T11:42:54.618Z"
   },
   {
    "duration": 229,
    "start_time": "2022-05-18T11:43:37.298Z"
   },
   {
    "duration": 506,
    "start_time": "2022-05-18T11:43:50.385Z"
   },
   {
    "duration": 14,
    "start_time": "2022-05-18T11:43:50.893Z"
   },
   {
    "duration": 24,
    "start_time": "2022-05-18T11:43:50.909Z"
   },
   {
    "duration": 27,
    "start_time": "2022-05-18T11:43:50.935Z"
   },
   {
    "duration": 11,
    "start_time": "2022-05-18T11:43:50.965Z"
   },
   {
    "duration": 12,
    "start_time": "2022-05-18T11:43:50.978Z"
   },
   {
    "duration": 6,
    "start_time": "2022-05-18T11:43:50.992Z"
   },
   {
    "duration": 19,
    "start_time": "2022-05-18T11:43:51.000Z"
   },
   {
    "duration": 44,
    "start_time": "2022-05-18T11:43:51.021Z"
   },
   {
    "duration": 7,
    "start_time": "2022-05-18T11:43:51.067Z"
   },
   {
    "duration": 6,
    "start_time": "2022-05-18T11:43:51.076Z"
   },
   {
    "duration": 15,
    "start_time": "2022-05-18T11:43:51.084Z"
   },
   {
    "duration": 8,
    "start_time": "2022-05-18T11:43:51.101Z"
   },
   {
    "duration": 6,
    "start_time": "2022-05-18T11:43:51.113Z"
   },
   {
    "duration": 47,
    "start_time": "2022-05-18T11:43:51.121Z"
   },
   {
    "duration": 166,
    "start_time": "2022-05-18T11:43:51.170Z"
   },
   {
    "duration": 11,
    "start_time": "2022-05-18T11:43:51.338Z"
   },
   {
    "duration": 170,
    "start_time": "2022-05-18T11:43:51.359Z"
   },
   {
    "duration": 8,
    "start_time": "2022-05-18T11:43:51.531Z"
   },
   {
    "duration": 211,
    "start_time": "2022-05-18T11:43:51.540Z"
   },
   {
    "duration": 14,
    "start_time": "2022-05-18T11:43:51.752Z"
   },
   {
    "duration": 44,
    "start_time": "2022-05-18T11:43:51.768Z"
   },
   {
    "duration": 13,
    "start_time": "2022-05-18T11:43:51.813Z"
   },
   {
    "duration": 13,
    "start_time": "2022-05-18T11:43:51.828Z"
   },
   {
    "duration": 22,
    "start_time": "2022-05-18T11:43:51.843Z"
   },
   {
    "duration": 15,
    "start_time": "2022-05-18T11:43:51.867Z"
   },
   {
    "duration": 22,
    "start_time": "2022-05-18T11:43:51.884Z"
   },
   {
    "duration": 4195,
    "start_time": "2022-05-18T11:43:51.908Z"
   },
   {
    "duration": 16,
    "start_time": "2022-05-18T11:43:56.105Z"
   },
   {
    "duration": 8,
    "start_time": "2022-05-18T11:43:56.123Z"
   },
   {
    "duration": 27,
    "start_time": "2022-05-18T11:43:56.132Z"
   },
   {
    "duration": 7,
    "start_time": "2022-05-18T11:43:56.161Z"
   },
   {
    "duration": 8,
    "start_time": "2022-05-18T11:43:56.170Z"
   },
   {
    "duration": 14,
    "start_time": "2022-05-18T11:43:56.180Z"
   },
   {
    "duration": 15,
    "start_time": "2022-05-18T11:43:56.195Z"
   },
   {
    "duration": 22,
    "start_time": "2022-05-18T11:43:56.211Z"
   },
   {
    "duration": 32,
    "start_time": "2022-05-18T11:43:56.235Z"
   },
   {
    "duration": 9,
    "start_time": "2022-05-18T11:43:56.269Z"
   },
   {
    "duration": 7,
    "start_time": "2022-05-18T11:43:56.280Z"
   },
   {
    "duration": 7,
    "start_time": "2022-05-18T11:43:56.288Z"
   },
   {
    "duration": 14,
    "start_time": "2022-05-18T11:43:56.298Z"
   },
   {
    "duration": 8,
    "start_time": "2022-05-18T11:43:56.313Z"
   },
   {
    "duration": 4,
    "start_time": "2022-05-18T11:43:56.322Z"
   },
   {
    "duration": 35,
    "start_time": "2022-05-18T11:43:56.328Z"
   },
   {
    "duration": 6,
    "start_time": "2022-05-18T11:43:56.365Z"
   },
   {
    "duration": 18,
    "start_time": "2022-05-18T11:43:56.372Z"
   },
   {
    "duration": 6,
    "start_time": "2022-05-18T11:43:56.392Z"
   },
   {
    "duration": 8,
    "start_time": "2022-05-18T11:43:56.400Z"
   },
   {
    "duration": 8,
    "start_time": "2022-05-18T11:43:56.409Z"
   },
   {
    "duration": 7,
    "start_time": "2022-05-18T11:43:56.419Z"
   },
   {
    "duration": 43,
    "start_time": "2022-05-18T11:43:56.427Z"
   },
   {
    "duration": 18,
    "start_time": "2022-05-18T11:43:56.472Z"
   },
   {
    "duration": 571,
    "start_time": "2022-05-18T11:50:00.478Z"
   },
   {
    "duration": 14,
    "start_time": "2022-05-18T11:50:01.051Z"
   },
   {
    "duration": 48,
    "start_time": "2022-05-18T11:50:01.066Z"
   },
   {
    "duration": 33,
    "start_time": "2022-05-18T11:50:01.116Z"
   },
   {
    "duration": 61,
    "start_time": "2022-05-18T11:50:01.152Z"
   },
   {
    "duration": 18,
    "start_time": "2022-05-18T11:50:01.215Z"
   },
   {
    "duration": 94,
    "start_time": "2022-05-18T11:50:01.235Z"
   },
   {
    "duration": 101,
    "start_time": "2022-05-18T11:50:01.331Z"
   },
   {
    "duration": 29,
    "start_time": "2022-05-18T11:50:01.434Z"
   },
   {
    "duration": 16,
    "start_time": "2022-05-18T11:50:01.465Z"
   },
   {
    "duration": 47,
    "start_time": "2022-05-18T11:50:01.483Z"
   },
   {
    "duration": 20,
    "start_time": "2022-05-18T11:50:01.532Z"
   },
   {
    "duration": 28,
    "start_time": "2022-05-18T11:50:01.554Z"
   },
   {
    "duration": 14,
    "start_time": "2022-05-18T11:50:01.586Z"
   },
   {
    "duration": 87,
    "start_time": "2022-05-18T11:50:01.602Z"
   },
   {
    "duration": 236,
    "start_time": "2022-05-18T11:50:01.692Z"
   },
   {
    "duration": 307,
    "start_time": "2022-05-18T11:50:01.930Z"
   },
   {
    "duration": 21,
    "start_time": "2022-05-18T11:50:02.239Z"
   },
   {
    "duration": 207,
    "start_time": "2022-05-18T11:50:02.262Z"
   },
   {
    "duration": 11,
    "start_time": "2022-05-18T11:50:02.471Z"
   },
   {
    "duration": 233,
    "start_time": "2022-05-18T11:50:02.483Z"
   },
   {
    "duration": 16,
    "start_time": "2022-05-18T11:50:02.719Z"
   },
   {
    "duration": 47,
    "start_time": "2022-05-18T11:50:02.737Z"
   },
   {
    "duration": 21,
    "start_time": "2022-05-18T11:50:02.786Z"
   },
   {
    "duration": 40,
    "start_time": "2022-05-18T11:50:02.809Z"
   },
   {
    "duration": 33,
    "start_time": "2022-05-18T11:50:02.851Z"
   },
   {
    "duration": 29,
    "start_time": "2022-05-18T11:50:02.886Z"
   },
   {
    "duration": 57,
    "start_time": "2022-05-18T11:50:02.917Z"
   },
   {
    "duration": 4834,
    "start_time": "2022-05-18T11:50:02.977Z"
   },
   {
    "duration": 13,
    "start_time": "2022-05-18T11:50:07.814Z"
   },
   {
    "duration": 13,
    "start_time": "2022-05-18T11:50:07.829Z"
   },
   {
    "duration": 8,
    "start_time": "2022-05-18T11:50:07.860Z"
   },
   {
    "duration": 12,
    "start_time": "2022-05-18T11:50:07.870Z"
   },
   {
    "duration": 8,
    "start_time": "2022-05-18T11:50:07.885Z"
   },
   {
    "duration": 24,
    "start_time": "2022-05-18T11:50:07.895Z"
   },
   {
    "duration": 46,
    "start_time": "2022-05-18T11:50:07.921Z"
   },
   {
    "duration": 24,
    "start_time": "2022-05-18T11:50:07.970Z"
   },
   {
    "duration": 21,
    "start_time": "2022-05-18T11:50:07.995Z"
   },
   {
    "duration": 10,
    "start_time": "2022-05-18T11:50:08.018Z"
   },
   {
    "duration": 10,
    "start_time": "2022-05-18T11:50:08.030Z"
   },
   {
    "duration": 8,
    "start_time": "2022-05-18T11:50:08.061Z"
   },
   {
    "duration": 14,
    "start_time": "2022-05-18T11:50:08.071Z"
   },
   {
    "duration": 10,
    "start_time": "2022-05-18T11:50:08.087Z"
   },
   {
    "duration": 17,
    "start_time": "2022-05-18T11:50:08.098Z"
   },
   {
    "duration": 10,
    "start_time": "2022-05-18T11:50:08.117Z"
   },
   {
    "duration": 7,
    "start_time": "2022-05-18T11:50:08.129Z"
   },
   {
    "duration": 24,
    "start_time": "2022-05-18T11:50:08.137Z"
   },
   {
    "duration": 7,
    "start_time": "2022-05-18T11:50:08.163Z"
   },
   {
    "duration": 14,
    "start_time": "2022-05-18T11:50:08.172Z"
   },
   {
    "duration": 13,
    "start_time": "2022-05-18T11:50:08.188Z"
   },
   {
    "duration": 9,
    "start_time": "2022-05-18T11:50:08.203Z"
   },
   {
    "duration": 21,
    "start_time": "2022-05-18T11:50:08.214Z"
   },
   {
    "duration": 48,
    "start_time": "2022-05-18T11:50:08.237Z"
   },
   {
    "duration": 611,
    "start_time": "2022-05-18T11:55:17.376Z"
   },
   {
    "duration": 19,
    "start_time": "2022-05-18T11:55:17.989Z"
   },
   {
    "duration": 19,
    "start_time": "2022-05-18T11:55:18.010Z"
   },
   {
    "duration": 45,
    "start_time": "2022-05-18T11:55:18.032Z"
   },
   {
    "duration": 24,
    "start_time": "2022-05-18T11:55:18.083Z"
   },
   {
    "duration": 12,
    "start_time": "2022-05-18T11:55:18.108Z"
   },
   {
    "duration": 6,
    "start_time": "2022-05-18T11:55:18.122Z"
   },
   {
    "duration": 19,
    "start_time": "2022-05-18T11:55:18.130Z"
   },
   {
    "duration": 9,
    "start_time": "2022-05-18T11:55:18.151Z"
   },
   {
    "duration": 11,
    "start_time": "2022-05-18T11:55:18.162Z"
   },
   {
    "duration": 38,
    "start_time": "2022-05-18T11:55:18.175Z"
   },
   {
    "duration": 8,
    "start_time": "2022-05-18T11:55:18.215Z"
   },
   {
    "duration": 20,
    "start_time": "2022-05-18T11:55:18.225Z"
   },
   {
    "duration": 6,
    "start_time": "2022-05-18T11:55:18.247Z"
   },
   {
    "duration": 35,
    "start_time": "2022-05-18T11:55:18.254Z"
   },
   {
    "duration": 164,
    "start_time": "2022-05-18T11:55:18.291Z"
   },
   {
    "duration": 304,
    "start_time": "2022-05-18T11:55:18.456Z"
   },
   {
    "duration": 8,
    "start_time": "2022-05-18T11:55:18.762Z"
   },
   {
    "duration": 61,
    "start_time": "2022-05-18T11:55:18.771Z"
   },
   {
    "duration": 217,
    "start_time": "2022-05-18T11:55:18.834Z"
   },
   {
    "duration": 31,
    "start_time": "2022-05-18T11:55:19.052Z"
   },
   {
    "duration": 309,
    "start_time": "2022-05-18T11:55:19.085Z"
   },
   {
    "duration": 10,
    "start_time": "2022-05-18T11:55:19.396Z"
   },
   {
    "duration": 30,
    "start_time": "2022-05-18T11:55:19.408Z"
   },
   {
    "duration": 34,
    "start_time": "2022-05-18T11:55:19.440Z"
   },
   {
    "duration": 23,
    "start_time": "2022-05-18T11:55:19.478Z"
   },
   {
    "duration": 17,
    "start_time": "2022-05-18T11:55:19.503Z"
   },
   {
    "duration": 11,
    "start_time": "2022-05-18T11:55:19.523Z"
   },
   {
    "duration": 9,
    "start_time": "2022-05-18T11:55:19.537Z"
   },
   {
    "duration": 4682,
    "start_time": "2022-05-18T11:55:19.548Z"
   },
   {
    "duration": 18,
    "start_time": "2022-05-18T11:55:24.232Z"
   },
   {
    "duration": 11,
    "start_time": "2022-05-18T11:55:24.264Z"
   },
   {
    "duration": 33,
    "start_time": "2022-05-18T11:55:24.277Z"
   },
   {
    "duration": 15,
    "start_time": "2022-05-18T11:55:24.312Z"
   },
   {
    "duration": 11,
    "start_time": "2022-05-18T11:55:24.329Z"
   },
   {
    "duration": 28,
    "start_time": "2022-05-18T11:55:24.342Z"
   },
   {
    "duration": 27,
    "start_time": "2022-05-18T11:55:24.372Z"
   },
   {
    "duration": 39,
    "start_time": "2022-05-18T11:55:24.401Z"
   },
   {
    "duration": 29,
    "start_time": "2022-05-18T11:55:24.442Z"
   },
   {
    "duration": 30,
    "start_time": "2022-05-18T11:55:24.473Z"
   },
   {
    "duration": 10,
    "start_time": "2022-05-18T11:55:24.505Z"
   },
   {
    "duration": 16,
    "start_time": "2022-05-18T11:55:24.516Z"
   },
   {
    "duration": 21,
    "start_time": "2022-05-18T11:55:24.534Z"
   },
   {
    "duration": 12,
    "start_time": "2022-05-18T11:55:24.557Z"
   },
   {
    "duration": 21,
    "start_time": "2022-05-18T11:55:24.571Z"
   },
   {
    "duration": 12,
    "start_time": "2022-05-18T11:55:24.593Z"
   },
   {
    "duration": 8,
    "start_time": "2022-05-18T11:55:24.606Z"
   },
   {
    "duration": 20,
    "start_time": "2022-05-18T11:55:24.615Z"
   },
   {
    "duration": 9,
    "start_time": "2022-05-18T11:55:24.637Z"
   },
   {
    "duration": 18,
    "start_time": "2022-05-18T11:55:24.647Z"
   },
   {
    "duration": 19,
    "start_time": "2022-05-18T11:55:24.670Z"
   },
   {
    "duration": 5,
    "start_time": "2022-05-18T11:55:24.691Z"
   },
   {
    "duration": 28,
    "start_time": "2022-05-18T11:55:24.698Z"
   },
   {
    "duration": 31,
    "start_time": "2022-05-18T11:55:24.728Z"
   },
   {
    "duration": 532,
    "start_time": "2022-05-18T11:55:53.352Z"
   },
   {
    "duration": 15,
    "start_time": "2022-05-18T11:55:53.886Z"
   },
   {
    "duration": 23,
    "start_time": "2022-05-18T11:55:53.902Z"
   },
   {
    "duration": 45,
    "start_time": "2022-05-18T11:55:53.928Z"
   },
   {
    "duration": 12,
    "start_time": "2022-05-18T11:55:53.974Z"
   },
   {
    "duration": 10,
    "start_time": "2022-05-18T11:55:53.988Z"
   },
   {
    "duration": 7,
    "start_time": "2022-05-18T11:55:53.999Z"
   },
   {
    "duration": 17,
    "start_time": "2022-05-18T11:55:54.007Z"
   },
   {
    "duration": 9,
    "start_time": "2022-05-18T11:55:54.026Z"
   },
   {
    "duration": 11,
    "start_time": "2022-05-18T11:55:54.059Z"
   },
   {
    "duration": 12,
    "start_time": "2022-05-18T11:55:54.075Z"
   },
   {
    "duration": 8,
    "start_time": "2022-05-18T11:55:54.089Z"
   },
   {
    "duration": 8,
    "start_time": "2022-05-18T11:55:54.099Z"
   },
   {
    "duration": 5,
    "start_time": "2022-05-18T11:55:54.108Z"
   },
   {
    "duration": 14,
    "start_time": "2022-05-18T11:55:54.114Z"
   },
   {
    "duration": 181,
    "start_time": "2022-05-18T11:55:54.129Z"
   },
   {
    "duration": 281,
    "start_time": "2022-05-18T11:55:54.311Z"
   },
   {
    "duration": 6,
    "start_time": "2022-05-18T11:55:54.593Z"
   },
   {
    "duration": 19,
    "start_time": "2022-05-18T11:55:54.601Z"
   },
   {
    "duration": 178,
    "start_time": "2022-05-18T11:55:54.622Z"
   },
   {
    "duration": 10,
    "start_time": "2022-05-18T11:55:54.802Z"
   },
   {
    "duration": 259,
    "start_time": "2022-05-18T11:55:54.813Z"
   },
   {
    "duration": 9,
    "start_time": "2022-05-18T11:55:55.073Z"
   },
   {
    "duration": 27,
    "start_time": "2022-05-18T11:55:55.084Z"
   },
   {
    "duration": 14,
    "start_time": "2022-05-18T11:55:55.112Z"
   },
   {
    "duration": 8,
    "start_time": "2022-05-18T11:55:55.127Z"
   },
   {
    "duration": 18,
    "start_time": "2022-05-18T11:55:55.158Z"
   },
   {
    "duration": 12,
    "start_time": "2022-05-18T11:55:55.181Z"
   },
   {
    "duration": 7,
    "start_time": "2022-05-18T11:55:55.195Z"
   },
   {
    "duration": 4382,
    "start_time": "2022-05-18T11:55:55.204Z"
   },
   {
    "duration": 11,
    "start_time": "2022-05-18T11:55:59.588Z"
   },
   {
    "duration": 40,
    "start_time": "2022-05-18T11:55:59.600Z"
   },
   {
    "duration": 32,
    "start_time": "2022-05-18T11:55:59.641Z"
   },
   {
    "duration": 31,
    "start_time": "2022-05-18T11:55:59.674Z"
   },
   {
    "duration": 27,
    "start_time": "2022-05-18T11:55:59.706Z"
   },
   {
    "duration": 59,
    "start_time": "2022-05-18T11:55:59.736Z"
   },
   {
    "duration": 47,
    "start_time": "2022-05-18T11:55:59.797Z"
   },
   {
    "duration": 59,
    "start_time": "2022-05-18T11:55:59.846Z"
   },
   {
    "duration": 17,
    "start_time": "2022-05-18T11:55:59.907Z"
   },
   {
    "duration": 27,
    "start_time": "2022-05-18T11:55:59.926Z"
   },
   {
    "duration": 35,
    "start_time": "2022-05-18T11:55:59.955Z"
   },
   {
    "duration": 27,
    "start_time": "2022-05-18T11:55:59.992Z"
   },
   {
    "duration": 29,
    "start_time": "2022-05-18T11:56:00.021Z"
   },
   {
    "duration": 39,
    "start_time": "2022-05-18T11:56:00.052Z"
   },
   {
    "duration": 27,
    "start_time": "2022-05-18T11:56:00.092Z"
   },
   {
    "duration": 27,
    "start_time": "2022-05-18T11:56:00.121Z"
   },
   {
    "duration": 50,
    "start_time": "2022-05-18T11:56:00.149Z"
   },
   {
    "duration": 36,
    "start_time": "2022-05-18T11:56:00.201Z"
   },
   {
    "duration": 42,
    "start_time": "2022-05-18T11:56:00.239Z"
   },
   {
    "duration": 26,
    "start_time": "2022-05-18T11:56:00.284Z"
   },
   {
    "duration": 39,
    "start_time": "2022-05-18T11:56:00.311Z"
   },
   {
    "duration": 49,
    "start_time": "2022-05-18T11:56:00.352Z"
   },
   {
    "duration": 39,
    "start_time": "2022-05-18T11:56:00.403Z"
   },
   {
    "duration": 48,
    "start_time": "2022-05-18T11:56:00.444Z"
   },
   {
    "duration": 537,
    "start_time": "2022-05-18T11:56:22.871Z"
   },
   {
    "duration": 15,
    "start_time": "2022-05-18T11:56:23.410Z"
   },
   {
    "duration": 34,
    "start_time": "2022-05-18T11:56:23.426Z"
   },
   {
    "duration": 16,
    "start_time": "2022-05-18T11:56:23.461Z"
   },
   {
    "duration": 12,
    "start_time": "2022-05-18T11:56:23.479Z"
   },
   {
    "duration": 11,
    "start_time": "2022-05-18T11:56:23.493Z"
   },
   {
    "duration": 27,
    "start_time": "2022-05-18T11:56:23.505Z"
   },
   {
    "duration": 24,
    "start_time": "2022-05-18T11:56:23.533Z"
   },
   {
    "duration": 24,
    "start_time": "2022-05-18T11:56:23.561Z"
   },
   {
    "duration": 8,
    "start_time": "2022-05-18T11:56:23.586Z"
   },
   {
    "duration": 15,
    "start_time": "2022-05-18T11:56:23.596Z"
   },
   {
    "duration": 23,
    "start_time": "2022-05-18T11:56:23.613Z"
   },
   {
    "duration": 19,
    "start_time": "2022-05-18T11:56:23.638Z"
   },
   {
    "duration": 25,
    "start_time": "2022-05-18T11:56:23.660Z"
   },
   {
    "duration": 24,
    "start_time": "2022-05-18T11:56:23.687Z"
   },
   {
    "duration": 151,
    "start_time": "2022-05-18T11:56:23.713Z"
   },
   {
    "duration": 261,
    "start_time": "2022-05-18T11:56:23.867Z"
   },
   {
    "duration": 6,
    "start_time": "2022-05-18T11:56:24.130Z"
   },
   {
    "duration": 29,
    "start_time": "2022-05-18T11:56:24.137Z"
   },
   {
    "duration": 172,
    "start_time": "2022-05-18T11:56:24.168Z"
   },
   {
    "duration": 9,
    "start_time": "2022-05-18T11:56:24.342Z"
   },
   {
    "duration": 211,
    "start_time": "2022-05-18T11:56:24.360Z"
   },
   {
    "duration": 9,
    "start_time": "2022-05-18T11:56:24.572Z"
   },
   {
    "duration": 26,
    "start_time": "2022-05-18T11:56:24.583Z"
   },
   {
    "duration": 15,
    "start_time": "2022-05-18T11:56:24.611Z"
   },
   {
    "duration": 35,
    "start_time": "2022-05-18T11:56:24.629Z"
   },
   {
    "duration": 11,
    "start_time": "2022-05-18T11:56:24.668Z"
   },
   {
    "duration": 7,
    "start_time": "2022-05-18T11:56:24.681Z"
   },
   {
    "duration": 9,
    "start_time": "2022-05-18T11:56:24.690Z"
   },
   {
    "duration": 4673,
    "start_time": "2022-05-18T11:56:24.701Z"
   },
   {
    "duration": 12,
    "start_time": "2022-05-18T11:56:29.376Z"
   },
   {
    "duration": 9,
    "start_time": "2022-05-18T11:56:29.390Z"
   },
   {
    "duration": 11,
    "start_time": "2022-05-18T11:56:29.400Z"
   },
   {
    "duration": 10,
    "start_time": "2022-05-18T11:56:29.413Z"
   },
   {
    "duration": 10,
    "start_time": "2022-05-18T11:56:29.425Z"
   },
   {
    "duration": 31,
    "start_time": "2022-05-18T11:56:29.437Z"
   },
   {
    "duration": 29,
    "start_time": "2022-05-18T11:56:29.469Z"
   },
   {
    "duration": 46,
    "start_time": "2022-05-18T11:56:29.499Z"
   },
   {
    "duration": 21,
    "start_time": "2022-05-18T11:56:29.547Z"
   },
   {
    "duration": 15,
    "start_time": "2022-05-18T11:56:29.572Z"
   },
   {
    "duration": 17,
    "start_time": "2022-05-18T11:56:29.591Z"
   },
   {
    "duration": 10,
    "start_time": "2022-05-18T11:56:29.610Z"
   },
   {
    "duration": 26,
    "start_time": "2022-05-18T11:56:29.621Z"
   },
   {
    "duration": 21,
    "start_time": "2022-05-18T11:56:29.649Z"
   },
   {
    "duration": 15,
    "start_time": "2022-05-18T11:56:29.671Z"
   },
   {
    "duration": 26,
    "start_time": "2022-05-18T11:56:29.687Z"
   },
   {
    "duration": 10,
    "start_time": "2022-05-18T11:56:29.715Z"
   },
   {
    "duration": 22,
    "start_time": "2022-05-18T11:56:29.727Z"
   },
   {
    "duration": 14,
    "start_time": "2022-05-18T11:56:29.751Z"
   },
   {
    "duration": 25,
    "start_time": "2022-05-18T11:56:29.766Z"
   },
   {
    "duration": 28,
    "start_time": "2022-05-18T11:56:29.793Z"
   },
   {
    "duration": 12,
    "start_time": "2022-05-18T11:56:29.823Z"
   },
   {
    "duration": 29,
    "start_time": "2022-05-18T11:56:29.837Z"
   },
   {
    "duration": 22,
    "start_time": "2022-05-18T11:56:29.867Z"
   },
   {
    "duration": 573,
    "start_time": "2022-05-18T11:59:17.181Z"
   },
   {
    "duration": 19,
    "start_time": "2022-05-18T11:59:17.756Z"
   },
   {
    "duration": 28,
    "start_time": "2022-05-18T11:59:17.777Z"
   },
   {
    "duration": 17,
    "start_time": "2022-05-18T11:59:17.808Z"
   },
   {
    "duration": 26,
    "start_time": "2022-05-18T11:59:17.826Z"
   },
   {
    "duration": 17,
    "start_time": "2022-05-18T11:59:17.853Z"
   },
   {
    "duration": 17,
    "start_time": "2022-05-18T11:59:17.872Z"
   },
   {
    "duration": 19,
    "start_time": "2022-05-18T11:59:17.891Z"
   },
   {
    "duration": 29,
    "start_time": "2022-05-18T11:59:17.912Z"
   },
   {
    "duration": 29,
    "start_time": "2022-05-18T11:59:17.944Z"
   },
   {
    "duration": 31,
    "start_time": "2022-05-18T11:59:17.975Z"
   },
   {
    "duration": 27,
    "start_time": "2022-05-18T11:59:18.007Z"
   },
   {
    "duration": 39,
    "start_time": "2022-05-18T11:59:18.036Z"
   },
   {
    "duration": 6,
    "start_time": "2022-05-18T11:59:18.077Z"
   },
   {
    "duration": 13,
    "start_time": "2022-05-18T11:59:18.085Z"
   },
   {
    "duration": 171,
    "start_time": "2022-05-18T11:59:18.100Z"
   },
   {
    "duration": 272,
    "start_time": "2022-05-18T11:59:18.276Z"
   },
   {
    "duration": 15,
    "start_time": "2022-05-18T11:59:18.551Z"
   },
   {
    "duration": 71,
    "start_time": "2022-05-18T11:59:18.571Z"
   },
   {
    "duration": 46,
    "start_time": "2022-05-18T11:59:18.643Z"
   },
   {
    "duration": 184,
    "start_time": "2022-05-18T11:59:18.690Z"
   },
   {
    "duration": 10,
    "start_time": "2022-05-18T11:59:18.877Z"
   },
   {
    "duration": 234,
    "start_time": "2022-05-18T11:59:18.888Z"
   },
   {
    "duration": 9,
    "start_time": "2022-05-18T11:59:19.124Z"
   },
   {
    "duration": 44,
    "start_time": "2022-05-18T11:59:19.134Z"
   },
   {
    "duration": 22,
    "start_time": "2022-05-18T11:59:19.180Z"
   },
   {
    "duration": 9,
    "start_time": "2022-05-18T11:59:19.204Z"
   },
   {
    "duration": 11,
    "start_time": "2022-05-18T11:59:19.217Z"
   },
   {
    "duration": 7,
    "start_time": "2022-05-18T11:59:19.230Z"
   },
   {
    "duration": 33,
    "start_time": "2022-05-18T11:59:19.259Z"
   },
   {
    "duration": 4428,
    "start_time": "2022-05-18T11:59:19.293Z"
   },
   {
    "duration": 17,
    "start_time": "2022-05-18T11:59:23.723Z"
   },
   {
    "duration": 24,
    "start_time": "2022-05-18T11:59:23.742Z"
   },
   {
    "duration": 13,
    "start_time": "2022-05-18T11:59:23.767Z"
   },
   {
    "duration": 32,
    "start_time": "2022-05-18T11:59:23.782Z"
   },
   {
    "duration": 4,
    "start_time": "2022-05-18T11:59:23.816Z"
   },
   {
    "duration": 20,
    "start_time": "2022-05-18T11:59:23.821Z"
   },
   {
    "duration": 27,
    "start_time": "2022-05-18T11:59:23.842Z"
   },
   {
    "duration": 37,
    "start_time": "2022-05-18T11:59:23.871Z"
   },
   {
    "duration": 23,
    "start_time": "2022-05-18T11:59:23.910Z"
   },
   {
    "duration": 11,
    "start_time": "2022-05-18T11:59:23.934Z"
   },
   {
    "duration": 36,
    "start_time": "2022-05-18T11:59:23.947Z"
   },
   {
    "duration": 23,
    "start_time": "2022-05-18T11:59:23.984Z"
   },
   {
    "duration": 19,
    "start_time": "2022-05-18T11:59:24.009Z"
   },
   {
    "duration": 10,
    "start_time": "2022-05-18T11:59:24.030Z"
   },
   {
    "duration": 5,
    "start_time": "2022-05-18T11:59:24.042Z"
   },
   {
    "duration": 21,
    "start_time": "2022-05-18T11:59:24.049Z"
   },
   {
    "duration": 13,
    "start_time": "2022-05-18T11:59:24.074Z"
   },
   {
    "duration": 14,
    "start_time": "2022-05-18T11:59:24.089Z"
   },
   {
    "duration": 7,
    "start_time": "2022-05-18T11:59:24.105Z"
   },
   {
    "duration": 6,
    "start_time": "2022-05-18T11:59:24.113Z"
   },
   {
    "duration": 14,
    "start_time": "2022-05-18T11:59:24.121Z"
   },
   {
    "duration": 6,
    "start_time": "2022-05-18T11:59:24.137Z"
   },
   {
    "duration": 31,
    "start_time": "2022-05-18T11:59:24.145Z"
   },
   {
    "duration": 19,
    "start_time": "2022-05-18T11:59:24.178Z"
   },
   {
    "duration": 545,
    "start_time": "2022-05-18T12:03:21.660Z"
   },
   {
    "duration": 19,
    "start_time": "2022-05-18T12:03:22.207Z"
   },
   {
    "duration": 89,
    "start_time": "2022-05-18T12:03:22.228Z"
   },
   {
    "duration": 26,
    "start_time": "2022-05-18T12:03:22.322Z"
   },
   {
    "duration": 20,
    "start_time": "2022-05-18T12:03:22.350Z"
   },
   {
    "duration": 40,
    "start_time": "2022-05-18T12:03:22.372Z"
   },
   {
    "duration": 8,
    "start_time": "2022-05-18T12:03:22.415Z"
   },
   {
    "duration": 44,
    "start_time": "2022-05-18T12:03:22.425Z"
   },
   {
    "duration": 16,
    "start_time": "2022-05-18T12:03:22.473Z"
   },
   {
    "duration": 14,
    "start_time": "2022-05-18T12:03:22.492Z"
   },
   {
    "duration": 13,
    "start_time": "2022-05-18T12:03:22.508Z"
   },
   {
    "duration": 42,
    "start_time": "2022-05-18T12:03:22.524Z"
   },
   {
    "duration": 12,
    "start_time": "2022-05-18T12:03:22.568Z"
   },
   {
    "duration": 24,
    "start_time": "2022-05-18T12:03:22.583Z"
   },
   {
    "duration": 29,
    "start_time": "2022-05-18T12:03:22.609Z"
   },
   {
    "duration": 186,
    "start_time": "2022-05-18T12:03:22.640Z"
   },
   {
    "duration": 456,
    "start_time": "2022-05-18T12:03:22.828Z"
   },
   {
    "duration": 7,
    "start_time": "2022-05-18T12:03:23.300Z"
   },
   {
    "duration": 12,
    "start_time": "2022-05-18T12:03:23.309Z"
   },
   {
    "duration": 113,
    "start_time": "2022-05-18T12:03:23.323Z"
   },
   {
    "duration": 0,
    "start_time": "2022-05-18T12:03:23.439Z"
   },
   {
    "duration": 0,
    "start_time": "2022-05-18T12:03:23.441Z"
   },
   {
    "duration": 0,
    "start_time": "2022-05-18T12:03:23.442Z"
   },
   {
    "duration": 0,
    "start_time": "2022-05-18T12:03:23.444Z"
   },
   {
    "duration": 0,
    "start_time": "2022-05-18T12:03:23.445Z"
   },
   {
    "duration": 0,
    "start_time": "2022-05-18T12:03:23.460Z"
   },
   {
    "duration": 0,
    "start_time": "2022-05-18T12:03:23.461Z"
   },
   {
    "duration": 0,
    "start_time": "2022-05-18T12:03:23.464Z"
   },
   {
    "duration": 0,
    "start_time": "2022-05-18T12:03:23.465Z"
   },
   {
    "duration": 0,
    "start_time": "2022-05-18T12:03:23.467Z"
   },
   {
    "duration": 0,
    "start_time": "2022-05-18T12:03:23.469Z"
   },
   {
    "duration": 0,
    "start_time": "2022-05-18T12:03:23.470Z"
   },
   {
    "duration": 0,
    "start_time": "2022-05-18T12:03:23.472Z"
   },
   {
    "duration": 0,
    "start_time": "2022-05-18T12:03:23.473Z"
   },
   {
    "duration": 0,
    "start_time": "2022-05-18T12:03:23.474Z"
   },
   {
    "duration": 0,
    "start_time": "2022-05-18T12:03:23.476Z"
   },
   {
    "duration": 0,
    "start_time": "2022-05-18T12:03:23.477Z"
   },
   {
    "duration": 1,
    "start_time": "2022-05-18T12:03:23.478Z"
   },
   {
    "duration": 0,
    "start_time": "2022-05-18T12:03:23.480Z"
   },
   {
    "duration": 0,
    "start_time": "2022-05-18T12:03:23.481Z"
   },
   {
    "duration": 0,
    "start_time": "2022-05-18T12:03:23.482Z"
   },
   {
    "duration": 0,
    "start_time": "2022-05-18T12:03:23.483Z"
   },
   {
    "duration": 0,
    "start_time": "2022-05-18T12:03:23.485Z"
   },
   {
    "duration": 0,
    "start_time": "2022-05-18T12:03:23.487Z"
   },
   {
    "duration": 0,
    "start_time": "2022-05-18T12:03:23.488Z"
   },
   {
    "duration": 0,
    "start_time": "2022-05-18T12:03:23.490Z"
   },
   {
    "duration": 0,
    "start_time": "2022-05-18T12:03:23.493Z"
   },
   {
    "duration": 0,
    "start_time": "2022-05-18T12:03:23.494Z"
   },
   {
    "duration": 0,
    "start_time": "2022-05-18T12:03:23.495Z"
   },
   {
    "duration": 0,
    "start_time": "2022-05-18T12:03:23.496Z"
   },
   {
    "duration": 0,
    "start_time": "2022-05-18T12:03:23.497Z"
   },
   {
    "duration": 0,
    "start_time": "2022-05-18T12:03:23.498Z"
   },
   {
    "duration": 0,
    "start_time": "2022-05-18T12:03:23.499Z"
   },
   {
    "duration": 0,
    "start_time": "2022-05-18T12:03:23.500Z"
   },
   {
    "duration": 0,
    "start_time": "2022-05-18T12:03:23.501Z"
   },
   {
    "duration": 693,
    "start_time": "2022-05-18T12:03:53.751Z"
   },
   {
    "duration": 30,
    "start_time": "2022-05-18T12:03:54.446Z"
   },
   {
    "duration": 63,
    "start_time": "2022-05-18T12:03:54.478Z"
   },
   {
    "duration": 54,
    "start_time": "2022-05-18T12:03:54.544Z"
   },
   {
    "duration": 29,
    "start_time": "2022-05-18T12:03:54.608Z"
   },
   {
    "duration": 12,
    "start_time": "2022-05-18T12:03:54.640Z"
   },
   {
    "duration": 13,
    "start_time": "2022-05-18T12:03:54.654Z"
   },
   {
    "duration": 54,
    "start_time": "2022-05-18T12:03:54.674Z"
   },
   {
    "duration": 12,
    "start_time": "2022-05-18T12:03:54.730Z"
   },
   {
    "duration": 64,
    "start_time": "2022-05-18T12:03:54.745Z"
   },
   {
    "duration": 60,
    "start_time": "2022-05-18T12:03:54.811Z"
   },
   {
    "duration": 52,
    "start_time": "2022-05-18T12:03:54.873Z"
   },
   {
    "duration": 28,
    "start_time": "2022-05-18T12:03:54.927Z"
   },
   {
    "duration": 50,
    "start_time": "2022-05-18T12:03:54.957Z"
   },
   {
    "duration": 31,
    "start_time": "2022-05-18T12:03:55.009Z"
   },
   {
    "duration": 252,
    "start_time": "2022-05-18T12:03:55.043Z"
   },
   {
    "duration": 451,
    "start_time": "2022-05-18T12:03:55.302Z"
   },
   {
    "duration": 11,
    "start_time": "2022-05-18T12:03:55.755Z"
   },
   {
    "duration": 52,
    "start_time": "2022-05-18T12:03:55.769Z"
   },
   {
    "duration": 47,
    "start_time": "2022-05-18T12:03:55.823Z"
   },
   {
    "duration": 152,
    "start_time": "2022-05-18T12:03:55.873Z"
   },
   {
    "duration": 0,
    "start_time": "2022-05-18T12:03:56.028Z"
   },
   {
    "duration": 0,
    "start_time": "2022-05-18T12:03:56.030Z"
   },
   {
    "duration": 0,
    "start_time": "2022-05-18T12:03:56.031Z"
   },
   {
    "duration": 0,
    "start_time": "2022-05-18T12:03:56.033Z"
   },
   {
    "duration": 0,
    "start_time": "2022-05-18T12:03:56.034Z"
   },
   {
    "duration": 0,
    "start_time": "2022-05-18T12:03:56.035Z"
   },
   {
    "duration": 0,
    "start_time": "2022-05-18T12:03:56.037Z"
   },
   {
    "duration": 0,
    "start_time": "2022-05-18T12:03:56.038Z"
   },
   {
    "duration": 0,
    "start_time": "2022-05-18T12:03:56.039Z"
   },
   {
    "duration": 0,
    "start_time": "2022-05-18T12:03:56.040Z"
   },
   {
    "duration": 0,
    "start_time": "2022-05-18T12:03:56.041Z"
   },
   {
    "duration": 0,
    "start_time": "2022-05-18T12:03:56.042Z"
   },
   {
    "duration": 0,
    "start_time": "2022-05-18T12:03:56.043Z"
   },
   {
    "duration": 0,
    "start_time": "2022-05-18T12:03:56.043Z"
   },
   {
    "duration": 0,
    "start_time": "2022-05-18T12:03:56.044Z"
   },
   {
    "duration": 0,
    "start_time": "2022-05-18T12:03:56.060Z"
   },
   {
    "duration": 0,
    "start_time": "2022-05-18T12:03:56.060Z"
   },
   {
    "duration": 0,
    "start_time": "2022-05-18T12:03:56.061Z"
   },
   {
    "duration": 0,
    "start_time": "2022-05-18T12:03:56.062Z"
   },
   {
    "duration": 0,
    "start_time": "2022-05-18T12:03:56.064Z"
   },
   {
    "duration": 0,
    "start_time": "2022-05-18T12:03:56.065Z"
   },
   {
    "duration": 0,
    "start_time": "2022-05-18T12:03:56.066Z"
   },
   {
    "duration": 0,
    "start_time": "2022-05-18T12:03:56.067Z"
   },
   {
    "duration": 0,
    "start_time": "2022-05-18T12:03:56.068Z"
   },
   {
    "duration": 0,
    "start_time": "2022-05-18T12:03:56.069Z"
   },
   {
    "duration": 0,
    "start_time": "2022-05-18T12:03:56.070Z"
   },
   {
    "duration": 0,
    "start_time": "2022-05-18T12:03:56.071Z"
   },
   {
    "duration": 0,
    "start_time": "2022-05-18T12:03:56.072Z"
   },
   {
    "duration": 0,
    "start_time": "2022-05-18T12:03:56.073Z"
   },
   {
    "duration": 0,
    "start_time": "2022-05-18T12:03:56.074Z"
   },
   {
    "duration": 0,
    "start_time": "2022-05-18T12:03:56.075Z"
   },
   {
    "duration": 0,
    "start_time": "2022-05-18T12:03:56.076Z"
   },
   {
    "duration": 0,
    "start_time": "2022-05-18T12:03:56.077Z"
   },
   {
    "duration": 0,
    "start_time": "2022-05-18T12:03:56.078Z"
   },
   {
    "duration": 9,
    "start_time": "2022-05-18T12:04:53.010Z"
   },
   {
    "duration": 550,
    "start_time": "2022-05-18T12:05:06.778Z"
   },
   {
    "duration": 19,
    "start_time": "2022-05-18T12:05:07.331Z"
   },
   {
    "duration": 26,
    "start_time": "2022-05-18T12:05:07.361Z"
   },
   {
    "duration": 48,
    "start_time": "2022-05-18T12:05:07.389Z"
   },
   {
    "duration": 99,
    "start_time": "2022-05-18T12:05:07.440Z"
   },
   {
    "duration": 34,
    "start_time": "2022-05-18T12:05:07.541Z"
   },
   {
    "duration": 25,
    "start_time": "2022-05-18T12:05:07.578Z"
   },
   {
    "duration": 46,
    "start_time": "2022-05-18T12:05:07.605Z"
   },
   {
    "duration": 59,
    "start_time": "2022-05-18T12:05:07.654Z"
   },
   {
    "duration": 22,
    "start_time": "2022-05-18T12:05:07.715Z"
   },
   {
    "duration": 33,
    "start_time": "2022-05-18T12:05:07.739Z"
   },
   {
    "duration": 17,
    "start_time": "2022-05-18T12:05:07.779Z"
   },
   {
    "duration": 19,
    "start_time": "2022-05-18T12:05:07.798Z"
   },
   {
    "duration": 5,
    "start_time": "2022-05-18T12:05:07.820Z"
   },
   {
    "duration": 56,
    "start_time": "2022-05-18T12:05:07.827Z"
   },
   {
    "duration": 177,
    "start_time": "2022-05-18T12:05:07.885Z"
   },
   {
    "duration": 265,
    "start_time": "2022-05-18T12:05:08.070Z"
   },
   {
    "duration": 7,
    "start_time": "2022-05-18T12:05:08.337Z"
   },
   {
    "duration": 42,
    "start_time": "2022-05-18T12:05:08.345Z"
   },
   {
    "duration": 14,
    "start_time": "2022-05-18T12:05:08.389Z"
   },
   {
    "duration": 12,
    "start_time": "2022-05-18T12:05:08.405Z"
   },
   {
    "duration": 81,
    "start_time": "2022-05-18T12:05:08.419Z"
   },
   {
    "duration": 0,
    "start_time": "2022-05-18T12:05:08.502Z"
   },
   {
    "duration": 0,
    "start_time": "2022-05-18T12:05:08.504Z"
   },
   {
    "duration": 0,
    "start_time": "2022-05-18T12:05:08.506Z"
   },
   {
    "duration": 0,
    "start_time": "2022-05-18T12:05:08.507Z"
   },
   {
    "duration": 0,
    "start_time": "2022-05-18T12:05:08.508Z"
   },
   {
    "duration": 0,
    "start_time": "2022-05-18T12:05:08.509Z"
   },
   {
    "duration": 0,
    "start_time": "2022-05-18T12:05:08.511Z"
   },
   {
    "duration": 0,
    "start_time": "2022-05-18T12:05:08.513Z"
   },
   {
    "duration": 0,
    "start_time": "2022-05-18T12:05:08.514Z"
   },
   {
    "duration": 0,
    "start_time": "2022-05-18T12:05:08.516Z"
   },
   {
    "duration": 0,
    "start_time": "2022-05-18T12:05:08.518Z"
   },
   {
    "duration": 1,
    "start_time": "2022-05-18T12:05:08.519Z"
   },
   {
    "duration": 0,
    "start_time": "2022-05-18T12:05:08.521Z"
   },
   {
    "duration": 0,
    "start_time": "2022-05-18T12:05:08.522Z"
   },
   {
    "duration": 0,
    "start_time": "2022-05-18T12:05:08.524Z"
   },
   {
    "duration": 0,
    "start_time": "2022-05-18T12:05:08.525Z"
   },
   {
    "duration": 0,
    "start_time": "2022-05-18T12:05:08.527Z"
   },
   {
    "duration": 0,
    "start_time": "2022-05-18T12:05:08.563Z"
   },
   {
    "duration": 0,
    "start_time": "2022-05-18T12:05:08.564Z"
   },
   {
    "duration": 0,
    "start_time": "2022-05-18T12:05:08.572Z"
   },
   {
    "duration": 0,
    "start_time": "2022-05-18T12:05:08.573Z"
   },
   {
    "duration": 0,
    "start_time": "2022-05-18T12:05:08.578Z"
   },
   {
    "duration": 0,
    "start_time": "2022-05-18T12:05:08.579Z"
   },
   {
    "duration": 0,
    "start_time": "2022-05-18T12:05:08.580Z"
   },
   {
    "duration": 0,
    "start_time": "2022-05-18T12:05:08.581Z"
   },
   {
    "duration": 0,
    "start_time": "2022-05-18T12:05:08.583Z"
   },
   {
    "duration": 0,
    "start_time": "2022-05-18T12:05:08.584Z"
   },
   {
    "duration": 0,
    "start_time": "2022-05-18T12:05:08.585Z"
   },
   {
    "duration": 0,
    "start_time": "2022-05-18T12:05:08.587Z"
   },
   {
    "duration": 0,
    "start_time": "2022-05-18T12:05:08.588Z"
   },
   {
    "duration": 0,
    "start_time": "2022-05-18T12:05:08.589Z"
   },
   {
    "duration": 0,
    "start_time": "2022-05-18T12:05:08.590Z"
   },
   {
    "duration": 0,
    "start_time": "2022-05-18T12:05:08.592Z"
   },
   {
    "duration": 0,
    "start_time": "2022-05-18T12:05:08.593Z"
   },
   {
    "duration": 32,
    "start_time": "2022-05-18T12:11:56.818Z"
   },
   {
    "duration": 34,
    "start_time": "2022-05-18T12:12:40.828Z"
   },
   {
    "duration": 492,
    "start_time": "2022-05-18T12:12:54.408Z"
   },
   {
    "duration": 18,
    "start_time": "2022-05-18T12:12:54.903Z"
   },
   {
    "duration": 56,
    "start_time": "2022-05-18T12:12:54.922Z"
   },
   {
    "duration": 34,
    "start_time": "2022-05-18T12:12:54.981Z"
   },
   {
    "duration": 11,
    "start_time": "2022-05-18T12:12:55.018Z"
   },
   {
    "duration": 14,
    "start_time": "2022-05-18T12:12:55.031Z"
   },
   {
    "duration": 7,
    "start_time": "2022-05-18T12:12:55.048Z"
   },
   {
    "duration": 23,
    "start_time": "2022-05-18T12:12:55.059Z"
   },
   {
    "duration": 20,
    "start_time": "2022-05-18T12:12:55.084Z"
   },
   {
    "duration": 7,
    "start_time": "2022-05-18T12:12:55.106Z"
   },
   {
    "duration": 8,
    "start_time": "2022-05-18T12:12:55.115Z"
   },
   {
    "duration": 9,
    "start_time": "2022-05-18T12:12:55.124Z"
   },
   {
    "duration": 42,
    "start_time": "2022-05-18T12:12:55.134Z"
   },
   {
    "duration": 4,
    "start_time": "2022-05-18T12:12:55.180Z"
   },
   {
    "duration": 13,
    "start_time": "2022-05-18T12:12:55.186Z"
   },
   {
    "duration": 144,
    "start_time": "2022-05-18T12:12:55.201Z"
   },
   {
    "duration": 269,
    "start_time": "2022-05-18T12:12:55.347Z"
   },
   {
    "duration": 6,
    "start_time": "2022-05-18T12:12:55.618Z"
   },
   {
    "duration": 10,
    "start_time": "2022-05-18T12:12:55.625Z"
   },
   {
    "duration": 45,
    "start_time": "2022-05-18T12:12:55.636Z"
   },
   {
    "duration": 16,
    "start_time": "2022-05-18T12:12:55.683Z"
   },
   {
    "duration": 41,
    "start_time": "2022-05-18T12:12:55.701Z"
   },
   {
    "duration": 78,
    "start_time": "2022-05-18T12:12:55.744Z"
   },
   {
    "duration": 0,
    "start_time": "2022-05-18T12:12:55.824Z"
   },
   {
    "duration": 0,
    "start_time": "2022-05-18T12:12:55.826Z"
   },
   {
    "duration": 0,
    "start_time": "2022-05-18T12:12:55.827Z"
   },
   {
    "duration": 0,
    "start_time": "2022-05-18T12:12:55.829Z"
   },
   {
    "duration": 0,
    "start_time": "2022-05-18T12:12:55.830Z"
   },
   {
    "duration": 0,
    "start_time": "2022-05-18T12:12:55.831Z"
   },
   {
    "duration": 0,
    "start_time": "2022-05-18T12:12:55.832Z"
   },
   {
    "duration": 0,
    "start_time": "2022-05-18T12:12:55.833Z"
   },
   {
    "duration": 0,
    "start_time": "2022-05-18T12:12:55.834Z"
   },
   {
    "duration": 0,
    "start_time": "2022-05-18T12:12:55.835Z"
   },
   {
    "duration": 0,
    "start_time": "2022-05-18T12:12:55.837Z"
   },
   {
    "duration": 0,
    "start_time": "2022-05-18T12:12:55.838Z"
   },
   {
    "duration": 0,
    "start_time": "2022-05-18T12:12:55.862Z"
   },
   {
    "duration": 0,
    "start_time": "2022-05-18T12:12:55.866Z"
   },
   {
    "duration": 0,
    "start_time": "2022-05-18T12:12:55.867Z"
   },
   {
    "duration": 0,
    "start_time": "2022-05-18T12:12:55.870Z"
   },
   {
    "duration": 0,
    "start_time": "2022-05-18T12:12:55.871Z"
   },
   {
    "duration": 0,
    "start_time": "2022-05-18T12:12:55.875Z"
   },
   {
    "duration": 0,
    "start_time": "2022-05-18T12:12:55.875Z"
   },
   {
    "duration": 0,
    "start_time": "2022-05-18T12:12:55.876Z"
   },
   {
    "duration": 0,
    "start_time": "2022-05-18T12:12:55.876Z"
   },
   {
    "duration": 0,
    "start_time": "2022-05-18T12:12:55.877Z"
   },
   {
    "duration": 0,
    "start_time": "2022-05-18T12:12:55.878Z"
   },
   {
    "duration": 0,
    "start_time": "2022-05-18T12:12:55.879Z"
   },
   {
    "duration": 0,
    "start_time": "2022-05-18T12:12:55.879Z"
   },
   {
    "duration": 0,
    "start_time": "2022-05-18T12:12:55.880Z"
   },
   {
    "duration": 0,
    "start_time": "2022-05-18T12:12:55.880Z"
   },
   {
    "duration": 0,
    "start_time": "2022-05-18T12:12:55.881Z"
   },
   {
    "duration": 0,
    "start_time": "2022-05-18T12:12:55.881Z"
   },
   {
    "duration": 0,
    "start_time": "2022-05-18T12:12:55.882Z"
   },
   {
    "duration": 0,
    "start_time": "2022-05-18T12:12:55.884Z"
   },
   {
    "duration": 0,
    "start_time": "2022-05-18T12:12:55.886Z"
   },
   {
    "duration": 0,
    "start_time": "2022-05-18T12:12:55.887Z"
   },
   {
    "duration": 0,
    "start_time": "2022-05-18T12:12:55.889Z"
   },
   {
    "duration": 21,
    "start_time": "2022-05-18T12:13:05.676Z"
   },
   {
    "duration": 21,
    "start_time": "2022-05-18T12:13:14.956Z"
   },
   {
    "duration": 560,
    "start_time": "2022-05-18T12:13:24.965Z"
   },
   {
    "duration": 14,
    "start_time": "2022-05-18T12:13:25.527Z"
   },
   {
    "duration": 33,
    "start_time": "2022-05-18T12:13:25.543Z"
   },
   {
    "duration": 25,
    "start_time": "2022-05-18T12:13:25.580Z"
   },
   {
    "duration": 30,
    "start_time": "2022-05-18T12:13:25.607Z"
   },
   {
    "duration": 50,
    "start_time": "2022-05-18T12:13:25.640Z"
   },
   {
    "duration": 8,
    "start_time": "2022-05-18T12:13:25.692Z"
   },
   {
    "duration": 27,
    "start_time": "2022-05-18T12:13:25.702Z"
   },
   {
    "duration": 10,
    "start_time": "2022-05-18T12:13:25.732Z"
   },
   {
    "duration": 8,
    "start_time": "2022-05-18T12:13:25.745Z"
   },
   {
    "duration": 46,
    "start_time": "2022-05-18T12:13:25.755Z"
   },
   {
    "duration": 7,
    "start_time": "2022-05-18T12:13:25.803Z"
   },
   {
    "duration": 14,
    "start_time": "2022-05-18T12:13:25.811Z"
   },
   {
    "duration": 7,
    "start_time": "2022-05-18T12:13:25.827Z"
   },
   {
    "duration": 13,
    "start_time": "2022-05-18T12:13:25.836Z"
   },
   {
    "duration": 151,
    "start_time": "2022-05-18T12:13:25.851Z"
   },
   {
    "duration": 288,
    "start_time": "2022-05-18T12:13:26.004Z"
   },
   {
    "duration": 9,
    "start_time": "2022-05-18T12:13:26.294Z"
   },
   {
    "duration": 8,
    "start_time": "2022-05-18T12:13:26.305Z"
   },
   {
    "duration": 18,
    "start_time": "2022-05-18T12:13:26.315Z"
   },
   {
    "duration": 25,
    "start_time": "2022-05-18T12:13:26.335Z"
   },
   {
    "duration": 8,
    "start_time": "2022-05-18T12:13:26.366Z"
   },
   {
    "duration": 104,
    "start_time": "2022-05-18T12:13:26.379Z"
   },
   {
    "duration": 0,
    "start_time": "2022-05-18T12:13:26.486Z"
   },
   {
    "duration": 0,
    "start_time": "2022-05-18T12:13:26.488Z"
   },
   {
    "duration": 0,
    "start_time": "2022-05-18T12:13:26.488Z"
   },
   {
    "duration": 0,
    "start_time": "2022-05-18T12:13:26.489Z"
   },
   {
    "duration": 0,
    "start_time": "2022-05-18T12:13:26.491Z"
   },
   {
    "duration": 0,
    "start_time": "2022-05-18T12:13:26.492Z"
   },
   {
    "duration": 0,
    "start_time": "2022-05-18T12:13:26.493Z"
   },
   {
    "duration": 0,
    "start_time": "2022-05-18T12:13:26.494Z"
   },
   {
    "duration": 0,
    "start_time": "2022-05-18T12:13:26.497Z"
   },
   {
    "duration": 0,
    "start_time": "2022-05-18T12:13:26.498Z"
   },
   {
    "duration": 0,
    "start_time": "2022-05-18T12:13:26.499Z"
   },
   {
    "duration": 0,
    "start_time": "2022-05-18T12:13:26.501Z"
   },
   {
    "duration": 0,
    "start_time": "2022-05-18T12:13:26.502Z"
   },
   {
    "duration": 0,
    "start_time": "2022-05-18T12:13:26.503Z"
   },
   {
    "duration": 0,
    "start_time": "2022-05-18T12:13:26.504Z"
   },
   {
    "duration": 0,
    "start_time": "2022-05-18T12:13:26.505Z"
   },
   {
    "duration": 0,
    "start_time": "2022-05-18T12:13:26.507Z"
   },
   {
    "duration": 0,
    "start_time": "2022-05-18T12:13:26.508Z"
   },
   {
    "duration": 0,
    "start_time": "2022-05-18T12:13:26.509Z"
   },
   {
    "duration": 0,
    "start_time": "2022-05-18T12:13:26.510Z"
   },
   {
    "duration": 0,
    "start_time": "2022-05-18T12:13:26.511Z"
   },
   {
    "duration": 0,
    "start_time": "2022-05-18T12:13:26.512Z"
   },
   {
    "duration": 0,
    "start_time": "2022-05-18T12:13:26.513Z"
   },
   {
    "duration": 0,
    "start_time": "2022-05-18T12:13:26.514Z"
   },
   {
    "duration": 0,
    "start_time": "2022-05-18T12:13:26.515Z"
   },
   {
    "duration": 0,
    "start_time": "2022-05-18T12:13:26.558Z"
   },
   {
    "duration": 0,
    "start_time": "2022-05-18T12:13:26.559Z"
   },
   {
    "duration": 0,
    "start_time": "2022-05-18T12:13:26.560Z"
   },
   {
    "duration": 1,
    "start_time": "2022-05-18T12:13:26.564Z"
   },
   {
    "duration": 0,
    "start_time": "2022-05-18T12:13:26.565Z"
   },
   {
    "duration": 0,
    "start_time": "2022-05-18T12:13:26.566Z"
   },
   {
    "duration": 0,
    "start_time": "2022-05-18T12:13:26.567Z"
   },
   {
    "duration": 0,
    "start_time": "2022-05-18T12:13:26.568Z"
   },
   {
    "duration": 0,
    "start_time": "2022-05-18T12:13:26.569Z"
   },
   {
    "duration": 559,
    "start_time": "2022-05-18T12:15:18.383Z"
   },
   {
    "duration": 27,
    "start_time": "2022-05-18T12:15:18.944Z"
   },
   {
    "duration": 43,
    "start_time": "2022-05-18T12:15:18.976Z"
   },
   {
    "duration": 17,
    "start_time": "2022-05-18T12:15:19.022Z"
   },
   {
    "duration": 56,
    "start_time": "2022-05-18T12:15:19.040Z"
   },
   {
    "duration": 18,
    "start_time": "2022-05-18T12:15:19.097Z"
   },
   {
    "duration": 8,
    "start_time": "2022-05-18T12:15:19.116Z"
   },
   {
    "duration": 24,
    "start_time": "2022-05-18T12:15:19.126Z"
   },
   {
    "duration": 17,
    "start_time": "2022-05-18T12:15:19.152Z"
   },
   {
    "duration": 24,
    "start_time": "2022-05-18T12:15:19.172Z"
   },
   {
    "duration": 9,
    "start_time": "2022-05-18T12:15:19.198Z"
   },
   {
    "duration": 8,
    "start_time": "2022-05-18T12:15:19.208Z"
   },
   {
    "duration": 13,
    "start_time": "2022-05-18T12:15:19.217Z"
   },
   {
    "duration": 6,
    "start_time": "2022-05-18T12:15:19.231Z"
   },
   {
    "duration": 13,
    "start_time": "2022-05-18T12:15:19.238Z"
   },
   {
    "duration": 152,
    "start_time": "2022-05-18T12:15:19.253Z"
   },
   {
    "duration": 273,
    "start_time": "2022-05-18T12:15:19.407Z"
   },
   {
    "duration": 7,
    "start_time": "2022-05-18T12:15:19.683Z"
   },
   {
    "duration": 31,
    "start_time": "2022-05-18T12:15:19.692Z"
   },
   {
    "duration": 41,
    "start_time": "2022-05-18T12:15:19.725Z"
   },
   {
    "duration": 39,
    "start_time": "2022-05-18T12:15:19.774Z"
   },
   {
    "duration": 4,
    "start_time": "2022-05-18T12:15:19.815Z"
   },
   {
    "duration": 213,
    "start_time": "2022-05-18T12:15:19.821Z"
   },
   {
    "duration": 86,
    "start_time": "2022-05-18T12:15:20.036Z"
   },
   {
    "duration": 0,
    "start_time": "2022-05-18T12:15:20.125Z"
   },
   {
    "duration": 0,
    "start_time": "2022-05-18T12:15:20.126Z"
   },
   {
    "duration": 0,
    "start_time": "2022-05-18T12:15:20.128Z"
   },
   {
    "duration": 0,
    "start_time": "2022-05-18T12:15:20.129Z"
   },
   {
    "duration": 0,
    "start_time": "2022-05-18T12:15:20.130Z"
   },
   {
    "duration": 0,
    "start_time": "2022-05-18T12:15:20.131Z"
   },
   {
    "duration": 0,
    "start_time": "2022-05-18T12:15:20.133Z"
   },
   {
    "duration": 0,
    "start_time": "2022-05-18T12:15:20.134Z"
   },
   {
    "duration": 0,
    "start_time": "2022-05-18T12:15:20.135Z"
   },
   {
    "duration": 0,
    "start_time": "2022-05-18T12:15:20.160Z"
   },
   {
    "duration": 0,
    "start_time": "2022-05-18T12:15:20.161Z"
   },
   {
    "duration": 0,
    "start_time": "2022-05-18T12:15:20.161Z"
   },
   {
    "duration": 0,
    "start_time": "2022-05-18T12:15:20.162Z"
   },
   {
    "duration": 0,
    "start_time": "2022-05-18T12:15:20.163Z"
   },
   {
    "duration": 0,
    "start_time": "2022-05-18T12:15:20.163Z"
   },
   {
    "duration": 0,
    "start_time": "2022-05-18T12:15:20.164Z"
   },
   {
    "duration": 0,
    "start_time": "2022-05-18T12:15:20.164Z"
   },
   {
    "duration": 0,
    "start_time": "2022-05-18T12:15:20.165Z"
   },
   {
    "duration": 0,
    "start_time": "2022-05-18T12:15:20.165Z"
   },
   {
    "duration": 0,
    "start_time": "2022-05-18T12:15:20.166Z"
   },
   {
    "duration": 0,
    "start_time": "2022-05-18T12:15:20.167Z"
   },
   {
    "duration": 0,
    "start_time": "2022-05-18T12:15:20.167Z"
   },
   {
    "duration": 0,
    "start_time": "2022-05-18T12:15:20.168Z"
   },
   {
    "duration": 0,
    "start_time": "2022-05-18T12:15:20.168Z"
   },
   {
    "duration": 0,
    "start_time": "2022-05-18T12:15:20.169Z"
   },
   {
    "duration": 0,
    "start_time": "2022-05-18T12:15:20.169Z"
   },
   {
    "duration": 0,
    "start_time": "2022-05-18T12:15:20.170Z"
   },
   {
    "duration": 0,
    "start_time": "2022-05-18T12:15:20.174Z"
   },
   {
    "duration": 0,
    "start_time": "2022-05-18T12:15:20.175Z"
   },
   {
    "duration": 0,
    "start_time": "2022-05-18T12:15:20.175Z"
   },
   {
    "duration": 0,
    "start_time": "2022-05-18T12:15:20.176Z"
   },
   {
    "duration": 0,
    "start_time": "2022-05-18T12:15:20.181Z"
   },
   {
    "duration": 0,
    "start_time": "2022-05-18T12:15:20.181Z"
   },
   {
    "duration": 517,
    "start_time": "2022-05-18T12:17:47.526Z"
   },
   {
    "duration": 26,
    "start_time": "2022-05-18T12:17:48.045Z"
   },
   {
    "duration": 17,
    "start_time": "2022-05-18T12:17:48.073Z"
   },
   {
    "duration": 14,
    "start_time": "2022-05-18T12:17:48.093Z"
   },
   {
    "duration": 12,
    "start_time": "2022-05-18T12:17:48.108Z"
   },
   {
    "duration": 11,
    "start_time": "2022-05-18T12:17:48.122Z"
   },
   {
    "duration": 31,
    "start_time": "2022-05-18T12:17:48.135Z"
   },
   {
    "duration": 29,
    "start_time": "2022-05-18T12:17:48.172Z"
   },
   {
    "duration": 10,
    "start_time": "2022-05-18T12:17:48.203Z"
   },
   {
    "duration": 9,
    "start_time": "2022-05-18T12:17:48.215Z"
   },
   {
    "duration": 16,
    "start_time": "2022-05-18T12:17:48.226Z"
   },
   {
    "duration": 21,
    "start_time": "2022-05-18T12:17:48.244Z"
   },
   {
    "duration": 30,
    "start_time": "2022-05-18T12:17:48.270Z"
   },
   {
    "duration": 4,
    "start_time": "2022-05-18T12:17:48.302Z"
   },
   {
    "duration": 14,
    "start_time": "2022-05-18T12:17:48.308Z"
   },
   {
    "duration": 142,
    "start_time": "2022-05-18T12:17:48.324Z"
   },
   {
    "duration": 263,
    "start_time": "2022-05-18T12:17:48.467Z"
   },
   {
    "duration": 12,
    "start_time": "2022-05-18T12:17:48.732Z"
   },
   {
    "duration": 16,
    "start_time": "2022-05-18T12:17:48.747Z"
   },
   {
    "duration": 25,
    "start_time": "2022-05-18T12:17:48.765Z"
   },
   {
    "duration": 18,
    "start_time": "2022-05-18T12:17:48.792Z"
   },
   {
    "duration": 5,
    "start_time": "2022-05-18T12:17:48.812Z"
   },
   {
    "duration": 202,
    "start_time": "2022-05-18T12:17:48.819Z"
   },
   {
    "duration": 7,
    "start_time": "2022-05-18T12:17:49.023Z"
   },
   {
    "duration": 86,
    "start_time": "2022-05-18T12:17:49.031Z"
   },
   {
    "duration": 0,
    "start_time": "2022-05-18T12:17:49.120Z"
   },
   {
    "duration": 0,
    "start_time": "2022-05-18T12:17:49.122Z"
   },
   {
    "duration": 0,
    "start_time": "2022-05-18T12:17:49.123Z"
   },
   {
    "duration": 0,
    "start_time": "2022-05-18T12:17:49.124Z"
   },
   {
    "duration": 0,
    "start_time": "2022-05-18T12:17:49.126Z"
   },
   {
    "duration": 0,
    "start_time": "2022-05-18T12:17:49.128Z"
   },
   {
    "duration": 0,
    "start_time": "2022-05-18T12:17:49.129Z"
   },
   {
    "duration": 0,
    "start_time": "2022-05-18T12:17:49.130Z"
   },
   {
    "duration": 0,
    "start_time": "2022-05-18T12:17:49.132Z"
   },
   {
    "duration": 0,
    "start_time": "2022-05-18T12:17:49.159Z"
   },
   {
    "duration": 0,
    "start_time": "2022-05-18T12:17:49.159Z"
   },
   {
    "duration": 0,
    "start_time": "2022-05-18T12:17:49.160Z"
   },
   {
    "duration": 0,
    "start_time": "2022-05-18T12:17:49.162Z"
   },
   {
    "duration": 0,
    "start_time": "2022-05-18T12:17:49.163Z"
   },
   {
    "duration": 0,
    "start_time": "2022-05-18T12:17:49.164Z"
   },
   {
    "duration": 0,
    "start_time": "2022-05-18T12:17:49.165Z"
   },
   {
    "duration": 0,
    "start_time": "2022-05-18T12:17:49.166Z"
   },
   {
    "duration": 0,
    "start_time": "2022-05-18T12:17:49.168Z"
   },
   {
    "duration": 0,
    "start_time": "2022-05-18T12:17:49.168Z"
   },
   {
    "duration": 0,
    "start_time": "2022-05-18T12:17:49.169Z"
   },
   {
    "duration": 0,
    "start_time": "2022-05-18T12:17:49.170Z"
   },
   {
    "duration": 0,
    "start_time": "2022-05-18T12:17:49.171Z"
   },
   {
    "duration": 0,
    "start_time": "2022-05-18T12:17:49.172Z"
   },
   {
    "duration": 0,
    "start_time": "2022-05-18T12:17:49.173Z"
   },
   {
    "duration": 0,
    "start_time": "2022-05-18T12:17:49.174Z"
   },
   {
    "duration": 0,
    "start_time": "2022-05-18T12:17:49.175Z"
   },
   {
    "duration": 0,
    "start_time": "2022-05-18T12:17:49.177Z"
   },
   {
    "duration": 0,
    "start_time": "2022-05-18T12:17:49.178Z"
   },
   {
    "duration": 0,
    "start_time": "2022-05-18T12:17:49.181Z"
   },
   {
    "duration": 0,
    "start_time": "2022-05-18T12:17:49.182Z"
   },
   {
    "duration": 0,
    "start_time": "2022-05-18T12:17:49.183Z"
   },
   {
    "duration": 0,
    "start_time": "2022-05-18T12:17:49.184Z"
   },
   {
    "duration": 0,
    "start_time": "2022-05-18T12:17:49.185Z"
   },
   {
    "duration": 535,
    "start_time": "2022-05-18T12:19:02.783Z"
   },
   {
    "duration": 14,
    "start_time": "2022-05-18T12:19:03.320Z"
   },
   {
    "duration": 40,
    "start_time": "2022-05-18T12:19:03.336Z"
   },
   {
    "duration": 10,
    "start_time": "2022-05-18T12:19:03.378Z"
   },
   {
    "duration": 25,
    "start_time": "2022-05-18T12:19:03.389Z"
   },
   {
    "duration": 18,
    "start_time": "2022-05-18T12:19:03.416Z"
   },
   {
    "duration": 17,
    "start_time": "2022-05-18T12:19:03.436Z"
   },
   {
    "duration": 33,
    "start_time": "2022-05-18T12:19:03.455Z"
   },
   {
    "duration": 8,
    "start_time": "2022-05-18T12:19:03.490Z"
   },
   {
    "duration": 24,
    "start_time": "2022-05-18T12:19:03.500Z"
   },
   {
    "duration": 14,
    "start_time": "2022-05-18T12:19:03.526Z"
   },
   {
    "duration": 35,
    "start_time": "2022-05-18T12:19:03.541Z"
   },
   {
    "duration": 11,
    "start_time": "2022-05-18T12:19:03.578Z"
   },
   {
    "duration": 10,
    "start_time": "2022-05-18T12:19:03.591Z"
   },
   {
    "duration": 22,
    "start_time": "2022-05-18T12:19:03.603Z"
   },
   {
    "duration": 151,
    "start_time": "2022-05-18T12:19:03.626Z"
   },
   {
    "duration": 257,
    "start_time": "2022-05-18T12:19:03.778Z"
   },
   {
    "duration": 7,
    "start_time": "2022-05-18T12:19:04.037Z"
   },
   {
    "duration": 30,
    "start_time": "2022-05-18T12:19:04.045Z"
   },
   {
    "duration": 9,
    "start_time": "2022-05-18T12:19:04.077Z"
   },
   {
    "duration": 18,
    "start_time": "2022-05-18T12:19:04.087Z"
   },
   {
    "duration": 27,
    "start_time": "2022-05-18T12:19:04.107Z"
   },
   {
    "duration": 203,
    "start_time": "2022-05-18T12:19:04.135Z"
   },
   {
    "duration": 6,
    "start_time": "2022-05-18T12:19:04.339Z"
   },
   {
    "duration": 24,
    "start_time": "2022-05-18T12:19:04.360Z"
   },
   {
    "duration": 81,
    "start_time": "2022-05-18T12:19:04.386Z"
   },
   {
    "duration": 0,
    "start_time": "2022-05-18T12:19:04.475Z"
   },
   {
    "duration": 0,
    "start_time": "2022-05-18T12:19:04.476Z"
   },
   {
    "duration": 0,
    "start_time": "2022-05-18T12:19:04.477Z"
   },
   {
    "duration": 0,
    "start_time": "2022-05-18T12:19:04.478Z"
   },
   {
    "duration": 0,
    "start_time": "2022-05-18T12:19:04.479Z"
   },
   {
    "duration": 0,
    "start_time": "2022-05-18T12:19:04.480Z"
   },
   {
    "duration": 0,
    "start_time": "2022-05-18T12:19:04.481Z"
   },
   {
    "duration": 0,
    "start_time": "2022-05-18T12:19:04.482Z"
   },
   {
    "duration": 0,
    "start_time": "2022-05-18T12:19:04.483Z"
   },
   {
    "duration": 0,
    "start_time": "2022-05-18T12:19:04.484Z"
   },
   {
    "duration": 0,
    "start_time": "2022-05-18T12:19:04.486Z"
   },
   {
    "duration": 0,
    "start_time": "2022-05-18T12:19:04.487Z"
   },
   {
    "duration": 0,
    "start_time": "2022-05-18T12:19:04.488Z"
   },
   {
    "duration": 0,
    "start_time": "2022-05-18T12:19:04.489Z"
   },
   {
    "duration": 0,
    "start_time": "2022-05-18T12:19:04.490Z"
   },
   {
    "duration": 0,
    "start_time": "2022-05-18T12:19:04.491Z"
   },
   {
    "duration": 0,
    "start_time": "2022-05-18T12:19:04.492Z"
   },
   {
    "duration": 0,
    "start_time": "2022-05-18T12:19:04.493Z"
   },
   {
    "duration": 0,
    "start_time": "2022-05-18T12:19:04.494Z"
   },
   {
    "duration": 0,
    "start_time": "2022-05-18T12:19:04.495Z"
   },
   {
    "duration": 0,
    "start_time": "2022-05-18T12:19:04.495Z"
   },
   {
    "duration": 0,
    "start_time": "2022-05-18T12:19:04.496Z"
   },
   {
    "duration": 0,
    "start_time": "2022-05-18T12:19:04.497Z"
   },
   {
    "duration": 0,
    "start_time": "2022-05-18T12:19:04.498Z"
   },
   {
    "duration": 0,
    "start_time": "2022-05-18T12:19:04.499Z"
   },
   {
    "duration": 0,
    "start_time": "2022-05-18T12:19:04.500Z"
   },
   {
    "duration": 0,
    "start_time": "2022-05-18T12:19:04.501Z"
   },
   {
    "duration": 0,
    "start_time": "2022-05-18T12:19:04.502Z"
   },
   {
    "duration": 0,
    "start_time": "2022-05-18T12:19:04.503Z"
   },
   {
    "duration": 0,
    "start_time": "2022-05-18T12:19:04.504Z"
   },
   {
    "duration": 0,
    "start_time": "2022-05-18T12:19:04.504Z"
   },
   {
    "duration": 0,
    "start_time": "2022-05-18T12:19:04.505Z"
   },
   {
    "duration": 0,
    "start_time": "2022-05-18T12:19:04.506Z"
   },
   {
    "duration": 518,
    "start_time": "2022-05-18T12:29:07.514Z"
   },
   {
    "duration": 37,
    "start_time": "2022-05-18T12:29:08.035Z"
   },
   {
    "duration": 35,
    "start_time": "2022-05-18T12:29:08.074Z"
   },
   {
    "duration": 20,
    "start_time": "2022-05-18T12:29:08.112Z"
   },
   {
    "duration": 16,
    "start_time": "2022-05-18T12:29:08.134Z"
   },
   {
    "duration": 25,
    "start_time": "2022-05-18T12:29:08.152Z"
   },
   {
    "duration": 11,
    "start_time": "2022-05-18T12:29:08.178Z"
   },
   {
    "duration": 20,
    "start_time": "2022-05-18T12:29:08.191Z"
   },
   {
    "duration": 11,
    "start_time": "2022-05-18T12:29:08.214Z"
   },
   {
    "duration": 7,
    "start_time": "2022-05-18T12:29:08.228Z"
   },
   {
    "duration": 29,
    "start_time": "2022-05-18T12:29:08.237Z"
   },
   {
    "duration": 10,
    "start_time": "2022-05-18T12:29:08.267Z"
   },
   {
    "duration": 27,
    "start_time": "2022-05-18T12:29:08.279Z"
   },
   {
    "duration": 13,
    "start_time": "2022-05-18T12:29:08.307Z"
   },
   {
    "duration": 15,
    "start_time": "2022-05-18T12:29:08.322Z"
   },
   {
    "duration": 164,
    "start_time": "2022-05-18T12:29:08.339Z"
   },
   {
    "duration": 279,
    "start_time": "2022-05-18T12:29:08.504Z"
   },
   {
    "duration": 7,
    "start_time": "2022-05-18T12:29:08.785Z"
   },
   {
    "duration": 9,
    "start_time": "2022-05-18T12:29:08.794Z"
   },
   {
    "duration": 18,
    "start_time": "2022-05-18T12:29:08.805Z"
   },
   {
    "duration": 12,
    "start_time": "2022-05-18T12:29:08.825Z"
   },
   {
    "duration": 30,
    "start_time": "2022-05-18T12:29:08.838Z"
   },
   {
    "duration": 230,
    "start_time": "2022-05-18T12:29:08.876Z"
   },
   {
    "duration": 6,
    "start_time": "2022-05-18T12:29:09.107Z"
   },
   {
    "duration": 9,
    "start_time": "2022-05-18T12:29:09.114Z"
   },
   {
    "duration": 9,
    "start_time": "2022-05-18T12:29:09.124Z"
   },
   {
    "duration": 43,
    "start_time": "2022-05-18T12:29:09.135Z"
   },
   {
    "duration": 74,
    "start_time": "2022-05-18T12:29:09.181Z"
   },
   {
    "duration": 0,
    "start_time": "2022-05-18T12:29:09.258Z"
   },
   {
    "duration": 0,
    "start_time": "2022-05-18T12:29:09.259Z"
   },
   {
    "duration": 0,
    "start_time": "2022-05-18T12:29:09.259Z"
   },
   {
    "duration": 0,
    "start_time": "2022-05-18T12:29:09.265Z"
   },
   {
    "duration": 0,
    "start_time": "2022-05-18T12:29:09.265Z"
   },
   {
    "duration": 0,
    "start_time": "2022-05-18T12:29:09.271Z"
   },
   {
    "duration": 0,
    "start_time": "2022-05-18T12:29:09.273Z"
   },
   {
    "duration": 0,
    "start_time": "2022-05-18T12:29:09.276Z"
   },
   {
    "duration": 0,
    "start_time": "2022-05-18T12:29:09.277Z"
   },
   {
    "duration": 0,
    "start_time": "2022-05-18T12:29:09.279Z"
   },
   {
    "duration": 0,
    "start_time": "2022-05-18T12:29:09.280Z"
   },
   {
    "duration": 0,
    "start_time": "2022-05-18T12:29:09.281Z"
   },
   {
    "duration": 0,
    "start_time": "2022-05-18T12:29:09.283Z"
   },
   {
    "duration": 0,
    "start_time": "2022-05-18T12:29:09.284Z"
   },
   {
    "duration": 0,
    "start_time": "2022-05-18T12:29:09.284Z"
   },
   {
    "duration": 0,
    "start_time": "2022-05-18T12:29:09.285Z"
   },
   {
    "duration": 0,
    "start_time": "2022-05-18T12:29:09.286Z"
   },
   {
    "duration": 0,
    "start_time": "2022-05-18T12:29:09.289Z"
   },
   {
    "duration": 0,
    "start_time": "2022-05-18T12:29:09.290Z"
   },
   {
    "duration": 0,
    "start_time": "2022-05-18T12:29:09.291Z"
   },
   {
    "duration": 0,
    "start_time": "2022-05-18T12:29:09.293Z"
   },
   {
    "duration": 0,
    "start_time": "2022-05-18T12:29:09.294Z"
   },
   {
    "duration": 0,
    "start_time": "2022-05-18T12:29:09.295Z"
   },
   {
    "duration": 0,
    "start_time": "2022-05-18T12:29:09.296Z"
   },
   {
    "duration": 0,
    "start_time": "2022-05-18T12:29:09.297Z"
   },
   {
    "duration": 1,
    "start_time": "2022-05-18T12:29:09.298Z"
   },
   {
    "duration": 0,
    "start_time": "2022-05-18T12:29:09.299Z"
   },
   {
    "duration": 0,
    "start_time": "2022-05-18T12:29:09.300Z"
   },
   {
    "duration": 0,
    "start_time": "2022-05-18T12:29:09.301Z"
   },
   {
    "duration": 0,
    "start_time": "2022-05-18T12:29:09.302Z"
   },
   {
    "duration": 0,
    "start_time": "2022-05-18T12:29:09.303Z"
   },
   {
    "duration": 0,
    "start_time": "2022-05-18T12:29:09.304Z"
   },
   {
    "duration": 0,
    "start_time": "2022-05-18T12:29:09.305Z"
   },
   {
    "duration": 9,
    "start_time": "2022-05-18T12:40:29.959Z"
   },
   {
    "duration": 557,
    "start_time": "2022-05-18T12:41:10.639Z"
   },
   {
    "duration": 14,
    "start_time": "2022-05-18T12:41:11.198Z"
   },
   {
    "duration": 18,
    "start_time": "2022-05-18T12:41:11.214Z"
   },
   {
    "duration": 27,
    "start_time": "2022-05-18T12:41:11.235Z"
   },
   {
    "duration": 14,
    "start_time": "2022-05-18T12:41:11.263Z"
   },
   {
    "duration": 13,
    "start_time": "2022-05-18T12:41:11.279Z"
   },
   {
    "duration": 7,
    "start_time": "2022-05-18T12:41:11.295Z"
   },
   {
    "duration": 20,
    "start_time": "2022-05-18T12:41:11.304Z"
   },
   {
    "duration": 15,
    "start_time": "2022-05-18T12:41:11.359Z"
   },
   {
    "duration": 15,
    "start_time": "2022-05-18T12:41:11.378Z"
   },
   {
    "duration": 10,
    "start_time": "2022-05-18T12:41:11.395Z"
   },
   {
    "duration": 14,
    "start_time": "2022-05-18T12:41:11.407Z"
   },
   {
    "duration": 13,
    "start_time": "2022-05-18T12:41:11.423Z"
   },
   {
    "duration": 17,
    "start_time": "2022-05-18T12:41:11.458Z"
   },
   {
    "duration": 17,
    "start_time": "2022-05-18T12:41:11.477Z"
   },
   {
    "duration": 196,
    "start_time": "2022-05-18T12:41:11.495Z"
   },
   {
    "duration": 307,
    "start_time": "2022-05-18T12:41:11.694Z"
   },
   {
    "duration": 7,
    "start_time": "2022-05-18T12:41:12.003Z"
   },
   {
    "duration": 8,
    "start_time": "2022-05-18T12:41:12.012Z"
   },
   {
    "duration": 18,
    "start_time": "2022-05-18T12:41:12.022Z"
   },
   {
    "duration": 30,
    "start_time": "2022-05-18T12:41:12.043Z"
   },
   {
    "duration": 10,
    "start_time": "2022-05-18T12:41:12.080Z"
   },
   {
    "duration": 227,
    "start_time": "2022-05-18T12:41:12.092Z"
   },
   {
    "duration": 7,
    "start_time": "2022-05-18T12:41:12.322Z"
   },
   {
    "duration": 12,
    "start_time": "2022-05-18T12:41:12.331Z"
   },
   {
    "duration": 26,
    "start_time": "2022-05-18T12:41:12.346Z"
   },
   {
    "duration": 12,
    "start_time": "2022-05-18T12:41:12.374Z"
   },
   {
    "duration": 22,
    "start_time": "2022-05-18T12:41:12.393Z"
   },
   {
    "duration": 101,
    "start_time": "2022-05-18T12:41:12.417Z"
   },
   {
    "duration": 0,
    "start_time": "2022-05-18T12:41:12.520Z"
   },
   {
    "duration": 0,
    "start_time": "2022-05-18T12:41:12.521Z"
   },
   {
    "duration": 0,
    "start_time": "2022-05-18T12:41:12.522Z"
   },
   {
    "duration": 0,
    "start_time": "2022-05-18T12:41:12.524Z"
   },
   {
    "duration": 0,
    "start_time": "2022-05-18T12:41:12.525Z"
   },
   {
    "duration": 0,
    "start_time": "2022-05-18T12:41:12.526Z"
   },
   {
    "duration": 0,
    "start_time": "2022-05-18T12:41:12.527Z"
   },
   {
    "duration": 0,
    "start_time": "2022-05-18T12:41:12.529Z"
   },
   {
    "duration": 0,
    "start_time": "2022-05-18T12:41:12.531Z"
   },
   {
    "duration": 0,
    "start_time": "2022-05-18T12:41:12.532Z"
   },
   {
    "duration": 0,
    "start_time": "2022-05-18T12:41:12.534Z"
   },
   {
    "duration": 0,
    "start_time": "2022-05-18T12:41:12.536Z"
   },
   {
    "duration": 0,
    "start_time": "2022-05-18T12:41:12.571Z"
   },
   {
    "duration": 0,
    "start_time": "2022-05-18T12:41:12.572Z"
   },
   {
    "duration": 0,
    "start_time": "2022-05-18T12:41:12.575Z"
   },
   {
    "duration": 0,
    "start_time": "2022-05-18T12:41:12.578Z"
   },
   {
    "duration": 0,
    "start_time": "2022-05-18T12:41:12.578Z"
   },
   {
    "duration": 0,
    "start_time": "2022-05-18T12:41:12.579Z"
   },
   {
    "duration": 0,
    "start_time": "2022-05-18T12:41:12.586Z"
   },
   {
    "duration": 0,
    "start_time": "2022-05-18T12:41:12.588Z"
   },
   {
    "duration": 0,
    "start_time": "2022-05-18T12:41:12.589Z"
   },
   {
    "duration": 0,
    "start_time": "2022-05-18T12:41:12.590Z"
   },
   {
    "duration": 0,
    "start_time": "2022-05-18T12:41:12.591Z"
   },
   {
    "duration": 0,
    "start_time": "2022-05-18T12:41:12.593Z"
   },
   {
    "duration": 0,
    "start_time": "2022-05-18T12:41:12.595Z"
   },
   {
    "duration": 0,
    "start_time": "2022-05-18T12:41:12.596Z"
   },
   {
    "duration": 0,
    "start_time": "2022-05-18T12:41:12.597Z"
   },
   {
    "duration": 0,
    "start_time": "2022-05-18T12:41:12.599Z"
   },
   {
    "duration": 0,
    "start_time": "2022-05-18T12:41:12.600Z"
   },
   {
    "duration": 0,
    "start_time": "2022-05-18T12:41:12.601Z"
   },
   {
    "duration": 0,
    "start_time": "2022-05-18T12:41:12.604Z"
   },
   {
    "duration": 0,
    "start_time": "2022-05-18T12:41:12.606Z"
   },
   {
    "duration": 0,
    "start_time": "2022-05-18T12:41:12.611Z"
   },
   {
    "duration": 515,
    "start_time": "2022-05-18T12:42:28.574Z"
   },
   {
    "duration": 24,
    "start_time": "2022-05-18T12:42:29.702Z"
   },
   {
    "duration": 26,
    "start_time": "2022-05-18T12:42:29.729Z"
   },
   {
    "duration": 22,
    "start_time": "2022-05-18T12:42:29.757Z"
   },
   {
    "duration": 22,
    "start_time": "2022-05-18T12:42:29.781Z"
   },
   {
    "duration": 11,
    "start_time": "2022-05-18T12:42:29.806Z"
   },
   {
    "duration": 9,
    "start_time": "2022-05-18T12:42:29.820Z"
   },
   {
    "duration": 48,
    "start_time": "2022-05-18T12:42:29.831Z"
   },
   {
    "duration": 12,
    "start_time": "2022-05-18T12:42:29.882Z"
   },
   {
    "duration": 8,
    "start_time": "2022-05-18T12:42:29.896Z"
   },
   {
    "duration": 13,
    "start_time": "2022-05-18T12:42:29.905Z"
   },
   {
    "duration": 48,
    "start_time": "2022-05-18T12:42:29.920Z"
   },
   {
    "duration": 13,
    "start_time": "2022-05-18T12:42:29.970Z"
   },
   {
    "duration": 7,
    "start_time": "2022-05-18T12:42:29.985Z"
   },
   {
    "duration": 21,
    "start_time": "2022-05-18T12:42:29.997Z"
   },
   {
    "duration": 181,
    "start_time": "2022-05-18T12:42:30.019Z"
   },
   {
    "duration": 279,
    "start_time": "2022-05-18T12:42:30.202Z"
   },
   {
    "duration": 9,
    "start_time": "2022-05-18T12:42:30.482Z"
   },
   {
    "duration": 19,
    "start_time": "2022-05-18T12:42:30.493Z"
   },
   {
    "duration": 19,
    "start_time": "2022-05-18T12:42:30.514Z"
   },
   {
    "duration": 35,
    "start_time": "2022-05-18T12:42:30.535Z"
   },
   {
    "duration": 19,
    "start_time": "2022-05-18T12:42:30.575Z"
   },
   {
    "duration": 230,
    "start_time": "2022-05-18T12:42:30.596Z"
   },
   {
    "duration": 6,
    "start_time": "2022-05-18T12:42:30.828Z"
   },
   {
    "duration": 44,
    "start_time": "2022-05-18T12:42:30.836Z"
   },
   {
    "duration": 21,
    "start_time": "2022-05-18T12:42:30.882Z"
   },
   {
    "duration": 19,
    "start_time": "2022-05-18T12:42:30.905Z"
   },
   {
    "duration": 56,
    "start_time": "2022-05-18T12:42:30.926Z"
   },
   {
    "duration": 14,
    "start_time": "2022-05-18T12:42:30.992Z"
   },
   {
    "duration": 97,
    "start_time": "2022-05-18T12:42:31.008Z"
   },
   {
    "duration": 0,
    "start_time": "2022-05-18T12:42:31.108Z"
   },
   {
    "duration": 0,
    "start_time": "2022-05-18T12:42:31.109Z"
   },
   {
    "duration": 0,
    "start_time": "2022-05-18T12:42:31.111Z"
   },
   {
    "duration": 0,
    "start_time": "2022-05-18T12:42:31.112Z"
   },
   {
    "duration": 0,
    "start_time": "2022-05-18T12:42:31.115Z"
   },
   {
    "duration": 0,
    "start_time": "2022-05-18T12:42:31.116Z"
   },
   {
    "duration": 0,
    "start_time": "2022-05-18T12:42:31.117Z"
   },
   {
    "duration": 0,
    "start_time": "2022-05-18T12:42:31.118Z"
   },
   {
    "duration": 0,
    "start_time": "2022-05-18T12:42:31.120Z"
   },
   {
    "duration": 0,
    "start_time": "2022-05-18T12:42:31.121Z"
   },
   {
    "duration": 0,
    "start_time": "2022-05-18T12:42:31.123Z"
   },
   {
    "duration": 0,
    "start_time": "2022-05-18T12:42:31.125Z"
   },
   {
    "duration": 0,
    "start_time": "2022-05-18T12:42:31.126Z"
   },
   {
    "duration": 0,
    "start_time": "2022-05-18T12:42:31.127Z"
   },
   {
    "duration": 0,
    "start_time": "2022-05-18T12:42:31.129Z"
   },
   {
    "duration": 0,
    "start_time": "2022-05-18T12:42:31.161Z"
   },
   {
    "duration": 0,
    "start_time": "2022-05-18T12:42:31.161Z"
   },
   {
    "duration": 0,
    "start_time": "2022-05-18T12:42:31.162Z"
   },
   {
    "duration": 0,
    "start_time": "2022-05-18T12:42:31.163Z"
   },
   {
    "duration": 0,
    "start_time": "2022-05-18T12:42:31.164Z"
   },
   {
    "duration": 0,
    "start_time": "2022-05-18T12:42:31.165Z"
   },
   {
    "duration": 0,
    "start_time": "2022-05-18T12:42:31.166Z"
   },
   {
    "duration": 0,
    "start_time": "2022-05-18T12:42:31.166Z"
   },
   {
    "duration": 0,
    "start_time": "2022-05-18T12:42:31.167Z"
   },
   {
    "duration": 0,
    "start_time": "2022-05-18T12:42:31.168Z"
   },
   {
    "duration": 0,
    "start_time": "2022-05-18T12:42:31.169Z"
   },
   {
    "duration": 0,
    "start_time": "2022-05-18T12:42:31.169Z"
   },
   {
    "duration": 0,
    "start_time": "2022-05-18T12:42:31.170Z"
   },
   {
    "duration": 0,
    "start_time": "2022-05-18T12:42:31.171Z"
   },
   {
    "duration": 0,
    "start_time": "2022-05-18T12:42:31.172Z"
   },
   {
    "duration": 0,
    "start_time": "2022-05-18T12:42:31.172Z"
   },
   {
    "duration": 0,
    "start_time": "2022-05-18T12:42:31.173Z"
   },
   {
    "duration": 0,
    "start_time": "2022-05-18T12:42:31.174Z"
   },
   {
    "duration": 531,
    "start_time": "2022-05-18T12:43:04.887Z"
   },
   {
    "duration": 19,
    "start_time": "2022-05-18T12:43:05.420Z"
   },
   {
    "duration": 85,
    "start_time": "2022-05-18T12:43:05.441Z"
   },
   {
    "duration": 11,
    "start_time": "2022-05-18T12:43:05.528Z"
   },
   {
    "duration": 12,
    "start_time": "2022-05-18T12:43:05.542Z"
   },
   {
    "duration": 20,
    "start_time": "2022-05-18T12:43:05.556Z"
   },
   {
    "duration": 20,
    "start_time": "2022-05-18T12:43:05.578Z"
   },
   {
    "duration": 19,
    "start_time": "2022-05-18T12:43:05.601Z"
   },
   {
    "duration": 11,
    "start_time": "2022-05-18T12:43:05.622Z"
   },
   {
    "duration": 24,
    "start_time": "2022-05-18T12:43:05.636Z"
   },
   {
    "duration": 12,
    "start_time": "2022-05-18T12:43:05.663Z"
   },
   {
    "duration": 25,
    "start_time": "2022-05-18T12:43:05.676Z"
   },
   {
    "duration": 10,
    "start_time": "2022-05-18T12:43:05.703Z"
   },
   {
    "duration": 8,
    "start_time": "2022-05-18T12:43:05.719Z"
   },
   {
    "duration": 52,
    "start_time": "2022-05-18T12:43:05.729Z"
   },
   {
    "duration": 165,
    "start_time": "2022-05-18T12:43:05.784Z"
   },
   {
    "duration": 459,
    "start_time": "2022-05-18T12:43:05.952Z"
   },
   {
    "duration": 8,
    "start_time": "2022-05-18T12:43:06.413Z"
   },
   {
    "duration": 7,
    "start_time": "2022-05-18T12:43:06.422Z"
   },
   {
    "duration": 35,
    "start_time": "2022-05-18T12:43:06.431Z"
   },
   {
    "duration": 15,
    "start_time": "2022-05-18T12:43:06.467Z"
   },
   {
    "duration": 12,
    "start_time": "2022-05-18T12:43:06.483Z"
   },
   {
    "duration": 331,
    "start_time": "2022-05-18T12:43:06.497Z"
   },
   {
    "duration": 7,
    "start_time": "2022-05-18T12:43:06.830Z"
   },
   {
    "duration": 38,
    "start_time": "2022-05-18T12:43:06.839Z"
   },
   {
    "duration": 24,
    "start_time": "2022-05-18T12:43:06.879Z"
   },
   {
    "duration": 8,
    "start_time": "2022-05-18T12:43:06.905Z"
   },
   {
    "duration": 18,
    "start_time": "2022-05-18T12:43:06.914Z"
   },
   {
    "duration": 17,
    "start_time": "2022-05-18T12:43:06.934Z"
   },
   {
    "duration": 100,
    "start_time": "2022-05-18T12:43:06.952Z"
   },
   {
    "duration": 0,
    "start_time": "2022-05-18T12:43:07.055Z"
   },
   {
    "duration": 0,
    "start_time": "2022-05-18T12:43:07.056Z"
   },
   {
    "duration": 0,
    "start_time": "2022-05-18T12:43:07.057Z"
   },
   {
    "duration": 0,
    "start_time": "2022-05-18T12:43:07.066Z"
   },
   {
    "duration": 0,
    "start_time": "2022-05-18T12:43:07.067Z"
   },
   {
    "duration": 0,
    "start_time": "2022-05-18T12:43:07.067Z"
   },
   {
    "duration": 0,
    "start_time": "2022-05-18T12:43:07.068Z"
   },
   {
    "duration": 0,
    "start_time": "2022-05-18T12:43:07.068Z"
   },
   {
    "duration": 0,
    "start_time": "2022-05-18T12:43:07.069Z"
   },
   {
    "duration": 0,
    "start_time": "2022-05-18T12:43:07.069Z"
   },
   {
    "duration": 1,
    "start_time": "2022-05-18T12:43:07.070Z"
   },
   {
    "duration": 0,
    "start_time": "2022-05-18T12:43:07.078Z"
   },
   {
    "duration": 0,
    "start_time": "2022-05-18T12:43:07.082Z"
   },
   {
    "duration": 0,
    "start_time": "2022-05-18T12:43:07.083Z"
   },
   {
    "duration": 0,
    "start_time": "2022-05-18T12:43:07.084Z"
   },
   {
    "duration": 0,
    "start_time": "2022-05-18T12:43:07.085Z"
   },
   {
    "duration": 0,
    "start_time": "2022-05-18T12:43:07.087Z"
   },
   {
    "duration": 0,
    "start_time": "2022-05-18T12:43:07.088Z"
   },
   {
    "duration": 0,
    "start_time": "2022-05-18T12:43:07.089Z"
   },
   {
    "duration": 0,
    "start_time": "2022-05-18T12:43:07.090Z"
   },
   {
    "duration": 0,
    "start_time": "2022-05-18T12:43:07.091Z"
   },
   {
    "duration": 0,
    "start_time": "2022-05-18T12:43:07.092Z"
   },
   {
    "duration": 0,
    "start_time": "2022-05-18T12:43:07.093Z"
   },
   {
    "duration": 0,
    "start_time": "2022-05-18T12:43:07.094Z"
   },
   {
    "duration": 0,
    "start_time": "2022-05-18T12:43:07.099Z"
   },
   {
    "duration": 0,
    "start_time": "2022-05-18T12:43:07.099Z"
   },
   {
    "duration": 0,
    "start_time": "2022-05-18T12:43:07.101Z"
   },
   {
    "duration": 0,
    "start_time": "2022-05-18T12:43:07.101Z"
   },
   {
    "duration": 0,
    "start_time": "2022-05-18T12:43:07.102Z"
   },
   {
    "duration": 0,
    "start_time": "2022-05-18T12:43:07.103Z"
   },
   {
    "duration": 0,
    "start_time": "2022-05-18T12:43:07.104Z"
   },
   {
    "duration": 0,
    "start_time": "2022-05-18T12:43:07.105Z"
   },
   {
    "duration": 0,
    "start_time": "2022-05-18T12:43:07.106Z"
   },
   {
    "duration": 564,
    "start_time": "2022-05-18T12:45:56.909Z"
   },
   {
    "duration": 18,
    "start_time": "2022-05-18T12:45:57.477Z"
   },
   {
    "duration": 28,
    "start_time": "2022-05-18T12:45:57.498Z"
   },
   {
    "duration": 63,
    "start_time": "2022-05-18T12:45:57.529Z"
   },
   {
    "duration": 23,
    "start_time": "2022-05-18T12:45:57.594Z"
   },
   {
    "duration": 16,
    "start_time": "2022-05-18T12:45:57.619Z"
   },
   {
    "duration": 9,
    "start_time": "2022-05-18T12:45:57.637Z"
   },
   {
    "duration": 36,
    "start_time": "2022-05-18T12:45:57.648Z"
   },
   {
    "duration": 20,
    "start_time": "2022-05-18T12:45:57.685Z"
   },
   {
    "duration": 15,
    "start_time": "2022-05-18T12:45:57.710Z"
   },
   {
    "duration": 16,
    "start_time": "2022-05-18T12:45:57.727Z"
   },
   {
    "duration": 30,
    "start_time": "2022-05-18T12:45:57.744Z"
   },
   {
    "duration": 21,
    "start_time": "2022-05-18T12:45:57.777Z"
   },
   {
    "duration": 21,
    "start_time": "2022-05-18T12:45:57.799Z"
   },
   {
    "duration": 35,
    "start_time": "2022-05-18T12:45:57.822Z"
   },
   {
    "duration": 171,
    "start_time": "2022-05-18T12:45:57.867Z"
   },
   {
    "duration": 264,
    "start_time": "2022-05-18T12:45:58.040Z"
   },
   {
    "duration": 8,
    "start_time": "2022-05-18T12:45:58.305Z"
   },
   {
    "duration": 27,
    "start_time": "2022-05-18T12:45:58.315Z"
   },
   {
    "duration": 16,
    "start_time": "2022-05-18T12:45:58.344Z"
   },
   {
    "duration": 32,
    "start_time": "2022-05-18T12:45:58.369Z"
   },
   {
    "duration": 19,
    "start_time": "2022-05-18T12:45:58.403Z"
   },
   {
    "duration": 229,
    "start_time": "2022-05-18T12:45:58.423Z"
   },
   {
    "duration": 24,
    "start_time": "2022-05-18T12:45:58.654Z"
   },
   {
    "duration": 13,
    "start_time": "2022-05-18T12:45:58.680Z"
   },
   {
    "duration": 20,
    "start_time": "2022-05-18T12:45:58.695Z"
   },
   {
    "duration": 12,
    "start_time": "2022-05-18T12:45:58.717Z"
   },
   {
    "duration": 20,
    "start_time": "2022-05-18T12:45:58.735Z"
   },
   {
    "duration": 33,
    "start_time": "2022-05-18T12:45:58.757Z"
   },
   {
    "duration": 87,
    "start_time": "2022-05-18T12:45:58.791Z"
   },
   {
    "duration": 0,
    "start_time": "2022-05-18T12:45:58.880Z"
   },
   {
    "duration": 0,
    "start_time": "2022-05-18T12:45:58.881Z"
   },
   {
    "duration": 0,
    "start_time": "2022-05-18T12:45:58.882Z"
   },
   {
    "duration": 0,
    "start_time": "2022-05-18T12:45:58.884Z"
   },
   {
    "duration": 1,
    "start_time": "2022-05-18T12:45:58.884Z"
   },
   {
    "duration": 0,
    "start_time": "2022-05-18T12:45:58.885Z"
   },
   {
    "duration": 0,
    "start_time": "2022-05-18T12:45:58.887Z"
   },
   {
    "duration": 0,
    "start_time": "2022-05-18T12:45:58.888Z"
   },
   {
    "duration": 0,
    "start_time": "2022-05-18T12:45:58.889Z"
   },
   {
    "duration": 0,
    "start_time": "2022-05-18T12:45:58.891Z"
   },
   {
    "duration": 0,
    "start_time": "2022-05-18T12:45:58.892Z"
   },
   {
    "duration": 0,
    "start_time": "2022-05-18T12:45:58.894Z"
   },
   {
    "duration": 0,
    "start_time": "2022-05-18T12:45:58.896Z"
   },
   {
    "duration": 0,
    "start_time": "2022-05-18T12:45:58.897Z"
   },
   {
    "duration": 0,
    "start_time": "2022-05-18T12:45:58.899Z"
   },
   {
    "duration": 0,
    "start_time": "2022-05-18T12:45:58.901Z"
   },
   {
    "duration": 0,
    "start_time": "2022-05-18T12:45:58.902Z"
   },
   {
    "duration": 0,
    "start_time": "2022-05-18T12:45:58.904Z"
   },
   {
    "duration": 0,
    "start_time": "2022-05-18T12:45:58.905Z"
   },
   {
    "duration": 0,
    "start_time": "2022-05-18T12:45:58.907Z"
   },
   {
    "duration": 0,
    "start_time": "2022-05-18T12:45:58.908Z"
   },
   {
    "duration": 0,
    "start_time": "2022-05-18T12:45:58.909Z"
   },
   {
    "duration": 0,
    "start_time": "2022-05-18T12:45:58.911Z"
   },
   {
    "duration": 0,
    "start_time": "2022-05-18T12:45:58.912Z"
   },
   {
    "duration": 0,
    "start_time": "2022-05-18T12:45:58.913Z"
   },
   {
    "duration": 0,
    "start_time": "2022-05-18T12:45:58.915Z"
   },
   {
    "duration": 0,
    "start_time": "2022-05-18T12:45:58.967Z"
   },
   {
    "duration": 0,
    "start_time": "2022-05-18T12:45:58.968Z"
   },
   {
    "duration": 0,
    "start_time": "2022-05-18T12:45:58.969Z"
   },
   {
    "duration": 0,
    "start_time": "2022-05-18T12:45:58.970Z"
   },
   {
    "duration": 0,
    "start_time": "2022-05-18T12:45:58.972Z"
   },
   {
    "duration": 0,
    "start_time": "2022-05-18T12:45:58.973Z"
   },
   {
    "duration": 0,
    "start_time": "2022-05-18T12:45:58.974Z"
   },
   {
    "duration": 595,
    "start_time": "2022-05-18T12:46:28.273Z"
   },
   {
    "duration": 16,
    "start_time": "2022-05-18T12:46:28.874Z"
   },
   {
    "duration": 31,
    "start_time": "2022-05-18T12:46:28.892Z"
   },
   {
    "duration": 12,
    "start_time": "2022-05-18T12:46:28.926Z"
   },
   {
    "duration": 34,
    "start_time": "2022-05-18T12:46:28.940Z"
   },
   {
    "duration": 18,
    "start_time": "2022-05-18T12:46:28.977Z"
   },
   {
    "duration": 7,
    "start_time": "2022-05-18T12:46:28.997Z"
   },
   {
    "duration": 25,
    "start_time": "2022-05-18T12:46:29.006Z"
   },
   {
    "duration": 9,
    "start_time": "2022-05-18T12:46:29.033Z"
   },
   {
    "duration": 22,
    "start_time": "2022-05-18T12:46:29.045Z"
   },
   {
    "duration": 21,
    "start_time": "2022-05-18T12:46:29.068Z"
   },
   {
    "duration": 8,
    "start_time": "2022-05-18T12:46:29.090Z"
   },
   {
    "duration": 9,
    "start_time": "2022-05-18T12:46:29.100Z"
   },
   {
    "duration": 7,
    "start_time": "2022-05-18T12:46:29.112Z"
   },
   {
    "duration": 54,
    "start_time": "2022-05-18T12:46:29.122Z"
   },
   {
    "duration": 166,
    "start_time": "2022-05-18T12:46:29.178Z"
   },
   {
    "duration": 263,
    "start_time": "2022-05-18T12:46:29.346Z"
   },
   {
    "duration": 6,
    "start_time": "2022-05-18T12:46:29.611Z"
   },
   {
    "duration": 18,
    "start_time": "2022-05-18T12:46:29.619Z"
   },
   {
    "duration": 25,
    "start_time": "2022-05-18T12:46:29.639Z"
   },
   {
    "duration": 34,
    "start_time": "2022-05-18T12:46:29.670Z"
   },
   {
    "duration": 30,
    "start_time": "2022-05-18T12:46:29.707Z"
   },
   {
    "duration": 260,
    "start_time": "2022-05-18T12:46:29.740Z"
   },
   {
    "duration": 7,
    "start_time": "2022-05-18T12:46:30.003Z"
   },
   {
    "duration": 33,
    "start_time": "2022-05-18T12:46:30.012Z"
   },
   {
    "duration": 49,
    "start_time": "2022-05-18T12:46:30.047Z"
   },
   {
    "duration": 19,
    "start_time": "2022-05-18T12:46:30.098Z"
   },
   {
    "duration": 41,
    "start_time": "2022-05-18T12:46:30.122Z"
   },
   {
    "duration": 36,
    "start_time": "2022-05-18T12:46:30.166Z"
   },
   {
    "duration": 86,
    "start_time": "2022-05-18T12:46:30.204Z"
   },
   {
    "duration": 0,
    "start_time": "2022-05-18T12:46:30.292Z"
   },
   {
    "duration": 0,
    "start_time": "2022-05-18T12:46:30.294Z"
   },
   {
    "duration": 0,
    "start_time": "2022-05-18T12:46:30.295Z"
   },
   {
    "duration": 0,
    "start_time": "2022-05-18T12:46:30.296Z"
   },
   {
    "duration": 0,
    "start_time": "2022-05-18T12:46:30.298Z"
   },
   {
    "duration": 0,
    "start_time": "2022-05-18T12:46:30.299Z"
   },
   {
    "duration": 0,
    "start_time": "2022-05-18T12:46:30.301Z"
   },
   {
    "duration": 0,
    "start_time": "2022-05-18T12:46:30.303Z"
   },
   {
    "duration": 0,
    "start_time": "2022-05-18T12:46:30.305Z"
   },
   {
    "duration": 0,
    "start_time": "2022-05-18T12:46:30.307Z"
   },
   {
    "duration": 0,
    "start_time": "2022-05-18T12:46:30.308Z"
   },
   {
    "duration": 0,
    "start_time": "2022-05-18T12:46:30.310Z"
   },
   {
    "duration": 0,
    "start_time": "2022-05-18T12:46:30.312Z"
   },
   {
    "duration": 0,
    "start_time": "2022-05-18T12:46:30.314Z"
   },
   {
    "duration": 0,
    "start_time": "2022-05-18T12:46:30.316Z"
   },
   {
    "duration": 0,
    "start_time": "2022-05-18T12:46:30.317Z"
   },
   {
    "duration": 0,
    "start_time": "2022-05-18T12:46:30.358Z"
   },
   {
    "duration": 0,
    "start_time": "2022-05-18T12:46:30.359Z"
   },
   {
    "duration": 0,
    "start_time": "2022-05-18T12:46:30.360Z"
   },
   {
    "duration": 0,
    "start_time": "2022-05-18T12:46:30.361Z"
   },
   {
    "duration": 0,
    "start_time": "2022-05-18T12:46:30.362Z"
   },
   {
    "duration": 0,
    "start_time": "2022-05-18T12:46:30.363Z"
   },
   {
    "duration": 1,
    "start_time": "2022-05-18T12:46:30.363Z"
   },
   {
    "duration": 0,
    "start_time": "2022-05-18T12:46:30.364Z"
   },
   {
    "duration": 0,
    "start_time": "2022-05-18T12:46:30.365Z"
   },
   {
    "duration": 0,
    "start_time": "2022-05-18T12:46:30.366Z"
   },
   {
    "duration": 0,
    "start_time": "2022-05-18T12:46:30.367Z"
   },
   {
    "duration": 0,
    "start_time": "2022-05-18T12:46:30.368Z"
   },
   {
    "duration": 0,
    "start_time": "2022-05-18T12:46:30.372Z"
   },
   {
    "duration": 0,
    "start_time": "2022-05-18T12:46:30.373Z"
   },
   {
    "duration": 0,
    "start_time": "2022-05-18T12:46:30.375Z"
   },
   {
    "duration": 0,
    "start_time": "2022-05-18T12:46:30.376Z"
   },
   {
    "duration": 0,
    "start_time": "2022-05-18T12:46:30.377Z"
   },
   {
    "duration": 575,
    "start_time": "2022-05-18T12:47:29.149Z"
   },
   {
    "duration": 17,
    "start_time": "2022-05-18T12:47:29.726Z"
   },
   {
    "duration": 34,
    "start_time": "2022-05-18T12:47:29.745Z"
   },
   {
    "duration": 16,
    "start_time": "2022-05-18T12:47:29.782Z"
   },
   {
    "duration": 12,
    "start_time": "2022-05-18T12:47:29.801Z"
   },
   {
    "duration": 13,
    "start_time": "2022-05-18T12:47:29.815Z"
   },
   {
    "duration": 43,
    "start_time": "2022-05-18T12:47:29.830Z"
   },
   {
    "duration": 21,
    "start_time": "2022-05-18T12:47:29.878Z"
   },
   {
    "duration": 11,
    "start_time": "2022-05-18T12:47:29.902Z"
   },
   {
    "duration": 15,
    "start_time": "2022-05-18T12:47:29.915Z"
   },
   {
    "duration": 37,
    "start_time": "2022-05-18T12:47:29.932Z"
   },
   {
    "duration": 10,
    "start_time": "2022-05-18T12:47:29.971Z"
   },
   {
    "duration": 11,
    "start_time": "2022-05-18T12:47:29.983Z"
   },
   {
    "duration": 6,
    "start_time": "2022-05-18T12:47:29.998Z"
   },
   {
    "duration": 36,
    "start_time": "2022-05-18T12:47:30.006Z"
   },
   {
    "duration": 156,
    "start_time": "2022-05-18T12:47:30.045Z"
   },
   {
    "duration": 298,
    "start_time": "2022-05-18T12:47:30.203Z"
   },
   {
    "duration": 9,
    "start_time": "2022-05-18T12:47:30.503Z"
   },
   {
    "duration": 15,
    "start_time": "2022-05-18T12:47:30.514Z"
   },
   {
    "duration": 34,
    "start_time": "2022-05-18T12:47:30.531Z"
   },
   {
    "duration": 33,
    "start_time": "2022-05-18T12:47:30.567Z"
   },
   {
    "duration": 20,
    "start_time": "2022-05-18T12:47:30.603Z"
   },
   {
    "duration": 312,
    "start_time": "2022-05-18T12:47:30.626Z"
   },
   {
    "duration": 32,
    "start_time": "2022-05-18T12:47:30.940Z"
   },
   {
    "duration": 39,
    "start_time": "2022-05-18T12:47:30.977Z"
   },
   {
    "duration": 40,
    "start_time": "2022-05-18T12:47:31.019Z"
   },
   {
    "duration": 61,
    "start_time": "2022-05-18T12:47:31.062Z"
   },
   {
    "duration": 55,
    "start_time": "2022-05-18T12:47:31.125Z"
   },
   {
    "duration": 47,
    "start_time": "2022-05-18T12:47:31.181Z"
   },
   {
    "duration": 85,
    "start_time": "2022-05-18T12:47:31.230Z"
   },
   {
    "duration": 0,
    "start_time": "2022-05-18T12:47:31.318Z"
   },
   {
    "duration": 0,
    "start_time": "2022-05-18T12:47:31.320Z"
   },
   {
    "duration": 0,
    "start_time": "2022-05-18T12:47:31.322Z"
   },
   {
    "duration": 0,
    "start_time": "2022-05-18T12:47:31.323Z"
   },
   {
    "duration": 0,
    "start_time": "2022-05-18T12:47:31.325Z"
   },
   {
    "duration": 0,
    "start_time": "2022-05-18T12:47:31.326Z"
   },
   {
    "duration": 0,
    "start_time": "2022-05-18T12:47:31.327Z"
   },
   {
    "duration": 0,
    "start_time": "2022-05-18T12:47:31.328Z"
   },
   {
    "duration": 0,
    "start_time": "2022-05-18T12:47:31.329Z"
   },
   {
    "duration": 0,
    "start_time": "2022-05-18T12:47:31.330Z"
   },
   {
    "duration": 0,
    "start_time": "2022-05-18T12:47:31.331Z"
   },
   {
    "duration": 0,
    "start_time": "2022-05-18T12:47:31.333Z"
   },
   {
    "duration": 0,
    "start_time": "2022-05-18T12:47:31.369Z"
   },
   {
    "duration": 0,
    "start_time": "2022-05-18T12:47:31.370Z"
   },
   {
    "duration": 0,
    "start_time": "2022-05-18T12:47:31.371Z"
   },
   {
    "duration": 0,
    "start_time": "2022-05-18T12:47:31.372Z"
   },
   {
    "duration": 0,
    "start_time": "2022-05-18T12:47:31.373Z"
   },
   {
    "duration": 0,
    "start_time": "2022-05-18T12:47:31.374Z"
   },
   {
    "duration": 0,
    "start_time": "2022-05-18T12:47:31.375Z"
   },
   {
    "duration": 0,
    "start_time": "2022-05-18T12:47:31.376Z"
   },
   {
    "duration": 0,
    "start_time": "2022-05-18T12:47:31.377Z"
   },
   {
    "duration": 0,
    "start_time": "2022-05-18T12:47:31.378Z"
   },
   {
    "duration": 0,
    "start_time": "2022-05-18T12:47:31.379Z"
   },
   {
    "duration": 0,
    "start_time": "2022-05-18T12:47:31.380Z"
   },
   {
    "duration": 0,
    "start_time": "2022-05-18T12:47:31.380Z"
   },
   {
    "duration": 0,
    "start_time": "2022-05-18T12:47:31.381Z"
   },
   {
    "duration": 0,
    "start_time": "2022-05-18T12:47:31.382Z"
   },
   {
    "duration": 0,
    "start_time": "2022-05-18T12:47:31.383Z"
   },
   {
    "duration": 0,
    "start_time": "2022-05-18T12:47:31.385Z"
   },
   {
    "duration": 0,
    "start_time": "2022-05-18T12:47:31.389Z"
   },
   {
    "duration": 0,
    "start_time": "2022-05-18T12:47:31.390Z"
   },
   {
    "duration": 0,
    "start_time": "2022-05-18T12:47:31.391Z"
   },
   {
    "duration": 0,
    "start_time": "2022-05-18T12:47:31.392Z"
   },
   {
    "duration": 526,
    "start_time": "2022-05-18T12:51:02.619Z"
   },
   {
    "duration": 24,
    "start_time": "2022-05-18T12:51:03.147Z"
   },
   {
    "duration": 20,
    "start_time": "2022-05-18T12:51:03.172Z"
   },
   {
    "duration": 11,
    "start_time": "2022-05-18T12:51:03.194Z"
   },
   {
    "duration": 15,
    "start_time": "2022-05-18T12:51:03.206Z"
   },
   {
    "duration": 12,
    "start_time": "2022-05-18T12:51:03.223Z"
   },
   {
    "duration": 32,
    "start_time": "2022-05-18T12:51:03.236Z"
   },
   {
    "duration": 14,
    "start_time": "2022-05-18T12:51:03.269Z"
   },
   {
    "duration": 16,
    "start_time": "2022-05-18T12:51:03.285Z"
   },
   {
    "duration": 5,
    "start_time": "2022-05-18T12:51:03.303Z"
   },
   {
    "duration": 26,
    "start_time": "2022-05-18T12:51:03.309Z"
   },
   {
    "duration": 6,
    "start_time": "2022-05-18T12:51:03.337Z"
   },
   {
    "duration": 33,
    "start_time": "2022-05-18T12:51:03.345Z"
   },
   {
    "duration": 12,
    "start_time": "2022-05-18T12:51:03.380Z"
   },
   {
    "duration": 14,
    "start_time": "2022-05-18T12:51:03.394Z"
   },
   {
    "duration": 140,
    "start_time": "2022-05-18T12:51:03.410Z"
   },
   {
    "duration": 273,
    "start_time": "2022-05-18T12:51:03.552Z"
   },
   {
    "duration": 7,
    "start_time": "2022-05-18T12:51:03.827Z"
   },
   {
    "duration": 39,
    "start_time": "2022-05-18T12:51:03.836Z"
   },
   {
    "duration": 16,
    "start_time": "2022-05-18T12:51:03.877Z"
   },
   {
    "duration": 26,
    "start_time": "2022-05-18T12:51:03.895Z"
   },
   {
    "duration": 4,
    "start_time": "2022-05-18T12:51:03.923Z"
   },
   {
    "duration": 211,
    "start_time": "2022-05-18T12:51:03.928Z"
   },
   {
    "duration": 8,
    "start_time": "2022-05-18T12:51:04.141Z"
   },
   {
    "duration": 8,
    "start_time": "2022-05-18T12:51:04.158Z"
   },
   {
    "duration": 19,
    "start_time": "2022-05-18T12:51:04.167Z"
   },
   {
    "duration": 14,
    "start_time": "2022-05-18T12:51:04.188Z"
   },
   {
    "duration": 15,
    "start_time": "2022-05-18T12:51:04.206Z"
   },
   {
    "duration": 14,
    "start_time": "2022-05-18T12:51:04.224Z"
   },
   {
    "duration": 34,
    "start_time": "2022-05-18T12:51:04.240Z"
   },
   {
    "duration": 71,
    "start_time": "2022-05-18T12:51:04.276Z"
   },
   {
    "duration": 0,
    "start_time": "2022-05-18T12:51:04.349Z"
   },
   {
    "duration": 0,
    "start_time": "2022-05-18T12:51:04.358Z"
   },
   {
    "duration": 0,
    "start_time": "2022-05-18T12:51:04.361Z"
   },
   {
    "duration": 0,
    "start_time": "2022-05-18T12:51:04.361Z"
   },
   {
    "duration": 0,
    "start_time": "2022-05-18T12:51:04.362Z"
   },
   {
    "duration": 0,
    "start_time": "2022-05-18T12:51:04.374Z"
   },
   {
    "duration": 0,
    "start_time": "2022-05-18T12:51:04.375Z"
   },
   {
    "duration": 0,
    "start_time": "2022-05-18T12:51:04.376Z"
   },
   {
    "duration": 0,
    "start_time": "2022-05-18T12:51:04.377Z"
   },
   {
    "duration": 0,
    "start_time": "2022-05-18T12:51:04.379Z"
   },
   {
    "duration": 0,
    "start_time": "2022-05-18T12:51:04.379Z"
   },
   {
    "duration": 0,
    "start_time": "2022-05-18T12:51:04.381Z"
   },
   {
    "duration": 0,
    "start_time": "2022-05-18T12:51:04.382Z"
   },
   {
    "duration": 0,
    "start_time": "2022-05-18T12:51:04.383Z"
   },
   {
    "duration": 0,
    "start_time": "2022-05-18T12:51:04.384Z"
   },
   {
    "duration": 0,
    "start_time": "2022-05-18T12:51:04.385Z"
   },
   {
    "duration": 0,
    "start_time": "2022-05-18T12:51:04.385Z"
   },
   {
    "duration": 0,
    "start_time": "2022-05-18T12:51:04.386Z"
   },
   {
    "duration": 0,
    "start_time": "2022-05-18T12:51:04.387Z"
   },
   {
    "duration": 0,
    "start_time": "2022-05-18T12:51:04.388Z"
   },
   {
    "duration": 0,
    "start_time": "2022-05-18T12:51:04.389Z"
   },
   {
    "duration": 0,
    "start_time": "2022-05-18T12:51:04.390Z"
   },
   {
    "duration": 0,
    "start_time": "2022-05-18T12:51:04.391Z"
   },
   {
    "duration": 0,
    "start_time": "2022-05-18T12:51:04.392Z"
   },
   {
    "duration": 0,
    "start_time": "2022-05-18T12:51:04.393Z"
   },
   {
    "duration": 0,
    "start_time": "2022-05-18T12:51:04.394Z"
   },
   {
    "duration": 0,
    "start_time": "2022-05-18T12:51:04.395Z"
   },
   {
    "duration": 0,
    "start_time": "2022-05-18T12:51:04.396Z"
   },
   {
    "duration": 0,
    "start_time": "2022-05-18T12:51:04.397Z"
   },
   {
    "duration": 0,
    "start_time": "2022-05-18T12:51:04.398Z"
   },
   {
    "duration": 0,
    "start_time": "2022-05-18T12:51:04.399Z"
   },
   {
    "duration": 0,
    "start_time": "2022-05-18T12:51:04.400Z"
   },
   {
    "duration": 0,
    "start_time": "2022-05-18T12:51:04.401Z"
   },
   {
    "duration": 546,
    "start_time": "2022-05-18T12:57:25.177Z"
   },
   {
    "duration": 14,
    "start_time": "2022-05-18T12:57:25.725Z"
   },
   {
    "duration": 31,
    "start_time": "2022-05-18T12:57:25.741Z"
   },
   {
    "duration": 11,
    "start_time": "2022-05-18T12:57:25.775Z"
   },
   {
    "duration": 12,
    "start_time": "2022-05-18T12:57:25.787Z"
   },
   {
    "duration": 9,
    "start_time": "2022-05-18T12:57:25.801Z"
   },
   {
    "duration": 5,
    "start_time": "2022-05-18T12:57:25.812Z"
   },
   {
    "duration": 57,
    "start_time": "2022-05-18T12:57:25.819Z"
   },
   {
    "duration": 8,
    "start_time": "2022-05-18T12:57:25.878Z"
   },
   {
    "duration": 6,
    "start_time": "2022-05-18T12:57:25.890Z"
   },
   {
    "duration": 22,
    "start_time": "2022-05-18T12:57:25.897Z"
   },
   {
    "duration": 18,
    "start_time": "2022-05-18T12:57:25.921Z"
   },
   {
    "duration": 10,
    "start_time": "2022-05-18T12:57:25.941Z"
   },
   {
    "duration": 17,
    "start_time": "2022-05-18T12:57:25.952Z"
   },
   {
    "duration": 17,
    "start_time": "2022-05-18T12:57:25.973Z"
   },
   {
    "duration": 145,
    "start_time": "2022-05-18T12:57:25.992Z"
   },
   {
    "duration": 264,
    "start_time": "2022-05-18T12:57:26.139Z"
   },
   {
    "duration": 5,
    "start_time": "2022-05-18T12:57:26.405Z"
   },
   {
    "duration": 7,
    "start_time": "2022-05-18T12:57:26.412Z"
   },
   {
    "duration": 8,
    "start_time": "2022-05-18T12:57:26.421Z"
   },
   {
    "duration": 47,
    "start_time": "2022-05-18T12:57:26.431Z"
   },
   {
    "duration": 8,
    "start_time": "2022-05-18T12:57:26.480Z"
   },
   {
    "duration": 220,
    "start_time": "2022-05-18T12:57:26.490Z"
   },
   {
    "duration": 6,
    "start_time": "2022-05-18T12:57:26.711Z"
   },
   {
    "duration": 20,
    "start_time": "2022-05-18T12:57:26.719Z"
   },
   {
    "duration": 25,
    "start_time": "2022-05-18T12:57:26.741Z"
   },
   {
    "duration": 16,
    "start_time": "2022-05-18T12:57:26.770Z"
   },
   {
    "duration": 16,
    "start_time": "2022-05-18T12:57:26.790Z"
   },
   {
    "duration": 12,
    "start_time": "2022-05-18T12:57:26.808Z"
   },
   {
    "duration": 13,
    "start_time": "2022-05-18T12:57:26.821Z"
   },
   {
    "duration": 275,
    "start_time": "2022-05-18T12:57:26.835Z"
   },
   {
    "duration": 93,
    "start_time": "2022-05-18T12:57:27.112Z"
   },
   {
    "duration": 0,
    "start_time": "2022-05-18T12:57:27.207Z"
   },
   {
    "duration": 0,
    "start_time": "2022-05-18T12:57:27.208Z"
   },
   {
    "duration": 0,
    "start_time": "2022-05-18T12:57:27.209Z"
   },
   {
    "duration": 0,
    "start_time": "2022-05-18T12:57:27.211Z"
   },
   {
    "duration": 0,
    "start_time": "2022-05-18T12:57:27.212Z"
   },
   {
    "duration": 0,
    "start_time": "2022-05-18T12:57:27.213Z"
   },
   {
    "duration": 0,
    "start_time": "2022-05-18T12:57:27.214Z"
   },
   {
    "duration": 0,
    "start_time": "2022-05-18T12:57:27.215Z"
   },
   {
    "duration": 0,
    "start_time": "2022-05-18T12:57:27.216Z"
   },
   {
    "duration": 0,
    "start_time": "2022-05-18T12:57:27.218Z"
   },
   {
    "duration": 0,
    "start_time": "2022-05-18T12:57:27.219Z"
   },
   {
    "duration": 0,
    "start_time": "2022-05-18T12:57:27.220Z"
   },
   {
    "duration": 0,
    "start_time": "2022-05-18T12:57:27.221Z"
   },
   {
    "duration": 0,
    "start_time": "2022-05-18T12:57:27.223Z"
   },
   {
    "duration": 0,
    "start_time": "2022-05-18T12:57:27.224Z"
   },
   {
    "duration": 0,
    "start_time": "2022-05-18T12:57:27.225Z"
   },
   {
    "duration": 0,
    "start_time": "2022-05-18T12:57:27.264Z"
   },
   {
    "duration": 0,
    "start_time": "2022-05-18T12:57:27.268Z"
   },
   {
    "duration": 0,
    "start_time": "2022-05-18T12:57:27.268Z"
   },
   {
    "duration": 0,
    "start_time": "2022-05-18T12:57:27.269Z"
   },
   {
    "duration": 0,
    "start_time": "2022-05-18T12:57:27.270Z"
   },
   {
    "duration": 0,
    "start_time": "2022-05-18T12:57:27.270Z"
   },
   {
    "duration": 0,
    "start_time": "2022-05-18T12:57:27.271Z"
   },
   {
    "duration": 0,
    "start_time": "2022-05-18T12:57:27.272Z"
   },
   {
    "duration": 0,
    "start_time": "2022-05-18T12:57:27.272Z"
   },
   {
    "duration": 0,
    "start_time": "2022-05-18T12:57:27.273Z"
   },
   {
    "duration": 0,
    "start_time": "2022-05-18T12:57:27.273Z"
   },
   {
    "duration": 0,
    "start_time": "2022-05-18T12:57:27.274Z"
   },
   {
    "duration": 0,
    "start_time": "2022-05-18T12:57:27.277Z"
   },
   {
    "duration": 0,
    "start_time": "2022-05-18T12:57:27.281Z"
   },
   {
    "duration": 0,
    "start_time": "2022-05-18T12:57:27.282Z"
   },
   {
    "duration": 0,
    "start_time": "2022-05-18T12:57:27.283Z"
   },
   {
    "duration": 0,
    "start_time": "2022-05-18T12:57:27.288Z"
   },
   {
    "duration": 517,
    "start_time": "2022-05-18T12:58:04.739Z"
   },
   {
    "duration": 18,
    "start_time": "2022-05-18T12:58:05.259Z"
   },
   {
    "duration": 21,
    "start_time": "2022-05-18T12:58:05.279Z"
   },
   {
    "duration": 9,
    "start_time": "2022-05-18T12:58:05.302Z"
   },
   {
    "duration": 14,
    "start_time": "2022-05-18T12:58:05.314Z"
   },
   {
    "duration": 10,
    "start_time": "2022-05-18T12:58:05.330Z"
   },
   {
    "duration": 13,
    "start_time": "2022-05-18T12:58:05.359Z"
   },
   {
    "duration": 15,
    "start_time": "2022-05-18T12:58:05.375Z"
   },
   {
    "duration": 8,
    "start_time": "2022-05-18T12:58:05.392Z"
   },
   {
    "duration": 5,
    "start_time": "2022-05-18T12:58:05.402Z"
   },
   {
    "duration": 12,
    "start_time": "2022-05-18T12:58:05.409Z"
   },
   {
    "duration": 12,
    "start_time": "2022-05-18T12:58:05.423Z"
   },
   {
    "duration": 35,
    "start_time": "2022-05-18T12:58:05.437Z"
   },
   {
    "duration": 10,
    "start_time": "2022-05-18T12:58:05.477Z"
   },
   {
    "duration": 17,
    "start_time": "2022-05-18T12:58:05.489Z"
   },
   {
    "duration": 158,
    "start_time": "2022-05-18T12:58:05.508Z"
   },
   {
    "duration": 260,
    "start_time": "2022-05-18T12:58:05.667Z"
   },
   {
    "duration": 6,
    "start_time": "2022-05-18T12:58:05.929Z"
   },
   {
    "duration": 23,
    "start_time": "2022-05-18T12:58:05.937Z"
   },
   {
    "duration": 7,
    "start_time": "2022-05-18T12:58:05.965Z"
   },
   {
    "duration": 25,
    "start_time": "2022-05-18T12:58:05.974Z"
   },
   {
    "duration": 4,
    "start_time": "2022-05-18T12:58:06.001Z"
   },
   {
    "duration": 209,
    "start_time": "2022-05-18T12:58:06.007Z"
   },
   {
    "duration": 5,
    "start_time": "2022-05-18T12:58:06.218Z"
   },
   {
    "duration": 28,
    "start_time": "2022-05-18T12:58:06.224Z"
   },
   {
    "duration": 32,
    "start_time": "2022-05-18T12:58:06.254Z"
   },
   {
    "duration": 19,
    "start_time": "2022-05-18T12:58:06.288Z"
   },
   {
    "duration": 32,
    "start_time": "2022-05-18T12:58:06.308Z"
   },
   {
    "duration": 34,
    "start_time": "2022-05-18T12:58:06.341Z"
   },
   {
    "duration": 22,
    "start_time": "2022-05-18T12:58:06.378Z"
   },
   {
    "duration": 23,
    "start_time": "2022-05-18T12:58:06.402Z"
   },
   {
    "duration": 264,
    "start_time": "2022-05-18T12:58:06.426Z"
   },
   {
    "duration": 85,
    "start_time": "2022-05-18T12:58:06.691Z"
   },
   {
    "duration": 0,
    "start_time": "2022-05-18T12:58:06.779Z"
   },
   {
    "duration": 0,
    "start_time": "2022-05-18T12:58:06.780Z"
   },
   {
    "duration": 0,
    "start_time": "2022-05-18T12:58:06.781Z"
   },
   {
    "duration": 0,
    "start_time": "2022-05-18T12:58:06.783Z"
   },
   {
    "duration": 0,
    "start_time": "2022-05-18T12:58:06.783Z"
   },
   {
    "duration": 0,
    "start_time": "2022-05-18T12:58:06.785Z"
   },
   {
    "duration": 0,
    "start_time": "2022-05-18T12:58:06.786Z"
   },
   {
    "duration": 0,
    "start_time": "2022-05-18T12:58:06.787Z"
   },
   {
    "duration": 0,
    "start_time": "2022-05-18T12:58:06.788Z"
   },
   {
    "duration": 0,
    "start_time": "2022-05-18T12:58:06.789Z"
   },
   {
    "duration": 0,
    "start_time": "2022-05-18T12:58:06.790Z"
   },
   {
    "duration": 0,
    "start_time": "2022-05-18T12:58:06.790Z"
   },
   {
    "duration": 0,
    "start_time": "2022-05-18T12:58:06.791Z"
   },
   {
    "duration": 0,
    "start_time": "2022-05-18T12:58:06.792Z"
   },
   {
    "duration": 0,
    "start_time": "2022-05-18T12:58:06.793Z"
   },
   {
    "duration": 0,
    "start_time": "2022-05-18T12:58:06.794Z"
   },
   {
    "duration": 0,
    "start_time": "2022-05-18T12:58:06.795Z"
   },
   {
    "duration": 0,
    "start_time": "2022-05-18T12:58:06.796Z"
   },
   {
    "duration": 0,
    "start_time": "2022-05-18T12:58:06.797Z"
   },
   {
    "duration": 0,
    "start_time": "2022-05-18T12:58:06.799Z"
   },
   {
    "duration": 0,
    "start_time": "2022-05-18T12:58:06.800Z"
   },
   {
    "duration": 0,
    "start_time": "2022-05-18T12:58:06.801Z"
   },
   {
    "duration": 0,
    "start_time": "2022-05-18T12:58:06.802Z"
   },
   {
    "duration": 0,
    "start_time": "2022-05-18T12:58:06.803Z"
   },
   {
    "duration": 0,
    "start_time": "2022-05-18T12:58:06.804Z"
   },
   {
    "duration": 0,
    "start_time": "2022-05-18T12:58:06.805Z"
   },
   {
    "duration": 0,
    "start_time": "2022-05-18T12:58:06.806Z"
   },
   {
    "duration": 0,
    "start_time": "2022-05-18T12:58:06.807Z"
   },
   {
    "duration": 0,
    "start_time": "2022-05-18T12:58:06.808Z"
   },
   {
    "duration": 0,
    "start_time": "2022-05-18T12:58:06.809Z"
   },
   {
    "duration": 0,
    "start_time": "2022-05-18T12:58:06.859Z"
   },
   {
    "duration": 0,
    "start_time": "2022-05-18T12:58:06.860Z"
   },
   {
    "duration": 0,
    "start_time": "2022-05-18T12:58:06.861Z"
   },
   {
    "duration": 556,
    "start_time": "2022-05-18T12:59:48.667Z"
   },
   {
    "duration": 13,
    "start_time": "2022-05-18T12:59:49.225Z"
   },
   {
    "duration": 65,
    "start_time": "2022-05-18T12:59:49.240Z"
   },
   {
    "duration": 26,
    "start_time": "2022-05-18T12:59:49.307Z"
   },
   {
    "duration": 19,
    "start_time": "2022-05-18T12:59:49.335Z"
   },
   {
    "duration": 27,
    "start_time": "2022-05-18T12:59:49.357Z"
   },
   {
    "duration": 7,
    "start_time": "2022-05-18T12:59:49.386Z"
   },
   {
    "duration": 22,
    "start_time": "2022-05-18T12:59:49.394Z"
   },
   {
    "duration": 9,
    "start_time": "2022-05-18T12:59:49.418Z"
   },
   {
    "duration": 6,
    "start_time": "2022-05-18T12:59:49.429Z"
   },
   {
    "duration": 28,
    "start_time": "2022-05-18T12:59:49.436Z"
   },
   {
    "duration": 12,
    "start_time": "2022-05-18T12:59:49.465Z"
   },
   {
    "duration": 13,
    "start_time": "2022-05-18T12:59:49.479Z"
   },
   {
    "duration": 7,
    "start_time": "2022-05-18T12:59:49.493Z"
   },
   {
    "duration": 26,
    "start_time": "2022-05-18T12:59:49.502Z"
   },
   {
    "duration": 158,
    "start_time": "2022-05-18T12:59:49.530Z"
   },
   {
    "duration": 257,
    "start_time": "2022-05-18T12:59:49.690Z"
   },
   {
    "duration": 17,
    "start_time": "2022-05-18T12:59:49.949Z"
   },
   {
    "duration": 16,
    "start_time": "2022-05-18T12:59:49.971Z"
   },
   {
    "duration": 41,
    "start_time": "2022-05-18T12:59:49.988Z"
   },
   {
    "duration": 54,
    "start_time": "2022-05-18T12:59:50.030Z"
   },
   {
    "duration": 6,
    "start_time": "2022-05-18T12:59:50.086Z"
   },
   {
    "duration": 221,
    "start_time": "2022-05-18T12:59:50.094Z"
   },
   {
    "duration": 17,
    "start_time": "2022-05-18T12:59:50.316Z"
   },
   {
    "duration": 13,
    "start_time": "2022-05-18T12:59:50.335Z"
   },
   {
    "duration": 19,
    "start_time": "2022-05-18T12:59:50.349Z"
   },
   {
    "duration": 31,
    "start_time": "2022-05-18T12:59:50.369Z"
   },
   {
    "duration": 32,
    "start_time": "2022-05-18T12:59:50.404Z"
   },
   {
    "duration": 36,
    "start_time": "2022-05-18T12:59:50.437Z"
   },
   {
    "duration": 26,
    "start_time": "2022-05-18T12:59:50.478Z"
   },
   {
    "duration": 287,
    "start_time": "2022-05-18T12:59:50.506Z"
   },
   {
    "duration": 10,
    "start_time": "2022-05-18T12:59:50.795Z"
   },
   {
    "duration": 97,
    "start_time": "2022-05-18T12:59:50.807Z"
   },
   {
    "duration": 1,
    "start_time": "2022-05-18T12:59:50.905Z"
   },
   {
    "duration": 0,
    "start_time": "2022-05-18T12:59:50.907Z"
   },
   {
    "duration": 0,
    "start_time": "2022-05-18T12:59:50.908Z"
   },
   {
    "duration": 0,
    "start_time": "2022-05-18T12:59:50.909Z"
   },
   {
    "duration": 0,
    "start_time": "2022-05-18T12:59:50.910Z"
   },
   {
    "duration": 0,
    "start_time": "2022-05-18T12:59:50.911Z"
   },
   {
    "duration": 0,
    "start_time": "2022-05-18T12:59:50.913Z"
   },
   {
    "duration": 0,
    "start_time": "2022-05-18T12:59:50.914Z"
   },
   {
    "duration": 0,
    "start_time": "2022-05-18T12:59:50.915Z"
   },
   {
    "duration": 0,
    "start_time": "2022-05-18T12:59:50.916Z"
   },
   {
    "duration": 0,
    "start_time": "2022-05-18T12:59:50.917Z"
   },
   {
    "duration": 0,
    "start_time": "2022-05-18T12:59:50.917Z"
   },
   {
    "duration": 0,
    "start_time": "2022-05-18T12:59:50.919Z"
   },
   {
    "duration": 0,
    "start_time": "2022-05-18T12:59:50.920Z"
   },
   {
    "duration": 0,
    "start_time": "2022-05-18T12:59:50.921Z"
   },
   {
    "duration": 0,
    "start_time": "2022-05-18T12:59:50.922Z"
   },
   {
    "duration": 0,
    "start_time": "2022-05-18T12:59:50.923Z"
   },
   {
    "duration": 0,
    "start_time": "2022-05-18T12:59:50.924Z"
   },
   {
    "duration": 0,
    "start_time": "2022-05-18T12:59:50.925Z"
   },
   {
    "duration": 0,
    "start_time": "2022-05-18T12:59:50.926Z"
   },
   {
    "duration": 0,
    "start_time": "2022-05-18T12:59:50.958Z"
   },
   {
    "duration": 0,
    "start_time": "2022-05-18T12:59:50.959Z"
   },
   {
    "duration": 1,
    "start_time": "2022-05-18T12:59:50.962Z"
   },
   {
    "duration": 0,
    "start_time": "2022-05-18T12:59:50.963Z"
   },
   {
    "duration": 0,
    "start_time": "2022-05-18T12:59:50.964Z"
   },
   {
    "duration": 0,
    "start_time": "2022-05-18T12:59:50.964Z"
   },
   {
    "duration": 0,
    "start_time": "2022-05-18T12:59:50.965Z"
   },
   {
    "duration": 0,
    "start_time": "2022-05-18T12:59:50.966Z"
   },
   {
    "duration": 0,
    "start_time": "2022-05-18T12:59:50.967Z"
   },
   {
    "duration": 0,
    "start_time": "2022-05-18T12:59:50.968Z"
   },
   {
    "duration": 0,
    "start_time": "2022-05-18T12:59:50.968Z"
   },
   {
    "duration": 0,
    "start_time": "2022-05-18T12:59:50.969Z"
   },
   {
    "duration": 0,
    "start_time": "2022-05-18T12:59:50.970Z"
   },
   {
    "duration": 597,
    "start_time": "2022-05-18T13:06:36.645Z"
   },
   {
    "duration": 26,
    "start_time": "2022-05-18T13:06:37.244Z"
   },
   {
    "duration": 42,
    "start_time": "2022-05-18T13:06:37.272Z"
   },
   {
    "duration": 22,
    "start_time": "2022-05-18T13:06:37.316Z"
   },
   {
    "duration": 40,
    "start_time": "2022-05-18T13:06:37.341Z"
   },
   {
    "duration": 27,
    "start_time": "2022-05-18T13:06:37.383Z"
   },
   {
    "duration": 24,
    "start_time": "2022-05-18T13:06:37.412Z"
   },
   {
    "duration": 48,
    "start_time": "2022-05-18T13:06:37.438Z"
   },
   {
    "duration": 12,
    "start_time": "2022-05-18T13:06:37.488Z"
   },
   {
    "duration": 18,
    "start_time": "2022-05-18T13:06:37.503Z"
   },
   {
    "duration": 25,
    "start_time": "2022-05-18T13:06:37.524Z"
   },
   {
    "duration": 28,
    "start_time": "2022-05-18T13:06:37.550Z"
   },
   {
    "duration": 26,
    "start_time": "2022-05-18T13:06:37.580Z"
   },
   {
    "duration": 22,
    "start_time": "2022-05-18T13:06:37.608Z"
   },
   {
    "duration": 26,
    "start_time": "2022-05-18T13:06:37.631Z"
   },
   {
    "duration": 161,
    "start_time": "2022-05-18T13:06:37.663Z"
   },
   {
    "duration": 260,
    "start_time": "2022-05-18T13:06:37.826Z"
   },
   {
    "duration": 6,
    "start_time": "2022-05-18T13:06:38.088Z"
   },
   {
    "duration": 10,
    "start_time": "2022-05-18T13:06:38.095Z"
   },
   {
    "duration": 11,
    "start_time": "2022-05-18T13:06:38.106Z"
   },
   {
    "duration": 12,
    "start_time": "2022-05-18T13:06:38.119Z"
   },
   {
    "duration": 34,
    "start_time": "2022-05-18T13:06:38.133Z"
   },
   {
    "duration": 217,
    "start_time": "2022-05-18T13:06:38.170Z"
   },
   {
    "duration": 9,
    "start_time": "2022-05-18T13:06:38.389Z"
   },
   {
    "duration": 6,
    "start_time": "2022-05-18T13:06:38.399Z"
   },
   {
    "duration": 11,
    "start_time": "2022-05-18T13:06:38.407Z"
   },
   {
    "duration": 10,
    "start_time": "2022-05-18T13:06:38.420Z"
   },
   {
    "duration": 32,
    "start_time": "2022-05-18T13:06:38.434Z"
   },
   {
    "duration": 47,
    "start_time": "2022-05-18T13:06:38.475Z"
   },
   {
    "duration": 12,
    "start_time": "2022-05-18T13:06:38.524Z"
   },
   {
    "duration": 262,
    "start_time": "2022-05-18T13:06:38.537Z"
   },
   {
    "duration": 15,
    "start_time": "2022-05-18T13:06:38.801Z"
   },
   {
    "duration": 54,
    "start_time": "2022-05-18T13:06:38.819Z"
   },
   {
    "duration": 7,
    "start_time": "2022-05-18T13:06:38.875Z"
   },
   {
    "duration": 6,
    "start_time": "2022-05-18T13:06:38.883Z"
   },
   {
    "duration": 10,
    "start_time": "2022-05-18T13:06:38.891Z"
   },
   {
    "duration": 10,
    "start_time": "2022-05-18T13:06:38.903Z"
   },
   {
    "duration": 21,
    "start_time": "2022-05-18T13:06:38.915Z"
   },
   {
    "duration": 34,
    "start_time": "2022-05-18T13:06:38.959Z"
   },
   {
    "duration": 14,
    "start_time": "2022-05-18T13:06:38.995Z"
   },
   {
    "duration": 14,
    "start_time": "2022-05-18T13:06:39.010Z"
   },
   {
    "duration": 19,
    "start_time": "2022-05-18T13:06:39.025Z"
   },
   {
    "duration": 10,
    "start_time": "2022-05-18T13:06:39.045Z"
   },
   {
    "duration": 17,
    "start_time": "2022-05-18T13:06:39.058Z"
   },
   {
    "duration": 12,
    "start_time": "2022-05-18T13:06:39.076Z"
   },
   {
    "duration": 9,
    "start_time": "2022-05-18T13:06:39.090Z"
   },
   {
    "duration": 5,
    "start_time": "2022-05-18T13:06:39.101Z"
   },
   {
    "duration": 17,
    "start_time": "2022-05-18T13:06:39.107Z"
   },
   {
    "duration": 12,
    "start_time": "2022-05-18T13:06:39.126Z"
   },
   {
    "duration": 26,
    "start_time": "2022-05-18T13:06:39.140Z"
   },
   {
    "duration": 10,
    "start_time": "2022-05-18T13:06:39.167Z"
   },
   {
    "duration": 8,
    "start_time": "2022-05-18T13:06:39.178Z"
   },
   {
    "duration": 13,
    "start_time": "2022-05-18T13:06:39.188Z"
   },
   {
    "duration": 19,
    "start_time": "2022-05-18T13:06:39.202Z"
   },
   {
    "duration": 19,
    "start_time": "2022-05-18T13:06:39.223Z"
   },
   {
    "duration": 31,
    "start_time": "2022-05-18T13:06:39.245Z"
   },
   {
    "duration": 121,
    "start_time": "2022-05-18T13:06:54.825Z"
   },
   {
    "duration": 534,
    "start_time": "2022-05-18T13:11:19.447Z"
   },
   {
    "duration": 16,
    "start_time": "2022-05-18T13:11:19.983Z"
   },
   {
    "duration": 38,
    "start_time": "2022-05-18T13:11:20.001Z"
   },
   {
    "duration": 22,
    "start_time": "2022-05-18T13:11:20.042Z"
   },
   {
    "duration": 38,
    "start_time": "2022-05-18T13:11:20.067Z"
   },
   {
    "duration": 20,
    "start_time": "2022-05-18T13:11:20.106Z"
   },
   {
    "duration": 8,
    "start_time": "2022-05-18T13:11:20.128Z"
   },
   {
    "duration": 14,
    "start_time": "2022-05-18T13:11:20.138Z"
   },
   {
    "duration": 17,
    "start_time": "2022-05-18T13:11:20.154Z"
   },
   {
    "duration": 11,
    "start_time": "2022-05-18T13:11:20.175Z"
   },
   {
    "duration": 13,
    "start_time": "2022-05-18T13:11:20.188Z"
   },
   {
    "duration": 16,
    "start_time": "2022-05-18T13:11:20.203Z"
   },
   {
    "duration": 13,
    "start_time": "2022-05-18T13:11:20.221Z"
   },
   {
    "duration": 6,
    "start_time": "2022-05-18T13:11:20.238Z"
   },
   {
    "duration": 24,
    "start_time": "2022-05-18T13:11:20.245Z"
   },
   {
    "duration": 164,
    "start_time": "2022-05-18T13:11:20.271Z"
   },
   {
    "duration": 281,
    "start_time": "2022-05-18T13:11:20.437Z"
   },
   {
    "duration": 25,
    "start_time": "2022-05-18T13:11:20.719Z"
   },
   {
    "duration": 9,
    "start_time": "2022-05-18T13:11:20.745Z"
   },
   {
    "duration": 53,
    "start_time": "2022-05-18T13:11:20.763Z"
   },
   {
    "duration": 15,
    "start_time": "2022-05-18T13:11:20.818Z"
   },
   {
    "duration": 5,
    "start_time": "2022-05-18T13:11:20.835Z"
   },
   {
    "duration": 231,
    "start_time": "2022-05-18T13:11:20.842Z"
   },
   {
    "duration": 8,
    "start_time": "2022-05-18T13:11:21.080Z"
   },
   {
    "duration": 13,
    "start_time": "2022-05-18T13:11:21.089Z"
   },
   {
    "duration": 12,
    "start_time": "2022-05-18T13:11:21.103Z"
   },
   {
    "duration": 11,
    "start_time": "2022-05-18T13:11:21.116Z"
   },
   {
    "duration": 33,
    "start_time": "2022-05-18T13:11:21.129Z"
   },
   {
    "duration": 19,
    "start_time": "2022-05-18T13:11:21.167Z"
   },
   {
    "duration": 16,
    "start_time": "2022-05-18T13:11:21.188Z"
   },
   {
    "duration": 260,
    "start_time": "2022-05-18T13:11:21.206Z"
   },
   {
    "duration": 14,
    "start_time": "2022-05-18T13:11:21.469Z"
   },
   {
    "duration": 6,
    "start_time": "2022-05-18T13:11:21.485Z"
   },
   {
    "duration": 10,
    "start_time": "2022-05-18T13:11:21.493Z"
   },
   {
    "duration": 6,
    "start_time": "2022-05-18T13:11:21.505Z"
   },
   {
    "duration": 15,
    "start_time": "2022-05-18T13:11:21.513Z"
   },
   {
    "duration": 39,
    "start_time": "2022-05-18T13:11:21.530Z"
   },
   {
    "duration": 19,
    "start_time": "2022-05-18T13:11:21.576Z"
   },
   {
    "duration": 27,
    "start_time": "2022-05-18T13:11:21.596Z"
   },
   {
    "duration": 26,
    "start_time": "2022-05-18T13:11:21.624Z"
   },
   {
    "duration": 15,
    "start_time": "2022-05-18T13:11:21.654Z"
   },
   {
    "duration": 20,
    "start_time": "2022-05-18T13:11:21.671Z"
   },
   {
    "duration": 5,
    "start_time": "2022-05-18T13:11:21.693Z"
   },
   {
    "duration": 7,
    "start_time": "2022-05-18T13:11:21.700Z"
   },
   {
    "duration": 10,
    "start_time": "2022-05-18T13:11:21.708Z"
   },
   {
    "duration": 22,
    "start_time": "2022-05-18T13:11:21.721Z"
   },
   {
    "duration": 21,
    "start_time": "2022-05-18T13:11:21.745Z"
   },
   {
    "duration": 13,
    "start_time": "2022-05-18T13:11:21.773Z"
   },
   {
    "duration": 7,
    "start_time": "2022-05-18T13:11:21.788Z"
   },
   {
    "duration": 11,
    "start_time": "2022-05-18T13:11:21.797Z"
   },
   {
    "duration": 8,
    "start_time": "2022-05-18T13:11:21.810Z"
   },
   {
    "duration": 8,
    "start_time": "2022-05-18T13:11:21.819Z"
   },
   {
    "duration": 30,
    "start_time": "2022-05-18T13:11:21.829Z"
   },
   {
    "duration": 15,
    "start_time": "2022-05-18T13:11:21.863Z"
   },
   {
    "duration": 19,
    "start_time": "2022-05-18T13:11:21.879Z"
   },
   {
    "duration": 20,
    "start_time": "2022-05-18T13:11:21.900Z"
   },
   {
    "duration": 503,
    "start_time": "2022-05-18T13:12:55.923Z"
   },
   {
    "duration": 13,
    "start_time": "2022-05-18T13:12:56.428Z"
   },
   {
    "duration": 36,
    "start_time": "2022-05-18T13:12:56.443Z"
   },
   {
    "duration": 14,
    "start_time": "2022-05-18T13:12:56.481Z"
   },
   {
    "duration": 13,
    "start_time": "2022-05-18T13:12:56.496Z"
   },
   {
    "duration": 10,
    "start_time": "2022-05-18T13:12:56.511Z"
   },
   {
    "duration": 10,
    "start_time": "2022-05-18T13:12:56.524Z"
   },
   {
    "duration": 38,
    "start_time": "2022-05-18T13:12:56.536Z"
   },
   {
    "duration": 11,
    "start_time": "2022-05-18T13:12:56.577Z"
   },
   {
    "duration": 13,
    "start_time": "2022-05-18T13:12:56.592Z"
   },
   {
    "duration": 20,
    "start_time": "2022-05-18T13:12:56.607Z"
   },
   {
    "duration": 9,
    "start_time": "2022-05-18T13:12:56.629Z"
   },
   {
    "duration": 31,
    "start_time": "2022-05-18T13:12:56.641Z"
   },
   {
    "duration": 9,
    "start_time": "2022-05-18T13:12:56.675Z"
   },
   {
    "duration": 13,
    "start_time": "2022-05-18T13:12:56.686Z"
   },
   {
    "duration": 155,
    "start_time": "2022-05-18T13:12:56.702Z"
   },
   {
    "duration": 284,
    "start_time": "2022-05-18T13:12:56.865Z"
   },
   {
    "duration": 17,
    "start_time": "2022-05-18T13:12:57.151Z"
   },
   {
    "duration": 16,
    "start_time": "2022-05-18T13:12:57.174Z"
   },
   {
    "duration": 27,
    "start_time": "2022-05-18T13:12:57.192Z"
   },
   {
    "duration": 21,
    "start_time": "2022-05-18T13:12:57.221Z"
   },
   {
    "duration": 34,
    "start_time": "2022-05-18T13:12:57.244Z"
   },
   {
    "duration": 227,
    "start_time": "2022-05-18T13:12:57.279Z"
   },
   {
    "duration": 6,
    "start_time": "2022-05-18T13:12:57.508Z"
   },
   {
    "duration": 6,
    "start_time": "2022-05-18T13:12:57.515Z"
   },
   {
    "duration": 10,
    "start_time": "2022-05-18T13:12:57.524Z"
   },
   {
    "duration": 34,
    "start_time": "2022-05-18T13:12:57.536Z"
   },
   {
    "duration": 22,
    "start_time": "2022-05-18T13:12:57.574Z"
   },
   {
    "duration": 19,
    "start_time": "2022-05-18T13:12:57.598Z"
   },
   {
    "duration": 11,
    "start_time": "2022-05-18T13:12:57.619Z"
   },
   {
    "duration": 275,
    "start_time": "2022-05-18T13:12:57.632Z"
   },
   {
    "duration": 10,
    "start_time": "2022-05-18T13:12:57.909Z"
   },
   {
    "duration": 10,
    "start_time": "2022-05-18T13:12:57.920Z"
   },
   {
    "duration": 16,
    "start_time": "2022-05-18T13:12:57.931Z"
   },
   {
    "duration": 26,
    "start_time": "2022-05-18T13:12:57.949Z"
   },
   {
    "duration": 9,
    "start_time": "2022-05-18T13:12:57.976Z"
   },
   {
    "duration": 5,
    "start_time": "2022-05-18T13:12:57.986Z"
   },
   {
    "duration": 20,
    "start_time": "2022-05-18T13:12:57.993Z"
   },
   {
    "duration": 17,
    "start_time": "2022-05-18T13:12:58.015Z"
   },
   {
    "duration": 20,
    "start_time": "2022-05-18T13:12:58.034Z"
   },
   {
    "duration": 22,
    "start_time": "2022-05-18T13:12:58.056Z"
   },
   {
    "duration": 13,
    "start_time": "2022-05-18T13:12:58.079Z"
   },
   {
    "duration": 5,
    "start_time": "2022-05-18T13:12:58.093Z"
   },
   {
    "duration": 7,
    "start_time": "2022-05-18T13:12:58.099Z"
   },
   {
    "duration": 10,
    "start_time": "2022-05-18T13:12:58.108Z"
   },
   {
    "duration": 8,
    "start_time": "2022-05-18T13:12:58.119Z"
   },
   {
    "duration": 31,
    "start_time": "2022-05-18T13:12:58.128Z"
   },
   {
    "duration": 10,
    "start_time": "2022-05-18T13:12:58.165Z"
   },
   {
    "duration": 8,
    "start_time": "2022-05-18T13:12:58.177Z"
   },
   {
    "duration": 11,
    "start_time": "2022-05-18T13:12:58.187Z"
   },
   {
    "duration": 7,
    "start_time": "2022-05-18T13:12:58.199Z"
   },
   {
    "duration": 5,
    "start_time": "2022-05-18T13:12:58.208Z"
   },
   {
    "duration": 8,
    "start_time": "2022-05-18T13:12:58.214Z"
   },
   {
    "duration": 35,
    "start_time": "2022-05-18T13:12:58.224Z"
   },
   {
    "duration": 22,
    "start_time": "2022-05-18T13:12:58.261Z"
   },
   {
    "duration": 16,
    "start_time": "2022-05-18T13:12:58.285Z"
   },
   {
    "duration": 29,
    "start_time": "2022-05-18T13:12:58.303Z"
   },
   {
    "duration": 20,
    "start_time": "2022-05-18T13:13:27.699Z"
   },
   {
    "duration": 6,
    "start_time": "2022-05-18T13:19:31.372Z"
   },
   {
    "duration": 14,
    "start_time": "2022-05-18T13:22:21.115Z"
   },
   {
    "duration": 18,
    "start_time": "2022-05-18T13:24:08.973Z"
   },
   {
    "duration": 20,
    "start_time": "2022-05-18T13:24:53.791Z"
   },
   {
    "duration": 471,
    "start_time": "2022-05-18T13:27:34.710Z"
   },
   {
    "duration": 12,
    "start_time": "2022-05-18T13:27:35.183Z"
   },
   {
    "duration": 25,
    "start_time": "2022-05-18T13:27:35.197Z"
   },
   {
    "duration": 12,
    "start_time": "2022-05-18T13:27:35.223Z"
   },
   {
    "duration": 36,
    "start_time": "2022-05-18T13:27:35.236Z"
   },
   {
    "duration": 9,
    "start_time": "2022-05-18T13:27:35.274Z"
   },
   {
    "duration": 5,
    "start_time": "2022-05-18T13:27:35.285Z"
   },
   {
    "duration": 15,
    "start_time": "2022-05-18T13:27:35.292Z"
   },
   {
    "duration": 8,
    "start_time": "2022-05-18T13:27:35.309Z"
   },
   {
    "duration": 21,
    "start_time": "2022-05-18T13:27:35.319Z"
   },
   {
    "duration": 29,
    "start_time": "2022-05-18T13:27:35.342Z"
   },
   {
    "duration": 7,
    "start_time": "2022-05-18T13:27:35.375Z"
   },
   {
    "duration": 7,
    "start_time": "2022-05-18T13:27:35.384Z"
   },
   {
    "duration": 12,
    "start_time": "2022-05-18T13:27:35.392Z"
   },
   {
    "duration": 5,
    "start_time": "2022-05-18T13:27:35.405Z"
   },
   {
    "duration": 12,
    "start_time": "2022-05-18T13:27:35.411Z"
   },
   {
    "duration": 173,
    "start_time": "2022-05-18T13:27:35.425Z"
   },
   {
    "duration": 276,
    "start_time": "2022-05-18T13:27:35.600Z"
   },
   {
    "duration": 6,
    "start_time": "2022-05-18T13:27:35.878Z"
   },
   {
    "duration": 13,
    "start_time": "2022-05-18T13:27:35.885Z"
   },
   {
    "duration": 16,
    "start_time": "2022-05-18T13:27:35.900Z"
   },
   {
    "duration": 16,
    "start_time": "2022-05-18T13:27:35.918Z"
   },
   {
    "duration": 5,
    "start_time": "2022-05-18T13:27:35.936Z"
   },
   {
    "duration": 224,
    "start_time": "2022-05-18T13:27:35.943Z"
   },
   {
    "duration": 8,
    "start_time": "2022-05-18T13:27:36.169Z"
   },
   {
    "duration": 21,
    "start_time": "2022-05-18T13:27:36.179Z"
   },
   {
    "duration": 13,
    "start_time": "2022-05-18T13:27:36.202Z"
   },
   {
    "duration": 7,
    "start_time": "2022-05-18T13:27:36.219Z"
   },
   {
    "duration": 19,
    "start_time": "2022-05-18T13:27:36.227Z"
   },
   {
    "duration": 24,
    "start_time": "2022-05-18T13:27:36.248Z"
   },
   {
    "duration": 13,
    "start_time": "2022-05-18T13:27:36.274Z"
   },
   {
    "duration": 251,
    "start_time": "2022-05-18T13:27:36.288Z"
   },
   {
    "duration": 10,
    "start_time": "2022-05-18T13:27:36.541Z"
   },
   {
    "duration": 5,
    "start_time": "2022-05-18T13:27:36.558Z"
   },
   {
    "duration": 13,
    "start_time": "2022-05-18T13:27:36.564Z"
   },
   {
    "duration": 7,
    "start_time": "2022-05-18T13:27:36.579Z"
   },
   {
    "duration": 21,
    "start_time": "2022-05-18T13:27:36.587Z"
   },
   {
    "duration": 5,
    "start_time": "2022-05-18T13:27:36.610Z"
   },
   {
    "duration": 11,
    "start_time": "2022-05-18T13:27:36.616Z"
   },
   {
    "duration": 38,
    "start_time": "2022-05-18T13:27:36.629Z"
   },
   {
    "duration": 15,
    "start_time": "2022-05-18T13:27:36.669Z"
   },
   {
    "duration": 13,
    "start_time": "2022-05-18T13:27:36.686Z"
   },
   {
    "duration": 17,
    "start_time": "2022-05-18T13:27:36.701Z"
   },
   {
    "duration": 8,
    "start_time": "2022-05-18T13:27:36.720Z"
   },
   {
    "duration": 17,
    "start_time": "2022-05-18T13:27:36.730Z"
   },
   {
    "duration": 30,
    "start_time": "2022-05-18T13:27:36.749Z"
   },
   {
    "duration": 24,
    "start_time": "2022-05-18T13:27:36.780Z"
   },
   {
    "duration": 6,
    "start_time": "2022-05-18T13:27:36.806Z"
   },
   {
    "duration": 12,
    "start_time": "2022-05-18T13:27:36.814Z"
   },
   {
    "duration": 13,
    "start_time": "2022-05-18T13:27:36.827Z"
   },
   {
    "duration": 10,
    "start_time": "2022-05-18T13:27:36.842Z"
   },
   {
    "duration": 11,
    "start_time": "2022-05-18T13:27:36.854Z"
   },
   {
    "duration": 14,
    "start_time": "2022-05-18T13:27:36.867Z"
   },
   {
    "duration": 8,
    "start_time": "2022-05-18T13:27:36.883Z"
   },
   {
    "duration": 8,
    "start_time": "2022-05-18T13:27:36.893Z"
   },
   {
    "duration": 24,
    "start_time": "2022-05-18T13:27:36.903Z"
   },
   {
    "duration": 42,
    "start_time": "2022-05-18T13:27:36.929Z"
   },
   {
    "duration": 5,
    "start_time": "2022-05-18T13:27:36.976Z"
   },
   {
    "duration": 17,
    "start_time": "2022-05-18T13:27:36.983Z"
   },
   {
    "duration": 19,
    "start_time": "2022-05-18T13:27:37.002Z"
   },
   {
    "duration": 523,
    "start_time": "2022-05-18T13:36:42.198Z"
   },
   {
    "duration": 18,
    "start_time": "2022-05-18T13:36:42.722Z"
   },
   {
    "duration": 65,
    "start_time": "2022-05-18T13:36:42.742Z"
   },
   {
    "duration": 9,
    "start_time": "2022-05-18T13:36:42.809Z"
   },
   {
    "duration": 10,
    "start_time": "2022-05-18T13:36:42.820Z"
   },
   {
    "duration": 10,
    "start_time": "2022-05-18T13:36:42.832Z"
   },
   {
    "duration": 6,
    "start_time": "2022-05-18T13:36:42.843Z"
   },
   {
    "duration": 18,
    "start_time": "2022-05-18T13:36:42.851Z"
   },
   {
    "duration": 28,
    "start_time": "2022-05-18T13:36:42.871Z"
   },
   {
    "duration": 7,
    "start_time": "2022-05-18T13:36:42.901Z"
   },
   {
    "duration": 13,
    "start_time": "2022-05-18T13:36:42.909Z"
   },
   {
    "duration": 18,
    "start_time": "2022-05-18T13:36:42.924Z"
   },
   {
    "duration": 38,
    "start_time": "2022-05-18T13:36:42.944Z"
   },
   {
    "duration": 18,
    "start_time": "2022-05-18T13:36:42.985Z"
   },
   {
    "duration": 32,
    "start_time": "2022-05-18T13:36:43.005Z"
   },
   {
    "duration": 18,
    "start_time": "2022-05-18T13:36:43.040Z"
   },
   {
    "duration": 170,
    "start_time": "2022-05-18T13:36:43.062Z"
   },
   {
    "duration": 283,
    "start_time": "2022-05-18T13:36:43.234Z"
   },
   {
    "duration": 6,
    "start_time": "2022-05-18T13:36:43.518Z"
   },
   {
    "duration": 9,
    "start_time": "2022-05-18T13:36:43.525Z"
   },
   {
    "duration": 8,
    "start_time": "2022-05-18T13:36:43.535Z"
   },
   {
    "duration": 25,
    "start_time": "2022-05-18T13:36:43.545Z"
   },
   {
    "duration": 5,
    "start_time": "2022-05-18T13:36:43.571Z"
   },
   {
    "duration": 228,
    "start_time": "2022-05-18T13:36:43.579Z"
   },
   {
    "duration": 5,
    "start_time": "2022-05-18T13:36:43.809Z"
   },
   {
    "duration": 6,
    "start_time": "2022-05-18T13:36:43.816Z"
   },
   {
    "duration": 6,
    "start_time": "2022-05-18T13:36:43.823Z"
   },
   {
    "duration": 5,
    "start_time": "2022-05-18T13:36:43.832Z"
   },
   {
    "duration": 17,
    "start_time": "2022-05-18T13:36:43.859Z"
   },
   {
    "duration": 29,
    "start_time": "2022-05-18T13:36:43.878Z"
   },
   {
    "duration": 14,
    "start_time": "2022-05-18T13:36:43.909Z"
   },
   {
    "duration": 286,
    "start_time": "2022-05-18T13:36:43.924Z"
   },
   {
    "duration": 10,
    "start_time": "2022-05-18T13:36:44.212Z"
   },
   {
    "duration": 4,
    "start_time": "2022-05-18T13:36:44.223Z"
   },
   {
    "duration": 11,
    "start_time": "2022-05-18T13:36:44.229Z"
   },
   {
    "duration": 25,
    "start_time": "2022-05-18T13:36:44.241Z"
   },
   {
    "duration": 34,
    "start_time": "2022-05-18T13:36:44.268Z"
   },
   {
    "duration": 5,
    "start_time": "2022-05-18T13:36:44.304Z"
   },
   {
    "duration": 14,
    "start_time": "2022-05-18T13:36:44.311Z"
   },
   {
    "duration": 19,
    "start_time": "2022-05-18T13:36:44.327Z"
   },
   {
    "duration": 32,
    "start_time": "2022-05-18T13:36:44.347Z"
   },
   {
    "duration": 21,
    "start_time": "2022-05-18T13:36:44.381Z"
   },
   {
    "duration": 11,
    "start_time": "2022-05-18T13:36:44.403Z"
   },
   {
    "duration": 8,
    "start_time": "2022-05-18T13:36:44.416Z"
   },
   {
    "duration": 8,
    "start_time": "2022-05-18T13:36:44.426Z"
   },
   {
    "duration": 25,
    "start_time": "2022-05-18T13:36:44.436Z"
   },
   {
    "duration": 10,
    "start_time": "2022-05-18T13:36:44.464Z"
   },
   {
    "duration": 22,
    "start_time": "2022-05-18T13:36:44.476Z"
   },
   {
    "duration": 14,
    "start_time": "2022-05-18T13:36:44.500Z"
   },
   {
    "duration": 6,
    "start_time": "2022-05-18T13:36:44.516Z"
   },
   {
    "duration": 14,
    "start_time": "2022-05-18T13:36:44.523Z"
   },
   {
    "duration": 10,
    "start_time": "2022-05-18T13:36:44.539Z"
   },
   {
    "duration": 7,
    "start_time": "2022-05-18T13:36:44.551Z"
   },
   {
    "duration": 32,
    "start_time": "2022-05-18T13:36:44.560Z"
   },
   {
    "duration": 6,
    "start_time": "2022-05-18T13:36:44.595Z"
   },
   {
    "duration": 18,
    "start_time": "2022-05-18T13:36:44.603Z"
   },
   {
    "duration": 15,
    "start_time": "2022-05-18T13:36:44.623Z"
   },
   {
    "duration": 4,
    "start_time": "2022-05-18T13:36:44.640Z"
   },
   {
    "duration": 42,
    "start_time": "2022-05-18T13:36:44.646Z"
   },
   {
    "duration": 20,
    "start_time": "2022-05-18T13:36:44.689Z"
   },
   {
    "duration": 6,
    "start_time": "2022-05-18T13:38:10.515Z"
   },
   {
    "duration": 16,
    "start_time": "2022-05-18T13:38:16.105Z"
   },
   {
    "duration": 20,
    "start_time": "2022-05-18T13:38:19.104Z"
   },
   {
    "duration": 21,
    "start_time": "2022-05-18T13:58:06.591Z"
   },
   {
    "duration": 17,
    "start_time": "2022-05-18T14:09:01.992Z"
   },
   {
    "duration": 75,
    "start_time": "2022-05-18T14:09:58.361Z"
   },
   {
    "duration": 12,
    "start_time": "2022-05-18T14:10:34.878Z"
   },
   {
    "duration": 11,
    "start_time": "2022-05-18T14:13:51.291Z"
   },
   {
    "duration": 14,
    "start_time": "2022-05-18T14:14:45.992Z"
   },
   {
    "duration": 16,
    "start_time": "2022-05-18T14:15:02.617Z"
   },
   {
    "duration": 519,
    "start_time": "2022-05-18T14:15:29.387Z"
   },
   {
    "duration": 15,
    "start_time": "2022-05-18T14:15:29.908Z"
   },
   {
    "duration": 21,
    "start_time": "2022-05-18T14:15:29.925Z"
   },
   {
    "duration": 10,
    "start_time": "2022-05-18T14:15:29.959Z"
   },
   {
    "duration": 14,
    "start_time": "2022-05-18T14:15:29.971Z"
   },
   {
    "duration": 9,
    "start_time": "2022-05-18T14:15:29.987Z"
   },
   {
    "duration": 6,
    "start_time": "2022-05-18T14:15:29.998Z"
   },
   {
    "duration": 41,
    "start_time": "2022-05-18T14:15:30.006Z"
   },
   {
    "duration": 18,
    "start_time": "2022-05-18T14:15:30.049Z"
   },
   {
    "duration": 6,
    "start_time": "2022-05-18T14:15:30.071Z"
   },
   {
    "duration": 11,
    "start_time": "2022-05-18T14:15:30.079Z"
   },
   {
    "duration": 9,
    "start_time": "2022-05-18T14:15:30.091Z"
   },
   {
    "duration": 7,
    "start_time": "2022-05-18T14:15:30.102Z"
   },
   {
    "duration": 5,
    "start_time": "2022-05-18T14:15:30.111Z"
   },
   {
    "duration": 56,
    "start_time": "2022-05-18T14:15:30.118Z"
   },
   {
    "duration": 11,
    "start_time": "2022-05-18T14:15:30.176Z"
   },
   {
    "duration": 154,
    "start_time": "2022-05-18T14:15:30.188Z"
   },
   {
    "duration": 244,
    "start_time": "2022-05-18T14:15:30.344Z"
   },
   {
    "duration": 7,
    "start_time": "2022-05-18T14:15:30.590Z"
   },
   {
    "duration": 19,
    "start_time": "2022-05-18T14:15:30.599Z"
   },
   {
    "duration": 14,
    "start_time": "2022-05-18T14:15:30.620Z"
   },
   {
    "duration": 25,
    "start_time": "2022-05-18T14:15:30.636Z"
   },
   {
    "duration": 9,
    "start_time": "2022-05-18T14:15:30.663Z"
   },
   {
    "duration": 227,
    "start_time": "2022-05-18T14:15:30.673Z"
   },
   {
    "duration": 7,
    "start_time": "2022-05-18T14:15:30.901Z"
   },
   {
    "duration": 12,
    "start_time": "2022-05-18T14:15:30.910Z"
   },
   {
    "duration": 31,
    "start_time": "2022-05-18T14:15:30.923Z"
   },
   {
    "duration": 13,
    "start_time": "2022-05-18T14:15:30.958Z"
   },
   {
    "duration": 42,
    "start_time": "2022-05-18T14:15:30.973Z"
   },
   {
    "duration": 12,
    "start_time": "2022-05-18T14:15:31.017Z"
   },
   {
    "duration": 42,
    "start_time": "2022-05-18T14:15:31.031Z"
   },
   {
    "duration": 247,
    "start_time": "2022-05-18T14:15:31.075Z"
   },
   {
    "duration": 10,
    "start_time": "2022-05-18T14:15:31.324Z"
   },
   {
    "duration": 22,
    "start_time": "2022-05-18T14:15:31.335Z"
   },
   {
    "duration": 42,
    "start_time": "2022-05-18T14:15:31.359Z"
   },
   {
    "duration": 11,
    "start_time": "2022-05-18T14:15:31.403Z"
   },
   {
    "duration": 20,
    "start_time": "2022-05-18T14:15:31.416Z"
   },
   {
    "duration": 11,
    "start_time": "2022-05-18T14:15:31.437Z"
   },
   {
    "duration": 18,
    "start_time": "2022-05-18T14:15:31.450Z"
   },
   {
    "duration": 31,
    "start_time": "2022-05-18T14:15:31.470Z"
   },
   {
    "duration": 41,
    "start_time": "2022-05-18T14:15:31.503Z"
   },
   {
    "duration": 20,
    "start_time": "2022-05-18T14:15:31.546Z"
   },
   {
    "duration": 16,
    "start_time": "2022-05-18T14:15:31.568Z"
   },
   {
    "duration": 24,
    "start_time": "2022-05-18T14:15:31.586Z"
   },
   {
    "duration": 23,
    "start_time": "2022-05-18T14:15:31.612Z"
   },
   {
    "duration": 29,
    "start_time": "2022-05-18T14:15:31.637Z"
   },
   {
    "duration": 11,
    "start_time": "2022-05-18T14:15:31.668Z"
   },
   {
    "duration": 5,
    "start_time": "2022-05-18T14:15:31.681Z"
   },
   {
    "duration": 13,
    "start_time": "2022-05-18T14:15:31.687Z"
   },
   {
    "duration": 8,
    "start_time": "2022-05-18T14:15:31.701Z"
   },
   {
    "duration": 11,
    "start_time": "2022-05-18T14:15:31.710Z"
   },
   {
    "duration": 7,
    "start_time": "2022-05-18T14:15:31.723Z"
   },
   {
    "duration": 31,
    "start_time": "2022-05-18T14:15:31.732Z"
   },
   {
    "duration": 9,
    "start_time": "2022-05-18T14:15:31.765Z"
   },
   {
    "duration": 7,
    "start_time": "2022-05-18T14:15:31.776Z"
   },
   {
    "duration": 23,
    "start_time": "2022-05-18T14:15:31.785Z"
   },
   {
    "duration": 19,
    "start_time": "2022-05-18T14:15:31.810Z"
   },
   {
    "duration": 6,
    "start_time": "2022-05-18T14:15:31.859Z"
   },
   {
    "duration": 43,
    "start_time": "2022-05-18T14:15:31.867Z"
   },
   {
    "duration": 29,
    "start_time": "2022-05-18T14:15:31.912Z"
   },
   {
    "duration": 13,
    "start_time": "2022-05-18T14:15:31.942Z"
   },
   {
    "duration": 14,
    "start_time": "2022-05-18T14:15:31.957Z"
   },
   {
    "duration": 14,
    "start_time": "2022-05-18T14:15:31.973Z"
   },
   {
    "duration": 191,
    "start_time": "2022-05-18T14:25:24.165Z"
   },
   {
    "duration": 12,
    "start_time": "2022-05-18T14:25:57.985Z"
   },
   {
    "duration": 21,
    "start_time": "2022-05-18T14:27:31.125Z"
   },
   {
    "duration": 6,
    "start_time": "2022-05-18T14:30:44.074Z"
   },
   {
    "duration": 8,
    "start_time": "2022-05-18T14:34:44.111Z"
   },
   {
    "duration": 3,
    "start_time": "2022-05-18T14:43:40.861Z"
   },
   {
    "duration": 19,
    "start_time": "2022-05-18T14:47:31.742Z"
   },
   {
    "duration": 7,
    "start_time": "2022-05-18T15:06:59.149Z"
   },
   {
    "duration": 21,
    "start_time": "2022-05-18T15:07:58.576Z"
   },
   {
    "duration": 17,
    "start_time": "2022-05-18T15:08:33.896Z"
   },
   {
    "duration": 15,
    "start_time": "2022-05-18T15:08:50.246Z"
   },
   {
    "duration": 7,
    "start_time": "2022-05-18T15:10:35.096Z"
   },
   {
    "duration": 7,
    "start_time": "2022-05-18T15:10:45.088Z"
   },
   {
    "duration": 8,
    "start_time": "2022-05-18T15:11:04.200Z"
   },
   {
    "duration": 7,
    "start_time": "2022-05-18T15:11:13.156Z"
   },
   {
    "duration": 9,
    "start_time": "2022-05-18T15:12:14.716Z"
   },
   {
    "duration": 6,
    "start_time": "2022-05-18T15:17:00.845Z"
   },
   {
    "duration": 6,
    "start_time": "2022-05-18T15:20:08.016Z"
   },
   {
    "duration": 11,
    "start_time": "2022-05-18T15:20:34.685Z"
   },
   {
    "duration": 6,
    "start_time": "2022-05-18T15:20:46.315Z"
   },
   {
    "duration": 6,
    "start_time": "2022-05-18T15:22:33.548Z"
   },
   {
    "duration": 7,
    "start_time": "2022-05-18T15:22:33.832Z"
   },
   {
    "duration": 7,
    "start_time": "2022-05-18T15:24:39.868Z"
   },
   {
    "duration": 7,
    "start_time": "2022-05-18T15:24:41.303Z"
   },
   {
    "duration": 6,
    "start_time": "2022-05-18T15:27:42.023Z"
   },
   {
    "duration": 7,
    "start_time": "2022-05-18T15:31:53.802Z"
   },
   {
    "duration": 7,
    "start_time": "2022-05-18T15:32:09.961Z"
   },
   {
    "duration": 15,
    "start_time": "2022-05-18T15:32:27.607Z"
   },
   {
    "duration": 18,
    "start_time": "2022-05-18T15:34:42.201Z"
   },
   {
    "duration": 17,
    "start_time": "2022-05-18T15:35:05.016Z"
   },
   {
    "duration": 17,
    "start_time": "2022-05-18T15:36:31.456Z"
   },
   {
    "duration": 19,
    "start_time": "2022-05-18T15:38:44.381Z"
   },
   {
    "duration": 20,
    "start_time": "2022-05-18T15:38:49.799Z"
   },
   {
    "duration": 18,
    "start_time": "2022-05-18T15:38:58.920Z"
   },
   {
    "duration": 22,
    "start_time": "2022-05-18T15:39:11.093Z"
   },
   {
    "duration": 27,
    "start_time": "2022-05-18T15:41:30.971Z"
   },
   {
    "duration": 18,
    "start_time": "2022-05-18T15:53:05.643Z"
   },
   {
    "duration": 27,
    "start_time": "2022-05-18T16:04:52.825Z"
   },
   {
    "duration": 19,
    "start_time": "2022-05-18T16:20:13.829Z"
   },
   {
    "duration": 549,
    "start_time": "2022-05-18T16:29:19.339Z"
   },
   {
    "duration": 13,
    "start_time": "2022-05-18T16:29:19.890Z"
   },
   {
    "duration": 24,
    "start_time": "2022-05-18T16:29:19.905Z"
   },
   {
    "duration": 33,
    "start_time": "2022-05-18T16:29:19.931Z"
   },
   {
    "duration": 14,
    "start_time": "2022-05-18T16:29:19.967Z"
   },
   {
    "duration": 11,
    "start_time": "2022-05-18T16:29:19.982Z"
   },
   {
    "duration": 6,
    "start_time": "2022-05-18T16:29:19.995Z"
   },
   {
    "duration": 24,
    "start_time": "2022-05-18T16:29:20.003Z"
   },
   {
    "duration": 40,
    "start_time": "2022-05-18T16:29:20.028Z"
   },
   {
    "duration": 40,
    "start_time": "2022-05-18T16:29:20.071Z"
   },
   {
    "duration": 24,
    "start_time": "2022-05-18T16:29:20.112Z"
   },
   {
    "duration": 8,
    "start_time": "2022-05-18T16:29:20.138Z"
   },
   {
    "duration": 10,
    "start_time": "2022-05-18T16:29:20.147Z"
   },
   {
    "duration": 7,
    "start_time": "2022-05-18T16:29:20.159Z"
   },
   {
    "duration": 29,
    "start_time": "2022-05-18T16:29:20.169Z"
   },
   {
    "duration": 11,
    "start_time": "2022-05-18T16:29:20.199Z"
   },
   {
    "duration": 151,
    "start_time": "2022-05-18T16:29:20.212Z"
   },
   {
    "duration": 267,
    "start_time": "2022-05-18T16:29:20.365Z"
   },
   {
    "duration": 5,
    "start_time": "2022-05-18T16:29:20.634Z"
   },
   {
    "duration": 18,
    "start_time": "2022-05-18T16:29:20.641Z"
   },
   {
    "duration": 9,
    "start_time": "2022-05-18T16:29:20.661Z"
   },
   {
    "duration": 23,
    "start_time": "2022-05-18T16:29:20.672Z"
   },
   {
    "duration": 3,
    "start_time": "2022-05-18T16:29:20.697Z"
   },
   {
    "duration": 226,
    "start_time": "2022-05-18T16:29:20.702Z"
   },
   {
    "duration": 6,
    "start_time": "2022-05-18T16:29:20.930Z"
   },
   {
    "duration": 22,
    "start_time": "2022-05-18T16:29:20.938Z"
   },
   {
    "duration": 9,
    "start_time": "2022-05-18T16:29:20.962Z"
   },
   {
    "duration": 14,
    "start_time": "2022-05-18T16:29:20.976Z"
   },
   {
    "duration": 18,
    "start_time": "2022-05-18T16:29:20.992Z"
   },
   {
    "duration": 12,
    "start_time": "2022-05-18T16:29:21.012Z"
   },
   {
    "duration": 36,
    "start_time": "2022-05-18T16:29:21.026Z"
   },
   {
    "duration": 272,
    "start_time": "2022-05-18T16:29:21.064Z"
   },
   {
    "duration": 10,
    "start_time": "2022-05-18T16:29:21.338Z"
   },
   {
    "duration": 14,
    "start_time": "2022-05-18T16:29:21.349Z"
   },
   {
    "duration": 21,
    "start_time": "2022-05-18T16:29:21.365Z"
   },
   {
    "duration": 5,
    "start_time": "2022-05-18T16:29:21.388Z"
   },
   {
    "duration": 7,
    "start_time": "2022-05-18T16:29:21.395Z"
   },
   {
    "duration": 7,
    "start_time": "2022-05-18T16:29:21.404Z"
   },
   {
    "duration": 11,
    "start_time": "2022-05-18T16:29:21.413Z"
   },
   {
    "duration": 35,
    "start_time": "2022-05-18T16:29:21.425Z"
   },
   {
    "duration": 31,
    "start_time": "2022-05-18T16:29:21.463Z"
   },
   {
    "duration": 12,
    "start_time": "2022-05-18T16:29:21.496Z"
   },
   {
    "duration": 11,
    "start_time": "2022-05-18T16:29:21.510Z"
   },
   {
    "duration": 7,
    "start_time": "2022-05-18T16:29:21.522Z"
   },
   {
    "duration": 7,
    "start_time": "2022-05-18T16:29:21.531Z"
   },
   {
    "duration": 26,
    "start_time": "2022-05-18T16:29:21.540Z"
   },
   {
    "duration": 10,
    "start_time": "2022-05-18T16:29:21.568Z"
   },
   {
    "duration": 10,
    "start_time": "2022-05-18T16:29:21.580Z"
   },
   {
    "duration": 10,
    "start_time": "2022-05-18T16:29:21.591Z"
   },
   {
    "duration": 6,
    "start_time": "2022-05-18T16:29:21.602Z"
   },
   {
    "duration": 13,
    "start_time": "2022-05-18T16:29:21.609Z"
   },
   {
    "duration": 19,
    "start_time": "2022-05-18T16:29:21.623Z"
   },
   {
    "duration": 37,
    "start_time": "2022-05-18T16:29:21.643Z"
   },
   {
    "duration": 32,
    "start_time": "2022-05-18T16:29:21.681Z"
   },
   {
    "duration": 10,
    "start_time": "2022-05-18T16:29:21.715Z"
   },
   {
    "duration": 53,
    "start_time": "2022-05-18T16:29:21.726Z"
   },
   {
    "duration": 33,
    "start_time": "2022-05-18T16:29:21.781Z"
   },
   {
    "duration": 18,
    "start_time": "2022-05-18T16:29:21.816Z"
   },
   {
    "duration": 49,
    "start_time": "2022-05-18T16:29:21.836Z"
   },
   {
    "duration": 30,
    "start_time": "2022-05-18T16:29:21.886Z"
   },
   {
    "duration": 31,
    "start_time": "2022-05-18T16:29:21.918Z"
   },
   {
    "duration": 25,
    "start_time": "2022-05-18T16:29:21.950Z"
   },
   {
    "duration": 26,
    "start_time": "2022-05-18T16:29:21.977Z"
   },
   {
    "duration": 38,
    "start_time": "2022-05-18T16:29:22.005Z"
   },
   {
    "duration": 16,
    "start_time": "2022-05-18T16:29:22.044Z"
   },
   {
    "duration": 46,
    "start_time": "2022-05-18T16:29:22.062Z"
   },
   {
    "duration": 21,
    "start_time": "2022-05-18T16:29:22.110Z"
   },
   {
    "duration": 46,
    "start_time": "2022-05-18T16:29:22.133Z"
   },
   {
    "duration": 20,
    "start_time": "2022-05-18T16:29:22.181Z"
   },
   {
    "duration": 34,
    "start_time": "2022-05-18T16:29:22.203Z"
   },
   {
    "duration": 39,
    "start_time": "2022-05-18T16:29:22.239Z"
   },
   {
    "duration": 39,
    "start_time": "2022-05-18T16:29:22.280Z"
   },
   {
    "duration": 20,
    "start_time": "2022-05-18T16:29:22.321Z"
   },
   {
    "duration": 553,
    "start_time": "2022-05-18T16:30:34.276Z"
   },
   {
    "duration": 13,
    "start_time": "2022-05-18T16:30:34.832Z"
   },
   {
    "duration": 61,
    "start_time": "2022-05-18T16:30:34.847Z"
   },
   {
    "duration": 19,
    "start_time": "2022-05-18T16:30:34.909Z"
   },
   {
    "duration": 35,
    "start_time": "2022-05-18T16:30:34.930Z"
   },
   {
    "duration": 42,
    "start_time": "2022-05-18T16:30:34.967Z"
   },
   {
    "duration": 14,
    "start_time": "2022-05-18T16:30:35.011Z"
   },
   {
    "duration": 19,
    "start_time": "2022-05-18T16:30:35.027Z"
   },
   {
    "duration": 25,
    "start_time": "2022-05-18T16:30:35.048Z"
   },
   {
    "duration": 33,
    "start_time": "2022-05-18T16:30:35.075Z"
   },
   {
    "duration": 23,
    "start_time": "2022-05-18T16:30:35.110Z"
   },
   {
    "duration": 63,
    "start_time": "2022-05-18T16:30:35.134Z"
   },
   {
    "duration": 21,
    "start_time": "2022-05-18T16:30:35.199Z"
   },
   {
    "duration": 19,
    "start_time": "2022-05-18T16:30:35.223Z"
   },
   {
    "duration": 59,
    "start_time": "2022-05-18T16:30:35.244Z"
   },
   {
    "duration": 30,
    "start_time": "2022-05-18T16:30:35.304Z"
   },
   {
    "duration": 190,
    "start_time": "2022-05-18T16:30:35.336Z"
   },
   {
    "duration": 294,
    "start_time": "2022-05-18T16:30:35.527Z"
   },
   {
    "duration": 7,
    "start_time": "2022-05-18T16:30:35.824Z"
   },
   {
    "duration": 28,
    "start_time": "2022-05-18T16:30:35.832Z"
   },
   {
    "duration": 54,
    "start_time": "2022-05-18T16:30:35.862Z"
   },
   {
    "duration": 91,
    "start_time": "2022-05-18T16:30:35.917Z"
   },
   {
    "duration": 26,
    "start_time": "2022-05-18T16:30:36.010Z"
   },
   {
    "duration": 452,
    "start_time": "2022-05-18T16:30:36.038Z"
   },
   {
    "duration": 7,
    "start_time": "2022-05-18T16:30:36.495Z"
   },
   {
    "duration": 9,
    "start_time": "2022-05-18T16:30:36.504Z"
   },
   {
    "duration": 7,
    "start_time": "2022-05-18T16:30:36.559Z"
   },
   {
    "duration": 34,
    "start_time": "2022-05-18T16:30:36.569Z"
   },
   {
    "duration": 55,
    "start_time": "2022-05-18T16:30:36.605Z"
   },
   {
    "duration": 17,
    "start_time": "2022-05-18T16:30:36.661Z"
   },
   {
    "duration": 34,
    "start_time": "2022-05-18T16:30:36.680Z"
   },
   {
    "duration": 694,
    "start_time": "2022-05-18T16:30:36.716Z"
   },
   {
    "duration": 68,
    "start_time": "2022-05-18T16:30:37.412Z"
   },
   {
    "duration": 21,
    "start_time": "2022-05-18T16:30:37.485Z"
   },
   {
    "duration": 59,
    "start_time": "2022-05-18T16:30:37.509Z"
   },
   {
    "duration": 47,
    "start_time": "2022-05-18T16:30:37.570Z"
   },
   {
    "duration": 12,
    "start_time": "2022-05-18T16:30:37.619Z"
   },
   {
    "duration": 31,
    "start_time": "2022-05-18T16:30:37.668Z"
   },
   {
    "duration": 18,
    "start_time": "2022-05-18T16:30:37.701Z"
   },
   {
    "duration": 55,
    "start_time": "2022-05-18T16:30:37.721Z"
   },
   {
    "duration": 22,
    "start_time": "2022-05-18T16:30:37.788Z"
   },
   {
    "duration": 61,
    "start_time": "2022-05-18T16:30:37.811Z"
   },
   {
    "duration": 21,
    "start_time": "2022-05-18T16:30:37.874Z"
   },
   {
    "duration": 7,
    "start_time": "2022-05-18T16:30:37.898Z"
   },
   {
    "duration": 53,
    "start_time": "2022-05-18T16:30:37.907Z"
   },
   {
    "duration": 34,
    "start_time": "2022-05-18T16:30:37.962Z"
   },
   {
    "duration": 10,
    "start_time": "2022-05-18T16:30:37.998Z"
   },
   {
    "duration": 6,
    "start_time": "2022-05-18T16:30:38.010Z"
   },
   {
    "duration": 42,
    "start_time": "2022-05-18T16:30:38.060Z"
   },
   {
    "duration": 9,
    "start_time": "2022-05-18T16:30:38.103Z"
   },
   {
    "duration": 11,
    "start_time": "2022-05-18T16:30:38.113Z"
   },
   {
    "duration": 10,
    "start_time": "2022-05-18T16:30:38.160Z"
   },
   {
    "duration": 35,
    "start_time": "2022-05-18T16:30:38.171Z"
   },
   {
    "duration": 12,
    "start_time": "2022-05-18T16:30:38.208Z"
   },
   {
    "duration": 39,
    "start_time": "2022-05-18T16:30:38.221Z"
   },
   {
    "duration": 22,
    "start_time": "2022-05-18T16:30:38.261Z"
   },
   {
    "duration": 28,
    "start_time": "2022-05-18T16:30:38.284Z"
   },
   {
    "duration": 45,
    "start_time": "2022-05-18T16:30:38.314Z"
   },
   {
    "duration": 39,
    "start_time": "2022-05-18T16:30:38.361Z"
   },
   {
    "duration": 71,
    "start_time": "2022-05-18T16:30:38.402Z"
   },
   {
    "duration": 24,
    "start_time": "2022-05-18T16:30:38.475Z"
   },
   {
    "duration": 62,
    "start_time": "2022-05-18T16:30:38.501Z"
   },
   {
    "duration": 23,
    "start_time": "2022-05-18T16:30:38.565Z"
   },
   {
    "duration": 26,
    "start_time": "2022-05-18T16:30:38.590Z"
   },
   {
    "duration": 8,
    "start_time": "2022-05-18T16:30:38.618Z"
   },
   {
    "duration": 49,
    "start_time": "2022-05-18T16:30:38.628Z"
   },
   {
    "duration": 8,
    "start_time": "2022-05-18T16:30:38.679Z"
   },
   {
    "duration": 28,
    "start_time": "2022-05-18T16:30:38.689Z"
   },
   {
    "duration": 6,
    "start_time": "2022-05-18T16:30:38.719Z"
   },
   {
    "duration": 12,
    "start_time": "2022-05-18T16:30:38.726Z"
   },
   {
    "duration": 56,
    "start_time": "2022-05-18T16:30:38.741Z"
   },
   {
    "duration": 22,
    "start_time": "2022-05-18T16:30:38.800Z"
   },
   {
    "duration": 44,
    "start_time": "2022-05-18T16:30:38.823Z"
   },
   {
    "duration": 8,
    "start_time": "2022-05-18T16:34:48.979Z"
   },
   {
    "duration": 98,
    "start_time": "2022-05-18T16:39:40.827Z"
   },
   {
    "duration": 12,
    "start_time": "2022-05-18T16:40:33.718Z"
   },
   {
    "duration": 7,
    "start_time": "2022-05-18T16:40:40.498Z"
   },
   {
    "duration": 19,
    "start_time": "2022-05-18T16:41:55.157Z"
   },
   {
    "duration": 535,
    "start_time": "2022-05-18T16:57:10.637Z"
   },
   {
    "duration": 14,
    "start_time": "2022-05-18T16:57:11.173Z"
   },
   {
    "duration": 19,
    "start_time": "2022-05-18T16:57:11.188Z"
   },
   {
    "duration": 9,
    "start_time": "2022-05-18T16:57:11.209Z"
   },
   {
    "duration": 12,
    "start_time": "2022-05-18T16:57:11.219Z"
   },
   {
    "duration": 31,
    "start_time": "2022-05-18T16:57:11.232Z"
   },
   {
    "duration": 5,
    "start_time": "2022-05-18T16:57:11.265Z"
   },
   {
    "duration": 22,
    "start_time": "2022-05-18T16:57:11.271Z"
   },
   {
    "duration": 7,
    "start_time": "2022-05-18T16:57:11.295Z"
   },
   {
    "duration": 6,
    "start_time": "2022-05-18T16:57:11.305Z"
   },
   {
    "duration": 10,
    "start_time": "2022-05-18T16:57:11.312Z"
   },
   {
    "duration": 11,
    "start_time": "2022-05-18T16:57:11.323Z"
   },
   {
    "duration": 29,
    "start_time": "2022-05-18T16:57:11.335Z"
   },
   {
    "duration": 5,
    "start_time": "2022-05-18T16:57:11.366Z"
   },
   {
    "duration": 18,
    "start_time": "2022-05-18T16:57:11.372Z"
   },
   {
    "duration": 12,
    "start_time": "2022-05-18T16:57:11.391Z"
   },
   {
    "duration": 161,
    "start_time": "2022-05-18T16:57:11.404Z"
   },
   {
    "duration": 248,
    "start_time": "2022-05-18T16:57:11.566Z"
   },
   {
    "duration": 4,
    "start_time": "2022-05-18T16:57:11.816Z"
   },
   {
    "duration": 6,
    "start_time": "2022-05-18T16:57:11.822Z"
   },
   {
    "duration": 7,
    "start_time": "2022-05-18T16:57:11.829Z"
   },
   {
    "duration": 26,
    "start_time": "2022-05-18T16:57:11.837Z"
   },
   {
    "duration": 4,
    "start_time": "2022-05-18T16:57:11.865Z"
   },
   {
    "duration": 203,
    "start_time": "2022-05-18T16:57:11.870Z"
   },
   {
    "duration": 5,
    "start_time": "2022-05-18T16:57:12.075Z"
   },
   {
    "duration": 22,
    "start_time": "2022-05-18T16:57:12.081Z"
   },
   {
    "duration": 21,
    "start_time": "2022-05-18T16:57:12.105Z"
   },
   {
    "duration": 19,
    "start_time": "2022-05-18T16:57:12.130Z"
   },
   {
    "duration": 33,
    "start_time": "2022-05-18T16:57:12.151Z"
   },
   {
    "duration": 12,
    "start_time": "2022-05-18T16:57:12.186Z"
   },
   {
    "duration": 12,
    "start_time": "2022-05-18T16:57:12.199Z"
   },
   {
    "duration": 238,
    "start_time": "2022-05-18T16:57:12.212Z"
   },
   {
    "duration": 11,
    "start_time": "2022-05-18T16:57:12.451Z"
   },
   {
    "duration": 11,
    "start_time": "2022-05-18T16:57:12.464Z"
   },
   {
    "duration": 13,
    "start_time": "2022-05-18T16:57:12.476Z"
   },
   {
    "duration": 11,
    "start_time": "2022-05-18T16:57:12.491Z"
   },
   {
    "duration": 14,
    "start_time": "2022-05-18T16:57:12.504Z"
   },
   {
    "duration": 11,
    "start_time": "2022-05-18T16:57:12.519Z"
   },
   {
    "duration": 13,
    "start_time": "2022-05-18T16:57:12.531Z"
   },
   {
    "duration": 25,
    "start_time": "2022-05-18T16:57:12.545Z"
   },
   {
    "duration": 24,
    "start_time": "2022-05-18T16:57:12.572Z"
   },
   {
    "duration": 14,
    "start_time": "2022-05-18T16:57:12.598Z"
   },
   {
    "duration": 23,
    "start_time": "2022-05-18T16:57:12.613Z"
   },
   {
    "duration": 12,
    "start_time": "2022-05-18T16:57:12.637Z"
   },
   {
    "duration": 15,
    "start_time": "2022-05-18T16:57:12.650Z"
   },
   {
    "duration": 26,
    "start_time": "2022-05-18T16:57:12.666Z"
   },
   {
    "duration": 13,
    "start_time": "2022-05-18T16:57:12.694Z"
   },
   {
    "duration": 8,
    "start_time": "2022-05-18T16:57:12.709Z"
   },
   {
    "duration": 20,
    "start_time": "2022-05-18T16:57:12.719Z"
   },
   {
    "duration": 15,
    "start_time": "2022-05-18T16:57:12.741Z"
   },
   {
    "duration": 20,
    "start_time": "2022-05-18T16:57:12.757Z"
   },
   {
    "duration": 14,
    "start_time": "2022-05-18T16:57:12.779Z"
   },
   {
    "duration": 10,
    "start_time": "2022-05-18T16:57:12.795Z"
   },
   {
    "duration": 10,
    "start_time": "2022-05-18T16:57:12.806Z"
   },
   {
    "duration": 7,
    "start_time": "2022-05-18T16:57:12.817Z"
   },
   {
    "duration": 21,
    "start_time": "2022-05-18T16:57:12.825Z"
   },
   {
    "duration": 16,
    "start_time": "2022-05-18T16:57:12.848Z"
   },
   {
    "duration": 8,
    "start_time": "2022-05-18T16:57:12.866Z"
   },
   {
    "duration": 18,
    "start_time": "2022-05-18T16:57:12.875Z"
   },
   {
    "duration": 18,
    "start_time": "2022-05-18T16:57:12.894Z"
   },
   {
    "duration": 22,
    "start_time": "2022-05-18T16:57:12.913Z"
   },
   {
    "duration": 29,
    "start_time": "2022-05-18T16:57:12.937Z"
   },
   {
    "duration": 15,
    "start_time": "2022-05-18T16:57:12.968Z"
   },
   {
    "duration": 37,
    "start_time": "2022-05-18T16:57:12.985Z"
   },
   {
    "duration": 31,
    "start_time": "2022-05-18T16:57:13.025Z"
   },
   {
    "duration": 46,
    "start_time": "2022-05-18T16:57:13.058Z"
   },
   {
    "duration": 24,
    "start_time": "2022-05-18T16:57:13.106Z"
   },
   {
    "duration": 30,
    "start_time": "2022-05-18T16:57:13.131Z"
   },
   {
    "duration": 6,
    "start_time": "2022-05-18T16:57:13.162Z"
   },
   {
    "duration": 11,
    "start_time": "2022-05-18T16:57:13.170Z"
   },
   {
    "duration": 21,
    "start_time": "2022-05-18T16:57:13.183Z"
   },
   {
    "duration": 24,
    "start_time": "2022-05-18T16:57:13.206Z"
   },
   {
    "duration": 6,
    "start_time": "2022-05-18T16:57:13.231Z"
   },
   {
    "duration": 23,
    "start_time": "2022-05-18T16:57:13.239Z"
   },
   {
    "duration": 26,
    "start_time": "2022-05-18T16:57:13.263Z"
   },
   {
    "duration": 67,
    "start_time": "2022-05-18T19:27:37.276Z"
   },
   {
    "duration": 9,
    "start_time": "2022-05-18T19:27:49.452Z"
   },
   {
    "duration": 532,
    "start_time": "2022-05-18T19:28:04.983Z"
   },
   {
    "duration": 13,
    "start_time": "2022-05-18T19:28:05.517Z"
   },
   {
    "duration": 18,
    "start_time": "2022-05-18T19:28:05.532Z"
   },
   {
    "duration": 14,
    "start_time": "2022-05-18T19:28:05.552Z"
   },
   {
    "duration": 15,
    "start_time": "2022-05-18T19:28:05.568Z"
   },
   {
    "duration": 9,
    "start_time": "2022-05-18T19:28:05.585Z"
   },
   {
    "duration": 32,
    "start_time": "2022-05-18T19:28:05.596Z"
   },
   {
    "duration": 13,
    "start_time": "2022-05-18T19:28:05.629Z"
   },
   {
    "duration": 7,
    "start_time": "2022-05-18T19:28:05.644Z"
   },
   {
    "duration": 23,
    "start_time": "2022-05-18T19:28:05.653Z"
   },
   {
    "duration": 11,
    "start_time": "2022-05-18T19:28:05.678Z"
   },
   {
    "duration": 7,
    "start_time": "2022-05-18T19:28:05.691Z"
   },
   {
    "duration": 11,
    "start_time": "2022-05-18T19:28:05.727Z"
   },
   {
    "duration": 11,
    "start_time": "2022-05-18T19:28:05.741Z"
   },
   {
    "duration": 22,
    "start_time": "2022-05-18T19:28:05.754Z"
   },
   {
    "duration": 11,
    "start_time": "2022-05-18T19:28:05.778Z"
   },
   {
    "duration": 174,
    "start_time": "2022-05-18T19:28:05.791Z"
   },
   {
    "duration": 252,
    "start_time": "2022-05-18T19:28:05.966Z"
   },
   {
    "duration": 11,
    "start_time": "2022-05-18T19:28:06.220Z"
   },
   {
    "duration": 20,
    "start_time": "2022-05-18T19:28:06.233Z"
   },
   {
    "duration": 13,
    "start_time": "2022-05-18T19:28:06.255Z"
   },
   {
    "duration": 25,
    "start_time": "2022-05-18T19:28:06.270Z"
   },
   {
    "duration": 28,
    "start_time": "2022-05-18T19:28:06.297Z"
   },
   {
    "duration": 217,
    "start_time": "2022-05-18T19:28:06.327Z"
   },
   {
    "duration": 5,
    "start_time": "2022-05-18T19:28:06.546Z"
   },
   {
    "duration": 6,
    "start_time": "2022-05-18T19:28:06.552Z"
   },
   {
    "duration": 7,
    "start_time": "2022-05-18T19:28:06.559Z"
   },
   {
    "duration": 8,
    "start_time": "2022-05-18T19:28:06.567Z"
   },
   {
    "duration": 60,
    "start_time": "2022-05-18T19:28:06.577Z"
   },
   {
    "duration": 12,
    "start_time": "2022-05-18T19:28:06.639Z"
   },
   {
    "duration": 12,
    "start_time": "2022-05-18T19:28:06.652Z"
   },
   {
    "duration": 266,
    "start_time": "2022-05-18T19:28:06.666Z"
   },
   {
    "duration": 9,
    "start_time": "2022-05-18T19:28:06.934Z"
   },
   {
    "duration": 9,
    "start_time": "2022-05-18T19:28:06.944Z"
   },
   {
    "duration": 9,
    "start_time": "2022-05-18T19:28:06.955Z"
   },
   {
    "duration": 7,
    "start_time": "2022-05-18T19:28:06.965Z"
   },
   {
    "duration": 13,
    "start_time": "2022-05-18T19:28:06.973Z"
   },
   {
    "duration": 42,
    "start_time": "2022-05-18T19:28:06.988Z"
   },
   {
    "duration": 27,
    "start_time": "2022-05-18T19:28:07.032Z"
   },
   {
    "duration": 10,
    "start_time": "2022-05-18T19:28:07.062Z"
   },
   {
    "duration": 16,
    "start_time": "2022-05-18T19:28:07.076Z"
   },
   {
    "duration": 41,
    "start_time": "2022-05-18T19:28:07.094Z"
   },
   {
    "duration": 13,
    "start_time": "2022-05-18T19:28:07.137Z"
   },
   {
    "duration": 4,
    "start_time": "2022-05-18T19:28:07.152Z"
   },
   {
    "duration": 9,
    "start_time": "2022-05-18T19:28:07.158Z"
   },
   {
    "duration": 11,
    "start_time": "2022-05-18T19:28:07.169Z"
   },
   {
    "duration": 51,
    "start_time": "2022-05-18T19:28:07.182Z"
   },
   {
    "duration": 7,
    "start_time": "2022-05-18T19:28:07.235Z"
   },
   {
    "duration": 29,
    "start_time": "2022-05-18T19:28:07.243Z"
   },
   {
    "duration": 46,
    "start_time": "2022-05-18T19:28:07.274Z"
   },
   {
    "duration": 21,
    "start_time": "2022-05-18T19:28:07.322Z"
   },
   {
    "duration": 7,
    "start_time": "2022-05-18T19:28:07.345Z"
   },
   {
    "duration": 9,
    "start_time": "2022-05-18T19:28:07.354Z"
   },
   {
    "duration": 8,
    "start_time": "2022-05-18T19:28:07.364Z"
   },
   {
    "duration": 7,
    "start_time": "2022-05-18T19:28:07.374Z"
   },
   {
    "duration": 51,
    "start_time": "2022-05-18T19:28:07.382Z"
   },
   {
    "duration": 18,
    "start_time": "2022-05-18T19:28:07.434Z"
   },
   {
    "duration": 4,
    "start_time": "2022-05-18T19:28:07.454Z"
   },
   {
    "duration": 17,
    "start_time": "2022-05-18T19:28:07.460Z"
   },
   {
    "duration": 57,
    "start_time": "2022-05-18T19:28:07.478Z"
   },
   {
    "duration": 13,
    "start_time": "2022-05-18T19:28:07.536Z"
   },
   {
    "duration": 12,
    "start_time": "2022-05-18T19:28:07.550Z"
   },
   {
    "duration": 13,
    "start_time": "2022-05-18T19:28:07.564Z"
   },
   {
    "duration": 63,
    "start_time": "2022-05-18T19:28:07.578Z"
   },
   {
    "duration": 11,
    "start_time": "2022-05-18T19:28:07.643Z"
   },
   {
    "duration": 19,
    "start_time": "2022-05-18T19:28:07.656Z"
   },
   {
    "duration": 16,
    "start_time": "2022-05-18T19:28:07.677Z"
   },
   {
    "duration": 42,
    "start_time": "2022-05-18T19:28:07.695Z"
   },
   {
    "duration": 6,
    "start_time": "2022-05-18T19:28:07.739Z"
   },
   {
    "duration": 12,
    "start_time": "2022-05-18T19:28:07.746Z"
   },
   {
    "duration": 27,
    "start_time": "2022-05-18T19:28:07.760Z"
   },
   {
    "duration": 48,
    "start_time": "2022-05-18T19:28:07.788Z"
   },
   {
    "duration": 6,
    "start_time": "2022-05-18T19:28:07.838Z"
   },
   {
    "duration": 21,
    "start_time": "2022-05-18T19:28:07.846Z"
   },
   {
    "duration": 19,
    "start_time": "2022-05-18T19:28:07.869Z"
   },
   {
    "duration": 29,
    "start_time": "2022-05-18T19:29:21.682Z"
   },
   {
    "duration": 528,
    "start_time": "2022-05-18T19:29:40.004Z"
   },
   {
    "duration": 16,
    "start_time": "2022-05-18T19:29:40.534Z"
   },
   {
    "duration": 27,
    "start_time": "2022-05-18T19:29:40.552Z"
   },
   {
    "duration": 14,
    "start_time": "2022-05-18T19:29:40.580Z"
   },
   {
    "duration": 10,
    "start_time": "2022-05-18T19:29:40.627Z"
   },
   {
    "duration": 10,
    "start_time": "2022-05-18T19:29:40.639Z"
   },
   {
    "duration": 6,
    "start_time": "2022-05-18T19:29:40.651Z"
   },
   {
    "duration": 16,
    "start_time": "2022-05-18T19:29:40.658Z"
   },
   {
    "duration": 8,
    "start_time": "2022-05-18T19:29:40.675Z"
   },
   {
    "duration": 43,
    "start_time": "2022-05-18T19:29:40.685Z"
   },
   {
    "duration": 7,
    "start_time": "2022-05-18T19:29:40.730Z"
   },
   {
    "duration": 10,
    "start_time": "2022-05-18T19:29:40.739Z"
   },
   {
    "duration": 7,
    "start_time": "2022-05-18T19:29:40.750Z"
   },
   {
    "duration": 4,
    "start_time": "2022-05-18T19:29:40.760Z"
   },
   {
    "duration": 65,
    "start_time": "2022-05-18T19:29:40.766Z"
   },
   {
    "duration": 12,
    "start_time": "2022-05-18T19:29:40.832Z"
   },
   {
    "duration": 152,
    "start_time": "2022-05-18T19:29:40.846Z"
   },
   {
    "duration": 240,
    "start_time": "2022-05-18T19:29:41.000Z"
   },
   {
    "duration": 7,
    "start_time": "2022-05-18T19:29:41.242Z"
   },
   {
    "duration": 9,
    "start_time": "2022-05-18T19:29:41.250Z"
   },
   {
    "duration": 7,
    "start_time": "2022-05-18T19:29:41.260Z"
   },
   {
    "duration": 23,
    "start_time": "2022-05-18T19:29:41.269Z"
   },
   {
    "duration": 4,
    "start_time": "2022-05-18T19:29:41.294Z"
   },
   {
    "duration": 195,
    "start_time": "2022-05-18T19:29:41.327Z"
   },
   {
    "duration": 6,
    "start_time": "2022-05-18T19:29:41.526Z"
   },
   {
    "duration": 5,
    "start_time": "2022-05-18T19:29:41.534Z"
   },
   {
    "duration": 7,
    "start_time": "2022-05-18T19:29:41.541Z"
   },
   {
    "duration": 7,
    "start_time": "2022-05-18T19:29:41.549Z"
   },
   {
    "duration": 19,
    "start_time": "2022-05-18T19:29:41.558Z"
   },
   {
    "duration": 50,
    "start_time": "2022-05-18T19:29:41.578Z"
   },
   {
    "duration": 13,
    "start_time": "2022-05-18T19:29:41.629Z"
   },
   {
    "duration": 310,
    "start_time": "2022-05-18T19:29:41.644Z"
   },
   {
    "duration": 9,
    "start_time": "2022-05-18T19:29:41.956Z"
   },
   {
    "duration": 9,
    "start_time": "2022-05-18T19:29:41.966Z"
   },
   {
    "duration": 9,
    "start_time": "2022-05-18T19:29:41.977Z"
   },
   {
    "duration": 13,
    "start_time": "2022-05-18T19:29:41.987Z"
   },
   {
    "duration": 34,
    "start_time": "2022-05-18T19:29:42.002Z"
   },
   {
    "duration": 14,
    "start_time": "2022-05-18T19:29:42.038Z"
   },
   {
    "duration": 11,
    "start_time": "2022-05-18T19:29:42.054Z"
   },
   {
    "duration": 21,
    "start_time": "2022-05-18T19:29:42.066Z"
   },
   {
    "duration": 40,
    "start_time": "2022-05-18T19:29:42.090Z"
   },
   {
    "duration": 14,
    "start_time": "2022-05-18T19:29:42.132Z"
   },
   {
    "duration": 13,
    "start_time": "2022-05-18T19:29:42.148Z"
   },
   {
    "duration": 5,
    "start_time": "2022-05-18T19:29:42.162Z"
   },
   {
    "duration": 7,
    "start_time": "2022-05-18T19:29:42.169Z"
   },
   {
    "duration": 7,
    "start_time": "2022-05-18T19:29:42.177Z"
   },
   {
    "duration": 46,
    "start_time": "2022-05-18T19:29:42.186Z"
   },
   {
    "duration": 5,
    "start_time": "2022-05-18T19:29:42.234Z"
   },
   {
    "duration": 9,
    "start_time": "2022-05-18T19:29:42.240Z"
   },
   {
    "duration": 7,
    "start_time": "2022-05-18T19:29:42.251Z"
   },
   {
    "duration": 9,
    "start_time": "2022-05-18T19:29:42.259Z"
   },
   {
    "duration": 9,
    "start_time": "2022-05-18T19:29:42.270Z"
   },
   {
    "duration": 48,
    "start_time": "2022-05-18T19:29:42.280Z"
   },
   {
    "duration": 7,
    "start_time": "2022-05-18T19:29:42.330Z"
   },
   {
    "duration": 6,
    "start_time": "2022-05-18T19:29:42.338Z"
   },
   {
    "duration": 15,
    "start_time": "2022-05-18T19:29:42.346Z"
   },
   {
    "duration": 16,
    "start_time": "2022-05-18T19:29:42.363Z"
   },
   {
    "duration": 6,
    "start_time": "2022-05-18T19:29:42.380Z"
   },
   {
    "duration": 51,
    "start_time": "2022-05-18T19:29:42.387Z"
   },
   {
    "duration": 18,
    "start_time": "2022-05-18T19:29:42.439Z"
   },
   {
    "duration": 12,
    "start_time": "2022-05-18T19:29:42.459Z"
   },
   {
    "duration": 11,
    "start_time": "2022-05-18T19:29:42.472Z"
   },
   {
    "duration": 53,
    "start_time": "2022-05-18T19:29:42.484Z"
   },
   {
    "duration": 36,
    "start_time": "2022-05-18T19:29:42.539Z"
   },
   {
    "duration": 5,
    "start_time": "2022-05-18T19:29:42.576Z"
   },
   {
    "duration": 51,
    "start_time": "2022-05-18T19:29:42.582Z"
   },
   {
    "duration": 48,
    "start_time": "2022-05-18T19:29:42.634Z"
   },
   {
    "duration": 30,
    "start_time": "2022-05-18T19:29:42.684Z"
   },
   {
    "duration": 13,
    "start_time": "2022-05-18T19:29:42.716Z"
   },
   {
    "duration": 17,
    "start_time": "2022-05-18T19:29:42.730Z"
   },
   {
    "duration": 48,
    "start_time": "2022-05-18T19:29:42.749Z"
   },
   {
    "duration": 27,
    "start_time": "2022-05-18T19:29:42.799Z"
   },
   {
    "duration": 7,
    "start_time": "2022-05-18T19:29:42.828Z"
   },
   {
    "duration": 26,
    "start_time": "2022-05-18T19:29:42.836Z"
   },
   {
    "duration": 34,
    "start_time": "2022-05-18T19:29:42.864Z"
   },
   {
    "duration": 738,
    "start_time": "2022-05-19T10:30:29.584Z"
   },
   {
    "duration": 14,
    "start_time": "2022-05-19T10:30:30.325Z"
   },
   {
    "duration": 30,
    "start_time": "2022-05-19T10:30:30.341Z"
   },
   {
    "duration": 10,
    "start_time": "2022-05-19T10:30:30.383Z"
   },
   {
    "duration": 29,
    "start_time": "2022-05-19T10:30:30.395Z"
   },
   {
    "duration": 26,
    "start_time": "2022-05-19T10:30:30.425Z"
   },
   {
    "duration": 22,
    "start_time": "2022-05-19T10:30:30.452Z"
   },
   {
    "duration": 42,
    "start_time": "2022-05-19T10:30:30.476Z"
   },
   {
    "duration": 14,
    "start_time": "2022-05-19T10:30:30.520Z"
   },
   {
    "duration": 8,
    "start_time": "2022-05-19T10:30:30.537Z"
   },
   {
    "duration": 24,
    "start_time": "2022-05-19T10:30:30.547Z"
   },
   {
    "duration": 12,
    "start_time": "2022-05-19T10:30:30.573Z"
   },
   {
    "duration": 25,
    "start_time": "2022-05-19T10:30:30.587Z"
   },
   {
    "duration": 36,
    "start_time": "2022-05-19T10:30:30.613Z"
   },
   {
    "duration": 32,
    "start_time": "2022-05-19T10:30:30.650Z"
   },
   {
    "duration": 20,
    "start_time": "2022-05-19T10:30:30.683Z"
   },
   {
    "duration": 154,
    "start_time": "2022-05-19T10:30:30.705Z"
   },
   {
    "duration": 268,
    "start_time": "2022-05-19T10:30:30.861Z"
   },
   {
    "duration": 6,
    "start_time": "2022-05-19T10:30:31.131Z"
   },
   {
    "duration": 19,
    "start_time": "2022-05-19T10:30:31.139Z"
   },
   {
    "duration": 13,
    "start_time": "2022-05-19T10:30:31.160Z"
   },
   {
    "duration": 29,
    "start_time": "2022-05-19T10:30:31.174Z"
   },
   {
    "duration": 11,
    "start_time": "2022-05-19T10:30:31.204Z"
   },
   {
    "duration": 210,
    "start_time": "2022-05-19T10:30:31.216Z"
   },
   {
    "duration": 7,
    "start_time": "2022-05-19T10:30:31.428Z"
   },
   {
    "duration": 28,
    "start_time": "2022-05-19T10:30:31.437Z"
   },
   {
    "duration": 32,
    "start_time": "2022-05-19T10:30:31.467Z"
   },
   {
    "duration": 32,
    "start_time": "2022-05-19T10:30:31.502Z"
   },
   {
    "duration": 24,
    "start_time": "2022-05-19T10:30:31.536Z"
   },
   {
    "duration": 11,
    "start_time": "2022-05-19T10:30:31.562Z"
   },
   {
    "duration": 13,
    "start_time": "2022-05-19T10:30:31.575Z"
   },
   {
    "duration": 263,
    "start_time": "2022-05-19T10:30:31.590Z"
   },
   {
    "duration": 16,
    "start_time": "2022-05-19T10:30:49.401Z"
   },
   {
    "duration": 84,
    "start_time": "2022-05-19T10:39:33.260Z"
   },
   {
    "duration": 36,
    "start_time": "2022-05-19T10:39:33.347Z"
   },
   {
    "duration": 21,
    "start_time": "2022-05-19T10:39:33.386Z"
   },
   {
    "duration": 11,
    "start_time": "2022-05-19T10:39:33.409Z"
   },
   {
    "duration": 14,
    "start_time": "2022-05-19T10:39:33.422Z"
   },
   {
    "duration": 50,
    "start_time": "2022-05-19T10:39:33.438Z"
   },
   {
    "duration": 7,
    "start_time": "2022-05-19T10:39:33.490Z"
   },
   {
    "duration": 15,
    "start_time": "2022-05-19T10:39:33.498Z"
   },
   {
    "duration": 9,
    "start_time": "2022-05-19T10:39:33.516Z"
   },
   {
    "duration": 7,
    "start_time": "2022-05-19T10:39:33.528Z"
   },
   {
    "duration": 51,
    "start_time": "2022-05-19T10:39:33.537Z"
   },
   {
    "duration": 8,
    "start_time": "2022-05-19T10:39:33.590Z"
   },
   {
    "duration": 9,
    "start_time": "2022-05-19T10:39:33.599Z"
   },
   {
    "duration": 5,
    "start_time": "2022-05-19T10:39:33.610Z"
   },
   {
    "duration": 19,
    "start_time": "2022-05-19T10:39:33.617Z"
   },
   {
    "duration": 52,
    "start_time": "2022-05-19T10:39:33.639Z"
   },
   {
    "duration": 158,
    "start_time": "2022-05-19T10:39:33.692Z"
   },
   {
    "duration": 272,
    "start_time": "2022-05-19T10:39:33.852Z"
   },
   {
    "duration": 8,
    "start_time": "2022-05-19T10:39:34.126Z"
   },
   {
    "duration": 11,
    "start_time": "2022-05-19T10:39:34.136Z"
   },
   {
    "duration": 9,
    "start_time": "2022-05-19T10:39:34.152Z"
   },
   {
    "duration": 14,
    "start_time": "2022-05-19T10:39:34.184Z"
   },
   {
    "duration": 6,
    "start_time": "2022-05-19T10:39:34.201Z"
   },
   {
    "duration": 225,
    "start_time": "2022-05-19T10:39:34.210Z"
   },
   {
    "duration": 5,
    "start_time": "2022-05-19T10:39:34.437Z"
   },
   {
    "duration": 10,
    "start_time": "2022-05-19T10:39:34.444Z"
   },
   {
    "duration": 9,
    "start_time": "2022-05-19T10:39:34.455Z"
   },
   {
    "duration": 23,
    "start_time": "2022-05-19T10:39:34.468Z"
   },
   {
    "duration": 18,
    "start_time": "2022-05-19T10:39:34.493Z"
   },
   {
    "duration": 13,
    "start_time": "2022-05-19T10:39:34.513Z"
   },
   {
    "duration": 21,
    "start_time": "2022-05-19T10:39:34.528Z"
   },
   {
    "duration": 298,
    "start_time": "2022-05-19T10:39:34.551Z"
   },
   {
    "duration": 14,
    "start_time": "2022-05-19T10:39:34.851Z"
   },
   {
    "duration": 18,
    "start_time": "2022-05-19T10:39:34.867Z"
   },
   {
    "duration": 12,
    "start_time": "2022-05-19T10:39:34.887Z"
   },
   {
    "duration": 7,
    "start_time": "2022-05-19T10:39:34.901Z"
   },
   {
    "duration": 10,
    "start_time": "2022-05-19T10:39:34.910Z"
   },
   {
    "duration": 8,
    "start_time": "2022-05-19T10:39:34.922Z"
   },
   {
    "duration": 12,
    "start_time": "2022-05-19T10:39:50.990Z"
   },
   {
    "duration": 14,
    "start_time": "2022-05-19T10:40:04.019Z"
   },
   {
    "duration": 11,
    "start_time": "2022-05-19T10:41:54.594Z"
   },
   {
    "duration": 26,
    "start_time": "2022-05-19T10:42:01.538Z"
   },
   {
    "duration": 81,
    "start_time": "2022-05-19T10:48:36.796Z"
   },
   {
    "duration": 22,
    "start_time": "2022-05-19T10:48:36.880Z"
   },
   {
    "duration": 38,
    "start_time": "2022-05-19T10:48:36.904Z"
   },
   {
    "duration": 15,
    "start_time": "2022-05-19T10:48:36.946Z"
   },
   {
    "duration": 28,
    "start_time": "2022-05-19T10:48:36.963Z"
   },
   {
    "duration": 28,
    "start_time": "2022-05-19T10:48:36.993Z"
   },
   {
    "duration": 10,
    "start_time": "2022-05-19T10:48:37.024Z"
   },
   {
    "duration": 34,
    "start_time": "2022-05-19T10:48:37.036Z"
   },
   {
    "duration": 19,
    "start_time": "2022-05-19T10:48:37.072Z"
   },
   {
    "duration": 51,
    "start_time": "2022-05-19T10:48:37.095Z"
   },
   {
    "duration": 16,
    "start_time": "2022-05-19T10:48:37.151Z"
   },
   {
    "duration": 25,
    "start_time": "2022-05-19T10:48:37.170Z"
   },
   {
    "duration": 16,
    "start_time": "2022-05-19T10:48:37.197Z"
   },
   {
    "duration": 21,
    "start_time": "2022-05-19T10:48:37.215Z"
   },
   {
    "duration": 25,
    "start_time": "2022-05-19T10:48:37.238Z"
   },
   {
    "duration": 25,
    "start_time": "2022-05-19T10:48:37.266Z"
   },
   {
    "duration": 155,
    "start_time": "2022-05-19T10:48:37.293Z"
   },
   {
    "duration": 285,
    "start_time": "2022-05-19T10:48:37.451Z"
   },
   {
    "duration": 10,
    "start_time": "2022-05-19T10:48:37.738Z"
   },
   {
    "duration": 19,
    "start_time": "2022-05-19T10:48:37.750Z"
   },
   {
    "duration": 22,
    "start_time": "2022-05-19T10:48:37.785Z"
   },
   {
    "duration": 40,
    "start_time": "2022-05-19T10:48:37.809Z"
   },
   {
    "duration": 19,
    "start_time": "2022-05-19T10:48:37.851Z"
   },
   {
    "duration": 276,
    "start_time": "2022-05-19T10:48:37.872Z"
   },
   {
    "duration": 9,
    "start_time": "2022-05-19T10:48:38.150Z"
   },
   {
    "duration": 21,
    "start_time": "2022-05-19T10:48:38.161Z"
   },
   {
    "duration": 40,
    "start_time": "2022-05-19T10:48:38.185Z"
   },
   {
    "duration": 22,
    "start_time": "2022-05-19T10:48:38.231Z"
   },
   {
    "duration": 46,
    "start_time": "2022-05-19T10:48:38.255Z"
   },
   {
    "duration": 31,
    "start_time": "2022-05-19T10:48:38.303Z"
   },
   {
    "duration": 31,
    "start_time": "2022-05-19T10:48:38.336Z"
   },
   {
    "duration": 288,
    "start_time": "2022-05-19T10:48:38.369Z"
   },
   {
    "duration": 26,
    "start_time": "2022-05-19T10:48:38.659Z"
   },
   {
    "duration": 12,
    "start_time": "2022-05-19T10:48:38.690Z"
   },
   {
    "duration": 33,
    "start_time": "2022-05-19T10:48:38.705Z"
   },
   {
    "duration": 27,
    "start_time": "2022-05-19T10:48:38.740Z"
   },
   {
    "duration": 36,
    "start_time": "2022-05-19T10:48:38.769Z"
   },
   {
    "duration": 35,
    "start_time": "2022-05-19T10:48:38.807Z"
   },
   {
    "duration": 41,
    "start_time": "2022-05-19T10:48:38.844Z"
   },
   {
    "duration": 34,
    "start_time": "2022-05-19T10:48:38.887Z"
   },
   {
    "duration": 48,
    "start_time": "2022-05-19T10:48:38.922Z"
   },
   {
    "duration": 32,
    "start_time": "2022-05-19T10:48:38.973Z"
   },
   {
    "duration": 26,
    "start_time": "2022-05-19T10:48:39.007Z"
   },
   {
    "duration": 21,
    "start_time": "2022-05-19T10:48:39.035Z"
   },
   {
    "duration": 14,
    "start_time": "2022-05-19T10:48:39.059Z"
   },
   {
    "duration": 35,
    "start_time": "2022-05-19T10:48:39.075Z"
   },
   {
    "duration": 21,
    "start_time": "2022-05-19T10:48:39.112Z"
   },
   {
    "duration": 15,
    "start_time": "2022-05-19T10:48:39.135Z"
   },
   {
    "duration": 19,
    "start_time": "2022-05-19T10:48:39.153Z"
   },
   {
    "duration": 37,
    "start_time": "2022-05-19T10:48:39.174Z"
   },
   {
    "duration": 31,
    "start_time": "2022-05-19T10:48:39.213Z"
   },
   {
    "duration": 21,
    "start_time": "2022-05-19T10:48:39.246Z"
   },
   {
    "duration": 22,
    "start_time": "2022-05-19T10:48:39.269Z"
   },
   {
    "duration": 23,
    "start_time": "2022-05-19T10:48:39.293Z"
   },
   {
    "duration": 34,
    "start_time": "2022-05-19T10:48:39.319Z"
   },
   {
    "duration": 48,
    "start_time": "2022-05-19T10:48:39.355Z"
   },
   {
    "duration": 44,
    "start_time": "2022-05-19T10:48:39.405Z"
   },
   {
    "duration": 6,
    "start_time": "2022-05-19T10:48:39.451Z"
   },
   {
    "duration": 31,
    "start_time": "2022-05-19T10:48:39.459Z"
   },
   {
    "duration": 54,
    "start_time": "2022-05-19T10:48:39.492Z"
   },
   {
    "duration": 18,
    "start_time": "2022-05-19T10:48:39.548Z"
   },
   {
    "duration": 18,
    "start_time": "2022-05-19T10:48:39.568Z"
   },
   {
    "duration": 19,
    "start_time": "2022-05-19T10:48:39.588Z"
   },
   {
    "duration": 39,
    "start_time": "2022-05-19T10:48:39.609Z"
   },
   {
    "duration": 27,
    "start_time": "2022-05-19T10:48:39.651Z"
   },
   {
    "duration": 40,
    "start_time": "2022-05-19T10:48:39.682Z"
   },
   {
    "duration": 12,
    "start_time": "2022-05-19T10:48:39.727Z"
   },
   {
    "duration": 50,
    "start_time": "2022-05-19T10:48:39.741Z"
   },
   {
    "duration": 9,
    "start_time": "2022-05-19T10:48:39.793Z"
   },
   {
    "duration": 16,
    "start_time": "2022-05-19T10:48:39.804Z"
   },
   {
    "duration": 37,
    "start_time": "2022-05-19T10:48:39.822Z"
   },
   {
    "duration": 38,
    "start_time": "2022-05-19T10:48:39.861Z"
   },
   {
    "duration": 10,
    "start_time": "2022-05-19T10:48:39.901Z"
   },
   {
    "duration": 39,
    "start_time": "2022-05-19T10:48:39.913Z"
   },
   {
    "duration": 32,
    "start_time": "2022-05-19T10:48:39.955Z"
   },
   {
    "duration": 113,
    "start_time": "2022-05-19T10:49:15.334Z"
   },
   {
    "duration": 50,
    "start_time": "2022-05-19T10:49:15.450Z"
   },
   {
    "duration": 18,
    "start_time": "2022-05-19T10:49:15.502Z"
   },
   {
    "duration": 11,
    "start_time": "2022-05-19T10:49:15.522Z"
   },
   {
    "duration": 11,
    "start_time": "2022-05-19T10:49:15.536Z"
   },
   {
    "duration": 16,
    "start_time": "2022-05-19T10:49:15.583Z"
   },
   {
    "duration": 10,
    "start_time": "2022-05-19T10:49:15.602Z"
   },
   {
    "duration": 21,
    "start_time": "2022-05-19T10:49:15.615Z"
   },
   {
    "duration": 54,
    "start_time": "2022-05-19T10:49:15.638Z"
   },
   {
    "duration": 11,
    "start_time": "2022-05-19T10:49:15.695Z"
   },
   {
    "duration": 13,
    "start_time": "2022-05-19T10:49:15.709Z"
   },
   {
    "duration": 11,
    "start_time": "2022-05-19T10:49:15.726Z"
   },
   {
    "duration": 48,
    "start_time": "2022-05-19T10:49:15.739Z"
   },
   {
    "duration": 8,
    "start_time": "2022-05-19T10:49:15.790Z"
   },
   {
    "duration": 30,
    "start_time": "2022-05-19T10:49:15.801Z"
   },
   {
    "duration": 21,
    "start_time": "2022-05-19T10:49:15.834Z"
   },
   {
    "duration": 220,
    "start_time": "2022-05-19T10:49:15.858Z"
   },
   {
    "duration": 272,
    "start_time": "2022-05-19T10:49:16.083Z"
   },
   {
    "duration": 7,
    "start_time": "2022-05-19T10:49:16.357Z"
   },
   {
    "duration": 21,
    "start_time": "2022-05-19T10:49:16.366Z"
   },
   {
    "duration": 8,
    "start_time": "2022-05-19T10:49:16.389Z"
   },
   {
    "duration": 13,
    "start_time": "2022-05-19T10:49:16.399Z"
   },
   {
    "duration": 5,
    "start_time": "2022-05-19T10:49:16.414Z"
   },
   {
    "duration": 230,
    "start_time": "2022-05-19T10:49:16.421Z"
   },
   {
    "duration": 7,
    "start_time": "2022-05-19T10:49:16.655Z"
   },
   {
    "duration": 24,
    "start_time": "2022-05-19T10:49:16.664Z"
   },
   {
    "duration": 7,
    "start_time": "2022-05-19T10:49:16.691Z"
   },
   {
    "duration": 7,
    "start_time": "2022-05-19T10:49:16.703Z"
   },
   {
    "duration": 24,
    "start_time": "2022-05-19T10:49:16.712Z"
   },
   {
    "duration": 50,
    "start_time": "2022-05-19T10:49:16.738Z"
   },
   {
    "duration": 18,
    "start_time": "2022-05-19T10:49:16.792Z"
   },
   {
    "duration": 302,
    "start_time": "2022-05-19T10:49:16.812Z"
   },
   {
    "duration": 12,
    "start_time": "2022-05-19T10:49:17.116Z"
   },
   {
    "duration": 6,
    "start_time": "2022-05-19T10:49:17.131Z"
   },
   {
    "duration": 11,
    "start_time": "2022-05-19T10:49:17.139Z"
   },
   {
    "duration": 33,
    "start_time": "2022-05-19T10:49:17.151Z"
   },
   {
    "duration": 12,
    "start_time": "2022-05-19T10:49:17.186Z"
   },
   {
    "duration": 6,
    "start_time": "2022-05-19T10:49:17.200Z"
   },
   {
    "duration": 17,
    "start_time": "2022-05-19T10:49:17.209Z"
   },
   {
    "duration": 18,
    "start_time": "2022-05-19T10:49:17.228Z"
   },
   {
    "duration": 53,
    "start_time": "2022-05-19T10:49:17.249Z"
   },
   {
    "duration": 15,
    "start_time": "2022-05-19T10:49:17.304Z"
   },
   {
    "duration": 15,
    "start_time": "2022-05-19T10:49:17.322Z"
   },
   {
    "duration": 11,
    "start_time": "2022-05-19T10:49:17.339Z"
   },
   {
    "duration": 35,
    "start_time": "2022-05-19T10:49:17.351Z"
   },
   {
    "duration": 9,
    "start_time": "2022-05-19T10:49:17.387Z"
   },
   {
    "duration": 12,
    "start_time": "2022-05-19T10:49:17.398Z"
   },
   {
    "duration": 7,
    "start_time": "2022-05-19T10:49:17.411Z"
   },
   {
    "duration": 31,
    "start_time": "2022-05-19T10:49:29.678Z"
   },
   {
    "duration": 9,
    "start_time": "2022-05-19T10:49:38.555Z"
   },
   {
    "duration": 9,
    "start_time": "2022-05-19T10:49:41.806Z"
   },
   {
    "duration": 23,
    "start_time": "2022-05-19T10:49:47.627Z"
   },
   {
    "duration": 11,
    "start_time": "2022-05-19T10:50:02.522Z"
   },
   {
    "duration": 36,
    "start_time": "2022-05-19T10:50:04.923Z"
   },
   {
    "duration": 99,
    "start_time": "2022-05-19T10:52:03.743Z"
   },
   {
    "duration": 20,
    "start_time": "2022-05-19T10:52:03.845Z"
   },
   {
    "duration": 16,
    "start_time": "2022-05-19T10:52:03.884Z"
   },
   {
    "duration": 18,
    "start_time": "2022-05-19T10:52:03.903Z"
   },
   {
    "duration": 14,
    "start_time": "2022-05-19T10:52:03.923Z"
   },
   {
    "duration": 46,
    "start_time": "2022-05-19T10:52:03.939Z"
   },
   {
    "duration": 7,
    "start_time": "2022-05-19T10:52:03.987Z"
   },
   {
    "duration": 20,
    "start_time": "2022-05-19T10:52:03.996Z"
   },
   {
    "duration": 9,
    "start_time": "2022-05-19T10:52:04.018Z"
   },
   {
    "duration": 55,
    "start_time": "2022-05-19T10:52:04.030Z"
   },
   {
    "duration": 11,
    "start_time": "2022-05-19T10:52:04.088Z"
   },
   {
    "duration": 9,
    "start_time": "2022-05-19T10:52:04.101Z"
   },
   {
    "duration": 21,
    "start_time": "2022-05-19T10:52:04.112Z"
   },
   {
    "duration": 10,
    "start_time": "2022-05-19T10:52:04.135Z"
   },
   {
    "duration": 51,
    "start_time": "2022-05-19T10:52:04.147Z"
   },
   {
    "duration": 15,
    "start_time": "2022-05-19T10:52:04.200Z"
   },
   {
    "duration": 223,
    "start_time": "2022-05-19T10:52:04.217Z"
   },
   {
    "duration": 279,
    "start_time": "2022-05-19T10:52:04.443Z"
   },
   {
    "duration": 11,
    "start_time": "2022-05-19T10:52:04.724Z"
   },
   {
    "duration": 8,
    "start_time": "2022-05-19T10:52:04.737Z"
   },
   {
    "duration": 9,
    "start_time": "2022-05-19T10:52:04.747Z"
   },
   {
    "duration": 15,
    "start_time": "2022-05-19T10:52:04.784Z"
   },
   {
    "duration": 5,
    "start_time": "2022-05-19T10:52:04.800Z"
   },
   {
    "duration": 219,
    "start_time": "2022-05-19T10:52:04.807Z"
   },
   {
    "duration": 8,
    "start_time": "2022-05-19T10:52:05.029Z"
   },
   {
    "duration": 16,
    "start_time": "2022-05-19T10:52:05.039Z"
   },
   {
    "duration": 10,
    "start_time": "2022-05-19T10:52:05.057Z"
   },
   {
    "duration": 7,
    "start_time": "2022-05-19T10:52:05.088Z"
   },
   {
    "duration": 23,
    "start_time": "2022-05-19T10:52:05.097Z"
   },
   {
    "duration": 18,
    "start_time": "2022-05-19T10:52:05.122Z"
   },
   {
    "duration": 15,
    "start_time": "2022-05-19T10:52:05.142Z"
   },
   {
    "duration": 286,
    "start_time": "2022-05-19T10:52:05.184Z"
   },
   {
    "duration": 16,
    "start_time": "2022-05-19T10:52:05.472Z"
   },
   {
    "duration": 6,
    "start_time": "2022-05-19T10:52:05.490Z"
   },
   {
    "duration": 15,
    "start_time": "2022-05-19T10:52:05.498Z"
   },
   {
    "duration": 7,
    "start_time": "2022-05-19T10:52:05.514Z"
   },
   {
    "duration": 12,
    "start_time": "2022-05-19T10:52:05.523Z"
   },
   {
    "duration": 7,
    "start_time": "2022-05-19T10:52:05.537Z"
   },
   {
    "duration": 53,
    "start_time": "2022-05-19T10:52:05.546Z"
   },
   {
    "duration": 17,
    "start_time": "2022-05-19T10:52:05.601Z"
   },
   {
    "duration": 20,
    "start_time": "2022-05-19T10:52:05.621Z"
   },
   {
    "duration": 19,
    "start_time": "2022-05-19T10:52:05.642Z"
   },
   {
    "duration": 20,
    "start_time": "2022-05-19T10:52:05.685Z"
   },
   {
    "duration": 6,
    "start_time": "2022-05-19T10:52:05.709Z"
   },
   {
    "duration": 13,
    "start_time": "2022-05-19T10:52:05.718Z"
   },
   {
    "duration": 23,
    "start_time": "2022-05-19T10:52:05.734Z"
   },
   {
    "duration": 26,
    "start_time": "2022-05-19T10:52:05.759Z"
   },
   {
    "duration": 8,
    "start_time": "2022-05-19T10:52:05.788Z"
   },
   {
    "duration": 15,
    "start_time": "2022-05-19T10:52:05.799Z"
   },
   {
    "duration": 8,
    "start_time": "2022-05-19T10:52:05.816Z"
   },
   {
    "duration": 15,
    "start_time": "2022-05-19T10:52:05.826Z"
   },
   {
    "duration": 47,
    "start_time": "2022-05-19T10:52:05.843Z"
   },
   {
    "duration": 9,
    "start_time": "2022-05-19T10:52:05.892Z"
   },
   {
    "duration": 10,
    "start_time": "2022-05-19T10:52:05.902Z"
   },
   {
    "duration": 7,
    "start_time": "2022-05-19T10:52:05.914Z"
   },
   {
    "duration": 24,
    "start_time": "2022-05-19T10:52:05.967Z"
   },
   {
    "duration": 108,
    "start_time": "2022-05-19T10:56:23.122Z"
   },
   {
    "duration": 22,
    "start_time": "2022-05-19T10:56:23.233Z"
   },
   {
    "duration": 79,
    "start_time": "2022-05-19T10:56:23.257Z"
   },
   {
    "duration": 55,
    "start_time": "2022-05-19T10:56:23.339Z"
   },
   {
    "duration": 45,
    "start_time": "2022-05-19T10:56:23.397Z"
   },
   {
    "duration": 31,
    "start_time": "2022-05-19T10:56:23.444Z"
   },
   {
    "duration": 18,
    "start_time": "2022-05-19T10:56:23.477Z"
   },
   {
    "duration": 27,
    "start_time": "2022-05-19T10:56:23.497Z"
   },
   {
    "duration": 22,
    "start_time": "2022-05-19T10:56:23.526Z"
   },
   {
    "duration": 14,
    "start_time": "2022-05-19T10:56:23.551Z"
   },
   {
    "duration": 28,
    "start_time": "2022-05-19T10:56:23.566Z"
   },
   {
    "duration": 20,
    "start_time": "2022-05-19T10:56:23.596Z"
   },
   {
    "duration": 35,
    "start_time": "2022-05-19T10:56:23.619Z"
   },
   {
    "duration": 36,
    "start_time": "2022-05-19T10:56:23.656Z"
   },
   {
    "duration": 41,
    "start_time": "2022-05-19T10:56:23.696Z"
   },
   {
    "duration": 19,
    "start_time": "2022-05-19T10:56:23.740Z"
   },
   {
    "duration": 168,
    "start_time": "2022-05-19T10:56:23.763Z"
   },
   {
    "duration": 313,
    "start_time": "2022-05-19T10:56:23.935Z"
   },
   {
    "duration": 15,
    "start_time": "2022-05-19T10:56:24.250Z"
   },
   {
    "duration": 20,
    "start_time": "2022-05-19T10:56:24.268Z"
   },
   {
    "duration": 21,
    "start_time": "2022-05-19T10:56:24.291Z"
   },
   {
    "duration": 46,
    "start_time": "2022-05-19T10:56:24.314Z"
   },
   {
    "duration": 37,
    "start_time": "2022-05-19T10:56:24.363Z"
   },
   {
    "duration": 249,
    "start_time": "2022-05-19T10:56:24.403Z"
   },
   {
    "duration": 7,
    "start_time": "2022-05-19T10:56:24.654Z"
   },
   {
    "duration": 99,
    "start_time": "2022-05-19T10:56:24.663Z"
   },
   {
    "duration": 57,
    "start_time": "2022-05-19T10:56:24.764Z"
   },
   {
    "duration": 35,
    "start_time": "2022-05-19T10:56:24.828Z"
   },
   {
    "duration": 42,
    "start_time": "2022-05-19T10:56:24.866Z"
   },
   {
    "duration": 35,
    "start_time": "2022-05-19T10:56:24.911Z"
   },
   {
    "duration": 44,
    "start_time": "2022-05-19T10:56:24.948Z"
   },
   {
    "duration": 351,
    "start_time": "2022-05-19T10:56:24.994Z"
   },
   {
    "duration": 11,
    "start_time": "2022-05-19T10:56:25.347Z"
   },
   {
    "duration": 38,
    "start_time": "2022-05-19T10:56:25.361Z"
   },
   {
    "duration": 77,
    "start_time": "2022-05-19T10:56:25.402Z"
   },
   {
    "duration": 100,
    "start_time": "2022-05-19T10:56:25.481Z"
   },
   {
    "duration": 68,
    "start_time": "2022-05-19T10:56:25.583Z"
   },
   {
    "duration": 75,
    "start_time": "2022-05-19T10:56:25.653Z"
   },
   {
    "duration": 71,
    "start_time": "2022-05-19T10:56:25.730Z"
   },
   {
    "duration": 78,
    "start_time": "2022-05-19T10:56:25.803Z"
   },
   {
    "duration": 81,
    "start_time": "2022-05-19T10:56:25.883Z"
   },
   {
    "duration": 79,
    "start_time": "2022-05-19T10:56:25.966Z"
   },
   {
    "duration": 62,
    "start_time": "2022-05-19T10:56:26.050Z"
   },
   {
    "duration": 69,
    "start_time": "2022-05-19T10:56:26.115Z"
   },
   {
    "duration": 69,
    "start_time": "2022-05-19T10:56:26.186Z"
   },
   {
    "duration": 30,
    "start_time": "2022-05-19T10:56:26.258Z"
   },
   {
    "duration": 69,
    "start_time": "2022-05-19T10:56:26.290Z"
   },
   {
    "duration": 64,
    "start_time": "2022-05-19T10:56:26.362Z"
   },
   {
    "duration": 49,
    "start_time": "2022-05-19T10:56:26.428Z"
   },
   {
    "duration": 28,
    "start_time": "2022-05-19T10:56:26.479Z"
   },
   {
    "duration": 41,
    "start_time": "2022-05-19T10:56:26.509Z"
   },
   {
    "duration": 40,
    "start_time": "2022-05-19T10:56:26.551Z"
   },
   {
    "duration": 57,
    "start_time": "2022-05-19T10:56:26.592Z"
   },
   {
    "duration": 37,
    "start_time": "2022-05-19T10:56:26.652Z"
   },
   {
    "duration": 59,
    "start_time": "2022-05-19T10:56:26.691Z"
   },
   {
    "duration": 49,
    "start_time": "2022-05-19T10:56:26.752Z"
   },
   {
    "duration": 23,
    "start_time": "2022-05-19T10:56:26.803Z"
   },
   {
    "duration": 9,
    "start_time": "2022-05-19T10:56:26.828Z"
   },
   {
    "duration": 51,
    "start_time": "2022-05-19T10:56:26.839Z"
   },
   {
    "duration": 40,
    "start_time": "2022-05-19T10:56:26.892Z"
   },
   {
    "duration": 18,
    "start_time": "2022-05-19T10:56:31.156Z"
   },
   {
    "duration": 58,
    "start_time": "2022-05-19T13:28:52.242Z"
   },
   {
    "duration": 627,
    "start_time": "2022-05-19T13:29:25.294Z"
   },
   {
    "duration": 17,
    "start_time": "2022-05-19T13:29:25.923Z"
   },
   {
    "duration": 22,
    "start_time": "2022-05-19T13:29:25.942Z"
   },
   {
    "duration": 9,
    "start_time": "2022-05-19T13:29:25.966Z"
   },
   {
    "duration": 588,
    "start_time": "2022-05-19T13:29:25.978Z"
   },
   {
    "duration": 17,
    "start_time": "2022-05-19T13:29:43.942Z"
   },
   {
    "duration": 16,
    "start_time": "2022-05-19T13:30:08.812Z"
   },
   {
    "duration": 24,
    "start_time": "2022-05-19T13:31:10.443Z"
   },
   {
    "duration": 31,
    "start_time": "2022-05-19T13:34:54.372Z"
   },
   {
    "duration": 23,
    "start_time": "2022-05-19T13:34:56.931Z"
   },
   {
    "duration": 27,
    "start_time": "2022-05-19T13:38:02.809Z"
   },
   {
    "duration": 39,
    "start_time": "2022-05-19T13:45:47.727Z"
   },
   {
    "duration": 10,
    "start_time": "2022-05-19T13:46:48.227Z"
   },
   {
    "duration": 7,
    "start_time": "2022-05-19T13:46:50.778Z"
   },
   {
    "duration": 14,
    "start_time": "2022-05-19T13:47:27.377Z"
   },
   {
    "duration": 18,
    "start_time": "2022-05-19T13:48:25.167Z"
   },
   {
    "duration": 22,
    "start_time": "2022-05-19T13:50:10.458Z"
   },
   {
    "duration": 22,
    "start_time": "2022-05-19T13:50:25.846Z"
   },
   {
    "duration": 26,
    "start_time": "2022-05-19T13:51:14.717Z"
   },
   {
    "duration": 27,
    "start_time": "2022-05-19T13:51:38.276Z"
   },
   {
    "duration": 12,
    "start_time": "2022-05-19T13:58:57.845Z"
   },
   {
    "duration": 29,
    "start_time": "2022-05-19T14:05:43.334Z"
   },
   {
    "duration": 72,
    "start_time": "2022-05-19T14:05:54.992Z"
   },
   {
    "duration": 14,
    "start_time": "2022-05-19T14:05:55.066Z"
   },
   {
    "duration": 22,
    "start_time": "2022-05-19T14:05:55.082Z"
   },
   {
    "duration": 39,
    "start_time": "2022-05-19T14:05:55.105Z"
   },
   {
    "duration": 29,
    "start_time": "2022-05-19T14:05:55.146Z"
   },
   {
    "duration": 10,
    "start_time": "2022-05-19T14:05:55.176Z"
   },
   {
    "duration": 16,
    "start_time": "2022-05-19T14:05:55.187Z"
   },
   {
    "duration": 27,
    "start_time": "2022-05-19T14:06:12.084Z"
   },
   {
    "duration": 474,
    "start_time": "2022-05-19T14:06:38.759Z"
   },
   {
    "duration": 14,
    "start_time": "2022-05-19T14:06:39.235Z"
   },
   {
    "duration": 23,
    "start_time": "2022-05-19T14:06:39.250Z"
   },
   {
    "duration": 355,
    "start_time": "2022-05-19T14:06:39.274Z"
   },
   {
    "duration": 10,
    "start_time": "2022-05-19T14:06:39.631Z"
   },
   {
    "duration": 8,
    "start_time": "2022-05-19T14:06:39.643Z"
   },
   {
    "duration": 10,
    "start_time": "2022-05-19T14:06:39.653Z"
   },
   {
    "duration": 108,
    "start_time": "2022-05-19T14:06:39.665Z"
   },
   {
    "duration": 0,
    "start_time": "2022-05-19T14:06:39.776Z"
   },
   {
    "duration": 0,
    "start_time": "2022-05-19T14:06:39.777Z"
   },
   {
    "duration": 0,
    "start_time": "2022-05-19T14:06:39.778Z"
   },
   {
    "duration": 0,
    "start_time": "2022-05-19T14:06:39.780Z"
   },
   {
    "duration": 0,
    "start_time": "2022-05-19T14:06:39.781Z"
   },
   {
    "duration": 0,
    "start_time": "2022-05-19T14:06:39.782Z"
   },
   {
    "duration": 0,
    "start_time": "2022-05-19T14:06:39.783Z"
   },
   {
    "duration": 0,
    "start_time": "2022-05-19T14:06:39.784Z"
   },
   {
    "duration": 0,
    "start_time": "2022-05-19T14:06:39.785Z"
   },
   {
    "duration": 0,
    "start_time": "2022-05-19T14:06:39.786Z"
   },
   {
    "duration": 0,
    "start_time": "2022-05-19T14:06:39.786Z"
   },
   {
    "duration": 0,
    "start_time": "2022-05-19T14:06:39.787Z"
   },
   {
    "duration": 0,
    "start_time": "2022-05-19T14:06:39.789Z"
   },
   {
    "duration": 0,
    "start_time": "2022-05-19T14:06:39.789Z"
   },
   {
    "duration": 0,
    "start_time": "2022-05-19T14:06:39.791Z"
   },
   {
    "duration": 0,
    "start_time": "2022-05-19T14:06:39.792Z"
   },
   {
    "duration": 0,
    "start_time": "2022-05-19T14:06:39.792Z"
   },
   {
    "duration": 0,
    "start_time": "2022-05-19T14:06:39.793Z"
   },
   {
    "duration": 0,
    "start_time": "2022-05-19T14:06:39.795Z"
   },
   {
    "duration": 0,
    "start_time": "2022-05-19T14:06:39.795Z"
   },
   {
    "duration": 1,
    "start_time": "2022-05-19T14:06:39.825Z"
   },
   {
    "duration": 0,
    "start_time": "2022-05-19T14:06:39.827Z"
   },
   {
    "duration": 0,
    "start_time": "2022-05-19T14:06:39.828Z"
   },
   {
    "duration": 0,
    "start_time": "2022-05-19T14:06:39.829Z"
   },
   {
    "duration": 0,
    "start_time": "2022-05-19T14:06:39.830Z"
   },
   {
    "duration": 0,
    "start_time": "2022-05-19T14:06:39.831Z"
   },
   {
    "duration": 0,
    "start_time": "2022-05-19T14:06:39.832Z"
   },
   {
    "duration": 0,
    "start_time": "2022-05-19T14:06:39.833Z"
   },
   {
    "duration": 0,
    "start_time": "2022-05-19T14:06:39.834Z"
   },
   {
    "duration": 0,
    "start_time": "2022-05-19T14:06:39.835Z"
   },
   {
    "duration": 1,
    "start_time": "2022-05-19T14:06:39.836Z"
   },
   {
    "duration": 0,
    "start_time": "2022-05-19T14:06:39.837Z"
   },
   {
    "duration": 0,
    "start_time": "2022-05-19T14:06:39.839Z"
   },
   {
    "duration": 0,
    "start_time": "2022-05-19T14:06:39.840Z"
   },
   {
    "duration": 0,
    "start_time": "2022-05-19T14:06:39.841Z"
   },
   {
    "duration": 0,
    "start_time": "2022-05-19T14:06:39.842Z"
   },
   {
    "duration": 0,
    "start_time": "2022-05-19T14:06:39.842Z"
   },
   {
    "duration": 0,
    "start_time": "2022-05-19T14:06:39.843Z"
   },
   {
    "duration": 0,
    "start_time": "2022-05-19T14:06:39.845Z"
   },
   {
    "duration": 0,
    "start_time": "2022-05-19T14:06:39.845Z"
   },
   {
    "duration": 0,
    "start_time": "2022-05-19T14:06:39.847Z"
   },
   {
    "duration": 0,
    "start_time": "2022-05-19T14:06:39.848Z"
   },
   {
    "duration": 0,
    "start_time": "2022-05-19T14:06:39.849Z"
   },
   {
    "duration": 0,
    "start_time": "2022-05-19T14:06:39.850Z"
   },
   {
    "duration": 0,
    "start_time": "2022-05-19T14:06:39.852Z"
   },
   {
    "duration": 0,
    "start_time": "2022-05-19T14:06:39.852Z"
   },
   {
    "duration": 0,
    "start_time": "2022-05-19T14:06:39.853Z"
   },
   {
    "duration": 0,
    "start_time": "2022-05-19T14:06:39.854Z"
   },
   {
    "duration": 0,
    "start_time": "2022-05-19T14:06:39.855Z"
   },
   {
    "duration": 0,
    "start_time": "2022-05-19T14:06:39.856Z"
   },
   {
    "duration": 0,
    "start_time": "2022-05-19T14:06:39.857Z"
   },
   {
    "duration": 0,
    "start_time": "2022-05-19T14:06:39.858Z"
   },
   {
    "duration": 0,
    "start_time": "2022-05-19T14:06:39.859Z"
   },
   {
    "duration": 0,
    "start_time": "2022-05-19T14:06:39.860Z"
   },
   {
    "duration": 0,
    "start_time": "2022-05-19T14:06:39.861Z"
   },
   {
    "duration": 0,
    "start_time": "2022-05-19T14:06:39.926Z"
   },
   {
    "duration": 0,
    "start_time": "2022-05-19T14:06:39.927Z"
   },
   {
    "duration": 0,
    "start_time": "2022-05-19T14:06:39.929Z"
   },
   {
    "duration": 0,
    "start_time": "2022-05-19T14:06:39.930Z"
   },
   {
    "duration": 0,
    "start_time": "2022-05-19T14:06:39.931Z"
   },
   {
    "duration": 0,
    "start_time": "2022-05-19T14:06:39.932Z"
   },
   {
    "duration": 0,
    "start_time": "2022-05-19T14:06:39.933Z"
   },
   {
    "duration": 0,
    "start_time": "2022-05-19T14:06:39.935Z"
   },
   {
    "duration": 0,
    "start_time": "2022-05-19T14:06:39.936Z"
   },
   {
    "duration": 0,
    "start_time": "2022-05-19T14:06:39.937Z"
   },
   {
    "duration": 0,
    "start_time": "2022-05-19T14:06:39.938Z"
   },
   {
    "duration": 0,
    "start_time": "2022-05-19T14:06:39.939Z"
   },
   {
    "duration": 0,
    "start_time": "2022-05-19T14:06:39.940Z"
   },
   {
    "duration": 31,
    "start_time": "2022-05-19T14:06:54.060Z"
   },
   {
    "duration": 11,
    "start_time": "2022-05-19T14:17:01.158Z"
   },
   {
    "duration": 5,
    "start_time": "2022-05-19T14:17:11.958Z"
   },
   {
    "duration": 477,
    "start_time": "2022-05-19T14:17:32.968Z"
   },
   {
    "duration": 11,
    "start_time": "2022-05-19T14:17:53.488Z"
   },
   {
    "duration": 504,
    "start_time": "2022-05-19T14:18:07.042Z"
   },
   {
    "duration": 14,
    "start_time": "2022-05-19T14:18:07.548Z"
   },
   {
    "duration": 22,
    "start_time": "2022-05-19T14:18:07.564Z"
   },
   {
    "duration": 363,
    "start_time": "2022-05-19T14:18:07.588Z"
   },
   {
    "duration": 11,
    "start_time": "2022-05-19T14:18:07.954Z"
   },
   {
    "duration": 11,
    "start_time": "2022-05-19T14:18:07.967Z"
   },
   {
    "duration": 6,
    "start_time": "2022-05-19T14:18:07.980Z"
   },
   {
    "duration": 56,
    "start_time": "2022-05-19T14:18:07.988Z"
   },
   {
    "duration": 33,
    "start_time": "2022-05-19T14:18:08.046Z"
   },
   {
    "duration": 106,
    "start_time": "2022-05-19T14:18:08.081Z"
   },
   {
    "duration": 0,
    "start_time": "2022-05-19T14:18:08.192Z"
   },
   {
    "duration": 0,
    "start_time": "2022-05-19T14:18:08.193Z"
   },
   {
    "duration": 1,
    "start_time": "2022-05-19T14:18:08.194Z"
   },
   {
    "duration": 0,
    "start_time": "2022-05-19T14:18:08.196Z"
   },
   {
    "duration": 0,
    "start_time": "2022-05-19T14:18:08.198Z"
   },
   {
    "duration": 0,
    "start_time": "2022-05-19T14:18:08.199Z"
   },
   {
    "duration": 0,
    "start_time": "2022-05-19T14:18:08.200Z"
   },
   {
    "duration": 0,
    "start_time": "2022-05-19T14:18:08.202Z"
   },
   {
    "duration": 0,
    "start_time": "2022-05-19T14:18:08.203Z"
   },
   {
    "duration": 0,
    "start_time": "2022-05-19T14:18:08.204Z"
   },
   {
    "duration": 0,
    "start_time": "2022-05-19T14:18:08.226Z"
   },
   {
    "duration": 0,
    "start_time": "2022-05-19T14:18:08.227Z"
   },
   {
    "duration": 0,
    "start_time": "2022-05-19T14:18:08.228Z"
   },
   {
    "duration": 0,
    "start_time": "2022-05-19T14:18:08.229Z"
   },
   {
    "duration": 0,
    "start_time": "2022-05-19T14:18:08.230Z"
   },
   {
    "duration": 0,
    "start_time": "2022-05-19T14:18:08.231Z"
   },
   {
    "duration": 0,
    "start_time": "2022-05-19T14:18:08.232Z"
   },
   {
    "duration": 0,
    "start_time": "2022-05-19T14:18:08.234Z"
   },
   {
    "duration": 0,
    "start_time": "2022-05-19T14:18:08.234Z"
   },
   {
    "duration": 0,
    "start_time": "2022-05-19T14:18:08.235Z"
   },
   {
    "duration": 0,
    "start_time": "2022-05-19T14:18:08.236Z"
   },
   {
    "duration": 0,
    "start_time": "2022-05-19T14:18:08.237Z"
   },
   {
    "duration": 0,
    "start_time": "2022-05-19T14:18:08.238Z"
   },
   {
    "duration": 0,
    "start_time": "2022-05-19T14:18:08.239Z"
   },
   {
    "duration": 0,
    "start_time": "2022-05-19T14:18:08.241Z"
   },
   {
    "duration": 0,
    "start_time": "2022-05-19T14:18:08.242Z"
   },
   {
    "duration": 0,
    "start_time": "2022-05-19T14:18:08.243Z"
   },
   {
    "duration": 0,
    "start_time": "2022-05-19T14:18:08.244Z"
   },
   {
    "duration": 0,
    "start_time": "2022-05-19T14:18:08.245Z"
   },
   {
    "duration": 0,
    "start_time": "2022-05-19T14:18:08.246Z"
   },
   {
    "duration": 0,
    "start_time": "2022-05-19T14:18:08.247Z"
   },
   {
    "duration": 0,
    "start_time": "2022-05-19T14:18:08.248Z"
   },
   {
    "duration": 0,
    "start_time": "2022-05-19T14:18:08.249Z"
   },
   {
    "duration": 0,
    "start_time": "2022-05-19T14:18:08.250Z"
   },
   {
    "duration": 0,
    "start_time": "2022-05-19T14:18:08.251Z"
   },
   {
    "duration": 0,
    "start_time": "2022-05-19T14:18:08.251Z"
   },
   {
    "duration": 0,
    "start_time": "2022-05-19T14:18:08.253Z"
   },
   {
    "duration": 0,
    "start_time": "2022-05-19T14:18:08.254Z"
   },
   {
    "duration": 0,
    "start_time": "2022-05-19T14:18:08.255Z"
   },
   {
    "duration": 0,
    "start_time": "2022-05-19T14:18:08.256Z"
   },
   {
    "duration": 0,
    "start_time": "2022-05-19T14:18:08.257Z"
   },
   {
    "duration": 0,
    "start_time": "2022-05-19T14:18:08.258Z"
   },
   {
    "duration": 0,
    "start_time": "2022-05-19T14:18:08.259Z"
   },
   {
    "duration": 0,
    "start_time": "2022-05-19T14:18:08.260Z"
   },
   {
    "duration": 0,
    "start_time": "2022-05-19T14:18:08.261Z"
   },
   {
    "duration": 0,
    "start_time": "2022-05-19T14:18:08.327Z"
   },
   {
    "duration": 0,
    "start_time": "2022-05-19T14:18:08.329Z"
   },
   {
    "duration": 0,
    "start_time": "2022-05-19T14:18:08.330Z"
   },
   {
    "duration": 0,
    "start_time": "2022-05-19T14:18:08.331Z"
   },
   {
    "duration": 0,
    "start_time": "2022-05-19T14:18:08.332Z"
   },
   {
    "duration": 0,
    "start_time": "2022-05-19T14:18:08.333Z"
   },
   {
    "duration": 0,
    "start_time": "2022-05-19T14:18:08.334Z"
   },
   {
    "duration": 0,
    "start_time": "2022-05-19T14:18:08.335Z"
   },
   {
    "duration": 0,
    "start_time": "2022-05-19T14:18:08.336Z"
   },
   {
    "duration": 0,
    "start_time": "2022-05-19T14:18:08.337Z"
   },
   {
    "duration": 0,
    "start_time": "2022-05-19T14:18:08.338Z"
   },
   {
    "duration": 0,
    "start_time": "2022-05-19T14:18:08.339Z"
   },
   {
    "duration": 0,
    "start_time": "2022-05-19T14:18:08.340Z"
   },
   {
    "duration": 0,
    "start_time": "2022-05-19T14:18:08.341Z"
   },
   {
    "duration": 0,
    "start_time": "2022-05-19T14:18:08.342Z"
   },
   {
    "duration": 0,
    "start_time": "2022-05-19T14:18:08.343Z"
   },
   {
    "duration": 0,
    "start_time": "2022-05-19T14:18:08.344Z"
   },
   {
    "duration": 0,
    "start_time": "2022-05-19T14:18:08.345Z"
   },
   {
    "duration": 0,
    "start_time": "2022-05-19T14:18:08.346Z"
   },
   {
    "duration": 0,
    "start_time": "2022-05-19T14:18:08.346Z"
   },
   {
    "duration": 0,
    "start_time": "2022-05-19T14:18:08.347Z"
   },
   {
    "duration": 0,
    "start_time": "2022-05-19T14:18:08.348Z"
   },
   {
    "duration": 11,
    "start_time": "2022-05-19T14:18:40.702Z"
   },
   {
    "duration": 515,
    "start_time": "2022-05-19T14:18:50.432Z"
   },
   {
    "duration": 15,
    "start_time": "2022-05-19T14:18:50.949Z"
   },
   {
    "duration": 31,
    "start_time": "2022-05-19T14:18:50.965Z"
   },
   {
    "duration": 337,
    "start_time": "2022-05-19T14:18:50.997Z"
   },
   {
    "duration": 11,
    "start_time": "2022-05-19T14:18:51.337Z"
   },
   {
    "duration": 14,
    "start_time": "2022-05-19T14:18:51.350Z"
   },
   {
    "duration": 6,
    "start_time": "2022-05-19T14:18:51.366Z"
   },
   {
    "duration": 58,
    "start_time": "2022-05-19T14:18:51.374Z"
   },
   {
    "duration": 31,
    "start_time": "2022-05-19T14:18:51.434Z"
   },
   {
    "duration": 101,
    "start_time": "2022-05-19T14:18:51.467Z"
   },
   {
    "duration": 0,
    "start_time": "2022-05-19T14:18:51.571Z"
   },
   {
    "duration": 0,
    "start_time": "2022-05-19T14:18:51.573Z"
   },
   {
    "duration": 0,
    "start_time": "2022-05-19T14:18:51.574Z"
   },
   {
    "duration": 0,
    "start_time": "2022-05-19T14:18:51.575Z"
   },
   {
    "duration": 0,
    "start_time": "2022-05-19T14:18:51.576Z"
   },
   {
    "duration": 0,
    "start_time": "2022-05-19T14:18:51.577Z"
   },
   {
    "duration": 0,
    "start_time": "2022-05-19T14:18:51.578Z"
   },
   {
    "duration": 0,
    "start_time": "2022-05-19T14:18:51.579Z"
   },
   {
    "duration": 0,
    "start_time": "2022-05-19T14:18:51.580Z"
   },
   {
    "duration": 0,
    "start_time": "2022-05-19T14:18:51.581Z"
   },
   {
    "duration": 0,
    "start_time": "2022-05-19T14:18:51.582Z"
   },
   {
    "duration": 0,
    "start_time": "2022-05-19T14:18:51.583Z"
   },
   {
    "duration": 0,
    "start_time": "2022-05-19T14:18:51.584Z"
   },
   {
    "duration": 0,
    "start_time": "2022-05-19T14:18:51.585Z"
   },
   {
    "duration": 0,
    "start_time": "2022-05-19T14:18:51.586Z"
   },
   {
    "duration": 0,
    "start_time": "2022-05-19T14:18:51.587Z"
   },
   {
    "duration": 0,
    "start_time": "2022-05-19T14:18:51.589Z"
   },
   {
    "duration": 0,
    "start_time": "2022-05-19T14:18:51.590Z"
   },
   {
    "duration": 0,
    "start_time": "2022-05-19T14:18:51.626Z"
   },
   {
    "duration": 0,
    "start_time": "2022-05-19T14:18:51.628Z"
   },
   {
    "duration": 0,
    "start_time": "2022-05-19T14:18:51.628Z"
   },
   {
    "duration": 0,
    "start_time": "2022-05-19T14:18:51.630Z"
   },
   {
    "duration": 0,
    "start_time": "2022-05-19T14:18:51.631Z"
   },
   {
    "duration": 0,
    "start_time": "2022-05-19T14:18:51.632Z"
   },
   {
    "duration": 0,
    "start_time": "2022-05-19T14:18:51.633Z"
   },
   {
    "duration": 0,
    "start_time": "2022-05-19T14:18:51.634Z"
   },
   {
    "duration": 0,
    "start_time": "2022-05-19T14:18:51.635Z"
   },
   {
    "duration": 0,
    "start_time": "2022-05-19T14:18:51.636Z"
   },
   {
    "duration": 0,
    "start_time": "2022-05-19T14:18:51.637Z"
   },
   {
    "duration": 0,
    "start_time": "2022-05-19T14:18:51.638Z"
   },
   {
    "duration": 0,
    "start_time": "2022-05-19T14:18:51.639Z"
   },
   {
    "duration": 0,
    "start_time": "2022-05-19T14:18:51.639Z"
   },
   {
    "duration": 0,
    "start_time": "2022-05-19T14:18:51.640Z"
   },
   {
    "duration": 0,
    "start_time": "2022-05-19T14:18:51.641Z"
   },
   {
    "duration": 0,
    "start_time": "2022-05-19T14:18:51.642Z"
   },
   {
    "duration": 0,
    "start_time": "2022-05-19T14:18:51.643Z"
   },
   {
    "duration": 0,
    "start_time": "2022-05-19T14:18:51.644Z"
   },
   {
    "duration": 0,
    "start_time": "2022-05-19T14:18:51.646Z"
   },
   {
    "duration": 0,
    "start_time": "2022-05-19T14:18:51.647Z"
   },
   {
    "duration": 0,
    "start_time": "2022-05-19T14:18:51.647Z"
   },
   {
    "duration": 0,
    "start_time": "2022-05-19T14:18:51.648Z"
   },
   {
    "duration": 0,
    "start_time": "2022-05-19T14:18:51.650Z"
   },
   {
    "duration": 0,
    "start_time": "2022-05-19T14:18:51.651Z"
   },
   {
    "duration": 0,
    "start_time": "2022-05-19T14:18:51.652Z"
   },
   {
    "duration": 0,
    "start_time": "2022-05-19T14:18:51.653Z"
   },
   {
    "duration": 0,
    "start_time": "2022-05-19T14:18:51.654Z"
   },
   {
    "duration": 0,
    "start_time": "2022-05-19T14:18:51.655Z"
   },
   {
    "duration": 0,
    "start_time": "2022-05-19T14:18:51.657Z"
   },
   {
    "duration": 0,
    "start_time": "2022-05-19T14:18:51.658Z"
   },
   {
    "duration": 0,
    "start_time": "2022-05-19T14:18:51.659Z"
   },
   {
    "duration": 0,
    "start_time": "2022-05-19T14:18:51.661Z"
   },
   {
    "duration": 0,
    "start_time": "2022-05-19T14:18:51.662Z"
   },
   {
    "duration": 0,
    "start_time": "2022-05-19T14:18:51.727Z"
   },
   {
    "duration": 0,
    "start_time": "2022-05-19T14:18:51.728Z"
   },
   {
    "duration": 0,
    "start_time": "2022-05-19T14:18:51.730Z"
   },
   {
    "duration": 0,
    "start_time": "2022-05-19T14:18:51.731Z"
   },
   {
    "duration": 0,
    "start_time": "2022-05-19T14:18:51.733Z"
   },
   {
    "duration": 0,
    "start_time": "2022-05-19T14:18:51.734Z"
   },
   {
    "duration": 0,
    "start_time": "2022-05-19T14:18:51.736Z"
   },
   {
    "duration": 0,
    "start_time": "2022-05-19T14:18:51.737Z"
   },
   {
    "duration": 0,
    "start_time": "2022-05-19T14:18:51.738Z"
   },
   {
    "duration": 1,
    "start_time": "2022-05-19T14:18:51.739Z"
   },
   {
    "duration": 0,
    "start_time": "2022-05-19T14:18:51.741Z"
   },
   {
    "duration": 0,
    "start_time": "2022-05-19T14:18:51.742Z"
   },
   {
    "duration": 0,
    "start_time": "2022-05-19T14:18:51.744Z"
   },
   {
    "duration": 0,
    "start_time": "2022-05-19T14:18:51.745Z"
   },
   {
    "duration": 0,
    "start_time": "2022-05-19T14:18:51.747Z"
   },
   {
    "duration": 537,
    "start_time": "2022-05-19T14:23:20.021Z"
   },
   {
    "duration": 16,
    "start_time": "2022-05-19T14:23:20.560Z"
   },
   {
    "duration": 23,
    "start_time": "2022-05-19T14:23:20.578Z"
   },
   {
    "duration": 372,
    "start_time": "2022-05-19T14:23:20.603Z"
   },
   {
    "duration": 13,
    "start_time": "2022-05-19T14:23:20.977Z"
   },
   {
    "duration": 21,
    "start_time": "2022-05-19T14:23:20.992Z"
   },
   {
    "duration": 7,
    "start_time": "2022-05-19T14:23:21.027Z"
   },
   {
    "duration": 33,
    "start_time": "2022-05-19T14:23:21.035Z"
   },
   {
    "duration": 43,
    "start_time": "2022-05-19T14:23:21.070Z"
   },
   {
    "duration": 83,
    "start_time": "2022-05-19T14:23:21.128Z"
   },
   {
    "duration": 0,
    "start_time": "2022-05-19T14:23:21.230Z"
   },
   {
    "duration": 0,
    "start_time": "2022-05-19T14:23:21.231Z"
   },
   {
    "duration": 0,
    "start_time": "2022-05-19T14:23:21.232Z"
   },
   {
    "duration": 0,
    "start_time": "2022-05-19T14:23:21.234Z"
   },
   {
    "duration": 0,
    "start_time": "2022-05-19T14:23:21.236Z"
   },
   {
    "duration": 0,
    "start_time": "2022-05-19T14:23:21.237Z"
   },
   {
    "duration": 0,
    "start_time": "2022-05-19T14:23:21.238Z"
   },
   {
    "duration": 0,
    "start_time": "2022-05-19T14:23:21.240Z"
   },
   {
    "duration": 0,
    "start_time": "2022-05-19T14:23:21.241Z"
   },
   {
    "duration": 0,
    "start_time": "2022-05-19T14:23:21.244Z"
   },
   {
    "duration": 0,
    "start_time": "2022-05-19T14:23:21.246Z"
   },
   {
    "duration": 0,
    "start_time": "2022-05-19T14:23:21.247Z"
   },
   {
    "duration": 0,
    "start_time": "2022-05-19T14:23:21.248Z"
   },
   {
    "duration": 0,
    "start_time": "2022-05-19T14:23:21.250Z"
   },
   {
    "duration": 0,
    "start_time": "2022-05-19T14:23:21.251Z"
   },
   {
    "duration": 0,
    "start_time": "2022-05-19T14:23:21.252Z"
   },
   {
    "duration": 0,
    "start_time": "2022-05-19T14:23:21.252Z"
   },
   {
    "duration": 0,
    "start_time": "2022-05-19T14:23:21.253Z"
   },
   {
    "duration": 0,
    "start_time": "2022-05-19T14:23:21.254Z"
   },
   {
    "duration": 0,
    "start_time": "2022-05-19T14:23:21.254Z"
   },
   {
    "duration": 0,
    "start_time": "2022-05-19T14:23:21.255Z"
   },
   {
    "duration": 0,
    "start_time": "2022-05-19T14:23:21.256Z"
   },
   {
    "duration": 0,
    "start_time": "2022-05-19T14:23:21.257Z"
   },
   {
    "duration": 0,
    "start_time": "2022-05-19T14:23:21.260Z"
   },
   {
    "duration": 0,
    "start_time": "2022-05-19T14:23:21.261Z"
   },
   {
    "duration": 0,
    "start_time": "2022-05-19T14:23:21.262Z"
   },
   {
    "duration": 0,
    "start_time": "2022-05-19T14:23:21.264Z"
   },
   {
    "duration": 0,
    "start_time": "2022-05-19T14:23:21.265Z"
   },
   {
    "duration": 0,
    "start_time": "2022-05-19T14:23:21.266Z"
   },
   {
    "duration": 0,
    "start_time": "2022-05-19T14:23:21.267Z"
   },
   {
    "duration": 0,
    "start_time": "2022-05-19T14:23:21.268Z"
   },
   {
    "duration": 0,
    "start_time": "2022-05-19T14:23:21.269Z"
   },
   {
    "duration": 0,
    "start_time": "2022-05-19T14:23:21.270Z"
   },
   {
    "duration": 0,
    "start_time": "2022-05-19T14:23:21.271Z"
   },
   {
    "duration": 0,
    "start_time": "2022-05-19T14:23:21.272Z"
   },
   {
    "duration": 0,
    "start_time": "2022-05-19T14:23:21.329Z"
   },
   {
    "duration": 0,
    "start_time": "2022-05-19T14:23:21.330Z"
   },
   {
    "duration": 0,
    "start_time": "2022-05-19T14:23:21.332Z"
   },
   {
    "duration": 1,
    "start_time": "2022-05-19T14:23:21.332Z"
   },
   {
    "duration": 0,
    "start_time": "2022-05-19T14:23:21.334Z"
   },
   {
    "duration": 0,
    "start_time": "2022-05-19T14:23:21.335Z"
   },
   {
    "duration": 0,
    "start_time": "2022-05-19T14:23:21.336Z"
   },
   {
    "duration": 0,
    "start_time": "2022-05-19T14:23:21.337Z"
   },
   {
    "duration": 0,
    "start_time": "2022-05-19T14:23:21.338Z"
   },
   {
    "duration": 0,
    "start_time": "2022-05-19T14:23:21.339Z"
   },
   {
    "duration": 0,
    "start_time": "2022-05-19T14:23:21.340Z"
   },
   {
    "duration": 0,
    "start_time": "2022-05-19T14:23:21.342Z"
   },
   {
    "duration": 0,
    "start_time": "2022-05-19T14:23:21.343Z"
   },
   {
    "duration": 0,
    "start_time": "2022-05-19T14:23:21.344Z"
   },
   {
    "duration": 0,
    "start_time": "2022-05-19T14:23:21.345Z"
   },
   {
    "duration": 0,
    "start_time": "2022-05-19T14:23:21.346Z"
   },
   {
    "duration": 0,
    "start_time": "2022-05-19T14:23:21.347Z"
   },
   {
    "duration": 0,
    "start_time": "2022-05-19T14:23:21.348Z"
   },
   {
    "duration": 0,
    "start_time": "2022-05-19T14:23:21.350Z"
   },
   {
    "duration": 1,
    "start_time": "2022-05-19T14:23:21.351Z"
   },
   {
    "duration": 0,
    "start_time": "2022-05-19T14:23:21.353Z"
   },
   {
    "duration": 0,
    "start_time": "2022-05-19T14:23:21.354Z"
   },
   {
    "duration": 0,
    "start_time": "2022-05-19T14:23:21.355Z"
   },
   {
    "duration": 0,
    "start_time": "2022-05-19T14:23:21.356Z"
   },
   {
    "duration": 0,
    "start_time": "2022-05-19T14:23:21.357Z"
   },
   {
    "duration": 0,
    "start_time": "2022-05-19T14:23:21.359Z"
   },
   {
    "duration": 0,
    "start_time": "2022-05-19T14:23:21.360Z"
   },
   {
    "duration": 0,
    "start_time": "2022-05-19T14:23:21.361Z"
   },
   {
    "duration": 0,
    "start_time": "2022-05-19T14:23:21.362Z"
   },
   {
    "duration": 0,
    "start_time": "2022-05-19T14:23:21.364Z"
   },
   {
    "duration": 1,
    "start_time": "2022-05-19T14:23:21.365Z"
   },
   {
    "duration": 0,
    "start_time": "2022-05-19T14:23:21.425Z"
   },
   {
    "duration": 867,
    "start_time": "2022-05-20T09:57:26.299Z"
   },
   {
    "duration": 16,
    "start_time": "2022-05-20T09:57:27.168Z"
   },
   {
    "duration": 26,
    "start_time": "2022-05-20T09:57:27.186Z"
   },
   {
    "duration": 586,
    "start_time": "2022-05-20T09:57:27.214Z"
   },
   {
    "duration": 12,
    "start_time": "2022-05-20T09:57:27.802Z"
   },
   {
    "duration": 23,
    "start_time": "2022-05-20T09:57:27.816Z"
   },
   {
    "duration": 6,
    "start_time": "2022-05-20T09:57:27.841Z"
   },
   {
    "duration": 20,
    "start_time": "2022-05-20T09:57:27.849Z"
   },
   {
    "duration": 38,
    "start_time": "2022-05-20T09:57:27.894Z"
   },
   {
    "duration": 9,
    "start_time": "2022-05-20T09:57:27.936Z"
   },
   {
    "duration": 8,
    "start_time": "2022-05-20T09:57:27.947Z"
   },
   {
    "duration": 39,
    "start_time": "2022-05-20T09:57:27.957Z"
   },
   {
    "duration": 7,
    "start_time": "2022-05-20T09:57:27.998Z"
   },
   {
    "duration": 15,
    "start_time": "2022-05-20T09:57:28.007Z"
   },
   {
    "duration": 17,
    "start_time": "2022-05-20T09:57:28.024Z"
   },
   {
    "duration": 27,
    "start_time": "2022-05-20T09:57:28.043Z"
   },
   {
    "duration": 29,
    "start_time": "2022-05-20T09:57:28.073Z"
   },
   {
    "duration": 185,
    "start_time": "2022-05-20T09:57:28.104Z"
   },
   {
    "duration": 543,
    "start_time": "2022-05-20T09:57:28.291Z"
   },
   {
    "duration": 59,
    "start_time": "2022-05-20T09:57:28.836Z"
   },
   {
    "duration": 6,
    "start_time": "2022-05-20T09:57:28.897Z"
   },
   {
    "duration": 12,
    "start_time": "2022-05-20T09:57:28.905Z"
   },
   {
    "duration": 23,
    "start_time": "2022-05-20T09:57:28.918Z"
   },
   {
    "duration": 52,
    "start_time": "2022-05-20T09:57:28.943Z"
   },
   {
    "duration": 421,
    "start_time": "2022-05-20T09:57:28.997Z"
   },
   {
    "duration": 7,
    "start_time": "2022-05-20T09:57:29.419Z"
   },
   {
    "duration": 7,
    "start_time": "2022-05-20T09:57:29.428Z"
   },
   {
    "duration": 6,
    "start_time": "2022-05-20T09:57:29.494Z"
   },
   {
    "duration": 9,
    "start_time": "2022-05-20T09:57:29.502Z"
   },
   {
    "duration": 17,
    "start_time": "2022-05-20T09:57:29.513Z"
   },
   {
    "duration": 65,
    "start_time": "2022-05-20T09:57:29.531Z"
   },
   {
    "duration": 13,
    "start_time": "2022-05-20T09:57:29.598Z"
   },
   {
    "duration": 523,
    "start_time": "2022-05-20T09:57:29.613Z"
   },
   {
    "duration": 62,
    "start_time": "2022-05-20T09:57:30.137Z"
   },
   {
    "duration": 5,
    "start_time": "2022-05-20T09:57:30.201Z"
   },
   {
    "duration": 12,
    "start_time": "2022-05-20T09:57:30.208Z"
   },
   {
    "duration": 11,
    "start_time": "2022-05-20T09:57:30.222Z"
   },
   {
    "duration": 65,
    "start_time": "2022-05-20T09:57:30.235Z"
   },
   {
    "duration": 11,
    "start_time": "2022-05-20T09:57:30.302Z"
   },
   {
    "duration": 15,
    "start_time": "2022-05-20T09:57:30.315Z"
   },
   {
    "duration": 70,
    "start_time": "2022-05-20T09:57:30.332Z"
   },
   {
    "duration": 25,
    "start_time": "2022-05-20T09:57:30.404Z"
   },
   {
    "duration": 19,
    "start_time": "2022-05-20T09:57:30.430Z"
   },
   {
    "duration": 47,
    "start_time": "2022-05-20T09:57:30.451Z"
   },
   {
    "duration": 7,
    "start_time": "2022-05-20T09:57:30.499Z"
   },
   {
    "duration": 10,
    "start_time": "2022-05-20T09:57:30.508Z"
   },
   {
    "duration": 13,
    "start_time": "2022-05-20T09:57:30.520Z"
   },
   {
    "duration": 28,
    "start_time": "2022-05-20T09:57:30.535Z"
   },
   {
    "duration": 5,
    "start_time": "2022-05-20T09:57:30.566Z"
   },
   {
    "duration": 24,
    "start_time": "2022-05-20T09:57:30.573Z"
   },
   {
    "duration": 10,
    "start_time": "2022-05-20T09:57:30.599Z"
   },
   {
    "duration": 19,
    "start_time": "2022-05-20T09:57:30.611Z"
   },
   {
    "duration": 17,
    "start_time": "2022-05-20T09:57:30.632Z"
   },
   {
    "duration": 12,
    "start_time": "2022-05-20T09:57:30.651Z"
   },
   {
    "duration": 34,
    "start_time": "2022-05-20T09:57:30.665Z"
   },
   {
    "duration": 7,
    "start_time": "2022-05-20T09:57:30.701Z"
   },
   {
    "duration": 21,
    "start_time": "2022-05-20T09:57:30.710Z"
   },
   {
    "duration": 19,
    "start_time": "2022-05-20T09:57:30.733Z"
   },
   {
    "duration": 10,
    "start_time": "2022-05-20T09:57:30.754Z"
   },
   {
    "duration": 38,
    "start_time": "2022-05-20T09:57:30.765Z"
   },
   {
    "duration": 20,
    "start_time": "2022-05-20T09:57:30.805Z"
   },
   {
    "duration": 25,
    "start_time": "2022-05-20T09:57:30.826Z"
   },
   {
    "duration": 15,
    "start_time": "2022-05-20T09:57:30.853Z"
   },
   {
    "duration": 31,
    "start_time": "2022-05-20T09:57:30.870Z"
   },
   {
    "duration": 31,
    "start_time": "2022-05-20T09:57:30.903Z"
   },
   {
    "duration": 11,
    "start_time": "2022-05-20T09:57:30.936Z"
   },
   {
    "duration": 28,
    "start_time": "2022-05-20T09:57:30.949Z"
   },
   {
    "duration": 17,
    "start_time": "2022-05-20T09:57:30.979Z"
   },
   {
    "duration": 22,
    "start_time": "2022-05-20T09:57:30.998Z"
   },
   {
    "duration": 7,
    "start_time": "2022-05-20T09:57:31.022Z"
   },
   {
    "duration": 11,
    "start_time": "2022-05-20T09:57:31.030Z"
   },
   {
    "duration": 25,
    "start_time": "2022-05-20T09:57:31.043Z"
   },
   {
    "duration": 44,
    "start_time": "2022-05-20T09:57:31.069Z"
   },
   {
    "duration": 6,
    "start_time": "2022-05-20T09:57:31.115Z"
   },
   {
    "duration": 16,
    "start_time": "2022-05-20T09:57:31.123Z"
   },
   {
    "duration": 22,
    "start_time": "2022-05-20T09:57:31.141Z"
   },
   {
    "duration": 40,
    "start_time": "2022-05-20T10:01:17.111Z"
   },
   {
    "duration": 592,
    "start_time": "2022-05-20T10:01:29.322Z"
   },
   {
    "duration": 16,
    "start_time": "2022-05-20T10:01:29.916Z"
   },
   {
    "duration": 30,
    "start_time": "2022-05-20T10:01:29.933Z"
   },
   {
    "duration": 382,
    "start_time": "2022-05-20T10:01:29.965Z"
   },
   {
    "duration": 13,
    "start_time": "2022-05-20T10:01:30.349Z"
   },
   {
    "duration": 35,
    "start_time": "2022-05-20T10:01:30.364Z"
   },
   {
    "duration": 8,
    "start_time": "2022-05-20T10:01:30.400Z"
   },
   {
    "duration": 28,
    "start_time": "2022-05-20T10:01:30.410Z"
   },
   {
    "duration": 55,
    "start_time": "2022-05-20T10:01:30.440Z"
   },
   {
    "duration": 10,
    "start_time": "2022-05-20T10:01:30.496Z"
   },
   {
    "duration": 32,
    "start_time": "2022-05-20T10:01:30.507Z"
   },
   {
    "duration": 22,
    "start_time": "2022-05-20T10:01:30.541Z"
   },
   {
    "duration": 30,
    "start_time": "2022-05-20T10:01:30.568Z"
   },
   {
    "duration": 48,
    "start_time": "2022-05-20T10:01:30.603Z"
   },
   {
    "duration": 16,
    "start_time": "2022-05-20T10:01:30.654Z"
   },
   {
    "duration": 52,
    "start_time": "2022-05-20T10:01:30.672Z"
   },
   {
    "duration": 56,
    "start_time": "2022-05-20T10:01:30.726Z"
   },
   {
    "duration": 15,
    "start_time": "2022-05-20T10:01:30.794Z"
   },
   {
    "duration": 298,
    "start_time": "2022-05-20T10:01:30.812Z"
   },
   {
    "duration": 582,
    "start_time": "2022-05-20T10:01:31.112Z"
   },
   {
    "duration": 7,
    "start_time": "2022-05-20T10:01:31.697Z"
   },
   {
    "duration": 30,
    "start_time": "2022-05-20T10:01:31.706Z"
   },
   {
    "duration": 58,
    "start_time": "2022-05-20T10:01:31.738Z"
   },
   {
    "duration": 14,
    "start_time": "2022-05-20T10:01:31.798Z"
   },
   {
    "duration": 31,
    "start_time": "2022-05-20T10:01:31.813Z"
   },
   {
    "duration": 481,
    "start_time": "2022-05-20T10:01:31.846Z"
   },
   {
    "duration": 6,
    "start_time": "2022-05-20T10:01:32.328Z"
   },
   {
    "duration": 61,
    "start_time": "2022-05-20T10:01:32.335Z"
   },
   {
    "duration": 25,
    "start_time": "2022-05-20T10:01:32.398Z"
   },
   {
    "duration": 22,
    "start_time": "2022-05-20T10:01:32.425Z"
   },
   {
    "duration": 64,
    "start_time": "2022-05-20T10:01:32.449Z"
   },
   {
    "duration": 20,
    "start_time": "2022-05-20T10:01:32.514Z"
   },
   {
    "duration": 64,
    "start_time": "2022-05-20T10:01:32.536Z"
   },
   {
    "duration": 458,
    "start_time": "2022-05-20T10:01:32.602Z"
   },
   {
    "duration": 11,
    "start_time": "2022-05-20T10:01:33.061Z"
   },
   {
    "duration": 22,
    "start_time": "2022-05-20T10:01:33.073Z"
   },
   {
    "duration": 13,
    "start_time": "2022-05-20T10:01:33.097Z"
   },
   {
    "duration": 15,
    "start_time": "2022-05-20T10:01:33.112Z"
   },
   {
    "duration": 30,
    "start_time": "2022-05-20T10:01:33.129Z"
   },
   {
    "duration": 15,
    "start_time": "2022-05-20T10:01:33.161Z"
   },
   {
    "duration": 21,
    "start_time": "2022-05-20T10:01:33.181Z"
   },
   {
    "duration": 25,
    "start_time": "2022-05-20T10:01:33.204Z"
   },
   {
    "duration": 30,
    "start_time": "2022-05-20T10:01:33.232Z"
   },
   {
    "duration": 18,
    "start_time": "2022-05-20T10:01:33.264Z"
   },
   {
    "duration": 21,
    "start_time": "2022-05-20T10:01:33.284Z"
   },
   {
    "duration": 18,
    "start_time": "2022-05-20T10:01:33.307Z"
   },
   {
    "duration": 27,
    "start_time": "2022-05-20T10:01:33.327Z"
   },
   {
    "duration": 24,
    "start_time": "2022-05-20T10:01:33.355Z"
   },
   {
    "duration": 30,
    "start_time": "2022-05-20T10:01:33.381Z"
   },
   {
    "duration": 15,
    "start_time": "2022-05-20T10:01:33.412Z"
   },
   {
    "duration": 36,
    "start_time": "2022-05-20T10:01:33.429Z"
   },
   {
    "duration": 25,
    "start_time": "2022-05-20T10:01:33.467Z"
   },
   {
    "duration": 24,
    "start_time": "2022-05-20T10:01:33.494Z"
   },
   {
    "duration": 27,
    "start_time": "2022-05-20T10:01:33.520Z"
   },
   {
    "duration": 21,
    "start_time": "2022-05-20T10:01:33.548Z"
   },
   {
    "duration": 20,
    "start_time": "2022-05-20T10:01:33.570Z"
   },
   {
    "duration": 15,
    "start_time": "2022-05-20T10:01:33.592Z"
   },
   {
    "duration": 25,
    "start_time": "2022-05-20T10:01:33.608Z"
   },
   {
    "duration": 20,
    "start_time": "2022-05-20T10:01:33.635Z"
   },
   {
    "duration": 5,
    "start_time": "2022-05-20T10:01:33.657Z"
   },
   {
    "duration": 31,
    "start_time": "2022-05-20T10:01:33.664Z"
   },
   {
    "duration": 20,
    "start_time": "2022-05-20T10:01:33.697Z"
   },
   {
    "duration": 34,
    "start_time": "2022-05-20T10:01:33.719Z"
   },
   {
    "duration": 33,
    "start_time": "2022-05-20T10:01:33.755Z"
   },
   {
    "duration": 18,
    "start_time": "2022-05-20T10:01:33.790Z"
   },
   {
    "duration": 57,
    "start_time": "2022-05-20T10:01:33.810Z"
   },
   {
    "duration": 6,
    "start_time": "2022-05-20T10:01:33.869Z"
   },
   {
    "duration": 32,
    "start_time": "2022-05-20T10:01:33.877Z"
   },
   {
    "duration": 26,
    "start_time": "2022-05-20T10:01:33.910Z"
   },
   {
    "duration": 49,
    "start_time": "2022-05-20T10:01:33.938Z"
   },
   {
    "duration": 9,
    "start_time": "2022-05-20T10:01:33.989Z"
   },
   {
    "duration": 34,
    "start_time": "2022-05-20T10:01:34.000Z"
   },
   {
    "duration": 43,
    "start_time": "2022-05-20T10:01:34.036Z"
   },
   {
    "duration": 39,
    "start_time": "2022-05-20T10:01:34.082Z"
   },
   {
    "duration": 14,
    "start_time": "2022-05-20T10:01:34.123Z"
   },
   {
    "duration": 42,
    "start_time": "2022-05-20T10:01:34.139Z"
   },
   {
    "duration": 38,
    "start_time": "2022-05-20T10:01:34.183Z"
   },
   {
    "duration": 23,
    "start_time": "2022-05-20T10:02:14.201Z"
   },
   {
    "duration": 634,
    "start_time": "2022-05-20T10:02:23.678Z"
   },
   {
    "duration": 16,
    "start_time": "2022-05-20T10:02:24.314Z"
   },
   {
    "duration": 19,
    "start_time": "2022-05-20T10:02:24.332Z"
   },
   {
    "duration": 403,
    "start_time": "2022-05-20T10:02:24.352Z"
   },
   {
    "duration": 13,
    "start_time": "2022-05-20T10:02:24.757Z"
   },
   {
    "duration": 27,
    "start_time": "2022-05-20T10:02:24.772Z"
   },
   {
    "duration": 8,
    "start_time": "2022-05-20T10:02:24.801Z"
   },
   {
    "duration": 34,
    "start_time": "2022-05-20T10:02:24.811Z"
   },
   {
    "duration": 55,
    "start_time": "2022-05-20T10:02:24.847Z"
   },
   {
    "duration": 8,
    "start_time": "2022-05-20T10:02:24.904Z"
   },
   {
    "duration": 7,
    "start_time": "2022-05-20T10:02:24.914Z"
   },
   {
    "duration": 13,
    "start_time": "2022-05-20T10:02:24.923Z"
   },
   {
    "duration": 16,
    "start_time": "2022-05-20T10:02:24.938Z"
   },
   {
    "duration": 38,
    "start_time": "2022-05-20T10:02:24.958Z"
   },
   {
    "duration": 6,
    "start_time": "2022-05-20T10:02:24.998Z"
   },
   {
    "duration": 30,
    "start_time": "2022-05-20T10:02:25.006Z"
   },
   {
    "duration": 39,
    "start_time": "2022-05-20T10:02:25.038Z"
   },
   {
    "duration": 21,
    "start_time": "2022-05-20T10:02:25.094Z"
   },
   {
    "duration": 15,
    "start_time": "2022-05-20T10:02:25.118Z"
   },
   {
    "duration": 193,
    "start_time": "2022-05-20T10:02:25.135Z"
   },
   {
    "duration": 306,
    "start_time": "2022-05-20T10:02:25.331Z"
   },
   {
    "duration": 8,
    "start_time": "2022-05-20T10:02:25.640Z"
   },
   {
    "duration": 8,
    "start_time": "2022-05-20T10:02:25.650Z"
   },
   {
    "duration": 10,
    "start_time": "2022-05-20T10:02:25.660Z"
   },
   {
    "duration": 14,
    "start_time": "2022-05-20T10:02:25.695Z"
   },
   {
    "duration": 5,
    "start_time": "2022-05-20T10:02:25.710Z"
   },
   {
    "duration": 235,
    "start_time": "2022-05-20T10:02:25.717Z"
   },
   {
    "duration": 8,
    "start_time": "2022-05-20T10:02:25.954Z"
   },
   {
    "duration": 8,
    "start_time": "2022-05-20T10:02:25.964Z"
   },
   {
    "duration": 5,
    "start_time": "2022-05-20T10:02:25.996Z"
   },
   {
    "duration": 8,
    "start_time": "2022-05-20T10:02:26.003Z"
   },
   {
    "duration": 24,
    "start_time": "2022-05-20T10:02:26.013Z"
   },
   {
    "duration": 14,
    "start_time": "2022-05-20T10:02:26.039Z"
   },
   {
    "duration": 42,
    "start_time": "2022-05-20T10:02:26.055Z"
   },
   {
    "duration": 293,
    "start_time": "2022-05-20T10:02:26.099Z"
   },
   {
    "duration": 13,
    "start_time": "2022-05-20T10:02:26.396Z"
   },
   {
    "duration": 13,
    "start_time": "2022-05-20T10:02:26.412Z"
   },
   {
    "duration": 12,
    "start_time": "2022-05-20T10:02:26.427Z"
   },
   {
    "duration": 11,
    "start_time": "2022-05-20T10:02:26.441Z"
   },
   {
    "duration": 13,
    "start_time": "2022-05-20T10:02:26.454Z"
   },
   {
    "duration": 25,
    "start_time": "2022-05-20T10:02:26.472Z"
   },
   {
    "duration": 15,
    "start_time": "2022-05-20T10:02:26.499Z"
   },
   {
    "duration": 13,
    "start_time": "2022-05-20T10:02:26.516Z"
   },
   {
    "duration": 20,
    "start_time": "2022-05-20T10:02:26.531Z"
   },
   {
    "duration": 45,
    "start_time": "2022-05-20T10:02:26.553Z"
   },
   {
    "duration": 16,
    "start_time": "2022-05-20T10:02:26.602Z"
   },
   {
    "duration": 16,
    "start_time": "2022-05-20T10:02:26.620Z"
   },
   {
    "duration": 11,
    "start_time": "2022-05-20T10:02:26.638Z"
   },
   {
    "duration": 11,
    "start_time": "2022-05-20T10:02:26.651Z"
   },
   {
    "duration": 22,
    "start_time": "2022-05-20T10:02:26.664Z"
   },
   {
    "duration": 11,
    "start_time": "2022-05-20T10:02:26.696Z"
   },
   {
    "duration": 13,
    "start_time": "2022-05-20T10:02:26.710Z"
   },
   {
    "duration": 7,
    "start_time": "2022-05-20T10:02:26.725Z"
   },
   {
    "duration": 21,
    "start_time": "2022-05-20T10:02:26.734Z"
   },
   {
    "duration": 14,
    "start_time": "2022-05-20T10:02:26.757Z"
   },
   {
    "duration": 7,
    "start_time": "2022-05-20T10:02:26.773Z"
   },
   {
    "duration": 20,
    "start_time": "2022-05-20T10:02:26.782Z"
   },
   {
    "duration": 11,
    "start_time": "2022-05-20T10:02:26.804Z"
   },
   {
    "duration": 24,
    "start_time": "2022-05-20T10:02:26.816Z"
   },
   {
    "duration": 21,
    "start_time": "2022-05-20T10:02:26.842Z"
   },
   {
    "duration": 33,
    "start_time": "2022-05-20T10:02:26.865Z"
   },
   {
    "duration": 23,
    "start_time": "2022-05-20T10:02:26.900Z"
   },
   {
    "duration": 31,
    "start_time": "2022-05-20T10:02:26.926Z"
   },
   {
    "duration": 15,
    "start_time": "2022-05-20T10:02:26.959Z"
   },
   {
    "duration": 19,
    "start_time": "2022-05-20T10:02:26.994Z"
   },
   {
    "duration": 18,
    "start_time": "2022-05-20T10:02:27.016Z"
   },
   {
    "duration": 30,
    "start_time": "2022-05-20T10:02:27.036Z"
   },
   {
    "duration": 31,
    "start_time": "2022-05-20T10:02:27.068Z"
   },
   {
    "duration": 28,
    "start_time": "2022-05-20T10:02:27.101Z"
   },
   {
    "duration": 16,
    "start_time": "2022-05-20T10:02:27.131Z"
   },
   {
    "duration": 50,
    "start_time": "2022-05-20T10:02:27.148Z"
   },
   {
    "duration": 10,
    "start_time": "2022-05-20T10:02:27.201Z"
   },
   {
    "duration": 28,
    "start_time": "2022-05-20T10:02:27.214Z"
   },
   {
    "duration": 38,
    "start_time": "2022-05-20T10:02:27.244Z"
   },
   {
    "duration": 34,
    "start_time": "2022-05-20T10:02:27.285Z"
   },
   {
    "duration": 26,
    "start_time": "2022-05-20T10:02:27.321Z"
   },
   {
    "duration": 32,
    "start_time": "2022-05-20T10:02:27.349Z"
   },
   {
    "duration": 34,
    "start_time": "2022-05-20T10:02:27.383Z"
   },
   {
    "duration": 527,
    "start_time": "2022-05-20T10:04:22.951Z"
   },
   {
    "duration": 16,
    "start_time": "2022-05-20T10:04:23.480Z"
   },
   {
    "duration": 19,
    "start_time": "2022-05-20T10:04:23.498Z"
   },
   {
    "duration": 354,
    "start_time": "2022-05-20T10:04:23.519Z"
   },
   {
    "duration": 21,
    "start_time": "2022-05-20T10:04:23.875Z"
   },
   {
    "duration": 11,
    "start_time": "2022-05-20T10:04:23.897Z"
   },
   {
    "duration": 7,
    "start_time": "2022-05-20T10:04:23.910Z"
   },
   {
    "duration": 22,
    "start_time": "2022-05-20T10:04:23.919Z"
   },
   {
    "duration": 65,
    "start_time": "2022-05-20T10:04:23.942Z"
   },
   {
    "duration": 7,
    "start_time": "2022-05-20T10:04:24.009Z"
   },
   {
    "duration": 8,
    "start_time": "2022-05-20T10:04:24.017Z"
   },
   {
    "duration": 8,
    "start_time": "2022-05-20T10:04:24.026Z"
   },
   {
    "duration": 11,
    "start_time": "2022-05-20T10:04:24.036Z"
   },
   {
    "duration": 9,
    "start_time": "2022-05-20T10:04:24.051Z"
   },
   {
    "duration": 36,
    "start_time": "2022-05-20T10:04:24.062Z"
   },
   {
    "duration": 21,
    "start_time": "2022-05-20T10:04:24.100Z"
   },
   {
    "duration": 17,
    "start_time": "2022-05-20T10:04:24.122Z"
   },
   {
    "duration": 20,
    "start_time": "2022-05-20T10:04:24.141Z"
   },
   {
    "duration": 42,
    "start_time": "2022-05-20T10:04:24.163Z"
   },
   {
    "duration": 161,
    "start_time": "2022-05-20T10:04:24.207Z"
   },
   {
    "duration": 255,
    "start_time": "2022-05-20T10:04:24.369Z"
   },
   {
    "duration": 7,
    "start_time": "2022-05-20T10:04:24.625Z"
   },
   {
    "duration": 6,
    "start_time": "2022-05-20T10:04:24.633Z"
   },
   {
    "duration": 8,
    "start_time": "2022-05-20T10:04:24.641Z"
   },
   {
    "duration": 14,
    "start_time": "2022-05-20T10:04:24.651Z"
   },
   {
    "duration": 28,
    "start_time": "2022-05-20T10:04:24.667Z"
   },
   {
    "duration": 215,
    "start_time": "2022-05-20T10:04:24.697Z"
   },
   {
    "duration": 7,
    "start_time": "2022-05-20T10:04:24.913Z"
   },
   {
    "duration": 8,
    "start_time": "2022-05-20T10:04:24.921Z"
   },
   {
    "duration": 8,
    "start_time": "2022-05-20T10:04:24.930Z"
   },
   {
    "duration": 8,
    "start_time": "2022-05-20T10:04:24.939Z"
   },
   {
    "duration": 18,
    "start_time": "2022-05-20T10:04:24.949Z"
   },
   {
    "duration": 14,
    "start_time": "2022-05-20T10:04:24.994Z"
   },
   {
    "duration": 13,
    "start_time": "2022-05-20T10:04:25.010Z"
   },
   {
    "duration": 284,
    "start_time": "2022-05-20T10:04:25.024Z"
   },
   {
    "duration": 10,
    "start_time": "2022-05-20T10:04:25.310Z"
   },
   {
    "duration": 4,
    "start_time": "2022-05-20T10:04:25.322Z"
   },
   {
    "duration": 23,
    "start_time": "2022-05-20T10:04:25.328Z"
   },
   {
    "duration": 10,
    "start_time": "2022-05-20T10:04:25.352Z"
   },
   {
    "duration": 11,
    "start_time": "2022-05-20T10:04:25.363Z"
   },
   {
    "duration": 5,
    "start_time": "2022-05-20T10:04:25.398Z"
   },
   {
    "duration": 18,
    "start_time": "2022-05-20T10:04:25.405Z"
   },
   {
    "duration": 21,
    "start_time": "2022-05-20T10:04:25.425Z"
   },
   {
    "duration": 33,
    "start_time": "2022-05-20T10:04:25.448Z"
   },
   {
    "duration": 21,
    "start_time": "2022-05-20T10:04:25.483Z"
   },
   {
    "duration": 19,
    "start_time": "2022-05-20T10:04:25.507Z"
   },
   {
    "duration": 9,
    "start_time": "2022-05-20T10:04:25.528Z"
   },
   {
    "duration": 14,
    "start_time": "2022-05-20T10:04:25.539Z"
   },
   {
    "duration": 11,
    "start_time": "2022-05-20T10:04:25.554Z"
   },
   {
    "duration": 30,
    "start_time": "2022-05-20T10:04:25.566Z"
   },
   {
    "duration": 6,
    "start_time": "2022-05-20T10:04:25.597Z"
   },
   {
    "duration": 12,
    "start_time": "2022-05-20T10:04:25.604Z"
   },
   {
    "duration": 7,
    "start_time": "2022-05-20T10:04:25.618Z"
   },
   {
    "duration": 15,
    "start_time": "2022-05-20T10:04:25.627Z"
   },
   {
    "duration": 8,
    "start_time": "2022-05-20T10:04:25.643Z"
   },
   {
    "duration": 6,
    "start_time": "2022-05-20T10:04:25.653Z"
   },
   {
    "duration": 34,
    "start_time": "2022-05-20T10:04:25.661Z"
   },
   {
    "duration": 6,
    "start_time": "2022-05-20T10:04:25.697Z"
   },
   {
    "duration": 24,
    "start_time": "2022-05-20T10:04:25.704Z"
   },
   {
    "duration": 20,
    "start_time": "2022-05-20T10:04:25.730Z"
   },
   {
    "duration": 5,
    "start_time": "2022-05-20T10:04:25.751Z"
   },
   {
    "duration": 42,
    "start_time": "2022-05-20T10:04:25.758Z"
   },
   {
    "duration": 21,
    "start_time": "2022-05-20T10:04:25.803Z"
   },
   {
    "duration": 14,
    "start_time": "2022-05-20T10:04:25.826Z"
   },
   {
    "duration": 13,
    "start_time": "2022-05-20T10:04:25.841Z"
   },
   {
    "duration": 47,
    "start_time": "2022-05-20T10:04:25.856Z"
   },
   {
    "duration": 25,
    "start_time": "2022-05-20T10:04:25.904Z"
   },
   {
    "duration": 9,
    "start_time": "2022-05-20T10:04:25.931Z"
   },
   {
    "duration": 26,
    "start_time": "2022-05-20T10:04:25.941Z"
   },
   {
    "duration": 35,
    "start_time": "2022-05-20T10:04:25.968Z"
   },
   {
    "duration": 23,
    "start_time": "2022-05-20T10:04:26.005Z"
   },
   {
    "duration": 8,
    "start_time": "2022-05-20T10:04:26.030Z"
   },
   {
    "duration": 8,
    "start_time": "2022-05-20T10:04:26.040Z"
   },
   {
    "duration": 46,
    "start_time": "2022-05-20T10:04:26.050Z"
   },
   {
    "duration": 21,
    "start_time": "2022-05-20T10:04:26.098Z"
   },
   {
    "duration": 6,
    "start_time": "2022-05-20T10:04:26.121Z"
   },
   {
    "duration": 14,
    "start_time": "2022-05-20T10:04:26.129Z"
   },
   {
    "duration": 21,
    "start_time": "2022-05-20T10:04:26.144Z"
   },
   {
    "duration": 18,
    "start_time": "2022-05-20T10:11:23.199Z"
   },
   {
    "duration": 622,
    "start_time": "2022-05-20T10:15:27.260Z"
   },
   {
    "duration": 16,
    "start_time": "2022-05-20T10:15:27.884Z"
   },
   {
    "duration": 18,
    "start_time": "2022-05-20T10:15:27.902Z"
   },
   {
    "duration": 394,
    "start_time": "2022-05-20T10:15:27.922Z"
   },
   {
    "duration": 14,
    "start_time": "2022-05-20T10:15:28.318Z"
   },
   {
    "duration": 12,
    "start_time": "2022-05-20T10:15:28.333Z"
   },
   {
    "duration": 6,
    "start_time": "2022-05-20T10:15:28.347Z"
   },
   {
    "duration": 48,
    "start_time": "2022-05-20T10:15:28.355Z"
   },
   {
    "duration": 40,
    "start_time": "2022-05-20T10:15:28.405Z"
   },
   {
    "duration": 9,
    "start_time": "2022-05-20T10:15:28.447Z"
   },
   {
    "duration": 37,
    "start_time": "2022-05-20T10:15:28.458Z"
   },
   {
    "duration": 9,
    "start_time": "2022-05-20T10:15:28.497Z"
   },
   {
    "duration": 9,
    "start_time": "2022-05-20T10:15:28.508Z"
   },
   {
    "duration": 11,
    "start_time": "2022-05-20T10:15:28.520Z"
   },
   {
    "duration": 6,
    "start_time": "2022-05-20T10:15:28.533Z"
   },
   {
    "duration": 5,
    "start_time": "2022-05-20T10:15:28.541Z"
   },
   {
    "duration": 72,
    "start_time": "2022-05-20T10:15:28.548Z"
   },
   {
    "duration": 4,
    "start_time": "2022-05-20T10:15:28.622Z"
   },
   {
    "duration": 0,
    "start_time": "2022-05-20T10:15:28.629Z"
   },
   {
    "duration": 0,
    "start_time": "2022-05-20T10:15:28.631Z"
   },
   {
    "duration": 0,
    "start_time": "2022-05-20T10:15:28.632Z"
   },
   {
    "duration": 0,
    "start_time": "2022-05-20T10:15:28.633Z"
   },
   {
    "duration": 0,
    "start_time": "2022-05-20T10:15:28.634Z"
   },
   {
    "duration": 0,
    "start_time": "2022-05-20T10:15:28.635Z"
   },
   {
    "duration": 0,
    "start_time": "2022-05-20T10:15:28.636Z"
   },
   {
    "duration": 0,
    "start_time": "2022-05-20T10:15:28.637Z"
   },
   {
    "duration": 0,
    "start_time": "2022-05-20T10:15:28.638Z"
   },
   {
    "duration": 0,
    "start_time": "2022-05-20T10:15:28.639Z"
   },
   {
    "duration": 0,
    "start_time": "2022-05-20T10:15:28.640Z"
   },
   {
    "duration": 0,
    "start_time": "2022-05-20T10:15:28.641Z"
   },
   {
    "duration": 0,
    "start_time": "2022-05-20T10:15:28.642Z"
   },
   {
    "duration": 0,
    "start_time": "2022-05-20T10:15:28.643Z"
   },
   {
    "duration": 0,
    "start_time": "2022-05-20T10:15:28.645Z"
   },
   {
    "duration": 0,
    "start_time": "2022-05-20T10:15:28.646Z"
   },
   {
    "duration": 0,
    "start_time": "2022-05-20T10:15:28.647Z"
   },
   {
    "duration": 0,
    "start_time": "2022-05-20T10:15:28.648Z"
   },
   {
    "duration": 0,
    "start_time": "2022-05-20T10:15:28.649Z"
   },
   {
    "duration": 0,
    "start_time": "2022-05-20T10:15:28.650Z"
   },
   {
    "duration": 0,
    "start_time": "2022-05-20T10:15:28.651Z"
   },
   {
    "duration": 0,
    "start_time": "2022-05-20T10:15:28.694Z"
   },
   {
    "duration": 0,
    "start_time": "2022-05-20T10:15:28.696Z"
   },
   {
    "duration": 0,
    "start_time": "2022-05-20T10:15:28.697Z"
   },
   {
    "duration": 0,
    "start_time": "2022-05-20T10:15:28.698Z"
   },
   {
    "duration": 0,
    "start_time": "2022-05-20T10:15:28.699Z"
   },
   {
    "duration": 0,
    "start_time": "2022-05-20T10:15:28.701Z"
   },
   {
    "duration": 0,
    "start_time": "2022-05-20T10:15:28.701Z"
   },
   {
    "duration": 0,
    "start_time": "2022-05-20T10:15:28.702Z"
   },
   {
    "duration": 0,
    "start_time": "2022-05-20T10:15:28.704Z"
   },
   {
    "duration": 0,
    "start_time": "2022-05-20T10:15:28.705Z"
   },
   {
    "duration": 0,
    "start_time": "2022-05-20T10:15:28.706Z"
   },
   {
    "duration": 0,
    "start_time": "2022-05-20T10:15:28.707Z"
   },
   {
    "duration": 0,
    "start_time": "2022-05-20T10:15:28.708Z"
   },
   {
    "duration": 0,
    "start_time": "2022-05-20T10:15:28.709Z"
   },
   {
    "duration": 0,
    "start_time": "2022-05-20T10:15:28.710Z"
   },
   {
    "duration": 0,
    "start_time": "2022-05-20T10:15:28.711Z"
   },
   {
    "duration": 0,
    "start_time": "2022-05-20T10:15:28.712Z"
   },
   {
    "duration": 0,
    "start_time": "2022-05-20T10:15:28.713Z"
   },
   {
    "duration": 0,
    "start_time": "2022-05-20T10:15:28.714Z"
   },
   {
    "duration": 0,
    "start_time": "2022-05-20T10:15:28.715Z"
   },
   {
    "duration": 0,
    "start_time": "2022-05-20T10:15:28.716Z"
   },
   {
    "duration": 0,
    "start_time": "2022-05-20T10:15:28.717Z"
   },
   {
    "duration": 0,
    "start_time": "2022-05-20T10:15:28.718Z"
   },
   {
    "duration": 0,
    "start_time": "2022-05-20T10:15:28.719Z"
   },
   {
    "duration": 0,
    "start_time": "2022-05-20T10:15:28.720Z"
   },
   {
    "duration": 0,
    "start_time": "2022-05-20T10:15:28.721Z"
   },
   {
    "duration": 0,
    "start_time": "2022-05-20T10:15:28.722Z"
   },
   {
    "duration": 0,
    "start_time": "2022-05-20T10:15:28.723Z"
   },
   {
    "duration": 0,
    "start_time": "2022-05-20T10:15:28.724Z"
   },
   {
    "duration": 0,
    "start_time": "2022-05-20T10:15:28.725Z"
   },
   {
    "duration": 0,
    "start_time": "2022-05-20T10:15:28.726Z"
   },
   {
    "duration": 0,
    "start_time": "2022-05-20T10:15:28.728Z"
   },
   {
    "duration": 0,
    "start_time": "2022-05-20T10:15:28.729Z"
   },
   {
    "duration": 1,
    "start_time": "2022-05-20T10:15:28.729Z"
   },
   {
    "duration": 0,
    "start_time": "2022-05-20T10:15:28.730Z"
   },
   {
    "duration": 0,
    "start_time": "2022-05-20T10:15:28.795Z"
   },
   {
    "duration": 0,
    "start_time": "2022-05-20T10:15:28.796Z"
   },
   {
    "duration": 0,
    "start_time": "2022-05-20T10:15:28.797Z"
   },
   {
    "duration": 612,
    "start_time": "2022-05-20T10:15:52.889Z"
   },
   {
    "duration": 16,
    "start_time": "2022-05-20T10:15:53.504Z"
   },
   {
    "duration": 22,
    "start_time": "2022-05-20T10:15:53.521Z"
   },
   {
    "duration": 372,
    "start_time": "2022-05-20T10:15:53.546Z"
   },
   {
    "duration": 12,
    "start_time": "2022-05-20T10:15:53.920Z"
   },
   {
    "duration": 11,
    "start_time": "2022-05-20T10:15:53.934Z"
   },
   {
    "duration": 8,
    "start_time": "2022-05-20T10:15:53.947Z"
   },
   {
    "duration": 49,
    "start_time": "2022-05-20T10:15:53.958Z"
   },
   {
    "duration": 38,
    "start_time": "2022-05-20T10:15:54.009Z"
   },
   {
    "duration": 9,
    "start_time": "2022-05-20T10:15:54.050Z"
   },
   {
    "duration": 35,
    "start_time": "2022-05-20T10:15:54.061Z"
   },
   {
    "duration": 8,
    "start_time": "2022-05-20T10:15:54.098Z"
   },
   {
    "duration": 7,
    "start_time": "2022-05-20T10:15:54.108Z"
   },
   {
    "duration": 9,
    "start_time": "2022-05-20T10:15:54.116Z"
   },
   {
    "duration": 6,
    "start_time": "2022-05-20T10:15:54.127Z"
   },
   {
    "duration": 6,
    "start_time": "2022-05-20T10:15:54.134Z"
   },
   {
    "duration": 72,
    "start_time": "2022-05-20T10:15:54.142Z"
   },
   {
    "duration": 5,
    "start_time": "2022-05-20T10:15:54.216Z"
   },
   {
    "duration": 0,
    "start_time": "2022-05-20T10:15:54.225Z"
   },
   {
    "duration": 0,
    "start_time": "2022-05-20T10:15:54.227Z"
   },
   {
    "duration": 0,
    "start_time": "2022-05-20T10:15:54.228Z"
   },
   {
    "duration": 0,
    "start_time": "2022-05-20T10:15:54.230Z"
   },
   {
    "duration": 0,
    "start_time": "2022-05-20T10:15:54.232Z"
   },
   {
    "duration": 0,
    "start_time": "2022-05-20T10:15:54.234Z"
   },
   {
    "duration": 0,
    "start_time": "2022-05-20T10:15:54.235Z"
   },
   {
    "duration": 0,
    "start_time": "2022-05-20T10:15:54.237Z"
   },
   {
    "duration": 0,
    "start_time": "2022-05-20T10:15:54.248Z"
   },
   {
    "duration": 0,
    "start_time": "2022-05-20T10:15:54.251Z"
   },
   {
    "duration": 0,
    "start_time": "2022-05-20T10:15:54.253Z"
   },
   {
    "duration": 0,
    "start_time": "2022-05-20T10:15:54.294Z"
   },
   {
    "duration": 0,
    "start_time": "2022-05-20T10:15:54.296Z"
   },
   {
    "duration": 0,
    "start_time": "2022-05-20T10:15:54.297Z"
   },
   {
    "duration": 0,
    "start_time": "2022-05-20T10:15:54.298Z"
   },
   {
    "duration": 0,
    "start_time": "2022-05-20T10:15:54.299Z"
   },
   {
    "duration": 0,
    "start_time": "2022-05-20T10:15:54.300Z"
   },
   {
    "duration": 0,
    "start_time": "2022-05-20T10:15:54.301Z"
   },
   {
    "duration": 0,
    "start_time": "2022-05-20T10:15:54.303Z"
   },
   {
    "duration": 1,
    "start_time": "2022-05-20T10:15:54.304Z"
   },
   {
    "duration": 0,
    "start_time": "2022-05-20T10:15:54.306Z"
   },
   {
    "duration": 0,
    "start_time": "2022-05-20T10:15:54.307Z"
   },
   {
    "duration": 0,
    "start_time": "2022-05-20T10:15:54.308Z"
   },
   {
    "duration": 0,
    "start_time": "2022-05-20T10:15:54.310Z"
   },
   {
    "duration": 0,
    "start_time": "2022-05-20T10:15:54.311Z"
   },
   {
    "duration": 0,
    "start_time": "2022-05-20T10:15:54.312Z"
   },
   {
    "duration": 0,
    "start_time": "2022-05-20T10:15:54.313Z"
   },
   {
    "duration": 0,
    "start_time": "2022-05-20T10:15:54.314Z"
   },
   {
    "duration": 0,
    "start_time": "2022-05-20T10:15:54.315Z"
   },
   {
    "duration": 0,
    "start_time": "2022-05-20T10:15:54.316Z"
   },
   {
    "duration": 0,
    "start_time": "2022-05-20T10:15:54.317Z"
   },
   {
    "duration": 0,
    "start_time": "2022-05-20T10:15:54.319Z"
   },
   {
    "duration": 0,
    "start_time": "2022-05-20T10:15:54.320Z"
   },
   {
    "duration": 0,
    "start_time": "2022-05-20T10:15:54.321Z"
   },
   {
    "duration": 0,
    "start_time": "2022-05-20T10:15:54.322Z"
   },
   {
    "duration": 0,
    "start_time": "2022-05-20T10:15:54.323Z"
   },
   {
    "duration": 0,
    "start_time": "2022-05-20T10:15:54.324Z"
   },
   {
    "duration": 0,
    "start_time": "2022-05-20T10:15:54.325Z"
   },
   {
    "duration": 0,
    "start_time": "2022-05-20T10:15:54.326Z"
   },
   {
    "duration": 0,
    "start_time": "2022-05-20T10:15:54.328Z"
   },
   {
    "duration": 0,
    "start_time": "2022-05-20T10:15:54.329Z"
   },
   {
    "duration": 0,
    "start_time": "2022-05-20T10:15:54.330Z"
   },
   {
    "duration": 0,
    "start_time": "2022-05-20T10:15:54.331Z"
   },
   {
    "duration": 0,
    "start_time": "2022-05-20T10:15:54.332Z"
   },
   {
    "duration": 0,
    "start_time": "2022-05-20T10:15:54.395Z"
   },
   {
    "duration": 0,
    "start_time": "2022-05-20T10:15:54.396Z"
   },
   {
    "duration": 0,
    "start_time": "2022-05-20T10:15:54.397Z"
   },
   {
    "duration": 0,
    "start_time": "2022-05-20T10:15:54.399Z"
   },
   {
    "duration": 0,
    "start_time": "2022-05-20T10:15:54.399Z"
   },
   {
    "duration": 0,
    "start_time": "2022-05-20T10:15:54.401Z"
   },
   {
    "duration": 0,
    "start_time": "2022-05-20T10:15:54.403Z"
   },
   {
    "duration": 0,
    "start_time": "2022-05-20T10:15:54.404Z"
   },
   {
    "duration": 0,
    "start_time": "2022-05-20T10:15:54.406Z"
   },
   {
    "duration": 0,
    "start_time": "2022-05-20T10:15:54.407Z"
   },
   {
    "duration": 0,
    "start_time": "2022-05-20T10:15:54.409Z"
   },
   {
    "duration": 0,
    "start_time": "2022-05-20T10:15:54.410Z"
   },
   {
    "duration": 0,
    "start_time": "2022-05-20T10:15:54.412Z"
   },
   {
    "duration": 0,
    "start_time": "2022-05-20T10:15:54.413Z"
   },
   {
    "duration": 0,
    "start_time": "2022-05-20T10:15:54.415Z"
   },
   {
    "duration": 604,
    "start_time": "2022-05-20T10:23:50.770Z"
   },
   {
    "duration": 20,
    "start_time": "2022-05-20T10:23:51.377Z"
   },
   {
    "duration": 22,
    "start_time": "2022-05-20T10:23:51.399Z"
   },
   {
    "duration": 381,
    "start_time": "2022-05-20T10:23:51.423Z"
   },
   {
    "duration": 12,
    "start_time": "2022-05-20T10:23:51.805Z"
   },
   {
    "duration": 10,
    "start_time": "2022-05-20T10:23:51.819Z"
   },
   {
    "duration": 6,
    "start_time": "2022-05-20T10:23:51.831Z"
   },
   {
    "duration": 24,
    "start_time": "2022-05-20T10:23:51.839Z"
   },
   {
    "duration": 49,
    "start_time": "2022-05-20T10:23:51.895Z"
   },
   {
    "duration": 9,
    "start_time": "2022-05-20T10:23:51.948Z"
   },
   {
    "duration": 37,
    "start_time": "2022-05-20T10:23:51.959Z"
   },
   {
    "duration": 10,
    "start_time": "2022-05-20T10:23:51.998Z"
   },
   {
    "duration": 9,
    "start_time": "2022-05-20T10:23:52.010Z"
   },
   {
    "duration": 12,
    "start_time": "2022-05-20T10:23:52.021Z"
   },
   {
    "duration": 7,
    "start_time": "2022-05-20T10:23:52.036Z"
   },
   {
    "duration": 61,
    "start_time": "2022-05-20T10:23:52.045Z"
   },
   {
    "duration": 36,
    "start_time": "2022-05-20T10:23:52.109Z"
   },
   {
    "duration": 5,
    "start_time": "2022-05-20T10:23:52.148Z"
   },
   {
    "duration": 0,
    "start_time": "2022-05-20T10:23:52.156Z"
   },
   {
    "duration": 0,
    "start_time": "2022-05-20T10:23:52.157Z"
   },
   {
    "duration": 0,
    "start_time": "2022-05-20T10:23:52.159Z"
   },
   {
    "duration": 0,
    "start_time": "2022-05-20T10:23:52.161Z"
   },
   {
    "duration": 0,
    "start_time": "2022-05-20T10:23:52.162Z"
   },
   {
    "duration": 0,
    "start_time": "2022-05-20T10:23:52.164Z"
   },
   {
    "duration": 0,
    "start_time": "2022-05-20T10:23:52.164Z"
   },
   {
    "duration": 0,
    "start_time": "2022-05-20T10:23:52.165Z"
   },
   {
    "duration": 0,
    "start_time": "2022-05-20T10:23:52.166Z"
   },
   {
    "duration": 0,
    "start_time": "2022-05-20T10:23:52.167Z"
   },
   {
    "duration": 0,
    "start_time": "2022-05-20T10:23:52.196Z"
   },
   {
    "duration": 0,
    "start_time": "2022-05-20T10:23:52.200Z"
   },
   {
    "duration": 0,
    "start_time": "2022-05-20T10:23:52.203Z"
   },
   {
    "duration": 0,
    "start_time": "2022-05-20T10:23:52.204Z"
   },
   {
    "duration": 0,
    "start_time": "2022-05-20T10:23:52.206Z"
   },
   {
    "duration": 0,
    "start_time": "2022-05-20T10:23:52.207Z"
   },
   {
    "duration": 0,
    "start_time": "2022-05-20T10:23:52.211Z"
   },
   {
    "duration": 0,
    "start_time": "2022-05-20T10:23:52.213Z"
   },
   {
    "duration": 0,
    "start_time": "2022-05-20T10:23:52.216Z"
   },
   {
    "duration": 0,
    "start_time": "2022-05-20T10:23:52.218Z"
   },
   {
    "duration": 0,
    "start_time": "2022-05-20T10:23:52.220Z"
   },
   {
    "duration": 0,
    "start_time": "2022-05-20T10:23:52.221Z"
   },
   {
    "duration": 0,
    "start_time": "2022-05-20T10:23:52.223Z"
   },
   {
    "duration": 0,
    "start_time": "2022-05-20T10:23:52.225Z"
   },
   {
    "duration": 0,
    "start_time": "2022-05-20T10:23:52.226Z"
   },
   {
    "duration": 0,
    "start_time": "2022-05-20T10:23:52.230Z"
   },
   {
    "duration": 0,
    "start_time": "2022-05-20T10:23:52.231Z"
   },
   {
    "duration": 0,
    "start_time": "2022-05-20T10:23:52.233Z"
   },
   {
    "duration": 0,
    "start_time": "2022-05-20T10:23:52.234Z"
   },
   {
    "duration": 0,
    "start_time": "2022-05-20T10:23:52.235Z"
   },
   {
    "duration": 0,
    "start_time": "2022-05-20T10:23:52.237Z"
   },
   {
    "duration": 0,
    "start_time": "2022-05-20T10:23:52.238Z"
   },
   {
    "duration": 0,
    "start_time": "2022-05-20T10:23:52.294Z"
   },
   {
    "duration": 0,
    "start_time": "2022-05-20T10:23:52.295Z"
   },
   {
    "duration": 0,
    "start_time": "2022-05-20T10:23:52.297Z"
   },
   {
    "duration": 0,
    "start_time": "2022-05-20T10:23:52.298Z"
   },
   {
    "duration": 0,
    "start_time": "2022-05-20T10:23:52.300Z"
   },
   {
    "duration": 0,
    "start_time": "2022-05-20T10:23:52.303Z"
   },
   {
    "duration": 0,
    "start_time": "2022-05-20T10:23:52.305Z"
   },
   {
    "duration": 0,
    "start_time": "2022-05-20T10:23:52.306Z"
   },
   {
    "duration": 0,
    "start_time": "2022-05-20T10:23:52.308Z"
   },
   {
    "duration": 0,
    "start_time": "2022-05-20T10:23:52.309Z"
   },
   {
    "duration": 0,
    "start_time": "2022-05-20T10:23:52.311Z"
   },
   {
    "duration": 0,
    "start_time": "2022-05-20T10:23:52.312Z"
   },
   {
    "duration": 0,
    "start_time": "2022-05-20T10:23:52.314Z"
   },
   {
    "duration": 0,
    "start_time": "2022-05-20T10:23:52.316Z"
   },
   {
    "duration": 0,
    "start_time": "2022-05-20T10:23:52.317Z"
   },
   {
    "duration": 0,
    "start_time": "2022-05-20T10:23:52.319Z"
   },
   {
    "duration": 0,
    "start_time": "2022-05-20T10:23:52.320Z"
   },
   {
    "duration": 0,
    "start_time": "2022-05-20T10:23:52.321Z"
   },
   {
    "duration": 0,
    "start_time": "2022-05-20T10:23:52.322Z"
   },
   {
    "duration": 0,
    "start_time": "2022-05-20T10:23:52.323Z"
   },
   {
    "duration": 0,
    "start_time": "2022-05-20T10:23:52.324Z"
   },
   {
    "duration": 0,
    "start_time": "2022-05-20T10:23:52.326Z"
   },
   {
    "duration": 0,
    "start_time": "2022-05-20T10:23:52.327Z"
   },
   {
    "duration": 0,
    "start_time": "2022-05-20T10:23:52.329Z"
   },
   {
    "duration": 0,
    "start_time": "2022-05-20T10:23:52.330Z"
   },
   {
    "duration": 0,
    "start_time": "2022-05-20T10:23:52.331Z"
   },
   {
    "duration": 0,
    "start_time": "2022-05-20T10:23:52.332Z"
   },
   {
    "duration": 550,
    "start_time": "2022-05-20T10:24:30.608Z"
   },
   {
    "duration": 14,
    "start_time": "2022-05-20T10:24:31.160Z"
   },
   {
    "duration": 39,
    "start_time": "2022-05-20T10:24:31.175Z"
   },
   {
    "duration": 338,
    "start_time": "2022-05-20T10:24:31.216Z"
   },
   {
    "duration": 11,
    "start_time": "2022-05-20T10:24:31.556Z"
   },
   {
    "duration": 16,
    "start_time": "2022-05-20T10:24:31.568Z"
   },
   {
    "duration": 12,
    "start_time": "2022-05-20T10:24:31.586Z"
   },
   {
    "duration": 26,
    "start_time": "2022-05-20T10:24:31.600Z"
   },
   {
    "duration": 35,
    "start_time": "2022-05-20T10:24:31.628Z"
   },
   {
    "duration": 7,
    "start_time": "2022-05-20T10:24:31.665Z"
   },
   {
    "duration": 25,
    "start_time": "2022-05-20T10:24:31.674Z"
   },
   {
    "duration": 31,
    "start_time": "2022-05-20T10:24:31.701Z"
   },
   {
    "duration": 10,
    "start_time": "2022-05-20T10:24:31.734Z"
   },
   {
    "duration": 10,
    "start_time": "2022-05-20T10:24:31.747Z"
   },
   {
    "duration": 5,
    "start_time": "2022-05-20T10:24:31.759Z"
   },
   {
    "duration": 35,
    "start_time": "2022-05-20T10:24:31.766Z"
   },
   {
    "duration": 32,
    "start_time": "2022-05-20T10:24:31.803Z"
   },
   {
    "duration": 5,
    "start_time": "2022-05-20T10:24:31.837Z"
   },
   {
    "duration": 0,
    "start_time": "2022-05-20T10:24:31.844Z"
   },
   {
    "duration": 0,
    "start_time": "2022-05-20T10:24:31.846Z"
   },
   {
    "duration": 0,
    "start_time": "2022-05-20T10:24:31.847Z"
   },
   {
    "duration": 0,
    "start_time": "2022-05-20T10:24:31.848Z"
   },
   {
    "duration": 0,
    "start_time": "2022-05-20T10:24:31.850Z"
   },
   {
    "duration": 0,
    "start_time": "2022-05-20T10:24:31.852Z"
   },
   {
    "duration": 0,
    "start_time": "2022-05-20T10:24:31.853Z"
   },
   {
    "duration": 0,
    "start_time": "2022-05-20T10:24:31.855Z"
   },
   {
    "duration": 0,
    "start_time": "2022-05-20T10:24:31.856Z"
   },
   {
    "duration": 0,
    "start_time": "2022-05-20T10:24:31.858Z"
   },
   {
    "duration": 0,
    "start_time": "2022-05-20T10:24:31.859Z"
   },
   {
    "duration": 0,
    "start_time": "2022-05-20T10:24:31.895Z"
   },
   {
    "duration": 0,
    "start_time": "2022-05-20T10:24:31.896Z"
   },
   {
    "duration": 0,
    "start_time": "2022-05-20T10:24:31.897Z"
   },
   {
    "duration": 0,
    "start_time": "2022-05-20T10:24:31.899Z"
   },
   {
    "duration": 0,
    "start_time": "2022-05-20T10:24:31.900Z"
   },
   {
    "duration": 0,
    "start_time": "2022-05-20T10:24:31.901Z"
   },
   {
    "duration": 0,
    "start_time": "2022-05-20T10:24:31.902Z"
   },
   {
    "duration": 0,
    "start_time": "2022-05-20T10:24:31.903Z"
   },
   {
    "duration": 0,
    "start_time": "2022-05-20T10:24:31.904Z"
   },
   {
    "duration": 0,
    "start_time": "2022-05-20T10:24:31.905Z"
   },
   {
    "duration": 0,
    "start_time": "2022-05-20T10:24:31.907Z"
   },
   {
    "duration": 0,
    "start_time": "2022-05-20T10:24:31.908Z"
   },
   {
    "duration": 0,
    "start_time": "2022-05-20T10:24:31.909Z"
   },
   {
    "duration": 0,
    "start_time": "2022-05-20T10:24:31.910Z"
   },
   {
    "duration": 0,
    "start_time": "2022-05-20T10:24:31.911Z"
   },
   {
    "duration": 0,
    "start_time": "2022-05-20T10:24:31.912Z"
   },
   {
    "duration": 0,
    "start_time": "2022-05-20T10:24:31.913Z"
   },
   {
    "duration": 0,
    "start_time": "2022-05-20T10:24:31.914Z"
   },
   {
    "duration": 0,
    "start_time": "2022-05-20T10:24:31.915Z"
   },
   {
    "duration": 0,
    "start_time": "2022-05-20T10:24:31.916Z"
   },
   {
    "duration": 0,
    "start_time": "2022-05-20T10:24:31.918Z"
   },
   {
    "duration": 0,
    "start_time": "2022-05-20T10:24:31.919Z"
   },
   {
    "duration": 0,
    "start_time": "2022-05-20T10:24:31.920Z"
   },
   {
    "duration": 0,
    "start_time": "2022-05-20T10:24:31.921Z"
   },
   {
    "duration": 0,
    "start_time": "2022-05-20T10:24:31.923Z"
   },
   {
    "duration": 0,
    "start_time": "2022-05-20T10:24:31.924Z"
   },
   {
    "duration": 0,
    "start_time": "2022-05-20T10:24:31.926Z"
   },
   {
    "duration": 0,
    "start_time": "2022-05-20T10:24:31.927Z"
   },
   {
    "duration": 0,
    "start_time": "2022-05-20T10:24:31.929Z"
   },
   {
    "duration": 0,
    "start_time": "2022-05-20T10:24:31.930Z"
   },
   {
    "duration": 0,
    "start_time": "2022-05-20T10:24:31.931Z"
   },
   {
    "duration": 0,
    "start_time": "2022-05-20T10:24:31.933Z"
   },
   {
    "duration": 0,
    "start_time": "2022-05-20T10:24:31.934Z"
   },
   {
    "duration": 0,
    "start_time": "2022-05-20T10:24:31.935Z"
   },
   {
    "duration": 0,
    "start_time": "2022-05-20T10:24:31.995Z"
   },
   {
    "duration": 0,
    "start_time": "2022-05-20T10:24:31.996Z"
   },
   {
    "duration": 0,
    "start_time": "2022-05-20T10:24:31.998Z"
   },
   {
    "duration": 0,
    "start_time": "2022-05-20T10:24:31.999Z"
   },
   {
    "duration": 0,
    "start_time": "2022-05-20T10:24:32.000Z"
   },
   {
    "duration": 0,
    "start_time": "2022-05-20T10:24:32.001Z"
   },
   {
    "duration": 0,
    "start_time": "2022-05-20T10:24:32.003Z"
   },
   {
    "duration": 0,
    "start_time": "2022-05-20T10:24:32.004Z"
   },
   {
    "duration": 0,
    "start_time": "2022-05-20T10:24:32.005Z"
   },
   {
    "duration": 0,
    "start_time": "2022-05-20T10:24:32.006Z"
   },
   {
    "duration": 0,
    "start_time": "2022-05-20T10:24:32.008Z"
   },
   {
    "duration": 0,
    "start_time": "2022-05-20T10:24:32.009Z"
   },
   {
    "duration": 0,
    "start_time": "2022-05-20T10:24:32.010Z"
   },
   {
    "duration": 0,
    "start_time": "2022-05-20T10:24:32.012Z"
   },
   {
    "duration": 559,
    "start_time": "2022-05-20T10:24:56.257Z"
   },
   {
    "duration": 15,
    "start_time": "2022-05-20T10:24:56.818Z"
   },
   {
    "duration": 19,
    "start_time": "2022-05-20T10:24:56.837Z"
   },
   {
    "duration": 412,
    "start_time": "2022-05-20T10:24:56.859Z"
   },
   {
    "duration": 29,
    "start_time": "2022-05-20T10:24:57.273Z"
   },
   {
    "duration": 19,
    "start_time": "2022-05-20T10:24:57.303Z"
   },
   {
    "duration": 16,
    "start_time": "2022-05-20T10:24:57.324Z"
   },
   {
    "duration": 24,
    "start_time": "2022-05-20T10:24:57.343Z"
   },
   {
    "duration": 67,
    "start_time": "2022-05-20T10:24:57.372Z"
   },
   {
    "duration": 10,
    "start_time": "2022-05-20T10:24:57.444Z"
   },
   {
    "duration": 10,
    "start_time": "2022-05-20T10:24:57.456Z"
   },
   {
    "duration": 11,
    "start_time": "2022-05-20T10:24:57.494Z"
   },
   {
    "duration": 15,
    "start_time": "2022-05-20T10:24:57.507Z"
   },
   {
    "duration": 17,
    "start_time": "2022-05-20T10:24:57.524Z"
   },
   {
    "duration": 12,
    "start_time": "2022-05-20T10:24:57.543Z"
   },
   {
    "duration": 46,
    "start_time": "2022-05-20T10:24:57.558Z"
   },
   {
    "duration": 35,
    "start_time": "2022-05-20T10:24:57.606Z"
   },
   {
    "duration": 5,
    "start_time": "2022-05-20T10:24:57.643Z"
   },
   {
    "duration": 0,
    "start_time": "2022-05-20T10:24:57.651Z"
   },
   {
    "duration": 1,
    "start_time": "2022-05-20T10:24:57.652Z"
   },
   {
    "duration": 0,
    "start_time": "2022-05-20T10:24:57.654Z"
   },
   {
    "duration": 0,
    "start_time": "2022-05-20T10:24:57.655Z"
   },
   {
    "duration": 0,
    "start_time": "2022-05-20T10:24:57.657Z"
   },
   {
    "duration": 0,
    "start_time": "2022-05-20T10:24:57.658Z"
   },
   {
    "duration": 0,
    "start_time": "2022-05-20T10:24:57.659Z"
   },
   {
    "duration": 0,
    "start_time": "2022-05-20T10:24:57.695Z"
   },
   {
    "duration": 0,
    "start_time": "2022-05-20T10:24:57.697Z"
   },
   {
    "duration": 0,
    "start_time": "2022-05-20T10:24:57.699Z"
   },
   {
    "duration": 0,
    "start_time": "2022-05-20T10:24:57.700Z"
   },
   {
    "duration": 0,
    "start_time": "2022-05-20T10:24:57.702Z"
   },
   {
    "duration": 0,
    "start_time": "2022-05-20T10:24:57.703Z"
   },
   {
    "duration": 0,
    "start_time": "2022-05-20T10:24:57.704Z"
   },
   {
    "duration": 0,
    "start_time": "2022-05-20T10:24:57.706Z"
   },
   {
    "duration": 0,
    "start_time": "2022-05-20T10:24:57.707Z"
   },
   {
    "duration": 0,
    "start_time": "2022-05-20T10:24:57.709Z"
   },
   {
    "duration": 0,
    "start_time": "2022-05-20T10:24:57.711Z"
   },
   {
    "duration": 0,
    "start_time": "2022-05-20T10:24:57.712Z"
   },
   {
    "duration": 0,
    "start_time": "2022-05-20T10:24:57.713Z"
   },
   {
    "duration": 0,
    "start_time": "2022-05-20T10:24:57.715Z"
   },
   {
    "duration": 0,
    "start_time": "2022-05-20T10:24:57.716Z"
   },
   {
    "duration": 0,
    "start_time": "2022-05-20T10:24:57.720Z"
   },
   {
    "duration": 0,
    "start_time": "2022-05-20T10:24:57.721Z"
   },
   {
    "duration": 0,
    "start_time": "2022-05-20T10:24:57.723Z"
   },
   {
    "duration": 0,
    "start_time": "2022-05-20T10:24:57.724Z"
   },
   {
    "duration": 0,
    "start_time": "2022-05-20T10:24:57.725Z"
   },
   {
    "duration": 0,
    "start_time": "2022-05-20T10:24:57.726Z"
   },
   {
    "duration": 1,
    "start_time": "2022-05-20T10:24:57.727Z"
   },
   {
    "duration": 0,
    "start_time": "2022-05-20T10:24:57.729Z"
   },
   {
    "duration": 0,
    "start_time": "2022-05-20T10:24:57.730Z"
   },
   {
    "duration": 0,
    "start_time": "2022-05-20T10:24:57.732Z"
   },
   {
    "duration": 0,
    "start_time": "2022-05-20T10:24:57.734Z"
   },
   {
    "duration": 0,
    "start_time": "2022-05-20T10:24:57.735Z"
   },
   {
    "duration": 0,
    "start_time": "2022-05-20T10:24:57.795Z"
   },
   {
    "duration": 0,
    "start_time": "2022-05-20T10:24:57.796Z"
   },
   {
    "duration": 0,
    "start_time": "2022-05-20T10:24:57.797Z"
   },
   {
    "duration": 0,
    "start_time": "2022-05-20T10:24:57.798Z"
   },
   {
    "duration": 0,
    "start_time": "2022-05-20T10:24:57.799Z"
   },
   {
    "duration": 0,
    "start_time": "2022-05-20T10:24:57.800Z"
   },
   {
    "duration": 0,
    "start_time": "2022-05-20T10:24:57.801Z"
   },
   {
    "duration": 0,
    "start_time": "2022-05-20T10:24:57.802Z"
   },
   {
    "duration": 0,
    "start_time": "2022-05-20T10:24:57.803Z"
   },
   {
    "duration": 0,
    "start_time": "2022-05-20T10:24:57.804Z"
   },
   {
    "duration": 0,
    "start_time": "2022-05-20T10:24:57.806Z"
   },
   {
    "duration": 0,
    "start_time": "2022-05-20T10:24:57.807Z"
   },
   {
    "duration": 0,
    "start_time": "2022-05-20T10:24:57.808Z"
   },
   {
    "duration": 0,
    "start_time": "2022-05-20T10:24:57.810Z"
   },
   {
    "duration": 0,
    "start_time": "2022-05-20T10:24:57.811Z"
   },
   {
    "duration": 0,
    "start_time": "2022-05-20T10:24:57.812Z"
   },
   {
    "duration": 0,
    "start_time": "2022-05-20T10:24:57.813Z"
   },
   {
    "duration": 0,
    "start_time": "2022-05-20T10:24:57.816Z"
   },
   {
    "duration": 0,
    "start_time": "2022-05-20T10:24:57.817Z"
   },
   {
    "duration": 0,
    "start_time": "2022-05-20T10:24:57.818Z"
   },
   {
    "duration": 0,
    "start_time": "2022-05-20T10:24:57.820Z"
   },
   {
    "duration": 0,
    "start_time": "2022-05-20T10:24:57.821Z"
   },
   {
    "duration": 0,
    "start_time": "2022-05-20T10:24:57.822Z"
   },
   {
    "duration": 0,
    "start_time": "2022-05-20T10:24:57.823Z"
   },
   {
    "duration": 0,
    "start_time": "2022-05-20T10:24:57.824Z"
   },
   {
    "duration": 559,
    "start_time": "2022-05-20T10:25:27.123Z"
   },
   {
    "duration": 15,
    "start_time": "2022-05-20T10:25:27.685Z"
   },
   {
    "duration": 23,
    "start_time": "2022-05-20T10:25:27.702Z"
   },
   {
    "duration": 334,
    "start_time": "2022-05-20T10:25:27.727Z"
   },
   {
    "duration": 10,
    "start_time": "2022-05-20T10:25:28.064Z"
   },
   {
    "duration": 24,
    "start_time": "2022-05-20T10:25:28.076Z"
   },
   {
    "duration": 6,
    "start_time": "2022-05-20T10:25:28.101Z"
   },
   {
    "duration": 27,
    "start_time": "2022-05-20T10:25:28.108Z"
   },
   {
    "duration": 36,
    "start_time": "2022-05-20T10:25:28.137Z"
   },
   {
    "duration": 27,
    "start_time": "2022-05-20T10:25:28.174Z"
   },
   {
    "duration": 6,
    "start_time": "2022-05-20T10:25:28.202Z"
   },
   {
    "duration": 12,
    "start_time": "2022-05-20T10:25:28.210Z"
   },
   {
    "duration": 11,
    "start_time": "2022-05-20T10:25:28.224Z"
   },
   {
    "duration": 17,
    "start_time": "2022-05-20T10:25:28.237Z"
   },
   {
    "duration": 10,
    "start_time": "2022-05-20T10:25:28.256Z"
   },
   {
    "duration": 42,
    "start_time": "2022-05-20T10:25:28.268Z"
   },
   {
    "duration": 35,
    "start_time": "2022-05-20T10:25:28.312Z"
   },
   {
    "duration": 102,
    "start_time": "2022-05-20T10:25:28.349Z"
   },
   {
    "duration": 0,
    "start_time": "2022-05-20T10:25:28.454Z"
   },
   {
    "duration": 0,
    "start_time": "2022-05-20T10:25:28.455Z"
   },
   {
    "duration": 0,
    "start_time": "2022-05-20T10:25:28.457Z"
   },
   {
    "duration": 0,
    "start_time": "2022-05-20T10:25:28.458Z"
   },
   {
    "duration": 0,
    "start_time": "2022-05-20T10:25:28.459Z"
   },
   {
    "duration": 0,
    "start_time": "2022-05-20T10:25:28.460Z"
   },
   {
    "duration": 0,
    "start_time": "2022-05-20T10:25:28.462Z"
   },
   {
    "duration": 0,
    "start_time": "2022-05-20T10:25:28.463Z"
   },
   {
    "duration": 0,
    "start_time": "2022-05-20T10:25:28.464Z"
   },
   {
    "duration": 0,
    "start_time": "2022-05-20T10:25:28.465Z"
   },
   {
    "duration": 0,
    "start_time": "2022-05-20T10:25:28.466Z"
   },
   {
    "duration": 0,
    "start_time": "2022-05-20T10:25:28.494Z"
   },
   {
    "duration": 0,
    "start_time": "2022-05-20T10:25:28.496Z"
   },
   {
    "duration": 0,
    "start_time": "2022-05-20T10:25:28.497Z"
   },
   {
    "duration": 0,
    "start_time": "2022-05-20T10:25:28.498Z"
   },
   {
    "duration": 1,
    "start_time": "2022-05-20T10:25:28.499Z"
   },
   {
    "duration": 0,
    "start_time": "2022-05-20T10:25:28.500Z"
   },
   {
    "duration": 0,
    "start_time": "2022-05-20T10:25:28.502Z"
   },
   {
    "duration": 0,
    "start_time": "2022-05-20T10:25:28.503Z"
   },
   {
    "duration": 0,
    "start_time": "2022-05-20T10:25:28.504Z"
   },
   {
    "duration": 0,
    "start_time": "2022-05-20T10:25:28.505Z"
   },
   {
    "duration": 1,
    "start_time": "2022-05-20T10:25:28.505Z"
   },
   {
    "duration": 0,
    "start_time": "2022-05-20T10:25:28.506Z"
   },
   {
    "duration": 0,
    "start_time": "2022-05-20T10:25:28.507Z"
   },
   {
    "duration": 0,
    "start_time": "2022-05-20T10:25:28.509Z"
   },
   {
    "duration": 0,
    "start_time": "2022-05-20T10:25:28.509Z"
   },
   {
    "duration": 0,
    "start_time": "2022-05-20T10:25:28.510Z"
   },
   {
    "duration": 0,
    "start_time": "2022-05-20T10:25:28.512Z"
   },
   {
    "duration": 0,
    "start_time": "2022-05-20T10:25:28.513Z"
   },
   {
    "duration": 0,
    "start_time": "2022-05-20T10:25:28.514Z"
   },
   {
    "duration": 0,
    "start_time": "2022-05-20T10:25:28.515Z"
   },
   {
    "duration": 0,
    "start_time": "2022-05-20T10:25:28.516Z"
   },
   {
    "duration": 0,
    "start_time": "2022-05-20T10:25:28.517Z"
   },
   {
    "duration": 0,
    "start_time": "2022-05-20T10:25:28.518Z"
   },
   {
    "duration": 0,
    "start_time": "2022-05-20T10:25:28.519Z"
   },
   {
    "duration": 0,
    "start_time": "2022-05-20T10:25:28.521Z"
   },
   {
    "duration": 0,
    "start_time": "2022-05-20T10:25:28.522Z"
   },
   {
    "duration": 0,
    "start_time": "2022-05-20T10:25:28.523Z"
   },
   {
    "duration": 0,
    "start_time": "2022-05-20T10:25:28.524Z"
   },
   {
    "duration": 0,
    "start_time": "2022-05-20T10:25:28.525Z"
   },
   {
    "duration": 0,
    "start_time": "2022-05-20T10:25:28.526Z"
   },
   {
    "duration": 0,
    "start_time": "2022-05-20T10:25:28.527Z"
   },
   {
    "duration": 0,
    "start_time": "2022-05-20T10:25:28.528Z"
   },
   {
    "duration": 0,
    "start_time": "2022-05-20T10:25:28.530Z"
   },
   {
    "duration": 0,
    "start_time": "2022-05-20T10:25:28.531Z"
   },
   {
    "duration": 0,
    "start_time": "2022-05-20T10:25:28.532Z"
   },
   {
    "duration": 0,
    "start_time": "2022-05-20T10:25:28.595Z"
   },
   {
    "duration": 1,
    "start_time": "2022-05-20T10:25:28.596Z"
   },
   {
    "duration": 0,
    "start_time": "2022-05-20T10:25:28.598Z"
   },
   {
    "duration": 0,
    "start_time": "2022-05-20T10:25:28.599Z"
   },
   {
    "duration": 0,
    "start_time": "2022-05-20T10:25:28.600Z"
   },
   {
    "duration": 0,
    "start_time": "2022-05-20T10:25:28.601Z"
   },
   {
    "duration": 0,
    "start_time": "2022-05-20T10:25:28.602Z"
   },
   {
    "duration": 0,
    "start_time": "2022-05-20T10:25:28.603Z"
   },
   {
    "duration": 0,
    "start_time": "2022-05-20T10:25:28.604Z"
   },
   {
    "duration": 0,
    "start_time": "2022-05-20T10:25:28.605Z"
   },
   {
    "duration": 0,
    "start_time": "2022-05-20T10:25:28.606Z"
   },
   {
    "duration": 0,
    "start_time": "2022-05-20T10:25:28.607Z"
   },
   {
    "duration": 0,
    "start_time": "2022-05-20T10:25:28.608Z"
   },
   {
    "duration": 536,
    "start_time": "2022-05-20T10:26:02.759Z"
   },
   {
    "duration": 15,
    "start_time": "2022-05-20T10:26:03.297Z"
   },
   {
    "duration": 16,
    "start_time": "2022-05-20T10:26:03.314Z"
   },
   {
    "duration": 344,
    "start_time": "2022-05-20T10:26:03.333Z"
   },
   {
    "duration": 22,
    "start_time": "2022-05-20T10:26:03.678Z"
   },
   {
    "duration": 10,
    "start_time": "2022-05-20T10:26:03.703Z"
   },
   {
    "duration": 7,
    "start_time": "2022-05-20T10:26:03.715Z"
   },
   {
    "duration": 42,
    "start_time": "2022-05-20T10:26:03.724Z"
   },
   {
    "duration": 43,
    "start_time": "2022-05-20T10:26:03.769Z"
   },
   {
    "duration": 9,
    "start_time": "2022-05-20T10:26:03.815Z"
   },
   {
    "duration": 8,
    "start_time": "2022-05-20T10:26:03.826Z"
   },
   {
    "duration": 16,
    "start_time": "2022-05-20T10:26:03.836Z"
   },
   {
    "duration": 14,
    "start_time": "2022-05-20T10:26:03.854Z"
   },
   {
    "duration": 34,
    "start_time": "2022-05-20T10:26:03.869Z"
   },
   {
    "duration": 6,
    "start_time": "2022-05-20T10:26:03.905Z"
   },
   {
    "duration": 22,
    "start_time": "2022-05-20T10:26:03.913Z"
   },
   {
    "duration": 33,
    "start_time": "2022-05-20T10:26:03.937Z"
   },
   {
    "duration": 31,
    "start_time": "2022-05-20T10:26:03.972Z"
   },
   {
    "duration": 149,
    "start_time": "2022-05-20T10:26:04.004Z"
   },
   {
    "duration": 253,
    "start_time": "2022-05-20T10:26:04.154Z"
   },
   {
    "duration": 6,
    "start_time": "2022-05-20T10:26:04.409Z"
   },
   {
    "duration": 8,
    "start_time": "2022-05-20T10:26:04.416Z"
   },
   {
    "duration": 12,
    "start_time": "2022-05-20T10:26:04.425Z"
   },
   {
    "duration": 13,
    "start_time": "2022-05-20T10:26:04.438Z"
   },
   {
    "duration": 4,
    "start_time": "2022-05-20T10:26:04.453Z"
   },
   {
    "duration": 224,
    "start_time": "2022-05-20T10:26:04.459Z"
   },
   {
    "duration": 12,
    "start_time": "2022-05-20T10:26:04.685Z"
   },
   {
    "duration": 5,
    "start_time": "2022-05-20T10:26:04.701Z"
   },
   {
    "duration": 9,
    "start_time": "2022-05-20T10:26:04.708Z"
   },
   {
    "duration": 15,
    "start_time": "2022-05-20T10:26:04.718Z"
   },
   {
    "duration": 17,
    "start_time": "2022-05-20T10:26:04.735Z"
   },
   {
    "duration": 13,
    "start_time": "2022-05-20T10:26:04.753Z"
   },
   {
    "duration": 37,
    "start_time": "2022-05-20T10:26:04.768Z"
   },
   {
    "duration": 268,
    "start_time": "2022-05-20T10:26:04.807Z"
   },
   {
    "duration": 18,
    "start_time": "2022-05-20T10:26:05.077Z"
   },
   {
    "duration": 4,
    "start_time": "2022-05-20T10:26:05.097Z"
   },
   {
    "duration": 12,
    "start_time": "2022-05-20T10:26:05.102Z"
   },
   {
    "duration": 6,
    "start_time": "2022-05-20T10:26:05.115Z"
   },
   {
    "duration": 13,
    "start_time": "2022-05-20T10:26:05.122Z"
   },
   {
    "duration": 8,
    "start_time": "2022-05-20T10:26:05.137Z"
   },
   {
    "duration": 11,
    "start_time": "2022-05-20T10:26:05.147Z"
   },
   {
    "duration": 37,
    "start_time": "2022-05-20T10:26:05.159Z"
   },
   {
    "duration": 23,
    "start_time": "2022-05-20T10:26:05.197Z"
   },
   {
    "duration": 14,
    "start_time": "2022-05-20T10:26:05.221Z"
   },
   {
    "duration": 10,
    "start_time": "2022-05-20T10:26:05.237Z"
   },
   {
    "duration": 5,
    "start_time": "2022-05-20T10:26:05.248Z"
   },
   {
    "duration": 14,
    "start_time": "2022-05-20T10:26:05.255Z"
   },
   {
    "duration": 25,
    "start_time": "2022-05-20T10:26:05.271Z"
   },
   {
    "duration": 17,
    "start_time": "2022-05-20T10:26:05.297Z"
   },
   {
    "duration": 5,
    "start_time": "2022-05-20T10:26:05.315Z"
   },
   {
    "duration": 13,
    "start_time": "2022-05-20T10:26:05.321Z"
   },
   {
    "duration": 29,
    "start_time": "2022-05-20T10:26:05.335Z"
   },
   {
    "duration": 17,
    "start_time": "2022-05-20T10:26:05.366Z"
   },
   {
    "duration": 11,
    "start_time": "2022-05-20T10:26:05.387Z"
   },
   {
    "duration": 21,
    "start_time": "2022-05-20T10:26:05.401Z"
   },
   {
    "duration": 18,
    "start_time": "2022-05-20T10:26:05.424Z"
   },
   {
    "duration": 9,
    "start_time": "2022-05-20T10:26:05.444Z"
   },
   {
    "duration": 31,
    "start_time": "2022-05-20T10:26:05.455Z"
   },
   {
    "duration": 22,
    "start_time": "2022-05-20T10:26:05.488Z"
   },
   {
    "duration": 5,
    "start_time": "2022-05-20T10:26:05.512Z"
   },
   {
    "duration": 21,
    "start_time": "2022-05-20T10:26:05.520Z"
   },
   {
    "duration": 25,
    "start_time": "2022-05-20T10:26:05.543Z"
   },
   {
    "duration": 26,
    "start_time": "2022-05-20T10:26:05.570Z"
   },
   {
    "duration": 11,
    "start_time": "2022-05-20T10:26:05.598Z"
   },
   {
    "duration": 22,
    "start_time": "2022-05-20T10:26:05.610Z"
   },
   {
    "duration": 21,
    "start_time": "2022-05-20T10:26:05.634Z"
   },
   {
    "duration": 10,
    "start_time": "2022-05-20T10:26:05.657Z"
   },
   {
    "duration": 30,
    "start_time": "2022-05-20T10:26:05.669Z"
   },
   {
    "duration": 10,
    "start_time": "2022-05-20T10:26:05.701Z"
   },
   {
    "duration": 22,
    "start_time": "2022-05-20T10:26:05.712Z"
   },
   {
    "duration": 7,
    "start_time": "2022-05-20T10:26:05.735Z"
   },
   {
    "duration": 21,
    "start_time": "2022-05-20T10:26:05.744Z"
   },
   {
    "duration": 42,
    "start_time": "2022-05-20T10:26:05.766Z"
   },
   {
    "duration": 20,
    "start_time": "2022-05-20T10:26:05.810Z"
   },
   {
    "duration": 5,
    "start_time": "2022-05-20T10:26:05.832Z"
   },
   {
    "duration": 15,
    "start_time": "2022-05-20T10:26:05.839Z"
   },
   {
    "duration": 43,
    "start_time": "2022-05-20T10:26:05.855Z"
   },
   {
    "duration": 560,
    "start_time": "2022-05-20T10:26:40.297Z"
   },
   {
    "duration": 14,
    "start_time": "2022-05-20T10:26:40.860Z"
   },
   {
    "duration": 27,
    "start_time": "2022-05-20T10:26:40.876Z"
   },
   {
    "duration": 354,
    "start_time": "2022-05-20T10:26:40.905Z"
   },
   {
    "duration": 12,
    "start_time": "2022-05-20T10:26:41.261Z"
   },
   {
    "duration": 25,
    "start_time": "2022-05-20T10:26:41.275Z"
   },
   {
    "duration": 7,
    "start_time": "2022-05-20T10:26:41.302Z"
   },
   {
    "duration": 20,
    "start_time": "2022-05-20T10:26:41.310Z"
   },
   {
    "duration": 63,
    "start_time": "2022-05-20T10:26:41.332Z"
   },
   {
    "duration": 8,
    "start_time": "2022-05-20T10:26:41.397Z"
   },
   {
    "duration": 6,
    "start_time": "2022-05-20T10:26:41.407Z"
   },
   {
    "duration": 12,
    "start_time": "2022-05-20T10:26:41.414Z"
   },
   {
    "duration": 7,
    "start_time": "2022-05-20T10:26:41.428Z"
   },
   {
    "duration": 11,
    "start_time": "2022-05-20T10:26:41.436Z"
   },
   {
    "duration": 6,
    "start_time": "2022-05-20T10:26:41.449Z"
   },
   {
    "duration": 53,
    "start_time": "2022-05-20T10:26:41.456Z"
   },
   {
    "duration": 34,
    "start_time": "2022-05-20T10:26:41.512Z"
   },
   {
    "duration": 107,
    "start_time": "2022-05-20T10:26:41.548Z"
   },
   {
    "duration": 0,
    "start_time": "2022-05-20T10:26:41.659Z"
   },
   {
    "duration": 0,
    "start_time": "2022-05-20T10:26:41.660Z"
   },
   {
    "duration": 0,
    "start_time": "2022-05-20T10:26:41.662Z"
   },
   {
    "duration": 0,
    "start_time": "2022-05-20T10:26:41.663Z"
   },
   {
    "duration": 0,
    "start_time": "2022-05-20T10:26:41.665Z"
   },
   {
    "duration": 0,
    "start_time": "2022-05-20T10:26:41.666Z"
   },
   {
    "duration": 0,
    "start_time": "2022-05-20T10:26:41.668Z"
   },
   {
    "duration": 0,
    "start_time": "2022-05-20T10:26:41.670Z"
   },
   {
    "duration": 0,
    "start_time": "2022-05-20T10:26:41.671Z"
   },
   {
    "duration": 0,
    "start_time": "2022-05-20T10:26:41.695Z"
   },
   {
    "duration": 0,
    "start_time": "2022-05-20T10:26:41.696Z"
   },
   {
    "duration": 0,
    "start_time": "2022-05-20T10:26:41.698Z"
   },
   {
    "duration": 0,
    "start_time": "2022-05-20T10:26:41.700Z"
   },
   {
    "duration": 0,
    "start_time": "2022-05-20T10:26:41.701Z"
   },
   {
    "duration": 0,
    "start_time": "2022-05-20T10:26:41.702Z"
   },
   {
    "duration": 0,
    "start_time": "2022-05-20T10:26:41.704Z"
   },
   {
    "duration": 0,
    "start_time": "2022-05-20T10:26:41.705Z"
   },
   {
    "duration": 0,
    "start_time": "2022-05-20T10:26:41.707Z"
   },
   {
    "duration": 0,
    "start_time": "2022-05-20T10:26:41.708Z"
   },
   {
    "duration": 0,
    "start_time": "2022-05-20T10:26:41.710Z"
   },
   {
    "duration": 0,
    "start_time": "2022-05-20T10:26:41.711Z"
   },
   {
    "duration": 0,
    "start_time": "2022-05-20T10:26:41.712Z"
   },
   {
    "duration": 0,
    "start_time": "2022-05-20T10:26:41.713Z"
   },
   {
    "duration": 0,
    "start_time": "2022-05-20T10:26:41.715Z"
   },
   {
    "duration": 0,
    "start_time": "2022-05-20T10:26:41.717Z"
   },
   {
    "duration": 0,
    "start_time": "2022-05-20T10:26:41.718Z"
   },
   {
    "duration": 0,
    "start_time": "2022-05-20T10:26:41.720Z"
   },
   {
    "duration": 0,
    "start_time": "2022-05-20T10:26:41.721Z"
   },
   {
    "duration": 0,
    "start_time": "2022-05-20T10:26:41.723Z"
   },
   {
    "duration": 0,
    "start_time": "2022-05-20T10:26:41.725Z"
   },
   {
    "duration": 0,
    "start_time": "2022-05-20T10:26:41.726Z"
   },
   {
    "duration": 0,
    "start_time": "2022-05-20T10:26:41.727Z"
   },
   {
    "duration": 0,
    "start_time": "2022-05-20T10:26:41.728Z"
   },
   {
    "duration": 0,
    "start_time": "2022-05-20T10:26:41.729Z"
   },
   {
    "duration": 0,
    "start_time": "2022-05-20T10:26:41.730Z"
   },
   {
    "duration": 0,
    "start_time": "2022-05-20T10:26:41.731Z"
   },
   {
    "duration": 0,
    "start_time": "2022-05-20T10:26:41.732Z"
   },
   {
    "duration": 0,
    "start_time": "2022-05-20T10:26:41.733Z"
   },
   {
    "duration": 0,
    "start_time": "2022-05-20T10:26:41.734Z"
   },
   {
    "duration": 0,
    "start_time": "2022-05-20T10:26:41.735Z"
   },
   {
    "duration": 0,
    "start_time": "2022-05-20T10:26:41.795Z"
   },
   {
    "duration": 0,
    "start_time": "2022-05-20T10:26:41.796Z"
   },
   {
    "duration": 0,
    "start_time": "2022-05-20T10:26:41.798Z"
   },
   {
    "duration": 0,
    "start_time": "2022-05-20T10:26:41.799Z"
   },
   {
    "duration": 0,
    "start_time": "2022-05-20T10:26:41.800Z"
   },
   {
    "duration": 0,
    "start_time": "2022-05-20T10:26:41.801Z"
   },
   {
    "duration": 0,
    "start_time": "2022-05-20T10:26:41.802Z"
   },
   {
    "duration": 0,
    "start_time": "2022-05-20T10:26:41.803Z"
   },
   {
    "duration": 0,
    "start_time": "2022-05-20T10:26:41.804Z"
   },
   {
    "duration": 0,
    "start_time": "2022-05-20T10:26:41.805Z"
   },
   {
    "duration": 0,
    "start_time": "2022-05-20T10:26:41.806Z"
   },
   {
    "duration": 0,
    "start_time": "2022-05-20T10:26:41.807Z"
   },
   {
    "duration": 0,
    "start_time": "2022-05-20T10:26:41.808Z"
   },
   {
    "duration": 0,
    "start_time": "2022-05-20T10:26:41.809Z"
   },
   {
    "duration": 0,
    "start_time": "2022-05-20T10:26:41.810Z"
   },
   {
    "duration": 0,
    "start_time": "2022-05-20T10:26:41.811Z"
   },
   {
    "duration": 0,
    "start_time": "2022-05-20T10:26:41.812Z"
   },
   {
    "duration": 0,
    "start_time": "2022-05-20T10:26:41.814Z"
   },
   {
    "duration": 0,
    "start_time": "2022-05-20T10:26:41.815Z"
   },
   {
    "duration": 548,
    "start_time": "2022-05-20T10:29:18.586Z"
   },
   {
    "duration": 13,
    "start_time": "2022-05-20T10:29:19.136Z"
   },
   {
    "duration": 17,
    "start_time": "2022-05-20T10:29:19.151Z"
   },
   {
    "duration": 332,
    "start_time": "2022-05-20T10:29:19.171Z"
   },
   {
    "duration": 10,
    "start_time": "2022-05-20T10:29:19.504Z"
   },
   {
    "duration": 9,
    "start_time": "2022-05-20T10:29:19.516Z"
   },
   {
    "duration": 6,
    "start_time": "2022-05-20T10:29:19.526Z"
   },
   {
    "duration": 18,
    "start_time": "2022-05-20T10:29:19.533Z"
   },
   {
    "duration": 64,
    "start_time": "2022-05-20T10:29:19.553Z"
   },
   {
    "duration": 7,
    "start_time": "2022-05-20T10:29:19.620Z"
   },
   {
    "duration": 5,
    "start_time": "2022-05-20T10:29:19.629Z"
   },
   {
    "duration": 7,
    "start_time": "2022-05-20T10:29:19.636Z"
   },
   {
    "duration": 7,
    "start_time": "2022-05-20T10:29:19.645Z"
   },
   {
    "duration": 43,
    "start_time": "2022-05-20T10:29:19.653Z"
   },
   {
    "duration": 5,
    "start_time": "2022-05-20T10:29:19.698Z"
   },
   {
    "duration": 21,
    "start_time": "2022-05-20T10:29:19.704Z"
   },
   {
    "duration": 30,
    "start_time": "2022-05-20T10:29:19.727Z"
   },
   {
    "duration": 112,
    "start_time": "2022-05-20T10:29:19.759Z"
   },
   {
    "duration": 0,
    "start_time": "2022-05-20T10:29:19.875Z"
   },
   {
    "duration": 0,
    "start_time": "2022-05-20T10:29:19.876Z"
   },
   {
    "duration": 0,
    "start_time": "2022-05-20T10:29:19.877Z"
   },
   {
    "duration": 0,
    "start_time": "2022-05-20T10:29:19.878Z"
   },
   {
    "duration": 0,
    "start_time": "2022-05-20T10:29:19.879Z"
   },
   {
    "duration": 0,
    "start_time": "2022-05-20T10:29:19.880Z"
   },
   {
    "duration": 0,
    "start_time": "2022-05-20T10:29:19.895Z"
   },
   {
    "duration": 0,
    "start_time": "2022-05-20T10:29:19.896Z"
   },
   {
    "duration": 0,
    "start_time": "2022-05-20T10:29:19.897Z"
   },
   {
    "duration": 0,
    "start_time": "2022-05-20T10:29:19.898Z"
   },
   {
    "duration": 0,
    "start_time": "2022-05-20T10:29:19.899Z"
   },
   {
    "duration": 0,
    "start_time": "2022-05-20T10:29:19.900Z"
   },
   {
    "duration": 0,
    "start_time": "2022-05-20T10:29:19.902Z"
   },
   {
    "duration": 0,
    "start_time": "2022-05-20T10:29:19.903Z"
   },
   {
    "duration": 0,
    "start_time": "2022-05-20T10:29:19.904Z"
   },
   {
    "duration": 0,
    "start_time": "2022-05-20T10:29:19.905Z"
   },
   {
    "duration": 0,
    "start_time": "2022-05-20T10:29:19.906Z"
   },
   {
    "duration": 0,
    "start_time": "2022-05-20T10:29:19.907Z"
   },
   {
    "duration": 0,
    "start_time": "2022-05-20T10:29:19.908Z"
   },
   {
    "duration": 0,
    "start_time": "2022-05-20T10:29:19.909Z"
   },
   {
    "duration": 0,
    "start_time": "2022-05-20T10:29:19.910Z"
   },
   {
    "duration": 0,
    "start_time": "2022-05-20T10:29:19.911Z"
   },
   {
    "duration": 0,
    "start_time": "2022-05-20T10:29:19.911Z"
   },
   {
    "duration": 0,
    "start_time": "2022-05-20T10:29:19.912Z"
   },
   {
    "duration": 0,
    "start_time": "2022-05-20T10:29:19.913Z"
   },
   {
    "duration": 0,
    "start_time": "2022-05-20T10:29:19.914Z"
   },
   {
    "duration": 0,
    "start_time": "2022-05-20T10:29:19.915Z"
   },
   {
    "duration": 0,
    "start_time": "2022-05-20T10:29:19.916Z"
   },
   {
    "duration": 0,
    "start_time": "2022-05-20T10:29:19.916Z"
   },
   {
    "duration": 0,
    "start_time": "2022-05-20T10:29:19.917Z"
   },
   {
    "duration": 0,
    "start_time": "2022-05-20T10:29:19.918Z"
   },
   {
    "duration": 0,
    "start_time": "2022-05-20T10:29:19.920Z"
   },
   {
    "duration": 0,
    "start_time": "2022-05-20T10:29:19.921Z"
   },
   {
    "duration": 0,
    "start_time": "2022-05-20T10:29:19.922Z"
   },
   {
    "duration": 0,
    "start_time": "2022-05-20T10:29:19.923Z"
   },
   {
    "duration": 0,
    "start_time": "2022-05-20T10:29:19.925Z"
   },
   {
    "duration": 0,
    "start_time": "2022-05-20T10:29:19.926Z"
   },
   {
    "duration": 0,
    "start_time": "2022-05-20T10:29:19.927Z"
   },
   {
    "duration": 0,
    "start_time": "2022-05-20T10:29:19.928Z"
   },
   {
    "duration": 0,
    "start_time": "2022-05-20T10:29:19.929Z"
   },
   {
    "duration": 0,
    "start_time": "2022-05-20T10:29:19.930Z"
   },
   {
    "duration": 0,
    "start_time": "2022-05-20T10:29:19.931Z"
   },
   {
    "duration": 0,
    "start_time": "2022-05-20T10:29:19.995Z"
   },
   {
    "duration": 0,
    "start_time": "2022-05-20T10:29:19.996Z"
   },
   {
    "duration": 0,
    "start_time": "2022-05-20T10:29:19.997Z"
   },
   {
    "duration": 0,
    "start_time": "2022-05-20T10:29:19.998Z"
   },
   {
    "duration": 0,
    "start_time": "2022-05-20T10:29:19.999Z"
   },
   {
    "duration": 0,
    "start_time": "2022-05-20T10:29:20.000Z"
   },
   {
    "duration": 0,
    "start_time": "2022-05-20T10:29:20.001Z"
   },
   {
    "duration": 0,
    "start_time": "2022-05-20T10:29:20.002Z"
   },
   {
    "duration": 0,
    "start_time": "2022-05-20T10:29:20.003Z"
   },
   {
    "duration": 0,
    "start_time": "2022-05-20T10:29:20.004Z"
   },
   {
    "duration": 0,
    "start_time": "2022-05-20T10:29:20.006Z"
   },
   {
    "duration": 0,
    "start_time": "2022-05-20T10:29:20.006Z"
   },
   {
    "duration": 0,
    "start_time": "2022-05-20T10:29:20.007Z"
   },
   {
    "duration": 0,
    "start_time": "2022-05-20T10:29:20.008Z"
   },
   {
    "duration": 0,
    "start_time": "2022-05-20T10:29:20.009Z"
   },
   {
    "duration": 0,
    "start_time": "2022-05-20T10:29:20.010Z"
   },
   {
    "duration": 0,
    "start_time": "2022-05-20T10:29:20.011Z"
   },
   {
    "duration": 506,
    "start_time": "2022-05-20T10:34:19.010Z"
   },
   {
    "duration": 13,
    "start_time": "2022-05-20T10:34:19.518Z"
   },
   {
    "duration": 27,
    "start_time": "2022-05-20T10:34:19.532Z"
   },
   {
    "duration": 321,
    "start_time": "2022-05-20T10:34:19.560Z"
   },
   {
    "duration": 15,
    "start_time": "2022-05-20T10:34:19.884Z"
   },
   {
    "duration": 22,
    "start_time": "2022-05-20T10:34:19.900Z"
   },
   {
    "duration": 6,
    "start_time": "2022-05-20T10:34:19.923Z"
   },
   {
    "duration": 32,
    "start_time": "2022-05-20T10:34:19.930Z"
   },
   {
    "duration": 39,
    "start_time": "2022-05-20T10:34:19.964Z"
   },
   {
    "duration": 9,
    "start_time": "2022-05-20T10:34:20.005Z"
   },
   {
    "duration": 24,
    "start_time": "2022-05-20T10:34:20.015Z"
   },
   {
    "duration": 23,
    "start_time": "2022-05-20T10:34:20.041Z"
   },
   {
    "duration": 20,
    "start_time": "2022-05-20T10:34:20.066Z"
   },
   {
    "duration": 10,
    "start_time": "2022-05-20T10:34:20.090Z"
   },
   {
    "duration": 32,
    "start_time": "2022-05-20T10:34:20.102Z"
   },
   {
    "duration": 26,
    "start_time": "2022-05-20T10:34:20.136Z"
   },
   {
    "duration": 53,
    "start_time": "2022-05-20T10:34:20.164Z"
   },
   {
    "duration": 16,
    "start_time": "2022-05-20T10:34:20.219Z"
   },
   {
    "duration": 146,
    "start_time": "2022-05-20T10:34:20.236Z"
   },
   {
    "duration": 244,
    "start_time": "2022-05-20T10:34:20.383Z"
   },
   {
    "duration": 6,
    "start_time": "2022-05-20T10:34:20.628Z"
   },
   {
    "duration": 26,
    "start_time": "2022-05-20T10:34:20.635Z"
   },
   {
    "duration": 10,
    "start_time": "2022-05-20T10:34:20.663Z"
   },
   {
    "duration": 35,
    "start_time": "2022-05-20T10:34:20.675Z"
   },
   {
    "duration": 12,
    "start_time": "2022-05-20T10:34:20.712Z"
   },
   {
    "duration": 205,
    "start_time": "2022-05-20T10:34:20.725Z"
   },
   {
    "duration": 5,
    "start_time": "2022-05-20T10:34:20.931Z"
   },
   {
    "duration": 12,
    "start_time": "2022-05-20T10:34:20.938Z"
   },
   {
    "duration": 15,
    "start_time": "2022-05-20T10:34:20.951Z"
   },
   {
    "duration": 18,
    "start_time": "2022-05-20T10:34:20.967Z"
   },
   {
    "duration": 23,
    "start_time": "2022-05-20T10:34:20.987Z"
   },
   {
    "duration": 14,
    "start_time": "2022-05-20T10:34:21.012Z"
   },
   {
    "duration": 27,
    "start_time": "2022-05-20T10:34:21.027Z"
   },
   {
    "duration": 238,
    "start_time": "2022-05-20T10:34:21.056Z"
   },
   {
    "duration": 9,
    "start_time": "2022-05-20T10:34:21.296Z"
   },
   {
    "duration": 7,
    "start_time": "2022-05-20T10:34:21.306Z"
   },
   {
    "duration": 29,
    "start_time": "2022-05-20T10:34:21.315Z"
   },
   {
    "duration": 8,
    "start_time": "2022-05-20T10:34:21.346Z"
   },
   {
    "duration": 15,
    "start_time": "2022-05-20T10:34:21.356Z"
   },
   {
    "duration": 11,
    "start_time": "2022-05-20T10:34:21.372Z"
   },
   {
    "duration": 21,
    "start_time": "2022-05-20T10:34:21.386Z"
   },
   {
    "duration": 21,
    "start_time": "2022-05-20T10:34:21.409Z"
   },
   {
    "duration": 38,
    "start_time": "2022-05-20T10:34:21.431Z"
   },
   {
    "duration": 12,
    "start_time": "2022-05-20T10:34:21.471Z"
   },
   {
    "duration": 12,
    "start_time": "2022-05-20T10:34:21.485Z"
   },
   {
    "duration": 5,
    "start_time": "2022-05-20T10:34:21.498Z"
   },
   {
    "duration": 8,
    "start_time": "2022-05-20T10:34:21.504Z"
   },
   {
    "duration": 10,
    "start_time": "2022-05-20T10:34:21.514Z"
   },
   {
    "duration": 7,
    "start_time": "2022-05-20T10:34:21.526Z"
   },
   {
    "duration": 5,
    "start_time": "2022-05-20T10:34:21.535Z"
   },
   {
    "duration": 11,
    "start_time": "2022-05-20T10:34:21.541Z"
   },
   {
    "duration": 41,
    "start_time": "2022-05-20T10:34:21.554Z"
   },
   {
    "duration": 13,
    "start_time": "2022-05-20T10:34:21.597Z"
   },
   {
    "duration": 7,
    "start_time": "2022-05-20T10:34:21.612Z"
   },
   {
    "duration": 5,
    "start_time": "2022-05-20T10:34:21.621Z"
   },
   {
    "duration": 10,
    "start_time": "2022-05-20T10:34:21.627Z"
   },
   {
    "duration": 5,
    "start_time": "2022-05-20T10:34:21.638Z"
   },
   {
    "duration": 18,
    "start_time": "2022-05-20T10:34:21.644Z"
   },
   {
    "duration": 40,
    "start_time": "2022-05-20T10:34:21.663Z"
   },
   {
    "duration": 4,
    "start_time": "2022-05-20T10:34:21.705Z"
   },
   {
    "duration": 20,
    "start_time": "2022-05-20T10:34:21.711Z"
   },
   {
    "duration": 17,
    "start_time": "2022-05-20T10:34:21.733Z"
   },
   {
    "duration": 12,
    "start_time": "2022-05-20T10:34:21.752Z"
   },
   {
    "duration": 34,
    "start_time": "2022-05-20T10:34:21.766Z"
   },
   {
    "duration": 14,
    "start_time": "2022-05-20T10:34:21.802Z"
   },
   {
    "duration": 20,
    "start_time": "2022-05-20T10:34:21.818Z"
   },
   {
    "duration": 8,
    "start_time": "2022-05-20T10:34:21.839Z"
   },
   {
    "duration": 47,
    "start_time": "2022-05-20T10:34:21.848Z"
   },
   {
    "duration": 6,
    "start_time": "2022-05-20T10:34:21.897Z"
   },
   {
    "duration": 24,
    "start_time": "2022-05-20T10:34:21.904Z"
   },
   {
    "duration": 6,
    "start_time": "2022-05-20T10:34:21.929Z"
   },
   {
    "duration": 23,
    "start_time": "2022-05-20T10:34:21.937Z"
   },
   {
    "duration": 36,
    "start_time": "2022-05-20T10:34:21.962Z"
   },
   {
    "duration": 19,
    "start_time": "2022-05-20T10:34:21.999Z"
   },
   {
    "duration": 5,
    "start_time": "2022-05-20T10:34:22.021Z"
   },
   {
    "duration": 14,
    "start_time": "2022-05-20T10:34:22.027Z"
   },
   {
    "duration": 19,
    "start_time": "2022-05-20T10:34:22.042Z"
   },
   {
    "duration": 558,
    "start_time": "2022-05-20T10:41:16.726Z"
   },
   {
    "duration": 18,
    "start_time": "2022-05-20T10:41:17.287Z"
   },
   {
    "duration": 36,
    "start_time": "2022-05-20T10:41:17.307Z"
   },
   {
    "duration": 361,
    "start_time": "2022-05-20T10:41:17.345Z"
   },
   {
    "duration": 12,
    "start_time": "2022-05-20T10:41:17.708Z"
   },
   {
    "duration": 10,
    "start_time": "2022-05-20T10:41:17.721Z"
   },
   {
    "duration": 5,
    "start_time": "2022-05-20T10:41:17.733Z"
   },
   {
    "duration": 23,
    "start_time": "2022-05-20T10:41:17.740Z"
   },
   {
    "duration": 61,
    "start_time": "2022-05-20T10:41:17.764Z"
   },
   {
    "duration": 9,
    "start_time": "2022-05-20T10:41:17.827Z"
   },
   {
    "duration": 6,
    "start_time": "2022-05-20T10:41:17.837Z"
   },
   {
    "duration": 12,
    "start_time": "2022-05-20T10:41:17.844Z"
   },
   {
    "duration": 15,
    "start_time": "2022-05-20T10:41:17.858Z"
   },
   {
    "duration": 9,
    "start_time": "2022-05-20T10:41:17.896Z"
   },
   {
    "duration": 7,
    "start_time": "2022-05-20T10:41:17.906Z"
   },
   {
    "duration": 19,
    "start_time": "2022-05-20T10:41:17.914Z"
   },
   {
    "duration": 31,
    "start_time": "2022-05-20T10:41:17.934Z"
   },
   {
    "duration": 41,
    "start_time": "2022-05-20T10:41:17.967Z"
   },
   {
    "duration": 142,
    "start_time": "2022-05-20T10:41:18.010Z"
   },
   {
    "duration": 260,
    "start_time": "2022-05-20T10:41:18.154Z"
   },
   {
    "duration": 6,
    "start_time": "2022-05-20T10:41:18.416Z"
   },
   {
    "duration": 21,
    "start_time": "2022-05-20T10:41:18.423Z"
   },
   {
    "duration": 11,
    "start_time": "2022-05-20T10:41:18.445Z"
   },
   {
    "duration": 21,
    "start_time": "2022-05-20T10:41:18.458Z"
   },
   {
    "duration": 10,
    "start_time": "2022-05-20T10:41:18.480Z"
   },
   {
    "duration": 191,
    "start_time": "2022-05-20T10:41:18.491Z"
   },
   {
    "duration": 12,
    "start_time": "2022-05-20T10:41:18.684Z"
   },
   {
    "duration": 9,
    "start_time": "2022-05-20T10:41:18.697Z"
   },
   {
    "duration": 21,
    "start_time": "2022-05-20T10:41:18.708Z"
   },
   {
    "duration": 7,
    "start_time": "2022-05-20T10:41:18.731Z"
   },
   {
    "duration": 26,
    "start_time": "2022-05-20T10:41:18.740Z"
   },
   {
    "duration": 11,
    "start_time": "2022-05-20T10:41:18.768Z"
   },
   {
    "duration": 22,
    "start_time": "2022-05-20T10:41:18.781Z"
   },
   {
    "duration": 241,
    "start_time": "2022-05-20T10:41:18.804Z"
   },
   {
    "duration": 10,
    "start_time": "2022-05-20T10:41:19.046Z"
   },
   {
    "duration": 10,
    "start_time": "2022-05-20T10:41:19.058Z"
   },
   {
    "duration": 21,
    "start_time": "2022-05-20T10:41:19.070Z"
   },
   {
    "duration": 17,
    "start_time": "2022-05-20T10:41:19.095Z"
   },
   {
    "duration": 19,
    "start_time": "2022-05-20T10:41:19.113Z"
   },
   {
    "duration": 11,
    "start_time": "2022-05-20T10:41:19.133Z"
   },
   {
    "duration": 17,
    "start_time": "2022-05-20T10:41:19.148Z"
   },
   {
    "duration": 45,
    "start_time": "2022-05-20T10:41:19.166Z"
   },
   {
    "duration": 33,
    "start_time": "2022-05-20T10:41:19.213Z"
   },
   {
    "duration": 18,
    "start_time": "2022-05-20T10:41:19.247Z"
   },
   {
    "duration": 25,
    "start_time": "2022-05-20T10:41:19.267Z"
   },
   {
    "duration": 11,
    "start_time": "2022-05-20T10:41:19.294Z"
   },
   {
    "duration": 19,
    "start_time": "2022-05-20T10:41:19.307Z"
   },
   {
    "duration": 10,
    "start_time": "2022-05-20T10:41:19.327Z"
   },
   {
    "duration": 23,
    "start_time": "2022-05-20T10:41:19.338Z"
   },
   {
    "duration": 22,
    "start_time": "2022-05-20T10:41:19.363Z"
   },
   {
    "duration": 22,
    "start_time": "2022-05-20T10:41:19.386Z"
   },
   {
    "duration": 12,
    "start_time": "2022-05-20T10:41:19.410Z"
   },
   {
    "duration": 43,
    "start_time": "2022-05-20T10:41:19.424Z"
   },
   {
    "duration": 22,
    "start_time": "2022-05-20T10:41:19.469Z"
   },
   {
    "duration": 16,
    "start_time": "2022-05-20T10:41:19.493Z"
   },
   {
    "duration": 10,
    "start_time": "2022-05-20T10:41:19.511Z"
   },
   {
    "duration": 10,
    "start_time": "2022-05-20T10:41:19.522Z"
   },
   {
    "duration": 32,
    "start_time": "2022-05-20T10:41:19.533Z"
   },
   {
    "duration": 17,
    "start_time": "2022-05-20T10:41:19.567Z"
   },
   {
    "duration": 5,
    "start_time": "2022-05-20T10:41:19.585Z"
   },
   {
    "duration": 24,
    "start_time": "2022-05-20T10:41:19.594Z"
   },
   {
    "duration": 40,
    "start_time": "2022-05-20T10:41:19.620Z"
   },
   {
    "duration": 12,
    "start_time": "2022-05-20T10:41:19.662Z"
   },
   {
    "duration": 13,
    "start_time": "2022-05-20T10:41:19.676Z"
   },
   {
    "duration": 17,
    "start_time": "2022-05-20T10:41:19.691Z"
   },
   {
    "duration": 28,
    "start_time": "2022-05-20T10:41:19.710Z"
   },
   {
    "duration": 18,
    "start_time": "2022-05-20T10:41:19.739Z"
   },
   {
    "duration": 36,
    "start_time": "2022-05-20T10:41:19.759Z"
   },
   {
    "duration": 8,
    "start_time": "2022-05-20T10:41:19.797Z"
   },
   {
    "duration": 42,
    "start_time": "2022-05-20T10:41:19.807Z"
   },
   {
    "duration": 8,
    "start_time": "2022-05-20T10:41:19.851Z"
   },
   {
    "duration": 13,
    "start_time": "2022-05-20T10:41:19.860Z"
   },
   {
    "duration": 32,
    "start_time": "2022-05-20T10:41:19.874Z"
   },
   {
    "duration": 22,
    "start_time": "2022-05-20T10:41:19.908Z"
   },
   {
    "duration": 6,
    "start_time": "2022-05-20T10:41:19.932Z"
   },
   {
    "duration": 20,
    "start_time": "2022-05-20T10:41:19.940Z"
   },
   {
    "duration": 36,
    "start_time": "2022-05-20T10:41:19.962Z"
   },
   {
    "duration": 568,
    "start_time": "2022-05-20T10:48:59.481Z"
   },
   {
    "duration": 15,
    "start_time": "2022-05-20T10:49:00.051Z"
   },
   {
    "duration": 37,
    "start_time": "2022-05-20T10:49:00.068Z"
   },
   {
    "duration": 350,
    "start_time": "2022-05-20T10:49:00.106Z"
   },
   {
    "duration": 11,
    "start_time": "2022-05-20T10:49:00.460Z"
   },
   {
    "duration": 30,
    "start_time": "2022-05-20T10:49:00.473Z"
   },
   {
    "duration": 12,
    "start_time": "2022-05-20T10:49:00.505Z"
   },
   {
    "duration": 34,
    "start_time": "2022-05-20T10:49:00.519Z"
   },
   {
    "duration": 63,
    "start_time": "2022-05-20T10:49:00.555Z"
   },
   {
    "duration": 8,
    "start_time": "2022-05-20T10:49:00.621Z"
   },
   {
    "duration": 15,
    "start_time": "2022-05-20T10:49:00.631Z"
   },
   {
    "duration": 12,
    "start_time": "2022-05-20T10:49:00.650Z"
   },
   {
    "duration": 31,
    "start_time": "2022-05-20T10:49:00.664Z"
   },
   {
    "duration": 12,
    "start_time": "2022-05-20T10:49:00.698Z"
   },
   {
    "duration": 9,
    "start_time": "2022-05-20T10:49:00.712Z"
   },
   {
    "duration": 36,
    "start_time": "2022-05-20T10:49:00.723Z"
   },
   {
    "duration": 63,
    "start_time": "2022-05-20T10:49:00.761Z"
   },
   {
    "duration": 16,
    "start_time": "2022-05-20T10:49:00.825Z"
   },
   {
    "duration": 158,
    "start_time": "2022-05-20T10:49:00.843Z"
   },
   {
    "duration": 253,
    "start_time": "2022-05-20T10:49:01.003Z"
   },
   {
    "duration": 7,
    "start_time": "2022-05-20T10:49:01.259Z"
   },
   {
    "duration": 21,
    "start_time": "2022-05-20T10:49:01.268Z"
   },
   {
    "duration": 14,
    "start_time": "2022-05-20T10:49:01.290Z"
   },
   {
    "duration": 21,
    "start_time": "2022-05-20T10:49:01.306Z"
   },
   {
    "duration": 7,
    "start_time": "2022-05-20T10:49:01.329Z"
   },
   {
    "duration": 198,
    "start_time": "2022-05-20T10:49:01.338Z"
   },
   {
    "duration": 6,
    "start_time": "2022-05-20T10:49:01.538Z"
   },
   {
    "duration": 24,
    "start_time": "2022-05-20T10:49:01.546Z"
   },
   {
    "duration": 34,
    "start_time": "2022-05-20T10:49:01.572Z"
   },
   {
    "duration": 18,
    "start_time": "2022-05-20T10:49:01.608Z"
   },
   {
    "duration": 16,
    "start_time": "2022-05-20T10:49:01.627Z"
   },
   {
    "duration": 288,
    "start_time": "2022-05-20T10:49:01.645Z"
   },
   {
    "duration": 10,
    "start_time": "2022-05-20T10:49:01.935Z"
   },
   {
    "duration": 11,
    "start_time": "2022-05-20T10:49:01.948Z"
   },
   {
    "duration": 41,
    "start_time": "2022-05-20T10:49:01.961Z"
   },
   {
    "duration": 7,
    "start_time": "2022-05-20T10:49:02.004Z"
   },
   {
    "duration": 17,
    "start_time": "2022-05-20T10:49:02.013Z"
   },
   {
    "duration": 14,
    "start_time": "2022-05-20T10:49:02.033Z"
   },
   {
    "duration": 19,
    "start_time": "2022-05-20T10:49:02.049Z"
   },
   {
    "duration": 31,
    "start_time": "2022-05-20T10:49:02.070Z"
   },
   {
    "duration": 24,
    "start_time": "2022-05-20T10:49:02.105Z"
   },
   {
    "duration": 15,
    "start_time": "2022-05-20T10:49:02.131Z"
   },
   {
    "duration": 19,
    "start_time": "2022-05-20T10:49:02.148Z"
   },
   {
    "duration": 28,
    "start_time": "2022-05-20T10:49:02.169Z"
   },
   {
    "duration": 7,
    "start_time": "2022-05-20T10:49:02.200Z"
   },
   {
    "duration": 23,
    "start_time": "2022-05-20T10:49:02.209Z"
   },
   {
    "duration": 19,
    "start_time": "2022-05-20T10:49:02.234Z"
   },
   {
    "duration": 10,
    "start_time": "2022-05-20T10:49:02.255Z"
   },
   {
    "duration": 10,
    "start_time": "2022-05-20T10:49:02.267Z"
   },
   {
    "duration": 22,
    "start_time": "2022-05-20T10:49:02.279Z"
   },
   {
    "duration": 15,
    "start_time": "2022-05-20T10:49:02.303Z"
   },
   {
    "duration": 16,
    "start_time": "2022-05-20T10:49:02.319Z"
   },
   {
    "duration": 5,
    "start_time": "2022-05-20T10:49:02.338Z"
   },
   {
    "duration": 9,
    "start_time": "2022-05-20T10:49:02.345Z"
   },
   {
    "duration": 14,
    "start_time": "2022-05-20T10:49:02.356Z"
   },
   {
    "duration": 31,
    "start_time": "2022-05-20T10:49:02.372Z"
   },
   {
    "duration": 18,
    "start_time": "2022-05-20T10:49:02.405Z"
   },
   {
    "duration": 6,
    "start_time": "2022-05-20T10:49:02.425Z"
   },
   {
    "duration": 28,
    "start_time": "2022-05-20T10:49:02.433Z"
   },
   {
    "duration": 42,
    "start_time": "2022-05-20T10:49:02.463Z"
   },
   {
    "duration": 13,
    "start_time": "2022-05-20T10:49:02.507Z"
   },
   {
    "duration": 16,
    "start_time": "2022-05-20T10:49:02.522Z"
   },
   {
    "duration": 15,
    "start_time": "2022-05-20T10:49:02.540Z"
   },
   {
    "duration": 53,
    "start_time": "2022-05-20T10:49:02.557Z"
   },
   {
    "duration": 7,
    "start_time": "2022-05-20T10:49:02.612Z"
   },
   {
    "duration": 35,
    "start_time": "2022-05-20T10:49:02.621Z"
   },
   {
    "duration": 7,
    "start_time": "2022-05-20T10:49:02.659Z"
   },
   {
    "duration": 44,
    "start_time": "2022-05-20T10:49:02.668Z"
   },
   {
    "duration": 6,
    "start_time": "2022-05-20T10:49:02.713Z"
   },
   {
    "duration": 11,
    "start_time": "2022-05-20T10:49:02.721Z"
   },
   {
    "duration": 31,
    "start_time": "2022-05-20T10:49:02.734Z"
   },
   {
    "duration": 52,
    "start_time": "2022-05-20T10:49:02.767Z"
   },
   {
    "duration": 8,
    "start_time": "2022-05-20T10:49:02.821Z"
   },
   {
    "duration": 16,
    "start_time": "2022-05-20T10:49:02.830Z"
   },
   {
    "duration": 48,
    "start_time": "2022-05-20T10:49:02.848Z"
   },
   {
    "duration": 589,
    "start_time": "2022-05-20T10:54:24.080Z"
   },
   {
    "duration": 16,
    "start_time": "2022-05-20T10:54:24.671Z"
   },
   {
    "duration": 38,
    "start_time": "2022-05-20T10:54:24.688Z"
   },
   {
    "duration": 366,
    "start_time": "2022-05-20T10:54:24.728Z"
   },
   {
    "duration": 15,
    "start_time": "2022-05-20T10:54:25.103Z"
   },
   {
    "duration": 19,
    "start_time": "2022-05-20T10:54:25.120Z"
   },
   {
    "duration": 21,
    "start_time": "2022-05-20T10:54:25.141Z"
   },
   {
    "duration": 44,
    "start_time": "2022-05-20T10:54:25.163Z"
   },
   {
    "duration": 36,
    "start_time": "2022-05-20T10:54:25.210Z"
   },
   {
    "duration": 8,
    "start_time": "2022-05-20T10:54:25.248Z"
   },
   {
    "duration": 7,
    "start_time": "2022-05-20T10:54:25.257Z"
   },
   {
    "duration": 32,
    "start_time": "2022-05-20T10:54:25.266Z"
   },
   {
    "duration": 16,
    "start_time": "2022-05-20T10:54:25.302Z"
   },
   {
    "duration": 11,
    "start_time": "2022-05-20T10:54:25.322Z"
   },
   {
    "duration": 6,
    "start_time": "2022-05-20T10:54:25.335Z"
   },
   {
    "duration": 26,
    "start_time": "2022-05-20T10:54:25.342Z"
   },
   {
    "duration": 55,
    "start_time": "2022-05-20T10:54:25.371Z"
   },
   {
    "duration": 14,
    "start_time": "2022-05-20T10:54:25.428Z"
   },
   {
    "duration": 187,
    "start_time": "2022-05-20T10:54:25.443Z"
   },
   {
    "duration": 293,
    "start_time": "2022-05-20T10:54:25.632Z"
   },
   {
    "duration": 8,
    "start_time": "2022-05-20T10:54:25.927Z"
   },
   {
    "duration": 12,
    "start_time": "2022-05-20T10:54:25.937Z"
   },
   {
    "duration": 21,
    "start_time": "2022-05-20T10:54:25.951Z"
   },
   {
    "duration": 17,
    "start_time": "2022-05-20T10:54:25.974Z"
   },
   {
    "duration": 15,
    "start_time": "2022-05-20T10:54:25.993Z"
   },
   {
    "duration": 227,
    "start_time": "2022-05-20T10:54:26.014Z"
   },
   {
    "duration": 6,
    "start_time": "2022-05-20T10:54:26.242Z"
   },
   {
    "duration": 18,
    "start_time": "2022-05-20T10:54:26.249Z"
   },
   {
    "duration": 49,
    "start_time": "2022-05-20T10:54:26.269Z"
   },
   {
    "duration": 16,
    "start_time": "2022-05-20T10:54:26.319Z"
   },
   {
    "duration": 14,
    "start_time": "2022-05-20T10:54:26.336Z"
   },
   {
    "duration": 291,
    "start_time": "2022-05-20T10:54:26.352Z"
   },
   {
    "duration": 9,
    "start_time": "2022-05-20T10:54:26.644Z"
   },
   {
    "duration": 10,
    "start_time": "2022-05-20T10:54:26.654Z"
   },
   {
    "duration": 13,
    "start_time": "2022-05-20T10:54:26.666Z"
   },
   {
    "duration": 15,
    "start_time": "2022-05-20T10:54:26.681Z"
   },
   {
    "duration": 20,
    "start_time": "2022-05-20T10:54:26.698Z"
   },
   {
    "duration": 6,
    "start_time": "2022-05-20T10:54:26.720Z"
   },
   {
    "duration": 18,
    "start_time": "2022-05-20T10:54:26.727Z"
   },
   {
    "duration": 14,
    "start_time": "2022-05-20T10:54:26.746Z"
   },
   {
    "duration": 32,
    "start_time": "2022-05-20T10:54:26.765Z"
   },
   {
    "duration": 24,
    "start_time": "2022-05-20T10:54:26.801Z"
   },
   {
    "duration": 12,
    "start_time": "2022-05-20T10:54:26.827Z"
   },
   {
    "duration": 9,
    "start_time": "2022-05-20T10:54:26.840Z"
   },
   {
    "duration": 14,
    "start_time": "2022-05-20T10:54:26.851Z"
   },
   {
    "duration": 9,
    "start_time": "2022-05-20T10:54:26.894Z"
   },
   {
    "duration": 15,
    "start_time": "2022-05-20T10:54:26.905Z"
   },
   {
    "duration": 5,
    "start_time": "2022-05-20T10:54:26.923Z"
   },
   {
    "duration": 17,
    "start_time": "2022-05-20T10:54:26.930Z"
   },
   {
    "duration": 10,
    "start_time": "2022-05-20T10:54:26.950Z"
   },
   {
    "duration": 41,
    "start_time": "2022-05-20T10:54:26.963Z"
   },
   {
    "duration": 32,
    "start_time": "2022-05-20T10:54:27.006Z"
   },
   {
    "duration": 8,
    "start_time": "2022-05-20T10:54:27.040Z"
   },
   {
    "duration": 17,
    "start_time": "2022-05-20T10:54:27.051Z"
   },
   {
    "duration": 12,
    "start_time": "2022-05-20T10:54:27.070Z"
   },
   {
    "duration": 29,
    "start_time": "2022-05-20T10:54:27.084Z"
   },
   {
    "duration": 24,
    "start_time": "2022-05-20T10:54:27.115Z"
   },
   {
    "duration": 6,
    "start_time": "2022-05-20T10:54:27.141Z"
   },
   {
    "duration": 26,
    "start_time": "2022-05-20T10:54:27.149Z"
   },
   {
    "duration": 32,
    "start_time": "2022-05-20T10:54:27.209Z"
   },
   {
    "duration": 17,
    "start_time": "2022-05-20T10:54:27.244Z"
   },
   {
    "duration": 57,
    "start_time": "2022-05-20T10:54:27.263Z"
   },
   {
    "duration": 16,
    "start_time": "2022-05-20T10:54:27.322Z"
   },
   {
    "duration": 86,
    "start_time": "2022-05-20T10:54:27.341Z"
   },
   {
    "duration": 9,
    "start_time": "2022-05-20T10:54:27.429Z"
   },
   {
    "duration": 85,
    "start_time": "2022-05-20T10:54:27.441Z"
   },
   {
    "duration": 21,
    "start_time": "2022-05-20T10:54:27.528Z"
   },
   {
    "duration": 78,
    "start_time": "2022-05-20T10:54:27.551Z"
   },
   {
    "duration": 19,
    "start_time": "2022-05-20T10:54:27.631Z"
   },
   {
    "duration": 9,
    "start_time": "2022-05-20T10:54:27.694Z"
   },
   {
    "duration": 32,
    "start_time": "2022-05-20T10:54:27.705Z"
   },
   {
    "duration": 79,
    "start_time": "2022-05-20T10:54:27.739Z"
   },
   {
    "duration": 6,
    "start_time": "2022-05-20T10:54:27.820Z"
   },
   {
    "duration": 68,
    "start_time": "2022-05-20T10:54:27.828Z"
   },
   {
    "duration": 27,
    "start_time": "2022-05-20T10:54:27.898Z"
   },
   {
    "duration": 573,
    "start_time": "2022-05-20T10:55:03.970Z"
   },
   {
    "duration": 19,
    "start_time": "2022-05-20T10:55:04.545Z"
   },
   {
    "duration": 31,
    "start_time": "2022-05-20T10:55:04.566Z"
   },
   {
    "duration": 347,
    "start_time": "2022-05-20T10:55:04.599Z"
   },
   {
    "duration": 12,
    "start_time": "2022-05-20T10:55:04.949Z"
   },
   {
    "duration": 32,
    "start_time": "2022-05-20T10:55:04.963Z"
   },
   {
    "duration": 6,
    "start_time": "2022-05-20T10:55:04.997Z"
   },
   {
    "duration": 34,
    "start_time": "2022-05-20T10:55:05.005Z"
   },
   {
    "duration": 68,
    "start_time": "2022-05-20T10:55:05.042Z"
   },
   {
    "duration": 9,
    "start_time": "2022-05-20T10:55:05.112Z"
   },
   {
    "duration": 16,
    "start_time": "2022-05-20T10:55:05.124Z"
   },
   {
    "duration": 12,
    "start_time": "2022-05-20T10:55:05.142Z"
   },
   {
    "duration": 39,
    "start_time": "2022-05-20T10:55:05.156Z"
   },
   {
    "duration": 11,
    "start_time": "2022-05-20T10:55:05.200Z"
   },
   {
    "duration": 9,
    "start_time": "2022-05-20T10:55:05.213Z"
   },
   {
    "duration": 32,
    "start_time": "2022-05-20T10:55:05.225Z"
   },
   {
    "duration": 69,
    "start_time": "2022-05-20T10:55:05.259Z"
   },
   {
    "duration": 20,
    "start_time": "2022-05-20T10:55:05.331Z"
   },
   {
    "duration": 205,
    "start_time": "2022-05-20T10:55:05.353Z"
   },
   {
    "duration": 297,
    "start_time": "2022-05-20T10:55:05.560Z"
   },
   {
    "duration": 7,
    "start_time": "2022-05-20T10:55:05.860Z"
   },
   {
    "duration": 9,
    "start_time": "2022-05-20T10:55:05.869Z"
   },
   {
    "duration": 8,
    "start_time": "2022-05-20T10:55:05.895Z"
   },
   {
    "duration": 22,
    "start_time": "2022-05-20T10:55:05.905Z"
   },
   {
    "duration": 6,
    "start_time": "2022-05-20T10:55:05.929Z"
   },
   {
    "duration": 258,
    "start_time": "2022-05-20T10:55:05.937Z"
   },
   {
    "duration": 11,
    "start_time": "2022-05-20T10:55:06.197Z"
   },
   {
    "duration": 9,
    "start_time": "2022-05-20T10:55:06.210Z"
   },
   {
    "duration": 22,
    "start_time": "2022-05-20T10:55:06.222Z"
   },
   {
    "duration": 11,
    "start_time": "2022-05-20T10:55:06.246Z"
   },
   {
    "duration": 48,
    "start_time": "2022-05-20T10:55:06.259Z"
   },
   {
    "duration": 18,
    "start_time": "2022-05-20T10:55:06.309Z"
   },
   {
    "duration": 269,
    "start_time": "2022-05-20T10:55:06.329Z"
   },
   {
    "duration": 10,
    "start_time": "2022-05-20T10:55:06.600Z"
   },
   {
    "duration": 17,
    "start_time": "2022-05-20T10:55:06.612Z"
   },
   {
    "duration": 30,
    "start_time": "2022-05-20T10:55:06.632Z"
   },
   {
    "duration": 30,
    "start_time": "2022-05-20T10:55:06.663Z"
   },
   {
    "duration": 24,
    "start_time": "2022-05-20T10:55:06.697Z"
   },
   {
    "duration": 30,
    "start_time": "2022-05-20T10:55:06.724Z"
   },
   {
    "duration": 26,
    "start_time": "2022-05-20T10:55:06.756Z"
   },
   {
    "duration": 17,
    "start_time": "2022-05-20T10:55:06.789Z"
   },
   {
    "duration": 24,
    "start_time": "2022-05-20T10:55:06.808Z"
   },
   {
    "duration": 15,
    "start_time": "2022-05-20T10:55:06.834Z"
   },
   {
    "duration": 16,
    "start_time": "2022-05-20T10:55:06.851Z"
   },
   {
    "duration": 27,
    "start_time": "2022-05-20T10:55:06.869Z"
   },
   {
    "duration": 11,
    "start_time": "2022-05-20T10:55:06.898Z"
   },
   {
    "duration": 10,
    "start_time": "2022-05-20T10:55:06.911Z"
   },
   {
    "duration": 7,
    "start_time": "2022-05-20T10:55:06.922Z"
   },
   {
    "duration": 5,
    "start_time": "2022-05-20T10:55:06.931Z"
   },
   {
    "duration": 13,
    "start_time": "2022-05-20T10:55:06.938Z"
   },
   {
    "duration": 46,
    "start_time": "2022-05-20T10:55:06.953Z"
   },
   {
    "duration": 21,
    "start_time": "2022-05-20T10:55:07.002Z"
   },
   {
    "duration": 7,
    "start_time": "2022-05-20T10:55:07.025Z"
   },
   {
    "duration": 9,
    "start_time": "2022-05-20T10:55:07.033Z"
   },
   {
    "duration": 9,
    "start_time": "2022-05-20T10:55:07.043Z"
   },
   {
    "duration": 6,
    "start_time": "2022-05-20T10:55:07.054Z"
   },
   {
    "duration": 50,
    "start_time": "2022-05-20T10:55:07.062Z"
   },
   {
    "duration": 19,
    "start_time": "2022-05-20T10:55:07.113Z"
   },
   {
    "duration": 5,
    "start_time": "2022-05-20T10:55:07.133Z"
   },
   {
    "duration": 17,
    "start_time": "2022-05-20T10:55:07.140Z"
   },
   {
    "duration": 45,
    "start_time": "2022-05-20T10:55:07.158Z"
   },
   {
    "duration": 17,
    "start_time": "2022-05-20T10:55:07.205Z"
   },
   {
    "duration": 22,
    "start_time": "2022-05-20T10:55:07.224Z"
   },
   {
    "duration": 46,
    "start_time": "2022-05-20T10:55:07.249Z"
   },
   {
    "duration": 25,
    "start_time": "2022-05-20T10:55:07.298Z"
   },
   {
    "duration": 9,
    "start_time": "2022-05-20T10:55:07.327Z"
   },
   {
    "duration": 29,
    "start_time": "2022-05-20T10:55:07.338Z"
   },
   {
    "duration": 50,
    "start_time": "2022-05-20T10:55:07.369Z"
   },
   {
    "duration": 34,
    "start_time": "2022-05-20T10:55:07.421Z"
   },
   {
    "duration": 8,
    "start_time": "2022-05-20T10:55:07.457Z"
   },
   {
    "duration": 17,
    "start_time": "2022-05-20T10:55:07.467Z"
   },
   {
    "duration": 32,
    "start_time": "2022-05-20T10:55:07.486Z"
   },
   {
    "duration": 31,
    "start_time": "2022-05-20T10:55:07.520Z"
   },
   {
    "duration": 8,
    "start_time": "2022-05-20T10:55:07.553Z"
   },
   {
    "duration": 35,
    "start_time": "2022-05-20T10:55:07.563Z"
   },
   {
    "duration": 20,
    "start_time": "2022-05-20T10:55:07.600Z"
   },
   {
    "duration": 526,
    "start_time": "2022-05-20T10:59:43.153Z"
   },
   {
    "duration": 15,
    "start_time": "2022-05-20T10:59:43.681Z"
   },
   {
    "duration": 16,
    "start_time": "2022-05-20T10:59:43.698Z"
   },
   {
    "duration": 336,
    "start_time": "2022-05-20T10:59:43.716Z"
   },
   {
    "duration": 11,
    "start_time": "2022-05-20T10:59:44.053Z"
   },
   {
    "duration": 11,
    "start_time": "2022-05-20T10:59:44.065Z"
   },
   {
    "duration": 6,
    "start_time": "2022-05-20T10:59:44.095Z"
   },
   {
    "duration": 19,
    "start_time": "2022-05-20T10:59:44.103Z"
   },
   {
    "duration": 35,
    "start_time": "2022-05-20T10:59:44.124Z"
   },
   {
    "duration": 33,
    "start_time": "2022-05-20T10:59:44.162Z"
   },
   {
    "duration": 7,
    "start_time": "2022-05-20T10:59:44.197Z"
   },
   {
    "duration": 9,
    "start_time": "2022-05-20T10:59:44.206Z"
   },
   {
    "duration": 11,
    "start_time": "2022-05-20T10:59:44.217Z"
   },
   {
    "duration": 11,
    "start_time": "2022-05-20T10:59:44.230Z"
   },
   {
    "duration": 6,
    "start_time": "2022-05-20T10:59:44.242Z"
   },
   {
    "duration": 53,
    "start_time": "2022-05-20T10:59:44.249Z"
   },
   {
    "duration": 33,
    "start_time": "2022-05-20T10:59:44.304Z"
   },
   {
    "duration": 15,
    "start_time": "2022-05-20T10:59:44.338Z"
   },
   {
    "duration": 169,
    "start_time": "2022-05-20T10:59:44.354Z"
   },
   {
    "duration": 264,
    "start_time": "2022-05-20T10:59:44.524Z"
   },
   {
    "duration": 9,
    "start_time": "2022-05-20T10:59:44.790Z"
   },
   {
    "duration": 6,
    "start_time": "2022-05-20T10:59:44.801Z"
   },
   {
    "duration": 10,
    "start_time": "2022-05-20T10:59:44.809Z"
   },
   {
    "duration": 14,
    "start_time": "2022-05-20T10:59:44.821Z"
   },
   {
    "duration": 5,
    "start_time": "2022-05-20T10:59:44.837Z"
   },
   {
    "duration": 264,
    "start_time": "2022-05-20T10:59:44.844Z"
   },
   {
    "duration": 7,
    "start_time": "2022-05-20T10:59:45.110Z"
   },
   {
    "duration": 7,
    "start_time": "2022-05-20T10:59:45.121Z"
   },
   {
    "duration": 13,
    "start_time": "2022-05-20T10:59:45.130Z"
   },
   {
    "duration": 10,
    "start_time": "2022-05-20T10:59:45.145Z"
   },
   {
    "duration": 49,
    "start_time": "2022-05-20T10:59:45.157Z"
   },
   {
    "duration": 14,
    "start_time": "2022-05-20T10:59:45.207Z"
   },
   {
    "duration": 292,
    "start_time": "2022-05-20T10:59:45.227Z"
   },
   {
    "duration": 15,
    "start_time": "2022-05-20T10:59:45.521Z"
   },
   {
    "duration": 15,
    "start_time": "2022-05-20T10:59:45.538Z"
   },
   {
    "duration": 15,
    "start_time": "2022-05-20T10:59:45.554Z"
   },
   {
    "duration": 5,
    "start_time": "2022-05-20T10:59:45.571Z"
   },
   {
    "duration": 20,
    "start_time": "2022-05-20T10:59:45.578Z"
   },
   {
    "duration": 5,
    "start_time": "2022-05-20T10:59:45.600Z"
   },
   {
    "duration": 10,
    "start_time": "2022-05-20T10:59:45.606Z"
   },
   {
    "duration": 12,
    "start_time": "2022-05-20T10:59:45.618Z"
   },
   {
    "duration": 17,
    "start_time": "2022-05-20T10:59:45.631Z"
   },
   {
    "duration": 46,
    "start_time": "2022-05-20T10:59:45.650Z"
   },
   {
    "duration": 12,
    "start_time": "2022-05-20T10:59:45.697Z"
   },
   {
    "duration": 9,
    "start_time": "2022-05-20T10:59:45.710Z"
   },
   {
    "duration": 10,
    "start_time": "2022-05-20T10:59:45.721Z"
   },
   {
    "duration": 14,
    "start_time": "2022-05-20T10:59:45.733Z"
   },
   {
    "duration": 8,
    "start_time": "2022-05-20T10:59:45.749Z"
   },
   {
    "duration": 6,
    "start_time": "2022-05-20T10:59:45.759Z"
   },
   {
    "duration": 7,
    "start_time": "2022-05-20T10:59:45.795Z"
   },
   {
    "duration": 6,
    "start_time": "2022-05-20T10:59:45.804Z"
   },
   {
    "duration": 10,
    "start_time": "2022-05-20T10:59:45.812Z"
   },
   {
    "duration": 7,
    "start_time": "2022-05-20T10:59:45.824Z"
   },
   {
    "duration": 6,
    "start_time": "2022-05-20T10:59:45.833Z"
   },
   {
    "duration": 9,
    "start_time": "2022-05-20T10:59:45.841Z"
   },
   {
    "duration": 44,
    "start_time": "2022-05-20T10:59:45.852Z"
   },
   {
    "duration": 17,
    "start_time": "2022-05-20T10:59:45.898Z"
   },
   {
    "duration": 18,
    "start_time": "2022-05-20T10:59:45.917Z"
   },
   {
    "duration": 5,
    "start_time": "2022-05-20T10:59:45.936Z"
   },
   {
    "duration": 16,
    "start_time": "2022-05-20T10:59:45.942Z"
   },
   {
    "duration": 53,
    "start_time": "2022-05-20T10:59:45.959Z"
   },
   {
    "duration": 12,
    "start_time": "2022-05-20T10:59:46.014Z"
   },
   {
    "duration": 14,
    "start_time": "2022-05-20T10:59:46.028Z"
   },
   {
    "duration": 13,
    "start_time": "2022-05-20T10:59:46.044Z"
   },
   {
    "duration": 54,
    "start_time": "2022-05-20T10:59:46.058Z"
   },
   {
    "duration": 8,
    "start_time": "2022-05-20T10:59:46.114Z"
   },
   {
    "duration": 20,
    "start_time": "2022-05-20T10:59:46.125Z"
   },
   {
    "duration": 11,
    "start_time": "2022-05-20T10:59:46.147Z"
   },
   {
    "duration": 43,
    "start_time": "2022-05-20T10:59:46.159Z"
   },
   {
    "duration": 7,
    "start_time": "2022-05-20T10:59:46.204Z"
   },
   {
    "duration": 23,
    "start_time": "2022-05-20T10:59:46.213Z"
   },
   {
    "duration": 22,
    "start_time": "2022-05-20T10:59:46.238Z"
   },
   {
    "duration": 36,
    "start_time": "2022-05-20T10:59:46.262Z"
   },
   {
    "duration": 7,
    "start_time": "2022-05-20T10:59:46.300Z"
   },
   {
    "duration": 27,
    "start_time": "2022-05-20T10:59:46.308Z"
   },
   {
    "duration": 51,
    "start_time": "2022-05-20T10:59:46.336Z"
   },
   {
    "duration": 579,
    "start_time": "2022-05-20T11:00:46.674Z"
   },
   {
    "duration": 21,
    "start_time": "2022-05-20T11:00:47.256Z"
   },
   {
    "duration": 35,
    "start_time": "2022-05-20T11:00:47.279Z"
   },
   {
    "duration": 395,
    "start_time": "2022-05-20T11:00:47.316Z"
   },
   {
    "duration": 12,
    "start_time": "2022-05-20T11:00:47.713Z"
   },
   {
    "duration": 10,
    "start_time": "2022-05-20T11:00:47.727Z"
   },
   {
    "duration": 6,
    "start_time": "2022-05-20T11:00:47.739Z"
   },
   {
    "duration": 49,
    "start_time": "2022-05-20T11:00:47.747Z"
   },
   {
    "duration": 36,
    "start_time": "2022-05-20T11:00:47.797Z"
   },
   {
    "duration": 8,
    "start_time": "2022-05-20T11:00:47.835Z"
   },
   {
    "duration": 7,
    "start_time": "2022-05-20T11:00:47.845Z"
   },
   {
    "duration": 22,
    "start_time": "2022-05-20T11:00:47.853Z"
   },
   {
    "duration": 8,
    "start_time": "2022-05-20T11:00:47.895Z"
   },
   {
    "duration": 17,
    "start_time": "2022-05-20T11:00:47.906Z"
   },
   {
    "duration": 9,
    "start_time": "2022-05-20T11:00:47.925Z"
   },
   {
    "duration": 27,
    "start_time": "2022-05-20T11:00:47.936Z"
   },
   {
    "duration": 49,
    "start_time": "2022-05-20T11:00:47.965Z"
   },
   {
    "duration": 15,
    "start_time": "2022-05-20T11:00:48.016Z"
   },
   {
    "duration": 155,
    "start_time": "2022-05-20T11:00:48.033Z"
   },
   {
    "duration": 258,
    "start_time": "2022-05-20T11:00:48.189Z"
   },
   {
    "duration": 5,
    "start_time": "2022-05-20T11:00:48.449Z"
   },
   {
    "duration": 8,
    "start_time": "2022-05-20T11:00:48.456Z"
   },
   {
    "duration": 18,
    "start_time": "2022-05-20T11:00:48.465Z"
   },
   {
    "duration": 20,
    "start_time": "2022-05-20T11:00:48.484Z"
   },
   {
    "duration": 7,
    "start_time": "2022-05-20T11:00:48.506Z"
   },
   {
    "duration": 205,
    "start_time": "2022-05-20T11:00:48.515Z"
   },
   {
    "duration": 6,
    "start_time": "2022-05-20T11:00:48.722Z"
   },
   {
    "duration": 25,
    "start_time": "2022-05-20T11:00:48.730Z"
   },
   {
    "duration": 21,
    "start_time": "2022-05-20T11:00:48.757Z"
   },
   {
    "duration": 15,
    "start_time": "2022-05-20T11:00:48.780Z"
   },
   {
    "duration": 110,
    "start_time": "2022-05-20T11:00:48.797Z"
   },
   {
    "duration": 0,
    "start_time": "2022-05-20T11:00:48.910Z"
   },
   {
    "duration": 0,
    "start_time": "2022-05-20T11:00:48.911Z"
   },
   {
    "duration": 0,
    "start_time": "2022-05-20T11:00:48.912Z"
   },
   {
    "duration": 0,
    "start_time": "2022-05-20T11:00:48.913Z"
   },
   {
    "duration": 0,
    "start_time": "2022-05-20T11:00:48.914Z"
   },
   {
    "duration": 0,
    "start_time": "2022-05-20T11:00:48.915Z"
   },
   {
    "duration": 0,
    "start_time": "2022-05-20T11:00:48.916Z"
   },
   {
    "duration": 0,
    "start_time": "2022-05-20T11:00:48.917Z"
   },
   {
    "duration": 0,
    "start_time": "2022-05-20T11:00:48.918Z"
   },
   {
    "duration": 0,
    "start_time": "2022-05-20T11:00:48.919Z"
   },
   {
    "duration": 0,
    "start_time": "2022-05-20T11:00:48.919Z"
   },
   {
    "duration": 0,
    "start_time": "2022-05-20T11:00:48.921Z"
   },
   {
    "duration": 0,
    "start_time": "2022-05-20T11:00:48.921Z"
   },
   {
    "duration": 0,
    "start_time": "2022-05-20T11:00:48.922Z"
   },
   {
    "duration": 0,
    "start_time": "2022-05-20T11:00:48.923Z"
   },
   {
    "duration": 0,
    "start_time": "2022-05-20T11:00:48.924Z"
   },
   {
    "duration": 0,
    "start_time": "2022-05-20T11:00:48.925Z"
   },
   {
    "duration": 0,
    "start_time": "2022-05-20T11:00:48.926Z"
   },
   {
    "duration": 0,
    "start_time": "2022-05-20T11:00:48.927Z"
   },
   {
    "duration": 0,
    "start_time": "2022-05-20T11:00:48.928Z"
   },
   {
    "duration": 0,
    "start_time": "2022-05-20T11:00:48.930Z"
   },
   {
    "duration": 0,
    "start_time": "2022-05-20T11:00:48.931Z"
   },
   {
    "duration": 0,
    "start_time": "2022-05-20T11:00:48.932Z"
   },
   {
    "duration": 0,
    "start_time": "2022-05-20T11:00:48.933Z"
   },
   {
    "duration": 0,
    "start_time": "2022-05-20T11:00:48.934Z"
   },
   {
    "duration": 0,
    "start_time": "2022-05-20T11:00:48.935Z"
   },
   {
    "duration": 0,
    "start_time": "2022-05-20T11:00:48.936Z"
   },
   {
    "duration": 0,
    "start_time": "2022-05-20T11:00:48.937Z"
   },
   {
    "duration": 0,
    "start_time": "2022-05-20T11:00:48.938Z"
   },
   {
    "duration": 0,
    "start_time": "2022-05-20T11:00:48.939Z"
   },
   {
    "duration": 0,
    "start_time": "2022-05-20T11:00:48.940Z"
   },
   {
    "duration": 0,
    "start_time": "2022-05-20T11:00:48.941Z"
   },
   {
    "duration": 0,
    "start_time": "2022-05-20T11:00:48.942Z"
   },
   {
    "duration": 0,
    "start_time": "2022-05-20T11:00:48.943Z"
   },
   {
    "duration": 0,
    "start_time": "2022-05-20T11:00:48.945Z"
   },
   {
    "duration": 0,
    "start_time": "2022-05-20T11:00:48.995Z"
   },
   {
    "duration": 0,
    "start_time": "2022-05-20T11:00:48.996Z"
   },
   {
    "duration": 0,
    "start_time": "2022-05-20T11:00:48.997Z"
   },
   {
    "duration": 0,
    "start_time": "2022-05-20T11:00:48.998Z"
   },
   {
    "duration": 0,
    "start_time": "2022-05-20T11:00:48.999Z"
   },
   {
    "duration": 0,
    "start_time": "2022-05-20T11:00:49.000Z"
   },
   {
    "duration": 0,
    "start_time": "2022-05-20T11:00:49.001Z"
   },
   {
    "duration": 0,
    "start_time": "2022-05-20T11:00:49.003Z"
   },
   {
    "duration": 0,
    "start_time": "2022-05-20T11:00:49.004Z"
   },
   {
    "duration": 0,
    "start_time": "2022-05-20T11:00:49.005Z"
   },
   {
    "duration": 532,
    "start_time": "2022-05-20T11:03:04.186Z"
   },
   {
    "duration": 15,
    "start_time": "2022-05-20T11:03:04.720Z"
   },
   {
    "duration": 24,
    "start_time": "2022-05-20T11:03:04.738Z"
   },
   {
    "duration": 336,
    "start_time": "2022-05-20T11:03:04.764Z"
   },
   {
    "duration": 11,
    "start_time": "2022-05-20T11:03:05.102Z"
   },
   {
    "duration": 20,
    "start_time": "2022-05-20T11:03:05.115Z"
   },
   {
    "duration": 7,
    "start_time": "2022-05-20T11:03:05.137Z"
   },
   {
    "duration": 31,
    "start_time": "2022-05-20T11:03:05.145Z"
   },
   {
    "duration": 45,
    "start_time": "2022-05-20T11:03:05.177Z"
   },
   {
    "duration": 7,
    "start_time": "2022-05-20T11:03:05.223Z"
   },
   {
    "duration": 13,
    "start_time": "2022-05-20T11:03:05.232Z"
   },
   {
    "duration": 23,
    "start_time": "2022-05-20T11:03:05.246Z"
   },
   {
    "duration": 29,
    "start_time": "2022-05-20T11:03:05.271Z"
   },
   {
    "duration": 11,
    "start_time": "2022-05-20T11:03:05.302Z"
   },
   {
    "duration": 12,
    "start_time": "2022-05-20T11:03:05.315Z"
   },
   {
    "duration": 33,
    "start_time": "2022-05-20T11:03:05.328Z"
   },
   {
    "duration": 35,
    "start_time": "2022-05-20T11:03:05.363Z"
   },
   {
    "duration": 16,
    "start_time": "2022-05-20T11:03:05.400Z"
   },
   {
    "duration": 166,
    "start_time": "2022-05-20T11:03:05.418Z"
   },
   {
    "duration": 257,
    "start_time": "2022-05-20T11:03:05.586Z"
   },
   {
    "duration": 7,
    "start_time": "2022-05-20T11:03:05.845Z"
   },
   {
    "duration": 8,
    "start_time": "2022-05-20T11:03:05.854Z"
   },
   {
    "duration": 13,
    "start_time": "2022-05-20T11:03:05.864Z"
   },
   {
    "duration": 13,
    "start_time": "2022-05-20T11:03:05.894Z"
   },
   {
    "duration": 9,
    "start_time": "2022-05-20T11:03:05.909Z"
   },
   {
    "duration": 206,
    "start_time": "2022-05-20T11:03:05.920Z"
   },
   {
    "duration": 6,
    "start_time": "2022-05-20T11:03:06.128Z"
   },
   {
    "duration": 13,
    "start_time": "2022-05-20T11:03:06.136Z"
   },
   {
    "duration": 18,
    "start_time": "2022-05-20T11:03:06.150Z"
   },
   {
    "duration": 10,
    "start_time": "2022-05-20T11:03:06.169Z"
   },
   {
    "duration": 8,
    "start_time": "2022-05-20T11:03:06.195Z"
   },
   {
    "duration": 106,
    "start_time": "2022-05-20T11:03:06.205Z"
   },
   {
    "duration": 0,
    "start_time": "2022-05-20T11:03:06.314Z"
   },
   {
    "duration": 0,
    "start_time": "2022-05-20T11:03:06.315Z"
   },
   {
    "duration": 0,
    "start_time": "2022-05-20T11:03:06.316Z"
   },
   {
    "duration": 0,
    "start_time": "2022-05-20T11:03:06.317Z"
   },
   {
    "duration": 0,
    "start_time": "2022-05-20T11:03:06.318Z"
   },
   {
    "duration": 0,
    "start_time": "2022-05-20T11:03:06.319Z"
   },
   {
    "duration": 0,
    "start_time": "2022-05-20T11:03:06.320Z"
   },
   {
    "duration": 0,
    "start_time": "2022-05-20T11:03:06.321Z"
   },
   {
    "duration": 0,
    "start_time": "2022-05-20T11:03:06.323Z"
   },
   {
    "duration": 0,
    "start_time": "2022-05-20T11:03:06.324Z"
   },
   {
    "duration": 0,
    "start_time": "2022-05-20T11:03:06.325Z"
   },
   {
    "duration": 0,
    "start_time": "2022-05-20T11:03:06.326Z"
   },
   {
    "duration": 0,
    "start_time": "2022-05-20T11:03:06.327Z"
   },
   {
    "duration": 0,
    "start_time": "2022-05-20T11:03:06.328Z"
   },
   {
    "duration": 0,
    "start_time": "2022-05-20T11:03:06.330Z"
   },
   {
    "duration": 0,
    "start_time": "2022-05-20T11:03:06.331Z"
   },
   {
    "duration": 0,
    "start_time": "2022-05-20T11:03:06.331Z"
   },
   {
    "duration": 0,
    "start_time": "2022-05-20T11:03:06.332Z"
   },
   {
    "duration": 0,
    "start_time": "2022-05-20T11:03:06.333Z"
   },
   {
    "duration": 0,
    "start_time": "2022-05-20T11:03:06.334Z"
   },
   {
    "duration": 0,
    "start_time": "2022-05-20T11:03:06.335Z"
   },
   {
    "duration": 0,
    "start_time": "2022-05-20T11:03:06.337Z"
   },
   {
    "duration": 0,
    "start_time": "2022-05-20T11:03:06.338Z"
   },
   {
    "duration": 0,
    "start_time": "2022-05-20T11:03:06.339Z"
   },
   {
    "duration": 0,
    "start_time": "2022-05-20T11:03:06.340Z"
   },
   {
    "duration": 0,
    "start_time": "2022-05-20T11:03:06.342Z"
   },
   {
    "duration": 0,
    "start_time": "2022-05-20T11:03:06.342Z"
   },
   {
    "duration": 0,
    "start_time": "2022-05-20T11:03:06.343Z"
   },
   {
    "duration": 0,
    "start_time": "2022-05-20T11:03:06.395Z"
   },
   {
    "duration": 0,
    "start_time": "2022-05-20T11:03:06.396Z"
   },
   {
    "duration": 0,
    "start_time": "2022-05-20T11:03:06.397Z"
   },
   {
    "duration": 0,
    "start_time": "2022-05-20T11:03:06.398Z"
   },
   {
    "duration": 0,
    "start_time": "2022-05-20T11:03:06.399Z"
   },
   {
    "duration": 0,
    "start_time": "2022-05-20T11:03:06.400Z"
   },
   {
    "duration": 0,
    "start_time": "2022-05-20T11:03:06.403Z"
   },
   {
    "duration": 0,
    "start_time": "2022-05-20T11:03:06.404Z"
   },
   {
    "duration": 0,
    "start_time": "2022-05-20T11:03:06.405Z"
   },
   {
    "duration": 0,
    "start_time": "2022-05-20T11:03:06.406Z"
   },
   {
    "duration": 0,
    "start_time": "2022-05-20T11:03:06.407Z"
   },
   {
    "duration": 0,
    "start_time": "2022-05-20T11:03:06.408Z"
   },
   {
    "duration": 0,
    "start_time": "2022-05-20T11:03:06.409Z"
   },
   {
    "duration": 0,
    "start_time": "2022-05-20T11:03:06.410Z"
   },
   {
    "duration": 0,
    "start_time": "2022-05-20T11:03:06.411Z"
   },
   {
    "duration": 0,
    "start_time": "2022-05-20T11:03:06.412Z"
   },
   {
    "duration": 0,
    "start_time": "2022-05-20T11:03:06.413Z"
   },
   {
    "duration": 540,
    "start_time": "2022-05-20T11:03:51.079Z"
   },
   {
    "duration": 13,
    "start_time": "2022-05-20T11:03:51.620Z"
   },
   {
    "duration": 32,
    "start_time": "2022-05-20T11:03:51.635Z"
   },
   {
    "duration": 326,
    "start_time": "2022-05-20T11:03:51.669Z"
   },
   {
    "duration": 10,
    "start_time": "2022-05-20T11:03:51.998Z"
   },
   {
    "duration": 21,
    "start_time": "2022-05-20T11:03:52.009Z"
   },
   {
    "duration": 13,
    "start_time": "2022-05-20T11:03:52.032Z"
   },
   {
    "duration": 18,
    "start_time": "2022-05-20T11:03:52.047Z"
   },
   {
    "duration": 44,
    "start_time": "2022-05-20T11:03:52.066Z"
   },
   {
    "duration": 7,
    "start_time": "2022-05-20T11:03:52.111Z"
   },
   {
    "duration": 20,
    "start_time": "2022-05-20T11:03:52.120Z"
   },
   {
    "duration": 31,
    "start_time": "2022-05-20T11:03:52.141Z"
   },
   {
    "duration": 9,
    "start_time": "2022-05-20T11:03:52.174Z"
   },
   {
    "duration": 25,
    "start_time": "2022-05-20T11:03:52.186Z"
   },
   {
    "duration": 27,
    "start_time": "2022-05-20T11:03:52.213Z"
   },
   {
    "duration": 26,
    "start_time": "2022-05-20T11:03:52.241Z"
   },
   {
    "duration": 40,
    "start_time": "2022-05-20T11:03:52.268Z"
   },
   {
    "duration": 13,
    "start_time": "2022-05-20T11:03:52.310Z"
   },
   {
    "duration": 151,
    "start_time": "2022-05-20T11:03:52.325Z"
   },
   {
    "duration": 247,
    "start_time": "2022-05-20T11:03:52.478Z"
   },
   {
    "duration": 9,
    "start_time": "2022-05-20T11:03:52.726Z"
   },
   {
    "duration": 8,
    "start_time": "2022-05-20T11:03:52.736Z"
   },
   {
    "duration": 7,
    "start_time": "2022-05-20T11:03:52.746Z"
   },
   {
    "duration": 13,
    "start_time": "2022-05-20T11:03:52.754Z"
   },
   {
    "duration": 4,
    "start_time": "2022-05-20T11:03:52.796Z"
   },
   {
    "duration": 208,
    "start_time": "2022-05-20T11:03:52.801Z"
   },
   {
    "duration": 10,
    "start_time": "2022-05-20T11:03:53.010Z"
   },
   {
    "duration": 5,
    "start_time": "2022-05-20T11:03:53.022Z"
   },
   {
    "duration": 17,
    "start_time": "2022-05-20T11:03:53.029Z"
   },
   {
    "duration": 9,
    "start_time": "2022-05-20T11:03:53.048Z"
   },
   {
    "duration": 98,
    "start_time": "2022-05-20T11:03:53.059Z"
   },
   {
    "duration": 0,
    "start_time": "2022-05-20T11:03:53.161Z"
   },
   {
    "duration": 0,
    "start_time": "2022-05-20T11:03:53.163Z"
   },
   {
    "duration": 0,
    "start_time": "2022-05-20T11:03:53.164Z"
   },
   {
    "duration": 0,
    "start_time": "2022-05-20T11:03:53.165Z"
   },
   {
    "duration": 0,
    "start_time": "2022-05-20T11:03:53.167Z"
   },
   {
    "duration": 0,
    "start_time": "2022-05-20T11:03:53.168Z"
   },
   {
    "duration": 0,
    "start_time": "2022-05-20T11:03:53.169Z"
   },
   {
    "duration": 0,
    "start_time": "2022-05-20T11:03:53.170Z"
   },
   {
    "duration": 0,
    "start_time": "2022-05-20T11:03:53.171Z"
   },
   {
    "duration": 0,
    "start_time": "2022-05-20T11:03:53.172Z"
   },
   {
    "duration": 0,
    "start_time": "2022-05-20T11:03:53.196Z"
   },
   {
    "duration": 0,
    "start_time": "2022-05-20T11:03:53.197Z"
   },
   {
    "duration": 0,
    "start_time": "2022-05-20T11:03:53.198Z"
   },
   {
    "duration": 0,
    "start_time": "2022-05-20T11:03:53.200Z"
   },
   {
    "duration": 0,
    "start_time": "2022-05-20T11:03:53.201Z"
   },
   {
    "duration": 0,
    "start_time": "2022-05-20T11:03:53.202Z"
   },
   {
    "duration": 0,
    "start_time": "2022-05-20T11:03:53.204Z"
   },
   {
    "duration": 0,
    "start_time": "2022-05-20T11:03:53.206Z"
   },
   {
    "duration": 0,
    "start_time": "2022-05-20T11:03:53.207Z"
   },
   {
    "duration": 0,
    "start_time": "2022-05-20T11:03:53.209Z"
   },
   {
    "duration": 0,
    "start_time": "2022-05-20T11:03:53.210Z"
   },
   {
    "duration": 0,
    "start_time": "2022-05-20T11:03:53.211Z"
   },
   {
    "duration": 0,
    "start_time": "2022-05-20T11:03:53.213Z"
   },
   {
    "duration": 0,
    "start_time": "2022-05-20T11:03:53.214Z"
   },
   {
    "duration": 0,
    "start_time": "2022-05-20T11:03:53.215Z"
   },
   {
    "duration": 0,
    "start_time": "2022-05-20T11:03:53.217Z"
   },
   {
    "duration": 0,
    "start_time": "2022-05-20T11:03:53.218Z"
   },
   {
    "duration": 1,
    "start_time": "2022-05-20T11:03:53.219Z"
   },
   {
    "duration": 0,
    "start_time": "2022-05-20T11:03:53.221Z"
   },
   {
    "duration": 0,
    "start_time": "2022-05-20T11:03:53.222Z"
   },
   {
    "duration": 0,
    "start_time": "2022-05-20T11:03:53.224Z"
   },
   {
    "duration": 0,
    "start_time": "2022-05-20T11:03:53.225Z"
   },
   {
    "duration": 0,
    "start_time": "2022-05-20T11:03:53.227Z"
   },
   {
    "duration": 0,
    "start_time": "2022-05-20T11:03:53.230Z"
   },
   {
    "duration": 0,
    "start_time": "2022-05-20T11:03:53.231Z"
   },
   {
    "duration": 0,
    "start_time": "2022-05-20T11:03:53.295Z"
   },
   {
    "duration": 0,
    "start_time": "2022-05-20T11:03:53.296Z"
   },
   {
    "duration": 0,
    "start_time": "2022-05-20T11:03:53.298Z"
   },
   {
    "duration": 0,
    "start_time": "2022-05-20T11:03:53.299Z"
   },
   {
    "duration": 0,
    "start_time": "2022-05-20T11:03:53.300Z"
   },
   {
    "duration": 0,
    "start_time": "2022-05-20T11:03:53.300Z"
   },
   {
    "duration": 0,
    "start_time": "2022-05-20T11:03:53.301Z"
   },
   {
    "duration": 0,
    "start_time": "2022-05-20T11:03:53.303Z"
   },
   {
    "duration": 0,
    "start_time": "2022-05-20T11:03:53.304Z"
   },
   {
    "duration": 0,
    "start_time": "2022-05-20T11:03:53.305Z"
   },
   {
    "duration": 0,
    "start_time": "2022-05-20T11:03:53.306Z"
   },
   {
    "duration": 501,
    "start_time": "2022-05-20T11:06:09.419Z"
   },
   {
    "duration": 15,
    "start_time": "2022-05-20T11:06:09.922Z"
   },
   {
    "duration": 19,
    "start_time": "2022-05-20T11:06:09.939Z"
   },
   {
    "duration": 354,
    "start_time": "2022-05-20T11:06:09.960Z"
   },
   {
    "duration": 11,
    "start_time": "2022-05-20T11:06:10.317Z"
   },
   {
    "duration": 11,
    "start_time": "2022-05-20T11:06:10.329Z"
   },
   {
    "duration": 7,
    "start_time": "2022-05-20T11:06:10.342Z"
   },
   {
    "duration": 53,
    "start_time": "2022-05-20T11:06:10.351Z"
   },
   {
    "duration": 34,
    "start_time": "2022-05-20T11:06:10.406Z"
   },
   {
    "duration": 7,
    "start_time": "2022-05-20T11:06:10.442Z"
   },
   {
    "duration": 8,
    "start_time": "2022-05-20T11:06:10.451Z"
   },
   {
    "duration": 39,
    "start_time": "2022-05-20T11:06:10.461Z"
   },
   {
    "duration": 8,
    "start_time": "2022-05-20T11:06:10.502Z"
   },
   {
    "duration": 8,
    "start_time": "2022-05-20T11:06:10.513Z"
   },
   {
    "duration": 6,
    "start_time": "2022-05-20T11:06:10.523Z"
   },
   {
    "duration": 20,
    "start_time": "2022-05-20T11:06:10.530Z"
   },
   {
    "duration": 31,
    "start_time": "2022-05-20T11:06:10.595Z"
   },
   {
    "duration": 15,
    "start_time": "2022-05-20T11:06:10.628Z"
   },
   {
    "duration": 181,
    "start_time": "2022-05-20T11:06:10.645Z"
   },
   {
    "duration": 270,
    "start_time": "2022-05-20T11:06:10.828Z"
   },
   {
    "duration": 7,
    "start_time": "2022-05-20T11:06:11.101Z"
   },
   {
    "duration": 8,
    "start_time": "2022-05-20T11:06:11.109Z"
   },
   {
    "duration": 15,
    "start_time": "2022-05-20T11:06:11.120Z"
   },
   {
    "duration": 14,
    "start_time": "2022-05-20T11:06:11.137Z"
   },
   {
    "duration": 5,
    "start_time": "2022-05-20T11:06:11.153Z"
   },
   {
    "duration": 228,
    "start_time": "2022-05-20T11:06:11.160Z"
   },
   {
    "duration": 6,
    "start_time": "2022-05-20T11:06:11.389Z"
   },
   {
    "duration": 8,
    "start_time": "2022-05-20T11:06:11.397Z"
   },
   {
    "duration": 18,
    "start_time": "2022-05-20T11:06:11.406Z"
   },
   {
    "duration": 10,
    "start_time": "2022-05-20T11:06:11.426Z"
   },
   {
    "duration": 9,
    "start_time": "2022-05-20T11:06:11.438Z"
   },
   {
    "duration": 59,
    "start_time": "2022-05-20T11:06:11.449Z"
   },
   {
    "duration": 13,
    "start_time": "2022-05-20T11:06:11.510Z"
   },
   {
    "duration": 276,
    "start_time": "2022-05-20T11:06:11.525Z"
   },
   {
    "duration": 12,
    "start_time": "2022-05-20T11:06:11.803Z"
   },
   {
    "duration": 11,
    "start_time": "2022-05-20T11:06:11.817Z"
   },
   {
    "duration": 22,
    "start_time": "2022-05-20T11:06:11.830Z"
   },
   {
    "duration": 7,
    "start_time": "2022-05-20T11:06:11.854Z"
   },
   {
    "duration": 12,
    "start_time": "2022-05-20T11:06:11.863Z"
   },
   {
    "duration": 21,
    "start_time": "2022-05-20T11:06:11.877Z"
   },
   {
    "duration": 15,
    "start_time": "2022-05-20T11:06:11.905Z"
   },
   {
    "duration": 20,
    "start_time": "2022-05-20T11:06:11.922Z"
   },
   {
    "duration": 17,
    "start_time": "2022-05-20T11:06:11.943Z"
   },
   {
    "duration": 34,
    "start_time": "2022-05-20T11:06:11.962Z"
   },
   {
    "duration": 11,
    "start_time": "2022-05-20T11:06:11.998Z"
   },
   {
    "duration": 11,
    "start_time": "2022-05-20T11:06:12.011Z"
   },
   {
    "duration": 7,
    "start_time": "2022-05-20T11:06:12.024Z"
   },
   {
    "duration": 11,
    "start_time": "2022-05-20T11:06:12.033Z"
   },
   {
    "duration": 8,
    "start_time": "2022-05-20T11:06:12.045Z"
   },
   {
    "duration": 7,
    "start_time": "2022-05-20T11:06:12.055Z"
   },
   {
    "duration": 38,
    "start_time": "2022-05-20T11:06:12.064Z"
   },
   {
    "duration": 6,
    "start_time": "2022-05-20T11:06:12.104Z"
   },
   {
    "duration": 10,
    "start_time": "2022-05-20T11:06:12.111Z"
   },
   {
    "duration": 7,
    "start_time": "2022-05-20T11:06:12.123Z"
   },
   {
    "duration": 7,
    "start_time": "2022-05-20T11:06:12.132Z"
   },
   {
    "duration": 11,
    "start_time": "2022-05-20T11:06:12.141Z"
   },
   {
    "duration": 45,
    "start_time": "2022-05-20T11:06:12.153Z"
   },
   {
    "duration": 20,
    "start_time": "2022-05-20T11:06:12.199Z"
   },
   {
    "duration": 20,
    "start_time": "2022-05-20T11:06:12.222Z"
   },
   {
    "duration": 6,
    "start_time": "2022-05-20T11:06:12.243Z"
   },
   {
    "duration": 44,
    "start_time": "2022-05-20T11:06:12.251Z"
   },
   {
    "duration": 19,
    "start_time": "2022-05-20T11:06:12.297Z"
   },
   {
    "duration": 13,
    "start_time": "2022-05-20T11:06:12.318Z"
   },
   {
    "duration": 12,
    "start_time": "2022-05-20T11:06:12.332Z"
   },
   {
    "duration": 13,
    "start_time": "2022-05-20T11:06:12.346Z"
   },
   {
    "duration": 55,
    "start_time": "2022-05-20T11:06:12.361Z"
   },
   {
    "duration": 16,
    "start_time": "2022-05-20T11:06:12.418Z"
   },
   {
    "duration": 20,
    "start_time": "2022-05-20T11:06:12.436Z"
   },
   {
    "duration": 8,
    "start_time": "2022-05-20T11:06:12.458Z"
   },
   {
    "duration": 36,
    "start_time": "2022-05-20T11:06:12.468Z"
   },
   {
    "duration": 6,
    "start_time": "2022-05-20T11:06:12.506Z"
   },
   {
    "duration": 14,
    "start_time": "2022-05-20T11:06:12.513Z"
   },
   {
    "duration": 24,
    "start_time": "2022-05-20T11:06:12.531Z"
   },
   {
    "duration": 38,
    "start_time": "2022-05-20T11:06:12.557Z"
   },
   {
    "duration": 6,
    "start_time": "2022-05-20T11:06:12.597Z"
   },
   {
    "duration": 26,
    "start_time": "2022-05-20T11:06:12.605Z"
   },
   {
    "duration": 32,
    "start_time": "2022-05-20T11:06:12.633Z"
   },
   {
    "duration": 540,
    "start_time": "2022-05-20T11:07:24.945Z"
   },
   {
    "duration": 15,
    "start_time": "2022-05-20T11:07:25.488Z"
   },
   {
    "duration": 26,
    "start_time": "2022-05-20T11:07:25.505Z"
   },
   {
    "duration": 350,
    "start_time": "2022-05-20T11:07:25.534Z"
   },
   {
    "duration": 19,
    "start_time": "2022-05-20T11:07:25.885Z"
   },
   {
    "duration": 10,
    "start_time": "2022-05-20T11:07:25.905Z"
   },
   {
    "duration": 6,
    "start_time": "2022-05-20T11:07:25.917Z"
   },
   {
    "duration": 26,
    "start_time": "2022-05-20T11:07:25.924Z"
   },
   {
    "duration": 63,
    "start_time": "2022-05-20T11:07:25.951Z"
   },
   {
    "duration": 8,
    "start_time": "2022-05-20T11:07:26.017Z"
   },
   {
    "duration": 6,
    "start_time": "2022-05-20T11:07:26.027Z"
   },
   {
    "duration": 10,
    "start_time": "2022-05-20T11:07:26.035Z"
   },
   {
    "duration": 8,
    "start_time": "2022-05-20T11:07:26.047Z"
   },
   {
    "duration": 38,
    "start_time": "2022-05-20T11:07:26.057Z"
   },
   {
    "duration": 6,
    "start_time": "2022-05-20T11:07:26.097Z"
   },
   {
    "duration": 27,
    "start_time": "2022-05-20T11:07:26.104Z"
   },
   {
    "duration": 36,
    "start_time": "2022-05-20T11:07:26.133Z"
   },
   {
    "duration": 31,
    "start_time": "2022-05-20T11:07:26.171Z"
   },
   {
    "duration": 157,
    "start_time": "2022-05-20T11:07:26.204Z"
   },
   {
    "duration": 263,
    "start_time": "2022-05-20T11:07:26.362Z"
   },
   {
    "duration": 6,
    "start_time": "2022-05-20T11:07:26.627Z"
   },
   {
    "duration": 22,
    "start_time": "2022-05-20T11:07:26.634Z"
   },
   {
    "duration": 11,
    "start_time": "2022-05-20T11:07:26.658Z"
   },
   {
    "duration": 24,
    "start_time": "2022-05-20T11:07:26.671Z"
   },
   {
    "duration": 8,
    "start_time": "2022-05-20T11:07:26.697Z"
   },
   {
    "duration": 202,
    "start_time": "2022-05-20T11:07:26.707Z"
   },
   {
    "duration": 6,
    "start_time": "2022-05-20T11:07:26.910Z"
   },
   {
    "duration": 10,
    "start_time": "2022-05-20T11:07:26.920Z"
   },
   {
    "duration": 17,
    "start_time": "2022-05-20T11:07:26.932Z"
   },
   {
    "duration": 10,
    "start_time": "2022-05-20T11:07:26.951Z"
   },
   {
    "duration": 33,
    "start_time": "2022-05-20T11:07:26.963Z"
   },
   {
    "duration": 16,
    "start_time": "2022-05-20T11:07:26.998Z"
   },
   {
    "duration": 10,
    "start_time": "2022-05-20T11:07:27.016Z"
   },
   {
    "duration": 13,
    "start_time": "2022-05-20T11:07:27.028Z"
   },
   {
    "duration": 331,
    "start_time": "2022-05-20T11:07:27.043Z"
   },
   {
    "duration": 22,
    "start_time": "2022-05-20T11:07:27.376Z"
   },
   {
    "duration": 6,
    "start_time": "2022-05-20T11:07:27.400Z"
   },
   {
    "duration": 25,
    "start_time": "2022-05-20T11:07:27.409Z"
   },
   {
    "duration": 13,
    "start_time": "2022-05-20T11:07:27.436Z"
   },
   {
    "duration": 13,
    "start_time": "2022-05-20T11:07:27.451Z"
   },
   {
    "duration": 29,
    "start_time": "2022-05-20T11:07:27.466Z"
   },
   {
    "duration": 15,
    "start_time": "2022-05-20T11:07:27.497Z"
   },
   {
    "duration": 16,
    "start_time": "2022-05-20T11:07:27.513Z"
   },
   {
    "duration": 15,
    "start_time": "2022-05-20T11:07:27.531Z"
   },
   {
    "duration": 13,
    "start_time": "2022-05-20T11:07:27.548Z"
   },
   {
    "duration": 38,
    "start_time": "2022-05-20T11:07:27.563Z"
   },
   {
    "duration": 4,
    "start_time": "2022-05-20T11:07:27.603Z"
   },
   {
    "duration": 7,
    "start_time": "2022-05-20T11:07:27.609Z"
   },
   {
    "duration": 9,
    "start_time": "2022-05-20T11:07:27.617Z"
   },
   {
    "duration": 7,
    "start_time": "2022-05-20T11:07:27.627Z"
   },
   {
    "duration": 5,
    "start_time": "2022-05-20T11:07:27.635Z"
   },
   {
    "duration": 12,
    "start_time": "2022-05-20T11:07:27.641Z"
   },
   {
    "duration": 47,
    "start_time": "2022-05-20T11:07:27.654Z"
   },
   {
    "duration": 11,
    "start_time": "2022-05-20T11:07:27.702Z"
   },
   {
    "duration": 8,
    "start_time": "2022-05-20T11:07:27.715Z"
   },
   {
    "duration": 6,
    "start_time": "2022-05-20T11:07:27.724Z"
   },
   {
    "duration": 9,
    "start_time": "2022-05-20T11:07:27.731Z"
   },
   {
    "duration": 6,
    "start_time": "2022-05-20T11:07:27.742Z"
   },
   {
    "duration": 56,
    "start_time": "2022-05-20T11:07:27.749Z"
   },
   {
    "duration": 18,
    "start_time": "2022-05-20T11:07:27.807Z"
   },
   {
    "duration": 5,
    "start_time": "2022-05-20T11:07:27.827Z"
   },
   {
    "duration": 19,
    "start_time": "2022-05-20T11:07:27.834Z"
   },
   {
    "duration": 50,
    "start_time": "2022-05-20T11:07:27.855Z"
   },
   {
    "duration": 13,
    "start_time": "2022-05-20T11:07:27.907Z"
   },
   {
    "duration": 12,
    "start_time": "2022-05-20T11:07:27.922Z"
   },
   {
    "duration": 14,
    "start_time": "2022-05-20T11:07:27.935Z"
   },
   {
    "duration": 46,
    "start_time": "2022-05-20T11:07:27.950Z"
   },
   {
    "duration": 9,
    "start_time": "2022-05-20T11:07:27.997Z"
   },
   {
    "duration": 21,
    "start_time": "2022-05-20T11:07:28.007Z"
   },
   {
    "duration": 12,
    "start_time": "2022-05-20T11:07:28.030Z"
   },
   {
    "duration": 52,
    "start_time": "2022-05-20T11:07:28.044Z"
   },
   {
    "duration": 7,
    "start_time": "2022-05-20T11:07:28.098Z"
   },
   {
    "duration": 8,
    "start_time": "2022-05-20T11:07:28.107Z"
   },
   {
    "duration": 24,
    "start_time": "2022-05-20T11:07:28.117Z"
   },
   {
    "duration": 22,
    "start_time": "2022-05-20T11:07:28.143Z"
   },
   {
    "duration": 8,
    "start_time": "2022-05-20T11:07:28.194Z"
   },
   {
    "duration": 18,
    "start_time": "2022-05-20T11:07:28.203Z"
   },
   {
    "duration": 23,
    "start_time": "2022-05-20T11:07:28.223Z"
   },
   {
    "duration": 523,
    "start_time": "2022-05-20T11:08:28.749Z"
   },
   {
    "duration": 14,
    "start_time": "2022-05-20T11:08:29.274Z"
   },
   {
    "duration": 38,
    "start_time": "2022-05-20T11:08:29.289Z"
   },
   {
    "duration": 360,
    "start_time": "2022-05-20T11:08:29.329Z"
   },
   {
    "duration": 14,
    "start_time": "2022-05-20T11:08:29.695Z"
   },
   {
    "duration": 33,
    "start_time": "2022-05-20T11:08:29.711Z"
   },
   {
    "duration": 24,
    "start_time": "2022-05-20T11:08:29.745Z"
   },
   {
    "duration": 47,
    "start_time": "2022-05-20T11:08:29.771Z"
   },
   {
    "duration": 46,
    "start_time": "2022-05-20T11:08:29.820Z"
   },
   {
    "duration": 9,
    "start_time": "2022-05-20T11:08:29.868Z"
   },
   {
    "duration": 31,
    "start_time": "2022-05-20T11:08:29.879Z"
   },
   {
    "duration": 19,
    "start_time": "2022-05-20T11:08:29.912Z"
   },
   {
    "duration": 34,
    "start_time": "2022-05-20T11:08:29.933Z"
   },
   {
    "duration": 20,
    "start_time": "2022-05-20T11:08:29.969Z"
   },
   {
    "duration": 32,
    "start_time": "2022-05-20T11:08:29.990Z"
   },
   {
    "duration": 43,
    "start_time": "2022-05-20T11:08:30.024Z"
   },
   {
    "duration": 43,
    "start_time": "2022-05-20T11:08:30.068Z"
   },
   {
    "duration": 14,
    "start_time": "2022-05-20T11:08:30.113Z"
   },
   {
    "duration": 210,
    "start_time": "2022-05-20T11:08:30.128Z"
   },
   {
    "duration": 271,
    "start_time": "2022-05-20T11:08:30.340Z"
   },
   {
    "duration": 8,
    "start_time": "2022-05-20T11:08:30.613Z"
   },
   {
    "duration": 16,
    "start_time": "2022-05-20T11:08:30.623Z"
   },
   {
    "duration": 44,
    "start_time": "2022-05-20T11:08:30.641Z"
   },
   {
    "duration": 49,
    "start_time": "2022-05-20T11:08:30.687Z"
   },
   {
    "duration": 53,
    "start_time": "2022-05-20T11:08:30.738Z"
   },
   {
    "duration": 243,
    "start_time": "2022-05-20T11:08:30.793Z"
   },
   {
    "duration": 6,
    "start_time": "2022-05-20T11:08:31.038Z"
   },
   {
    "duration": 32,
    "start_time": "2022-05-20T11:08:31.045Z"
   },
   {
    "duration": 45,
    "start_time": "2022-05-20T11:08:31.078Z"
   },
   {
    "duration": 27,
    "start_time": "2022-05-20T11:08:31.126Z"
   },
   {
    "duration": 18,
    "start_time": "2022-05-20T11:08:31.154Z"
   },
   {
    "duration": 38,
    "start_time": "2022-05-20T11:08:31.174Z"
   },
   {
    "duration": 29,
    "start_time": "2022-05-20T11:08:31.214Z"
   },
   {
    "duration": 34,
    "start_time": "2022-05-20T11:08:31.245Z"
   },
   {
    "duration": 283,
    "start_time": "2022-05-20T11:08:31.280Z"
   },
   {
    "duration": 10,
    "start_time": "2022-05-20T11:08:31.564Z"
   },
   {
    "duration": 34,
    "start_time": "2022-05-20T11:08:31.575Z"
   },
   {
    "duration": 49,
    "start_time": "2022-05-20T11:08:31.611Z"
   },
   {
    "duration": 42,
    "start_time": "2022-05-20T11:08:31.662Z"
   },
   {
    "duration": 41,
    "start_time": "2022-05-20T11:08:31.705Z"
   },
   {
    "duration": 24,
    "start_time": "2022-05-20T11:08:31.750Z"
   },
   {
    "duration": 40,
    "start_time": "2022-05-20T11:08:31.776Z"
   },
   {
    "duration": 39,
    "start_time": "2022-05-20T11:08:31.818Z"
   },
   {
    "duration": 24,
    "start_time": "2022-05-20T11:08:31.859Z"
   },
   {
    "duration": 37,
    "start_time": "2022-05-20T11:08:31.886Z"
   },
   {
    "duration": 25,
    "start_time": "2022-05-20T11:08:31.924Z"
   },
   {
    "duration": 36,
    "start_time": "2022-05-20T11:08:31.951Z"
   },
   {
    "duration": 19,
    "start_time": "2022-05-20T11:08:31.989Z"
   },
   {
    "duration": 37,
    "start_time": "2022-05-20T11:08:32.009Z"
   },
   {
    "duration": 11,
    "start_time": "2022-05-20T11:08:32.048Z"
   },
   {
    "duration": 51,
    "start_time": "2022-05-20T11:08:32.061Z"
   },
   {
    "duration": 51,
    "start_time": "2022-05-20T11:08:32.114Z"
   },
   {
    "duration": 33,
    "start_time": "2022-05-20T11:08:32.167Z"
   },
   {
    "duration": 23,
    "start_time": "2022-05-20T11:08:32.202Z"
   },
   {
    "duration": 35,
    "start_time": "2022-05-20T11:08:32.228Z"
   },
   {
    "duration": 15,
    "start_time": "2022-05-20T11:08:32.265Z"
   },
   {
    "duration": 43,
    "start_time": "2022-05-20T11:08:32.282Z"
   },
   {
    "duration": 25,
    "start_time": "2022-05-20T11:08:32.327Z"
   },
   {
    "duration": 40,
    "start_time": "2022-05-20T11:08:32.354Z"
   },
   {
    "duration": 23,
    "start_time": "2022-05-20T11:08:32.396Z"
   },
   {
    "duration": 24,
    "start_time": "2022-05-20T11:08:32.420Z"
   },
   {
    "duration": 30,
    "start_time": "2022-05-20T11:08:32.446Z"
   },
   {
    "duration": 61,
    "start_time": "2022-05-20T11:08:32.478Z"
   },
   {
    "duration": 42,
    "start_time": "2022-05-20T11:08:32.541Z"
   },
   {
    "duration": 30,
    "start_time": "2022-05-20T11:08:32.584Z"
   },
   {
    "duration": 17,
    "start_time": "2022-05-20T11:08:32.616Z"
   },
   {
    "duration": 49,
    "start_time": "2022-05-20T11:08:32.635Z"
   },
   {
    "duration": 6,
    "start_time": "2022-05-20T11:08:32.686Z"
   },
   {
    "duration": 23,
    "start_time": "2022-05-20T11:08:32.694Z"
   },
   {
    "duration": 10,
    "start_time": "2022-05-20T11:08:32.719Z"
   },
   {
    "duration": 34,
    "start_time": "2022-05-20T11:08:32.732Z"
   },
   {
    "duration": 7,
    "start_time": "2022-05-20T11:08:32.768Z"
   },
   {
    "duration": 20,
    "start_time": "2022-05-20T11:08:32.776Z"
   },
   {
    "duration": 26,
    "start_time": "2022-05-20T11:08:32.797Z"
   },
   {
    "duration": 19,
    "start_time": "2022-05-20T11:08:32.825Z"
   },
   {
    "duration": 7,
    "start_time": "2022-05-20T11:08:32.846Z"
   },
   {
    "duration": 12,
    "start_time": "2022-05-20T11:08:32.854Z"
   },
   {
    "duration": 19,
    "start_time": "2022-05-20T11:08:32.895Z"
   },
   {
    "duration": 597,
    "start_time": "2022-05-20T11:11:49.079Z"
   },
   {
    "duration": 24,
    "start_time": "2022-05-20T11:11:49.678Z"
   },
   {
    "duration": 18,
    "start_time": "2022-05-20T11:11:49.704Z"
   },
   {
    "duration": 364,
    "start_time": "2022-05-20T11:11:49.725Z"
   },
   {
    "duration": 12,
    "start_time": "2022-05-20T11:11:50.091Z"
   },
   {
    "duration": 13,
    "start_time": "2022-05-20T11:11:50.105Z"
   },
   {
    "duration": 6,
    "start_time": "2022-05-20T11:11:50.120Z"
   },
   {
    "duration": 18,
    "start_time": "2022-05-20T11:11:50.128Z"
   },
   {
    "duration": 91,
    "start_time": "2022-05-20T11:11:50.148Z"
   },
   {
    "duration": 9,
    "start_time": "2022-05-20T11:11:50.241Z"
   },
   {
    "duration": 9,
    "start_time": "2022-05-20T11:11:50.252Z"
   },
   {
    "duration": 33,
    "start_time": "2022-05-20T11:11:50.263Z"
   },
   {
    "duration": 9,
    "start_time": "2022-05-20T11:11:50.298Z"
   },
   {
    "duration": 25,
    "start_time": "2022-05-20T11:11:50.314Z"
   },
   {
    "duration": 18,
    "start_time": "2022-05-20T11:11:50.341Z"
   },
   {
    "duration": 22,
    "start_time": "2022-05-20T11:11:50.361Z"
   },
   {
    "duration": 36,
    "start_time": "2022-05-20T11:11:50.384Z"
   },
   {
    "duration": 16,
    "start_time": "2022-05-20T11:11:50.422Z"
   },
   {
    "duration": 163,
    "start_time": "2022-05-20T11:11:50.440Z"
   },
   {
    "duration": 284,
    "start_time": "2022-05-20T11:11:50.605Z"
   },
   {
    "duration": 7,
    "start_time": "2022-05-20T11:11:50.891Z"
   },
   {
    "duration": 20,
    "start_time": "2022-05-20T11:11:50.900Z"
   },
   {
    "duration": 13,
    "start_time": "2022-05-20T11:11:50.922Z"
   },
   {
    "duration": 30,
    "start_time": "2022-05-20T11:11:50.936Z"
   },
   {
    "duration": 9,
    "start_time": "2022-05-20T11:11:50.968Z"
   },
   {
    "duration": 210,
    "start_time": "2022-05-20T11:11:50.979Z"
   },
   {
    "duration": 5,
    "start_time": "2022-05-20T11:11:51.194Z"
   },
   {
    "duration": 12,
    "start_time": "2022-05-20T11:11:51.201Z"
   },
   {
    "duration": 17,
    "start_time": "2022-05-20T11:11:51.215Z"
   },
   {
    "duration": 9,
    "start_time": "2022-05-20T11:11:51.233Z"
   },
   {
    "duration": 13,
    "start_time": "2022-05-20T11:11:51.244Z"
   },
   {
    "duration": 49,
    "start_time": "2022-05-20T11:11:51.258Z"
   },
   {
    "duration": 10,
    "start_time": "2022-05-20T11:11:51.308Z"
   },
   {
    "duration": 22,
    "start_time": "2022-05-20T11:11:51.319Z"
   },
   {
    "duration": 264,
    "start_time": "2022-05-20T11:11:51.343Z"
   },
   {
    "duration": 9,
    "start_time": "2022-05-20T11:11:51.609Z"
   },
   {
    "duration": 8,
    "start_time": "2022-05-20T11:11:51.620Z"
   },
   {
    "duration": 14,
    "start_time": "2022-05-20T11:11:51.629Z"
   },
   {
    "duration": 8,
    "start_time": "2022-05-20T11:11:51.645Z"
   },
   {
    "duration": 9,
    "start_time": "2022-05-20T11:11:51.654Z"
   },
   {
    "duration": 29,
    "start_time": "2022-05-20T11:11:51.668Z"
   },
   {
    "duration": 17,
    "start_time": "2022-05-20T11:11:51.700Z"
   },
   {
    "duration": 26,
    "start_time": "2022-05-20T11:11:51.719Z"
   },
   {
    "duration": 19,
    "start_time": "2022-05-20T11:11:51.746Z"
   },
   {
    "duration": 29,
    "start_time": "2022-05-20T11:11:51.766Z"
   },
   {
    "duration": 17,
    "start_time": "2022-05-20T11:11:51.797Z"
   },
   {
    "duration": 18,
    "start_time": "2022-05-20T11:11:51.816Z"
   },
   {
    "duration": 12,
    "start_time": "2022-05-20T11:11:51.836Z"
   },
   {
    "duration": 17,
    "start_time": "2022-05-20T11:11:51.850Z"
   },
   {
    "duration": 13,
    "start_time": "2022-05-20T11:11:51.869Z"
   },
   {
    "duration": 11,
    "start_time": "2022-05-20T11:11:51.883Z"
   },
   {
    "duration": 19,
    "start_time": "2022-05-20T11:11:51.896Z"
   },
   {
    "duration": 10,
    "start_time": "2022-05-20T11:11:51.917Z"
   },
   {
    "duration": 14,
    "start_time": "2022-05-20T11:11:51.929Z"
   },
   {
    "duration": 7,
    "start_time": "2022-05-20T11:11:51.944Z"
   },
   {
    "duration": 12,
    "start_time": "2022-05-20T11:11:51.953Z"
   },
   {
    "duration": 32,
    "start_time": "2022-05-20T11:11:51.966Z"
   },
   {
    "duration": 13,
    "start_time": "2022-05-20T11:11:52.000Z"
   },
   {
    "duration": 26,
    "start_time": "2022-05-20T11:11:52.015Z"
   },
   {
    "duration": 17,
    "start_time": "2022-05-20T11:11:52.043Z"
   },
   {
    "duration": 5,
    "start_time": "2022-05-20T11:11:52.061Z"
   },
   {
    "duration": 52,
    "start_time": "2022-05-20T11:11:52.067Z"
   },
   {
    "duration": 24,
    "start_time": "2022-05-20T11:11:52.121Z"
   },
   {
    "duration": 14,
    "start_time": "2022-05-20T11:11:52.146Z"
   },
   {
    "duration": 24,
    "start_time": "2022-05-20T11:11:52.161Z"
   },
   {
    "duration": 18,
    "start_time": "2022-05-20T11:11:52.186Z"
   },
   {
    "duration": 47,
    "start_time": "2022-05-20T11:11:52.207Z"
   },
   {
    "duration": 41,
    "start_time": "2022-05-20T11:11:52.256Z"
   },
   {
    "duration": 26,
    "start_time": "2022-05-20T11:11:52.299Z"
   },
   {
    "duration": 22,
    "start_time": "2022-05-20T11:11:52.327Z"
   },
   {
    "duration": 32,
    "start_time": "2022-05-20T11:11:52.351Z"
   },
   {
    "duration": 6,
    "start_time": "2022-05-20T11:11:52.384Z"
   },
   {
    "duration": 22,
    "start_time": "2022-05-20T11:11:52.391Z"
   },
   {
    "duration": 38,
    "start_time": "2022-05-20T11:11:52.414Z"
   },
   {
    "duration": 23,
    "start_time": "2022-05-20T11:11:52.454Z"
   },
   {
    "duration": 5,
    "start_time": "2022-05-20T11:11:52.478Z"
   },
   {
    "duration": 26,
    "start_time": "2022-05-20T11:11:52.485Z"
   },
   {
    "duration": 38,
    "start_time": "2022-05-20T11:11:52.513Z"
   },
   {
    "duration": 529,
    "start_time": "2022-05-20T11:12:53.029Z"
   },
   {
    "duration": 15,
    "start_time": "2022-05-20T11:12:53.560Z"
   },
   {
    "duration": 27,
    "start_time": "2022-05-20T11:12:53.577Z"
   },
   {
    "duration": 348,
    "start_time": "2022-05-20T11:12:53.606Z"
   },
   {
    "duration": 12,
    "start_time": "2022-05-20T11:12:53.956Z"
   },
   {
    "duration": 26,
    "start_time": "2022-05-20T11:12:53.970Z"
   },
   {
    "duration": 7,
    "start_time": "2022-05-20T11:12:53.998Z"
   },
   {
    "duration": 19,
    "start_time": "2022-05-20T11:12:54.007Z"
   },
   {
    "duration": 67,
    "start_time": "2022-05-20T11:12:54.028Z"
   },
   {
    "duration": 8,
    "start_time": "2022-05-20T11:12:54.097Z"
   },
   {
    "duration": 7,
    "start_time": "2022-05-20T11:12:54.106Z"
   },
   {
    "duration": 9,
    "start_time": "2022-05-20T11:12:54.114Z"
   },
   {
    "duration": 8,
    "start_time": "2022-05-20T11:12:54.125Z"
   },
   {
    "duration": 9,
    "start_time": "2022-05-20T11:12:54.137Z"
   },
   {
    "duration": 48,
    "start_time": "2022-05-20T11:12:54.148Z"
   },
   {
    "duration": 25,
    "start_time": "2022-05-20T11:12:54.198Z"
   },
   {
    "duration": 36,
    "start_time": "2022-05-20T11:12:54.225Z"
   },
   {
    "duration": 35,
    "start_time": "2022-05-20T11:12:54.263Z"
   },
   {
    "duration": 166,
    "start_time": "2022-05-20T11:12:54.301Z"
   },
   {
    "duration": 259,
    "start_time": "2022-05-20T11:12:54.468Z"
   },
   {
    "duration": 6,
    "start_time": "2022-05-20T11:12:54.729Z"
   },
   {
    "duration": 9,
    "start_time": "2022-05-20T11:12:54.737Z"
   },
   {
    "duration": 22,
    "start_time": "2022-05-20T11:12:54.747Z"
   },
   {
    "duration": 32,
    "start_time": "2022-05-20T11:12:54.771Z"
   },
   {
    "duration": 6,
    "start_time": "2022-05-20T11:12:54.805Z"
   },
   {
    "duration": 249,
    "start_time": "2022-05-20T11:12:54.813Z"
   },
   {
    "duration": 8,
    "start_time": "2022-05-20T11:12:55.063Z"
   },
   {
    "duration": 21,
    "start_time": "2022-05-20T11:12:55.073Z"
   },
   {
    "duration": 19,
    "start_time": "2022-05-20T11:12:55.096Z"
   },
   {
    "duration": 15,
    "start_time": "2022-05-20T11:12:55.118Z"
   },
   {
    "duration": 14,
    "start_time": "2022-05-20T11:12:55.135Z"
   },
   {
    "duration": 46,
    "start_time": "2022-05-20T11:12:55.151Z"
   },
   {
    "duration": 10,
    "start_time": "2022-05-20T11:12:55.199Z"
   },
   {
    "duration": 21,
    "start_time": "2022-05-20T11:12:55.211Z"
   },
   {
    "duration": 296,
    "start_time": "2022-05-20T11:12:55.234Z"
   },
   {
    "duration": 13,
    "start_time": "2022-05-20T11:12:55.532Z"
   },
   {
    "duration": 5,
    "start_time": "2022-05-20T11:12:55.548Z"
   },
   {
    "duration": 15,
    "start_time": "2022-05-20T11:12:55.555Z"
   },
   {
    "duration": 25,
    "start_time": "2022-05-20T11:12:55.572Z"
   },
   {
    "duration": 9,
    "start_time": "2022-05-20T11:12:55.599Z"
   },
   {
    "duration": 5,
    "start_time": "2022-05-20T11:12:55.612Z"
   },
   {
    "duration": 14,
    "start_time": "2022-05-20T11:12:55.619Z"
   },
   {
    "duration": 15,
    "start_time": "2022-05-20T11:12:55.634Z"
   },
   {
    "duration": 45,
    "start_time": "2022-05-20T11:12:55.651Z"
   },
   {
    "duration": 14,
    "start_time": "2022-05-20T11:12:55.698Z"
   },
   {
    "duration": 13,
    "start_time": "2022-05-20T11:12:55.714Z"
   },
   {
    "duration": 5,
    "start_time": "2022-05-20T11:12:55.729Z"
   },
   {
    "duration": 9,
    "start_time": "2022-05-20T11:12:55.736Z"
   },
   {
    "duration": 9,
    "start_time": "2022-05-20T11:12:55.747Z"
   },
   {
    "duration": 38,
    "start_time": "2022-05-20T11:12:55.757Z"
   },
   {
    "duration": 5,
    "start_time": "2022-05-20T11:12:55.797Z"
   },
   {
    "duration": 18,
    "start_time": "2022-05-20T11:12:55.804Z"
   },
   {
    "duration": 7,
    "start_time": "2022-05-20T11:12:55.824Z"
   },
   {
    "duration": 11,
    "start_time": "2022-05-20T11:12:55.832Z"
   },
   {
    "duration": 8,
    "start_time": "2022-05-20T11:12:55.844Z"
   },
   {
    "duration": 6,
    "start_time": "2022-05-20T11:12:55.853Z"
   },
   {
    "duration": 35,
    "start_time": "2022-05-20T11:12:55.861Z"
   },
   {
    "duration": 6,
    "start_time": "2022-05-20T11:12:55.898Z"
   },
   {
    "duration": 22,
    "start_time": "2022-05-20T11:12:55.906Z"
   },
   {
    "duration": 20,
    "start_time": "2022-05-20T11:12:55.930Z"
   },
   {
    "duration": 5,
    "start_time": "2022-05-20T11:12:55.952Z"
   },
   {
    "duration": 48,
    "start_time": "2022-05-20T11:12:55.958Z"
   },
   {
    "duration": 20,
    "start_time": "2022-05-20T11:12:56.008Z"
   },
   {
    "duration": 14,
    "start_time": "2022-05-20T11:12:56.029Z"
   },
   {
    "duration": 12,
    "start_time": "2022-05-20T11:12:56.044Z"
   },
   {
    "duration": 40,
    "start_time": "2022-05-20T11:12:56.058Z"
   },
   {
    "duration": 26,
    "start_time": "2022-05-20T11:12:56.100Z"
   },
   {
    "duration": 9,
    "start_time": "2022-05-20T11:12:56.128Z"
   },
   {
    "duration": 29,
    "start_time": "2022-05-20T11:12:56.138Z"
   },
   {
    "duration": 7,
    "start_time": "2022-05-20T11:12:56.169Z"
   },
   {
    "duration": 33,
    "start_time": "2022-05-20T11:12:56.196Z"
   },
   {
    "duration": 7,
    "start_time": "2022-05-20T11:12:56.231Z"
   },
   {
    "duration": 9,
    "start_time": "2022-05-20T11:12:56.240Z"
   },
   {
    "duration": 49,
    "start_time": "2022-05-20T11:12:56.251Z"
   },
   {
    "duration": 21,
    "start_time": "2022-05-20T11:12:56.301Z"
   },
   {
    "duration": 8,
    "start_time": "2022-05-20T11:12:56.325Z"
   },
   {
    "duration": 13,
    "start_time": "2022-05-20T11:12:56.335Z"
   },
   {
    "duration": 54,
    "start_time": "2022-05-20T11:12:56.350Z"
   },
   {
    "duration": 514,
    "start_time": "2022-05-20T11:14:38.944Z"
   },
   {
    "duration": 15,
    "start_time": "2022-05-20T11:14:39.459Z"
   },
   {
    "duration": 27,
    "start_time": "2022-05-20T11:14:39.476Z"
   },
   {
    "duration": 343,
    "start_time": "2022-05-20T11:14:39.505Z"
   },
   {
    "duration": 11,
    "start_time": "2022-05-20T11:14:39.850Z"
   },
   {
    "duration": 10,
    "start_time": "2022-05-20T11:14:39.863Z"
   },
   {
    "duration": 25,
    "start_time": "2022-05-20T11:14:39.874Z"
   },
   {
    "duration": 21,
    "start_time": "2022-05-20T11:14:39.900Z"
   },
   {
    "duration": 37,
    "start_time": "2022-05-20T11:14:39.922Z"
   },
   {
    "duration": 34,
    "start_time": "2022-05-20T11:14:39.961Z"
   },
   {
    "duration": 6,
    "start_time": "2022-05-20T11:14:39.997Z"
   },
   {
    "duration": 10,
    "start_time": "2022-05-20T11:14:40.004Z"
   },
   {
    "duration": 8,
    "start_time": "2022-05-20T11:14:40.016Z"
   },
   {
    "duration": 9,
    "start_time": "2022-05-20T11:14:40.027Z"
   },
   {
    "duration": 5,
    "start_time": "2022-05-20T11:14:40.038Z"
   },
   {
    "duration": 52,
    "start_time": "2022-05-20T11:14:40.044Z"
   },
   {
    "duration": 32,
    "start_time": "2022-05-20T11:14:40.098Z"
   },
   {
    "duration": 14,
    "start_time": "2022-05-20T11:14:40.132Z"
   },
   {
    "duration": 175,
    "start_time": "2022-05-20T11:14:40.148Z"
   },
   {
    "duration": 259,
    "start_time": "2022-05-20T11:14:40.324Z"
   },
   {
    "duration": 10,
    "start_time": "2022-05-20T11:14:40.585Z"
   },
   {
    "duration": 10,
    "start_time": "2022-05-20T11:14:40.597Z"
   },
   {
    "duration": 8,
    "start_time": "2022-05-20T11:14:40.609Z"
   },
   {
    "duration": 16,
    "start_time": "2022-05-20T11:14:40.620Z"
   },
   {
    "duration": 5,
    "start_time": "2022-05-20T11:14:40.638Z"
   },
   {
    "duration": 240,
    "start_time": "2022-05-20T11:14:40.645Z"
   },
   {
    "duration": 8,
    "start_time": "2022-05-20T11:14:40.887Z"
   },
   {
    "duration": 6,
    "start_time": "2022-05-20T11:14:40.896Z"
   },
   {
    "duration": 16,
    "start_time": "2022-05-20T11:14:40.903Z"
   },
   {
    "duration": 11,
    "start_time": "2022-05-20T11:14:40.921Z"
   },
   {
    "duration": 10,
    "start_time": "2022-05-20T11:14:40.934Z"
   },
   {
    "duration": 6,
    "start_time": "2022-05-20T11:14:40.946Z"
   },
   {
    "duration": 52,
    "start_time": "2022-05-20T11:14:40.953Z"
   },
   {
    "duration": 10,
    "start_time": "2022-05-20T11:14:41.007Z"
   },
   {
    "duration": 13,
    "start_time": "2022-05-20T11:14:41.019Z"
   },
   {
    "duration": 288,
    "start_time": "2022-05-20T11:14:41.033Z"
   },
   {
    "duration": 12,
    "start_time": "2022-05-20T11:14:41.323Z"
   },
   {
    "duration": 6,
    "start_time": "2022-05-20T11:14:41.337Z"
   },
   {
    "duration": 11,
    "start_time": "2022-05-20T11:14:41.345Z"
   },
   {
    "duration": 6,
    "start_time": "2022-05-20T11:14:41.357Z"
   },
   {
    "duration": 10,
    "start_time": "2022-05-20T11:14:41.394Z"
   },
   {
    "duration": 7,
    "start_time": "2022-05-20T11:14:41.405Z"
   },
   {
    "duration": 15,
    "start_time": "2022-05-20T11:14:41.413Z"
   },
   {
    "duration": 19,
    "start_time": "2022-05-20T11:14:41.430Z"
   },
   {
    "duration": 28,
    "start_time": "2022-05-20T11:14:41.451Z"
   },
   {
    "duration": 25,
    "start_time": "2022-05-20T11:14:41.481Z"
   },
   {
    "duration": 12,
    "start_time": "2022-05-20T11:14:41.508Z"
   },
   {
    "duration": 7,
    "start_time": "2022-05-20T11:14:41.522Z"
   },
   {
    "duration": 11,
    "start_time": "2022-05-20T11:14:41.531Z"
   },
   {
    "duration": 11,
    "start_time": "2022-05-20T11:14:41.544Z"
   },
   {
    "duration": 16,
    "start_time": "2022-05-20T11:14:41.557Z"
   },
   {
    "duration": 5,
    "start_time": "2022-05-20T11:14:41.596Z"
   },
   {
    "duration": 12,
    "start_time": "2022-05-20T11:14:41.604Z"
   },
   {
    "duration": 8,
    "start_time": "2022-05-20T11:14:41.618Z"
   },
   {
    "duration": 9,
    "start_time": "2022-05-20T11:14:41.628Z"
   },
   {
    "duration": 7,
    "start_time": "2022-05-20T11:14:41.639Z"
   },
   {
    "duration": 5,
    "start_time": "2022-05-20T11:14:41.648Z"
   },
   {
    "duration": 44,
    "start_time": "2022-05-20T11:14:41.655Z"
   },
   {
    "duration": 6,
    "start_time": "2022-05-20T11:14:41.701Z"
   },
   {
    "duration": 19,
    "start_time": "2022-05-20T11:14:41.709Z"
   },
   {
    "duration": 20,
    "start_time": "2022-05-20T11:14:41.729Z"
   },
   {
    "duration": 6,
    "start_time": "2022-05-20T11:14:41.751Z"
   },
   {
    "duration": 48,
    "start_time": "2022-05-20T11:14:41.759Z"
   },
   {
    "duration": 20,
    "start_time": "2022-05-20T11:14:41.808Z"
   },
   {
    "duration": 13,
    "start_time": "2022-05-20T11:14:41.830Z"
   },
   {
    "duration": 12,
    "start_time": "2022-05-20T11:14:41.845Z"
   },
   {
    "duration": 46,
    "start_time": "2022-05-20T11:14:41.859Z"
   },
   {
    "duration": 28,
    "start_time": "2022-05-20T11:14:41.907Z"
   },
   {
    "duration": 8,
    "start_time": "2022-05-20T11:14:41.937Z"
   },
   {
    "duration": 22,
    "start_time": "2022-05-20T11:14:41.947Z"
   },
   {
    "duration": 27,
    "start_time": "2022-05-20T11:14:41.970Z"
   },
   {
    "duration": 24,
    "start_time": "2022-05-20T11:14:41.998Z"
   },
   {
    "duration": 5,
    "start_time": "2022-05-20T11:14:42.024Z"
   },
   {
    "duration": 9,
    "start_time": "2022-05-20T11:14:42.031Z"
   },
   {
    "duration": 22,
    "start_time": "2022-05-20T11:14:42.042Z"
   },
   {
    "duration": 48,
    "start_time": "2022-05-20T11:14:42.065Z"
   },
   {
    "duration": 6,
    "start_time": "2022-05-20T11:14:42.114Z"
   },
   {
    "duration": 17,
    "start_time": "2022-05-20T11:14:42.122Z"
   },
   {
    "duration": 21,
    "start_time": "2022-05-20T11:14:42.140Z"
   },
   {
    "duration": 521,
    "start_time": "2022-05-20T11:15:21.946Z"
   },
   {
    "duration": 14,
    "start_time": "2022-05-20T11:15:22.469Z"
   },
   {
    "duration": 21,
    "start_time": "2022-05-20T11:15:22.485Z"
   },
   {
    "duration": 359,
    "start_time": "2022-05-20T11:15:22.507Z"
   },
   {
    "duration": 11,
    "start_time": "2022-05-20T11:15:22.868Z"
   },
   {
    "duration": 13,
    "start_time": "2022-05-20T11:15:22.894Z"
   },
   {
    "duration": 8,
    "start_time": "2022-05-20T11:15:22.909Z"
   },
   {
    "duration": 26,
    "start_time": "2022-05-20T11:15:22.918Z"
   },
   {
    "duration": 62,
    "start_time": "2022-05-20T11:15:22.946Z"
   },
   {
    "duration": 9,
    "start_time": "2022-05-20T11:15:23.009Z"
   },
   {
    "duration": 7,
    "start_time": "2022-05-20T11:15:23.019Z"
   },
   {
    "duration": 10,
    "start_time": "2022-05-20T11:15:23.028Z"
   },
   {
    "duration": 10,
    "start_time": "2022-05-20T11:15:23.039Z"
   },
   {
    "duration": 47,
    "start_time": "2022-05-20T11:15:23.053Z"
   },
   {
    "duration": 6,
    "start_time": "2022-05-20T11:15:23.102Z"
   },
   {
    "duration": 30,
    "start_time": "2022-05-20T11:15:23.110Z"
   },
   {
    "duration": 33,
    "start_time": "2022-05-20T11:15:23.141Z"
   },
   {
    "duration": 16,
    "start_time": "2022-05-20T11:15:23.195Z"
   },
   {
    "duration": 187,
    "start_time": "2022-05-20T11:15:23.213Z"
   },
   {
    "duration": 268,
    "start_time": "2022-05-20T11:15:23.401Z"
   },
   {
    "duration": 7,
    "start_time": "2022-05-20T11:15:23.670Z"
   },
   {
    "duration": 30,
    "start_time": "2022-05-20T11:15:23.678Z"
   },
   {
    "duration": 9,
    "start_time": "2022-05-20T11:15:23.710Z"
   },
   {
    "duration": 16,
    "start_time": "2022-05-20T11:15:23.721Z"
   },
   {
    "duration": 4,
    "start_time": "2022-05-20T11:15:23.738Z"
   },
   {
    "duration": 217,
    "start_time": "2022-05-20T11:15:23.744Z"
   },
   {
    "duration": 8,
    "start_time": "2022-05-20T11:15:23.963Z"
   },
   {
    "duration": 22,
    "start_time": "2022-05-20T11:15:23.973Z"
   },
   {
    "duration": 14,
    "start_time": "2022-05-20T11:15:23.997Z"
   },
   {
    "duration": 10,
    "start_time": "2022-05-20T11:15:24.013Z"
   },
   {
    "duration": 10,
    "start_time": "2022-05-20T11:15:24.025Z"
   },
   {
    "duration": 7,
    "start_time": "2022-05-20T11:15:24.037Z"
   },
   {
    "duration": 14,
    "start_time": "2022-05-20T11:15:24.046Z"
   },
   {
    "duration": 15,
    "start_time": "2022-05-20T11:15:24.094Z"
   },
   {
    "duration": 10,
    "start_time": "2022-05-20T11:15:24.111Z"
   },
   {
    "duration": 14,
    "start_time": "2022-05-20T11:15:24.123Z"
   },
   {
    "duration": 284,
    "start_time": "2022-05-20T11:15:24.139Z"
   },
   {
    "duration": 10,
    "start_time": "2022-05-20T11:15:24.424Z"
   },
   {
    "duration": 7,
    "start_time": "2022-05-20T11:15:24.436Z"
   },
   {
    "duration": 10,
    "start_time": "2022-05-20T11:15:24.444Z"
   },
   {
    "duration": 7,
    "start_time": "2022-05-20T11:15:24.458Z"
   },
   {
    "duration": 39,
    "start_time": "2022-05-20T11:15:24.467Z"
   },
   {
    "duration": 6,
    "start_time": "2022-05-20T11:15:24.508Z"
   },
   {
    "duration": 15,
    "start_time": "2022-05-20T11:15:24.515Z"
   },
   {
    "duration": 19,
    "start_time": "2022-05-20T11:15:24.531Z"
   },
   {
    "duration": 33,
    "start_time": "2022-05-20T11:15:24.552Z"
   },
   {
    "duration": 13,
    "start_time": "2022-05-20T11:15:24.587Z"
   },
   {
    "duration": 17,
    "start_time": "2022-05-20T11:15:24.602Z"
   },
   {
    "duration": 6,
    "start_time": "2022-05-20T11:15:24.621Z"
   },
   {
    "duration": 10,
    "start_time": "2022-05-20T11:15:24.628Z"
   },
   {
    "duration": 13,
    "start_time": "2022-05-20T11:15:24.639Z"
   },
   {
    "duration": 7,
    "start_time": "2022-05-20T11:15:24.653Z"
   },
   {
    "duration": 12,
    "start_time": "2022-05-20T11:15:24.662Z"
   },
   {
    "duration": 8,
    "start_time": "2022-05-20T11:15:24.694Z"
   },
   {
    "duration": 15,
    "start_time": "2022-05-20T11:15:24.703Z"
   },
   {
    "duration": 10,
    "start_time": "2022-05-20T11:15:24.720Z"
   },
   {
    "duration": 12,
    "start_time": "2022-05-20T11:15:24.732Z"
   },
   {
    "duration": 9,
    "start_time": "2022-05-20T11:15:24.745Z"
   },
   {
    "duration": 9,
    "start_time": "2022-05-20T11:15:24.756Z"
   },
   {
    "duration": 28,
    "start_time": "2022-05-20T11:15:24.767Z"
   },
   {
    "duration": 17,
    "start_time": "2022-05-20T11:15:24.797Z"
   },
   {
    "duration": 18,
    "start_time": "2022-05-20T11:15:24.815Z"
   },
   {
    "duration": 5,
    "start_time": "2022-05-20T11:15:24.835Z"
   },
   {
    "duration": 21,
    "start_time": "2022-05-20T11:15:24.842Z"
   },
   {
    "duration": 46,
    "start_time": "2022-05-20T11:15:24.865Z"
   },
   {
    "duration": 15,
    "start_time": "2022-05-20T11:15:24.912Z"
   },
   {
    "duration": 13,
    "start_time": "2022-05-20T11:15:24.928Z"
   },
   {
    "duration": 13,
    "start_time": "2022-05-20T11:15:24.943Z"
   },
   {
    "duration": 53,
    "start_time": "2022-05-20T11:15:24.958Z"
   },
   {
    "duration": 7,
    "start_time": "2022-05-20T11:15:25.012Z"
   },
   {
    "duration": 23,
    "start_time": "2022-05-20T11:15:25.020Z"
   },
   {
    "duration": 7,
    "start_time": "2022-05-20T11:15:25.045Z"
   },
   {
    "duration": 50,
    "start_time": "2022-05-20T11:15:25.053Z"
   },
   {
    "duration": 7,
    "start_time": "2022-05-20T11:15:25.104Z"
   },
   {
    "duration": 29,
    "start_time": "2022-05-20T11:15:25.112Z"
   },
   {
    "duration": 32,
    "start_time": "2022-05-20T11:15:25.143Z"
   },
   {
    "duration": 21,
    "start_time": "2022-05-20T11:15:25.178Z"
   },
   {
    "duration": 8,
    "start_time": "2022-05-20T11:15:25.201Z"
   },
   {
    "duration": 20,
    "start_time": "2022-05-20T11:15:25.210Z"
   },
   {
    "duration": 22,
    "start_time": "2022-05-20T11:15:25.231Z"
   },
   {
    "duration": 547,
    "start_time": "2022-05-20T11:19:48.418Z"
   },
   {
    "duration": 16,
    "start_time": "2022-05-20T11:19:48.968Z"
   },
   {
    "duration": 22,
    "start_time": "2022-05-20T11:19:48.996Z"
   },
   {
    "duration": 363,
    "start_time": "2022-05-20T11:19:49.021Z"
   },
   {
    "duration": 25,
    "start_time": "2022-05-20T11:19:49.386Z"
   },
   {
    "duration": 10,
    "start_time": "2022-05-20T11:19:49.413Z"
   },
   {
    "duration": 6,
    "start_time": "2022-05-20T11:19:49.425Z"
   },
   {
    "duration": 19,
    "start_time": "2022-05-20T11:19:49.433Z"
   },
   {
    "duration": 68,
    "start_time": "2022-05-20T11:19:49.454Z"
   },
   {
    "duration": 7,
    "start_time": "2022-05-20T11:19:49.525Z"
   },
   {
    "duration": 6,
    "start_time": "2022-05-20T11:19:49.533Z"
   },
   {
    "duration": 8,
    "start_time": "2022-05-20T11:19:49.540Z"
   },
   {
    "duration": 8,
    "start_time": "2022-05-20T11:19:49.549Z"
   },
   {
    "duration": 10,
    "start_time": "2022-05-20T11:19:49.558Z"
   },
   {
    "duration": 14,
    "start_time": "2022-05-20T11:19:49.595Z"
   },
   {
    "duration": 20,
    "start_time": "2022-05-20T11:19:49.611Z"
   },
   {
    "duration": 34,
    "start_time": "2022-05-20T11:19:49.632Z"
   },
   {
    "duration": 37,
    "start_time": "2022-05-20T11:19:49.668Z"
   },
   {
    "duration": 146,
    "start_time": "2022-05-20T11:19:49.707Z"
   },
   {
    "duration": 273,
    "start_time": "2022-05-20T11:19:49.855Z"
   },
   {
    "duration": 7,
    "start_time": "2022-05-20T11:19:50.129Z"
   },
   {
    "duration": 8,
    "start_time": "2022-05-20T11:19:50.137Z"
   },
   {
    "duration": 7,
    "start_time": "2022-05-20T11:19:50.146Z"
   },
   {
    "duration": 14,
    "start_time": "2022-05-20T11:19:50.154Z"
   },
   {
    "duration": 30,
    "start_time": "2022-05-20T11:19:50.170Z"
   },
   {
    "duration": 215,
    "start_time": "2022-05-20T11:19:50.207Z"
   },
   {
    "duration": 5,
    "start_time": "2022-05-20T11:19:50.424Z"
   },
   {
    "duration": 12,
    "start_time": "2022-05-20T11:19:50.433Z"
   },
   {
    "duration": 14,
    "start_time": "2022-05-20T11:19:50.447Z"
   },
   {
    "duration": 9,
    "start_time": "2022-05-20T11:19:50.463Z"
   },
   {
    "duration": 42,
    "start_time": "2022-05-20T11:19:50.474Z"
   },
   {
    "duration": 11,
    "start_time": "2022-05-20T11:19:50.518Z"
   },
   {
    "duration": 7,
    "start_time": "2022-05-20T11:19:50.532Z"
   },
   {
    "duration": 9,
    "start_time": "2022-05-20T11:19:50.541Z"
   },
   {
    "duration": 13,
    "start_time": "2022-05-20T11:19:50.552Z"
   },
   {
    "duration": 294,
    "start_time": "2022-05-20T11:19:50.566Z"
   },
   {
    "duration": 10,
    "start_time": "2022-05-20T11:19:50.862Z"
   },
   {
    "duration": 11,
    "start_time": "2022-05-20T11:19:50.873Z"
   },
   {
    "duration": 19,
    "start_time": "2022-05-20T11:19:50.895Z"
   },
   {
    "duration": 5,
    "start_time": "2022-05-20T11:19:50.916Z"
   },
   {
    "duration": 11,
    "start_time": "2022-05-20T11:19:50.923Z"
   },
   {
    "duration": 5,
    "start_time": "2022-05-20T11:19:50.936Z"
   },
   {
    "duration": 14,
    "start_time": "2022-05-20T11:19:50.942Z"
   },
   {
    "duration": 16,
    "start_time": "2022-05-20T11:19:50.958Z"
   },
   {
    "duration": 35,
    "start_time": "2022-05-20T11:19:50.976Z"
   },
   {
    "duration": 14,
    "start_time": "2022-05-20T11:19:51.013Z"
   },
   {
    "duration": 12,
    "start_time": "2022-05-20T11:19:51.028Z"
   },
   {
    "duration": 6,
    "start_time": "2022-05-20T11:19:51.041Z"
   },
   {
    "duration": 7,
    "start_time": "2022-05-20T11:19:51.049Z"
   },
   {
    "duration": 9,
    "start_time": "2022-05-20T11:19:51.057Z"
   },
   {
    "duration": 42,
    "start_time": "2022-05-20T11:19:51.067Z"
   },
   {
    "duration": 8,
    "start_time": "2022-05-20T11:19:51.111Z"
   },
   {
    "duration": 14,
    "start_time": "2022-05-20T11:19:51.120Z"
   },
   {
    "duration": 6,
    "start_time": "2022-05-20T11:19:51.135Z"
   },
   {
    "duration": 12,
    "start_time": "2022-05-20T11:19:51.143Z"
   },
   {
    "duration": 7,
    "start_time": "2022-05-20T11:19:51.157Z"
   },
   {
    "duration": 6,
    "start_time": "2022-05-20T11:19:51.165Z"
   },
   {
    "duration": 34,
    "start_time": "2022-05-20T11:19:51.173Z"
   },
   {
    "duration": 5,
    "start_time": "2022-05-20T11:19:51.209Z"
   },
   {
    "duration": 20,
    "start_time": "2022-05-20T11:19:51.216Z"
   },
   {
    "duration": 19,
    "start_time": "2022-05-20T11:19:51.237Z"
   },
   {
    "duration": 5,
    "start_time": "2022-05-20T11:19:51.258Z"
   },
   {
    "duration": 43,
    "start_time": "2022-05-20T11:19:51.264Z"
   },
   {
    "duration": 22,
    "start_time": "2022-05-20T11:19:51.309Z"
   },
   {
    "duration": 14,
    "start_time": "2022-05-20T11:19:51.333Z"
   },
   {
    "duration": 12,
    "start_time": "2022-05-20T11:19:51.348Z"
   },
   {
    "duration": 43,
    "start_time": "2022-05-20T11:19:51.362Z"
   },
   {
    "duration": 35,
    "start_time": "2022-05-20T11:19:51.407Z"
   },
   {
    "duration": 6,
    "start_time": "2022-05-20T11:19:51.443Z"
   },
   {
    "duration": 23,
    "start_time": "2022-05-20T11:19:51.451Z"
   },
   {
    "duration": 34,
    "start_time": "2022-05-20T11:19:51.475Z"
   },
   {
    "duration": 26,
    "start_time": "2022-05-20T11:19:51.511Z"
   },
   {
    "duration": 5,
    "start_time": "2022-05-20T11:19:51.539Z"
   },
   {
    "duration": 20,
    "start_time": "2022-05-20T11:19:51.546Z"
   },
   {
    "duration": 24,
    "start_time": "2022-05-20T11:19:51.568Z"
   },
   {
    "duration": 29,
    "start_time": "2022-05-20T11:19:51.595Z"
   },
   {
    "duration": 6,
    "start_time": "2022-05-20T11:19:51.626Z"
   },
   {
    "duration": 14,
    "start_time": "2022-05-20T11:19:51.634Z"
   },
   {
    "duration": 22,
    "start_time": "2022-05-20T11:19:51.650Z"
   },
   {
    "duration": 538,
    "start_time": "2022-05-20T11:29:19.267Z"
   },
   {
    "duration": 15,
    "start_time": "2022-05-20T11:29:19.807Z"
   },
   {
    "duration": 17,
    "start_time": "2022-05-20T11:29:19.824Z"
   },
   {
    "duration": 337,
    "start_time": "2022-05-20T11:29:19.842Z"
   },
   {
    "duration": 24,
    "start_time": "2022-05-20T11:29:20.181Z"
   },
   {
    "duration": 11,
    "start_time": "2022-05-20T11:29:20.207Z"
   },
   {
    "duration": 7,
    "start_time": "2022-05-20T11:29:20.219Z"
   },
   {
    "duration": 30,
    "start_time": "2022-05-20T11:29:20.227Z"
   },
   {
    "duration": 52,
    "start_time": "2022-05-20T11:29:20.260Z"
   },
   {
    "duration": 6,
    "start_time": "2022-05-20T11:29:20.314Z"
   },
   {
    "duration": 5,
    "start_time": "2022-05-20T11:29:20.322Z"
   },
   {
    "duration": 7,
    "start_time": "2022-05-20T11:29:20.329Z"
   },
   {
    "duration": 7,
    "start_time": "2022-05-20T11:29:20.337Z"
   },
   {
    "duration": 11,
    "start_time": "2022-05-20T11:29:20.346Z"
   },
   {
    "duration": 47,
    "start_time": "2022-05-20T11:29:20.359Z"
   },
   {
    "duration": 17,
    "start_time": "2022-05-20T11:29:20.408Z"
   },
   {
    "duration": 30,
    "start_time": "2022-05-20T11:29:20.427Z"
   },
   {
    "duration": 13,
    "start_time": "2022-05-20T11:29:20.459Z"
   },
   {
    "duration": 164,
    "start_time": "2022-05-20T11:29:20.474Z"
   },
   {
    "duration": 266,
    "start_time": "2022-05-20T11:29:20.640Z"
   },
   {
    "duration": 7,
    "start_time": "2022-05-20T11:29:20.909Z"
   },
   {
    "duration": 7,
    "start_time": "2022-05-20T11:29:20.918Z"
   },
   {
    "duration": 7,
    "start_time": "2022-05-20T11:29:20.927Z"
   },
   {
    "duration": 15,
    "start_time": "2022-05-20T11:29:20.936Z"
   },
   {
    "duration": 4,
    "start_time": "2022-05-20T11:29:20.953Z"
   },
   {
    "duration": 216,
    "start_time": "2022-05-20T11:29:20.959Z"
   },
   {
    "duration": 6,
    "start_time": "2022-05-20T11:29:21.177Z"
   },
   {
    "duration": 11,
    "start_time": "2022-05-20T11:29:21.194Z"
   },
   {
    "duration": 18,
    "start_time": "2022-05-20T11:29:21.207Z"
   },
   {
    "duration": 9,
    "start_time": "2022-05-20T11:29:21.226Z"
   },
   {
    "duration": 13,
    "start_time": "2022-05-20T11:29:21.237Z"
   },
   {
    "duration": 5,
    "start_time": "2022-05-20T11:29:21.251Z"
   },
   {
    "duration": 10,
    "start_time": "2022-05-20T11:29:21.258Z"
   },
   {
    "duration": 37,
    "start_time": "2022-05-20T11:29:21.270Z"
   },
   {
    "duration": 6,
    "start_time": "2022-05-20T11:29:21.308Z"
   },
   {
    "duration": 20,
    "start_time": "2022-05-20T11:29:21.315Z"
   },
   {
    "duration": 12,
    "start_time": "2022-05-20T11:29:21.337Z"
   },
   {
    "duration": 273,
    "start_time": "2022-05-20T11:29:21.351Z"
   },
   {
    "duration": 10,
    "start_time": "2022-05-20T11:29:21.626Z"
   },
   {
    "duration": 7,
    "start_time": "2022-05-20T11:29:21.637Z"
   },
   {
    "duration": 10,
    "start_time": "2022-05-20T11:29:21.648Z"
   },
   {
    "duration": 6,
    "start_time": "2022-05-20T11:29:21.659Z"
   },
   {
    "duration": 36,
    "start_time": "2022-05-20T11:29:21.666Z"
   },
   {
    "duration": 9,
    "start_time": "2022-05-20T11:29:21.704Z"
   },
   {
    "duration": 14,
    "start_time": "2022-05-20T11:29:21.714Z"
   },
   {
    "duration": 13,
    "start_time": "2022-05-20T11:29:21.730Z"
   },
   {
    "duration": 19,
    "start_time": "2022-05-20T11:29:21.744Z"
   },
   {
    "duration": 14,
    "start_time": "2022-05-20T11:29:21.764Z"
   },
   {
    "duration": 15,
    "start_time": "2022-05-20T11:29:21.798Z"
   },
   {
    "duration": 7,
    "start_time": "2022-05-20T11:29:21.814Z"
   },
   {
    "duration": 7,
    "start_time": "2022-05-20T11:29:21.822Z"
   },
   {
    "duration": 8,
    "start_time": "2022-05-20T11:29:21.831Z"
   },
   {
    "duration": 9,
    "start_time": "2022-05-20T11:29:21.840Z"
   },
   {
    "duration": 4,
    "start_time": "2022-05-20T11:29:21.850Z"
   },
   {
    "duration": 49,
    "start_time": "2022-05-20T11:29:21.855Z"
   },
   {
    "duration": 9,
    "start_time": "2022-05-20T11:29:21.905Z"
   },
   {
    "duration": 13,
    "start_time": "2022-05-20T11:29:21.915Z"
   },
   {
    "duration": 7,
    "start_time": "2022-05-20T11:29:21.930Z"
   },
   {
    "duration": 5,
    "start_time": "2022-05-20T11:29:21.938Z"
   },
   {
    "duration": 11,
    "start_time": "2022-05-20T11:29:21.945Z"
   },
   {
    "duration": 5,
    "start_time": "2022-05-20T11:29:21.958Z"
   },
   {
    "duration": 38,
    "start_time": "2022-05-20T11:29:21.965Z"
   },
   {
    "duration": 20,
    "start_time": "2022-05-20T11:29:22.005Z"
   },
   {
    "duration": 5,
    "start_time": "2022-05-20T11:29:22.026Z"
   },
   {
    "duration": 17,
    "start_time": "2022-05-20T11:29:22.032Z"
   },
   {
    "duration": 19,
    "start_time": "2022-05-20T11:29:22.050Z"
   },
   {
    "duration": 46,
    "start_time": "2022-05-20T11:29:22.071Z"
   },
   {
    "duration": 11,
    "start_time": "2022-05-20T11:29:22.119Z"
   },
   {
    "duration": 12,
    "start_time": "2022-05-20T11:29:22.131Z"
   },
   {
    "duration": 19,
    "start_time": "2022-05-20T11:29:22.145Z"
   },
   {
    "duration": 39,
    "start_time": "2022-05-20T11:29:22.166Z"
   },
   {
    "duration": 24,
    "start_time": "2022-05-20T11:29:22.207Z"
   },
   {
    "duration": 11,
    "start_time": "2022-05-20T11:29:22.233Z"
   },
   {
    "duration": 22,
    "start_time": "2022-05-20T11:29:22.245Z"
   },
   {
    "duration": 6,
    "start_time": "2022-05-20T11:29:22.269Z"
   },
   {
    "duration": 33,
    "start_time": "2022-05-20T11:29:22.276Z"
   },
   {
    "duration": 24,
    "start_time": "2022-05-20T11:29:22.311Z"
   },
   {
    "duration": 19,
    "start_time": "2022-05-20T11:29:22.337Z"
   },
   {
    "duration": 6,
    "start_time": "2022-05-20T11:29:22.358Z"
   },
   {
    "duration": 44,
    "start_time": "2022-05-20T11:29:22.365Z"
   },
   {
    "duration": 20,
    "start_time": "2022-05-20T11:29:22.411Z"
   },
   {
    "duration": 517,
    "start_time": "2022-05-20T11:33:14.466Z"
   },
   {
    "duration": 20,
    "start_time": "2022-05-20T11:33:14.985Z"
   },
   {
    "duration": 38,
    "start_time": "2022-05-20T11:33:15.008Z"
   },
   {
    "duration": 368,
    "start_time": "2022-05-20T11:33:15.048Z"
   },
   {
    "duration": 13,
    "start_time": "2022-05-20T11:33:15.419Z"
   },
   {
    "duration": 11,
    "start_time": "2022-05-20T11:33:15.434Z"
   },
   {
    "duration": 8,
    "start_time": "2022-05-20T11:33:15.446Z"
   },
   {
    "duration": 55,
    "start_time": "2022-05-20T11:33:15.456Z"
   },
   {
    "duration": 44,
    "start_time": "2022-05-20T11:33:15.513Z"
   },
   {
    "duration": 7,
    "start_time": "2022-05-20T11:33:15.558Z"
   },
   {
    "duration": 39,
    "start_time": "2022-05-20T11:33:15.567Z"
   },
   {
    "duration": 10,
    "start_time": "2022-05-20T11:33:15.608Z"
   },
   {
    "duration": 8,
    "start_time": "2022-05-20T11:33:15.619Z"
   },
   {
    "duration": 8,
    "start_time": "2022-05-20T11:33:15.630Z"
   },
   {
    "duration": 5,
    "start_time": "2022-05-20T11:33:15.640Z"
   },
   {
    "duration": 23,
    "start_time": "2022-05-20T11:33:15.646Z"
   },
   {
    "duration": 60,
    "start_time": "2022-05-20T11:33:15.670Z"
   },
   {
    "duration": 14,
    "start_time": "2022-05-20T11:33:15.732Z"
   },
   {
    "duration": 175,
    "start_time": "2022-05-20T11:33:15.748Z"
   },
   {
    "duration": 314,
    "start_time": "2022-05-20T11:33:15.924Z"
   },
   {
    "duration": 7,
    "start_time": "2022-05-20T11:33:16.240Z"
   },
   {
    "duration": 6,
    "start_time": "2022-05-20T11:33:16.249Z"
   },
   {
    "duration": 12,
    "start_time": "2022-05-20T11:33:16.257Z"
   },
   {
    "duration": 40,
    "start_time": "2022-05-20T11:33:16.271Z"
   },
   {
    "duration": 5,
    "start_time": "2022-05-20T11:33:16.312Z"
   },
   {
    "duration": 244,
    "start_time": "2022-05-20T11:33:16.319Z"
   },
   {
    "duration": 6,
    "start_time": "2022-05-20T11:33:16.565Z"
   },
   {
    "duration": 6,
    "start_time": "2022-05-20T11:33:16.572Z"
   },
   {
    "duration": 31,
    "start_time": "2022-05-20T11:33:16.580Z"
   },
   {
    "duration": 12,
    "start_time": "2022-05-20T11:33:16.614Z"
   },
   {
    "duration": 14,
    "start_time": "2022-05-20T11:33:16.627Z"
   },
   {
    "duration": 7,
    "start_time": "2022-05-20T11:33:16.643Z"
   },
   {
    "duration": 20,
    "start_time": "2022-05-20T11:33:16.651Z"
   },
   {
    "duration": 36,
    "start_time": "2022-05-20T11:33:16.673Z"
   },
   {
    "duration": 12,
    "start_time": "2022-05-20T11:33:16.711Z"
   },
   {
    "duration": 284,
    "start_time": "2022-05-20T11:33:16.725Z"
   },
   {
    "duration": 9,
    "start_time": "2022-05-20T11:33:17.011Z"
   },
   {
    "duration": 6,
    "start_time": "2022-05-20T11:33:17.022Z"
   },
   {
    "duration": 9,
    "start_time": "2022-05-20T11:33:17.029Z"
   },
   {
    "duration": 5,
    "start_time": "2022-05-20T11:33:17.039Z"
   },
   {
    "duration": 11,
    "start_time": "2022-05-20T11:33:17.049Z"
   },
   {
    "duration": 7,
    "start_time": "2022-05-20T11:33:17.061Z"
   },
   {
    "duration": 17,
    "start_time": "2022-05-20T11:33:17.095Z"
   },
   {
    "duration": 14,
    "start_time": "2022-05-20T11:33:17.114Z"
   },
   {
    "duration": 17,
    "start_time": "2022-05-20T11:33:17.130Z"
   },
   {
    "duration": 15,
    "start_time": "2022-05-20T11:33:17.148Z"
   },
   {
    "duration": 34,
    "start_time": "2022-05-20T11:33:17.164Z"
   },
   {
    "duration": 6,
    "start_time": "2022-05-20T11:33:17.203Z"
   },
   {
    "duration": 23,
    "start_time": "2022-05-20T11:33:17.211Z"
   },
   {
    "duration": 14,
    "start_time": "2022-05-20T11:33:17.235Z"
   },
   {
    "duration": 15,
    "start_time": "2022-05-20T11:33:17.250Z"
   },
   {
    "duration": 6,
    "start_time": "2022-05-20T11:33:17.267Z"
   },
   {
    "duration": 43,
    "start_time": "2022-05-20T11:33:17.275Z"
   },
   {
    "duration": 8,
    "start_time": "2022-05-20T11:33:17.320Z"
   },
   {
    "duration": 11,
    "start_time": "2022-05-20T11:33:17.329Z"
   },
   {
    "duration": 16,
    "start_time": "2022-05-20T11:33:17.343Z"
   },
   {
    "duration": 6,
    "start_time": "2022-05-20T11:33:17.361Z"
   },
   {
    "duration": 17,
    "start_time": "2022-05-20T11:33:17.369Z"
   },
   {
    "duration": 8,
    "start_time": "2022-05-20T11:33:17.387Z"
   },
   {
    "duration": 44,
    "start_time": "2022-05-20T11:33:17.397Z"
   },
   {
    "duration": 20,
    "start_time": "2022-05-20T11:33:17.443Z"
   },
   {
    "duration": 6,
    "start_time": "2022-05-20T11:33:17.465Z"
   },
   {
    "duration": 19,
    "start_time": "2022-05-20T11:33:17.473Z"
   },
   {
    "duration": 30,
    "start_time": "2022-05-20T11:33:17.494Z"
   },
   {
    "duration": 13,
    "start_time": "2022-05-20T11:33:17.525Z"
   },
   {
    "duration": 13,
    "start_time": "2022-05-20T11:33:17.540Z"
   },
   {
    "duration": 14,
    "start_time": "2022-05-20T11:33:17.555Z"
   },
   {
    "duration": 49,
    "start_time": "2022-05-20T11:33:17.571Z"
   },
   {
    "duration": 5,
    "start_time": "2022-05-20T11:33:17.622Z"
   },
   {
    "duration": 20,
    "start_time": "2022-05-20T11:33:17.629Z"
   },
   {
    "duration": 5,
    "start_time": "2022-05-20T11:33:17.652Z"
   },
   {
    "duration": 50,
    "start_time": "2022-05-20T11:33:17.659Z"
   },
   {
    "duration": 6,
    "start_time": "2022-05-20T11:33:17.712Z"
   },
   {
    "duration": 8,
    "start_time": "2022-05-20T11:33:17.719Z"
   },
   {
    "duration": 22,
    "start_time": "2022-05-20T11:33:17.728Z"
   },
   {
    "duration": 19,
    "start_time": "2022-05-20T11:33:17.752Z"
   },
   {
    "duration": 36,
    "start_time": "2022-05-20T11:33:17.773Z"
   },
   {
    "duration": 14,
    "start_time": "2022-05-20T11:33:17.810Z"
   },
   {
    "duration": 25,
    "start_time": "2022-05-20T11:33:17.825Z"
   },
   {
    "duration": 539,
    "start_time": "2022-05-20T11:34:57.305Z"
   },
   {
    "duration": 15,
    "start_time": "2022-05-20T11:34:57.845Z"
   },
   {
    "duration": 17,
    "start_time": "2022-05-20T11:34:57.861Z"
   },
   {
    "duration": 337,
    "start_time": "2022-05-20T11:34:57.894Z"
   },
   {
    "duration": 11,
    "start_time": "2022-05-20T11:34:58.233Z"
   },
   {
    "duration": 10,
    "start_time": "2022-05-20T11:34:58.246Z"
   },
   {
    "duration": 5,
    "start_time": "2022-05-20T11:34:58.258Z"
   },
   {
    "duration": 46,
    "start_time": "2022-05-20T11:34:58.264Z"
   },
   {
    "duration": 33,
    "start_time": "2022-05-20T11:34:58.313Z"
   },
   {
    "duration": 7,
    "start_time": "2022-05-20T11:34:58.349Z"
   },
   {
    "duration": 5,
    "start_time": "2022-05-20T11:34:58.358Z"
   },
   {
    "duration": 37,
    "start_time": "2022-05-20T11:34:58.364Z"
   },
   {
    "duration": 8,
    "start_time": "2022-05-20T11:34:58.402Z"
   },
   {
    "duration": 23,
    "start_time": "2022-05-20T11:34:58.411Z"
   },
   {
    "duration": 5,
    "start_time": "2022-05-20T11:34:58.436Z"
   },
   {
    "duration": 18,
    "start_time": "2022-05-20T11:34:58.443Z"
   },
   {
    "duration": 45,
    "start_time": "2022-05-20T11:34:58.463Z"
   },
   {
    "duration": 16,
    "start_time": "2022-05-20T11:34:58.510Z"
   },
   {
    "duration": 147,
    "start_time": "2022-05-20T11:34:58.528Z"
   },
   {
    "duration": 262,
    "start_time": "2022-05-20T11:34:58.676Z"
   },
   {
    "duration": 6,
    "start_time": "2022-05-20T11:34:58.940Z"
   },
   {
    "duration": 11,
    "start_time": "2022-05-20T11:34:58.947Z"
   },
   {
    "duration": 10,
    "start_time": "2022-05-20T11:34:58.959Z"
   },
   {
    "duration": 24,
    "start_time": "2022-05-20T11:34:58.970Z"
   },
   {
    "duration": 5,
    "start_time": "2022-05-20T11:34:59.005Z"
   },
   {
    "duration": 205,
    "start_time": "2022-05-20T11:34:59.011Z"
   },
   {
    "duration": 6,
    "start_time": "2022-05-20T11:34:59.217Z"
   },
   {
    "duration": 4,
    "start_time": "2022-05-20T11:34:59.226Z"
   },
   {
    "duration": 20,
    "start_time": "2022-05-20T11:34:59.232Z"
   },
   {
    "duration": 9,
    "start_time": "2022-05-20T11:34:59.253Z"
   },
   {
    "duration": 105,
    "start_time": "2022-05-20T11:34:59.264Z"
   },
   {
    "duration": 0,
    "start_time": "2022-05-20T11:34:59.370Z"
   },
   {
    "duration": 0,
    "start_time": "2022-05-20T11:34:59.371Z"
   },
   {
    "duration": 0,
    "start_time": "2022-05-20T11:34:59.373Z"
   },
   {
    "duration": 0,
    "start_time": "2022-05-20T11:34:59.373Z"
   },
   {
    "duration": 1,
    "start_time": "2022-05-20T11:34:59.374Z"
   },
   {
    "duration": 0,
    "start_time": "2022-05-20T11:34:59.375Z"
   },
   {
    "duration": 0,
    "start_time": "2022-05-20T11:34:59.377Z"
   },
   {
    "duration": 0,
    "start_time": "2022-05-20T11:34:59.378Z"
   },
   {
    "duration": 0,
    "start_time": "2022-05-20T11:34:59.379Z"
   },
   {
    "duration": 0,
    "start_time": "2022-05-20T11:34:59.380Z"
   },
   {
    "duration": 0,
    "start_time": "2022-05-20T11:34:59.394Z"
   },
   {
    "duration": 0,
    "start_time": "2022-05-20T11:34:59.395Z"
   },
   {
    "duration": 0,
    "start_time": "2022-05-20T11:34:59.396Z"
   },
   {
    "duration": 0,
    "start_time": "2022-05-20T11:34:59.396Z"
   },
   {
    "duration": 0,
    "start_time": "2022-05-20T11:34:59.399Z"
   },
   {
    "duration": 0,
    "start_time": "2022-05-20T11:34:59.400Z"
   },
   {
    "duration": 0,
    "start_time": "2022-05-20T11:34:59.400Z"
   },
   {
    "duration": 0,
    "start_time": "2022-05-20T11:34:59.405Z"
   },
   {
    "duration": 0,
    "start_time": "2022-05-20T11:34:59.408Z"
   },
   {
    "duration": 0,
    "start_time": "2022-05-20T11:34:59.409Z"
   },
   {
    "duration": 0,
    "start_time": "2022-05-20T11:34:59.410Z"
   },
   {
    "duration": 0,
    "start_time": "2022-05-20T11:34:59.413Z"
   },
   {
    "duration": 0,
    "start_time": "2022-05-20T11:34:59.414Z"
   },
   {
    "duration": 0,
    "start_time": "2022-05-20T11:34:59.415Z"
   },
   {
    "duration": 0,
    "start_time": "2022-05-20T11:34:59.416Z"
   },
   {
    "duration": 0,
    "start_time": "2022-05-20T11:34:59.417Z"
   },
   {
    "duration": 0,
    "start_time": "2022-05-20T11:34:59.418Z"
   },
   {
    "duration": 0,
    "start_time": "2022-05-20T11:34:59.419Z"
   },
   {
    "duration": 0,
    "start_time": "2022-05-20T11:34:59.420Z"
   },
   {
    "duration": 0,
    "start_time": "2022-05-20T11:34:59.421Z"
   },
   {
    "duration": 0,
    "start_time": "2022-05-20T11:34:59.422Z"
   },
   {
    "duration": 0,
    "start_time": "2022-05-20T11:34:59.423Z"
   },
   {
    "duration": 0,
    "start_time": "2022-05-20T11:34:59.423Z"
   },
   {
    "duration": 0,
    "start_time": "2022-05-20T11:34:59.424Z"
   },
   {
    "duration": 0,
    "start_time": "2022-05-20T11:34:59.425Z"
   },
   {
    "duration": 0,
    "start_time": "2022-05-20T11:34:59.426Z"
   },
   {
    "duration": 0,
    "start_time": "2022-05-20T11:34:59.427Z"
   },
   {
    "duration": 0,
    "start_time": "2022-05-20T11:34:59.428Z"
   },
   {
    "duration": 0,
    "start_time": "2022-05-20T11:34:59.428Z"
   },
   {
    "duration": 0,
    "start_time": "2022-05-20T11:34:59.429Z"
   },
   {
    "duration": 0,
    "start_time": "2022-05-20T11:34:59.430Z"
   },
   {
    "duration": 0,
    "start_time": "2022-05-20T11:34:59.431Z"
   },
   {
    "duration": 0,
    "start_time": "2022-05-20T11:34:59.432Z"
   },
   {
    "duration": 0,
    "start_time": "2022-05-20T11:34:59.432Z"
   },
   {
    "duration": 0,
    "start_time": "2022-05-20T11:34:59.433Z"
   },
   {
    "duration": 0,
    "start_time": "2022-05-20T11:34:59.434Z"
   },
   {
    "duration": 0,
    "start_time": "2022-05-20T11:34:59.435Z"
   },
   {
    "duration": 0,
    "start_time": "2022-05-20T11:34:59.436Z"
   },
   {
    "duration": 538,
    "start_time": "2022-05-20T11:36:00.451Z"
   },
   {
    "duration": 21,
    "start_time": "2022-05-20T11:36:00.990Z"
   },
   {
    "duration": 36,
    "start_time": "2022-05-20T11:36:01.012Z"
   },
   {
    "duration": 351,
    "start_time": "2022-05-20T11:36:01.050Z"
   },
   {
    "duration": 12,
    "start_time": "2022-05-20T11:36:01.409Z"
   },
   {
    "duration": 19,
    "start_time": "2022-05-20T11:36:01.422Z"
   },
   {
    "duration": 7,
    "start_time": "2022-05-20T11:36:01.443Z"
   },
   {
    "duration": 26,
    "start_time": "2022-05-20T11:36:01.452Z"
   },
   {
    "duration": 45,
    "start_time": "2022-05-20T11:36:01.479Z"
   },
   {
    "duration": 6,
    "start_time": "2022-05-20T11:36:01.526Z"
   },
   {
    "duration": 20,
    "start_time": "2022-05-20T11:36:01.534Z"
   },
   {
    "duration": 24,
    "start_time": "2022-05-20T11:36:01.555Z"
   },
   {
    "duration": 34,
    "start_time": "2022-05-20T11:36:01.580Z"
   },
   {
    "duration": 60,
    "start_time": "2022-05-20T11:36:01.617Z"
   },
   {
    "duration": 33,
    "start_time": "2022-05-20T11:36:01.678Z"
   },
   {
    "duration": 45,
    "start_time": "2022-05-20T11:36:01.713Z"
   },
   {
    "duration": 33,
    "start_time": "2022-05-20T11:36:01.759Z"
   },
   {
    "duration": 21,
    "start_time": "2022-05-20T11:36:01.794Z"
   },
   {
    "duration": 166,
    "start_time": "2022-05-20T11:36:01.817Z"
   },
   {
    "duration": 286,
    "start_time": "2022-05-20T11:36:01.997Z"
   },
   {
    "duration": 15,
    "start_time": "2022-05-20T11:36:02.284Z"
   },
   {
    "duration": 10,
    "start_time": "2022-05-20T11:36:02.308Z"
   },
   {
    "duration": 11,
    "start_time": "2022-05-20T11:36:02.320Z"
   },
   {
    "duration": 32,
    "start_time": "2022-05-20T11:36:02.333Z"
   },
   {
    "duration": 4,
    "start_time": "2022-05-20T11:36:02.367Z"
   },
   {
    "duration": 209,
    "start_time": "2022-05-20T11:36:02.373Z"
   },
   {
    "duration": 22,
    "start_time": "2022-05-20T11:36:02.584Z"
   },
   {
    "duration": 6,
    "start_time": "2022-05-20T11:36:02.608Z"
   },
   {
    "duration": 17,
    "start_time": "2022-05-20T11:36:02.616Z"
   },
   {
    "duration": 10,
    "start_time": "2022-05-20T11:36:02.635Z"
   },
   {
    "duration": 12,
    "start_time": "2022-05-20T11:36:02.648Z"
   },
   {
    "duration": 6,
    "start_time": "2022-05-20T11:36:02.662Z"
   },
   {
    "duration": 28,
    "start_time": "2022-05-20T11:36:02.670Z"
   },
   {
    "duration": 17,
    "start_time": "2022-05-20T11:36:02.699Z"
   },
   {
    "duration": 13,
    "start_time": "2022-05-20T11:36:02.718Z"
   },
   {
    "duration": 284,
    "start_time": "2022-05-20T11:36:02.733Z"
   },
   {
    "duration": 10,
    "start_time": "2022-05-20T11:36:03.019Z"
   },
   {
    "duration": 5,
    "start_time": "2022-05-20T11:36:03.030Z"
   },
   {
    "duration": 10,
    "start_time": "2022-05-20T11:36:03.036Z"
   },
   {
    "duration": 6,
    "start_time": "2022-05-20T11:36:03.048Z"
   },
   {
    "duration": 9,
    "start_time": "2022-05-20T11:36:03.059Z"
   },
   {
    "duration": 13,
    "start_time": "2022-05-20T11:36:03.095Z"
   },
   {
    "duration": 13,
    "start_time": "2022-05-20T11:36:03.110Z"
   },
   {
    "duration": 21,
    "start_time": "2022-05-20T11:36:03.124Z"
   },
   {
    "duration": 21,
    "start_time": "2022-05-20T11:36:03.146Z"
   },
   {
    "duration": 15,
    "start_time": "2022-05-20T11:36:03.168Z"
   },
   {
    "duration": 23,
    "start_time": "2022-05-20T11:36:03.184Z"
   },
   {
    "duration": 10,
    "start_time": "2022-05-20T11:36:03.209Z"
   },
   {
    "duration": 14,
    "start_time": "2022-05-20T11:36:03.220Z"
   },
   {
    "duration": 11,
    "start_time": "2022-05-20T11:36:03.236Z"
   },
   {
    "duration": 12,
    "start_time": "2022-05-20T11:36:03.249Z"
   },
   {
    "duration": 4,
    "start_time": "2022-05-20T11:36:03.263Z"
   },
   {
    "duration": 34,
    "start_time": "2022-05-20T11:36:03.269Z"
   },
   {
    "duration": 9,
    "start_time": "2022-05-20T11:36:03.304Z"
   },
   {
    "duration": 8,
    "start_time": "2022-05-20T11:36:03.314Z"
   },
   {
    "duration": 14,
    "start_time": "2022-05-20T11:36:03.324Z"
   },
   {
    "duration": 5,
    "start_time": "2022-05-20T11:36:03.339Z"
   },
   {
    "duration": 12,
    "start_time": "2022-05-20T11:36:03.346Z"
   },
   {
    "duration": 11,
    "start_time": "2022-05-20T11:36:03.359Z"
   },
   {
    "duration": 41,
    "start_time": "2022-05-20T11:36:03.372Z"
   },
   {
    "duration": 19,
    "start_time": "2022-05-20T11:36:03.415Z"
   },
   {
    "duration": 5,
    "start_time": "2022-05-20T11:36:03.436Z"
   },
   {
    "duration": 17,
    "start_time": "2022-05-20T11:36:03.442Z"
   },
   {
    "duration": 45,
    "start_time": "2022-05-20T11:36:03.461Z"
   },
   {
    "duration": 14,
    "start_time": "2022-05-20T11:36:03.508Z"
   },
   {
    "duration": 10,
    "start_time": "2022-05-20T11:36:03.524Z"
   },
   {
    "duration": 13,
    "start_time": "2022-05-20T11:36:03.535Z"
   },
   {
    "duration": 24,
    "start_time": "2022-05-20T11:36:03.549Z"
   },
   {
    "duration": 15,
    "start_time": "2022-05-20T11:36:03.595Z"
   },
   {
    "duration": 21,
    "start_time": "2022-05-20T11:36:03.611Z"
   },
   {
    "duration": 22,
    "start_time": "2022-05-20T11:36:03.634Z"
   },
   {
    "duration": 23,
    "start_time": "2022-05-20T11:36:03.658Z"
   },
   {
    "duration": 6,
    "start_time": "2022-05-20T11:36:03.682Z"
   },
   {
    "duration": 27,
    "start_time": "2022-05-20T11:36:03.689Z"
   },
   {
    "duration": 23,
    "start_time": "2022-05-20T11:36:03.717Z"
   },
   {
    "duration": 20,
    "start_time": "2022-05-20T11:36:03.742Z"
   },
   {
    "duration": 6,
    "start_time": "2022-05-20T11:36:03.764Z"
   },
   {
    "duration": 35,
    "start_time": "2022-05-20T11:36:03.771Z"
   },
   {
    "duration": 20,
    "start_time": "2022-05-20T11:36:03.807Z"
   },
   {
    "duration": 548,
    "start_time": "2022-05-20T11:37:43.163Z"
   },
   {
    "duration": 15,
    "start_time": "2022-05-20T11:37:43.713Z"
   },
   {
    "duration": 40,
    "start_time": "2022-05-20T11:37:43.729Z"
   },
   {
    "duration": 362,
    "start_time": "2022-05-20T11:37:43.770Z"
   },
   {
    "duration": 11,
    "start_time": "2022-05-20T11:37:44.134Z"
   },
   {
    "duration": 40,
    "start_time": "2022-05-20T11:37:44.147Z"
   },
   {
    "duration": 24,
    "start_time": "2022-05-20T11:37:44.189Z"
   },
   {
    "duration": 55,
    "start_time": "2022-05-20T11:37:44.215Z"
   },
   {
    "duration": 50,
    "start_time": "2022-05-20T11:37:44.271Z"
   },
   {
    "duration": 31,
    "start_time": "2022-05-20T11:37:44.322Z"
   },
   {
    "duration": 39,
    "start_time": "2022-05-20T11:37:44.354Z"
   },
   {
    "duration": 32,
    "start_time": "2022-05-20T11:37:44.394Z"
   },
   {
    "duration": 36,
    "start_time": "2022-05-20T11:37:44.428Z"
   },
   {
    "duration": 31,
    "start_time": "2022-05-20T11:37:44.468Z"
   },
   {
    "duration": 41,
    "start_time": "2022-05-20T11:37:44.500Z"
   },
   {
    "duration": 37,
    "start_time": "2022-05-20T11:37:44.542Z"
   },
   {
    "duration": 46,
    "start_time": "2022-05-20T11:37:44.581Z"
   },
   {
    "duration": 15,
    "start_time": "2022-05-20T11:37:44.629Z"
   },
   {
    "duration": 187,
    "start_time": "2022-05-20T11:37:44.646Z"
   },
   {
    "duration": 272,
    "start_time": "2022-05-20T11:37:44.835Z"
   },
   {
    "duration": 9,
    "start_time": "2022-05-20T11:37:45.109Z"
   },
   {
    "duration": 40,
    "start_time": "2022-05-20T11:37:45.119Z"
   },
   {
    "duration": 43,
    "start_time": "2022-05-20T11:37:45.160Z"
   },
   {
    "duration": 50,
    "start_time": "2022-05-20T11:37:45.205Z"
   },
   {
    "duration": 27,
    "start_time": "2022-05-20T11:37:45.257Z"
   },
   {
    "duration": 290,
    "start_time": "2022-05-20T11:37:45.286Z"
   },
   {
    "duration": 6,
    "start_time": "2022-05-20T11:37:45.577Z"
   },
   {
    "duration": 49,
    "start_time": "2022-05-20T11:37:45.584Z"
   },
   {
    "duration": 45,
    "start_time": "2022-05-20T11:37:45.634Z"
   },
   {
    "duration": 40,
    "start_time": "2022-05-20T11:37:45.681Z"
   },
   {
    "duration": 55,
    "start_time": "2022-05-20T11:37:45.723Z"
   },
   {
    "duration": 6,
    "start_time": "2022-05-20T11:37:45.781Z"
   },
   {
    "duration": 50,
    "start_time": "2022-05-20T11:37:45.789Z"
   },
   {
    "duration": 47,
    "start_time": "2022-05-20T11:37:45.840Z"
   },
   {
    "duration": 31,
    "start_time": "2022-05-20T11:37:45.888Z"
   },
   {
    "duration": 268,
    "start_time": "2022-05-20T11:37:45.922Z"
   },
   {
    "duration": 19,
    "start_time": "2022-05-20T11:37:46.195Z"
   },
   {
    "duration": 31,
    "start_time": "2022-05-20T11:37:46.216Z"
   },
   {
    "duration": 49,
    "start_time": "2022-05-20T11:37:46.249Z"
   },
   {
    "duration": 46,
    "start_time": "2022-05-20T11:37:46.299Z"
   },
   {
    "duration": 40,
    "start_time": "2022-05-20T11:37:46.349Z"
   },
   {
    "duration": 37,
    "start_time": "2022-05-20T11:37:46.390Z"
   },
   {
    "duration": 40,
    "start_time": "2022-05-20T11:37:46.429Z"
   },
   {
    "duration": 47,
    "start_time": "2022-05-20T11:37:46.471Z"
   },
   {
    "duration": 43,
    "start_time": "2022-05-20T11:37:46.520Z"
   },
   {
    "duration": 22,
    "start_time": "2022-05-20T11:37:46.565Z"
   },
   {
    "duration": 39,
    "start_time": "2022-05-20T11:37:46.588Z"
   },
   {
    "duration": 24,
    "start_time": "2022-05-20T11:37:46.629Z"
   },
   {
    "duration": 32,
    "start_time": "2022-05-20T11:37:46.654Z"
   },
   {
    "duration": 45,
    "start_time": "2022-05-20T11:37:46.688Z"
   },
   {
    "duration": 35,
    "start_time": "2022-05-20T11:37:46.736Z"
   },
   {
    "duration": 54,
    "start_time": "2022-05-20T11:37:46.773Z"
   },
   {
    "duration": 48,
    "start_time": "2022-05-20T11:37:46.828Z"
   },
   {
    "duration": 32,
    "start_time": "2022-05-20T11:37:46.877Z"
   },
   {
    "duration": 43,
    "start_time": "2022-05-20T11:37:46.910Z"
   },
   {
    "duration": 14,
    "start_time": "2022-05-20T11:37:46.955Z"
   },
   {
    "duration": 40,
    "start_time": "2022-05-20T11:37:46.971Z"
   },
   {
    "duration": 22,
    "start_time": "2022-05-20T11:37:47.015Z"
   },
   {
    "duration": 38,
    "start_time": "2022-05-20T11:37:47.038Z"
   },
   {
    "duration": 41,
    "start_time": "2022-05-20T11:37:47.078Z"
   },
   {
    "duration": 29,
    "start_time": "2022-05-20T11:37:47.121Z"
   },
   {
    "duration": 5,
    "start_time": "2022-05-20T11:37:47.152Z"
   },
   {
    "duration": 23,
    "start_time": "2022-05-20T11:37:47.158Z"
   },
   {
    "duration": 52,
    "start_time": "2022-05-20T11:37:47.183Z"
   },
   {
    "duration": 17,
    "start_time": "2022-05-20T11:37:47.238Z"
   },
   {
    "duration": 15,
    "start_time": "2022-05-20T11:37:47.257Z"
   },
   {
    "duration": 21,
    "start_time": "2022-05-20T11:37:47.274Z"
   },
   {
    "duration": 44,
    "start_time": "2022-05-20T11:37:47.298Z"
   },
   {
    "duration": 21,
    "start_time": "2022-05-20T11:37:47.344Z"
   },
   {
    "duration": 43,
    "start_time": "2022-05-20T11:37:47.367Z"
   },
   {
    "duration": 13,
    "start_time": "2022-05-20T11:37:47.412Z"
   },
   {
    "duration": 40,
    "start_time": "2022-05-20T11:37:47.427Z"
   },
   {
    "duration": 12,
    "start_time": "2022-05-20T11:37:47.469Z"
   },
   {
    "duration": 38,
    "start_time": "2022-05-20T11:37:47.483Z"
   },
   {
    "duration": 37,
    "start_time": "2022-05-20T11:37:47.523Z"
   },
   {
    "duration": 20,
    "start_time": "2022-05-20T11:37:47.562Z"
   },
   {
    "duration": 6,
    "start_time": "2022-05-20T11:37:47.584Z"
   },
   {
    "duration": 33,
    "start_time": "2022-05-20T11:37:47.592Z"
   },
   {
    "duration": 21,
    "start_time": "2022-05-20T11:37:47.626Z"
   },
   {
    "duration": 516,
    "start_time": "2022-05-20T11:40:49.008Z"
   },
   {
    "duration": 12,
    "start_time": "2022-05-20T11:40:49.526Z"
   },
   {
    "duration": 28,
    "start_time": "2022-05-20T11:40:49.540Z"
   },
   {
    "duration": 333,
    "start_time": "2022-05-20T11:40:49.570Z"
   },
   {
    "duration": 12,
    "start_time": "2022-05-20T11:40:49.909Z"
   },
   {
    "duration": 11,
    "start_time": "2022-05-20T11:40:49.923Z"
   },
   {
    "duration": 5,
    "start_time": "2022-05-20T11:40:49.936Z"
   },
   {
    "duration": 19,
    "start_time": "2022-05-20T11:40:49.943Z"
   },
   {
    "duration": 58,
    "start_time": "2022-05-20T11:40:49.963Z"
   },
   {
    "duration": 7,
    "start_time": "2022-05-20T11:40:50.022Z"
   },
   {
    "duration": 6,
    "start_time": "2022-05-20T11:40:50.030Z"
   },
   {
    "duration": 9,
    "start_time": "2022-05-20T11:40:50.038Z"
   },
   {
    "duration": 9,
    "start_time": "2022-05-20T11:40:50.048Z"
   },
   {
    "duration": 13,
    "start_time": "2022-05-20T11:40:50.059Z"
   },
   {
    "duration": 9,
    "start_time": "2022-05-20T11:40:50.094Z"
   },
   {
    "duration": 28,
    "start_time": "2022-05-20T11:40:50.105Z"
   },
   {
    "duration": 32,
    "start_time": "2022-05-20T11:40:50.135Z"
   },
   {
    "duration": 38,
    "start_time": "2022-05-20T11:40:50.169Z"
   },
   {
    "duration": 195,
    "start_time": "2022-05-20T11:40:50.213Z"
   },
   {
    "duration": 255,
    "start_time": "2022-05-20T11:40:50.410Z"
   },
   {
    "duration": 5,
    "start_time": "2022-05-20T11:40:50.667Z"
   },
   {
    "duration": 41,
    "start_time": "2022-05-20T11:40:50.674Z"
   },
   {
    "duration": 49,
    "start_time": "2022-05-20T11:40:50.717Z"
   },
   {
    "duration": 71,
    "start_time": "2022-05-20T11:40:50.768Z"
   },
   {
    "duration": 46,
    "start_time": "2022-05-20T11:40:50.841Z"
   },
   {
    "duration": 245,
    "start_time": "2022-05-20T11:40:50.889Z"
   },
   {
    "duration": 6,
    "start_time": "2022-05-20T11:40:51.135Z"
   },
   {
    "duration": 40,
    "start_time": "2022-05-20T11:40:51.142Z"
   },
   {
    "duration": 55,
    "start_time": "2022-05-20T11:40:51.184Z"
   },
   {
    "duration": 42,
    "start_time": "2022-05-20T11:40:51.241Z"
   },
   {
    "duration": 55,
    "start_time": "2022-05-20T11:40:51.284Z"
   },
   {
    "duration": 45,
    "start_time": "2022-05-20T11:40:51.340Z"
   },
   {
    "duration": 279,
    "start_time": "2022-05-20T11:40:51.386Z"
   },
   {
    "duration": 9,
    "start_time": "2022-05-20T11:40:51.666Z"
   },
   {
    "duration": 35,
    "start_time": "2022-05-20T11:40:51.677Z"
   },
   {
    "duration": 55,
    "start_time": "2022-05-20T11:40:51.714Z"
   },
   {
    "duration": 55,
    "start_time": "2022-05-20T11:40:51.771Z"
   },
   {
    "duration": 30,
    "start_time": "2022-05-20T11:40:51.827Z"
   },
   {
    "duration": 36,
    "start_time": "2022-05-20T11:40:51.858Z"
   },
   {
    "duration": 47,
    "start_time": "2022-05-20T11:40:51.896Z"
   },
   {
    "duration": 24,
    "start_time": "2022-05-20T11:40:51.947Z"
   },
   {
    "duration": 33,
    "start_time": "2022-05-20T11:40:51.973Z"
   },
   {
    "duration": 31,
    "start_time": "2022-05-20T11:40:52.009Z"
   },
   {
    "duration": 26,
    "start_time": "2022-05-20T11:40:52.041Z"
   },
   {
    "duration": 39,
    "start_time": "2022-05-20T11:40:52.068Z"
   },
   {
    "duration": 29,
    "start_time": "2022-05-20T11:40:52.109Z"
   },
   {
    "duration": 43,
    "start_time": "2022-05-20T11:40:52.140Z"
   },
   {
    "duration": 42,
    "start_time": "2022-05-20T11:40:52.185Z"
   },
   {
    "duration": 26,
    "start_time": "2022-05-20T11:40:52.228Z"
   },
   {
    "duration": 31,
    "start_time": "2022-05-20T11:40:52.256Z"
   },
   {
    "duration": 32,
    "start_time": "2022-05-20T11:40:52.289Z"
   },
   {
    "duration": 39,
    "start_time": "2022-05-20T11:40:52.324Z"
   },
   {
    "duration": 29,
    "start_time": "2022-05-20T11:40:52.365Z"
   },
   {
    "duration": 36,
    "start_time": "2022-05-20T11:40:52.396Z"
   },
   {
    "duration": 30,
    "start_time": "2022-05-20T11:40:52.434Z"
   },
   {
    "duration": 27,
    "start_time": "2022-05-20T11:40:52.466Z"
   },
   {
    "duration": 56,
    "start_time": "2022-05-20T11:40:52.495Z"
   },
   {
    "duration": 33,
    "start_time": "2022-05-20T11:40:52.553Z"
   },
   {
    "duration": 20,
    "start_time": "2022-05-20T11:40:52.588Z"
   },
   {
    "duration": 44,
    "start_time": "2022-05-20T11:40:52.609Z"
   },
   {
    "duration": 62,
    "start_time": "2022-05-20T11:40:52.655Z"
   },
   {
    "duration": 36,
    "start_time": "2022-05-20T11:40:52.719Z"
   },
   {
    "duration": 32,
    "start_time": "2022-05-20T11:40:52.757Z"
   },
   {
    "duration": 32,
    "start_time": "2022-05-20T11:40:52.791Z"
   },
   {
    "duration": 36,
    "start_time": "2022-05-20T11:40:52.825Z"
   },
   {
    "duration": 15,
    "start_time": "2022-05-20T11:40:52.863Z"
   },
   {
    "duration": 47,
    "start_time": "2022-05-20T11:40:52.880Z"
   },
   {
    "duration": 42,
    "start_time": "2022-05-20T11:40:52.928Z"
   },
   {
    "duration": 38,
    "start_time": "2022-05-20T11:40:52.972Z"
   },
   {
    "duration": 15,
    "start_time": "2022-05-20T11:40:53.012Z"
   },
   {
    "duration": 25,
    "start_time": "2022-05-20T11:40:53.028Z"
   },
   {
    "duration": 38,
    "start_time": "2022-05-20T11:40:53.054Z"
   },
   {
    "duration": 47,
    "start_time": "2022-05-20T11:40:53.095Z"
   },
   {
    "duration": 13,
    "start_time": "2022-05-20T11:40:53.144Z"
   },
   {
    "duration": 27,
    "start_time": "2022-05-20T11:40:53.160Z"
   },
   {
    "duration": 34,
    "start_time": "2022-05-20T11:40:53.189Z"
   },
   {
    "duration": 556,
    "start_time": "2022-05-20T11:46:07.813Z"
   },
   {
    "duration": 15,
    "start_time": "2022-05-20T11:46:08.372Z"
   },
   {
    "duration": 65,
    "start_time": "2022-05-20T11:46:08.396Z"
   },
   {
    "duration": 391,
    "start_time": "2022-05-20T11:46:08.463Z"
   },
   {
    "duration": 10,
    "start_time": "2022-05-20T11:46:08.857Z"
   },
   {
    "duration": 31,
    "start_time": "2022-05-20T11:46:08.869Z"
   },
   {
    "duration": 20,
    "start_time": "2022-05-20T11:46:08.905Z"
   },
   {
    "duration": 39,
    "start_time": "2022-05-20T11:46:08.928Z"
   },
   {
    "duration": 47,
    "start_time": "2022-05-20T11:46:08.969Z"
   },
   {
    "duration": 12,
    "start_time": "2022-05-20T11:46:09.018Z"
   },
   {
    "duration": 19,
    "start_time": "2022-05-20T11:46:09.032Z"
   },
   {
    "duration": 15,
    "start_time": "2022-05-20T11:46:09.053Z"
   },
   {
    "duration": 16,
    "start_time": "2022-05-20T11:46:09.070Z"
   },
   {
    "duration": 28,
    "start_time": "2022-05-20T11:46:09.090Z"
   },
   {
    "duration": 16,
    "start_time": "2022-05-20T11:46:09.120Z"
   },
   {
    "duration": 27,
    "start_time": "2022-05-20T11:46:09.138Z"
   },
   {
    "duration": 38,
    "start_time": "2022-05-20T11:46:09.166Z"
   },
   {
    "duration": 20,
    "start_time": "2022-05-20T11:46:09.205Z"
   },
   {
    "duration": 160,
    "start_time": "2022-05-20T11:46:09.227Z"
   },
   {
    "duration": 284,
    "start_time": "2022-05-20T11:46:09.389Z"
   },
   {
    "duration": 5,
    "start_time": "2022-05-20T11:46:09.675Z"
   },
   {
    "duration": 38,
    "start_time": "2022-05-20T11:46:09.682Z"
   },
   {
    "duration": 15,
    "start_time": "2022-05-20T11:46:09.722Z"
   },
   {
    "duration": 34,
    "start_time": "2022-05-20T11:46:09.738Z"
   },
   {
    "duration": 11,
    "start_time": "2022-05-20T11:46:09.774Z"
   },
   {
    "duration": 282,
    "start_time": "2022-05-20T11:46:09.787Z"
   },
   {
    "duration": 6,
    "start_time": "2022-05-20T11:46:10.071Z"
   },
   {
    "duration": 33,
    "start_time": "2022-05-20T11:46:10.079Z"
   },
   {
    "duration": 55,
    "start_time": "2022-05-20T11:46:10.115Z"
   },
   {
    "duration": 32,
    "start_time": "2022-05-20T11:46:10.172Z"
   },
   {
    "duration": 63,
    "start_time": "2022-05-20T11:46:10.210Z"
   },
   {
    "duration": 30,
    "start_time": "2022-05-20T11:46:10.275Z"
   },
   {
    "duration": 280,
    "start_time": "2022-05-20T11:46:10.307Z"
   },
   {
    "duration": 278,
    "start_time": "2022-05-20T11:46:10.589Z"
   },
   {
    "duration": 15,
    "start_time": "2022-05-20T11:46:10.869Z"
   },
   {
    "duration": 27,
    "start_time": "2022-05-20T11:46:10.886Z"
   },
   {
    "duration": 24,
    "start_time": "2022-05-20T11:46:10.915Z"
   },
   {
    "duration": 22,
    "start_time": "2022-05-20T11:46:10.941Z"
   },
   {
    "duration": 22,
    "start_time": "2022-05-20T11:46:10.966Z"
   },
   {
    "duration": 41,
    "start_time": "2022-05-20T11:46:10.990Z"
   },
   {
    "duration": 11,
    "start_time": "2022-05-20T11:46:11.035Z"
   },
   {
    "duration": 27,
    "start_time": "2022-05-20T11:46:11.048Z"
   },
   {
    "duration": 59,
    "start_time": "2022-05-20T11:46:11.077Z"
   },
   {
    "duration": 15,
    "start_time": "2022-05-20T11:46:11.139Z"
   },
   {
    "duration": 37,
    "start_time": "2022-05-20T11:46:11.156Z"
   },
   {
    "duration": 28,
    "start_time": "2022-05-20T11:46:11.195Z"
   },
   {
    "duration": 26,
    "start_time": "2022-05-20T11:46:11.225Z"
   },
   {
    "duration": 26,
    "start_time": "2022-05-20T11:46:11.253Z"
   },
   {
    "duration": 22,
    "start_time": "2022-05-20T11:46:11.281Z"
   },
   {
    "duration": 35,
    "start_time": "2022-05-20T11:46:11.310Z"
   },
   {
    "duration": 24,
    "start_time": "2022-05-20T11:46:11.346Z"
   },
   {
    "duration": 10,
    "start_time": "2022-05-20T11:46:11.372Z"
   },
   {
    "duration": 34,
    "start_time": "2022-05-20T11:46:11.384Z"
   },
   {
    "duration": 12,
    "start_time": "2022-05-20T11:46:11.420Z"
   },
   {
    "duration": 36,
    "start_time": "2022-05-20T11:46:11.434Z"
   },
   {
    "duration": 19,
    "start_time": "2022-05-20T11:46:11.472Z"
   },
   {
    "duration": 27,
    "start_time": "2022-05-20T11:46:11.492Z"
   },
   {
    "duration": 28,
    "start_time": "2022-05-20T11:46:11.521Z"
   },
   {
    "duration": 28,
    "start_time": "2022-05-20T11:46:11.551Z"
   },
   {
    "duration": 6,
    "start_time": "2022-05-20T11:46:11.580Z"
   },
   {
    "duration": 41,
    "start_time": "2022-05-20T11:46:11.588Z"
   },
   {
    "duration": 40,
    "start_time": "2022-05-20T11:46:11.631Z"
   },
   {
    "duration": 15,
    "start_time": "2022-05-20T11:46:11.673Z"
   },
   {
    "duration": 35,
    "start_time": "2022-05-20T11:46:11.689Z"
   },
   {
    "duration": 19,
    "start_time": "2022-05-20T11:46:11.726Z"
   },
   {
    "duration": 61,
    "start_time": "2022-05-20T11:46:11.748Z"
   },
   {
    "duration": 9,
    "start_time": "2022-05-20T11:46:11.813Z"
   },
   {
    "duration": 37,
    "start_time": "2022-05-20T11:46:11.824Z"
   },
   {
    "duration": 8,
    "start_time": "2022-05-20T11:46:11.863Z"
   },
   {
    "duration": 53,
    "start_time": "2022-05-20T11:46:11.873Z"
   },
   {
    "duration": 6,
    "start_time": "2022-05-20T11:46:11.929Z"
   },
   {
    "duration": 8,
    "start_time": "2022-05-20T11:46:11.937Z"
   },
   {
    "duration": 26,
    "start_time": "2022-05-20T11:46:11.946Z"
   },
   {
    "duration": 46,
    "start_time": "2022-05-20T11:46:11.973Z"
   },
   {
    "duration": 7,
    "start_time": "2022-05-20T11:46:12.021Z"
   },
   {
    "duration": 13,
    "start_time": "2022-05-20T11:46:12.030Z"
   },
   {
    "duration": 21,
    "start_time": "2022-05-20T11:46:12.045Z"
   },
   {
    "duration": 541,
    "start_time": "2022-05-20T11:50:02.209Z"
   },
   {
    "duration": 17,
    "start_time": "2022-05-20T11:50:02.752Z"
   },
   {
    "duration": 40,
    "start_time": "2022-05-20T11:50:02.770Z"
   },
   {
    "duration": 317,
    "start_time": "2022-05-20T11:50:02.812Z"
   },
   {
    "duration": 10,
    "start_time": "2022-05-20T11:50:03.131Z"
   },
   {
    "duration": 9,
    "start_time": "2022-05-20T11:50:03.142Z"
   },
   {
    "duration": 5,
    "start_time": "2022-05-20T11:50:03.153Z"
   },
   {
    "duration": 48,
    "start_time": "2022-05-20T11:50:03.159Z"
   },
   {
    "duration": 33,
    "start_time": "2022-05-20T11:50:03.209Z"
   },
   {
    "duration": 8,
    "start_time": "2022-05-20T11:50:03.243Z"
   },
   {
    "duration": 6,
    "start_time": "2022-05-20T11:50:03.253Z"
   },
   {
    "duration": 38,
    "start_time": "2022-05-20T11:50:03.261Z"
   },
   {
    "duration": 12,
    "start_time": "2022-05-20T11:50:03.301Z"
   },
   {
    "duration": 10,
    "start_time": "2022-05-20T11:50:03.317Z"
   },
   {
    "duration": 6,
    "start_time": "2022-05-20T11:50:03.328Z"
   },
   {
    "duration": 20,
    "start_time": "2022-05-20T11:50:03.335Z"
   },
   {
    "duration": 63,
    "start_time": "2022-05-20T11:50:03.356Z"
   },
   {
    "duration": 13,
    "start_time": "2022-05-20T11:50:03.421Z"
   },
   {
    "duration": 163,
    "start_time": "2022-05-20T11:50:03.436Z"
   },
   {
    "duration": 256,
    "start_time": "2022-05-20T11:50:03.609Z"
   },
   {
    "duration": 6,
    "start_time": "2022-05-20T11:50:03.867Z"
   },
   {
    "duration": 30,
    "start_time": "2022-05-20T11:50:03.874Z"
   },
   {
    "duration": 7,
    "start_time": "2022-05-20T11:50:03.907Z"
   },
   {
    "duration": 15,
    "start_time": "2022-05-20T11:50:03.915Z"
   },
   {
    "duration": 3,
    "start_time": "2022-05-20T11:50:03.932Z"
   },
   {
    "duration": 208,
    "start_time": "2022-05-20T11:50:03.937Z"
   },
   {
    "duration": 6,
    "start_time": "2022-05-20T11:50:04.146Z"
   },
   {
    "duration": 5,
    "start_time": "2022-05-20T11:50:04.153Z"
   },
   {
    "duration": 14,
    "start_time": "2022-05-20T11:50:04.160Z"
   },
   {
    "duration": 31,
    "start_time": "2022-05-20T11:50:04.176Z"
   },
   {
    "duration": 18,
    "start_time": "2022-05-20T11:50:04.209Z"
   },
   {
    "duration": 13,
    "start_time": "2022-05-20T11:50:04.228Z"
   },
   {
    "duration": 279,
    "start_time": "2022-05-20T11:50:04.242Z"
   },
   {
    "duration": 268,
    "start_time": "2022-05-20T11:50:04.523Z"
   },
   {
    "duration": 18,
    "start_time": "2022-05-20T11:50:04.795Z"
   },
   {
    "duration": 27,
    "start_time": "2022-05-20T11:50:04.814Z"
   },
   {
    "duration": 35,
    "start_time": "2022-05-20T11:50:04.843Z"
   },
   {
    "duration": 32,
    "start_time": "2022-05-20T11:50:04.880Z"
   },
   {
    "duration": 24,
    "start_time": "2022-05-20T11:50:04.914Z"
   },
   {
    "duration": 16,
    "start_time": "2022-05-20T11:50:04.940Z"
   },
   {
    "duration": 19,
    "start_time": "2022-05-20T11:50:04.961Z"
   },
   {
    "duration": 69,
    "start_time": "2022-05-20T11:50:04.981Z"
   },
   {
    "duration": 35,
    "start_time": "2022-05-20T11:50:05.052Z"
   },
   {
    "duration": 31,
    "start_time": "2022-05-20T11:50:05.090Z"
   },
   {
    "duration": 20,
    "start_time": "2022-05-20T11:50:05.123Z"
   },
   {
    "duration": 19,
    "start_time": "2022-05-20T11:50:05.145Z"
   },
   {
    "duration": 22,
    "start_time": "2022-05-20T11:50:05.166Z"
   },
   {
    "duration": 38,
    "start_time": "2022-05-20T11:50:05.189Z"
   },
   {
    "duration": 13,
    "start_time": "2022-05-20T11:50:05.228Z"
   },
   {
    "duration": 24,
    "start_time": "2022-05-20T11:50:05.243Z"
   },
   {
    "duration": 38,
    "start_time": "2022-05-20T11:50:05.269Z"
   },
   {
    "duration": 27,
    "start_time": "2022-05-20T11:50:05.308Z"
   },
   {
    "duration": 32,
    "start_time": "2022-05-20T11:50:05.337Z"
   },
   {
    "duration": 54,
    "start_time": "2022-05-20T11:50:05.371Z"
   },
   {
    "duration": 28,
    "start_time": "2022-05-20T11:50:05.426Z"
   },
   {
    "duration": 45,
    "start_time": "2022-05-20T11:50:05.456Z"
   },
   {
    "duration": 33,
    "start_time": "2022-05-20T11:50:05.503Z"
   },
   {
    "duration": 39,
    "start_time": "2022-05-20T11:50:05.539Z"
   },
   {
    "duration": 51,
    "start_time": "2022-05-20T11:50:05.580Z"
   },
   {
    "duration": 27,
    "start_time": "2022-05-20T11:50:05.632Z"
   },
   {
    "duration": 42,
    "start_time": "2022-05-20T11:50:05.661Z"
   },
   {
    "duration": 45,
    "start_time": "2022-05-20T11:50:05.706Z"
   },
   {
    "duration": 28,
    "start_time": "2022-05-20T11:50:05.753Z"
   },
   {
    "duration": 38,
    "start_time": "2022-05-20T11:50:05.783Z"
   },
   {
    "duration": 39,
    "start_time": "2022-05-20T11:50:05.823Z"
   },
   {
    "duration": 62,
    "start_time": "2022-05-20T11:50:05.864Z"
   },
   {
    "duration": 32,
    "start_time": "2022-05-20T11:50:05.928Z"
   },
   {
    "duration": 69,
    "start_time": "2022-05-20T11:50:05.962Z"
   },
   {
    "duration": 56,
    "start_time": "2022-05-20T11:50:06.033Z"
   },
   {
    "duration": 71,
    "start_time": "2022-05-20T11:50:06.091Z"
   },
   {
    "duration": 22,
    "start_time": "2022-05-20T11:50:06.164Z"
   },
   {
    "duration": 46,
    "start_time": "2022-05-20T11:50:06.188Z"
   },
   {
    "duration": 63,
    "start_time": "2022-05-20T11:50:06.236Z"
   },
   {
    "duration": 53,
    "start_time": "2022-05-20T11:50:06.309Z"
   },
   {
    "duration": 26,
    "start_time": "2022-05-20T11:50:06.364Z"
   },
   {
    "duration": 47,
    "start_time": "2022-05-20T11:50:06.391Z"
   },
   {
    "duration": 51,
    "start_time": "2022-05-20T11:50:06.440Z"
   },
   {
    "duration": 532,
    "start_time": "2022-05-20T11:52:41.429Z"
   },
   {
    "duration": 15,
    "start_time": "2022-05-20T11:52:41.963Z"
   },
   {
    "duration": 30,
    "start_time": "2022-05-20T11:52:41.979Z"
   },
   {
    "duration": 364,
    "start_time": "2022-05-20T11:52:42.011Z"
   },
   {
    "duration": 33,
    "start_time": "2022-05-20T11:52:42.377Z"
   },
   {
    "duration": 10,
    "start_time": "2022-05-20T11:52:42.411Z"
   },
   {
    "duration": 6,
    "start_time": "2022-05-20T11:52:42.423Z"
   },
   {
    "duration": 19,
    "start_time": "2022-05-20T11:52:42.431Z"
   },
   {
    "duration": 63,
    "start_time": "2022-05-20T11:52:42.452Z"
   },
   {
    "duration": 8,
    "start_time": "2022-05-20T11:52:42.517Z"
   },
   {
    "duration": 13,
    "start_time": "2022-05-20T11:52:42.526Z"
   },
   {
    "duration": 8,
    "start_time": "2022-05-20T11:52:42.540Z"
   },
   {
    "duration": 9,
    "start_time": "2022-05-20T11:52:42.550Z"
   },
   {
    "duration": 11,
    "start_time": "2022-05-20T11:52:42.562Z"
   },
   {
    "duration": 31,
    "start_time": "2022-05-20T11:52:42.574Z"
   },
   {
    "duration": 19,
    "start_time": "2022-05-20T11:52:42.607Z"
   },
   {
    "duration": 34,
    "start_time": "2022-05-20T11:52:42.627Z"
   },
   {
    "duration": 15,
    "start_time": "2022-05-20T11:52:42.662Z"
   },
   {
    "duration": 169,
    "start_time": "2022-05-20T11:52:42.697Z"
   },
   {
    "duration": 305,
    "start_time": "2022-05-20T11:52:42.868Z"
   },
   {
    "duration": 7,
    "start_time": "2022-05-20T11:52:43.175Z"
   },
   {
    "duration": 23,
    "start_time": "2022-05-20T11:52:43.184Z"
   },
   {
    "duration": 7,
    "start_time": "2022-05-20T11:52:43.209Z"
   },
   {
    "duration": 15,
    "start_time": "2022-05-20T11:52:43.218Z"
   },
   {
    "duration": 4,
    "start_time": "2022-05-20T11:52:43.235Z"
   },
   {
    "duration": 223,
    "start_time": "2022-05-20T11:52:43.241Z"
   },
   {
    "duration": 5,
    "start_time": "2022-05-20T11:52:43.465Z"
   },
   {
    "duration": 9,
    "start_time": "2022-05-20T11:52:43.472Z"
   },
   {
    "duration": 27,
    "start_time": "2022-05-20T11:52:43.483Z"
   },
   {
    "duration": 10,
    "start_time": "2022-05-20T11:52:43.512Z"
   },
   {
    "duration": 12,
    "start_time": "2022-05-20T11:52:43.524Z"
   },
   {
    "duration": 12,
    "start_time": "2022-05-20T11:52:43.538Z"
   },
   {
    "duration": 288,
    "start_time": "2022-05-20T11:52:43.552Z"
   },
   {
    "duration": 266,
    "start_time": "2022-05-20T11:52:43.842Z"
   },
   {
    "duration": 10,
    "start_time": "2022-05-20T11:52:44.110Z"
   },
   {
    "duration": 6,
    "start_time": "2022-05-20T11:52:44.121Z"
   },
   {
    "duration": 9,
    "start_time": "2022-05-20T11:52:44.128Z"
   },
   {
    "duration": 5,
    "start_time": "2022-05-20T11:52:44.138Z"
   },
   {
    "duration": 12,
    "start_time": "2022-05-20T11:52:44.145Z"
   },
   {
    "duration": 9,
    "start_time": "2022-05-20T11:52:44.158Z"
   },
   {
    "duration": 30,
    "start_time": "2022-05-20T11:52:44.171Z"
   },
   {
    "duration": 22,
    "start_time": "2022-05-20T11:52:44.203Z"
   },
   {
    "duration": 16,
    "start_time": "2022-05-20T11:52:44.227Z"
   },
   {
    "duration": 13,
    "start_time": "2022-05-20T11:52:44.244Z"
   },
   {
    "duration": 14,
    "start_time": "2022-05-20T11:52:44.259Z"
   },
   {
    "duration": 3,
    "start_time": "2022-05-20T11:52:44.275Z"
   },
   {
    "duration": 9,
    "start_time": "2022-05-20T11:52:44.300Z"
   },
   {
    "duration": 11,
    "start_time": "2022-05-20T11:52:44.311Z"
   },
   {
    "duration": 9,
    "start_time": "2022-05-20T11:52:44.323Z"
   },
   {
    "duration": 4,
    "start_time": "2022-05-20T11:52:44.334Z"
   },
   {
    "duration": 10,
    "start_time": "2022-05-20T11:52:44.340Z"
   },
   {
    "duration": 5,
    "start_time": "2022-05-20T11:52:44.352Z"
   },
   {
    "duration": 11,
    "start_time": "2022-05-20T11:52:44.359Z"
   },
   {
    "duration": 35,
    "start_time": "2022-05-20T11:52:44.373Z"
   },
   {
    "duration": 7,
    "start_time": "2022-05-20T11:52:44.412Z"
   },
   {
    "duration": 8,
    "start_time": "2022-05-20T11:52:44.421Z"
   },
   {
    "duration": 6,
    "start_time": "2022-05-20T11:52:44.430Z"
   },
   {
    "duration": 16,
    "start_time": "2022-05-20T11:52:44.438Z"
   },
   {
    "duration": 54,
    "start_time": "2022-05-20T11:52:44.455Z"
   },
   {
    "duration": 5,
    "start_time": "2022-05-20T11:52:44.511Z"
   },
   {
    "duration": 13,
    "start_time": "2022-05-20T11:52:44.518Z"
   },
   {
    "duration": 17,
    "start_time": "2022-05-20T11:52:44.533Z"
   },
   {
    "duration": 12,
    "start_time": "2022-05-20T11:52:44.551Z"
   },
   {
    "duration": 45,
    "start_time": "2022-05-20T11:52:44.564Z"
   },
   {
    "duration": 12,
    "start_time": "2022-05-20T11:52:44.612Z"
   },
   {
    "duration": 24,
    "start_time": "2022-05-20T11:52:44.626Z"
   },
   {
    "duration": 5,
    "start_time": "2022-05-20T11:52:44.652Z"
   },
   {
    "duration": 19,
    "start_time": "2022-05-20T11:52:44.658Z"
   },
   {
    "duration": 30,
    "start_time": "2022-05-20T11:52:44.679Z"
   },
   {
    "duration": 22,
    "start_time": "2022-05-20T11:52:44.711Z"
   },
   {
    "duration": 7,
    "start_time": "2022-05-20T11:52:44.734Z"
   },
   {
    "duration": 10,
    "start_time": "2022-05-20T11:52:44.742Z"
   },
   {
    "duration": 21,
    "start_time": "2022-05-20T11:52:44.754Z"
   },
   {
    "duration": 24,
    "start_time": "2022-05-20T11:52:44.794Z"
   },
   {
    "duration": 5,
    "start_time": "2022-05-20T11:52:44.820Z"
   },
   {
    "duration": 13,
    "start_time": "2022-05-20T11:52:44.826Z"
   },
   {
    "duration": 19,
    "start_time": "2022-05-20T11:52:44.841Z"
   },
   {
    "duration": 490,
    "start_time": "2022-05-20T11:53:17.657Z"
   },
   {
    "duration": 13,
    "start_time": "2022-05-20T11:53:18.149Z"
   },
   {
    "duration": 43,
    "start_time": "2022-05-20T11:53:18.164Z"
   },
   {
    "duration": 319,
    "start_time": "2022-05-20T11:53:18.209Z"
   },
   {
    "duration": 10,
    "start_time": "2022-05-20T11:53:18.530Z"
   },
   {
    "duration": 10,
    "start_time": "2022-05-20T11:53:18.542Z"
   },
   {
    "duration": 5,
    "start_time": "2022-05-20T11:53:18.553Z"
   },
   {
    "duration": 51,
    "start_time": "2022-05-20T11:53:18.559Z"
   },
   {
    "duration": 33,
    "start_time": "2022-05-20T11:53:18.612Z"
   },
   {
    "duration": 7,
    "start_time": "2022-05-20T11:53:18.648Z"
   },
   {
    "duration": 6,
    "start_time": "2022-05-20T11:53:18.656Z"
   },
   {
    "duration": 44,
    "start_time": "2022-05-20T11:53:18.664Z"
   },
   {
    "duration": 17,
    "start_time": "2022-05-20T11:53:18.710Z"
   },
   {
    "duration": 8,
    "start_time": "2022-05-20T11:53:18.729Z"
   },
   {
    "duration": 4,
    "start_time": "2022-05-20T11:53:18.739Z"
   },
   {
    "duration": 17,
    "start_time": "2022-05-20T11:53:18.745Z"
   },
   {
    "duration": 64,
    "start_time": "2022-05-20T11:53:18.763Z"
   },
   {
    "duration": 14,
    "start_time": "2022-05-20T11:53:18.829Z"
   },
   {
    "duration": 181,
    "start_time": "2022-05-20T11:53:18.844Z"
   },
   {
    "duration": 284,
    "start_time": "2022-05-20T11:53:19.027Z"
   },
   {
    "duration": 6,
    "start_time": "2022-05-20T11:53:19.313Z"
   },
   {
    "duration": 7,
    "start_time": "2022-05-20T11:53:19.320Z"
   },
   {
    "duration": 6,
    "start_time": "2022-05-20T11:53:19.328Z"
   },
   {
    "duration": 12,
    "start_time": "2022-05-20T11:53:19.335Z"
   },
   {
    "duration": 4,
    "start_time": "2022-05-20T11:53:19.349Z"
   },
   {
    "duration": 238,
    "start_time": "2022-05-20T11:53:19.355Z"
   },
   {
    "duration": 7,
    "start_time": "2022-05-20T11:53:19.604Z"
   },
   {
    "duration": 5,
    "start_time": "2022-05-20T11:53:19.616Z"
   },
   {
    "duration": 12,
    "start_time": "2022-05-20T11:53:19.622Z"
   },
   {
    "duration": 9,
    "start_time": "2022-05-20T11:53:19.636Z"
   },
   {
    "duration": 17,
    "start_time": "2022-05-20T11:53:19.646Z"
   },
   {
    "duration": 35,
    "start_time": "2022-05-20T11:53:19.664Z"
   },
   {
    "duration": 353,
    "start_time": "2022-05-20T11:53:19.701Z"
   },
   {
    "duration": 0,
    "start_time": "2022-05-20T11:53:20.055Z"
   },
   {
    "duration": 0,
    "start_time": "2022-05-20T11:53:20.057Z"
   },
   {
    "duration": 0,
    "start_time": "2022-05-20T11:53:20.058Z"
   },
   {
    "duration": 0,
    "start_time": "2022-05-20T11:53:20.059Z"
   },
   {
    "duration": 0,
    "start_time": "2022-05-20T11:53:20.060Z"
   },
   {
    "duration": 0,
    "start_time": "2022-05-20T11:53:20.061Z"
   },
   {
    "duration": 0,
    "start_time": "2022-05-20T11:53:20.061Z"
   },
   {
    "duration": 0,
    "start_time": "2022-05-20T11:53:20.062Z"
   },
   {
    "duration": 0,
    "start_time": "2022-05-20T11:53:20.063Z"
   },
   {
    "duration": 0,
    "start_time": "2022-05-20T11:53:20.064Z"
   },
   {
    "duration": 0,
    "start_time": "2022-05-20T11:53:20.065Z"
   },
   {
    "duration": 0,
    "start_time": "2022-05-20T11:53:20.066Z"
   },
   {
    "duration": 0,
    "start_time": "2022-05-20T11:53:20.067Z"
   },
   {
    "duration": 0,
    "start_time": "2022-05-20T11:53:20.068Z"
   },
   {
    "duration": 0,
    "start_time": "2022-05-20T11:53:20.105Z"
   },
   {
    "duration": 0,
    "start_time": "2022-05-20T11:53:20.107Z"
   },
   {
    "duration": 0,
    "start_time": "2022-05-20T11:53:20.108Z"
   },
   {
    "duration": 0,
    "start_time": "2022-05-20T11:53:20.109Z"
   },
   {
    "duration": 0,
    "start_time": "2022-05-20T11:53:20.111Z"
   },
   {
    "duration": 0,
    "start_time": "2022-05-20T11:53:20.112Z"
   },
   {
    "duration": 0,
    "start_time": "2022-05-20T11:53:20.112Z"
   },
   {
    "duration": 0,
    "start_time": "2022-05-20T11:53:20.114Z"
   },
   {
    "duration": 0,
    "start_time": "2022-05-20T11:53:20.115Z"
   },
   {
    "duration": 0,
    "start_time": "2022-05-20T11:53:20.117Z"
   },
   {
    "duration": 0,
    "start_time": "2022-05-20T11:53:20.118Z"
   },
   {
    "duration": 0,
    "start_time": "2022-05-20T11:53:20.120Z"
   },
   {
    "duration": 0,
    "start_time": "2022-05-20T11:53:20.121Z"
   },
   {
    "duration": 0,
    "start_time": "2022-05-20T11:53:20.122Z"
   },
   {
    "duration": 0,
    "start_time": "2022-05-20T11:53:20.123Z"
   },
   {
    "duration": 0,
    "start_time": "2022-05-20T11:53:20.125Z"
   },
   {
    "duration": 0,
    "start_time": "2022-05-20T11:53:20.126Z"
   },
   {
    "duration": 0,
    "start_time": "2022-05-20T11:53:20.128Z"
   },
   {
    "duration": 0,
    "start_time": "2022-05-20T11:53:20.129Z"
   },
   {
    "duration": 0,
    "start_time": "2022-05-20T11:53:20.130Z"
   },
   {
    "duration": 0,
    "start_time": "2022-05-20T11:53:20.132Z"
   },
   {
    "duration": 0,
    "start_time": "2022-05-20T11:53:20.133Z"
   },
   {
    "duration": 0,
    "start_time": "2022-05-20T11:53:20.134Z"
   },
   {
    "duration": 0,
    "start_time": "2022-05-20T11:53:20.135Z"
   },
   {
    "duration": 0,
    "start_time": "2022-05-20T11:53:20.137Z"
   },
   {
    "duration": 0,
    "start_time": "2022-05-20T11:53:20.138Z"
   },
   {
    "duration": 0,
    "start_time": "2022-05-20T11:53:20.140Z"
   },
   {
    "duration": 0,
    "start_time": "2022-05-20T11:53:20.141Z"
   },
   {
    "duration": 0,
    "start_time": "2022-05-20T11:53:20.142Z"
   },
   {
    "duration": 0,
    "start_time": "2022-05-20T11:53:20.143Z"
   },
   {
    "duration": 511,
    "start_time": "2022-05-20T11:53:48.019Z"
   },
   {
    "duration": 14,
    "start_time": "2022-05-20T11:53:48.532Z"
   },
   {
    "duration": 17,
    "start_time": "2022-05-20T11:53:48.548Z"
   },
   {
    "duration": 351,
    "start_time": "2022-05-20T11:53:48.567Z"
   },
   {
    "duration": 10,
    "start_time": "2022-05-20T11:53:48.920Z"
   },
   {
    "duration": 9,
    "start_time": "2022-05-20T11:53:48.931Z"
   },
   {
    "duration": 5,
    "start_time": "2022-05-20T11:53:48.942Z"
   },
   {
    "duration": 21,
    "start_time": "2022-05-20T11:53:48.948Z"
   },
   {
    "duration": 56,
    "start_time": "2022-05-20T11:53:48.971Z"
   },
   {
    "duration": 7,
    "start_time": "2022-05-20T11:53:49.030Z"
   },
   {
    "duration": 17,
    "start_time": "2022-05-20T11:53:49.038Z"
   },
   {
    "duration": 18,
    "start_time": "2022-05-20T11:53:49.057Z"
   },
   {
    "duration": 8,
    "start_time": "2022-05-20T11:53:49.077Z"
   },
   {
    "duration": 20,
    "start_time": "2022-05-20T11:53:49.087Z"
   },
   {
    "duration": 15,
    "start_time": "2022-05-20T11:53:49.109Z"
   },
   {
    "duration": 20,
    "start_time": "2022-05-20T11:53:49.126Z"
   },
   {
    "duration": 31,
    "start_time": "2022-05-20T11:53:49.147Z"
   },
   {
    "duration": 22,
    "start_time": "2022-05-20T11:53:49.180Z"
   },
   {
    "duration": 151,
    "start_time": "2022-05-20T11:53:49.203Z"
   },
   {
    "duration": 270,
    "start_time": "2022-05-20T11:53:49.355Z"
   },
   {
    "duration": 5,
    "start_time": "2022-05-20T11:53:49.627Z"
   },
   {
    "duration": 5,
    "start_time": "2022-05-20T11:53:49.634Z"
   },
   {
    "duration": 7,
    "start_time": "2022-05-20T11:53:49.641Z"
   },
   {
    "duration": 18,
    "start_time": "2022-05-20T11:53:49.650Z"
   },
   {
    "duration": 4,
    "start_time": "2022-05-20T11:53:49.670Z"
   },
   {
    "duration": 241,
    "start_time": "2022-05-20T11:53:49.675Z"
   },
   {
    "duration": 6,
    "start_time": "2022-05-20T11:53:49.918Z"
   },
   {
    "duration": 10,
    "start_time": "2022-05-20T11:53:49.929Z"
   },
   {
    "duration": 18,
    "start_time": "2022-05-20T11:53:49.940Z"
   },
   {
    "duration": 9,
    "start_time": "2022-05-20T11:53:49.959Z"
   },
   {
    "duration": 37,
    "start_time": "2022-05-20T11:53:49.970Z"
   },
   {
    "duration": 14,
    "start_time": "2022-05-20T11:53:50.009Z"
   },
   {
    "duration": 278,
    "start_time": "2022-05-20T11:53:50.025Z"
   },
   {
    "duration": 265,
    "start_time": "2022-05-20T11:53:50.312Z"
   },
   {
    "duration": 26,
    "start_time": "2022-05-20T11:53:50.579Z"
   },
   {
    "duration": 5,
    "start_time": "2022-05-20T11:53:50.607Z"
   },
   {
    "duration": 11,
    "start_time": "2022-05-20T11:53:50.614Z"
   },
   {
    "duration": 6,
    "start_time": "2022-05-20T11:53:50.627Z"
   },
   {
    "duration": 12,
    "start_time": "2022-05-20T11:53:50.634Z"
   },
   {
    "duration": 5,
    "start_time": "2022-05-20T11:53:50.648Z"
   },
   {
    "duration": 23,
    "start_time": "2022-05-20T11:53:50.654Z"
   },
   {
    "duration": 19,
    "start_time": "2022-05-20T11:53:50.679Z"
   },
   {
    "duration": 33,
    "start_time": "2022-05-20T11:53:50.699Z"
   },
   {
    "duration": 14,
    "start_time": "2022-05-20T11:53:50.733Z"
   },
   {
    "duration": 15,
    "start_time": "2022-05-20T11:53:50.748Z"
   },
   {
    "duration": 4,
    "start_time": "2022-05-20T11:53:50.764Z"
   },
   {
    "duration": 8,
    "start_time": "2022-05-20T11:53:50.769Z"
   },
   {
    "duration": 26,
    "start_time": "2022-05-20T11:53:50.779Z"
   },
   {
    "duration": 7,
    "start_time": "2022-05-20T11:53:50.807Z"
   },
   {
    "duration": 5,
    "start_time": "2022-05-20T11:53:50.816Z"
   },
   {
    "duration": 11,
    "start_time": "2022-05-20T11:53:50.822Z"
   },
   {
    "duration": 6,
    "start_time": "2022-05-20T11:53:50.834Z"
   },
   {
    "duration": 9,
    "start_time": "2022-05-20T11:53:50.841Z"
   },
   {
    "duration": 7,
    "start_time": "2022-05-20T11:53:50.852Z"
   },
   {
    "duration": 8,
    "start_time": "2022-05-20T11:53:50.860Z"
   },
   {
    "duration": 34,
    "start_time": "2022-05-20T11:53:50.869Z"
   },
   {
    "duration": 18,
    "start_time": "2022-05-20T11:53:50.905Z"
   },
   {
    "duration": 19,
    "start_time": "2022-05-20T11:53:50.925Z"
   },
   {
    "duration": 17,
    "start_time": "2022-05-20T11:53:50.946Z"
   },
   {
    "duration": 5,
    "start_time": "2022-05-20T11:53:50.964Z"
   },
   {
    "duration": 37,
    "start_time": "2022-05-20T11:53:50.970Z"
   },
   {
    "duration": 19,
    "start_time": "2022-05-20T11:53:51.008Z"
   },
   {
    "duration": 11,
    "start_time": "2022-05-20T11:53:51.029Z"
   },
   {
    "duration": 12,
    "start_time": "2022-05-20T11:53:51.042Z"
   },
   {
    "duration": 19,
    "start_time": "2022-05-20T11:53:51.056Z"
   },
   {
    "duration": 26,
    "start_time": "2022-05-20T11:53:51.096Z"
   },
   {
    "duration": 10,
    "start_time": "2022-05-20T11:53:51.123Z"
   },
   {
    "duration": 20,
    "start_time": "2022-05-20T11:53:51.134Z"
   },
   {
    "duration": 7,
    "start_time": "2022-05-20T11:53:51.156Z"
   },
   {
    "duration": 53,
    "start_time": "2022-05-20T11:53:51.164Z"
   },
   {
    "duration": 6,
    "start_time": "2022-05-20T11:53:51.218Z"
   },
   {
    "duration": 10,
    "start_time": "2022-05-20T11:53:51.226Z"
   },
   {
    "duration": 22,
    "start_time": "2022-05-20T11:53:51.238Z"
   },
   {
    "duration": 44,
    "start_time": "2022-05-20T11:53:51.262Z"
   },
   {
    "duration": 7,
    "start_time": "2022-05-20T11:53:51.308Z"
   },
   {
    "duration": 14,
    "start_time": "2022-05-20T11:53:51.317Z"
   },
   {
    "duration": 21,
    "start_time": "2022-05-20T11:53:51.332Z"
   },
   {
    "duration": 562,
    "start_time": "2022-05-20T11:56:12.922Z"
   },
   {
    "duration": 19,
    "start_time": "2022-05-20T11:56:13.485Z"
   },
   {
    "duration": 20,
    "start_time": "2022-05-20T11:56:13.510Z"
   },
   {
    "duration": 337,
    "start_time": "2022-05-20T11:56:13.532Z"
   },
   {
    "duration": 10,
    "start_time": "2022-05-20T11:56:13.871Z"
   },
   {
    "duration": 33,
    "start_time": "2022-05-20T11:56:13.882Z"
   },
   {
    "duration": 8,
    "start_time": "2022-05-20T11:56:13.917Z"
   },
   {
    "duration": 18,
    "start_time": "2022-05-20T11:56:13.926Z"
   },
   {
    "duration": 63,
    "start_time": "2022-05-20T11:56:13.946Z"
   },
   {
    "duration": 10,
    "start_time": "2022-05-20T11:56:14.012Z"
   },
   {
    "duration": 6,
    "start_time": "2022-05-20T11:56:14.025Z"
   },
   {
    "duration": 10,
    "start_time": "2022-05-20T11:56:14.033Z"
   },
   {
    "duration": 7,
    "start_time": "2022-05-20T11:56:14.044Z"
   },
   {
    "duration": 9,
    "start_time": "2022-05-20T11:56:14.054Z"
   },
   {
    "duration": 6,
    "start_time": "2022-05-20T11:56:14.064Z"
   },
   {
    "duration": 27,
    "start_time": "2022-05-20T11:56:14.098Z"
   },
   {
    "duration": 34,
    "start_time": "2022-05-20T11:56:14.127Z"
   },
   {
    "duration": 15,
    "start_time": "2022-05-20T11:56:14.163Z"
   },
   {
    "duration": 176,
    "start_time": "2022-05-20T11:56:14.180Z"
   },
   {
    "duration": 268,
    "start_time": "2022-05-20T11:56:14.358Z"
   },
   {
    "duration": 7,
    "start_time": "2022-05-20T11:56:14.627Z"
   },
   {
    "duration": 6,
    "start_time": "2022-05-20T11:56:14.635Z"
   },
   {
    "duration": 6,
    "start_time": "2022-05-20T11:56:14.643Z"
   },
   {
    "duration": 14,
    "start_time": "2022-05-20T11:56:14.650Z"
   },
   {
    "duration": 40,
    "start_time": "2022-05-20T11:56:14.665Z"
   },
   {
    "duration": 212,
    "start_time": "2022-05-20T11:56:14.707Z"
   },
   {
    "duration": 7,
    "start_time": "2022-05-20T11:56:14.921Z"
   },
   {
    "duration": 11,
    "start_time": "2022-05-20T11:56:14.929Z"
   },
   {
    "duration": 14,
    "start_time": "2022-05-20T11:56:14.942Z"
   },
   {
    "duration": 11,
    "start_time": "2022-05-20T11:56:14.957Z"
   },
   {
    "duration": 44,
    "start_time": "2022-05-20T11:56:14.970Z"
   },
   {
    "duration": 21,
    "start_time": "2022-05-20T11:56:15.015Z"
   },
   {
    "duration": 296,
    "start_time": "2022-05-20T11:56:15.038Z"
   },
   {
    "duration": 10,
    "start_time": "2022-05-20T11:56:15.336Z"
   },
   {
    "duration": 6,
    "start_time": "2022-05-20T11:56:15.347Z"
   },
   {
    "duration": 11,
    "start_time": "2022-05-20T11:56:15.354Z"
   },
   {
    "duration": 33,
    "start_time": "2022-05-20T11:56:15.367Z"
   },
   {
    "duration": 28,
    "start_time": "2022-05-20T11:56:15.403Z"
   },
   {
    "duration": 7,
    "start_time": "2022-05-20T11:56:15.433Z"
   },
   {
    "duration": 15,
    "start_time": "2022-05-20T11:56:15.442Z"
   },
   {
    "duration": 17,
    "start_time": "2022-05-20T11:56:15.464Z"
   },
   {
    "duration": 28,
    "start_time": "2022-05-20T11:56:15.484Z"
   },
   {
    "duration": 23,
    "start_time": "2022-05-20T11:56:15.515Z"
   },
   {
    "duration": 17,
    "start_time": "2022-05-20T11:56:15.540Z"
   },
   {
    "duration": 10,
    "start_time": "2022-05-20T11:56:15.559Z"
   },
   {
    "duration": 10,
    "start_time": "2022-05-20T11:56:15.571Z"
   },
   {
    "duration": 22,
    "start_time": "2022-05-20T11:56:15.582Z"
   },
   {
    "duration": 7,
    "start_time": "2022-05-20T11:56:15.606Z"
   },
   {
    "duration": 8,
    "start_time": "2022-05-20T11:56:15.615Z"
   },
   {
    "duration": 8,
    "start_time": "2022-05-20T11:56:15.625Z"
   },
   {
    "duration": 5,
    "start_time": "2022-05-20T11:56:15.634Z"
   },
   {
    "duration": 10,
    "start_time": "2022-05-20T11:56:15.640Z"
   },
   {
    "duration": 7,
    "start_time": "2022-05-20T11:56:15.651Z"
   },
   {
    "duration": 40,
    "start_time": "2022-05-20T11:56:15.660Z"
   },
   {
    "duration": 11,
    "start_time": "2022-05-20T11:56:15.708Z"
   },
   {
    "duration": 8,
    "start_time": "2022-05-20T11:56:15.721Z"
   },
   {
    "duration": 19,
    "start_time": "2022-05-20T11:56:15.730Z"
   },
   {
    "duration": 19,
    "start_time": "2022-05-20T11:56:15.750Z"
   },
   {
    "duration": 38,
    "start_time": "2022-05-20T11:56:15.770Z"
   },
   {
    "duration": 25,
    "start_time": "2022-05-20T11:56:15.813Z"
   },
   {
    "duration": 20,
    "start_time": "2022-05-20T11:56:15.840Z"
   },
   {
    "duration": 13,
    "start_time": "2022-05-20T11:56:15.861Z"
   },
   {
    "duration": 30,
    "start_time": "2022-05-20T11:56:15.876Z"
   },
   {
    "duration": 18,
    "start_time": "2022-05-20T11:56:15.909Z"
   },
   {
    "duration": 22,
    "start_time": "2022-05-20T11:56:15.929Z"
   },
   {
    "duration": 5,
    "start_time": "2022-05-20T11:56:15.953Z"
   },
   {
    "duration": 48,
    "start_time": "2022-05-20T11:56:15.960Z"
   },
   {
    "duration": 6,
    "start_time": "2022-05-20T11:56:16.010Z"
   },
   {
    "duration": 23,
    "start_time": "2022-05-20T11:56:16.017Z"
   },
   {
    "duration": 6,
    "start_time": "2022-05-20T11:56:16.041Z"
   },
   {
    "duration": 9,
    "start_time": "2022-05-20T11:56:16.049Z"
   },
   {
    "duration": 30,
    "start_time": "2022-05-20T11:56:16.097Z"
   },
   {
    "duration": 20,
    "start_time": "2022-05-20T11:56:16.129Z"
   },
   {
    "duration": 6,
    "start_time": "2022-05-20T11:56:16.150Z"
   },
   {
    "duration": 48,
    "start_time": "2022-05-20T11:56:16.158Z"
   },
   {
    "duration": 23,
    "start_time": "2022-05-20T11:56:16.208Z"
   },
   {
    "duration": 580,
    "start_time": "2022-05-20T11:56:46.330Z"
   },
   {
    "duration": 16,
    "start_time": "2022-05-20T11:56:46.912Z"
   },
   {
    "duration": 19,
    "start_time": "2022-05-20T11:56:46.929Z"
   },
   {
    "duration": 397,
    "start_time": "2022-05-20T11:56:46.949Z"
   },
   {
    "duration": 13,
    "start_time": "2022-05-20T11:56:47.348Z"
   },
   {
    "duration": 32,
    "start_time": "2022-05-20T11:56:47.363Z"
   },
   {
    "duration": 17,
    "start_time": "2022-05-20T11:56:47.399Z"
   },
   {
    "duration": 35,
    "start_time": "2022-05-20T11:56:47.418Z"
   },
   {
    "duration": 63,
    "start_time": "2022-05-20T11:56:47.456Z"
   },
   {
    "duration": 12,
    "start_time": "2022-05-20T11:56:47.521Z"
   },
   {
    "duration": 14,
    "start_time": "2022-05-20T11:56:47.535Z"
   },
   {
    "duration": 16,
    "start_time": "2022-05-20T11:56:47.551Z"
   },
   {
    "duration": 12,
    "start_time": "2022-05-20T11:56:47.568Z"
   },
   {
    "duration": 23,
    "start_time": "2022-05-20T11:56:47.583Z"
   },
   {
    "duration": 26,
    "start_time": "2022-05-20T11:56:47.608Z"
   },
   {
    "duration": 29,
    "start_time": "2022-05-20T11:56:47.636Z"
   },
   {
    "duration": 37,
    "start_time": "2022-05-20T11:56:47.667Z"
   },
   {
    "duration": 19,
    "start_time": "2022-05-20T11:56:47.705Z"
   },
   {
    "duration": 153,
    "start_time": "2022-05-20T11:56:47.726Z"
   },
   {
    "duration": 279,
    "start_time": "2022-05-20T11:56:47.881Z"
   },
   {
    "duration": 6,
    "start_time": "2022-05-20T11:56:48.162Z"
   },
   {
    "duration": 16,
    "start_time": "2022-05-20T11:56:48.169Z"
   },
   {
    "duration": 34,
    "start_time": "2022-05-20T11:56:48.186Z"
   },
   {
    "duration": 15,
    "start_time": "2022-05-20T11:56:48.222Z"
   },
   {
    "duration": 8,
    "start_time": "2022-05-20T11:56:48.239Z"
   },
   {
    "duration": 226,
    "start_time": "2022-05-20T11:56:48.249Z"
   },
   {
    "duration": 6,
    "start_time": "2022-05-20T11:56:48.477Z"
   },
   {
    "duration": 8,
    "start_time": "2022-05-20T11:56:48.494Z"
   },
   {
    "duration": 26,
    "start_time": "2022-05-20T11:56:48.506Z"
   },
   {
    "duration": 16,
    "start_time": "2022-05-20T11:56:48.534Z"
   },
   {
    "duration": 12,
    "start_time": "2022-05-20T11:56:48.552Z"
   },
   {
    "duration": 39,
    "start_time": "2022-05-20T11:56:48.566Z"
   },
   {
    "duration": 311,
    "start_time": "2022-05-20T11:56:48.607Z"
   },
   {
    "duration": 17,
    "start_time": "2022-05-20T11:56:48.920Z"
   },
   {
    "duration": 6,
    "start_time": "2022-05-20T11:56:48.939Z"
   },
   {
    "duration": 14,
    "start_time": "2022-05-20T11:56:48.947Z"
   },
   {
    "duration": 7,
    "start_time": "2022-05-20T11:56:48.963Z"
   },
   {
    "duration": 35,
    "start_time": "2022-05-20T11:56:48.972Z"
   },
   {
    "duration": 19,
    "start_time": "2022-05-20T11:56:49.008Z"
   },
   {
    "duration": 11,
    "start_time": "2022-05-20T11:56:49.029Z"
   },
   {
    "duration": 13,
    "start_time": "2022-05-20T11:56:49.045Z"
   },
   {
    "duration": 21,
    "start_time": "2022-05-20T11:56:49.060Z"
   },
   {
    "duration": 29,
    "start_time": "2022-05-20T11:56:49.083Z"
   },
   {
    "duration": 10,
    "start_time": "2022-05-20T11:56:49.114Z"
   },
   {
    "duration": 9,
    "start_time": "2022-05-20T11:56:49.126Z"
   },
   {
    "duration": 14,
    "start_time": "2022-05-20T11:56:49.137Z"
   },
   {
    "duration": 15,
    "start_time": "2022-05-20T11:56:49.153Z"
   },
   {
    "duration": 38,
    "start_time": "2022-05-20T11:56:49.169Z"
   },
   {
    "duration": 7,
    "start_time": "2022-05-20T11:56:49.210Z"
   },
   {
    "duration": 14,
    "start_time": "2022-05-20T11:56:49.219Z"
   },
   {
    "duration": 7,
    "start_time": "2022-05-20T11:56:49.235Z"
   },
   {
    "duration": 12,
    "start_time": "2022-05-20T11:56:49.244Z"
   },
   {
    "duration": 9,
    "start_time": "2022-05-20T11:56:49.258Z"
   },
   {
    "duration": 35,
    "start_time": "2022-05-20T11:56:49.269Z"
   },
   {
    "duration": 9,
    "start_time": "2022-05-20T11:56:49.311Z"
   },
   {
    "duration": 6,
    "start_time": "2022-05-20T11:56:49.322Z"
   },
   {
    "duration": 17,
    "start_time": "2022-05-20T11:56:49.329Z"
   },
   {
    "duration": 19,
    "start_time": "2022-05-20T11:56:49.349Z"
   },
   {
    "duration": 43,
    "start_time": "2022-05-20T11:56:49.369Z"
   },
   {
    "duration": 29,
    "start_time": "2022-05-20T11:56:49.415Z"
   },
   {
    "duration": 32,
    "start_time": "2022-05-20T11:56:49.446Z"
   },
   {
    "duration": 14,
    "start_time": "2022-05-20T11:56:49.480Z"
   },
   {
    "duration": 15,
    "start_time": "2022-05-20T11:56:49.496Z"
   },
   {
    "duration": 17,
    "start_time": "2022-05-20T11:56:49.517Z"
   },
   {
    "duration": 21,
    "start_time": "2022-05-20T11:56:49.535Z"
   },
   {
    "duration": 11,
    "start_time": "2022-05-20T11:56:49.558Z"
   },
   {
    "duration": 46,
    "start_time": "2022-05-20T11:56:49.570Z"
   },
   {
    "duration": 6,
    "start_time": "2022-05-20T11:56:49.618Z"
   },
   {
    "duration": 24,
    "start_time": "2022-05-20T11:56:49.626Z"
   },
   {
    "duration": 7,
    "start_time": "2022-05-20T11:56:49.652Z"
   },
   {
    "duration": 43,
    "start_time": "2022-05-20T11:56:49.661Z"
   },
   {
    "duration": 25,
    "start_time": "2022-05-20T11:56:49.706Z"
   },
   {
    "duration": 32,
    "start_time": "2022-05-20T11:56:49.733Z"
   },
   {
    "duration": 6,
    "start_time": "2022-05-20T11:56:49.766Z"
   },
   {
    "duration": 38,
    "start_time": "2022-05-20T11:56:49.774Z"
   },
   {
    "duration": 25,
    "start_time": "2022-05-20T11:56:49.814Z"
   },
   {
    "duration": 553,
    "start_time": "2022-05-20T11:58:35.812Z"
   },
   {
    "duration": 14,
    "start_time": "2022-05-20T11:58:36.368Z"
   },
   {
    "duration": 57,
    "start_time": "2022-05-20T11:58:36.384Z"
   },
   {
    "duration": 387,
    "start_time": "2022-05-20T11:58:36.443Z"
   },
   {
    "duration": 15,
    "start_time": "2022-05-20T11:58:36.832Z"
   },
   {
    "duration": 14,
    "start_time": "2022-05-20T11:58:36.849Z"
   },
   {
    "duration": 43,
    "start_time": "2022-05-20T11:58:36.865Z"
   },
   {
    "duration": 20,
    "start_time": "2022-05-20T11:58:36.911Z"
   },
   {
    "duration": 36,
    "start_time": "2022-05-20T11:58:36.933Z"
   },
   {
    "duration": 12,
    "start_time": "2022-05-20T11:58:36.971Z"
   },
   {
    "duration": 24,
    "start_time": "2022-05-20T11:58:36.984Z"
   },
   {
    "duration": 21,
    "start_time": "2022-05-20T11:58:37.010Z"
   },
   {
    "duration": 20,
    "start_time": "2022-05-20T11:58:37.033Z"
   },
   {
    "duration": 35,
    "start_time": "2022-05-20T11:58:37.058Z"
   },
   {
    "duration": 30,
    "start_time": "2022-05-20T11:58:37.095Z"
   },
   {
    "duration": 28,
    "start_time": "2022-05-20T11:58:37.127Z"
   },
   {
    "duration": 36,
    "start_time": "2022-05-20T11:58:37.157Z"
   },
   {
    "duration": 29,
    "start_time": "2022-05-20T11:58:37.195Z"
   },
   {
    "duration": 200,
    "start_time": "2022-05-20T11:58:37.226Z"
   },
   {
    "duration": 377,
    "start_time": "2022-05-20T11:58:37.427Z"
   },
   {
    "duration": 8,
    "start_time": "2022-05-20T11:58:37.805Z"
   },
   {
    "duration": 17,
    "start_time": "2022-05-20T11:58:37.815Z"
   },
   {
    "duration": 33,
    "start_time": "2022-05-20T11:58:37.833Z"
   },
   {
    "duration": 35,
    "start_time": "2022-05-20T11:58:37.868Z"
   },
   {
    "duration": 19,
    "start_time": "2022-05-20T11:58:37.905Z"
   },
   {
    "duration": 226,
    "start_time": "2022-05-20T11:58:37.926Z"
   },
   {
    "duration": 6,
    "start_time": "2022-05-20T11:58:38.154Z"
   },
   {
    "duration": 16,
    "start_time": "2022-05-20T11:58:38.161Z"
   },
   {
    "duration": 28,
    "start_time": "2022-05-20T11:58:38.179Z"
   },
   {
    "duration": 20,
    "start_time": "2022-05-20T11:58:38.214Z"
   },
   {
    "duration": 19,
    "start_time": "2022-05-20T11:58:38.236Z"
   },
   {
    "duration": 32,
    "start_time": "2022-05-20T11:58:38.257Z"
   },
   {
    "duration": 288,
    "start_time": "2022-05-20T11:58:38.291Z"
   },
   {
    "duration": 18,
    "start_time": "2022-05-20T11:58:38.581Z"
   },
   {
    "duration": 41,
    "start_time": "2022-05-20T11:58:38.601Z"
   },
   {
    "duration": 37,
    "start_time": "2022-05-20T11:58:38.644Z"
   },
   {
    "duration": 47,
    "start_time": "2022-05-20T11:58:38.683Z"
   },
   {
    "duration": 36,
    "start_time": "2022-05-20T11:58:38.731Z"
   },
   {
    "duration": 15,
    "start_time": "2022-05-20T11:58:38.768Z"
   },
   {
    "duration": 49,
    "start_time": "2022-05-20T11:58:38.785Z"
   },
   {
    "duration": 33,
    "start_time": "2022-05-20T11:58:38.838Z"
   },
   {
    "duration": 37,
    "start_time": "2022-05-20T11:58:38.872Z"
   },
   {
    "duration": 33,
    "start_time": "2022-05-20T11:58:38.911Z"
   },
   {
    "duration": 21,
    "start_time": "2022-05-20T11:58:38.946Z"
   },
   {
    "duration": 23,
    "start_time": "2022-05-20T11:58:38.969Z"
   },
   {
    "duration": 33,
    "start_time": "2022-05-20T11:58:38.994Z"
   },
   {
    "duration": 30,
    "start_time": "2022-05-20T11:58:39.029Z"
   },
   {
    "duration": 28,
    "start_time": "2022-05-20T11:58:39.061Z"
   },
   {
    "duration": 32,
    "start_time": "2022-05-20T11:58:39.091Z"
   },
   {
    "duration": 31,
    "start_time": "2022-05-20T11:58:39.124Z"
   },
   {
    "duration": 24,
    "start_time": "2022-05-20T11:58:39.157Z"
   },
   {
    "duration": 33,
    "start_time": "2022-05-20T11:58:39.183Z"
   },
   {
    "duration": 22,
    "start_time": "2022-05-20T11:58:39.218Z"
   },
   {
    "duration": 9,
    "start_time": "2022-05-20T11:58:39.241Z"
   },
   {
    "duration": 23,
    "start_time": "2022-05-20T11:58:39.251Z"
   },
   {
    "duration": 37,
    "start_time": "2022-05-20T11:58:39.276Z"
   },
   {
    "duration": 32,
    "start_time": "2022-05-20T11:58:39.315Z"
   },
   {
    "duration": 20,
    "start_time": "2022-05-20T11:58:39.349Z"
   },
   {
    "duration": 16,
    "start_time": "2022-05-20T11:58:39.371Z"
   },
   {
    "duration": 41,
    "start_time": "2022-05-20T11:58:39.388Z"
   },
   {
    "duration": 40,
    "start_time": "2022-05-20T11:58:39.431Z"
   },
   {
    "duration": 15,
    "start_time": "2022-05-20T11:58:39.473Z"
   },
   {
    "duration": 34,
    "start_time": "2022-05-20T11:58:39.490Z"
   },
   {
    "duration": 26,
    "start_time": "2022-05-20T11:58:39.526Z"
   },
   {
    "duration": 56,
    "start_time": "2022-05-20T11:58:39.554Z"
   },
   {
    "duration": 20,
    "start_time": "2022-05-20T11:58:39.612Z"
   },
   {
    "duration": 36,
    "start_time": "2022-05-20T11:58:39.634Z"
   },
   {
    "duration": 32,
    "start_time": "2022-05-20T11:58:39.673Z"
   },
   {
    "duration": 45,
    "start_time": "2022-05-20T11:58:39.707Z"
   },
   {
    "duration": 6,
    "start_time": "2022-05-20T11:58:39.754Z"
   },
   {
    "duration": 16,
    "start_time": "2022-05-20T11:58:39.763Z"
   },
   {
    "duration": 30,
    "start_time": "2022-05-20T11:58:39.781Z"
   },
   {
    "duration": 34,
    "start_time": "2022-05-20T11:58:39.813Z"
   },
   {
    "duration": 8,
    "start_time": "2022-05-20T11:58:39.848Z"
   },
   {
    "duration": 21,
    "start_time": "2022-05-20T11:58:39.858Z"
   },
   {
    "duration": 33,
    "start_time": "2022-05-20T11:58:39.881Z"
   },
   {
    "duration": 555,
    "start_time": "2022-05-20T12:04:02.011Z"
   },
   {
    "duration": 40,
    "start_time": "2022-05-20T12:04:02.568Z"
   },
   {
    "duration": 18,
    "start_time": "2022-05-20T12:04:02.613Z"
   },
   {
    "duration": 342,
    "start_time": "2022-05-20T12:04:02.633Z"
   },
   {
    "duration": 29,
    "start_time": "2022-05-20T12:04:02.977Z"
   },
   {
    "duration": 10,
    "start_time": "2022-05-20T12:04:03.009Z"
   },
   {
    "duration": 7,
    "start_time": "2022-05-20T12:04:03.020Z"
   },
   {
    "duration": 19,
    "start_time": "2022-05-20T12:04:03.029Z"
   },
   {
    "duration": 60,
    "start_time": "2022-05-20T12:04:03.049Z"
   },
   {
    "duration": 8,
    "start_time": "2022-05-20T12:04:03.112Z"
   },
   {
    "duration": 6,
    "start_time": "2022-05-20T12:04:03.121Z"
   },
   {
    "duration": 7,
    "start_time": "2022-05-20T12:04:03.128Z"
   },
   {
    "duration": 7,
    "start_time": "2022-05-20T12:04:03.137Z"
   },
   {
    "duration": 9,
    "start_time": "2022-05-20T12:04:03.145Z"
   },
   {
    "duration": 5,
    "start_time": "2022-05-20T12:04:03.155Z"
   },
   {
    "duration": 52,
    "start_time": "2022-05-20T12:04:03.162Z"
   },
   {
    "duration": 30,
    "start_time": "2022-05-20T12:04:03.216Z"
   },
   {
    "duration": 14,
    "start_time": "2022-05-20T12:04:03.248Z"
   },
   {
    "duration": 181,
    "start_time": "2022-05-20T12:04:03.264Z"
   },
   {
    "duration": 276,
    "start_time": "2022-05-20T12:04:03.447Z"
   },
   {
    "duration": 6,
    "start_time": "2022-05-20T12:04:03.724Z"
   },
   {
    "duration": 7,
    "start_time": "2022-05-20T12:04:03.732Z"
   },
   {
    "duration": 7,
    "start_time": "2022-05-20T12:04:03.741Z"
   },
   {
    "duration": 13,
    "start_time": "2022-05-20T12:04:03.750Z"
   },
   {
    "duration": 35,
    "start_time": "2022-05-20T12:04:03.765Z"
   },
   {
    "duration": 219,
    "start_time": "2022-05-20T12:04:03.801Z"
   },
   {
    "duration": 6,
    "start_time": "2022-05-20T12:04:04.021Z"
   },
   {
    "duration": 7,
    "start_time": "2022-05-20T12:04:04.031Z"
   },
   {
    "duration": 16,
    "start_time": "2022-05-20T12:04:04.039Z"
   },
   {
    "duration": 10,
    "start_time": "2022-05-20T12:04:04.057Z"
   },
   {
    "duration": 43,
    "start_time": "2022-05-20T12:04:04.068Z"
   },
   {
    "duration": 14,
    "start_time": "2022-05-20T12:04:04.113Z"
   },
   {
    "duration": 279,
    "start_time": "2022-05-20T12:04:04.129Z"
   },
   {
    "duration": 15,
    "start_time": "2022-05-20T12:04:04.410Z"
   },
   {
    "duration": 5,
    "start_time": "2022-05-20T12:04:04.426Z"
   },
   {
    "duration": 10,
    "start_time": "2022-05-20T12:04:04.432Z"
   },
   {
    "duration": 17,
    "start_time": "2022-05-20T12:04:04.443Z"
   },
   {
    "duration": 0,
    "start_time": "2022-05-20T12:04:04.462Z"
   },
   {
    "duration": 0,
    "start_time": "2022-05-20T12:04:04.463Z"
   },
   {
    "duration": 0,
    "start_time": "2022-05-20T12:04:04.464Z"
   },
   {
    "duration": 0,
    "start_time": "2022-05-20T12:04:04.466Z"
   },
   {
    "duration": 0,
    "start_time": "2022-05-20T12:04:04.467Z"
   },
   {
    "duration": 0,
    "start_time": "2022-05-20T12:04:04.468Z"
   },
   {
    "duration": 0,
    "start_time": "2022-05-20T12:04:04.469Z"
   },
   {
    "duration": 0,
    "start_time": "2022-05-20T12:04:04.470Z"
   },
   {
    "duration": 0,
    "start_time": "2022-05-20T12:04:04.471Z"
   },
   {
    "duration": 0,
    "start_time": "2022-05-20T12:04:04.494Z"
   },
   {
    "duration": 0,
    "start_time": "2022-05-20T12:04:04.495Z"
   },
   {
    "duration": 0,
    "start_time": "2022-05-20T12:04:04.496Z"
   },
   {
    "duration": 0,
    "start_time": "2022-05-20T12:04:04.496Z"
   },
   {
    "duration": 0,
    "start_time": "2022-05-20T12:04:04.497Z"
   },
   {
    "duration": 0,
    "start_time": "2022-05-20T12:04:04.498Z"
   },
   {
    "duration": 0,
    "start_time": "2022-05-20T12:04:04.499Z"
   },
   {
    "duration": 0,
    "start_time": "2022-05-20T12:04:04.500Z"
   },
   {
    "duration": 0,
    "start_time": "2022-05-20T12:04:04.501Z"
   },
   {
    "duration": 0,
    "start_time": "2022-05-20T12:04:04.501Z"
   },
   {
    "duration": 0,
    "start_time": "2022-05-20T12:04:04.504Z"
   },
   {
    "duration": 0,
    "start_time": "2022-05-20T12:04:04.505Z"
   },
   {
    "duration": 0,
    "start_time": "2022-05-20T12:04:04.505Z"
   },
   {
    "duration": 0,
    "start_time": "2022-05-20T12:04:04.506Z"
   },
   {
    "duration": 0,
    "start_time": "2022-05-20T12:04:04.507Z"
   },
   {
    "duration": 0,
    "start_time": "2022-05-20T12:04:04.508Z"
   },
   {
    "duration": 0,
    "start_time": "2022-05-20T12:04:04.509Z"
   },
   {
    "duration": 0,
    "start_time": "2022-05-20T12:04:04.510Z"
   },
   {
    "duration": 0,
    "start_time": "2022-05-20T12:04:04.511Z"
   },
   {
    "duration": 0,
    "start_time": "2022-05-20T12:04:04.512Z"
   },
   {
    "duration": 0,
    "start_time": "2022-05-20T12:04:04.515Z"
   },
   {
    "duration": 0,
    "start_time": "2022-05-20T12:04:04.516Z"
   },
   {
    "duration": 0,
    "start_time": "2022-05-20T12:04:04.517Z"
   },
   {
    "duration": 0,
    "start_time": "2022-05-20T12:04:04.518Z"
   },
   {
    "duration": 0,
    "start_time": "2022-05-20T12:04:04.519Z"
   },
   {
    "duration": 0,
    "start_time": "2022-05-20T12:04:04.520Z"
   },
   {
    "duration": 0,
    "start_time": "2022-05-20T12:04:04.522Z"
   },
   {
    "duration": 0,
    "start_time": "2022-05-20T12:04:04.524Z"
   },
   {
    "duration": 0,
    "start_time": "2022-05-20T12:04:04.525Z"
   },
   {
    "duration": 0,
    "start_time": "2022-05-20T12:04:04.526Z"
   },
   {
    "duration": 560,
    "start_time": "2022-05-20T12:04:21.071Z"
   },
   {
    "duration": 13,
    "start_time": "2022-05-20T12:04:21.633Z"
   },
   {
    "duration": 27,
    "start_time": "2022-05-20T12:04:21.648Z"
   },
   {
    "duration": 334,
    "start_time": "2022-05-20T12:04:21.677Z"
   },
   {
    "duration": 11,
    "start_time": "2022-05-20T12:04:22.013Z"
   },
   {
    "duration": 11,
    "start_time": "2022-05-20T12:04:22.025Z"
   },
   {
    "duration": 7,
    "start_time": "2022-05-20T12:04:22.037Z"
   },
   {
    "duration": 32,
    "start_time": "2022-05-20T12:04:22.046Z"
   },
   {
    "duration": 48,
    "start_time": "2022-05-20T12:04:22.080Z"
   },
   {
    "duration": 8,
    "start_time": "2022-05-20T12:04:22.131Z"
   },
   {
    "duration": 22,
    "start_time": "2022-05-20T12:04:22.141Z"
   },
   {
    "duration": 9,
    "start_time": "2022-05-20T12:04:22.165Z"
   },
   {
    "duration": 24,
    "start_time": "2022-05-20T12:04:22.175Z"
   },
   {
    "duration": 27,
    "start_time": "2022-05-20T12:04:22.208Z"
   },
   {
    "duration": 25,
    "start_time": "2022-05-20T12:04:22.237Z"
   },
   {
    "duration": 29,
    "start_time": "2022-05-20T12:04:22.264Z"
   },
   {
    "duration": 46,
    "start_time": "2022-05-20T12:04:22.304Z"
   },
   {
    "duration": 13,
    "start_time": "2022-05-20T12:04:22.352Z"
   },
   {
    "duration": 155,
    "start_time": "2022-05-20T12:04:22.367Z"
   },
   {
    "duration": 261,
    "start_time": "2022-05-20T12:04:22.524Z"
   },
   {
    "duration": 16,
    "start_time": "2022-05-20T12:04:22.787Z"
   },
   {
    "duration": 17,
    "start_time": "2022-05-20T12:04:22.804Z"
   },
   {
    "duration": 19,
    "start_time": "2022-05-20T12:04:22.823Z"
   },
   {
    "duration": 38,
    "start_time": "2022-05-20T12:04:22.844Z"
   },
   {
    "duration": 4,
    "start_time": "2022-05-20T12:04:22.884Z"
   },
   {
    "duration": 226,
    "start_time": "2022-05-20T12:04:22.890Z"
   },
   {
    "duration": 5,
    "start_time": "2022-05-20T12:04:23.118Z"
   },
   {
    "duration": 29,
    "start_time": "2022-05-20T12:04:23.127Z"
   },
   {
    "duration": 45,
    "start_time": "2022-05-20T12:04:23.159Z"
   },
   {
    "duration": 20,
    "start_time": "2022-05-20T12:04:23.205Z"
   },
   {
    "duration": 15,
    "start_time": "2022-05-20T12:04:23.226Z"
   },
   {
    "duration": 20,
    "start_time": "2022-05-20T12:04:23.242Z"
   },
   {
    "duration": 271,
    "start_time": "2022-05-20T12:04:23.263Z"
   },
   {
    "duration": 10,
    "start_time": "2022-05-20T12:04:23.535Z"
   },
   {
    "duration": 21,
    "start_time": "2022-05-20T12:04:23.547Z"
   },
   {
    "duration": 23,
    "start_time": "2022-05-20T12:04:23.570Z"
   },
   {
    "duration": 21,
    "start_time": "2022-05-20T12:04:23.594Z"
   },
   {
    "duration": 25,
    "start_time": "2022-05-20T12:04:23.617Z"
   },
   {
    "duration": 13,
    "start_time": "2022-05-20T12:04:23.644Z"
   },
   {
    "duration": 18,
    "start_time": "2022-05-20T12:04:23.659Z"
   },
   {
    "duration": 25,
    "start_time": "2022-05-20T12:04:23.679Z"
   },
   {
    "duration": 26,
    "start_time": "2022-05-20T12:04:23.708Z"
   },
   {
    "duration": 14,
    "start_time": "2022-05-20T12:04:23.735Z"
   },
   {
    "duration": 37,
    "start_time": "2022-05-20T12:04:23.750Z"
   },
   {
    "duration": 33,
    "start_time": "2022-05-20T12:04:23.788Z"
   },
   {
    "duration": 10,
    "start_time": "2022-05-20T12:04:23.822Z"
   },
   {
    "duration": 25,
    "start_time": "2022-05-20T12:04:23.834Z"
   },
   {
    "duration": 32,
    "start_time": "2022-05-20T12:04:23.861Z"
   },
   {
    "duration": 32,
    "start_time": "2022-05-20T12:04:23.897Z"
   },
   {
    "duration": 13,
    "start_time": "2022-05-20T12:04:23.931Z"
   },
   {
    "duration": 8,
    "start_time": "2022-05-20T12:04:23.945Z"
   },
   {
    "duration": 17,
    "start_time": "2022-05-20T12:04:23.954Z"
   },
   {
    "duration": 10,
    "start_time": "2022-05-20T12:04:23.973Z"
   },
   {
    "duration": 5,
    "start_time": "2022-05-20T12:04:23.985Z"
   },
   {
    "duration": 40,
    "start_time": "2022-05-20T12:04:23.992Z"
   },
   {
    "duration": 15,
    "start_time": "2022-05-20T12:04:24.034Z"
   },
   {
    "duration": 31,
    "start_time": "2022-05-20T12:04:24.051Z"
   },
   {
    "duration": 25,
    "start_time": "2022-05-20T12:04:24.084Z"
   },
   {
    "duration": 12,
    "start_time": "2022-05-20T12:04:24.111Z"
   },
   {
    "duration": 44,
    "start_time": "2022-05-20T12:04:24.125Z"
   },
   {
    "duration": 44,
    "start_time": "2022-05-20T12:04:24.171Z"
   },
   {
    "duration": 34,
    "start_time": "2022-05-20T12:04:24.216Z"
   },
   {
    "duration": 19,
    "start_time": "2022-05-20T12:04:24.251Z"
   },
   {
    "duration": 19,
    "start_time": "2022-05-20T12:04:24.272Z"
   },
   {
    "duration": 34,
    "start_time": "2022-05-20T12:04:24.293Z"
   },
   {
    "duration": 8,
    "start_time": "2022-05-20T12:04:24.329Z"
   },
   {
    "duration": 24,
    "start_time": "2022-05-20T12:04:24.339Z"
   },
   {
    "duration": 21,
    "start_time": "2022-05-20T12:04:24.366Z"
   },
   {
    "duration": 43,
    "start_time": "2022-05-20T12:04:24.389Z"
   },
   {
    "duration": 7,
    "start_time": "2022-05-20T12:04:24.433Z"
   },
   {
    "duration": 14,
    "start_time": "2022-05-20T12:04:24.442Z"
   },
   {
    "duration": 46,
    "start_time": "2022-05-20T12:04:24.457Z"
   },
   {
    "duration": 27,
    "start_time": "2022-05-20T12:04:24.504Z"
   },
   {
    "duration": 7,
    "start_time": "2022-05-20T12:04:24.533Z"
   },
   {
    "duration": 18,
    "start_time": "2022-05-20T12:04:24.542Z"
   },
   {
    "duration": 19,
    "start_time": "2022-05-20T12:04:24.561Z"
   },
   {
    "duration": 504,
    "start_time": "2022-05-20T12:06:20.062Z"
   },
   {
    "duration": 14,
    "start_time": "2022-05-20T12:06:20.568Z"
   },
   {
    "duration": 25,
    "start_time": "2022-05-20T12:06:20.584Z"
   },
   {
    "duration": 335,
    "start_time": "2022-05-20T12:06:20.611Z"
   },
   {
    "duration": 10,
    "start_time": "2022-05-20T12:06:20.948Z"
   },
   {
    "duration": 9,
    "start_time": "2022-05-20T12:06:20.960Z"
   },
   {
    "duration": 29,
    "start_time": "2022-05-20T12:06:20.970Z"
   },
   {
    "duration": 22,
    "start_time": "2022-05-20T12:06:21.001Z"
   },
   {
    "duration": 32,
    "start_time": "2022-05-20T12:06:21.025Z"
   },
   {
    "duration": 7,
    "start_time": "2022-05-20T12:06:21.059Z"
   },
   {
    "duration": 30,
    "start_time": "2022-05-20T12:06:21.068Z"
   },
   {
    "duration": 23,
    "start_time": "2022-05-20T12:06:21.104Z"
   },
   {
    "duration": 22,
    "start_time": "2022-05-20T12:06:21.129Z"
   },
   {
    "duration": 10,
    "start_time": "2022-05-20T12:06:21.153Z"
   },
   {
    "duration": 5,
    "start_time": "2022-05-20T12:06:21.165Z"
   },
   {
    "duration": 37,
    "start_time": "2022-05-20T12:06:21.172Z"
   },
   {
    "duration": 36,
    "start_time": "2022-05-20T12:06:21.211Z"
   },
   {
    "duration": 15,
    "start_time": "2022-05-20T12:06:21.249Z"
   },
   {
    "duration": 175,
    "start_time": "2022-05-20T12:06:21.266Z"
   },
   {
    "duration": 263,
    "start_time": "2022-05-20T12:06:21.442Z"
   },
   {
    "duration": 6,
    "start_time": "2022-05-20T12:06:21.707Z"
   },
   {
    "duration": 6,
    "start_time": "2022-05-20T12:06:21.715Z"
   },
   {
    "duration": 11,
    "start_time": "2022-05-20T12:06:21.723Z"
   },
   {
    "duration": 18,
    "start_time": "2022-05-20T12:06:21.736Z"
   },
   {
    "duration": 4,
    "start_time": "2022-05-20T12:06:21.755Z"
   },
   {
    "duration": 221,
    "start_time": "2022-05-20T12:06:21.760Z"
   },
   {
    "duration": 17,
    "start_time": "2022-05-20T12:06:21.982Z"
   },
   {
    "duration": 6,
    "start_time": "2022-05-20T12:06:22.012Z"
   },
   {
    "duration": 14,
    "start_time": "2022-05-20T12:06:22.020Z"
   },
   {
    "duration": 8,
    "start_time": "2022-05-20T12:06:22.036Z"
   },
   {
    "duration": 11,
    "start_time": "2022-05-20T12:06:22.046Z"
   },
   {
    "duration": 12,
    "start_time": "2022-05-20T12:06:22.059Z"
   },
   {
    "duration": 272,
    "start_time": "2022-05-20T12:06:22.072Z"
   },
   {
    "duration": 9,
    "start_time": "2022-05-20T12:06:22.345Z"
   },
   {
    "duration": 7,
    "start_time": "2022-05-20T12:06:22.356Z"
   },
   {
    "duration": 14,
    "start_time": "2022-05-20T12:06:22.364Z"
   },
   {
    "duration": 24,
    "start_time": "2022-05-20T12:06:22.379Z"
   },
   {
    "duration": 10,
    "start_time": "2022-05-20T12:06:22.405Z"
   },
   {
    "duration": 9,
    "start_time": "2022-05-20T12:06:22.416Z"
   },
   {
    "duration": 13,
    "start_time": "2022-05-20T12:06:22.426Z"
   },
   {
    "duration": 12,
    "start_time": "2022-05-20T12:06:22.441Z"
   },
   {
    "duration": 15,
    "start_time": "2022-05-20T12:06:22.454Z"
   },
   {
    "duration": 36,
    "start_time": "2022-05-20T12:06:22.470Z"
   },
   {
    "duration": 9,
    "start_time": "2022-05-20T12:06:22.508Z"
   },
   {
    "duration": 6,
    "start_time": "2022-05-20T12:06:22.518Z"
   },
   {
    "duration": 8,
    "start_time": "2022-05-20T12:06:22.525Z"
   },
   {
    "duration": 8,
    "start_time": "2022-05-20T12:06:22.535Z"
   },
   {
    "duration": 8,
    "start_time": "2022-05-20T12:06:22.545Z"
   },
   {
    "duration": 5,
    "start_time": "2022-05-20T12:06:22.554Z"
   },
   {
    "duration": 35,
    "start_time": "2022-05-20T12:06:22.561Z"
   },
   {
    "duration": 7,
    "start_time": "2022-05-20T12:06:22.608Z"
   },
   {
    "duration": 9,
    "start_time": "2022-05-20T12:06:22.617Z"
   },
   {
    "duration": 8,
    "start_time": "2022-05-20T12:06:22.628Z"
   },
   {
    "duration": 5,
    "start_time": "2022-05-20T12:06:22.638Z"
   },
   {
    "duration": 8,
    "start_time": "2022-05-20T12:06:22.645Z"
   },
   {
    "duration": 41,
    "start_time": "2022-05-20T12:06:22.655Z"
   },
   {
    "duration": 20,
    "start_time": "2022-05-20T12:06:22.698Z"
   },
   {
    "duration": 17,
    "start_time": "2022-05-20T12:06:22.720Z"
   },
   {
    "duration": 4,
    "start_time": "2022-05-20T12:06:22.739Z"
   },
   {
    "duration": 15,
    "start_time": "2022-05-20T12:06:22.745Z"
   },
   {
    "duration": 56,
    "start_time": "2022-05-20T12:06:22.761Z"
   },
   {
    "duration": 13,
    "start_time": "2022-05-20T12:06:22.819Z"
   },
   {
    "duration": 11,
    "start_time": "2022-05-20T12:06:22.833Z"
   },
   {
    "duration": 12,
    "start_time": "2022-05-20T12:06:22.846Z"
   },
   {
    "duration": 50,
    "start_time": "2022-05-20T12:06:22.859Z"
   },
   {
    "duration": 10,
    "start_time": "2022-05-20T12:06:22.911Z"
   },
   {
    "duration": 19,
    "start_time": "2022-05-20T12:06:22.922Z"
   },
   {
    "duration": 17,
    "start_time": "2022-05-20T12:06:22.943Z"
   },
   {
    "duration": 36,
    "start_time": "2022-05-20T12:06:22.962Z"
   },
   {
    "duration": 8,
    "start_time": "2022-05-20T12:06:23.005Z"
   },
   {
    "duration": 9,
    "start_time": "2022-05-20T12:06:23.015Z"
   },
   {
    "duration": 25,
    "start_time": "2022-05-20T12:06:23.025Z"
   },
   {
    "duration": 21,
    "start_time": "2022-05-20T12:06:23.052Z"
   },
   {
    "duration": 33,
    "start_time": "2022-05-20T12:06:23.075Z"
   },
   {
    "duration": 13,
    "start_time": "2022-05-20T12:06:23.110Z"
   },
   {
    "duration": 21,
    "start_time": "2022-05-20T12:06:23.125Z"
   },
   {
    "duration": 553,
    "start_time": "2022-05-20T12:07:00.472Z"
   },
   {
    "duration": 15,
    "start_time": "2022-05-20T12:07:01.027Z"
   },
   {
    "duration": 26,
    "start_time": "2022-05-20T12:07:01.044Z"
   },
   {
    "duration": 345,
    "start_time": "2022-05-20T12:07:01.071Z"
   },
   {
    "duration": 11,
    "start_time": "2022-05-20T12:07:01.418Z"
   },
   {
    "duration": 13,
    "start_time": "2022-05-20T12:07:01.430Z"
   },
   {
    "duration": 6,
    "start_time": "2022-05-20T12:07:01.445Z"
   },
   {
    "duration": 35,
    "start_time": "2022-05-20T12:07:01.452Z"
   },
   {
    "duration": 44,
    "start_time": "2022-05-20T12:07:01.495Z"
   },
   {
    "duration": 7,
    "start_time": "2022-05-20T12:07:01.541Z"
   },
   {
    "duration": 10,
    "start_time": "2022-05-20T12:07:01.550Z"
   },
   {
    "duration": 12,
    "start_time": "2022-05-20T12:07:01.561Z"
   },
   {
    "duration": 35,
    "start_time": "2022-05-20T12:07:01.575Z"
   },
   {
    "duration": 23,
    "start_time": "2022-05-20T12:07:01.613Z"
   },
   {
    "duration": 21,
    "start_time": "2022-05-20T12:07:01.638Z"
   },
   {
    "duration": 21,
    "start_time": "2022-05-20T12:07:01.661Z"
   },
   {
    "duration": 43,
    "start_time": "2022-05-20T12:07:01.684Z"
   },
   {
    "duration": 15,
    "start_time": "2022-05-20T12:07:01.729Z"
   },
   {
    "duration": 173,
    "start_time": "2022-05-20T12:07:01.746Z"
   },
   {
    "duration": 292,
    "start_time": "2022-05-20T12:07:01.921Z"
   },
   {
    "duration": 7,
    "start_time": "2022-05-20T12:07:02.215Z"
   },
   {
    "duration": 9,
    "start_time": "2022-05-20T12:07:02.224Z"
   },
   {
    "duration": 7,
    "start_time": "2022-05-20T12:07:02.235Z"
   },
   {
    "duration": 16,
    "start_time": "2022-05-20T12:07:02.243Z"
   },
   {
    "duration": 4,
    "start_time": "2022-05-20T12:07:02.261Z"
   },
   {
    "duration": 243,
    "start_time": "2022-05-20T12:07:02.266Z"
   },
   {
    "duration": 7,
    "start_time": "2022-05-20T12:07:02.511Z"
   },
   {
    "duration": 31,
    "start_time": "2022-05-20T12:07:02.519Z"
   },
   {
    "duration": 15,
    "start_time": "2022-05-20T12:07:02.551Z"
   },
   {
    "duration": 10,
    "start_time": "2022-05-20T12:07:02.568Z"
   },
   {
    "duration": 15,
    "start_time": "2022-05-20T12:07:02.579Z"
   },
   {
    "duration": 19,
    "start_time": "2022-05-20T12:07:02.596Z"
   },
   {
    "duration": 316,
    "start_time": "2022-05-20T12:07:02.617Z"
   },
   {
    "duration": 12,
    "start_time": "2022-05-20T12:07:02.935Z"
   },
   {
    "duration": 14,
    "start_time": "2022-05-20T12:07:02.949Z"
   },
   {
    "duration": 27,
    "start_time": "2022-05-20T12:07:02.965Z"
   },
   {
    "duration": 12,
    "start_time": "2022-05-20T12:07:02.994Z"
   },
   {
    "duration": 23,
    "start_time": "2022-05-20T12:07:03.010Z"
   },
   {
    "duration": 7,
    "start_time": "2022-05-20T12:07:03.034Z"
   },
   {
    "duration": 12,
    "start_time": "2022-05-20T12:07:03.043Z"
   },
   {
    "duration": 13,
    "start_time": "2022-05-20T12:07:03.060Z"
   },
   {
    "duration": 33,
    "start_time": "2022-05-20T12:07:03.075Z"
   },
   {
    "duration": 17,
    "start_time": "2022-05-20T12:07:03.110Z"
   },
   {
    "duration": 18,
    "start_time": "2022-05-20T12:07:03.130Z"
   },
   {
    "duration": 7,
    "start_time": "2022-05-20T12:07:03.150Z"
   },
   {
    "duration": 11,
    "start_time": "2022-05-20T12:07:03.159Z"
   },
   {
    "duration": 28,
    "start_time": "2022-05-20T12:07:03.171Z"
   },
   {
    "duration": 16,
    "start_time": "2022-05-20T12:07:03.201Z"
   },
   {
    "duration": 8,
    "start_time": "2022-05-20T12:07:03.218Z"
   },
   {
    "duration": 10,
    "start_time": "2022-05-20T12:07:03.227Z"
   },
   {
    "duration": 16,
    "start_time": "2022-05-20T12:07:03.239Z"
   },
   {
    "duration": 23,
    "start_time": "2022-05-20T12:07:03.257Z"
   },
   {
    "duration": 8,
    "start_time": "2022-05-20T12:07:03.281Z"
   },
   {
    "duration": 13,
    "start_time": "2022-05-20T12:07:03.290Z"
   },
   {
    "duration": 20,
    "start_time": "2022-05-20T12:07:03.304Z"
   },
   {
    "duration": 7,
    "start_time": "2022-05-20T12:07:03.326Z"
   },
   {
    "duration": 17,
    "start_time": "2022-05-20T12:07:03.334Z"
   },
   {
    "duration": 18,
    "start_time": "2022-05-20T12:07:03.353Z"
   },
   {
    "duration": 34,
    "start_time": "2022-05-20T12:07:03.373Z"
   },
   {
    "duration": 14,
    "start_time": "2022-05-20T12:07:03.409Z"
   },
   {
    "duration": 28,
    "start_time": "2022-05-20T12:07:03.425Z"
   },
   {
    "duration": 14,
    "start_time": "2022-05-20T12:07:03.461Z"
   },
   {
    "duration": 26,
    "start_time": "2022-05-20T12:07:03.477Z"
   },
   {
    "duration": 20,
    "start_time": "2022-05-20T12:07:03.505Z"
   },
   {
    "duration": 35,
    "start_time": "2022-05-20T12:07:03.526Z"
   },
   {
    "duration": 21,
    "start_time": "2022-05-20T12:07:03.562Z"
   },
   {
    "duration": 43,
    "start_time": "2022-05-20T12:07:03.585Z"
   },
   {
    "duration": 11,
    "start_time": "2022-05-20T12:07:03.630Z"
   },
   {
    "duration": 27,
    "start_time": "2022-05-20T12:07:03.642Z"
   },
   {
    "duration": 6,
    "start_time": "2022-05-20T12:07:03.671Z"
   },
   {
    "duration": 8,
    "start_time": "2022-05-20T12:07:03.678Z"
   },
   {
    "duration": 31,
    "start_time": "2022-05-20T12:07:03.688Z"
   },
   {
    "duration": 20,
    "start_time": "2022-05-20T12:07:03.721Z"
   },
   {
    "duration": 7,
    "start_time": "2022-05-20T12:07:03.743Z"
   },
   {
    "duration": 13,
    "start_time": "2022-05-20T12:07:03.751Z"
   },
   {
    "duration": 46,
    "start_time": "2022-05-20T12:07:03.766Z"
   },
   {
    "duration": 530,
    "start_time": "2022-05-20T12:09:41.518Z"
   },
   {
    "duration": 13,
    "start_time": "2022-05-20T12:09:42.050Z"
   },
   {
    "duration": 17,
    "start_time": "2022-05-20T12:09:42.065Z"
   },
   {
    "duration": 342,
    "start_time": "2022-05-20T12:09:42.094Z"
   },
   {
    "duration": 10,
    "start_time": "2022-05-20T12:09:42.438Z"
   },
   {
    "duration": 9,
    "start_time": "2022-05-20T12:09:42.449Z"
   },
   {
    "duration": 5,
    "start_time": "2022-05-20T12:09:42.459Z"
   },
   {
    "duration": 46,
    "start_time": "2022-05-20T12:09:42.466Z"
   },
   {
    "duration": 33,
    "start_time": "2022-05-20T12:09:42.513Z"
   },
   {
    "duration": 7,
    "start_time": "2022-05-20T12:09:42.548Z"
   },
   {
    "duration": 9,
    "start_time": "2022-05-20T12:09:42.557Z"
   },
   {
    "duration": 41,
    "start_time": "2022-05-20T12:09:42.568Z"
   },
   {
    "duration": 7,
    "start_time": "2022-05-20T12:09:42.611Z"
   },
   {
    "duration": 9,
    "start_time": "2022-05-20T12:09:42.621Z"
   },
   {
    "duration": 5,
    "start_time": "2022-05-20T12:09:42.631Z"
   },
   {
    "duration": 18,
    "start_time": "2022-05-20T12:09:42.638Z"
   },
   {
    "duration": 59,
    "start_time": "2022-05-20T12:09:42.658Z"
   },
   {
    "duration": 14,
    "start_time": "2022-05-20T12:09:42.719Z"
   },
   {
    "duration": 175,
    "start_time": "2022-05-20T12:09:42.735Z"
   },
   {
    "duration": 260,
    "start_time": "2022-05-20T12:09:42.912Z"
   },
   {
    "duration": 7,
    "start_time": "2022-05-20T12:09:43.174Z"
   },
   {
    "duration": 26,
    "start_time": "2022-05-20T12:09:43.182Z"
   },
   {
    "duration": 8,
    "start_time": "2022-05-20T12:09:43.210Z"
   },
   {
    "duration": 13,
    "start_time": "2022-05-20T12:09:43.219Z"
   },
   {
    "duration": 4,
    "start_time": "2022-05-20T12:09:43.234Z"
   },
   {
    "duration": 220,
    "start_time": "2022-05-20T12:09:43.239Z"
   },
   {
    "duration": 5,
    "start_time": "2022-05-20T12:09:43.461Z"
   },
   {
    "duration": 7,
    "start_time": "2022-05-20T12:09:43.468Z"
   },
   {
    "duration": 32,
    "start_time": "2022-05-20T12:09:43.477Z"
   },
   {
    "duration": 10,
    "start_time": "2022-05-20T12:09:43.511Z"
   },
   {
    "duration": 13,
    "start_time": "2022-05-20T12:09:43.522Z"
   },
   {
    "duration": 12,
    "start_time": "2022-05-20T12:09:43.537Z"
   },
   {
    "duration": 293,
    "start_time": "2022-05-20T12:09:43.550Z"
   },
   {
    "duration": 10,
    "start_time": "2022-05-20T12:09:43.845Z"
   },
   {
    "duration": 5,
    "start_time": "2022-05-20T12:09:43.857Z"
   },
   {
    "duration": 9,
    "start_time": "2022-05-20T12:09:43.864Z"
   },
   {
    "duration": 34,
    "start_time": "2022-05-20T12:09:43.875Z"
   },
   {
    "duration": 0,
    "start_time": "2022-05-20T12:09:43.912Z"
   },
   {
    "duration": 0,
    "start_time": "2022-05-20T12:09:43.913Z"
   },
   {
    "duration": 0,
    "start_time": "2022-05-20T12:09:43.915Z"
   },
   {
    "duration": 0,
    "start_time": "2022-05-20T12:09:43.916Z"
   },
   {
    "duration": 0,
    "start_time": "2022-05-20T12:09:43.917Z"
   },
   {
    "duration": 0,
    "start_time": "2022-05-20T12:09:43.918Z"
   },
   {
    "duration": 0,
    "start_time": "2022-05-20T12:09:43.920Z"
   },
   {
    "duration": 0,
    "start_time": "2022-05-20T12:09:43.920Z"
   },
   {
    "duration": 0,
    "start_time": "2022-05-20T12:09:43.921Z"
   },
   {
    "duration": 0,
    "start_time": "2022-05-20T12:09:43.922Z"
   },
   {
    "duration": 0,
    "start_time": "2022-05-20T12:09:43.923Z"
   },
   {
    "duration": 0,
    "start_time": "2022-05-20T12:09:43.924Z"
   },
   {
    "duration": 0,
    "start_time": "2022-05-20T12:09:43.925Z"
   },
   {
    "duration": 0,
    "start_time": "2022-05-20T12:09:43.926Z"
   },
   {
    "duration": 0,
    "start_time": "2022-05-20T12:09:43.927Z"
   },
   {
    "duration": 0,
    "start_time": "2022-05-20T12:09:43.928Z"
   },
   {
    "duration": 0,
    "start_time": "2022-05-20T12:09:43.929Z"
   },
   {
    "duration": 0,
    "start_time": "2022-05-20T12:09:43.930Z"
   },
   {
    "duration": 0,
    "start_time": "2022-05-20T12:09:43.931Z"
   },
   {
    "duration": 0,
    "start_time": "2022-05-20T12:09:43.932Z"
   },
   {
    "duration": 0,
    "start_time": "2022-05-20T12:09:43.933Z"
   },
   {
    "duration": 0,
    "start_time": "2022-05-20T12:09:43.934Z"
   },
   {
    "duration": 0,
    "start_time": "2022-05-20T12:09:43.935Z"
   },
   {
    "duration": 0,
    "start_time": "2022-05-20T12:09:43.935Z"
   },
   {
    "duration": 0,
    "start_time": "2022-05-20T12:09:43.937Z"
   },
   {
    "duration": 0,
    "start_time": "2022-05-20T12:09:43.938Z"
   },
   {
    "duration": 0,
    "start_time": "2022-05-20T12:09:43.939Z"
   },
   {
    "duration": 0,
    "start_time": "2022-05-20T12:09:43.940Z"
   },
   {
    "duration": 0,
    "start_time": "2022-05-20T12:09:43.941Z"
   },
   {
    "duration": 0,
    "start_time": "2022-05-20T12:09:43.942Z"
   },
   {
    "duration": 0,
    "start_time": "2022-05-20T12:09:43.943Z"
   },
   {
    "duration": 0,
    "start_time": "2022-05-20T12:09:43.944Z"
   },
   {
    "duration": 0,
    "start_time": "2022-05-20T12:09:43.945Z"
   },
   {
    "duration": 0,
    "start_time": "2022-05-20T12:09:43.946Z"
   },
   {
    "duration": 0,
    "start_time": "2022-05-20T12:09:43.947Z"
   },
   {
    "duration": 0,
    "start_time": "2022-05-20T12:09:43.948Z"
   },
   {
    "duration": 0,
    "start_time": "2022-05-20T12:09:44.002Z"
   },
   {
    "duration": 0,
    "start_time": "2022-05-20T12:09:44.002Z"
   },
   {
    "duration": 0,
    "start_time": "2022-05-20T12:09:44.003Z"
   },
   {
    "duration": 523,
    "start_time": "2022-05-20T12:10:19.615Z"
   },
   {
    "duration": 20,
    "start_time": "2022-05-20T12:10:20.141Z"
   },
   {
    "duration": 48,
    "start_time": "2022-05-20T12:10:20.163Z"
   },
   {
    "duration": 394,
    "start_time": "2022-05-20T12:10:20.216Z"
   },
   {
    "duration": 10,
    "start_time": "2022-05-20T12:10:20.612Z"
   },
   {
    "duration": 15,
    "start_time": "2022-05-20T12:10:20.624Z"
   },
   {
    "duration": 11,
    "start_time": "2022-05-20T12:10:20.641Z"
   },
   {
    "duration": 21,
    "start_time": "2022-05-20T12:10:20.653Z"
   },
   {
    "duration": 54,
    "start_time": "2022-05-20T12:10:20.675Z"
   },
   {
    "duration": 7,
    "start_time": "2022-05-20T12:10:20.731Z"
   },
   {
    "duration": 5,
    "start_time": "2022-05-20T12:10:20.740Z"
   },
   {
    "duration": 9,
    "start_time": "2022-05-20T12:10:20.747Z"
   },
   {
    "duration": 39,
    "start_time": "2022-05-20T12:10:20.758Z"
   },
   {
    "duration": 21,
    "start_time": "2022-05-20T12:10:20.802Z"
   },
   {
    "duration": 7,
    "start_time": "2022-05-20T12:10:20.825Z"
   },
   {
    "duration": 32,
    "start_time": "2022-05-20T12:10:20.834Z"
   },
   {
    "duration": 46,
    "start_time": "2022-05-20T12:10:20.867Z"
   },
   {
    "duration": 15,
    "start_time": "2022-05-20T12:10:20.914Z"
   },
   {
    "duration": 154,
    "start_time": "2022-05-20T12:10:20.931Z"
   },
   {
    "duration": 287,
    "start_time": "2022-05-20T12:10:21.087Z"
   },
   {
    "duration": 6,
    "start_time": "2022-05-20T12:10:21.376Z"
   },
   {
    "duration": 32,
    "start_time": "2022-05-20T12:10:21.383Z"
   },
   {
    "duration": 8,
    "start_time": "2022-05-20T12:10:21.417Z"
   },
   {
    "duration": 18,
    "start_time": "2022-05-20T12:10:21.428Z"
   },
   {
    "duration": 6,
    "start_time": "2022-05-20T12:10:21.448Z"
   },
   {
    "duration": 227,
    "start_time": "2022-05-20T12:10:21.456Z"
   },
   {
    "duration": 10,
    "start_time": "2022-05-20T12:10:21.685Z"
   },
   {
    "duration": 6,
    "start_time": "2022-05-20T12:10:21.707Z"
   },
   {
    "duration": 16,
    "start_time": "2022-05-20T12:10:21.714Z"
   },
   {
    "duration": 10,
    "start_time": "2022-05-20T12:10:21.732Z"
   },
   {
    "duration": 14,
    "start_time": "2022-05-20T12:10:21.743Z"
   },
   {
    "duration": 53,
    "start_time": "2022-05-20T12:10:21.758Z"
   },
   {
    "duration": 274,
    "start_time": "2022-05-20T12:10:21.813Z"
   },
   {
    "duration": 26,
    "start_time": "2022-05-20T12:10:22.089Z"
   },
   {
    "duration": 5,
    "start_time": "2022-05-20T12:10:22.117Z"
   },
   {
    "duration": 7,
    "start_time": "2022-05-20T12:10:22.124Z"
   },
   {
    "duration": 3,
    "start_time": "2022-05-20T12:10:22.133Z"
   },
   {
    "duration": 0,
    "start_time": "2022-05-20T12:10:22.138Z"
   },
   {
    "duration": 0,
    "start_time": "2022-05-20T12:10:22.139Z"
   },
   {
    "duration": 0,
    "start_time": "2022-05-20T12:10:22.140Z"
   },
   {
    "duration": 0,
    "start_time": "2022-05-20T12:10:22.142Z"
   },
   {
    "duration": 0,
    "start_time": "2022-05-20T12:10:22.143Z"
   },
   {
    "duration": 0,
    "start_time": "2022-05-20T12:10:22.144Z"
   },
   {
    "duration": 0,
    "start_time": "2022-05-20T12:10:22.145Z"
   },
   {
    "duration": 0,
    "start_time": "2022-05-20T12:10:22.146Z"
   },
   {
    "duration": 0,
    "start_time": "2022-05-20T12:10:22.147Z"
   },
   {
    "duration": 0,
    "start_time": "2022-05-20T12:10:22.148Z"
   },
   {
    "duration": 0,
    "start_time": "2022-05-20T12:10:22.149Z"
   },
   {
    "duration": 0,
    "start_time": "2022-05-20T12:10:22.149Z"
   },
   {
    "duration": 0,
    "start_time": "2022-05-20T12:10:22.150Z"
   },
   {
    "duration": 0,
    "start_time": "2022-05-20T12:10:22.151Z"
   },
   {
    "duration": 0,
    "start_time": "2022-05-20T12:10:22.152Z"
   },
   {
    "duration": 0,
    "start_time": "2022-05-20T12:10:22.153Z"
   },
   {
    "duration": 0,
    "start_time": "2022-05-20T12:10:22.154Z"
   },
   {
    "duration": 0,
    "start_time": "2022-05-20T12:10:22.155Z"
   },
   {
    "duration": 0,
    "start_time": "2022-05-20T12:10:22.155Z"
   },
   {
    "duration": 0,
    "start_time": "2022-05-20T12:10:22.156Z"
   },
   {
    "duration": 0,
    "start_time": "2022-05-20T12:10:22.157Z"
   },
   {
    "duration": 0,
    "start_time": "2022-05-20T12:10:22.158Z"
   },
   {
    "duration": 0,
    "start_time": "2022-05-20T12:10:22.194Z"
   },
   {
    "duration": 0,
    "start_time": "2022-05-20T12:10:22.195Z"
   },
   {
    "duration": 0,
    "start_time": "2022-05-20T12:10:22.202Z"
   },
   {
    "duration": 0,
    "start_time": "2022-05-20T12:10:22.204Z"
   },
   {
    "duration": 0,
    "start_time": "2022-05-20T12:10:22.205Z"
   },
   {
    "duration": 0,
    "start_time": "2022-05-20T12:10:22.208Z"
   },
   {
    "duration": 0,
    "start_time": "2022-05-20T12:10:22.209Z"
   },
   {
    "duration": 0,
    "start_time": "2022-05-20T12:10:22.209Z"
   },
   {
    "duration": 0,
    "start_time": "2022-05-20T12:10:22.210Z"
   },
   {
    "duration": 0,
    "start_time": "2022-05-20T12:10:22.211Z"
   },
   {
    "duration": 0,
    "start_time": "2022-05-20T12:10:22.212Z"
   },
   {
    "duration": 0,
    "start_time": "2022-05-20T12:10:22.214Z"
   },
   {
    "duration": 0,
    "start_time": "2022-05-20T12:10:22.215Z"
   },
   {
    "duration": 0,
    "start_time": "2022-05-20T12:10:22.217Z"
   },
   {
    "duration": 0,
    "start_time": "2022-05-20T12:10:22.218Z"
   },
   {
    "duration": 0,
    "start_time": "2022-05-20T12:10:22.220Z"
   },
   {
    "duration": 0,
    "start_time": "2022-05-20T12:10:22.221Z"
   },
   {
    "duration": 600,
    "start_time": "2022-05-20T12:11:28.081Z"
   },
   {
    "duration": 27,
    "start_time": "2022-05-20T12:11:28.683Z"
   },
   {
    "duration": 18,
    "start_time": "2022-05-20T12:11:28.711Z"
   },
   {
    "duration": 336,
    "start_time": "2022-05-20T12:11:28.731Z"
   },
   {
    "duration": 10,
    "start_time": "2022-05-20T12:11:29.069Z"
   },
   {
    "duration": 28,
    "start_time": "2022-05-20T12:11:29.080Z"
   },
   {
    "duration": 13,
    "start_time": "2022-05-20T12:11:29.110Z"
   },
   {
    "duration": 20,
    "start_time": "2022-05-20T12:11:29.125Z"
   },
   {
    "duration": 35,
    "start_time": "2022-05-20T12:11:29.147Z"
   },
   {
    "duration": 9,
    "start_time": "2022-05-20T12:11:29.199Z"
   },
   {
    "duration": 14,
    "start_time": "2022-05-20T12:11:29.209Z"
   },
   {
    "duration": 17,
    "start_time": "2022-05-20T12:11:29.224Z"
   },
   {
    "duration": 9,
    "start_time": "2022-05-20T12:11:29.243Z"
   },
   {
    "duration": 13,
    "start_time": "2022-05-20T12:11:29.256Z"
   },
   {
    "duration": 14,
    "start_time": "2022-05-20T12:11:29.271Z"
   },
   {
    "duration": 42,
    "start_time": "2022-05-20T12:11:29.287Z"
   },
   {
    "duration": 32,
    "start_time": "2022-05-20T12:11:29.331Z"
   },
   {
    "duration": 16,
    "start_time": "2022-05-20T12:11:29.365Z"
   },
   {
    "duration": 186,
    "start_time": "2022-05-20T12:11:29.383Z"
   },
   {
    "duration": 266,
    "start_time": "2022-05-20T12:11:29.570Z"
   },
   {
    "duration": 6,
    "start_time": "2022-05-20T12:11:29.837Z"
   },
   {
    "duration": 20,
    "start_time": "2022-05-20T12:11:29.845Z"
   },
   {
    "duration": 12,
    "start_time": "2022-05-20T12:11:29.866Z"
   },
   {
    "duration": 27,
    "start_time": "2022-05-20T12:11:29.879Z"
   },
   {
    "duration": 8,
    "start_time": "2022-05-20T12:11:29.908Z"
   },
   {
    "duration": 206,
    "start_time": "2022-05-20T12:11:29.918Z"
   },
   {
    "duration": 7,
    "start_time": "2022-05-20T12:11:30.126Z"
   },
   {
    "duration": 8,
    "start_time": "2022-05-20T12:11:30.134Z"
   },
   {
    "duration": 17,
    "start_time": "2022-05-20T12:11:30.144Z"
   },
   {
    "duration": 41,
    "start_time": "2022-05-20T12:11:30.163Z"
   },
   {
    "duration": 15,
    "start_time": "2022-05-20T12:11:30.210Z"
   },
   {
    "duration": 21,
    "start_time": "2022-05-20T12:11:30.227Z"
   },
   {
    "duration": 283,
    "start_time": "2022-05-20T12:11:30.250Z"
   },
   {
    "duration": 11,
    "start_time": "2022-05-20T12:11:30.535Z"
   },
   {
    "duration": 14,
    "start_time": "2022-05-20T12:11:30.549Z"
   },
   {
    "duration": 17,
    "start_time": "2022-05-20T12:11:30.565Z"
   },
   {
    "duration": 16,
    "start_time": "2022-05-20T12:11:30.584Z"
   },
   {
    "duration": 25,
    "start_time": "2022-05-20T12:11:30.602Z"
   },
   {
    "duration": 33,
    "start_time": "2022-05-20T12:11:30.629Z"
   },
   {
    "duration": 13,
    "start_time": "2022-05-20T12:11:30.664Z"
   },
   {
    "duration": 24,
    "start_time": "2022-05-20T12:11:30.682Z"
   },
   {
    "duration": 28,
    "start_time": "2022-05-20T12:11:30.709Z"
   },
   {
    "duration": 15,
    "start_time": "2022-05-20T12:11:30.738Z"
   },
   {
    "duration": 23,
    "start_time": "2022-05-20T12:11:30.755Z"
   },
   {
    "duration": 19,
    "start_time": "2022-05-20T12:11:30.780Z"
   },
   {
    "duration": 27,
    "start_time": "2022-05-20T12:11:30.801Z"
   },
   {
    "duration": 19,
    "start_time": "2022-05-20T12:11:30.829Z"
   },
   {
    "duration": 27,
    "start_time": "2022-05-20T12:11:30.849Z"
   },
   {
    "duration": 8,
    "start_time": "2022-05-20T12:11:30.878Z"
   },
   {
    "duration": 36,
    "start_time": "2022-05-20T12:11:30.888Z"
   },
   {
    "duration": 6,
    "start_time": "2022-05-20T12:11:30.926Z"
   },
   {
    "duration": 20,
    "start_time": "2022-05-20T12:11:30.934Z"
   },
   {
    "duration": 15,
    "start_time": "2022-05-20T12:11:30.956Z"
   },
   {
    "duration": 40,
    "start_time": "2022-05-20T12:11:30.973Z"
   },
   {
    "duration": 23,
    "start_time": "2022-05-20T12:11:31.015Z"
   },
   {
    "duration": 17,
    "start_time": "2022-05-20T12:11:31.040Z"
   },
   {
    "duration": 20,
    "start_time": "2022-05-20T12:11:31.059Z"
   },
   {
    "duration": 24,
    "start_time": "2022-05-20T12:11:31.081Z"
   },
   {
    "duration": 10,
    "start_time": "2022-05-20T12:11:31.107Z"
   },
   {
    "duration": 29,
    "start_time": "2022-05-20T12:11:31.119Z"
   },
   {
    "duration": 56,
    "start_time": "2022-05-20T12:11:31.150Z"
   },
   {
    "duration": 30,
    "start_time": "2022-05-20T12:11:31.208Z"
   },
   {
    "duration": 13,
    "start_time": "2022-05-20T12:11:31.240Z"
   },
   {
    "duration": 20,
    "start_time": "2022-05-20T12:11:31.254Z"
   },
   {
    "duration": 33,
    "start_time": "2022-05-20T12:11:31.276Z"
   },
   {
    "duration": 13,
    "start_time": "2022-05-20T12:11:31.311Z"
   },
   {
    "duration": 27,
    "start_time": "2022-05-20T12:11:31.325Z"
   },
   {
    "duration": 22,
    "start_time": "2022-05-20T12:11:31.354Z"
   },
   {
    "duration": 47,
    "start_time": "2022-05-20T12:11:31.378Z"
   },
   {
    "duration": 5,
    "start_time": "2022-05-20T12:11:31.427Z"
   },
   {
    "duration": 11,
    "start_time": "2022-05-20T12:11:31.434Z"
   },
   {
    "duration": 31,
    "start_time": "2022-05-20T12:11:31.447Z"
   },
   {
    "duration": 31,
    "start_time": "2022-05-20T12:11:31.479Z"
   },
   {
    "duration": 8,
    "start_time": "2022-05-20T12:11:31.512Z"
   },
   {
    "duration": 18,
    "start_time": "2022-05-20T12:11:31.522Z"
   },
   {
    "duration": 20,
    "start_time": "2022-05-20T12:11:31.541Z"
   },
   {
    "duration": 518,
    "start_time": "2022-05-20T12:15:04.033Z"
   },
   {
    "duration": 15,
    "start_time": "2022-05-20T12:15:04.553Z"
   },
   {
    "duration": 30,
    "start_time": "2022-05-20T12:15:04.569Z"
   },
   {
    "duration": 349,
    "start_time": "2022-05-20T12:15:04.601Z"
   },
   {
    "duration": 11,
    "start_time": "2022-05-20T12:15:04.952Z"
   },
   {
    "duration": 12,
    "start_time": "2022-05-20T12:15:04.965Z"
   },
   {
    "duration": 16,
    "start_time": "2022-05-20T12:15:04.994Z"
   },
   {
    "duration": 26,
    "start_time": "2022-05-20T12:15:05.012Z"
   },
   {
    "duration": 35,
    "start_time": "2022-05-20T12:15:05.040Z"
   },
   {
    "duration": 22,
    "start_time": "2022-05-20T12:15:05.077Z"
   },
   {
    "duration": 8,
    "start_time": "2022-05-20T12:15:05.101Z"
   },
   {
    "duration": 11,
    "start_time": "2022-05-20T12:15:05.110Z"
   },
   {
    "duration": 7,
    "start_time": "2022-05-20T12:15:05.123Z"
   },
   {
    "duration": 10,
    "start_time": "2022-05-20T12:15:05.133Z"
   },
   {
    "duration": 6,
    "start_time": "2022-05-20T12:15:05.144Z"
   },
   {
    "duration": 21,
    "start_time": "2022-05-20T12:15:05.151Z"
   },
   {
    "duration": 39,
    "start_time": "2022-05-20T12:15:05.200Z"
   },
   {
    "duration": 14,
    "start_time": "2022-05-20T12:15:05.240Z"
   },
   {
    "duration": 168,
    "start_time": "2022-05-20T12:15:05.256Z"
   },
   {
    "duration": 289,
    "start_time": "2022-05-20T12:15:05.426Z"
   },
   {
    "duration": 6,
    "start_time": "2022-05-20T12:15:05.716Z"
   },
   {
    "duration": 12,
    "start_time": "2022-05-20T12:15:05.724Z"
   },
   {
    "duration": 11,
    "start_time": "2022-05-20T12:15:05.738Z"
   },
   {
    "duration": 60,
    "start_time": "2022-05-20T12:15:05.750Z"
   },
   {
    "duration": 9,
    "start_time": "2022-05-20T12:15:05.812Z"
   },
   {
    "duration": 218,
    "start_time": "2022-05-20T12:15:05.823Z"
   },
   {
    "duration": 5,
    "start_time": "2022-05-20T12:15:06.043Z"
   },
   {
    "duration": 22,
    "start_time": "2022-05-20T12:15:06.049Z"
   },
   {
    "duration": 36,
    "start_time": "2022-05-20T12:15:06.073Z"
   },
   {
    "duration": 19,
    "start_time": "2022-05-20T12:15:06.111Z"
   },
   {
    "duration": 29,
    "start_time": "2022-05-20T12:15:06.131Z"
   },
   {
    "duration": 12,
    "start_time": "2022-05-20T12:15:06.162Z"
   },
   {
    "duration": 269,
    "start_time": "2022-05-20T12:15:06.176Z"
   },
   {
    "duration": 9,
    "start_time": "2022-05-20T12:15:06.447Z"
   },
   {
    "duration": 4,
    "start_time": "2022-05-20T12:15:06.458Z"
   },
   {
    "duration": 13,
    "start_time": "2022-05-20T12:15:06.463Z"
   },
   {
    "duration": 26,
    "start_time": "2022-05-20T12:15:06.478Z"
   },
   {
    "duration": 8,
    "start_time": "2022-05-20T12:15:06.507Z"
   },
   {
    "duration": 9,
    "start_time": "2022-05-20T12:15:06.517Z"
   },
   {
    "duration": 12,
    "start_time": "2022-05-20T12:15:06.527Z"
   },
   {
    "duration": 14,
    "start_time": "2022-05-20T12:15:06.543Z"
   },
   {
    "duration": 40,
    "start_time": "2022-05-20T12:15:06.559Z"
   },
   {
    "duration": 16,
    "start_time": "2022-05-20T12:15:06.601Z"
   },
   {
    "duration": 13,
    "start_time": "2022-05-20T12:15:06.618Z"
   },
   {
    "duration": 7,
    "start_time": "2022-05-20T12:15:06.632Z"
   },
   {
    "duration": 7,
    "start_time": "2022-05-20T12:15:06.641Z"
   },
   {
    "duration": 8,
    "start_time": "2022-05-20T12:15:06.650Z"
   },
   {
    "duration": 44,
    "start_time": "2022-05-20T12:15:06.660Z"
   },
   {
    "duration": 7,
    "start_time": "2022-05-20T12:15:06.706Z"
   },
   {
    "duration": 10,
    "start_time": "2022-05-20T12:15:06.715Z"
   },
   {
    "duration": 15,
    "start_time": "2022-05-20T12:15:06.726Z"
   },
   {
    "duration": 15,
    "start_time": "2022-05-20T12:15:06.742Z"
   },
   {
    "duration": 8,
    "start_time": "2022-05-20T12:15:06.758Z"
   },
   {
    "duration": 9,
    "start_time": "2022-05-20T12:15:06.767Z"
   },
   {
    "duration": 31,
    "start_time": "2022-05-20T12:15:06.777Z"
   },
   {
    "duration": 7,
    "start_time": "2022-05-20T12:15:06.810Z"
   },
   {
    "duration": 19,
    "start_time": "2022-05-20T12:15:06.819Z"
   },
   {
    "duration": 19,
    "start_time": "2022-05-20T12:15:06.840Z"
   },
   {
    "duration": 5,
    "start_time": "2022-05-20T12:15:06.861Z"
   },
   {
    "duration": 46,
    "start_time": "2022-05-20T12:15:06.868Z"
   },
   {
    "duration": 20,
    "start_time": "2022-05-20T12:15:06.916Z"
   },
   {
    "duration": 12,
    "start_time": "2022-05-20T12:15:06.937Z"
   },
   {
    "duration": 12,
    "start_time": "2022-05-20T12:15:06.951Z"
   },
   {
    "duration": 44,
    "start_time": "2022-05-20T12:15:06.965Z"
   },
   {
    "duration": 23,
    "start_time": "2022-05-20T12:15:07.012Z"
   },
   {
    "duration": 11,
    "start_time": "2022-05-20T12:15:07.036Z"
   },
   {
    "duration": 25,
    "start_time": "2022-05-20T12:15:07.049Z"
   },
   {
    "duration": 29,
    "start_time": "2022-05-20T12:15:07.076Z"
   },
   {
    "duration": 26,
    "start_time": "2022-05-20T12:15:07.107Z"
   },
   {
    "duration": 6,
    "start_time": "2022-05-20T12:15:07.135Z"
   },
   {
    "duration": 26,
    "start_time": "2022-05-20T12:15:07.143Z"
   },
   {
    "duration": 34,
    "start_time": "2022-05-20T12:15:07.171Z"
   },
   {
    "duration": 41,
    "start_time": "2022-05-20T12:15:07.209Z"
   },
   {
    "duration": 8,
    "start_time": "2022-05-20T12:15:07.252Z"
   },
   {
    "duration": 22,
    "start_time": "2022-05-20T12:15:07.262Z"
   },
   {
    "duration": 35,
    "start_time": "2022-05-20T12:15:07.286Z"
   },
   {
    "duration": 584,
    "start_time": "2022-05-20T12:16:58.471Z"
   },
   {
    "duration": 14,
    "start_time": "2022-05-20T12:16:59.056Z"
   },
   {
    "duration": 32,
    "start_time": "2022-05-20T12:16:59.071Z"
   },
   {
    "duration": 323,
    "start_time": "2022-05-20T12:16:59.108Z"
   },
   {
    "duration": 11,
    "start_time": "2022-05-20T12:16:59.432Z"
   },
   {
    "duration": 11,
    "start_time": "2022-05-20T12:16:59.444Z"
   },
   {
    "duration": 6,
    "start_time": "2022-05-20T12:16:59.456Z"
   },
   {
    "duration": 54,
    "start_time": "2022-05-20T12:16:59.463Z"
   },
   {
    "duration": 33,
    "start_time": "2022-05-20T12:16:59.519Z"
   },
   {
    "duration": 7,
    "start_time": "2022-05-20T12:16:59.555Z"
   },
   {
    "duration": 7,
    "start_time": "2022-05-20T12:16:59.564Z"
   },
   {
    "duration": 9,
    "start_time": "2022-05-20T12:16:59.572Z"
   },
   {
    "duration": 33,
    "start_time": "2022-05-20T12:16:59.582Z"
   },
   {
    "duration": 10,
    "start_time": "2022-05-20T12:16:59.617Z"
   },
   {
    "duration": 8,
    "start_time": "2022-05-20T12:16:59.629Z"
   },
   {
    "duration": 28,
    "start_time": "2022-05-20T12:16:59.639Z"
   },
   {
    "duration": 43,
    "start_time": "2022-05-20T12:16:59.669Z"
   },
   {
    "duration": 15,
    "start_time": "2022-05-20T12:16:59.714Z"
   },
   {
    "duration": 176,
    "start_time": "2022-05-20T12:16:59.731Z"
   },
   {
    "duration": 267,
    "start_time": "2022-05-20T12:16:59.909Z"
   },
   {
    "duration": 6,
    "start_time": "2022-05-20T12:17:00.178Z"
   },
   {
    "duration": 49,
    "start_time": "2022-05-20T12:17:00.186Z"
   },
   {
    "duration": 16,
    "start_time": "2022-05-20T12:17:00.237Z"
   },
   {
    "duration": 29,
    "start_time": "2022-05-20T12:17:00.255Z"
   },
   {
    "duration": 6,
    "start_time": "2022-05-20T12:17:00.286Z"
   },
   {
    "duration": 239,
    "start_time": "2022-05-20T12:17:00.294Z"
   },
   {
    "duration": 6,
    "start_time": "2022-05-20T12:17:00.534Z"
   },
   {
    "duration": 24,
    "start_time": "2022-05-20T12:17:00.544Z"
   },
   {
    "duration": 25,
    "start_time": "2022-05-20T12:17:00.569Z"
   },
   {
    "duration": 15,
    "start_time": "2022-05-20T12:17:00.604Z"
   },
   {
    "duration": 20,
    "start_time": "2022-05-20T12:17:00.621Z"
   },
   {
    "duration": 15,
    "start_time": "2022-05-20T12:17:00.643Z"
   },
   {
    "duration": 313,
    "start_time": "2022-05-20T12:17:00.659Z"
   },
   {
    "duration": 9,
    "start_time": "2022-05-20T12:17:00.974Z"
   },
   {
    "duration": 24,
    "start_time": "2022-05-20T12:17:00.994Z"
   },
   {
    "duration": 24,
    "start_time": "2022-05-20T12:17:01.019Z"
   },
   {
    "duration": 116,
    "start_time": "2022-05-20T12:17:01.044Z"
   },
   {
    "duration": 1,
    "start_time": "2022-05-20T12:17:01.161Z"
   },
   {
    "duration": 0,
    "start_time": "2022-05-20T12:17:01.163Z"
   },
   {
    "duration": 0,
    "start_time": "2022-05-20T12:17:01.164Z"
   },
   {
    "duration": 0,
    "start_time": "2022-05-20T12:17:01.165Z"
   },
   {
    "duration": 0,
    "start_time": "2022-05-20T12:17:01.167Z"
   },
   {
    "duration": 0,
    "start_time": "2022-05-20T12:17:01.168Z"
   },
   {
    "duration": 0,
    "start_time": "2022-05-20T12:17:01.169Z"
   },
   {
    "duration": 0,
    "start_time": "2022-05-20T12:17:01.170Z"
   },
   {
    "duration": 0,
    "start_time": "2022-05-20T12:17:01.172Z"
   },
   {
    "duration": 0,
    "start_time": "2022-05-20T12:17:01.173Z"
   },
   {
    "duration": 0,
    "start_time": "2022-05-20T12:17:01.200Z"
   },
   {
    "duration": 0,
    "start_time": "2022-05-20T12:17:01.202Z"
   },
   {
    "duration": 0,
    "start_time": "2022-05-20T12:17:01.203Z"
   },
   {
    "duration": 0,
    "start_time": "2022-05-20T12:17:01.203Z"
   },
   {
    "duration": 0,
    "start_time": "2022-05-20T12:17:01.204Z"
   },
   {
    "duration": 0,
    "start_time": "2022-05-20T12:17:01.205Z"
   },
   {
    "duration": 0,
    "start_time": "2022-05-20T12:17:01.206Z"
   },
   {
    "duration": 0,
    "start_time": "2022-05-20T12:17:01.206Z"
   },
   {
    "duration": 0,
    "start_time": "2022-05-20T12:17:01.207Z"
   },
   {
    "duration": 0,
    "start_time": "2022-05-20T12:17:01.208Z"
   },
   {
    "duration": 0,
    "start_time": "2022-05-20T12:17:01.208Z"
   },
   {
    "duration": 0,
    "start_time": "2022-05-20T12:17:01.209Z"
   },
   {
    "duration": 0,
    "start_time": "2022-05-20T12:17:01.209Z"
   },
   {
    "duration": 0,
    "start_time": "2022-05-20T12:17:01.210Z"
   },
   {
    "duration": 0,
    "start_time": "2022-05-20T12:17:01.211Z"
   },
   {
    "duration": 0,
    "start_time": "2022-05-20T12:17:01.211Z"
   },
   {
    "duration": 0,
    "start_time": "2022-05-20T12:17:01.212Z"
   },
   {
    "duration": 0,
    "start_time": "2022-05-20T12:17:01.216Z"
   },
   {
    "duration": 0,
    "start_time": "2022-05-20T12:17:01.218Z"
   },
   {
    "duration": 0,
    "start_time": "2022-05-20T12:17:01.218Z"
   },
   {
    "duration": 0,
    "start_time": "2022-05-20T12:17:01.220Z"
   },
   {
    "duration": 0,
    "start_time": "2022-05-20T12:17:01.222Z"
   },
   {
    "duration": 0,
    "start_time": "2022-05-20T12:17:01.223Z"
   },
   {
    "duration": 0,
    "start_time": "2022-05-20T12:17:01.224Z"
   },
   {
    "duration": 0,
    "start_time": "2022-05-20T12:17:01.225Z"
   },
   {
    "duration": 0,
    "start_time": "2022-05-20T12:17:01.226Z"
   },
   {
    "duration": 0,
    "start_time": "2022-05-20T12:17:01.227Z"
   },
   {
    "duration": 0,
    "start_time": "2022-05-20T12:17:01.229Z"
   },
   {
    "duration": 0,
    "start_time": "2022-05-20T12:17:01.230Z"
   },
   {
    "duration": 548,
    "start_time": "2022-05-20T12:17:27.915Z"
   },
   {
    "duration": 14,
    "start_time": "2022-05-20T12:17:28.465Z"
   },
   {
    "duration": 27,
    "start_time": "2022-05-20T12:17:28.481Z"
   },
   {
    "duration": 386,
    "start_time": "2022-05-20T12:17:28.510Z"
   },
   {
    "duration": 11,
    "start_time": "2022-05-20T12:17:28.899Z"
   },
   {
    "duration": 16,
    "start_time": "2022-05-20T12:17:28.912Z"
   },
   {
    "duration": 7,
    "start_time": "2022-05-20T12:17:28.930Z"
   },
   {
    "duration": 25,
    "start_time": "2022-05-20T12:17:28.944Z"
   },
   {
    "duration": 60,
    "start_time": "2022-05-20T12:17:28.970Z"
   },
   {
    "duration": 7,
    "start_time": "2022-05-20T12:17:29.032Z"
   },
   {
    "duration": 24,
    "start_time": "2022-05-20T12:17:29.040Z"
   },
   {
    "duration": 8,
    "start_time": "2022-05-20T12:17:29.066Z"
   },
   {
    "duration": 7,
    "start_time": "2022-05-20T12:17:29.075Z"
   },
   {
    "duration": 10,
    "start_time": "2022-05-20T12:17:29.095Z"
   },
   {
    "duration": 12,
    "start_time": "2022-05-20T12:17:29.107Z"
   },
   {
    "duration": 21,
    "start_time": "2022-05-20T12:17:29.121Z"
   },
   {
    "duration": 32,
    "start_time": "2022-05-20T12:17:29.144Z"
   },
   {
    "duration": 16,
    "start_time": "2022-05-20T12:17:29.205Z"
   },
   {
    "duration": 157,
    "start_time": "2022-05-20T12:17:29.222Z"
   },
   {
    "duration": 286,
    "start_time": "2022-05-20T12:17:29.381Z"
   },
   {
    "duration": 6,
    "start_time": "2022-05-20T12:17:29.669Z"
   },
   {
    "duration": 23,
    "start_time": "2022-05-20T12:17:29.676Z"
   },
   {
    "duration": 9,
    "start_time": "2022-05-20T12:17:29.701Z"
   },
   {
    "duration": 15,
    "start_time": "2022-05-20T12:17:29.712Z"
   },
   {
    "duration": 6,
    "start_time": "2022-05-20T12:17:29.729Z"
   },
   {
    "duration": 238,
    "start_time": "2022-05-20T12:17:29.737Z"
   },
   {
    "duration": 6,
    "start_time": "2022-05-20T12:17:29.977Z"
   },
   {
    "duration": 25,
    "start_time": "2022-05-20T12:17:29.984Z"
   },
   {
    "duration": 18,
    "start_time": "2022-05-20T12:17:30.010Z"
   },
   {
    "duration": 12,
    "start_time": "2022-05-20T12:17:30.030Z"
   },
   {
    "duration": 15,
    "start_time": "2022-05-20T12:17:30.044Z"
   },
   {
    "duration": 21,
    "start_time": "2022-05-20T12:17:30.061Z"
   },
   {
    "duration": 300,
    "start_time": "2022-05-20T12:17:30.084Z"
   },
   {
    "duration": 25,
    "start_time": "2022-05-20T12:17:30.386Z"
   },
   {
    "duration": 15,
    "start_time": "2022-05-20T12:17:30.413Z"
   },
   {
    "duration": 49,
    "start_time": "2022-05-20T12:17:30.429Z"
   },
   {
    "duration": 38,
    "start_time": "2022-05-20T12:17:30.480Z"
   },
   {
    "duration": 9,
    "start_time": "2022-05-20T12:17:30.520Z"
   },
   {
    "duration": 12,
    "start_time": "2022-05-20T12:17:30.531Z"
   },
   {
    "duration": 21,
    "start_time": "2022-05-20T12:17:30.545Z"
   },
   {
    "duration": 20,
    "start_time": "2022-05-20T12:17:30.570Z"
   },
   {
    "duration": 39,
    "start_time": "2022-05-20T12:17:30.592Z"
   },
   {
    "duration": 15,
    "start_time": "2022-05-20T12:17:30.633Z"
   },
   {
    "duration": 26,
    "start_time": "2022-05-20T12:17:30.649Z"
   },
   {
    "duration": 7,
    "start_time": "2022-05-20T12:17:30.677Z"
   },
   {
    "duration": 31,
    "start_time": "2022-05-20T12:17:30.685Z"
   },
   {
    "duration": 23,
    "start_time": "2022-05-20T12:17:30.717Z"
   },
   {
    "duration": 19,
    "start_time": "2022-05-20T12:17:30.742Z"
   },
   {
    "duration": 9,
    "start_time": "2022-05-20T12:17:30.763Z"
   },
   {
    "duration": 18,
    "start_time": "2022-05-20T12:17:30.774Z"
   },
   {
    "duration": 23,
    "start_time": "2022-05-20T12:17:30.794Z"
   },
   {
    "duration": 25,
    "start_time": "2022-05-20T12:17:30.819Z"
   },
   {
    "duration": 19,
    "start_time": "2022-05-20T12:17:30.845Z"
   },
   {
    "duration": 18,
    "start_time": "2022-05-20T12:17:30.866Z"
   },
   {
    "duration": 15,
    "start_time": "2022-05-20T12:17:30.886Z"
   },
   {
    "duration": 13,
    "start_time": "2022-05-20T12:17:30.907Z"
   },
   {
    "duration": 26,
    "start_time": "2022-05-20T12:17:30.921Z"
   },
   {
    "duration": 19,
    "start_time": "2022-05-20T12:17:30.949Z"
   },
   {
    "duration": 10,
    "start_time": "2022-05-20T12:17:30.969Z"
   },
   {
    "duration": 28,
    "start_time": "2022-05-20T12:17:30.981Z"
   },
   {
    "duration": 35,
    "start_time": "2022-05-20T12:17:31.011Z"
   },
   {
    "duration": 13,
    "start_time": "2022-05-20T12:17:31.047Z"
   },
   {
    "duration": 14,
    "start_time": "2022-05-20T12:17:31.062Z"
   },
   {
    "duration": 21,
    "start_time": "2022-05-20T12:17:31.078Z"
   },
   {
    "duration": 33,
    "start_time": "2022-05-20T12:17:31.101Z"
   },
   {
    "duration": 5,
    "start_time": "2022-05-20T12:17:31.136Z"
   },
   {
    "duration": 23,
    "start_time": "2022-05-20T12:17:31.142Z"
   },
   {
    "duration": 13,
    "start_time": "2022-05-20T12:17:31.167Z"
   },
   {
    "duration": 52,
    "start_time": "2022-05-20T12:17:31.182Z"
   },
   {
    "duration": 12,
    "start_time": "2022-05-20T12:17:31.236Z"
   },
   {
    "duration": 13,
    "start_time": "2022-05-20T12:17:31.250Z"
   },
   {
    "duration": 42,
    "start_time": "2022-05-20T12:17:31.265Z"
   },
   {
    "duration": 20,
    "start_time": "2022-05-20T12:17:31.308Z"
   },
   {
    "duration": 6,
    "start_time": "2022-05-20T12:17:31.330Z"
   },
   {
    "duration": 28,
    "start_time": "2022-05-20T12:17:31.338Z"
   },
   {
    "duration": 62,
    "start_time": "2022-05-20T12:17:31.368Z"
   },
   {
    "duration": 490,
    "start_time": "2022-05-20T12:20:42.035Z"
   },
   {
    "duration": 13,
    "start_time": "2022-05-20T12:20:42.527Z"
   },
   {
    "duration": 18,
    "start_time": "2022-05-20T12:20:42.542Z"
   },
   {
    "duration": 379,
    "start_time": "2022-05-20T12:20:42.561Z"
   },
   {
    "duration": 11,
    "start_time": "2022-05-20T12:20:42.943Z"
   },
   {
    "duration": 10,
    "start_time": "2022-05-20T12:20:42.955Z"
   },
   {
    "duration": 30,
    "start_time": "2022-05-20T12:20:42.966Z"
   },
   {
    "duration": 33,
    "start_time": "2022-05-20T12:20:42.998Z"
   },
   {
    "duration": 35,
    "start_time": "2022-05-20T12:20:43.033Z"
   },
   {
    "duration": 7,
    "start_time": "2022-05-20T12:20:43.070Z"
   },
   {
    "duration": 27,
    "start_time": "2022-05-20T12:20:43.079Z"
   },
   {
    "duration": 11,
    "start_time": "2022-05-20T12:20:43.108Z"
   },
   {
    "duration": 7,
    "start_time": "2022-05-20T12:20:43.121Z"
   },
   {
    "duration": 8,
    "start_time": "2022-05-20T12:20:43.131Z"
   },
   {
    "duration": 6,
    "start_time": "2022-05-20T12:20:43.141Z"
   },
   {
    "duration": 21,
    "start_time": "2022-05-20T12:20:43.148Z"
   },
   {
    "duration": 44,
    "start_time": "2022-05-20T12:20:43.194Z"
   },
   {
    "duration": 14,
    "start_time": "2022-05-20T12:20:43.240Z"
   },
   {
    "duration": 160,
    "start_time": "2022-05-20T12:20:43.255Z"
   },
   {
    "duration": 267,
    "start_time": "2022-05-20T12:20:43.418Z"
   },
   {
    "duration": 22,
    "start_time": "2022-05-20T12:20:43.687Z"
   },
   {
    "duration": 6,
    "start_time": "2022-05-20T12:20:43.711Z"
   },
   {
    "duration": 7,
    "start_time": "2022-05-20T12:20:43.719Z"
   },
   {
    "duration": 12,
    "start_time": "2022-05-20T12:20:43.728Z"
   },
   {
    "duration": 5,
    "start_time": "2022-05-20T12:20:43.741Z"
   },
   {
    "duration": 224,
    "start_time": "2022-05-20T12:20:43.747Z"
   },
   {
    "duration": 6,
    "start_time": "2022-05-20T12:20:43.973Z"
   },
   {
    "duration": 19,
    "start_time": "2022-05-20T12:20:43.980Z"
   },
   {
    "duration": 18,
    "start_time": "2022-05-20T12:20:44.001Z"
   },
   {
    "duration": 9,
    "start_time": "2022-05-20T12:20:44.021Z"
   },
   {
    "duration": 17,
    "start_time": "2022-05-20T12:20:44.032Z"
   },
   {
    "duration": 13,
    "start_time": "2022-05-20T12:20:44.050Z"
   },
   {
    "duration": 270,
    "start_time": "2022-05-20T12:20:44.064Z"
   },
   {
    "duration": 10,
    "start_time": "2022-05-20T12:20:44.335Z"
   },
   {
    "duration": 19,
    "start_time": "2022-05-20T12:20:44.346Z"
   },
   {
    "duration": 17,
    "start_time": "2022-05-20T12:20:44.366Z"
   },
   {
    "duration": 24,
    "start_time": "2022-05-20T12:20:44.385Z"
   },
   {
    "duration": 13,
    "start_time": "2022-05-20T12:20:44.411Z"
   },
   {
    "duration": 7,
    "start_time": "2022-05-20T12:20:44.425Z"
   },
   {
    "duration": 13,
    "start_time": "2022-05-20T12:20:44.433Z"
   },
   {
    "duration": 15,
    "start_time": "2022-05-20T12:20:44.450Z"
   },
   {
    "duration": 18,
    "start_time": "2022-05-20T12:20:44.466Z"
   },
   {
    "duration": 27,
    "start_time": "2022-05-20T12:20:44.486Z"
   },
   {
    "duration": 15,
    "start_time": "2022-05-20T12:20:44.515Z"
   },
   {
    "duration": 8,
    "start_time": "2022-05-20T12:20:44.532Z"
   },
   {
    "duration": 9,
    "start_time": "2022-05-20T12:20:44.542Z"
   },
   {
    "duration": 9,
    "start_time": "2022-05-20T12:20:44.552Z"
   },
   {
    "duration": 13,
    "start_time": "2022-05-20T12:20:44.563Z"
   },
   {
    "duration": 29,
    "start_time": "2022-05-20T12:20:44.578Z"
   },
   {
    "duration": 13,
    "start_time": "2022-05-20T12:20:44.608Z"
   },
   {
    "duration": 7,
    "start_time": "2022-05-20T12:20:44.622Z"
   },
   {
    "duration": 8,
    "start_time": "2022-05-20T12:20:44.631Z"
   },
   {
    "duration": 7,
    "start_time": "2022-05-20T12:20:44.641Z"
   },
   {
    "duration": 7,
    "start_time": "2022-05-20T12:20:44.650Z"
   },
   {
    "duration": 10,
    "start_time": "2022-05-20T12:20:44.659Z"
   },
   {
    "duration": 8,
    "start_time": "2022-05-20T12:20:44.700Z"
   },
   {
    "duration": 16,
    "start_time": "2022-05-20T12:20:44.709Z"
   },
   {
    "duration": 18,
    "start_time": "2022-05-20T12:20:44.727Z"
   },
   {
    "duration": 4,
    "start_time": "2022-05-20T12:20:44.747Z"
   },
   {
    "duration": 46,
    "start_time": "2022-05-20T12:20:44.753Z"
   },
   {
    "duration": 31,
    "start_time": "2022-05-20T12:20:44.800Z"
   },
   {
    "duration": 13,
    "start_time": "2022-05-20T12:20:44.833Z"
   },
   {
    "duration": 11,
    "start_time": "2022-05-20T12:20:44.848Z"
   },
   {
    "duration": 14,
    "start_time": "2022-05-20T12:20:44.861Z"
   },
   {
    "duration": 45,
    "start_time": "2022-05-20T12:20:44.876Z"
   },
   {
    "duration": 8,
    "start_time": "2022-05-20T12:20:44.923Z"
   },
   {
    "duration": 22,
    "start_time": "2022-05-20T12:20:44.932Z"
   },
   {
    "duration": 13,
    "start_time": "2022-05-20T12:20:44.956Z"
   },
   {
    "duration": 39,
    "start_time": "2022-05-20T12:20:44.970Z"
   },
   {
    "duration": 8,
    "start_time": "2022-05-20T12:20:45.011Z"
   },
   {
    "duration": 17,
    "start_time": "2022-05-20T12:20:45.021Z"
   },
   {
    "duration": 22,
    "start_time": "2022-05-20T12:20:45.040Z"
   },
   {
    "duration": 42,
    "start_time": "2022-05-20T12:20:45.064Z"
   },
   {
    "duration": 7,
    "start_time": "2022-05-20T12:20:45.108Z"
   },
   {
    "duration": 18,
    "start_time": "2022-05-20T12:20:45.117Z"
   },
   {
    "duration": 22,
    "start_time": "2022-05-20T12:20:45.137Z"
   },
   {
    "duration": 503,
    "start_time": "2022-05-20T12:25:36.325Z"
   },
   {
    "duration": 15,
    "start_time": "2022-05-20T12:25:36.830Z"
   },
   {
    "duration": 18,
    "start_time": "2022-05-20T12:25:36.848Z"
   },
   {
    "duration": 389,
    "start_time": "2022-05-20T12:25:36.869Z"
   },
   {
    "duration": 11,
    "start_time": "2022-05-20T12:25:37.260Z"
   },
   {
    "duration": 37,
    "start_time": "2022-05-20T12:25:37.296Z"
   },
   {
    "duration": 7,
    "start_time": "2022-05-20T12:25:37.335Z"
   },
   {
    "duration": 27,
    "start_time": "2022-05-20T12:25:37.344Z"
   },
   {
    "duration": 47,
    "start_time": "2022-05-20T12:25:37.373Z"
   },
   {
    "duration": 16,
    "start_time": "2022-05-20T12:25:37.424Z"
   },
   {
    "duration": 11,
    "start_time": "2022-05-20T12:25:37.442Z"
   },
   {
    "duration": 18,
    "start_time": "2022-05-20T12:25:37.455Z"
   },
   {
    "duration": 22,
    "start_time": "2022-05-20T12:25:37.475Z"
   },
   {
    "duration": 12,
    "start_time": "2022-05-20T12:25:37.499Z"
   },
   {
    "duration": 27,
    "start_time": "2022-05-20T12:25:37.513Z"
   },
   {
    "duration": 28,
    "start_time": "2022-05-20T12:25:37.542Z"
   },
   {
    "duration": 50,
    "start_time": "2022-05-20T12:25:37.572Z"
   },
   {
    "duration": 20,
    "start_time": "2022-05-20T12:25:37.624Z"
   },
   {
    "duration": 171,
    "start_time": "2022-05-20T12:25:37.646Z"
   },
   {
    "duration": 261,
    "start_time": "2022-05-20T12:25:37.819Z"
   },
   {
    "duration": 17,
    "start_time": "2022-05-20T12:25:38.081Z"
   },
   {
    "duration": 13,
    "start_time": "2022-05-20T12:25:38.099Z"
   },
   {
    "duration": 8,
    "start_time": "2022-05-20T12:25:38.114Z"
   },
   {
    "duration": 15,
    "start_time": "2022-05-20T12:25:38.123Z"
   },
   {
    "duration": 4,
    "start_time": "2022-05-20T12:25:38.139Z"
   },
   {
    "duration": 228,
    "start_time": "2022-05-20T12:25:38.144Z"
   },
   {
    "duration": 6,
    "start_time": "2022-05-20T12:25:38.374Z"
   },
   {
    "duration": 13,
    "start_time": "2022-05-20T12:25:38.399Z"
   },
   {
    "duration": 15,
    "start_time": "2022-05-20T12:25:38.414Z"
   },
   {
    "duration": 10,
    "start_time": "2022-05-20T12:25:38.431Z"
   },
   {
    "duration": 36,
    "start_time": "2022-05-20T12:25:38.443Z"
   },
   {
    "duration": 19,
    "start_time": "2022-05-20T12:25:38.481Z"
   },
   {
    "duration": 267,
    "start_time": "2022-05-20T12:25:38.505Z"
   },
   {
    "duration": 10,
    "start_time": "2022-05-20T12:25:38.774Z"
   },
   {
    "duration": 5,
    "start_time": "2022-05-20T12:25:38.795Z"
   },
   {
    "duration": 25,
    "start_time": "2022-05-20T12:25:38.801Z"
   },
   {
    "duration": 15,
    "start_time": "2022-05-20T12:25:38.827Z"
   },
   {
    "duration": 11,
    "start_time": "2022-05-20T12:25:38.844Z"
   },
   {
    "duration": 21,
    "start_time": "2022-05-20T12:25:38.857Z"
   },
   {
    "duration": 6,
    "start_time": "2022-05-20T12:25:38.880Z"
   },
   {
    "duration": 14,
    "start_time": "2022-05-20T12:25:38.888Z"
   },
   {
    "duration": 16,
    "start_time": "2022-05-20T12:25:38.908Z"
   },
   {
    "duration": 8,
    "start_time": "2022-05-20T12:25:38.926Z"
   },
   {
    "duration": 5,
    "start_time": "2022-05-20T12:25:38.936Z"
   },
   {
    "duration": 9,
    "start_time": "2022-05-20T12:25:38.943Z"
   },
   {
    "duration": 5,
    "start_time": "2022-05-20T12:25:38.954Z"
   },
   {
    "duration": 10,
    "start_time": "2022-05-20T12:25:38.961Z"
   },
   {
    "duration": 41,
    "start_time": "2022-05-20T12:25:38.973Z"
   },
   {
    "duration": 7,
    "start_time": "2022-05-20T12:25:39.016Z"
   },
   {
    "duration": 8,
    "start_time": "2022-05-20T12:25:39.025Z"
   },
   {
    "duration": 14,
    "start_time": "2022-05-20T12:25:39.035Z"
   },
   {
    "duration": 17,
    "start_time": "2022-05-20T12:25:39.050Z"
   },
   {
    "duration": 38,
    "start_time": "2022-05-20T12:25:39.069Z"
   },
   {
    "duration": 5,
    "start_time": "2022-05-20T12:25:39.109Z"
   },
   {
    "duration": 15,
    "start_time": "2022-05-20T12:25:39.115Z"
   },
   {
    "duration": 19,
    "start_time": "2022-05-20T12:25:39.132Z"
   },
   {
    "duration": 13,
    "start_time": "2022-05-20T12:25:39.153Z"
   },
   {
    "duration": 51,
    "start_time": "2022-05-20T12:25:39.168Z"
   },
   {
    "duration": 18,
    "start_time": "2022-05-20T12:25:39.221Z"
   },
   {
    "duration": 30,
    "start_time": "2022-05-20T12:25:39.241Z"
   },
   {
    "duration": 33,
    "start_time": "2022-05-20T12:25:39.273Z"
   },
   {
    "duration": 26,
    "start_time": "2022-05-20T12:25:39.308Z"
   },
   {
    "duration": 11,
    "start_time": "2022-05-20T12:25:39.336Z"
   },
   {
    "duration": 105,
    "start_time": "2022-05-20T12:25:39.349Z"
   },
   {
    "duration": 1,
    "start_time": "2022-05-20T12:25:39.456Z"
   },
   {
    "duration": 0,
    "start_time": "2022-05-20T12:25:39.458Z"
   },
   {
    "duration": 0,
    "start_time": "2022-05-20T12:25:39.460Z"
   },
   {
    "duration": 0,
    "start_time": "2022-05-20T12:25:39.461Z"
   },
   {
    "duration": 0,
    "start_time": "2022-05-20T12:25:39.463Z"
   },
   {
    "duration": 0,
    "start_time": "2022-05-20T12:25:39.464Z"
   },
   {
    "duration": 0,
    "start_time": "2022-05-20T12:25:39.466Z"
   },
   {
    "duration": 557,
    "start_time": "2022-05-20T12:27:29.268Z"
   },
   {
    "duration": 17,
    "start_time": "2022-05-20T12:27:29.831Z"
   },
   {
    "duration": 20,
    "start_time": "2022-05-20T12:27:29.849Z"
   },
   {
    "duration": 415,
    "start_time": "2022-05-20T12:27:29.871Z"
   },
   {
    "duration": 21,
    "start_time": "2022-05-20T12:27:30.288Z"
   },
   {
    "duration": 36,
    "start_time": "2022-05-20T12:27:30.311Z"
   },
   {
    "duration": 8,
    "start_time": "2022-05-20T12:27:30.349Z"
   },
   {
    "duration": 27,
    "start_time": "2022-05-20T12:27:30.359Z"
   },
   {
    "duration": 51,
    "start_time": "2022-05-20T12:27:30.387Z"
   },
   {
    "duration": 8,
    "start_time": "2022-05-20T12:27:30.440Z"
   },
   {
    "duration": 21,
    "start_time": "2022-05-20T12:27:30.450Z"
   },
   {
    "duration": 28,
    "start_time": "2022-05-20T12:27:30.473Z"
   },
   {
    "duration": 36,
    "start_time": "2022-05-20T12:27:30.506Z"
   },
   {
    "duration": 17,
    "start_time": "2022-05-20T12:27:30.546Z"
   },
   {
    "duration": 23,
    "start_time": "2022-05-20T12:27:30.565Z"
   },
   {
    "duration": 62,
    "start_time": "2022-05-20T12:27:30.590Z"
   },
   {
    "duration": 34,
    "start_time": "2022-05-20T12:27:30.654Z"
   },
   {
    "duration": 32,
    "start_time": "2022-05-20T12:27:30.690Z"
   },
   {
    "duration": 179,
    "start_time": "2022-05-20T12:27:30.729Z"
   },
   {
    "duration": 323,
    "start_time": "2022-05-20T12:27:30.910Z"
   },
   {
    "duration": 8,
    "start_time": "2022-05-20T12:27:31.235Z"
   },
   {
    "duration": 14,
    "start_time": "2022-05-20T12:27:31.244Z"
   },
   {
    "duration": 21,
    "start_time": "2022-05-20T12:27:31.260Z"
   },
   {
    "duration": 27,
    "start_time": "2022-05-20T12:27:31.284Z"
   },
   {
    "duration": 17,
    "start_time": "2022-05-20T12:27:31.313Z"
   },
   {
    "duration": 235,
    "start_time": "2022-05-20T12:27:31.332Z"
   },
   {
    "duration": 6,
    "start_time": "2022-05-20T12:27:31.569Z"
   },
   {
    "duration": 19,
    "start_time": "2022-05-20T12:27:31.577Z"
   },
   {
    "duration": 19,
    "start_time": "2022-05-20T12:27:31.598Z"
   },
   {
    "duration": 35,
    "start_time": "2022-05-20T12:27:31.619Z"
   },
   {
    "duration": 12,
    "start_time": "2022-05-20T12:27:31.656Z"
   },
   {
    "duration": 14,
    "start_time": "2022-05-20T12:27:31.670Z"
   },
   {
    "duration": 326,
    "start_time": "2022-05-20T12:27:31.686Z"
   },
   {
    "duration": 24,
    "start_time": "2022-05-20T12:27:32.014Z"
   },
   {
    "duration": 5,
    "start_time": "2022-05-20T12:27:32.040Z"
   },
   {
    "duration": 12,
    "start_time": "2022-05-20T12:27:32.047Z"
   },
   {
    "duration": 42,
    "start_time": "2022-05-20T12:27:32.061Z"
   },
   {
    "duration": 20,
    "start_time": "2022-05-20T12:27:32.106Z"
   },
   {
    "duration": 23,
    "start_time": "2022-05-20T12:27:32.128Z"
   },
   {
    "duration": 9,
    "start_time": "2022-05-20T12:27:32.155Z"
   },
   {
    "duration": 9,
    "start_time": "2022-05-20T12:27:32.169Z"
   },
   {
    "duration": 17,
    "start_time": "2022-05-20T12:27:32.180Z"
   },
   {
    "duration": 45,
    "start_time": "2022-05-20T12:27:32.199Z"
   },
   {
    "duration": 27,
    "start_time": "2022-05-20T12:27:32.246Z"
   },
   {
    "duration": 9,
    "start_time": "2022-05-20T12:27:32.275Z"
   },
   {
    "duration": 7,
    "start_time": "2022-05-20T12:27:32.286Z"
   },
   {
    "duration": 29,
    "start_time": "2022-05-20T12:27:32.300Z"
   },
   {
    "duration": 11,
    "start_time": "2022-05-20T12:27:32.331Z"
   },
   {
    "duration": 7,
    "start_time": "2022-05-20T12:27:32.344Z"
   },
   {
    "duration": 8,
    "start_time": "2022-05-20T12:27:32.353Z"
   },
   {
    "duration": 5,
    "start_time": "2022-05-20T12:27:32.363Z"
   },
   {
    "duration": 17,
    "start_time": "2022-05-20T12:27:32.369Z"
   },
   {
    "duration": 26,
    "start_time": "2022-05-20T12:27:32.395Z"
   },
   {
    "duration": 14,
    "start_time": "2022-05-20T12:27:32.423Z"
   },
   {
    "duration": 24,
    "start_time": "2022-05-20T12:27:32.439Z"
   },
   {
    "duration": 38,
    "start_time": "2022-05-20T12:27:32.465Z"
   },
   {
    "duration": 22,
    "start_time": "2022-05-20T12:27:32.510Z"
   },
   {
    "duration": 13,
    "start_time": "2022-05-20T12:27:32.533Z"
   },
   {
    "duration": 13,
    "start_time": "2022-05-20T12:27:32.548Z"
   },
   {
    "duration": 43,
    "start_time": "2022-05-20T12:27:32.562Z"
   },
   {
    "duration": 32,
    "start_time": "2022-05-20T12:27:32.607Z"
   },
   {
    "duration": 19,
    "start_time": "2022-05-20T12:27:32.641Z"
   },
   {
    "duration": 9,
    "start_time": "2022-05-20T12:27:32.662Z"
   },
   {
    "duration": 108,
    "start_time": "2022-05-20T12:27:32.673Z"
   },
   {
    "duration": 0,
    "start_time": "2022-05-20T12:27:32.782Z"
   },
   {
    "duration": 0,
    "start_time": "2022-05-20T12:27:32.784Z"
   },
   {
    "duration": 0,
    "start_time": "2022-05-20T12:27:32.805Z"
   },
   {
    "duration": 0,
    "start_time": "2022-05-20T12:27:32.806Z"
   },
   {
    "duration": 0,
    "start_time": "2022-05-20T12:27:32.807Z"
   },
   {
    "duration": 0,
    "start_time": "2022-05-20T12:27:32.809Z"
   },
   {
    "duration": 0,
    "start_time": "2022-05-20T12:27:32.816Z"
   },
   {
    "duration": 582,
    "start_time": "2022-05-20T12:28:42.720Z"
   },
   {
    "duration": 16,
    "start_time": "2022-05-20T12:28:43.305Z"
   },
   {
    "duration": 27,
    "start_time": "2022-05-20T12:28:43.322Z"
   },
   {
    "duration": 375,
    "start_time": "2022-05-20T12:28:43.350Z"
   },
   {
    "duration": 11,
    "start_time": "2022-05-20T12:28:43.728Z"
   },
   {
    "duration": 20,
    "start_time": "2022-05-20T12:28:43.740Z"
   },
   {
    "duration": 12,
    "start_time": "2022-05-20T12:28:43.762Z"
   },
   {
    "duration": 37,
    "start_time": "2022-05-20T12:28:43.776Z"
   },
   {
    "duration": 34,
    "start_time": "2022-05-20T12:28:43.815Z"
   },
   {
    "duration": 7,
    "start_time": "2022-05-20T12:28:43.851Z"
   },
   {
    "duration": 22,
    "start_time": "2022-05-20T12:28:43.860Z"
   },
   {
    "duration": 11,
    "start_time": "2022-05-20T12:28:43.896Z"
   },
   {
    "duration": 29,
    "start_time": "2022-05-20T12:28:43.909Z"
   },
   {
    "duration": 9,
    "start_time": "2022-05-20T12:28:43.941Z"
   },
   {
    "duration": 28,
    "start_time": "2022-05-20T12:28:43.952Z"
   },
   {
    "duration": 40,
    "start_time": "2022-05-20T12:28:43.981Z"
   },
   {
    "duration": 33,
    "start_time": "2022-05-20T12:28:44.023Z"
   },
   {
    "duration": 16,
    "start_time": "2022-05-20T12:28:44.058Z"
   },
   {
    "duration": 195,
    "start_time": "2022-05-20T12:28:44.075Z"
   },
   {
    "duration": 268,
    "start_time": "2022-05-20T12:28:44.272Z"
   },
   {
    "duration": 7,
    "start_time": "2022-05-20T12:28:44.542Z"
   },
   {
    "duration": 24,
    "start_time": "2022-05-20T12:28:44.550Z"
   },
   {
    "duration": 22,
    "start_time": "2022-05-20T12:28:44.576Z"
   },
   {
    "duration": 25,
    "start_time": "2022-05-20T12:28:44.601Z"
   },
   {
    "duration": 5,
    "start_time": "2022-05-20T12:28:44.628Z"
   },
   {
    "duration": 208,
    "start_time": "2022-05-20T12:28:44.635Z"
   },
   {
    "duration": 5,
    "start_time": "2022-05-20T12:28:44.845Z"
   },
   {
    "duration": 7,
    "start_time": "2022-05-20T12:28:44.852Z"
   },
   {
    "duration": 16,
    "start_time": "2022-05-20T12:28:44.861Z"
   },
   {
    "duration": 18,
    "start_time": "2022-05-20T12:28:44.895Z"
   },
   {
    "duration": 18,
    "start_time": "2022-05-20T12:28:44.915Z"
   },
   {
    "duration": 13,
    "start_time": "2022-05-20T12:28:44.935Z"
   },
   {
    "duration": 291,
    "start_time": "2022-05-20T12:28:44.950Z"
   },
   {
    "duration": 10,
    "start_time": "2022-05-20T12:28:45.243Z"
   },
   {
    "duration": 6,
    "start_time": "2022-05-20T12:28:45.254Z"
   },
   {
    "duration": 9,
    "start_time": "2022-05-20T12:28:45.262Z"
   },
   {
    "duration": 14,
    "start_time": "2022-05-20T12:28:45.299Z"
   },
   {
    "duration": 12,
    "start_time": "2022-05-20T12:28:45.315Z"
   },
   {
    "duration": 6,
    "start_time": "2022-05-20T12:28:45.328Z"
   },
   {
    "duration": 4,
    "start_time": "2022-05-20T12:28:45.336Z"
   },
   {
    "duration": 9,
    "start_time": "2022-05-20T12:28:45.401Z"
   },
   {
    "duration": 23,
    "start_time": "2022-05-20T12:28:45.413Z"
   },
   {
    "duration": 8,
    "start_time": "2022-05-20T12:28:45.438Z"
   },
   {
    "duration": 52,
    "start_time": "2022-05-20T12:28:45.448Z"
   },
   {
    "duration": 6,
    "start_time": "2022-05-20T12:28:45.501Z"
   },
   {
    "duration": 21,
    "start_time": "2022-05-20T12:28:45.509Z"
   },
   {
    "duration": 9,
    "start_time": "2022-05-20T12:28:45.532Z"
   },
   {
    "duration": 63,
    "start_time": "2022-05-20T12:28:45.543Z"
   },
   {
    "duration": 11,
    "start_time": "2022-05-20T12:28:45.614Z"
   },
   {
    "duration": 7,
    "start_time": "2022-05-20T12:28:45.627Z"
   },
   {
    "duration": 62,
    "start_time": "2022-05-20T12:28:45.636Z"
   },
   {
    "duration": 21,
    "start_time": "2022-05-20T12:28:45.703Z"
   },
   {
    "duration": 18,
    "start_time": "2022-05-20T12:28:45.726Z"
   },
   {
    "duration": 10,
    "start_time": "2022-05-20T12:28:45.803Z"
   },
   {
    "duration": 16,
    "start_time": "2022-05-20T12:28:45.815Z"
   },
   {
    "duration": 82,
    "start_time": "2022-05-20T12:28:45.832Z"
   },
   {
    "duration": 14,
    "start_time": "2022-05-20T12:28:45.915Z"
   },
   {
    "duration": 11,
    "start_time": "2022-05-20T12:28:45.931Z"
   },
   {
    "duration": 19,
    "start_time": "2022-05-20T12:28:45.994Z"
   },
   {
    "duration": 24,
    "start_time": "2022-05-20T12:28:46.015Z"
   },
   {
    "duration": 60,
    "start_time": "2022-05-20T12:28:46.040Z"
   },
   {
    "duration": 31,
    "start_time": "2022-05-20T12:28:46.101Z"
   },
   {
    "duration": 6,
    "start_time": "2022-05-20T12:28:46.134Z"
   },
   {
    "duration": 258,
    "start_time": "2022-05-20T12:28:46.141Z"
   },
   {
    "duration": 0,
    "start_time": "2022-05-20T12:28:46.403Z"
   },
   {
    "duration": 0,
    "start_time": "2022-05-20T12:28:46.404Z"
   },
   {
    "duration": 0,
    "start_time": "2022-05-20T12:28:46.405Z"
   },
   {
    "duration": 0,
    "start_time": "2022-05-20T12:28:46.408Z"
   },
   {
    "duration": 0,
    "start_time": "2022-05-20T12:28:46.409Z"
   },
   {
    "duration": 0,
    "start_time": "2022-05-20T12:28:46.410Z"
   },
   {
    "duration": 0,
    "start_time": "2022-05-20T12:28:46.411Z"
   },
   {
    "duration": 16,
    "start_time": "2022-05-20T12:31:33.643Z"
   },
   {
    "duration": 560,
    "start_time": "2022-05-20T12:33:35.286Z"
   },
   {
    "duration": 14,
    "start_time": "2022-05-20T12:33:35.847Z"
   },
   {
    "duration": 23,
    "start_time": "2022-05-20T12:33:35.863Z"
   },
   {
    "duration": 379,
    "start_time": "2022-05-20T12:33:35.897Z"
   },
   {
    "duration": 37,
    "start_time": "2022-05-20T12:33:36.278Z"
   },
   {
    "duration": 10,
    "start_time": "2022-05-20T12:33:36.323Z"
   },
   {
    "duration": 19,
    "start_time": "2022-05-20T12:33:36.335Z"
   },
   {
    "duration": 22,
    "start_time": "2022-05-20T12:33:36.355Z"
   },
   {
    "duration": 50,
    "start_time": "2022-05-20T12:33:36.379Z"
   },
   {
    "duration": 8,
    "start_time": "2022-05-20T12:33:36.432Z"
   },
   {
    "duration": 16,
    "start_time": "2022-05-20T12:33:36.441Z"
   },
   {
    "duration": 8,
    "start_time": "2022-05-20T12:33:36.459Z"
   },
   {
    "duration": 20,
    "start_time": "2022-05-20T12:33:36.469Z"
   },
   {
    "duration": 45,
    "start_time": "2022-05-20T12:33:36.491Z"
   },
   {
    "duration": 6,
    "start_time": "2022-05-20T12:33:36.538Z"
   },
   {
    "duration": 24,
    "start_time": "2022-05-20T12:33:36.545Z"
   },
   {
    "duration": 46,
    "start_time": "2022-05-20T12:33:36.571Z"
   },
   {
    "duration": 18,
    "start_time": "2022-05-20T12:33:36.618Z"
   },
   {
    "duration": 161,
    "start_time": "2022-05-20T12:33:36.637Z"
   },
   {
    "duration": 320,
    "start_time": "2022-05-20T12:33:36.799Z"
   },
   {
    "duration": 9,
    "start_time": "2022-05-20T12:33:37.122Z"
   },
   {
    "duration": 22,
    "start_time": "2022-05-20T12:33:37.133Z"
   },
   {
    "duration": 29,
    "start_time": "2022-05-20T12:33:37.156Z"
   },
   {
    "duration": 25,
    "start_time": "2022-05-20T12:33:37.187Z"
   },
   {
    "duration": 19,
    "start_time": "2022-05-20T12:33:37.214Z"
   },
   {
    "duration": 293,
    "start_time": "2022-05-20T12:33:37.244Z"
   },
   {
    "duration": 10,
    "start_time": "2022-05-20T12:33:37.540Z"
   },
   {
    "duration": 58,
    "start_time": "2022-05-20T12:33:37.556Z"
   },
   {
    "duration": 35,
    "start_time": "2022-05-20T12:33:37.616Z"
   },
   {
    "duration": 68,
    "start_time": "2022-05-20T12:33:37.653Z"
   },
   {
    "duration": 20,
    "start_time": "2022-05-20T12:33:37.731Z"
   },
   {
    "duration": 65,
    "start_time": "2022-05-20T12:33:37.753Z"
   },
   {
    "duration": 695,
    "start_time": "2022-05-20T12:33:37.820Z"
   },
   {
    "duration": 19,
    "start_time": "2022-05-20T12:33:38.517Z"
   },
   {
    "duration": 7,
    "start_time": "2022-05-20T12:33:38.538Z"
   },
   {
    "duration": 19,
    "start_time": "2022-05-20T12:33:38.596Z"
   },
   {
    "duration": 19,
    "start_time": "2022-05-20T12:33:38.625Z"
   },
   {
    "duration": 72,
    "start_time": "2022-05-20T12:33:38.646Z"
   },
   {
    "duration": 17,
    "start_time": "2022-05-20T12:33:38.720Z"
   },
   {
    "duration": 8,
    "start_time": "2022-05-20T12:33:38.739Z"
   },
   {
    "duration": 48,
    "start_time": "2022-05-20T12:33:38.749Z"
   },
   {
    "duration": 13,
    "start_time": "2022-05-20T12:33:38.798Z"
   },
   {
    "duration": 30,
    "start_time": "2022-05-20T12:33:38.813Z"
   },
   {
    "duration": 63,
    "start_time": "2022-05-20T12:33:38.845Z"
   },
   {
    "duration": 37,
    "start_time": "2022-05-20T12:33:38.910Z"
   },
   {
    "duration": 22,
    "start_time": "2022-05-20T12:33:38.948Z"
   },
   {
    "duration": 44,
    "start_time": "2022-05-20T12:33:38.971Z"
   },
   {
    "duration": 22,
    "start_time": "2022-05-20T12:33:39.020Z"
   },
   {
    "duration": 63,
    "start_time": "2022-05-20T12:33:39.044Z"
   },
   {
    "duration": 44,
    "start_time": "2022-05-20T12:33:39.109Z"
   },
   {
    "duration": 17,
    "start_time": "2022-05-20T12:33:39.155Z"
   },
   {
    "duration": 62,
    "start_time": "2022-05-20T12:33:39.201Z"
   },
   {
    "duration": 30,
    "start_time": "2022-05-20T12:33:39.295Z"
   },
   {
    "duration": 83,
    "start_time": "2022-05-20T12:33:39.327Z"
   },
   {
    "duration": 16,
    "start_time": "2022-05-20T12:33:39.411Z"
   },
   {
    "duration": 21,
    "start_time": "2022-05-20T12:33:39.431Z"
   },
   {
    "duration": 50,
    "start_time": "2022-05-20T12:33:39.504Z"
   },
   {
    "duration": 14,
    "start_time": "2022-05-20T12:33:39.556Z"
   },
   {
    "duration": 46,
    "start_time": "2022-05-20T12:33:39.571Z"
   },
   {
    "duration": 31,
    "start_time": "2022-05-20T12:33:39.619Z"
   },
   {
    "duration": 36,
    "start_time": "2022-05-20T12:33:39.652Z"
   },
   {
    "duration": 26,
    "start_time": "2022-05-20T12:33:39.690Z"
   },
   {
    "duration": 26,
    "start_time": "2022-05-20T12:33:39.725Z"
   },
   {
    "duration": 6,
    "start_time": "2022-05-20T12:33:39.753Z"
   },
   {
    "duration": 121,
    "start_time": "2022-05-20T12:33:39.761Z"
   },
   {
    "duration": 0,
    "start_time": "2022-05-20T12:33:39.884Z"
   },
   {
    "duration": 0,
    "start_time": "2022-05-20T12:33:39.885Z"
   },
   {
    "duration": 0,
    "start_time": "2022-05-20T12:33:39.886Z"
   },
   {
    "duration": 0,
    "start_time": "2022-05-20T12:33:39.888Z"
   },
   {
    "duration": 0,
    "start_time": "2022-05-20T12:33:39.898Z"
   },
   {
    "duration": 0,
    "start_time": "2022-05-20T12:33:39.900Z"
   },
   {
    "duration": 0,
    "start_time": "2022-05-20T12:33:39.902Z"
   },
   {
    "duration": 37,
    "start_time": "2022-05-20T12:34:53.575Z"
   },
   {
    "duration": 528,
    "start_time": "2022-05-20T12:35:01.122Z"
   },
   {
    "duration": 15,
    "start_time": "2022-05-20T12:35:01.653Z"
   },
   {
    "duration": 37,
    "start_time": "2022-05-20T12:35:01.672Z"
   },
   {
    "duration": 414,
    "start_time": "2022-05-20T12:35:01.710Z"
   },
   {
    "duration": 10,
    "start_time": "2022-05-20T12:35:02.126Z"
   },
   {
    "duration": 10,
    "start_time": "2022-05-20T12:35:02.137Z"
   },
   {
    "duration": 6,
    "start_time": "2022-05-20T12:35:02.149Z"
   },
   {
    "duration": 23,
    "start_time": "2022-05-20T12:35:02.156Z"
   },
   {
    "duration": 57,
    "start_time": "2022-05-20T12:35:02.182Z"
   },
   {
    "duration": 9,
    "start_time": "2022-05-20T12:35:02.241Z"
   },
   {
    "duration": 7,
    "start_time": "2022-05-20T12:35:02.253Z"
   },
   {
    "duration": 9,
    "start_time": "2022-05-20T12:35:02.261Z"
   },
   {
    "duration": 11,
    "start_time": "2022-05-20T12:35:02.295Z"
   },
   {
    "duration": 17,
    "start_time": "2022-05-20T12:35:02.308Z"
   },
   {
    "duration": 9,
    "start_time": "2022-05-20T12:35:02.326Z"
   },
   {
    "duration": 22,
    "start_time": "2022-05-20T12:35:02.337Z"
   },
   {
    "duration": 45,
    "start_time": "2022-05-20T12:35:02.361Z"
   },
   {
    "duration": 17,
    "start_time": "2022-05-20T12:35:02.408Z"
   },
   {
    "duration": 158,
    "start_time": "2022-05-20T12:35:02.427Z"
   },
   {
    "duration": 264,
    "start_time": "2022-05-20T12:35:02.587Z"
   },
   {
    "duration": 7,
    "start_time": "2022-05-20T12:35:02.853Z"
   },
   {
    "duration": 6,
    "start_time": "2022-05-20T12:35:02.862Z"
   },
   {
    "duration": 29,
    "start_time": "2022-05-20T12:35:02.870Z"
   },
   {
    "duration": 23,
    "start_time": "2022-05-20T12:35:02.901Z"
   },
   {
    "duration": 5,
    "start_time": "2022-05-20T12:35:02.926Z"
   },
   {
    "duration": 214,
    "start_time": "2022-05-20T12:35:02.933Z"
   },
   {
    "duration": 6,
    "start_time": "2022-05-20T12:35:03.152Z"
   },
   {
    "duration": 18,
    "start_time": "2022-05-20T12:35:03.160Z"
   },
   {
    "duration": 23,
    "start_time": "2022-05-20T12:35:03.180Z"
   },
   {
    "duration": 18,
    "start_time": "2022-05-20T12:35:03.204Z"
   },
   {
    "duration": 17,
    "start_time": "2022-05-20T12:35:03.224Z"
   },
   {
    "duration": 16,
    "start_time": "2022-05-20T12:35:03.243Z"
   },
   {
    "duration": 295,
    "start_time": "2022-05-20T12:35:03.261Z"
   },
   {
    "duration": 10,
    "start_time": "2022-05-20T12:35:03.557Z"
   },
   {
    "duration": 4,
    "start_time": "2022-05-20T12:35:03.569Z"
   },
   {
    "duration": 26,
    "start_time": "2022-05-20T12:35:03.575Z"
   },
   {
    "duration": 12,
    "start_time": "2022-05-20T12:35:03.606Z"
   },
   {
    "duration": 12,
    "start_time": "2022-05-20T12:35:03.619Z"
   },
   {
    "duration": 4,
    "start_time": "2022-05-20T12:35:03.633Z"
   },
   {
    "duration": 5,
    "start_time": "2022-05-20T12:35:03.639Z"
   },
   {
    "duration": 9,
    "start_time": "2022-05-20T12:35:03.646Z"
   },
   {
    "duration": 47,
    "start_time": "2022-05-20T12:35:03.656Z"
   },
   {
    "duration": 9,
    "start_time": "2022-05-20T12:35:03.706Z"
   },
   {
    "duration": 6,
    "start_time": "2022-05-20T12:35:03.717Z"
   },
   {
    "duration": 12,
    "start_time": "2022-05-20T12:35:03.725Z"
   },
   {
    "duration": 9,
    "start_time": "2022-05-20T12:35:03.739Z"
   },
   {
    "duration": 11,
    "start_time": "2022-05-20T12:35:03.750Z"
   },
   {
    "duration": 11,
    "start_time": "2022-05-20T12:35:03.763Z"
   },
   {
    "duration": 24,
    "start_time": "2022-05-20T12:35:03.795Z"
   },
   {
    "duration": 9,
    "start_time": "2022-05-20T12:35:03.821Z"
   },
   {
    "duration": 6,
    "start_time": "2022-05-20T12:35:03.831Z"
   },
   {
    "duration": 26,
    "start_time": "2022-05-20T12:35:03.838Z"
   },
   {
    "duration": 16,
    "start_time": "2022-05-20T12:35:03.866Z"
   },
   {
    "duration": 32,
    "start_time": "2022-05-20T12:35:03.883Z"
   },
   {
    "duration": 5,
    "start_time": "2022-05-20T12:35:03.917Z"
   },
   {
    "duration": 19,
    "start_time": "2022-05-20T12:35:03.923Z"
   },
   {
    "duration": 19,
    "start_time": "2022-05-20T12:35:03.944Z"
   },
   {
    "duration": 67,
    "start_time": "2022-05-20T12:35:03.965Z"
   },
   {
    "duration": 17,
    "start_time": "2022-05-20T12:35:04.034Z"
   },
   {
    "duration": 17,
    "start_time": "2022-05-20T12:35:04.053Z"
   },
   {
    "duration": 45,
    "start_time": "2022-05-20T12:35:04.073Z"
   },
   {
    "duration": 21,
    "start_time": "2022-05-20T12:35:04.120Z"
   },
   {
    "duration": 16,
    "start_time": "2022-05-20T12:35:04.143Z"
   },
   {
    "duration": 44,
    "start_time": "2022-05-20T12:35:04.161Z"
   },
   {
    "duration": 37,
    "start_time": "2022-05-20T12:35:04.207Z"
   },
   {
    "duration": 98,
    "start_time": "2022-05-20T12:35:04.246Z"
   },
   {
    "duration": 0,
    "start_time": "2022-05-20T12:35:04.346Z"
   },
   {
    "duration": 0,
    "start_time": "2022-05-20T12:35:04.347Z"
   },
   {
    "duration": 0,
    "start_time": "2022-05-20T12:35:04.348Z"
   },
   {
    "duration": 0,
    "start_time": "2022-05-20T12:35:04.349Z"
   },
   {
    "duration": 0,
    "start_time": "2022-05-20T12:35:04.350Z"
   },
   {
    "duration": 0,
    "start_time": "2022-05-20T12:35:04.351Z"
   },
   {
    "duration": 0,
    "start_time": "2022-05-20T12:35:04.352Z"
   },
   {
    "duration": 576,
    "start_time": "2022-05-20T12:36:34.022Z"
   },
   {
    "duration": 24,
    "start_time": "2022-05-20T12:36:34.603Z"
   },
   {
    "duration": 30,
    "start_time": "2022-05-20T12:36:34.629Z"
   },
   {
    "duration": 412,
    "start_time": "2022-05-20T12:36:34.661Z"
   },
   {
    "duration": 42,
    "start_time": "2022-05-20T12:36:35.074Z"
   },
   {
    "duration": 25,
    "start_time": "2022-05-20T12:36:35.119Z"
   },
   {
    "duration": 23,
    "start_time": "2022-05-20T12:36:35.146Z"
   },
   {
    "duration": 58,
    "start_time": "2022-05-20T12:36:35.170Z"
   },
   {
    "duration": 121,
    "start_time": "2022-05-20T12:36:35.230Z"
   },
   {
    "duration": 44,
    "start_time": "2022-05-20T12:36:35.355Z"
   },
   {
    "duration": 104,
    "start_time": "2022-05-20T12:36:35.401Z"
   },
   {
    "duration": 130,
    "start_time": "2022-05-20T12:36:35.507Z"
   },
   {
    "duration": 28,
    "start_time": "2022-05-20T12:36:35.647Z"
   },
   {
    "duration": 54,
    "start_time": "2022-05-20T12:36:35.677Z"
   },
   {
    "duration": 28,
    "start_time": "2022-05-20T12:36:35.733Z"
   },
   {
    "duration": 55,
    "start_time": "2022-05-20T12:36:35.763Z"
   },
   {
    "duration": 39,
    "start_time": "2022-05-20T12:36:35.821Z"
   },
   {
    "duration": 16,
    "start_time": "2022-05-20T12:36:35.862Z"
   },
   {
    "duration": 177,
    "start_time": "2022-05-20T12:36:35.880Z"
   },
   {
    "duration": 342,
    "start_time": "2022-05-20T12:36:36.059Z"
   },
   {
    "duration": 10,
    "start_time": "2022-05-20T12:36:36.405Z"
   },
   {
    "duration": 37,
    "start_time": "2022-05-20T12:36:36.417Z"
   },
   {
    "duration": 10,
    "start_time": "2022-05-20T12:36:36.456Z"
   },
   {
    "duration": 15,
    "start_time": "2022-05-20T12:36:36.468Z"
   },
   {
    "duration": 67,
    "start_time": "2022-05-20T12:36:36.485Z"
   },
   {
    "duration": 293,
    "start_time": "2022-05-20T12:36:36.554Z"
   },
   {
    "duration": 8,
    "start_time": "2022-05-20T12:36:36.849Z"
   },
   {
    "duration": 10,
    "start_time": "2022-05-20T12:36:36.861Z"
   },
   {
    "duration": 37,
    "start_time": "2022-05-20T12:36:36.873Z"
   },
   {
    "duration": 17,
    "start_time": "2022-05-20T12:36:36.912Z"
   },
   {
    "duration": 67,
    "start_time": "2022-05-20T12:36:36.931Z"
   },
   {
    "duration": 34,
    "start_time": "2022-05-20T12:36:37.009Z"
   },
   {
    "duration": 962,
    "start_time": "2022-05-20T12:36:37.050Z"
   },
   {
    "duration": 21,
    "start_time": "2022-05-20T12:36:38.021Z"
   },
   {
    "duration": 12,
    "start_time": "2022-05-20T12:36:38.043Z"
   },
   {
    "duration": 17,
    "start_time": "2022-05-20T12:36:38.106Z"
   },
   {
    "duration": 33,
    "start_time": "2022-05-20T12:36:38.125Z"
   },
   {
    "duration": 67,
    "start_time": "2022-05-20T12:36:38.160Z"
   },
   {
    "duration": 30,
    "start_time": "2022-05-20T12:36:38.229Z"
   },
   {
    "duration": 6,
    "start_time": "2022-05-20T12:36:38.261Z"
   },
   {
    "duration": 42,
    "start_time": "2022-05-20T12:36:38.269Z"
   },
   {
    "duration": 38,
    "start_time": "2022-05-20T12:36:38.313Z"
   },
   {
    "duration": 83,
    "start_time": "2022-05-20T12:36:38.354Z"
   },
   {
    "duration": 7,
    "start_time": "2022-05-20T12:36:38.441Z"
   },
   {
    "duration": 11,
    "start_time": "2022-05-20T12:36:38.450Z"
   },
   {
    "duration": 48,
    "start_time": "2022-05-20T12:36:38.463Z"
   },
   {
    "duration": 32,
    "start_time": "2022-05-20T12:36:38.513Z"
   },
   {
    "duration": 12,
    "start_time": "2022-05-20T12:36:38.548Z"
   },
   {
    "duration": 41,
    "start_time": "2022-05-20T12:36:38.597Z"
   },
   {
    "duration": 9,
    "start_time": "2022-05-20T12:36:38.640Z"
   },
   {
    "duration": 7,
    "start_time": "2022-05-20T12:36:38.651Z"
   },
   {
    "duration": 37,
    "start_time": "2022-05-20T12:36:38.702Z"
   },
   {
    "duration": 83,
    "start_time": "2022-05-20T12:36:38.744Z"
   },
   {
    "duration": 67,
    "start_time": "2022-05-20T12:36:38.832Z"
   },
   {
    "duration": 13,
    "start_time": "2022-05-20T12:36:38.902Z"
   },
   {
    "duration": 86,
    "start_time": "2022-05-20T12:36:38.917Z"
   },
   {
    "duration": 36,
    "start_time": "2022-05-20T12:36:39.006Z"
   },
   {
    "duration": 91,
    "start_time": "2022-05-20T12:36:39.044Z"
   },
   {
    "duration": 9,
    "start_time": "2022-05-20T12:36:39.137Z"
   },
   {
    "duration": 79,
    "start_time": "2022-05-20T12:36:39.148Z"
   },
   {
    "duration": 18,
    "start_time": "2022-05-20T12:36:39.229Z"
   },
   {
    "duration": 32,
    "start_time": "2022-05-20T12:36:39.249Z"
   },
   {
    "duration": 23,
    "start_time": "2022-05-20T12:36:39.283Z"
   },
   {
    "duration": 31,
    "start_time": "2022-05-20T12:36:39.312Z"
   },
   {
    "duration": 8,
    "start_time": "2022-05-20T12:36:39.345Z"
   },
   {
    "duration": 118,
    "start_time": "2022-05-20T12:36:39.354Z"
   },
   {
    "duration": 0,
    "start_time": "2022-05-20T12:36:39.474Z"
   },
   {
    "duration": 0,
    "start_time": "2022-05-20T12:36:39.475Z"
   },
   {
    "duration": 0,
    "start_time": "2022-05-20T12:36:39.476Z"
   },
   {
    "duration": 0,
    "start_time": "2022-05-20T12:36:39.477Z"
   },
   {
    "duration": 0,
    "start_time": "2022-05-20T12:36:39.478Z"
   },
   {
    "duration": 0,
    "start_time": "2022-05-20T12:36:39.479Z"
   },
   {
    "duration": 0,
    "start_time": "2022-05-20T12:36:39.505Z"
   },
   {
    "duration": 594,
    "start_time": "2022-05-20T12:37:03.422Z"
   },
   {
    "duration": 14,
    "start_time": "2022-05-20T12:37:04.018Z"
   },
   {
    "duration": 29,
    "start_time": "2022-05-20T12:37:04.034Z"
   },
   {
    "duration": 474,
    "start_time": "2022-05-20T12:37:04.065Z"
   },
   {
    "duration": 18,
    "start_time": "2022-05-20T12:37:04.597Z"
   },
   {
    "duration": 22,
    "start_time": "2022-05-20T12:37:04.617Z"
   },
   {
    "duration": 59,
    "start_time": "2022-05-20T12:37:04.641Z"
   },
   {
    "duration": 28,
    "start_time": "2022-05-20T12:37:04.703Z"
   },
   {
    "duration": 90,
    "start_time": "2022-05-20T12:37:04.733Z"
   },
   {
    "duration": 9,
    "start_time": "2022-05-20T12:37:04.826Z"
   },
   {
    "duration": 61,
    "start_time": "2022-05-20T12:37:04.837Z"
   },
   {
    "duration": 30,
    "start_time": "2022-05-20T12:37:04.902Z"
   },
   {
    "duration": 9,
    "start_time": "2022-05-20T12:37:04.934Z"
   },
   {
    "duration": 56,
    "start_time": "2022-05-20T12:37:04.947Z"
   },
   {
    "duration": 20,
    "start_time": "2022-05-20T12:37:05.005Z"
   },
   {
    "duration": 73,
    "start_time": "2022-05-20T12:37:05.027Z"
   },
   {
    "duration": 101,
    "start_time": "2022-05-20T12:37:05.102Z"
   },
   {
    "duration": 23,
    "start_time": "2022-05-20T12:37:05.205Z"
   },
   {
    "duration": 465,
    "start_time": "2022-05-20T12:37:05.230Z"
   },
   {
    "duration": 804,
    "start_time": "2022-05-20T12:37:05.698Z"
   },
   {
    "duration": 7,
    "start_time": "2022-05-20T12:37:06.504Z"
   },
   {
    "duration": 17,
    "start_time": "2022-05-20T12:37:06.513Z"
   },
   {
    "duration": 8,
    "start_time": "2022-05-20T12:37:06.533Z"
   },
   {
    "duration": 16,
    "start_time": "2022-05-20T12:37:06.543Z"
   },
   {
    "duration": 19,
    "start_time": "2022-05-20T12:37:06.596Z"
   },
   {
    "duration": 229,
    "start_time": "2022-05-20T12:37:06.620Z"
   },
   {
    "duration": 7,
    "start_time": "2022-05-20T12:37:06.850Z"
   },
   {
    "duration": 8,
    "start_time": "2022-05-20T12:37:06.860Z"
   },
   {
    "duration": 34,
    "start_time": "2022-05-20T12:37:06.870Z"
   },
   {
    "duration": 14,
    "start_time": "2022-05-20T12:37:06.908Z"
   },
   {
    "duration": 15,
    "start_time": "2022-05-20T12:37:06.923Z"
   },
   {
    "duration": 14,
    "start_time": "2022-05-20T12:37:06.940Z"
   },
   {
    "duration": 340,
    "start_time": "2022-05-20T12:37:06.956Z"
   },
   {
    "duration": 18,
    "start_time": "2022-05-20T12:37:07.305Z"
   },
   {
    "duration": 6,
    "start_time": "2022-05-20T12:37:07.325Z"
   },
   {
    "duration": 31,
    "start_time": "2022-05-20T12:37:07.333Z"
   },
   {
    "duration": 15,
    "start_time": "2022-05-20T12:37:07.367Z"
   },
   {
    "duration": 32,
    "start_time": "2022-05-20T12:37:07.385Z"
   },
   {
    "duration": 28,
    "start_time": "2022-05-20T12:37:07.421Z"
   },
   {
    "duration": 14,
    "start_time": "2022-05-20T12:37:07.451Z"
   },
   {
    "duration": 11,
    "start_time": "2022-05-20T12:37:07.471Z"
   },
   {
    "duration": 14,
    "start_time": "2022-05-20T12:37:07.484Z"
   },
   {
    "duration": 28,
    "start_time": "2022-05-20T12:37:07.499Z"
   },
   {
    "duration": 19,
    "start_time": "2022-05-20T12:37:07.530Z"
   },
   {
    "duration": 12,
    "start_time": "2022-05-20T12:37:07.551Z"
   },
   {
    "duration": 16,
    "start_time": "2022-05-20T12:37:07.565Z"
   },
   {
    "duration": 13,
    "start_time": "2022-05-20T12:37:07.584Z"
   },
   {
    "duration": 35,
    "start_time": "2022-05-20T12:37:07.603Z"
   },
   {
    "duration": 55,
    "start_time": "2022-05-20T12:37:07.641Z"
   },
   {
    "duration": 27,
    "start_time": "2022-05-20T12:37:07.703Z"
   },
   {
    "duration": 12,
    "start_time": "2022-05-20T12:37:07.732Z"
   },
   {
    "duration": 23,
    "start_time": "2022-05-20T12:37:07.746Z"
   },
   {
    "duration": 17,
    "start_time": "2022-05-20T12:37:07.771Z"
   },
   {
    "duration": 23,
    "start_time": "2022-05-20T12:37:07.790Z"
   },
   {
    "duration": 12,
    "start_time": "2022-05-20T12:37:07.814Z"
   },
   {
    "duration": 17,
    "start_time": "2022-05-20T12:37:07.828Z"
   },
   {
    "duration": 20,
    "start_time": "2022-05-20T12:37:07.847Z"
   },
   {
    "duration": 68,
    "start_time": "2022-05-20T12:37:07.869Z"
   },
   {
    "duration": 16,
    "start_time": "2022-05-20T12:37:07.939Z"
   },
   {
    "duration": 14,
    "start_time": "2022-05-20T12:37:07.957Z"
   },
   {
    "duration": 26,
    "start_time": "2022-05-20T12:37:07.995Z"
   },
   {
    "duration": 22,
    "start_time": "2022-05-20T12:37:08.023Z"
   },
   {
    "duration": 43,
    "start_time": "2022-05-20T12:37:08.047Z"
   },
   {
    "duration": 35,
    "start_time": "2022-05-20T12:37:08.092Z"
   },
   {
    "duration": 15,
    "start_time": "2022-05-20T12:37:08.129Z"
   },
   {
    "duration": 110,
    "start_time": "2022-05-20T12:37:08.146Z"
   },
   {
    "duration": 0,
    "start_time": "2022-05-20T12:37:08.258Z"
   },
   {
    "duration": 0,
    "start_time": "2022-05-20T12:37:08.260Z"
   },
   {
    "duration": 0,
    "start_time": "2022-05-20T12:37:08.261Z"
   },
   {
    "duration": 0,
    "start_time": "2022-05-20T12:37:08.263Z"
   },
   {
    "duration": 0,
    "start_time": "2022-05-20T12:37:08.272Z"
   },
   {
    "duration": 0,
    "start_time": "2022-05-20T12:37:08.277Z"
   },
   {
    "duration": 0,
    "start_time": "2022-05-20T12:37:08.278Z"
   },
   {
    "duration": 547,
    "start_time": "2022-05-20T12:38:21.346Z"
   },
   {
    "duration": 22,
    "start_time": "2022-05-20T12:38:21.897Z"
   },
   {
    "duration": 19,
    "start_time": "2022-05-20T12:38:21.921Z"
   },
   {
    "duration": 408,
    "start_time": "2022-05-20T12:38:21.942Z"
   },
   {
    "duration": 14,
    "start_time": "2022-05-20T12:38:22.353Z"
   },
   {
    "duration": 37,
    "start_time": "2022-05-20T12:38:22.369Z"
   },
   {
    "duration": 7,
    "start_time": "2022-05-20T12:38:22.416Z"
   },
   {
    "duration": 22,
    "start_time": "2022-05-20T12:38:22.425Z"
   },
   {
    "duration": 50,
    "start_time": "2022-05-20T12:38:22.448Z"
   },
   {
    "duration": 19,
    "start_time": "2022-05-20T12:38:22.499Z"
   },
   {
    "duration": 10,
    "start_time": "2022-05-20T12:38:22.520Z"
   },
   {
    "duration": 8,
    "start_time": "2022-05-20T12:38:22.532Z"
   },
   {
    "duration": 8,
    "start_time": "2022-05-20T12:38:22.542Z"
   },
   {
    "duration": 12,
    "start_time": "2022-05-20T12:38:22.555Z"
   },
   {
    "duration": 13,
    "start_time": "2022-05-20T12:38:22.596Z"
   },
   {
    "duration": 24,
    "start_time": "2022-05-20T12:38:22.615Z"
   },
   {
    "duration": 39,
    "start_time": "2022-05-20T12:38:22.641Z"
   },
   {
    "duration": 30,
    "start_time": "2022-05-20T12:38:22.682Z"
   },
   {
    "duration": 170,
    "start_time": "2022-05-20T12:38:22.714Z"
   },
   {
    "duration": 277,
    "start_time": "2022-05-20T12:38:22.886Z"
   },
   {
    "duration": 7,
    "start_time": "2022-05-20T12:38:23.165Z"
   },
   {
    "duration": 35,
    "start_time": "2022-05-20T12:38:23.174Z"
   },
   {
    "duration": 7,
    "start_time": "2022-05-20T12:38:23.211Z"
   },
   {
    "duration": 15,
    "start_time": "2022-05-20T12:38:23.220Z"
   },
   {
    "duration": 4,
    "start_time": "2022-05-20T12:38:23.237Z"
   },
   {
    "duration": 217,
    "start_time": "2022-05-20T12:38:23.243Z"
   },
   {
    "duration": 6,
    "start_time": "2022-05-20T12:38:23.462Z"
   },
   {
    "duration": 31,
    "start_time": "2022-05-20T12:38:23.469Z"
   },
   {
    "duration": 16,
    "start_time": "2022-05-20T12:38:23.502Z"
   },
   {
    "duration": 11,
    "start_time": "2022-05-20T12:38:23.520Z"
   },
   {
    "duration": 14,
    "start_time": "2022-05-20T12:38:23.533Z"
   },
   {
    "duration": 14,
    "start_time": "2022-05-20T12:38:23.549Z"
   },
   {
    "duration": 318,
    "start_time": "2022-05-20T12:38:23.564Z"
   },
   {
    "duration": 16,
    "start_time": "2022-05-20T12:38:23.884Z"
   },
   {
    "duration": 21,
    "start_time": "2022-05-20T12:38:23.907Z"
   },
   {
    "duration": 10,
    "start_time": "2022-05-20T12:38:23.930Z"
   },
   {
    "duration": 13,
    "start_time": "2022-05-20T12:38:23.942Z"
   },
   {
    "duration": 55,
    "start_time": "2022-05-20T12:38:23.957Z"
   },
   {
    "duration": 8,
    "start_time": "2022-05-20T12:38:24.013Z"
   },
   {
    "duration": 5,
    "start_time": "2022-05-20T12:38:24.023Z"
   },
   {
    "duration": 6,
    "start_time": "2022-05-20T12:38:24.035Z"
   },
   {
    "duration": 80,
    "start_time": "2022-05-20T12:38:24.043Z"
   },
   {
    "duration": 9,
    "start_time": "2022-05-20T12:38:24.124Z"
   },
   {
    "duration": 17,
    "start_time": "2022-05-20T12:38:24.135Z"
   },
   {
    "duration": 44,
    "start_time": "2022-05-20T12:38:24.154Z"
   },
   {
    "duration": 46,
    "start_time": "2022-05-20T12:38:24.200Z"
   },
   {
    "duration": 12,
    "start_time": "2022-05-20T12:38:24.249Z"
   },
   {
    "duration": 36,
    "start_time": "2022-05-20T12:38:24.294Z"
   },
   {
    "duration": 9,
    "start_time": "2022-05-20T12:38:24.332Z"
   },
   {
    "duration": 55,
    "start_time": "2022-05-20T12:38:24.344Z"
   },
   {
    "duration": 8,
    "start_time": "2022-05-20T12:38:24.407Z"
   },
   {
    "duration": 28,
    "start_time": "2022-05-20T12:38:24.417Z"
   },
   {
    "duration": 70,
    "start_time": "2022-05-20T12:38:24.447Z"
   },
   {
    "duration": 21,
    "start_time": "2022-05-20T12:38:24.519Z"
   },
   {
    "duration": 69,
    "start_time": "2022-05-20T12:38:24.542Z"
   },
   {
    "duration": 29,
    "start_time": "2022-05-20T12:38:24.612Z"
   },
   {
    "duration": 78,
    "start_time": "2022-05-20T12:38:24.644Z"
   },
   {
    "duration": 90,
    "start_time": "2022-05-20T12:38:24.724Z"
   },
   {
    "duration": 17,
    "start_time": "2022-05-20T12:38:24.817Z"
   },
   {
    "duration": 80,
    "start_time": "2022-05-20T12:38:24.836Z"
   },
   {
    "duration": 18,
    "start_time": "2022-05-20T12:38:24.918Z"
   },
   {
    "duration": 77,
    "start_time": "2022-05-20T12:38:24.938Z"
   },
   {
    "duration": 7,
    "start_time": "2022-05-20T12:38:25.017Z"
   },
   {
    "duration": 87,
    "start_time": "2022-05-20T12:38:25.026Z"
   },
   {
    "duration": 20,
    "start_time": "2022-05-20T12:38:25.114Z"
   },
   {
    "duration": 290,
    "start_time": "2022-05-20T12:38:25.137Z"
   },
   {
    "duration": 0,
    "start_time": "2022-05-20T12:38:25.430Z"
   },
   {
    "duration": 0,
    "start_time": "2022-05-20T12:38:25.432Z"
   },
   {
    "duration": 0,
    "start_time": "2022-05-20T12:38:25.433Z"
   },
   {
    "duration": 0,
    "start_time": "2022-05-20T12:38:25.434Z"
   },
   {
    "duration": 0,
    "start_time": "2022-05-20T12:38:25.436Z"
   },
   {
    "duration": 0,
    "start_time": "2022-05-20T12:38:25.437Z"
   },
   {
    "duration": 0,
    "start_time": "2022-05-20T12:38:25.438Z"
   },
   {
    "duration": 6,
    "start_time": "2022-05-20T12:42:46.755Z"
   },
   {
    "duration": 10,
    "start_time": "2022-05-20T12:42:57.367Z"
   },
   {
    "duration": 6,
    "start_time": "2022-05-20T12:43:19.356Z"
   },
   {
    "duration": 29,
    "start_time": "2022-05-20T12:44:41.271Z"
   },
   {
    "duration": 21,
    "start_time": "2022-05-20T13:03:02.822Z"
   },
   {
    "duration": 569,
    "start_time": "2022-05-20T13:03:35.030Z"
   },
   {
    "duration": 11,
    "start_time": "2022-05-20T13:04:06.651Z"
   },
   {
    "duration": 22,
    "start_time": "2022-05-20T13:04:48.648Z"
   },
   {
    "duration": 11,
    "start_time": "2022-05-20T13:04:51.779Z"
   },
   {
    "duration": 20,
    "start_time": "2022-05-20T13:05:14.689Z"
   },
   {
    "duration": 13,
    "start_time": "2022-05-20T13:06:04.908Z"
   },
   {
    "duration": 12,
    "start_time": "2022-05-20T13:07:24.453Z"
   },
   {
    "duration": 14,
    "start_time": "2022-05-20T13:07:32.322Z"
   },
   {
    "duration": 16,
    "start_time": "2022-05-20T13:07:48.424Z"
   },
   {
    "duration": 9,
    "start_time": "2022-05-20T13:08:35.459Z"
   },
   {
    "duration": 14,
    "start_time": "2022-05-20T13:08:44.965Z"
   },
   {
    "duration": 673,
    "start_time": "2022-05-20T13:08:58.001Z"
   },
   {
    "duration": 856,
    "start_time": "2022-05-20T13:09:29.615Z"
   },
   {
    "duration": 17,
    "start_time": "2022-05-20T13:09:50.827Z"
   },
   {
    "duration": 568,
    "start_time": "2022-05-20T13:10:06.871Z"
   },
   {
    "duration": 20,
    "start_time": "2022-05-20T13:10:07.442Z"
   },
   {
    "duration": 40,
    "start_time": "2022-05-20T13:10:07.464Z"
   },
   {
    "duration": 418,
    "start_time": "2022-05-20T13:10:07.510Z"
   },
   {
    "duration": 10,
    "start_time": "2022-05-20T13:10:07.930Z"
   },
   {
    "duration": 33,
    "start_time": "2022-05-20T13:10:07.942Z"
   },
   {
    "duration": 44,
    "start_time": "2022-05-20T13:10:07.977Z"
   },
   {
    "duration": 32,
    "start_time": "2022-05-20T13:10:08.023Z"
   },
   {
    "duration": 65,
    "start_time": "2022-05-20T13:10:08.056Z"
   },
   {
    "duration": 8,
    "start_time": "2022-05-20T13:10:08.123Z"
   },
   {
    "duration": 30,
    "start_time": "2022-05-20T13:10:08.133Z"
   },
   {
    "duration": 20,
    "start_time": "2022-05-20T13:10:08.165Z"
   },
   {
    "duration": 38,
    "start_time": "2022-05-20T13:10:08.187Z"
   },
   {
    "duration": 13,
    "start_time": "2022-05-20T13:10:08.229Z"
   },
   {
    "duration": 6,
    "start_time": "2022-05-20T13:10:08.244Z"
   },
   {
    "duration": 58,
    "start_time": "2022-05-20T13:10:08.252Z"
   },
   {
    "duration": 105,
    "start_time": "2022-05-20T13:10:08.319Z"
   },
   {
    "duration": 80,
    "start_time": "2022-05-20T13:10:08.426Z"
   },
   {
    "duration": 322,
    "start_time": "2022-05-20T13:10:08.507Z"
   },
   {
    "duration": 784,
    "start_time": "2022-05-20T13:10:08.831Z"
   },
   {
    "duration": 7,
    "start_time": "2022-05-20T13:10:09.617Z"
   },
   {
    "duration": 75,
    "start_time": "2022-05-20T13:10:09.625Z"
   },
   {
    "duration": 60,
    "start_time": "2022-05-20T13:10:09.702Z"
   },
   {
    "duration": 41,
    "start_time": "2022-05-20T13:10:09.764Z"
   },
   {
    "duration": 17,
    "start_time": "2022-05-20T13:10:09.808Z"
   },
   {
    "duration": 384,
    "start_time": "2022-05-20T13:10:09.827Z"
   },
   {
    "duration": 6,
    "start_time": "2022-05-20T13:10:10.213Z"
   },
   {
    "duration": 39,
    "start_time": "2022-05-20T13:10:10.221Z"
   },
   {
    "duration": 38,
    "start_time": "2022-05-20T13:10:10.262Z"
   },
   {
    "duration": 41,
    "start_time": "2022-05-20T13:10:10.305Z"
   },
   {
    "duration": 21,
    "start_time": "2022-05-20T13:10:10.348Z"
   },
   {
    "duration": 52,
    "start_time": "2022-05-20T13:10:10.371Z"
   },
   {
    "duration": 293,
    "start_time": "2022-05-20T13:10:10.425Z"
   },
   {
    "duration": 14,
    "start_time": "2022-05-20T13:10:10.720Z"
   },
   {
    "duration": 36,
    "start_time": "2022-05-20T13:10:10.736Z"
   },
   {
    "duration": 37,
    "start_time": "2022-05-20T13:10:10.776Z"
   },
   {
    "duration": 47,
    "start_time": "2022-05-20T13:10:10.815Z"
   },
   {
    "duration": 44,
    "start_time": "2022-05-20T13:10:10.864Z"
   },
   {
    "duration": 8,
    "start_time": "2022-05-20T13:10:10.914Z"
   },
   {
    "duration": 24,
    "start_time": "2022-05-20T13:10:10.924Z"
   },
   {
    "duration": 11,
    "start_time": "2022-05-20T13:10:10.954Z"
   },
   {
    "duration": 19,
    "start_time": "2022-05-20T13:10:10.967Z"
   },
   {
    "duration": 21,
    "start_time": "2022-05-20T13:10:10.988Z"
   },
   {
    "duration": 17,
    "start_time": "2022-05-20T13:10:11.013Z"
   },
   {
    "duration": 13,
    "start_time": "2022-05-20T13:10:11.032Z"
   },
   {
    "duration": 10,
    "start_time": "2022-05-20T13:10:11.047Z"
   },
   {
    "duration": 12,
    "start_time": "2022-05-20T13:10:11.059Z"
   },
   {
    "duration": 18,
    "start_time": "2022-05-20T13:10:11.073Z"
   },
   {
    "duration": 20,
    "start_time": "2022-05-20T13:10:11.093Z"
   },
   {
    "duration": 13,
    "start_time": "2022-05-20T13:10:11.125Z"
   },
   {
    "duration": 8,
    "start_time": "2022-05-20T13:10:11.139Z"
   },
   {
    "duration": 20,
    "start_time": "2022-05-20T13:10:11.149Z"
   },
   {
    "duration": 25,
    "start_time": "2022-05-20T13:10:11.171Z"
   },
   {
    "duration": 27,
    "start_time": "2022-05-20T13:10:11.203Z"
   },
   {
    "duration": 5,
    "start_time": "2022-05-20T13:10:11.232Z"
   },
   {
    "duration": 23,
    "start_time": "2022-05-20T13:10:11.239Z"
   },
   {
    "duration": 50,
    "start_time": "2022-05-20T13:10:11.264Z"
   },
   {
    "duration": 48,
    "start_time": "2022-05-20T13:10:11.316Z"
   },
   {
    "duration": 18,
    "start_time": "2022-05-20T13:10:11.366Z"
   },
   {
    "duration": 16,
    "start_time": "2022-05-20T13:10:11.395Z"
   },
   {
    "duration": 34,
    "start_time": "2022-05-20T13:10:11.413Z"
   },
   {
    "duration": 31,
    "start_time": "2022-05-20T13:10:11.448Z"
   },
   {
    "duration": 11,
    "start_time": "2022-05-20T13:10:11.481Z"
   },
   {
    "duration": 36,
    "start_time": "2022-05-20T13:10:11.500Z"
   },
   {
    "duration": 12,
    "start_time": "2022-05-20T13:10:11.545Z"
   },
   {
    "duration": 45,
    "start_time": "2022-05-20T13:10:11.559Z"
   },
   {
    "duration": 17,
    "start_time": "2022-05-20T13:10:11.608Z"
   },
   {
    "duration": 22,
    "start_time": "2022-05-20T13:10:11.627Z"
   },
   {
    "duration": 18,
    "start_time": "2022-05-20T13:10:11.650Z"
   },
   {
    "duration": 146,
    "start_time": "2022-05-20T13:10:11.670Z"
   },
   {
    "duration": 0,
    "start_time": "2022-05-20T13:10:11.821Z"
   },
   {
    "duration": 0,
    "start_time": "2022-05-20T13:10:11.824Z"
   },
   {
    "duration": 0,
    "start_time": "2022-05-20T13:10:11.825Z"
   },
   {
    "duration": 0,
    "start_time": "2022-05-20T13:10:11.827Z"
   },
   {
    "duration": 22,
    "start_time": "2022-05-20T13:12:16.210Z"
   },
   {
    "duration": 510,
    "start_time": "2022-05-20T13:14:55.143Z"
   },
   {
    "duration": 15,
    "start_time": "2022-05-20T13:14:55.656Z"
   },
   {
    "duration": 40,
    "start_time": "2022-05-20T13:14:55.673Z"
   },
   {
    "duration": 359,
    "start_time": "2022-05-20T13:14:55.715Z"
   },
   {
    "duration": 30,
    "start_time": "2022-05-20T13:14:56.076Z"
   },
   {
    "duration": 10,
    "start_time": "2022-05-20T13:14:56.108Z"
   },
   {
    "duration": 8,
    "start_time": "2022-05-20T13:14:56.119Z"
   },
   {
    "duration": 25,
    "start_time": "2022-05-20T13:14:56.128Z"
   },
   {
    "duration": 32,
    "start_time": "2022-05-20T13:14:56.154Z"
   },
   {
    "duration": 12,
    "start_time": "2022-05-20T13:14:56.199Z"
   },
   {
    "duration": 5,
    "start_time": "2022-05-20T13:14:56.214Z"
   },
   {
    "duration": 10,
    "start_time": "2022-05-20T13:14:56.221Z"
   },
   {
    "duration": 8,
    "start_time": "2022-05-20T13:14:56.233Z"
   },
   {
    "duration": 8,
    "start_time": "2022-05-20T13:14:56.245Z"
   },
   {
    "duration": 6,
    "start_time": "2022-05-20T13:14:56.255Z"
   },
   {
    "duration": 50,
    "start_time": "2022-05-20T13:14:56.263Z"
   },
   {
    "duration": 31,
    "start_time": "2022-05-20T13:14:56.315Z"
   },
   {
    "duration": 15,
    "start_time": "2022-05-20T13:14:56.347Z"
   },
   {
    "duration": 169,
    "start_time": "2022-05-20T13:14:56.364Z"
   },
   {
    "duration": 256,
    "start_time": "2022-05-20T13:14:56.535Z"
   },
   {
    "duration": 11,
    "start_time": "2022-05-20T13:14:56.796Z"
   },
   {
    "duration": 14,
    "start_time": "2022-05-20T13:14:56.809Z"
   },
   {
    "duration": 7,
    "start_time": "2022-05-20T13:14:56.825Z"
   },
   {
    "duration": 13,
    "start_time": "2022-05-20T13:14:56.834Z"
   },
   {
    "duration": 6,
    "start_time": "2022-05-20T13:14:56.849Z"
   },
   {
    "duration": 234,
    "start_time": "2022-05-20T13:14:56.856Z"
   },
   {
    "duration": 14,
    "start_time": "2022-05-20T13:14:57.091Z"
   },
   {
    "duration": 11,
    "start_time": "2022-05-20T13:14:57.107Z"
   },
   {
    "duration": 14,
    "start_time": "2022-05-20T13:14:57.120Z"
   },
   {
    "duration": 10,
    "start_time": "2022-05-20T13:14:57.136Z"
   },
   {
    "duration": 13,
    "start_time": "2022-05-20T13:14:57.148Z"
   },
   {
    "duration": 47,
    "start_time": "2022-05-20T13:14:57.162Z"
   },
   {
    "duration": 304,
    "start_time": "2022-05-20T13:14:57.215Z"
   },
   {
    "duration": 12,
    "start_time": "2022-05-20T13:14:57.521Z"
   },
   {
    "duration": 13,
    "start_time": "2022-05-20T13:14:57.534Z"
   },
   {
    "duration": 13,
    "start_time": "2022-05-20T13:14:57.549Z"
   },
   {
    "duration": 29,
    "start_time": "2022-05-20T13:14:57.564Z"
   },
   {
    "duration": 30,
    "start_time": "2022-05-20T13:14:57.598Z"
   },
   {
    "duration": 4,
    "start_time": "2022-05-20T13:14:57.631Z"
   },
   {
    "duration": 5,
    "start_time": "2022-05-20T13:14:57.637Z"
   },
   {
    "duration": 5,
    "start_time": "2022-05-20T13:14:57.645Z"
   },
   {
    "duration": 10,
    "start_time": "2022-05-20T13:14:57.651Z"
   },
   {
    "duration": 7,
    "start_time": "2022-05-20T13:14:57.662Z"
   },
   {
    "duration": 5,
    "start_time": "2022-05-20T13:14:57.670Z"
   },
   {
    "duration": 14,
    "start_time": "2022-05-20T13:14:57.694Z"
   },
   {
    "duration": 8,
    "start_time": "2022-05-20T13:14:57.709Z"
   },
   {
    "duration": 9,
    "start_time": "2022-05-20T13:14:57.719Z"
   },
   {
    "duration": 8,
    "start_time": "2022-05-20T13:14:57.730Z"
   },
   {
    "duration": 10,
    "start_time": "2022-05-20T13:14:57.740Z"
   },
   {
    "duration": 8,
    "start_time": "2022-05-20T13:14:57.752Z"
   },
   {
    "duration": 5,
    "start_time": "2022-05-20T13:14:57.761Z"
   },
   {
    "duration": 45,
    "start_time": "2022-05-20T13:14:57.768Z"
   },
   {
    "duration": 15,
    "start_time": "2022-05-20T13:14:57.815Z"
   },
   {
    "duration": 16,
    "start_time": "2022-05-20T13:14:57.831Z"
   },
   {
    "duration": 4,
    "start_time": "2022-05-20T13:14:57.849Z"
   },
   {
    "duration": 44,
    "start_time": "2022-05-20T13:14:57.855Z"
   },
   {
    "duration": 19,
    "start_time": "2022-05-20T13:14:57.905Z"
   },
   {
    "duration": 33,
    "start_time": "2022-05-20T13:14:57.925Z"
   },
   {
    "duration": 12,
    "start_time": "2022-05-20T13:14:57.960Z"
   },
   {
    "duration": 34,
    "start_time": "2022-05-20T13:14:57.973Z"
   },
   {
    "duration": 13,
    "start_time": "2022-05-20T13:14:58.009Z"
   },
   {
    "duration": 20,
    "start_time": "2022-05-20T13:14:58.023Z"
   },
   {
    "duration": 9,
    "start_time": "2022-05-20T13:14:58.045Z"
   },
   {
    "duration": 21,
    "start_time": "2022-05-20T13:14:58.055Z"
   },
   {
    "duration": 24,
    "start_time": "2022-05-20T13:14:58.077Z"
   },
   {
    "duration": 108,
    "start_time": "2022-05-20T13:14:58.103Z"
   },
   {
    "duration": 0,
    "start_time": "2022-05-20T13:14:58.213Z"
   },
   {
    "duration": 0,
    "start_time": "2022-05-20T13:14:58.215Z"
   },
   {
    "duration": 0,
    "start_time": "2022-05-20T13:14:58.216Z"
   },
   {
    "duration": 0,
    "start_time": "2022-05-20T13:14:58.217Z"
   },
   {
    "duration": 0,
    "start_time": "2022-05-20T13:14:58.218Z"
   },
   {
    "duration": 0,
    "start_time": "2022-05-20T13:14:58.219Z"
   },
   {
    "duration": 0,
    "start_time": "2022-05-20T13:14:58.221Z"
   },
   {
    "duration": 0,
    "start_time": "2022-05-20T13:14:58.222Z"
   },
   {
    "duration": 545,
    "start_time": "2022-05-20T13:15:17.356Z"
   },
   {
    "duration": 16,
    "start_time": "2022-05-20T13:15:17.905Z"
   },
   {
    "duration": 16,
    "start_time": "2022-05-20T13:15:17.922Z"
   },
   {
    "duration": 374,
    "start_time": "2022-05-20T13:15:17.939Z"
   },
   {
    "duration": 11,
    "start_time": "2022-05-20T13:15:18.316Z"
   },
   {
    "duration": 12,
    "start_time": "2022-05-20T13:15:18.328Z"
   },
   {
    "duration": 6,
    "start_time": "2022-05-20T13:15:18.341Z"
   },
   {
    "duration": 23,
    "start_time": "2022-05-20T13:15:18.348Z"
   },
   {
    "duration": 61,
    "start_time": "2022-05-20T13:15:18.372Z"
   },
   {
    "duration": 9,
    "start_time": "2022-05-20T13:15:18.435Z"
   },
   {
    "duration": 7,
    "start_time": "2022-05-20T13:15:18.445Z"
   },
   {
    "duration": 8,
    "start_time": "2022-05-20T13:15:18.453Z"
   },
   {
    "duration": 34,
    "start_time": "2022-05-20T13:15:18.462Z"
   },
   {
    "duration": 12,
    "start_time": "2022-05-20T13:15:18.506Z"
   },
   {
    "duration": 9,
    "start_time": "2022-05-20T13:15:18.520Z"
   },
   {
    "duration": 27,
    "start_time": "2022-05-20T13:15:18.531Z"
   },
   {
    "duration": 59,
    "start_time": "2022-05-20T13:15:18.561Z"
   },
   {
    "duration": 14,
    "start_time": "2022-05-20T13:15:18.622Z"
   },
   {
    "duration": 165,
    "start_time": "2022-05-20T13:15:18.638Z"
   },
   {
    "duration": 256,
    "start_time": "2022-05-20T13:15:18.808Z"
   },
   {
    "duration": 7,
    "start_time": "2022-05-20T13:15:19.065Z"
   },
   {
    "duration": 34,
    "start_time": "2022-05-20T13:15:19.074Z"
   },
   {
    "duration": 10,
    "start_time": "2022-05-20T13:15:19.109Z"
   },
   {
    "duration": 12,
    "start_time": "2022-05-20T13:15:19.121Z"
   },
   {
    "duration": 5,
    "start_time": "2022-05-20T13:15:19.135Z"
   },
   {
    "duration": 241,
    "start_time": "2022-05-20T13:15:19.141Z"
   },
   {
    "duration": 19,
    "start_time": "2022-05-20T13:15:19.384Z"
   },
   {
    "duration": 12,
    "start_time": "2022-05-20T13:15:19.404Z"
   },
   {
    "duration": 14,
    "start_time": "2022-05-20T13:15:19.417Z"
   },
   {
    "duration": 9,
    "start_time": "2022-05-20T13:15:19.433Z"
   },
   {
    "duration": 11,
    "start_time": "2022-05-20T13:15:19.444Z"
   },
   {
    "duration": 12,
    "start_time": "2022-05-20T13:15:19.457Z"
   },
   {
    "duration": 265,
    "start_time": "2022-05-20T13:15:19.497Z"
   },
   {
    "duration": 11,
    "start_time": "2022-05-20T13:15:19.764Z"
   },
   {
    "duration": 4,
    "start_time": "2022-05-20T13:15:19.777Z"
   },
   {
    "duration": 14,
    "start_time": "2022-05-20T13:15:19.796Z"
   },
   {
    "duration": 11,
    "start_time": "2022-05-20T13:15:19.813Z"
   },
   {
    "duration": 13,
    "start_time": "2022-05-20T13:15:19.825Z"
   },
   {
    "duration": 5,
    "start_time": "2022-05-20T13:15:19.840Z"
   },
   {
    "duration": 5,
    "start_time": "2022-05-20T13:15:19.846Z"
   },
   {
    "duration": 5,
    "start_time": "2022-05-20T13:15:19.856Z"
   },
   {
    "duration": 15,
    "start_time": "2022-05-20T13:15:19.896Z"
   },
   {
    "duration": 14,
    "start_time": "2022-05-20T13:15:19.913Z"
   },
   {
    "duration": 7,
    "start_time": "2022-05-20T13:15:19.929Z"
   },
   {
    "duration": 8,
    "start_time": "2022-05-20T13:15:19.938Z"
   },
   {
    "duration": 7,
    "start_time": "2022-05-20T13:15:19.948Z"
   },
   {
    "duration": 7,
    "start_time": "2022-05-20T13:15:19.957Z"
   },
   {
    "duration": 36,
    "start_time": "2022-05-20T13:15:19.966Z"
   },
   {
    "duration": 15,
    "start_time": "2022-05-20T13:15:20.005Z"
   },
   {
    "duration": 8,
    "start_time": "2022-05-20T13:15:20.022Z"
   },
   {
    "duration": 11,
    "start_time": "2022-05-20T13:15:20.032Z"
   },
   {
    "duration": 18,
    "start_time": "2022-05-20T13:15:20.045Z"
   },
   {
    "duration": 40,
    "start_time": "2022-05-20T13:15:20.065Z"
   },
   {
    "duration": 29,
    "start_time": "2022-05-20T13:15:20.109Z"
   },
   {
    "duration": 4,
    "start_time": "2022-05-20T13:15:20.140Z"
   },
   {
    "duration": 15,
    "start_time": "2022-05-20T13:15:20.146Z"
   },
   {
    "duration": 37,
    "start_time": "2022-05-20T13:15:20.163Z"
   },
   {
    "duration": 42,
    "start_time": "2022-05-20T13:15:20.203Z"
   },
   {
    "duration": 12,
    "start_time": "2022-05-20T13:15:20.247Z"
   },
   {
    "duration": 16,
    "start_time": "2022-05-20T13:15:20.261Z"
   },
   {
    "duration": 41,
    "start_time": "2022-05-20T13:15:20.278Z"
   },
   {
    "duration": 21,
    "start_time": "2022-05-20T13:15:20.321Z"
   },
   {
    "duration": 42,
    "start_time": "2022-05-20T13:15:20.344Z"
   },
   {
    "duration": 46,
    "start_time": "2022-05-20T13:15:20.388Z"
   },
   {
    "duration": 33,
    "start_time": "2022-05-20T13:15:20.435Z"
   },
   {
    "duration": 142,
    "start_time": "2022-05-20T13:15:20.470Z"
   },
   {
    "duration": 0,
    "start_time": "2022-05-20T13:15:20.614Z"
   },
   {
    "duration": 0,
    "start_time": "2022-05-20T13:15:20.615Z"
   },
   {
    "duration": 0,
    "start_time": "2022-05-20T13:15:20.617Z"
   },
   {
    "duration": 0,
    "start_time": "2022-05-20T13:15:20.618Z"
   },
   {
    "duration": 0,
    "start_time": "2022-05-20T13:15:20.620Z"
   },
   {
    "duration": 0,
    "start_time": "2022-05-20T13:15:20.621Z"
   },
   {
    "duration": 0,
    "start_time": "2022-05-20T13:15:20.622Z"
   },
   {
    "duration": 0,
    "start_time": "2022-05-20T13:15:20.624Z"
   },
   {
    "duration": 58,
    "start_time": "2022-05-20T13:16:00.987Z"
   },
   {
    "duration": 19,
    "start_time": "2022-05-20T13:16:12.157Z"
   },
   {
    "duration": 38,
    "start_time": "2022-05-20T13:16:37.185Z"
   },
   {
    "duration": 22,
    "start_time": "2022-05-20T13:18:10.758Z"
   },
   {
    "duration": 21,
    "start_time": "2022-05-20T13:18:19.862Z"
   },
   {
    "duration": 22,
    "start_time": "2022-05-20T13:18:44.939Z"
   },
   {
    "duration": 22,
    "start_time": "2022-05-20T13:18:56.267Z"
   },
   {
    "duration": 34,
    "start_time": "2022-05-20T13:19:27.578Z"
   },
   {
    "duration": 18,
    "start_time": "2022-05-20T13:19:36.137Z"
   },
   {
    "duration": 18,
    "start_time": "2022-05-20T13:19:46.947Z"
   },
   {
    "duration": 21,
    "start_time": "2022-05-20T13:20:03.146Z"
   },
   {
    "duration": 22,
    "start_time": "2022-05-20T13:20:43.266Z"
   },
   {
    "duration": 22,
    "start_time": "2022-05-20T13:20:48.117Z"
   },
   {
    "duration": 20,
    "start_time": "2022-05-20T13:22:20.246Z"
   },
   {
    "duration": 30,
    "start_time": "2022-05-20T13:22:44.546Z"
   },
   {
    "duration": 24,
    "start_time": "2022-05-20T13:23:02.040Z"
   },
   {
    "duration": 23,
    "start_time": "2022-05-20T13:23:09.596Z"
   },
   {
    "duration": 31,
    "start_time": "2022-05-20T13:24:39.376Z"
   },
   {
    "duration": 21,
    "start_time": "2022-05-20T13:24:53.906Z"
   },
   {
    "duration": 30,
    "start_time": "2022-05-20T13:25:03.706Z"
   },
   {
    "duration": 36,
    "start_time": "2022-05-20T13:25:29.407Z"
   },
   {
    "duration": 22,
    "start_time": "2022-05-20T13:25:56.995Z"
   },
   {
    "duration": 24,
    "start_time": "2022-05-20T13:26:04.665Z"
   },
   {
    "duration": 23,
    "start_time": "2022-05-20T13:26:30.376Z"
   },
   {
    "duration": 24,
    "start_time": "2022-05-20T13:26:52.525Z"
   },
   {
    "duration": 25,
    "start_time": "2022-05-20T13:26:58.475Z"
   },
   {
    "duration": 25,
    "start_time": "2022-05-20T13:27:08.681Z"
   },
   {
    "duration": 26,
    "start_time": "2022-05-20T13:28:07.805Z"
   },
   {
    "duration": 8,
    "start_time": "2022-05-20T13:31:19.614Z"
   },
   {
    "duration": 3,
    "start_time": "2022-05-20T13:31:23.645Z"
   },
   {
    "duration": 560,
    "start_time": "2022-05-20T18:59:26.510Z"
   },
   {
    "duration": 31,
    "start_time": "2022-05-20T18:59:27.072Z"
   },
   {
    "duration": 26,
    "start_time": "2022-05-20T18:59:27.105Z"
   },
   {
    "duration": 391,
    "start_time": "2022-05-20T18:59:27.133Z"
   },
   {
    "duration": 11,
    "start_time": "2022-05-20T18:59:27.526Z"
   },
   {
    "duration": 16,
    "start_time": "2022-05-20T18:59:27.539Z"
   },
   {
    "duration": 7,
    "start_time": "2022-05-20T18:59:27.556Z"
   },
   {
    "duration": 42,
    "start_time": "2022-05-20T18:59:27.564Z"
   },
   {
    "duration": 36,
    "start_time": "2022-05-20T18:59:27.608Z"
   },
   {
    "duration": 7,
    "start_time": "2022-05-20T18:59:27.645Z"
   },
   {
    "duration": 5,
    "start_time": "2022-05-20T18:59:27.654Z"
   },
   {
    "duration": 37,
    "start_time": "2022-05-20T18:59:27.661Z"
   },
   {
    "duration": 13,
    "start_time": "2022-05-20T18:59:27.701Z"
   },
   {
    "duration": 9,
    "start_time": "2022-05-20T18:59:27.717Z"
   },
   {
    "duration": 5,
    "start_time": "2022-05-20T18:59:27.728Z"
   },
   {
    "duration": 20,
    "start_time": "2022-05-20T18:59:27.735Z"
   },
   {
    "duration": 73,
    "start_time": "2022-05-20T18:59:27.757Z"
   },
   {
    "duration": 14,
    "start_time": "2022-05-20T18:59:27.832Z"
   },
   {
    "duration": 181,
    "start_time": "2022-05-20T18:59:27.848Z"
   },
   {
    "duration": 286,
    "start_time": "2022-05-20T18:59:28.030Z"
   },
   {
    "duration": 6,
    "start_time": "2022-05-20T18:59:28.318Z"
   },
   {
    "duration": 8,
    "start_time": "2022-05-20T18:59:28.326Z"
   },
   {
    "duration": 9,
    "start_time": "2022-05-20T18:59:28.335Z"
   },
   {
    "duration": 12,
    "start_time": "2022-05-20T18:59:28.346Z"
   },
   {
    "duration": 6,
    "start_time": "2022-05-20T18:59:28.360Z"
   },
   {
    "duration": 246,
    "start_time": "2022-05-20T18:59:28.367Z"
   },
   {
    "duration": 6,
    "start_time": "2022-05-20T18:59:28.615Z"
   },
   {
    "duration": 10,
    "start_time": "2022-05-20T18:59:28.622Z"
   },
   {
    "duration": 15,
    "start_time": "2022-05-20T18:59:28.634Z"
   },
   {
    "duration": 11,
    "start_time": "2022-05-20T18:59:28.651Z"
   },
   {
    "duration": 49,
    "start_time": "2022-05-20T18:59:28.663Z"
   },
   {
    "duration": 14,
    "start_time": "2022-05-20T18:59:28.714Z"
   },
   {
    "duration": 300,
    "start_time": "2022-05-20T18:59:28.730Z"
   },
   {
    "duration": 11,
    "start_time": "2022-05-20T18:59:29.032Z"
   },
   {
    "duration": 21,
    "start_time": "2022-05-20T18:59:29.044Z"
   },
   {
    "duration": 17,
    "start_time": "2022-05-20T18:59:29.067Z"
   },
   {
    "duration": 31,
    "start_time": "2022-05-20T18:59:29.086Z"
   },
   {
    "duration": 11,
    "start_time": "2022-05-20T18:59:29.119Z"
   },
   {
    "duration": 19,
    "start_time": "2022-05-20T18:59:29.132Z"
   },
   {
    "duration": 10,
    "start_time": "2022-05-20T18:59:29.153Z"
   },
   {
    "duration": 13,
    "start_time": "2022-05-20T18:59:29.167Z"
   },
   {
    "duration": 32,
    "start_time": "2022-05-20T18:59:29.181Z"
   },
   {
    "duration": 12,
    "start_time": "2022-05-20T18:59:29.214Z"
   },
   {
    "duration": 14,
    "start_time": "2022-05-20T18:59:29.228Z"
   },
   {
    "duration": 26,
    "start_time": "2022-05-20T18:59:29.243Z"
   },
   {
    "duration": 17,
    "start_time": "2022-05-20T18:59:29.271Z"
   },
   {
    "duration": 30,
    "start_time": "2022-05-20T18:59:29.289Z"
   },
   {
    "duration": 26,
    "start_time": "2022-05-20T18:59:29.321Z"
   },
   {
    "duration": 13,
    "start_time": "2022-05-20T18:59:29.349Z"
   },
   {
    "duration": 20,
    "start_time": "2022-05-20T18:59:29.364Z"
   },
   {
    "duration": 18,
    "start_time": "2022-05-20T18:59:29.385Z"
   },
   {
    "duration": 36,
    "start_time": "2022-05-20T18:59:29.405Z"
   },
   {
    "duration": 16,
    "start_time": "2022-05-20T18:59:29.443Z"
   },
   {
    "duration": 19,
    "start_time": "2022-05-20T18:59:29.460Z"
   },
   {
    "duration": 15,
    "start_time": "2022-05-20T18:59:29.481Z"
   },
   {
    "duration": 34,
    "start_time": "2022-05-20T18:59:29.499Z"
   },
   {
    "duration": 28,
    "start_time": "2022-05-20T18:59:29.535Z"
   },
   {
    "duration": 44,
    "start_time": "2022-05-20T18:59:29.565Z"
   },
   {
    "duration": 11,
    "start_time": "2022-05-20T18:59:29.612Z"
   },
   {
    "duration": 15,
    "start_time": "2022-05-20T18:59:29.625Z"
   },
   {
    "duration": 15,
    "start_time": "2022-05-20T18:59:29.642Z"
   },
   {
    "duration": 44,
    "start_time": "2022-05-20T18:59:29.658Z"
   },
   {
    "duration": 10,
    "start_time": "2022-05-20T18:59:29.705Z"
   },
   {
    "duration": 24,
    "start_time": "2022-05-20T18:59:29.717Z"
   },
   {
    "duration": 18,
    "start_time": "2022-05-20T18:59:29.742Z"
   },
   {
    "duration": 23,
    "start_time": "2022-05-20T18:59:29.761Z"
   },
   {
    "duration": 130,
    "start_time": "2022-05-20T18:59:29.786Z"
   },
   {
    "duration": 0,
    "start_time": "2022-05-20T18:59:29.918Z"
   },
   {
    "duration": 0,
    "start_time": "2022-05-20T18:59:29.919Z"
   },
   {
    "duration": 0,
    "start_time": "2022-05-20T18:59:29.920Z"
   },
   {
    "duration": 0,
    "start_time": "2022-05-20T18:59:29.921Z"
   },
   {
    "duration": 0,
    "start_time": "2022-05-20T18:59:29.923Z"
   },
   {
    "duration": 0,
    "start_time": "2022-05-20T18:59:29.924Z"
   },
   {
    "duration": 0,
    "start_time": "2022-05-20T18:59:29.925Z"
   },
   {
    "duration": 0,
    "start_time": "2022-05-20T18:59:29.926Z"
   },
   {
    "duration": 548,
    "start_time": "2022-05-20T18:59:48.845Z"
   },
   {
    "duration": 26,
    "start_time": "2022-05-20T18:59:49.395Z"
   },
   {
    "duration": 19,
    "start_time": "2022-05-20T18:59:49.423Z"
   },
   {
    "duration": 394,
    "start_time": "2022-05-20T18:59:49.444Z"
   },
   {
    "duration": 11,
    "start_time": "2022-05-20T18:59:49.839Z"
   },
   {
    "duration": 9,
    "start_time": "2022-05-20T18:59:49.851Z"
   },
   {
    "duration": 6,
    "start_time": "2022-05-20T18:59:49.861Z"
   },
   {
    "duration": 54,
    "start_time": "2022-05-20T18:59:49.870Z"
   },
   {
    "duration": 35,
    "start_time": "2022-05-20T18:59:49.926Z"
   },
   {
    "duration": 7,
    "start_time": "2022-05-20T18:59:49.963Z"
   },
   {
    "duration": 6,
    "start_time": "2022-05-20T18:59:49.972Z"
   },
   {
    "duration": 12,
    "start_time": "2022-05-20T18:59:49.998Z"
   },
   {
    "duration": 23,
    "start_time": "2022-05-20T18:59:50.012Z"
   },
   {
    "duration": 8,
    "start_time": "2022-05-20T18:59:50.037Z"
   },
   {
    "duration": 6,
    "start_time": "2022-05-20T18:59:50.047Z"
   },
   {
    "duration": 19,
    "start_time": "2022-05-20T18:59:50.054Z"
   },
   {
    "duration": 65,
    "start_time": "2022-05-20T18:59:50.075Z"
   },
   {
    "duration": 14,
    "start_time": "2022-05-20T18:59:50.141Z"
   },
   {
    "duration": 201,
    "start_time": "2022-05-20T18:59:50.157Z"
   },
   {
    "duration": 661,
    "start_time": "2022-05-20T18:59:50.360Z"
   },
   {
    "duration": 7,
    "start_time": "2022-05-20T18:59:51.023Z"
   },
   {
    "duration": 6,
    "start_time": "2022-05-20T18:59:51.032Z"
   },
   {
    "duration": 70,
    "start_time": "2022-05-20T18:59:51.040Z"
   },
   {
    "duration": 20,
    "start_time": "2022-05-20T18:59:51.112Z"
   },
   {
    "duration": 7,
    "start_time": "2022-05-20T18:59:51.134Z"
   },
   {
    "duration": 503,
    "start_time": "2022-05-20T18:59:51.143Z"
   },
   {
    "duration": 12,
    "start_time": "2022-05-20T18:59:51.694Z"
   },
   {
    "duration": 25,
    "start_time": "2022-05-20T18:59:51.713Z"
   },
   {
    "duration": 61,
    "start_time": "2022-05-20T18:59:51.740Z"
   },
   {
    "duration": 21,
    "start_time": "2022-05-20T18:59:51.804Z"
   },
   {
    "duration": 20,
    "start_time": "2022-05-20T18:59:51.827Z"
   },
   {
    "duration": 76,
    "start_time": "2022-05-20T18:59:51.848Z"
   },
   {
    "duration": 699,
    "start_time": "2022-05-20T18:59:51.926Z"
   },
   {
    "duration": 10,
    "start_time": "2022-05-20T18:59:52.627Z"
   },
   {
    "duration": 7,
    "start_time": "2022-05-20T18:59:52.638Z"
   },
   {
    "duration": 59,
    "start_time": "2022-05-20T18:59:52.646Z"
   },
   {
    "duration": 28,
    "start_time": "2022-05-20T18:59:52.708Z"
   },
   {
    "duration": 12,
    "start_time": "2022-05-20T18:59:52.738Z"
   },
   {
    "duration": 9,
    "start_time": "2022-05-20T18:59:52.752Z"
   },
   {
    "duration": 9,
    "start_time": "2022-05-20T18:59:52.763Z"
   },
   {
    "duration": 9,
    "start_time": "2022-05-20T18:59:52.774Z"
   },
   {
    "duration": 23,
    "start_time": "2022-05-20T18:59:52.785Z"
   },
   {
    "duration": 20,
    "start_time": "2022-05-20T18:59:52.811Z"
   },
   {
    "duration": 5,
    "start_time": "2022-05-20T18:59:52.833Z"
   },
   {
    "duration": 23,
    "start_time": "2022-05-20T18:59:52.840Z"
   },
   {
    "duration": 20,
    "start_time": "2022-05-20T18:59:52.865Z"
   },
   {
    "duration": 36,
    "start_time": "2022-05-20T18:59:52.887Z"
   },
   {
    "duration": 10,
    "start_time": "2022-05-20T18:59:52.925Z"
   },
   {
    "duration": 8,
    "start_time": "2022-05-20T18:59:52.936Z"
   },
   {
    "duration": 8,
    "start_time": "2022-05-20T18:59:52.945Z"
   },
   {
    "duration": 6,
    "start_time": "2022-05-20T18:59:52.955Z"
   },
   {
    "duration": 20,
    "start_time": "2022-05-20T18:59:52.963Z"
   },
   {
    "duration": 40,
    "start_time": "2022-05-20T18:59:52.984Z"
   },
   {
    "duration": 21,
    "start_time": "2022-05-20T18:59:53.026Z"
   },
   {
    "duration": 5,
    "start_time": "2022-05-20T18:59:53.049Z"
   },
   {
    "duration": 17,
    "start_time": "2022-05-20T18:59:53.055Z"
   },
   {
    "duration": 56,
    "start_time": "2022-05-20T18:59:53.074Z"
   },
   {
    "duration": 31,
    "start_time": "2022-05-20T18:59:53.133Z"
   },
   {
    "duration": 11,
    "start_time": "2022-05-20T18:59:53.166Z"
   },
   {
    "duration": 39,
    "start_time": "2022-05-20T18:59:53.179Z"
   },
   {
    "duration": 13,
    "start_time": "2022-05-20T18:59:53.220Z"
   },
   {
    "duration": 30,
    "start_time": "2022-05-20T18:59:53.235Z"
   },
   {
    "duration": 5,
    "start_time": "2022-05-20T18:59:53.267Z"
   },
   {
    "duration": 52,
    "start_time": "2022-05-20T18:59:53.274Z"
   },
   {
    "duration": 6,
    "start_time": "2022-05-20T18:59:53.328Z"
   },
   {
    "duration": 12,
    "start_time": "2022-05-20T18:59:53.336Z"
   },
   {
    "duration": 118,
    "start_time": "2022-05-20T18:59:53.350Z"
   },
   {
    "duration": 0,
    "start_time": "2022-05-20T18:59:53.470Z"
   },
   {
    "duration": 0,
    "start_time": "2022-05-20T18:59:53.471Z"
   },
   {
    "duration": 0,
    "start_time": "2022-05-20T18:59:53.472Z"
   },
   {
    "duration": 0,
    "start_time": "2022-05-20T18:59:53.473Z"
   },
   {
    "duration": 0,
    "start_time": "2022-05-20T18:59:53.474Z"
   },
   {
    "duration": 0,
    "start_time": "2022-05-20T18:59:53.475Z"
   },
   {
    "duration": 0,
    "start_time": "2022-05-20T18:59:53.476Z"
   },
   {
    "duration": 0,
    "start_time": "2022-05-20T18:59:53.477Z"
   },
   {
    "duration": 554,
    "start_time": "2022-05-20T19:01:06.754Z"
   },
   {
    "duration": 23,
    "start_time": "2022-05-20T19:01:07.311Z"
   },
   {
    "duration": 26,
    "start_time": "2022-05-20T19:01:07.336Z"
   },
   {
    "duration": 363,
    "start_time": "2022-05-20T19:01:07.364Z"
   },
   {
    "duration": 10,
    "start_time": "2022-05-20T19:01:07.729Z"
   },
   {
    "duration": 9,
    "start_time": "2022-05-20T19:01:07.741Z"
   },
   {
    "duration": 13,
    "start_time": "2022-05-20T19:01:07.751Z"
   },
   {
    "duration": 31,
    "start_time": "2022-05-20T19:01:07.765Z"
   },
   {
    "duration": 43,
    "start_time": "2022-05-20T19:01:07.798Z"
   },
   {
    "duration": 7,
    "start_time": "2022-05-20T19:01:07.843Z"
   },
   {
    "duration": 27,
    "start_time": "2022-05-20T19:01:07.852Z"
   },
   {
    "duration": 31,
    "start_time": "2022-05-20T19:01:07.881Z"
   },
   {
    "duration": 40,
    "start_time": "2022-05-20T19:01:07.914Z"
   },
   {
    "duration": 22,
    "start_time": "2022-05-20T19:01:07.958Z"
   },
   {
    "duration": 47,
    "start_time": "2022-05-20T19:01:07.982Z"
   },
   {
    "duration": 20,
    "start_time": "2022-05-20T19:01:08.031Z"
   },
   {
    "duration": 36,
    "start_time": "2022-05-20T19:01:08.053Z"
   },
   {
    "duration": 23,
    "start_time": "2022-05-20T19:01:08.091Z"
   },
   {
    "duration": 173,
    "start_time": "2022-05-20T19:01:08.115Z"
   },
   {
    "duration": 290,
    "start_time": "2022-05-20T19:01:08.289Z"
   },
   {
    "duration": 6,
    "start_time": "2022-05-20T19:01:08.580Z"
   },
   {
    "duration": 24,
    "start_time": "2022-05-20T19:01:08.603Z"
   },
   {
    "duration": 22,
    "start_time": "2022-05-20T19:01:08.628Z"
   },
   {
    "duration": 37,
    "start_time": "2022-05-20T19:01:08.651Z"
   },
   {
    "duration": 26,
    "start_time": "2022-05-20T19:01:08.689Z"
   },
   {
    "duration": 236,
    "start_time": "2022-05-20T19:01:08.717Z"
   },
   {
    "duration": 6,
    "start_time": "2022-05-20T19:01:08.954Z"
   },
   {
    "duration": 52,
    "start_time": "2022-05-20T19:01:08.961Z"
   },
   {
    "duration": 37,
    "start_time": "2022-05-20T19:01:09.015Z"
   },
   {
    "duration": 30,
    "start_time": "2022-05-20T19:01:09.053Z"
   },
   {
    "duration": 40,
    "start_time": "2022-05-20T19:01:09.084Z"
   },
   {
    "duration": 38,
    "start_time": "2022-05-20T19:01:09.126Z"
   },
   {
    "duration": 297,
    "start_time": "2022-05-20T19:01:09.166Z"
   },
   {
    "duration": 9,
    "start_time": "2022-05-20T19:01:09.465Z"
   },
   {
    "duration": 17,
    "start_time": "2022-05-20T19:01:09.476Z"
   },
   {
    "duration": 32,
    "start_time": "2022-05-20T19:01:09.503Z"
   },
   {
    "duration": 30,
    "start_time": "2022-05-20T19:01:09.537Z"
   },
   {
    "duration": 35,
    "start_time": "2022-05-20T19:01:09.569Z"
   },
   {
    "duration": 50,
    "start_time": "2022-05-20T19:01:09.606Z"
   },
   {
    "duration": 43,
    "start_time": "2022-05-20T19:01:09.658Z"
   },
   {
    "duration": 41,
    "start_time": "2022-05-20T19:01:09.706Z"
   },
   {
    "duration": 61,
    "start_time": "2022-05-20T19:01:09.748Z"
   },
   {
    "duration": 87,
    "start_time": "2022-05-20T19:01:09.811Z"
   },
   {
    "duration": 20,
    "start_time": "2022-05-20T19:01:09.900Z"
   },
   {
    "duration": 31,
    "start_time": "2022-05-20T19:01:09.922Z"
   },
   {
    "duration": 49,
    "start_time": "2022-05-20T19:01:09.955Z"
   },
   {
    "duration": 36,
    "start_time": "2022-05-20T19:01:10.006Z"
   },
   {
    "duration": 63,
    "start_time": "2022-05-20T19:01:10.044Z"
   },
   {
    "duration": 40,
    "start_time": "2022-05-20T19:01:10.109Z"
   },
   {
    "duration": 73,
    "start_time": "2022-05-20T19:01:10.151Z"
   },
   {
    "duration": 14,
    "start_time": "2022-05-20T19:01:10.227Z"
   },
   {
    "duration": 78,
    "start_time": "2022-05-20T19:01:10.243Z"
   },
   {
    "duration": 16,
    "start_time": "2022-05-20T19:01:10.322Z"
   },
   {
    "duration": 81,
    "start_time": "2022-05-20T19:01:10.340Z"
   },
   {
    "duration": 36,
    "start_time": "2022-05-20T19:01:10.423Z"
   },
   {
    "duration": 27,
    "start_time": "2022-05-20T19:01:10.497Z"
   },
   {
    "duration": 94,
    "start_time": "2022-05-20T19:01:10.526Z"
   },
   {
    "duration": 95,
    "start_time": "2022-05-20T19:01:10.622Z"
   },
   {
    "duration": 12,
    "start_time": "2022-05-20T19:01:10.719Z"
   },
   {
    "duration": 80,
    "start_time": "2022-05-20T19:01:10.733Z"
   },
   {
    "duration": 12,
    "start_time": "2022-05-20T19:01:10.815Z"
   },
   {
    "duration": 79,
    "start_time": "2022-05-20T19:01:10.829Z"
   },
   {
    "duration": 33,
    "start_time": "2022-05-20T19:01:10.910Z"
   },
   {
    "duration": 75,
    "start_time": "2022-05-20T19:01:10.944Z"
   },
   {
    "duration": 17,
    "start_time": "2022-05-20T19:01:11.021Z"
   },
   {
    "duration": 95,
    "start_time": "2022-05-20T19:01:11.040Z"
   },
   {
    "duration": 168,
    "start_time": "2022-05-20T19:01:11.136Z"
   },
   {
    "duration": 0,
    "start_time": "2022-05-20T19:01:11.311Z"
   },
   {
    "duration": 0,
    "start_time": "2022-05-20T19:01:11.312Z"
   },
   {
    "duration": 0,
    "start_time": "2022-05-20T19:01:11.313Z"
   },
   {
    "duration": 0,
    "start_time": "2022-05-20T19:01:11.314Z"
   },
   {
    "duration": 0,
    "start_time": "2022-05-20T19:01:11.316Z"
   },
   {
    "duration": 0,
    "start_time": "2022-05-20T19:01:11.317Z"
   },
   {
    "duration": 0,
    "start_time": "2022-05-20T19:01:11.318Z"
   },
   {
    "duration": 0,
    "start_time": "2022-05-20T19:01:11.319Z"
   },
   {
    "duration": 8,
    "start_time": "2022-05-20T19:04:35.461Z"
   },
   {
    "duration": 536,
    "start_time": "2022-05-20T19:04:45.322Z"
   },
   {
    "duration": 15,
    "start_time": "2022-05-20T19:04:45.860Z"
   },
   {
    "duration": 30,
    "start_time": "2022-05-20T19:04:45.876Z"
   },
   {
    "duration": 340,
    "start_time": "2022-05-20T19:04:45.908Z"
   },
   {
    "duration": 11,
    "start_time": "2022-05-20T19:04:46.249Z"
   },
   {
    "duration": 10,
    "start_time": "2022-05-20T19:04:46.261Z"
   },
   {
    "duration": 26,
    "start_time": "2022-05-20T19:04:46.272Z"
   },
   {
    "duration": 22,
    "start_time": "2022-05-20T19:04:46.300Z"
   },
   {
    "duration": 36,
    "start_time": "2022-05-20T19:04:46.323Z"
   },
   {
    "duration": 8,
    "start_time": "2022-05-20T19:04:46.360Z"
   },
   {
    "duration": 29,
    "start_time": "2022-05-20T19:04:46.370Z"
   },
   {
    "duration": 9,
    "start_time": "2022-05-20T19:04:46.401Z"
   },
   {
    "duration": 10,
    "start_time": "2022-05-20T19:04:46.412Z"
   },
   {
    "duration": 8,
    "start_time": "2022-05-20T19:04:46.426Z"
   },
   {
    "duration": 8,
    "start_time": "2022-05-20T19:04:46.435Z"
   },
   {
    "duration": 55,
    "start_time": "2022-05-20T19:04:46.445Z"
   },
   {
    "duration": 32,
    "start_time": "2022-05-20T19:04:46.502Z"
   },
   {
    "duration": 16,
    "start_time": "2022-05-20T19:04:46.536Z"
   },
   {
    "duration": 160,
    "start_time": "2022-05-20T19:04:46.554Z"
   },
   {
    "duration": 282,
    "start_time": "2022-05-20T19:04:46.715Z"
   },
   {
    "duration": 6,
    "start_time": "2022-05-20T19:04:46.998Z"
   },
   {
    "duration": 15,
    "start_time": "2022-05-20T19:04:47.007Z"
   },
   {
    "duration": 17,
    "start_time": "2022-05-20T19:04:47.024Z"
   },
   {
    "duration": 64,
    "start_time": "2022-05-20T19:04:47.043Z"
   },
   {
    "duration": 6,
    "start_time": "2022-05-20T19:04:47.109Z"
   },
   {
    "duration": 418,
    "start_time": "2022-05-20T19:04:47.117Z"
   },
   {
    "duration": 6,
    "start_time": "2022-05-20T19:04:47.536Z"
   },
   {
    "duration": 7,
    "start_time": "2022-05-20T19:04:47.595Z"
   },
   {
    "duration": 15,
    "start_time": "2022-05-20T19:04:47.603Z"
   },
   {
    "duration": 11,
    "start_time": "2022-05-20T19:04:47.619Z"
   },
   {
    "duration": 66,
    "start_time": "2022-05-20T19:04:47.632Z"
   },
   {
    "duration": 13,
    "start_time": "2022-05-20T19:04:47.700Z"
   },
   {
    "duration": 502,
    "start_time": "2022-05-20T19:04:47.715Z"
   },
   {
    "duration": 12,
    "start_time": "2022-05-20T19:04:48.218Z"
   },
   {
    "duration": 5,
    "start_time": "2022-05-20T19:04:48.232Z"
   },
   {
    "duration": 12,
    "start_time": "2022-05-20T19:04:48.294Z"
   },
   {
    "duration": 10,
    "start_time": "2022-05-20T19:04:48.308Z"
   },
   {
    "duration": 13,
    "start_time": "2022-05-20T19:04:48.320Z"
   },
   {
    "duration": 62,
    "start_time": "2022-05-20T19:04:48.335Z"
   },
   {
    "duration": 6,
    "start_time": "2022-05-20T19:04:48.399Z"
   },
   {
    "duration": 5,
    "start_time": "2022-05-20T19:04:48.410Z"
   },
   {
    "duration": 9,
    "start_time": "2022-05-20T19:04:48.416Z"
   },
   {
    "duration": 10,
    "start_time": "2022-05-20T19:04:48.426Z"
   },
   {
    "duration": 60,
    "start_time": "2022-05-20T19:04:48.438Z"
   },
   {
    "duration": 10,
    "start_time": "2022-05-20T19:04:48.500Z"
   },
   {
    "duration": 12,
    "start_time": "2022-05-20T19:04:48.511Z"
   },
   {
    "duration": 8,
    "start_time": "2022-05-20T19:04:48.524Z"
   },
   {
    "duration": 12,
    "start_time": "2022-05-20T19:04:48.534Z"
   },
   {
    "duration": 5,
    "start_time": "2022-05-20T19:04:48.594Z"
   },
   {
    "duration": 10,
    "start_time": "2022-05-20T19:04:48.601Z"
   },
   {
    "duration": 6,
    "start_time": "2022-05-20T19:04:48.613Z"
   },
   {
    "duration": 19,
    "start_time": "2022-05-20T19:04:48.620Z"
   },
   {
    "duration": 18,
    "start_time": "2022-05-20T19:04:48.695Z"
   },
   {
    "duration": 18,
    "start_time": "2022-05-20T19:04:48.714Z"
   },
   {
    "duration": 64,
    "start_time": "2022-05-20T19:04:48.734Z"
   },
   {
    "duration": 17,
    "start_time": "2022-05-20T19:04:48.799Z"
   },
   {
    "duration": 19,
    "start_time": "2022-05-20T19:04:48.817Z"
   },
   {
    "duration": 84,
    "start_time": "2022-05-20T19:04:48.838Z"
   },
   {
    "duration": 13,
    "start_time": "2022-05-20T19:04:48.924Z"
   },
   {
    "duration": 67,
    "start_time": "2022-05-20T19:04:48.939Z"
   },
   {
    "duration": 13,
    "start_time": "2022-05-20T19:04:49.008Z"
   },
   {
    "duration": 78,
    "start_time": "2022-05-20T19:04:49.023Z"
   },
   {
    "duration": 7,
    "start_time": "2022-05-20T19:04:49.102Z"
   },
   {
    "duration": 21,
    "start_time": "2022-05-20T19:04:49.110Z"
   },
   {
    "duration": 7,
    "start_time": "2022-05-20T19:04:49.132Z"
   },
   {
    "duration": 30,
    "start_time": "2022-05-20T19:04:49.141Z"
   },
   {
    "duration": 37,
    "start_time": "2022-05-20T19:04:49.173Z"
   },
   {
    "duration": 25,
    "start_time": "2022-05-20T19:04:49.212Z"
   },
   {
    "duration": 7,
    "start_time": "2022-05-20T19:04:49.238Z"
   },
   {
    "duration": 8,
    "start_time": "2022-05-20T19:04:49.246Z"
   },
   {
    "duration": 111,
    "start_time": "2022-05-20T19:04:49.256Z"
   },
   {
    "duration": 0,
    "start_time": "2022-05-20T19:04:49.368Z"
   },
   {
    "duration": 0,
    "start_time": "2022-05-20T19:04:49.369Z"
   },
   {
    "duration": 0,
    "start_time": "2022-05-20T19:04:49.370Z"
   },
   {
    "duration": 0,
    "start_time": "2022-05-20T19:04:49.371Z"
   },
   {
    "duration": 4,
    "start_time": "2022-05-20T19:06:34.731Z"
   },
   {
    "duration": 540,
    "start_time": "2022-05-20T19:09:56.930Z"
   },
   {
    "duration": 23,
    "start_time": "2022-05-20T19:09:57.472Z"
   },
   {
    "duration": 22,
    "start_time": "2022-05-20T19:09:57.510Z"
   },
   {
    "duration": 347,
    "start_time": "2022-05-20T19:09:57.534Z"
   },
   {
    "duration": 20,
    "start_time": "2022-05-20T19:09:57.883Z"
   },
   {
    "duration": 14,
    "start_time": "2022-05-20T19:09:57.905Z"
   },
   {
    "duration": 7,
    "start_time": "2022-05-20T19:09:57.921Z"
   },
   {
    "duration": 38,
    "start_time": "2022-05-20T19:09:57.931Z"
   },
   {
    "duration": 60,
    "start_time": "2022-05-20T19:09:57.972Z"
   },
   {
    "duration": 8,
    "start_time": "2022-05-20T19:09:58.035Z"
   },
   {
    "duration": 6,
    "start_time": "2022-05-20T19:09:58.044Z"
   },
   {
    "duration": 16,
    "start_time": "2022-05-20T19:09:58.052Z"
   },
   {
    "duration": 35,
    "start_time": "2022-05-20T19:09:58.070Z"
   },
   {
    "duration": 23,
    "start_time": "2022-05-20T19:09:58.106Z"
   },
   {
    "duration": 7,
    "start_time": "2022-05-20T19:09:58.131Z"
   },
   {
    "duration": 23,
    "start_time": "2022-05-20T19:09:58.140Z"
   },
   {
    "duration": 59,
    "start_time": "2022-05-20T19:09:58.165Z"
   },
   {
    "duration": 14,
    "start_time": "2022-05-20T19:09:58.226Z"
   },
   {
    "duration": 154,
    "start_time": "2022-05-20T19:09:58.242Z"
   },
   {
    "duration": 266,
    "start_time": "2022-05-20T19:09:58.398Z"
   },
   {
    "duration": 6,
    "start_time": "2022-05-20T19:09:58.666Z"
   },
   {
    "duration": 8,
    "start_time": "2022-05-20T19:09:58.673Z"
   },
   {
    "duration": 8,
    "start_time": "2022-05-20T19:09:58.696Z"
   },
   {
    "duration": 17,
    "start_time": "2022-05-20T19:09:58.706Z"
   },
   {
    "duration": 5,
    "start_time": "2022-05-20T19:09:58.725Z"
   },
   {
    "duration": 225,
    "start_time": "2022-05-20T19:09:58.732Z"
   },
   {
    "duration": 7,
    "start_time": "2022-05-20T19:09:58.958Z"
   },
   {
    "duration": 6,
    "start_time": "2022-05-20T19:09:58.968Z"
   },
   {
    "duration": 48,
    "start_time": "2022-05-20T19:09:58.975Z"
   },
   {
    "duration": 12,
    "start_time": "2022-05-20T19:09:59.024Z"
   },
   {
    "duration": 14,
    "start_time": "2022-05-20T19:09:59.038Z"
   },
   {
    "duration": 13,
    "start_time": "2022-05-20T19:09:59.054Z"
   },
   {
    "duration": 287,
    "start_time": "2022-05-20T19:09:59.068Z"
   },
   {
    "duration": 10,
    "start_time": "2022-05-20T19:09:59.356Z"
   },
   {
    "duration": 11,
    "start_time": "2022-05-20T19:09:59.368Z"
   },
   {
    "duration": 22,
    "start_time": "2022-05-20T19:09:59.380Z"
   },
   {
    "duration": 26,
    "start_time": "2022-05-20T19:09:59.404Z"
   },
   {
    "duration": 15,
    "start_time": "2022-05-20T19:09:59.432Z"
   },
   {
    "duration": 14,
    "start_time": "2022-05-20T19:09:59.449Z"
   },
   {
    "duration": 8,
    "start_time": "2022-05-20T19:09:59.465Z"
   },
   {
    "duration": 21,
    "start_time": "2022-05-20T19:09:59.474Z"
   },
   {
    "duration": 12,
    "start_time": "2022-05-20T19:09:59.497Z"
   },
   {
    "duration": 16,
    "start_time": "2022-05-20T19:09:59.512Z"
   },
   {
    "duration": 5,
    "start_time": "2022-05-20T19:09:59.530Z"
   },
   {
    "duration": 10,
    "start_time": "2022-05-20T19:09:59.536Z"
   },
   {
    "duration": 14,
    "start_time": "2022-05-20T19:09:59.548Z"
   },
   {
    "duration": 31,
    "start_time": "2022-05-20T19:09:59.564Z"
   },
   {
    "duration": 10,
    "start_time": "2022-05-20T19:09:59.598Z"
   },
   {
    "duration": 19,
    "start_time": "2022-05-20T19:09:59.610Z"
   },
   {
    "duration": 7,
    "start_time": "2022-05-20T19:09:59.631Z"
   },
   {
    "duration": 14,
    "start_time": "2022-05-20T19:09:59.640Z"
   },
   {
    "duration": 28,
    "start_time": "2022-05-20T19:09:59.657Z"
   },
   {
    "duration": 29,
    "start_time": "2022-05-20T19:09:59.687Z"
   },
   {
    "duration": 24,
    "start_time": "2022-05-20T19:09:59.718Z"
   },
   {
    "duration": 6,
    "start_time": "2022-05-20T19:09:59.744Z"
   },
   {
    "duration": 46,
    "start_time": "2022-05-20T19:09:59.752Z"
   },
   {
    "duration": 23,
    "start_time": "2022-05-20T19:09:59.800Z"
   },
   {
    "duration": 33,
    "start_time": "2022-05-20T19:09:59.826Z"
   },
   {
    "duration": 35,
    "start_time": "2022-05-20T19:09:59.861Z"
   },
   {
    "duration": 20,
    "start_time": "2022-05-20T19:09:59.899Z"
   },
   {
    "duration": 17,
    "start_time": "2022-05-20T19:09:59.920Z"
   },
   {
    "duration": 22,
    "start_time": "2022-05-20T19:09:59.939Z"
   },
   {
    "duration": 34,
    "start_time": "2022-05-20T19:09:59.963Z"
   },
   {
    "duration": 27,
    "start_time": "2022-05-20T19:09:59.999Z"
   },
   {
    "duration": 11,
    "start_time": "2022-05-20T19:10:00.028Z"
   },
   {
    "duration": 15,
    "start_time": "2022-05-20T19:10:00.041Z"
   },
   {
    "duration": 38,
    "start_time": "2022-05-20T19:10:00.057Z"
   },
   {
    "duration": 9,
    "start_time": "2022-05-20T19:10:00.097Z"
   },
   {
    "duration": 30,
    "start_time": "2022-05-20T19:10:00.108Z"
   },
   {
    "duration": 123,
    "start_time": "2022-05-20T19:10:00.140Z"
   },
   {
    "duration": 0,
    "start_time": "2022-05-20T19:10:00.265Z"
   },
   {
    "duration": 0,
    "start_time": "2022-05-20T19:10:00.266Z"
   },
   {
    "duration": 0,
    "start_time": "2022-05-20T19:10:00.268Z"
   },
   {
    "duration": 0,
    "start_time": "2022-05-20T19:10:00.269Z"
   },
   {
    "duration": 28,
    "start_time": "2022-05-20T19:10:14.193Z"
   },
   {
    "duration": 4,
    "start_time": "2022-05-20T19:10:20.410Z"
   },
   {
    "duration": 16,
    "start_time": "2022-05-20T19:10:21.325Z"
   },
   {
    "duration": 4,
    "start_time": "2022-05-20T19:11:06.740Z"
   },
   {
    "duration": 31,
    "start_time": "2022-05-20T19:11:08.288Z"
   },
   {
    "duration": 7,
    "start_time": "2022-05-20T19:11:12.150Z"
   },
   {
    "duration": 9,
    "start_time": "2022-05-20T19:11:12.408Z"
   },
   {
    "duration": 45,
    "start_time": "2022-05-20T19:11:12.793Z"
   },
   {
    "duration": 25,
    "start_time": "2022-05-20T19:11:13.809Z"
   },
   {
    "duration": 7,
    "start_time": "2022-05-20T19:11:14.010Z"
   },
   {
    "duration": 21,
    "start_time": "2022-05-20T19:11:14.490Z"
   },
   {
    "duration": 29,
    "start_time": "2022-05-20T19:11:15.469Z"
   },
   {
    "duration": 4,
    "start_time": "2022-05-20T19:12:30.876Z"
   },
   {
    "duration": 24,
    "start_time": "2022-05-20T19:12:30.900Z"
   },
   {
    "duration": 7,
    "start_time": "2022-05-20T19:12:34.120Z"
   },
   {
    "duration": 7,
    "start_time": "2022-05-20T19:12:35.001Z"
   },
   {
    "duration": 24,
    "start_time": "2022-05-20T19:12:37.110Z"
   },
   {
    "duration": 41,
    "start_time": "2022-05-20T19:12:53.008Z"
   },
   {
    "duration": 34,
    "start_time": "2022-05-20T19:13:14.180Z"
   },
   {
    "duration": 547,
    "start_time": "2022-05-20T19:13:22.835Z"
   },
   {
    "duration": 19,
    "start_time": "2022-05-20T19:13:23.384Z"
   },
   {
    "duration": 28,
    "start_time": "2022-05-20T19:13:23.405Z"
   },
   {
    "duration": 365,
    "start_time": "2022-05-20T19:13:23.435Z"
   },
   {
    "duration": 13,
    "start_time": "2022-05-20T19:13:23.804Z"
   },
   {
    "duration": 11,
    "start_time": "2022-05-20T19:13:23.818Z"
   },
   {
    "duration": 6,
    "start_time": "2022-05-20T19:13:23.831Z"
   },
   {
    "duration": 19,
    "start_time": "2022-05-20T19:13:23.839Z"
   },
   {
    "duration": 41,
    "start_time": "2022-05-20T19:13:23.894Z"
   },
   {
    "duration": 7,
    "start_time": "2022-05-20T19:13:23.937Z"
   },
   {
    "duration": 6,
    "start_time": "2022-05-20T19:13:23.945Z"
   },
   {
    "duration": 13,
    "start_time": "2022-05-20T19:13:23.952Z"
   },
   {
    "duration": 29,
    "start_time": "2022-05-20T19:13:23.967Z"
   },
   {
    "duration": 13,
    "start_time": "2022-05-20T19:13:24.000Z"
   },
   {
    "duration": 7,
    "start_time": "2022-05-20T19:13:24.015Z"
   },
   {
    "duration": 19,
    "start_time": "2022-05-20T19:13:24.023Z"
   },
   {
    "duration": 71,
    "start_time": "2022-05-20T19:13:24.043Z"
   },
   {
    "duration": 20,
    "start_time": "2022-05-20T19:13:24.116Z"
   },
   {
    "duration": 183,
    "start_time": "2022-05-20T19:13:24.138Z"
   },
   {
    "duration": 250,
    "start_time": "2022-05-20T19:13:24.323Z"
   },
   {
    "duration": 8,
    "start_time": "2022-05-20T19:13:24.575Z"
   },
   {
    "duration": 16,
    "start_time": "2022-05-20T19:13:24.585Z"
   },
   {
    "duration": 13,
    "start_time": "2022-05-20T19:13:24.604Z"
   },
   {
    "duration": 16,
    "start_time": "2022-05-20T19:13:24.619Z"
   },
   {
    "duration": 5,
    "start_time": "2022-05-20T19:13:24.637Z"
   },
   {
    "duration": 222,
    "start_time": "2022-05-20T19:13:24.643Z"
   },
   {
    "duration": 5,
    "start_time": "2022-05-20T19:13:24.867Z"
   },
   {
    "duration": 10,
    "start_time": "2022-05-20T19:13:24.874Z"
   },
   {
    "duration": 23,
    "start_time": "2022-05-20T19:13:24.896Z"
   },
   {
    "duration": 14,
    "start_time": "2022-05-20T19:13:24.920Z"
   },
   {
    "duration": 13,
    "start_time": "2022-05-20T19:13:24.935Z"
   },
   {
    "duration": 13,
    "start_time": "2022-05-20T19:13:24.950Z"
   },
   {
    "duration": 292,
    "start_time": "2022-05-20T19:13:24.964Z"
   },
   {
    "duration": 10,
    "start_time": "2022-05-20T19:13:25.258Z"
   },
   {
    "duration": 5,
    "start_time": "2022-05-20T19:13:25.270Z"
   },
   {
    "duration": 11,
    "start_time": "2022-05-20T19:13:25.294Z"
   },
   {
    "duration": 19,
    "start_time": "2022-05-20T19:13:25.307Z"
   },
   {
    "duration": 12,
    "start_time": "2022-05-20T19:13:25.327Z"
   },
   {
    "duration": 9,
    "start_time": "2022-05-20T19:13:25.340Z"
   },
   {
    "duration": 14,
    "start_time": "2022-05-20T19:13:25.350Z"
   },
   {
    "duration": 29,
    "start_time": "2022-05-20T19:13:25.370Z"
   },
   {
    "duration": 33,
    "start_time": "2022-05-20T19:13:25.400Z"
   },
   {
    "duration": 7,
    "start_time": "2022-05-20T19:13:25.435Z"
   },
   {
    "duration": 6,
    "start_time": "2022-05-20T19:13:25.444Z"
   },
   {
    "duration": 16,
    "start_time": "2022-05-20T19:13:25.451Z"
   },
   {
    "duration": 9,
    "start_time": "2022-05-20T19:13:25.469Z"
   },
   {
    "duration": 20,
    "start_time": "2022-05-20T19:13:25.479Z"
   },
   {
    "duration": 32,
    "start_time": "2022-05-20T19:13:25.501Z"
   },
   {
    "duration": 16,
    "start_time": "2022-05-20T19:13:25.536Z"
   },
   {
    "duration": 28,
    "start_time": "2022-05-20T19:13:25.555Z"
   },
   {
    "duration": 28,
    "start_time": "2022-05-20T19:13:25.585Z"
   },
   {
    "duration": 47,
    "start_time": "2022-05-20T19:13:25.615Z"
   },
   {
    "duration": 16,
    "start_time": "2022-05-20T19:13:25.664Z"
   },
   {
    "duration": 26,
    "start_time": "2022-05-20T19:13:25.681Z"
   },
   {
    "duration": 6,
    "start_time": "2022-05-20T19:13:25.710Z"
   },
   {
    "duration": 25,
    "start_time": "2022-05-20T19:13:25.718Z"
   },
   {
    "duration": 19,
    "start_time": "2022-05-20T19:13:25.744Z"
   },
   {
    "duration": 50,
    "start_time": "2022-05-20T19:13:25.765Z"
   },
   {
    "duration": 12,
    "start_time": "2022-05-20T19:13:25.817Z"
   },
   {
    "duration": 16,
    "start_time": "2022-05-20T19:13:25.830Z"
   },
   {
    "duration": 28,
    "start_time": "2022-05-20T19:13:25.848Z"
   },
   {
    "duration": 31,
    "start_time": "2022-05-20T19:13:25.877Z"
   },
   {
    "duration": 5,
    "start_time": "2022-05-20T19:13:25.910Z"
   },
   {
    "duration": 37,
    "start_time": "2022-05-20T19:13:25.917Z"
   },
   {
    "duration": 6,
    "start_time": "2022-05-20T19:13:25.956Z"
   },
   {
    "duration": 29,
    "start_time": "2022-05-20T19:13:25.963Z"
   },
   {
    "duration": 47,
    "start_time": "2022-05-20T19:13:25.993Z"
   },
   {
    "duration": 6,
    "start_time": "2022-05-20T19:13:26.042Z"
   },
   {
    "duration": 30,
    "start_time": "2022-05-20T19:13:26.050Z"
   },
   {
    "duration": 52,
    "start_time": "2022-05-20T19:13:26.081Z"
   },
   {
    "duration": 25,
    "start_time": "2022-05-20T19:13:26.134Z"
   },
   {
    "duration": 7,
    "start_time": "2022-05-20T19:13:26.161Z"
   },
   {
    "duration": 34,
    "start_time": "2022-05-20T19:13:26.169Z"
   },
   {
    "duration": 63,
    "start_time": "2022-05-20T19:13:26.205Z"
   },
   {
    "duration": 7,
    "start_time": "2022-05-20T19:16:19.208Z"
   },
   {
    "duration": 6,
    "start_time": "2022-05-20T19:16:19.441Z"
   },
   {
    "duration": 77,
    "start_time": "2022-05-20T19:25:41.668Z"
   },
   {
    "duration": 59,
    "start_time": "2022-05-20T19:25:51.378Z"
   },
   {
    "duration": 30,
    "start_time": "2022-05-20T19:26:31.147Z"
   },
   {
    "duration": 29,
    "start_time": "2022-05-20T19:27:37.447Z"
   },
   {
    "duration": 539,
    "start_time": "2022-05-20T19:34:10.097Z"
   },
   {
    "duration": 15,
    "start_time": "2022-05-20T19:34:10.638Z"
   },
   {
    "duration": 27,
    "start_time": "2022-05-20T19:34:10.654Z"
   },
   {
    "duration": 349,
    "start_time": "2022-05-20T19:34:10.682Z"
   },
   {
    "duration": 10,
    "start_time": "2022-05-20T19:34:11.033Z"
   },
   {
    "duration": 35,
    "start_time": "2022-05-20T19:34:11.045Z"
   },
   {
    "duration": 13,
    "start_time": "2022-05-20T19:34:11.082Z"
   },
   {
    "duration": 48,
    "start_time": "2022-05-20T19:34:11.096Z"
   },
   {
    "duration": 36,
    "start_time": "2022-05-20T19:34:11.146Z"
   },
   {
    "duration": 9,
    "start_time": "2022-05-20T19:34:11.184Z"
   },
   {
    "duration": 21,
    "start_time": "2022-05-20T19:34:11.195Z"
   },
   {
    "duration": 26,
    "start_time": "2022-05-20T19:34:11.217Z"
   },
   {
    "duration": 11,
    "start_time": "2022-05-20T19:34:11.245Z"
   },
   {
    "duration": 23,
    "start_time": "2022-05-20T19:34:11.259Z"
   },
   {
    "duration": 12,
    "start_time": "2022-05-20T19:34:11.284Z"
   },
   {
    "duration": 27,
    "start_time": "2022-05-20T19:34:11.298Z"
   },
   {
    "duration": 36,
    "start_time": "2022-05-20T19:34:11.327Z"
   },
   {
    "duration": 15,
    "start_time": "2022-05-20T19:34:11.365Z"
   },
   {
    "duration": 172,
    "start_time": "2022-05-20T19:34:11.382Z"
   },
   {
    "duration": 265,
    "start_time": "2022-05-20T19:34:11.556Z"
   },
   {
    "duration": 6,
    "start_time": "2022-05-20T19:34:11.823Z"
   },
   {
    "duration": 22,
    "start_time": "2022-05-20T19:34:11.831Z"
   },
   {
    "duration": 14,
    "start_time": "2022-05-20T19:34:11.855Z"
   },
   {
    "duration": 35,
    "start_time": "2022-05-20T19:34:11.870Z"
   },
   {
    "duration": 23,
    "start_time": "2022-05-20T19:34:11.907Z"
   },
   {
    "duration": 223,
    "start_time": "2022-05-20T19:34:11.932Z"
   },
   {
    "duration": 6,
    "start_time": "2022-05-20T19:34:12.157Z"
   },
   {
    "duration": 10,
    "start_time": "2022-05-20T19:34:12.164Z"
   },
   {
    "duration": 31,
    "start_time": "2022-05-20T19:34:12.176Z"
   },
   {
    "duration": 15,
    "start_time": "2022-05-20T19:34:12.209Z"
   },
   {
    "duration": 15,
    "start_time": "2022-05-20T19:34:12.225Z"
   },
   {
    "duration": 13,
    "start_time": "2022-05-20T19:34:12.241Z"
   },
   {
    "duration": 284,
    "start_time": "2022-05-20T19:34:12.256Z"
   },
   {
    "duration": 11,
    "start_time": "2022-05-20T19:34:12.541Z"
   },
   {
    "duration": 5,
    "start_time": "2022-05-20T19:34:12.554Z"
   },
   {
    "duration": 35,
    "start_time": "2022-05-20T19:34:12.561Z"
   },
   {
    "duration": 15,
    "start_time": "2022-05-20T19:34:12.598Z"
   },
   {
    "duration": 10,
    "start_time": "2022-05-20T19:34:12.615Z"
   },
   {
    "duration": 9,
    "start_time": "2022-05-20T19:34:12.627Z"
   },
   {
    "duration": 5,
    "start_time": "2022-05-20T19:34:12.637Z"
   },
   {
    "duration": 8,
    "start_time": "2022-05-20T19:34:12.646Z"
   },
   {
    "duration": 40,
    "start_time": "2022-05-20T19:34:12.656Z"
   },
   {
    "duration": 11,
    "start_time": "2022-05-20T19:34:12.698Z"
   },
   {
    "duration": 8,
    "start_time": "2022-05-20T19:34:12.711Z"
   },
   {
    "duration": 13,
    "start_time": "2022-05-20T19:34:12.721Z"
   },
   {
    "duration": 17,
    "start_time": "2022-05-20T19:34:12.736Z"
   },
   {
    "duration": 10,
    "start_time": "2022-05-20T19:34:12.755Z"
   },
   {
    "duration": 30,
    "start_time": "2022-05-20T19:34:12.766Z"
   },
   {
    "duration": 8,
    "start_time": "2022-05-20T19:34:12.797Z"
   },
   {
    "duration": 16,
    "start_time": "2022-05-20T19:34:12.806Z"
   },
   {
    "duration": 5,
    "start_time": "2022-05-20T19:34:12.824Z"
   },
   {
    "duration": 21,
    "start_time": "2022-05-20T19:34:12.830Z"
   },
   {
    "duration": 16,
    "start_time": "2022-05-20T19:34:12.853Z"
   },
   {
    "duration": 17,
    "start_time": "2022-05-20T19:34:12.895Z"
   },
   {
    "duration": 5,
    "start_time": "2022-05-20T19:34:12.914Z"
   },
   {
    "duration": 22,
    "start_time": "2022-05-20T19:34:12.920Z"
   },
   {
    "duration": 21,
    "start_time": "2022-05-20T19:34:12.944Z"
   },
   {
    "duration": 67,
    "start_time": "2022-05-20T19:34:12.966Z"
   },
   {
    "duration": 12,
    "start_time": "2022-05-20T19:34:13.035Z"
   },
   {
    "duration": 12,
    "start_time": "2022-05-20T19:34:13.049Z"
   },
   {
    "duration": 38,
    "start_time": "2022-05-20T19:34:13.062Z"
   },
   {
    "duration": 33,
    "start_time": "2022-05-20T19:34:13.102Z"
   },
   {
    "duration": 7,
    "start_time": "2022-05-20T19:34:13.136Z"
   },
   {
    "duration": 22,
    "start_time": "2022-05-20T19:34:13.144Z"
   },
   {
    "duration": 9,
    "start_time": "2022-05-20T19:34:13.194Z"
   },
   {
    "duration": 16,
    "start_time": "2022-05-20T19:34:13.204Z"
   },
   {
    "duration": 26,
    "start_time": "2022-05-20T19:34:13.222Z"
   },
   {
    "duration": 5,
    "start_time": "2022-05-20T19:34:13.250Z"
   },
   {
    "duration": 8,
    "start_time": "2022-05-20T19:34:13.256Z"
   },
   {
    "duration": 58,
    "start_time": "2022-05-20T19:34:13.266Z"
   },
   {
    "duration": 22,
    "start_time": "2022-05-20T19:34:13.326Z"
   },
   {
    "duration": 53,
    "start_time": "2022-05-20T19:34:13.349Z"
   },
   {
    "duration": 32,
    "start_time": "2022-05-20T19:34:13.404Z"
   },
   {
    "duration": 645,
    "start_time": "2022-05-20T20:40:36.058Z"
   },
   {
    "duration": 16,
    "start_time": "2022-05-20T20:40:36.705Z"
   },
   {
    "duration": 56,
    "start_time": "2022-05-20T20:40:36.722Z"
   },
   {
    "duration": 82,
    "start_time": "2022-05-20T20:40:44.509Z"
   },
   {
    "duration": 15,
    "start_time": "2022-05-20T20:40:44.593Z"
   },
   {
    "duration": 16,
    "start_time": "2022-05-20T20:40:44.610Z"
   },
   {
    "duration": 81,
    "start_time": "2022-05-20T20:40:51.633Z"
   },
   {
    "duration": 13,
    "start_time": "2022-05-20T20:40:51.715Z"
   },
   {
    "duration": 13,
    "start_time": "2022-05-20T20:40:51.730Z"
   },
   {
    "duration": 368,
    "start_time": "2022-05-20T20:40:51.745Z"
   },
   {
    "duration": 11,
    "start_time": "2022-05-20T20:40:52.115Z"
   },
   {
    "duration": 10,
    "start_time": "2022-05-20T20:40:52.127Z"
   },
   {
    "duration": 6,
    "start_time": "2022-05-20T20:40:52.138Z"
   },
   {
    "duration": 51,
    "start_time": "2022-05-20T20:40:52.146Z"
   },
   {
    "duration": 33,
    "start_time": "2022-05-20T20:40:52.199Z"
   },
   {
    "duration": 6,
    "start_time": "2022-05-20T20:40:52.235Z"
   },
   {
    "duration": 7,
    "start_time": "2022-05-20T20:40:52.243Z"
   },
   {
    "duration": 34,
    "start_time": "2022-05-20T20:40:52.252Z"
   },
   {
    "duration": 8,
    "start_time": "2022-05-20T20:40:52.288Z"
   },
   {
    "duration": 9,
    "start_time": "2022-05-20T20:40:52.298Z"
   },
   {
    "duration": 5,
    "start_time": "2022-05-20T20:40:52.309Z"
   },
   {
    "duration": 18,
    "start_time": "2022-05-20T20:40:52.316Z"
   },
   {
    "duration": 65,
    "start_time": "2022-05-20T20:40:52.335Z"
   },
   {
    "duration": 13,
    "start_time": "2022-05-20T20:40:52.402Z"
   },
   {
    "duration": 148,
    "start_time": "2022-05-20T20:40:52.417Z"
   },
   {
    "duration": 246,
    "start_time": "2022-05-20T20:40:52.568Z"
   },
   {
    "duration": 7,
    "start_time": "2022-05-20T20:40:52.816Z"
   },
   {
    "duration": 6,
    "start_time": "2022-05-20T20:40:52.825Z"
   },
   {
    "duration": 7,
    "start_time": "2022-05-20T20:40:52.833Z"
   },
   {
    "duration": 42,
    "start_time": "2022-05-20T20:40:52.842Z"
   },
   {
    "duration": 4,
    "start_time": "2022-05-20T20:40:52.885Z"
   },
   {
    "duration": 190,
    "start_time": "2022-05-20T20:40:52.891Z"
   },
   {
    "duration": 6,
    "start_time": "2022-05-20T20:40:53.083Z"
   },
   {
    "duration": 5,
    "start_time": "2022-05-20T20:40:53.092Z"
   },
   {
    "duration": 12,
    "start_time": "2022-05-20T20:40:53.099Z"
   },
   {
    "duration": 9,
    "start_time": "2022-05-20T20:40:53.112Z"
   },
   {
    "duration": 11,
    "start_time": "2022-05-20T20:40:53.122Z"
   },
   {
    "duration": 11,
    "start_time": "2022-05-20T20:40:53.135Z"
   },
   {
    "duration": 275,
    "start_time": "2022-05-20T20:40:53.147Z"
   },
   {
    "duration": 10,
    "start_time": "2022-05-20T20:40:53.424Z"
   },
   {
    "duration": 5,
    "start_time": "2022-05-20T20:40:53.435Z"
   },
   {
    "duration": 9,
    "start_time": "2022-05-20T20:40:53.441Z"
   },
   {
    "duration": 9,
    "start_time": "2022-05-20T20:40:53.451Z"
   },
   {
    "duration": 11,
    "start_time": "2022-05-20T20:40:53.484Z"
   },
   {
    "duration": 5,
    "start_time": "2022-05-20T20:40:53.496Z"
   },
   {
    "duration": 5,
    "start_time": "2022-05-20T20:40:53.502Z"
   },
   {
    "duration": 6,
    "start_time": "2022-05-20T20:40:53.508Z"
   },
   {
    "duration": 8,
    "start_time": "2022-05-20T20:40:53.516Z"
   },
   {
    "duration": 7,
    "start_time": "2022-05-20T20:40:53.525Z"
   },
   {
    "duration": 5,
    "start_time": "2022-05-20T20:40:53.533Z"
   },
   {
    "duration": 49,
    "start_time": "2022-05-20T20:40:53.539Z"
   },
   {
    "duration": 8,
    "start_time": "2022-05-20T20:40:53.590Z"
   },
   {
    "duration": 6,
    "start_time": "2022-05-20T20:40:53.600Z"
   },
   {
    "duration": 7,
    "start_time": "2022-05-20T20:40:53.607Z"
   },
   {
    "duration": 6,
    "start_time": "2022-05-20T20:40:53.616Z"
   },
   {
    "duration": 5,
    "start_time": "2022-05-20T20:40:53.624Z"
   },
   {
    "duration": 14,
    "start_time": "2022-05-20T20:40:53.631Z"
   },
   {
    "duration": 51,
    "start_time": "2022-05-20T20:40:53.646Z"
   },
   {
    "duration": 18,
    "start_time": "2022-05-20T20:40:53.698Z"
   },
   {
    "duration": 5,
    "start_time": "2022-05-20T20:40:53.717Z"
   },
   {
    "duration": 16,
    "start_time": "2022-05-20T20:40:53.724Z"
   },
   {
    "duration": 44,
    "start_time": "2022-05-20T20:40:53.741Z"
   },
   {
    "duration": 31,
    "start_time": "2022-05-20T20:40:53.786Z"
   },
   {
    "duration": 11,
    "start_time": "2022-05-20T20:40:53.818Z"
   },
   {
    "duration": 10,
    "start_time": "2022-05-20T20:40:53.831Z"
   },
   {
    "duration": 12,
    "start_time": "2022-05-20T20:40:53.842Z"
   },
   {
    "duration": 19,
    "start_time": "2022-05-20T20:40:53.883Z"
   },
   {
    "duration": 10,
    "start_time": "2022-05-20T20:40:53.904Z"
   },
   {
    "duration": 26,
    "start_time": "2022-05-20T20:40:53.915Z"
   },
   {
    "duration": 11,
    "start_time": "2022-05-20T20:40:53.942Z"
   },
   {
    "duration": 3,
    "start_time": "2022-05-20T20:40:53.955Z"
   },
   {
    "duration": 43,
    "start_time": "2022-05-20T20:40:53.960Z"
   },
   {
    "duration": 6,
    "start_time": "2022-05-20T20:40:54.005Z"
   },
   {
    "duration": 7,
    "start_time": "2022-05-20T20:40:54.013Z"
   },
   {
    "duration": 26,
    "start_time": "2022-05-20T20:40:54.021Z"
   },
   {
    "duration": 50,
    "start_time": "2022-05-20T20:40:54.049Z"
   },
   {
    "duration": 28,
    "start_time": "2022-05-20T20:40:54.101Z"
   },
   {
    "duration": 24,
    "start_time": "2022-05-20T20:40:54.130Z"
   },
   {
    "duration": 79,
    "start_time": "2022-05-20T20:49:52.160Z"
   },
   {
    "duration": 13,
    "start_time": "2022-05-20T20:49:52.241Z"
   },
   {
    "duration": 34,
    "start_time": "2022-05-20T20:49:52.256Z"
   },
   {
    "duration": 32,
    "start_time": "2022-05-20T20:49:52.292Z"
   },
   {
    "duration": 11,
    "start_time": "2022-05-20T20:49:52.326Z"
   },
   {
    "duration": 11,
    "start_time": "2022-05-20T20:49:52.339Z"
   },
   {
    "duration": 7,
    "start_time": "2022-05-20T20:49:52.383Z"
   },
   {
    "duration": 25,
    "start_time": "2022-05-20T20:49:52.392Z"
   },
   {
    "duration": 65,
    "start_time": "2022-05-20T20:49:52.419Z"
   },
   {
    "duration": 8,
    "start_time": "2022-05-20T20:49:52.487Z"
   },
   {
    "duration": 7,
    "start_time": "2022-05-20T20:49:52.496Z"
   },
   {
    "duration": 8,
    "start_time": "2022-05-20T20:49:52.505Z"
   },
   {
    "duration": 8,
    "start_time": "2022-05-20T20:49:52.515Z"
   },
   {
    "duration": 10,
    "start_time": "2022-05-20T20:49:52.524Z"
   },
   {
    "duration": 6,
    "start_time": "2022-05-20T20:49:52.535Z"
   },
   {
    "duration": 18,
    "start_time": "2022-05-20T20:49:52.583Z"
   },
   {
    "duration": 31,
    "start_time": "2022-05-20T20:49:52.602Z"
   },
   {
    "duration": 16,
    "start_time": "2022-05-20T20:49:52.634Z"
   },
   {
    "duration": 169,
    "start_time": "2022-05-20T20:49:52.651Z"
   },
   {
    "duration": 245,
    "start_time": "2022-05-20T20:49:52.821Z"
   },
   {
    "duration": 18,
    "start_time": "2022-05-20T20:49:53.068Z"
   },
   {
    "duration": 7,
    "start_time": "2022-05-20T20:49:53.088Z"
   },
   {
    "duration": 17,
    "start_time": "2022-05-20T20:49:53.096Z"
   },
   {
    "duration": 13,
    "start_time": "2022-05-20T20:49:53.115Z"
   },
   {
    "duration": 4,
    "start_time": "2022-05-20T20:49:53.129Z"
   },
   {
    "duration": 202,
    "start_time": "2022-05-20T20:49:53.135Z"
   },
   {
    "duration": 5,
    "start_time": "2022-05-20T20:49:53.339Z"
   },
   {
    "duration": 5,
    "start_time": "2022-05-20T20:49:53.349Z"
   },
   {
    "duration": 33,
    "start_time": "2022-05-20T20:49:53.356Z"
   },
   {
    "duration": 14,
    "start_time": "2022-05-20T20:49:53.390Z"
   },
   {
    "duration": 15,
    "start_time": "2022-05-20T20:49:53.406Z"
   },
   {
    "duration": 13,
    "start_time": "2022-05-20T20:49:53.422Z"
   },
   {
    "duration": 278,
    "start_time": "2022-05-20T20:49:53.436Z"
   },
   {
    "duration": 10,
    "start_time": "2022-05-20T20:49:53.715Z"
   },
   {
    "duration": 7,
    "start_time": "2022-05-20T20:49:53.726Z"
   },
   {
    "duration": 10,
    "start_time": "2022-05-20T20:49:53.735Z"
   },
   {
    "duration": 9,
    "start_time": "2022-05-20T20:49:53.746Z"
   },
   {
    "duration": 32,
    "start_time": "2022-05-20T20:49:53.756Z"
   },
   {
    "duration": 5,
    "start_time": "2022-05-20T20:49:53.789Z"
   },
   {
    "duration": 7,
    "start_time": "2022-05-20T20:49:53.795Z"
   },
   {
    "duration": 8,
    "start_time": "2022-05-20T20:49:53.804Z"
   },
   {
    "duration": 9,
    "start_time": "2022-05-20T20:49:53.814Z"
   },
   {
    "duration": 8,
    "start_time": "2022-05-20T20:49:53.824Z"
   },
   {
    "duration": 4,
    "start_time": "2022-05-20T20:49:53.834Z"
   },
   {
    "duration": 9,
    "start_time": "2022-05-20T20:49:53.840Z"
   },
   {
    "duration": 7,
    "start_time": "2022-05-20T20:49:53.884Z"
   },
   {
    "duration": 9,
    "start_time": "2022-05-20T20:49:53.893Z"
   },
   {
    "duration": 8,
    "start_time": "2022-05-20T20:49:53.904Z"
   },
   {
    "duration": 13,
    "start_time": "2022-05-20T20:49:53.914Z"
   },
   {
    "duration": 11,
    "start_time": "2022-05-20T20:49:53.928Z"
   },
   {
    "duration": 20,
    "start_time": "2022-05-20T20:49:53.941Z"
   },
   {
    "duration": 29,
    "start_time": "2022-05-20T20:49:53.962Z"
   },
   {
    "duration": 15,
    "start_time": "2022-05-20T20:49:53.993Z"
   },
   {
    "duration": 4,
    "start_time": "2022-05-20T20:49:54.009Z"
   },
   {
    "duration": 17,
    "start_time": "2022-05-20T20:49:54.015Z"
   },
   {
    "duration": 15,
    "start_time": "2022-05-20T20:49:54.033Z"
   },
   {
    "duration": 56,
    "start_time": "2022-05-20T20:49:54.050Z"
   },
   {
    "duration": 11,
    "start_time": "2022-05-20T20:49:54.107Z"
   },
   {
    "duration": 11,
    "start_time": "2022-05-20T20:49:54.119Z"
   },
   {
    "duration": 12,
    "start_time": "2022-05-20T20:49:54.131Z"
   },
   {
    "duration": 46,
    "start_time": "2022-05-20T20:49:54.145Z"
   },
   {
    "duration": 5,
    "start_time": "2022-05-20T20:49:54.193Z"
   },
   {
    "duration": 20,
    "start_time": "2022-05-20T20:49:54.200Z"
   },
   {
    "duration": 6,
    "start_time": "2022-05-20T20:49:54.222Z"
   },
   {
    "duration": 7,
    "start_time": "2022-05-20T20:49:54.229Z"
   },
   {
    "duration": 47,
    "start_time": "2022-05-20T20:49:54.237Z"
   },
   {
    "duration": 6,
    "start_time": "2022-05-20T20:49:54.285Z"
   },
   {
    "duration": 10,
    "start_time": "2022-05-20T20:49:54.293Z"
   },
   {
    "duration": 29,
    "start_time": "2022-05-20T20:49:54.304Z"
   },
   {
    "duration": 20,
    "start_time": "2022-05-20T20:49:54.335Z"
   },
   {
    "duration": 18,
    "start_time": "2022-05-20T20:50:01.499Z"
   },
   {
    "duration": 720,
    "start_time": "2022-05-21T07:54:09.319Z"
   },
   {
    "duration": 13,
    "start_time": "2022-05-21T07:54:10.041Z"
   },
   {
    "duration": 19,
    "start_time": "2022-05-21T07:54:10.056Z"
   },
   {
    "duration": 508,
    "start_time": "2022-05-21T07:54:10.077Z"
   },
   {
    "duration": 11,
    "start_time": "2022-05-21T07:54:10.587Z"
   },
   {
    "duration": 10,
    "start_time": "2022-05-21T07:54:10.600Z"
   },
   {
    "duration": 7,
    "start_time": "2022-05-21T07:54:10.611Z"
   },
   {
    "duration": 18,
    "start_time": "2022-05-21T07:54:10.619Z"
   },
   {
    "duration": 66,
    "start_time": "2022-05-21T07:54:10.639Z"
   },
   {
    "duration": 8,
    "start_time": "2022-05-21T07:54:10.708Z"
   },
   {
    "duration": 6,
    "start_time": "2022-05-21T07:54:10.717Z"
   },
   {
    "duration": 7,
    "start_time": "2022-05-21T07:54:10.726Z"
   },
   {
    "duration": 8,
    "start_time": "2022-05-21T07:54:10.734Z"
   },
   {
    "duration": 47,
    "start_time": "2022-05-21T07:54:10.743Z"
   },
   {
    "duration": 6,
    "start_time": "2022-05-21T07:54:10.792Z"
   },
   {
    "duration": 20,
    "start_time": "2022-05-21T07:54:10.799Z"
   },
   {
    "duration": 31,
    "start_time": "2022-05-21T07:54:10.820Z"
   },
   {
    "duration": 39,
    "start_time": "2022-05-21T07:54:10.852Z"
   },
   {
    "duration": 149,
    "start_time": "2022-05-21T07:54:10.893Z"
   },
   {
    "duration": 248,
    "start_time": "2022-05-21T07:54:11.043Z"
   },
   {
    "duration": 6,
    "start_time": "2022-05-21T07:54:11.293Z"
   },
   {
    "duration": 6,
    "start_time": "2022-05-21T07:54:11.301Z"
   },
   {
    "duration": 6,
    "start_time": "2022-05-21T07:54:11.309Z"
   },
   {
    "duration": 14,
    "start_time": "2022-05-21T07:54:11.316Z"
   },
   {
    "duration": 5,
    "start_time": "2022-05-21T07:54:11.331Z"
   },
   {
    "duration": 223,
    "start_time": "2022-05-21T07:54:11.337Z"
   },
   {
    "duration": 5,
    "start_time": "2022-05-21T07:54:11.562Z"
   },
   {
    "duration": 13,
    "start_time": "2022-05-21T07:54:11.571Z"
   },
   {
    "duration": 15,
    "start_time": "2022-05-21T07:54:11.586Z"
   },
   {
    "duration": 10,
    "start_time": "2022-05-21T07:54:11.603Z"
   },
   {
    "duration": 14,
    "start_time": "2022-05-21T07:54:11.614Z"
   },
   {
    "duration": 12,
    "start_time": "2022-05-21T07:54:11.630Z"
   },
   {
    "duration": 271,
    "start_time": "2022-05-21T07:54:11.643Z"
   },
   {
    "duration": 10,
    "start_time": "2022-05-21T07:54:11.916Z"
   },
   {
    "duration": 5,
    "start_time": "2022-05-21T07:54:11.928Z"
   },
   {
    "duration": 9,
    "start_time": "2022-05-21T07:54:11.935Z"
   },
   {
    "duration": 9,
    "start_time": "2022-05-21T07:54:11.946Z"
   },
   {
    "duration": 37,
    "start_time": "2022-05-21T07:54:11.956Z"
   },
   {
    "duration": 5,
    "start_time": "2022-05-21T07:54:11.994Z"
   },
   {
    "duration": 10,
    "start_time": "2022-05-21T07:54:12.001Z"
   },
   {
    "duration": 7,
    "start_time": "2022-05-21T07:54:12.013Z"
   },
   {
    "duration": 9,
    "start_time": "2022-05-21T07:54:12.021Z"
   },
   {
    "duration": 6,
    "start_time": "2022-05-21T07:54:12.032Z"
   },
   {
    "duration": 44,
    "start_time": "2022-05-21T07:54:12.040Z"
   },
   {
    "duration": 7,
    "start_time": "2022-05-21T07:54:12.086Z"
   },
   {
    "duration": 8,
    "start_time": "2022-05-21T07:54:12.094Z"
   },
   {
    "duration": 7,
    "start_time": "2022-05-21T07:54:12.104Z"
   },
   {
    "duration": 8,
    "start_time": "2022-05-21T07:54:12.113Z"
   },
   {
    "duration": 9,
    "start_time": "2022-05-21T07:54:12.122Z"
   },
   {
    "duration": 6,
    "start_time": "2022-05-21T07:54:12.132Z"
   },
   {
    "duration": 49,
    "start_time": "2022-05-21T07:54:12.139Z"
   },
   {
    "duration": 16,
    "start_time": "2022-05-21T07:54:12.190Z"
   },
   {
    "duration": 16,
    "start_time": "2022-05-21T07:54:12.207Z"
   },
   {
    "duration": 5,
    "start_time": "2022-05-21T07:54:12.225Z"
   },
   {
    "duration": 16,
    "start_time": "2022-05-21T07:54:12.231Z"
   },
   {
    "duration": 50,
    "start_time": "2022-05-21T07:54:12.248Z"
   },
   {
    "duration": 32,
    "start_time": "2022-05-21T07:54:12.300Z"
   },
   {
    "duration": 11,
    "start_time": "2022-05-21T07:54:12.334Z"
   },
   {
    "duration": 37,
    "start_time": "2022-05-21T07:54:12.347Z"
   },
   {
    "duration": 14,
    "start_time": "2022-05-21T07:54:12.386Z"
   },
   {
    "duration": 20,
    "start_time": "2022-05-21T07:54:12.401Z"
   },
   {
    "duration": 9,
    "start_time": "2022-05-21T07:54:12.423Z"
   },
   {
    "duration": 20,
    "start_time": "2022-05-21T07:54:12.434Z"
   },
   {
    "duration": 33,
    "start_time": "2022-05-21T07:54:12.456Z"
   },
   {
    "duration": 4,
    "start_time": "2022-05-21T07:54:12.492Z"
   },
   {
    "duration": 27,
    "start_time": "2022-05-21T07:54:12.498Z"
   },
   {
    "duration": 6,
    "start_time": "2022-05-21T07:54:12.527Z"
   },
   {
    "duration": 15,
    "start_time": "2022-05-21T07:54:12.535Z"
   },
   {
    "duration": 60,
    "start_time": "2022-05-21T07:54:12.552Z"
   },
   {
    "duration": 23,
    "start_time": "2022-05-21T07:54:12.614Z"
   },
   {
    "duration": 46,
    "start_time": "2022-05-21T07:54:12.639Z"
   },
   {
    "duration": 26,
    "start_time": "2022-05-21T07:54:12.686Z"
   },
   {
    "duration": 81,
    "start_time": "2022-05-21T07:58:18.198Z"
   },
   {
    "duration": 14,
    "start_time": "2022-05-21T07:58:18.281Z"
   },
   {
    "duration": 15,
    "start_time": "2022-05-21T07:58:18.297Z"
   },
   {
    "duration": 21,
    "start_time": "2022-05-21T07:58:18.313Z"
   },
   {
    "duration": 9,
    "start_time": "2022-05-21T07:58:18.336Z"
   },
   {
    "duration": 37,
    "start_time": "2022-05-21T07:58:18.347Z"
   },
   {
    "duration": 6,
    "start_time": "2022-05-21T07:58:18.386Z"
   },
   {
    "duration": 22,
    "start_time": "2022-05-21T07:58:20.912Z"
   },
   {
    "duration": 15,
    "start_time": "2022-05-21T07:58:28.590Z"
   },
   {
    "duration": 103,
    "start_time": "2022-05-21T08:30:38.495Z"
   },
   {
    "duration": 15,
    "start_time": "2022-05-21T08:30:38.599Z"
   },
   {
    "duration": 25,
    "start_time": "2022-05-21T08:30:38.616Z"
   },
   {
    "duration": 65,
    "start_time": "2022-05-21T08:30:38.643Z"
   },
   {
    "duration": 14,
    "start_time": "2022-05-21T08:30:38.710Z"
   },
   {
    "duration": 12,
    "start_time": "2022-05-21T08:30:38.726Z"
   },
   {
    "duration": 7,
    "start_time": "2022-05-21T08:30:38.740Z"
   },
   {
    "duration": 54,
    "start_time": "2022-05-21T08:30:38.749Z"
   },
   {
    "duration": 50,
    "start_time": "2022-05-21T08:30:38.805Z"
   },
   {
    "duration": 35,
    "start_time": "2022-05-21T08:30:38.858Z"
   },
   {
    "duration": 8,
    "start_time": "2022-05-21T08:30:38.895Z"
   },
   {
    "duration": 9,
    "start_time": "2022-05-21T08:30:38.905Z"
   },
   {
    "duration": 10,
    "start_time": "2022-05-21T08:30:38.916Z"
   },
   {
    "duration": 10,
    "start_time": "2022-05-21T08:30:38.927Z"
   },
   {
    "duration": 50,
    "start_time": "2022-05-21T08:30:38.938Z"
   },
   {
    "duration": 33,
    "start_time": "2022-05-21T08:30:38.992Z"
   },
   {
    "duration": 64,
    "start_time": "2022-05-21T08:30:39.028Z"
   },
   {
    "duration": 24,
    "start_time": "2022-05-21T08:30:39.094Z"
   },
   {
    "duration": 16,
    "start_time": "2022-05-21T08:30:43.002Z"
   },
   {
    "duration": 91,
    "start_time": "2022-05-21T08:31:27.725Z"
   },
   {
    "duration": 23,
    "start_time": "2022-05-21T08:31:27.818Z"
   },
   {
    "duration": 47,
    "start_time": "2022-05-21T08:31:27.843Z"
   },
   {
    "duration": 38,
    "start_time": "2022-05-21T08:31:27.894Z"
   },
   {
    "duration": 14,
    "start_time": "2022-05-21T08:31:27.934Z"
   },
   {
    "duration": 46,
    "start_time": "2022-05-21T08:31:27.950Z"
   },
   {
    "duration": 8,
    "start_time": "2022-05-21T08:31:27.999Z"
   },
   {
    "duration": 26,
    "start_time": "2022-05-21T08:31:28.010Z"
   },
   {
    "duration": 86,
    "start_time": "2022-05-21T08:31:28.038Z"
   },
   {
    "duration": 12,
    "start_time": "2022-05-21T08:31:28.127Z"
   },
   {
    "duration": 9,
    "start_time": "2022-05-21T08:31:28.141Z"
   },
   {
    "duration": 35,
    "start_time": "2022-05-21T08:31:28.153Z"
   },
   {
    "duration": 11,
    "start_time": "2022-05-21T08:31:28.191Z"
   },
   {
    "duration": 11,
    "start_time": "2022-05-21T08:31:28.203Z"
   },
   {
    "duration": 7,
    "start_time": "2022-05-21T08:31:28.217Z"
   },
   {
    "duration": 60,
    "start_time": "2022-05-21T08:31:28.226Z"
   },
   {
    "duration": 16,
    "start_time": "2022-05-21T08:31:31.990Z"
   },
   {
    "duration": 32,
    "start_time": "2022-05-21T08:31:35.270Z"
   },
   {
    "duration": 12,
    "start_time": "2022-05-21T08:31:37.789Z"
   },
   {
    "duration": 8,
    "start_time": "2022-05-21T08:41:09.162Z"
   },
   {
    "duration": 6,
    "start_time": "2022-05-21T08:41:55.461Z"
   },
   {
    "duration": 132,
    "start_time": "2022-05-21T08:42:50.290Z"
   },
   {
    "duration": 28,
    "start_time": "2022-05-21T08:43:05.568Z"
   },
   {
    "duration": 7,
    "start_time": "2022-05-21T08:43:16.467Z"
   },
   {
    "duration": 10,
    "start_time": "2022-05-21T08:44:48.687Z"
   },
   {
    "duration": 11,
    "start_time": "2022-05-21T08:45:03.678Z"
   },
   {
    "duration": 8,
    "start_time": "2022-05-21T08:45:12.195Z"
   },
   {
    "duration": 8,
    "start_time": "2022-05-21T08:45:31.006Z"
   },
   {
    "duration": 11,
    "start_time": "2022-05-21T08:45:53.754Z"
   },
   {
    "duration": 8,
    "start_time": "2022-05-21T08:46:29.253Z"
   },
   {
    "duration": 42,
    "start_time": "2022-05-21T08:49:36.632Z"
   },
   {
    "duration": 50,
    "start_time": "2022-05-21T08:49:47.353Z"
   },
   {
    "duration": 11,
    "start_time": "2022-05-21T08:51:35.344Z"
   },
   {
    "duration": 42,
    "start_time": "2022-05-21T08:51:42.704Z"
   },
   {
    "duration": 41,
    "start_time": "2022-05-21T08:51:46.679Z"
   },
   {
    "duration": 10,
    "start_time": "2022-05-21T08:52:07.066Z"
   },
   {
    "duration": 39,
    "start_time": "2022-05-21T08:52:17.294Z"
   },
   {
    "duration": 44,
    "start_time": "2022-05-21T08:52:46.221Z"
   },
   {
    "duration": 24,
    "start_time": "2022-05-21T08:52:53.580Z"
   },
   {
    "duration": 36,
    "start_time": "2022-05-21T08:54:30.212Z"
   },
   {
    "duration": 36,
    "start_time": "2022-05-21T08:54:38.024Z"
   },
   {
    "duration": 34,
    "start_time": "2022-05-21T08:54:46.000Z"
   },
   {
    "duration": 47,
    "start_time": "2022-05-21T08:54:50.409Z"
   },
   {
    "duration": 14,
    "start_time": "2022-05-21T08:54:55.824Z"
   },
   {
    "duration": 11,
    "start_time": "2022-05-21T08:55:07.774Z"
   },
   {
    "duration": 14,
    "start_time": "2022-05-21T08:55:46.954Z"
   },
   {
    "duration": 13,
    "start_time": "2022-05-21T08:56:06.853Z"
   },
   {
    "duration": 12,
    "start_time": "2022-05-21T08:56:25.803Z"
   },
   {
    "duration": 10,
    "start_time": "2022-05-21T08:57:22.377Z"
   },
   {
    "duration": 11,
    "start_time": "2022-05-21T08:57:38.368Z"
   },
   {
    "duration": 8,
    "start_time": "2022-05-21T08:57:57.889Z"
   },
   {
    "duration": 6,
    "start_time": "2022-05-21T08:58:27.165Z"
   },
   {
    "duration": 7,
    "start_time": "2022-05-21T08:58:42.652Z"
   },
   {
    "duration": 6,
    "start_time": "2022-05-21T09:01:51.766Z"
   },
   {
    "duration": 17,
    "start_time": "2022-05-21T09:02:13.182Z"
   },
   {
    "duration": 8,
    "start_time": "2022-05-21T09:02:19.176Z"
   },
   {
    "duration": 8,
    "start_time": "2022-05-21T09:02:40.960Z"
   },
   {
    "duration": 7,
    "start_time": "2022-05-21T09:02:46.206Z"
   },
   {
    "duration": 9,
    "start_time": "2022-05-21T09:03:08.759Z"
   },
   {
    "duration": 12,
    "start_time": "2022-05-21T09:05:02.088Z"
   },
   {
    "duration": 12,
    "start_time": "2022-05-21T09:05:54.699Z"
   },
   {
    "duration": 8,
    "start_time": "2022-05-21T09:06:50.098Z"
   },
   {
    "duration": 10,
    "start_time": "2022-05-21T09:06:57.398Z"
   },
   {
    "duration": 10,
    "start_time": "2022-05-21T09:07:44.286Z"
   },
   {
    "duration": 13,
    "start_time": "2022-05-21T09:08:08.043Z"
   },
   {
    "duration": 11,
    "start_time": "2022-05-21T09:09:38.711Z"
   },
   {
    "duration": 4,
    "start_time": "2022-05-21T09:19:14.261Z"
   },
   {
    "duration": 22,
    "start_time": "2022-05-21T09:19:33.599Z"
   },
   {
    "duration": 32,
    "start_time": "2022-05-21T09:19:46.283Z"
   },
   {
    "duration": 107,
    "start_time": "2022-05-21T09:20:37.859Z"
   },
   {
    "duration": 39,
    "start_time": "2022-05-21T09:20:37.968Z"
   },
   {
    "duration": 22,
    "start_time": "2022-05-21T09:20:38.009Z"
   },
   {
    "duration": 69,
    "start_time": "2022-05-21T09:20:38.034Z"
   },
   {
    "duration": 15,
    "start_time": "2022-05-21T09:20:38.105Z"
   },
   {
    "duration": 11,
    "start_time": "2022-05-21T09:20:38.122Z"
   },
   {
    "duration": 7,
    "start_time": "2022-05-21T09:20:38.135Z"
   },
   {
    "duration": 62,
    "start_time": "2022-05-21T09:20:38.144Z"
   },
   {
    "duration": 47,
    "start_time": "2022-05-21T09:20:38.208Z"
   },
   {
    "duration": 16,
    "start_time": "2022-05-21T09:20:38.284Z"
   },
   {
    "duration": 12,
    "start_time": "2022-05-21T09:20:38.302Z"
   },
   {
    "duration": 10,
    "start_time": "2022-05-21T09:20:38.317Z"
   },
   {
    "duration": 9,
    "start_time": "2022-05-21T09:20:38.329Z"
   },
   {
    "duration": 11,
    "start_time": "2022-05-21T09:20:38.340Z"
   },
   {
    "duration": 35,
    "start_time": "2022-05-21T09:20:38.353Z"
   },
   {
    "duration": 35,
    "start_time": "2022-05-21T09:20:38.390Z"
   },
   {
    "duration": 31,
    "start_time": "2022-05-21T09:20:38.426Z"
   },
   {
    "duration": 38,
    "start_time": "2022-05-21T09:20:38.458Z"
   },
   {
    "duration": 163,
    "start_time": "2022-05-21T09:20:38.498Z"
   },
   {
    "duration": 296,
    "start_time": "2022-05-21T09:20:38.663Z"
   },
   {
    "duration": 6,
    "start_time": "2022-05-21T09:20:38.961Z"
   },
   {
    "duration": 19,
    "start_time": "2022-05-21T09:20:38.968Z"
   },
   {
    "duration": 16,
    "start_time": "2022-05-21T09:20:38.990Z"
   },
   {
    "duration": 23,
    "start_time": "2022-05-21T09:20:39.008Z"
   },
   {
    "duration": 5,
    "start_time": "2022-05-21T09:20:39.032Z"
   },
   {
    "duration": 240,
    "start_time": "2022-05-21T09:20:39.038Z"
   },
   {
    "duration": 12,
    "start_time": "2022-05-21T09:20:39.280Z"
   },
   {
    "duration": 10,
    "start_time": "2022-05-21T09:20:39.298Z"
   },
   {
    "duration": 18,
    "start_time": "2022-05-21T09:20:39.312Z"
   },
   {
    "duration": 11,
    "start_time": "2022-05-21T09:20:39.333Z"
   },
   {
    "duration": 41,
    "start_time": "2022-05-21T09:20:39.345Z"
   },
   {
    "duration": 22,
    "start_time": "2022-05-21T09:20:39.388Z"
   },
   {
    "duration": 325,
    "start_time": "2022-05-21T09:20:39.412Z"
   },
   {
    "duration": 9,
    "start_time": "2022-05-21T09:20:39.738Z"
   },
   {
    "duration": 10,
    "start_time": "2022-05-21T09:20:39.748Z"
   },
   {
    "duration": 13,
    "start_time": "2022-05-21T09:20:39.760Z"
   },
   {
    "duration": 15,
    "start_time": "2022-05-21T09:20:39.785Z"
   },
   {
    "duration": 15,
    "start_time": "2022-05-21T09:20:39.802Z"
   },
   {
    "duration": 10,
    "start_time": "2022-05-21T09:20:39.818Z"
   },
   {
    "duration": 11,
    "start_time": "2022-05-21T09:20:39.830Z"
   },
   {
    "duration": 7,
    "start_time": "2022-05-21T09:20:39.843Z"
   },
   {
    "duration": 37,
    "start_time": "2022-05-21T09:20:39.851Z"
   },
   {
    "duration": 13,
    "start_time": "2022-05-21T09:20:39.891Z"
   },
   {
    "duration": 21,
    "start_time": "2022-05-21T09:20:39.906Z"
   },
   {
    "duration": 14,
    "start_time": "2022-05-21T09:20:39.928Z"
   },
   {
    "duration": 8,
    "start_time": "2022-05-21T09:20:39.944Z"
   },
   {
    "duration": 31,
    "start_time": "2022-05-21T09:20:39.953Z"
   },
   {
    "duration": 15,
    "start_time": "2022-05-21T09:20:39.986Z"
   },
   {
    "duration": 21,
    "start_time": "2022-05-21T09:20:40.004Z"
   },
   {
    "duration": 8,
    "start_time": "2022-05-21T09:20:40.027Z"
   },
   {
    "duration": 16,
    "start_time": "2022-05-21T09:20:40.037Z"
   },
   {
    "duration": 29,
    "start_time": "2022-05-21T09:20:40.055Z"
   },
   {
    "duration": 28,
    "start_time": "2022-05-21T09:20:40.086Z"
   },
   {
    "duration": 4,
    "start_time": "2022-05-21T09:20:40.115Z"
   },
   {
    "duration": 37,
    "start_time": "2022-05-21T09:20:40.121Z"
   },
   {
    "duration": 58,
    "start_time": "2022-05-21T09:20:40.160Z"
   },
   {
    "duration": 28,
    "start_time": "2022-05-21T09:20:40.219Z"
   },
   {
    "duration": 11,
    "start_time": "2022-05-21T09:20:40.248Z"
   },
   {
    "duration": 10,
    "start_time": "2022-05-21T09:20:40.260Z"
   },
   {
    "duration": 20,
    "start_time": "2022-05-21T09:20:40.283Z"
   },
   {
    "duration": 24,
    "start_time": "2022-05-21T09:20:40.305Z"
   },
   {
    "duration": 5,
    "start_time": "2022-05-21T09:20:40.330Z"
   },
   {
    "duration": 30,
    "start_time": "2022-05-21T09:20:40.337Z"
   },
   {
    "duration": 28,
    "start_time": "2022-05-21T09:20:40.368Z"
   },
   {
    "duration": 10,
    "start_time": "2022-05-21T09:20:40.399Z"
   },
   {
    "duration": 26,
    "start_time": "2022-05-21T09:20:40.411Z"
   },
   {
    "duration": 28,
    "start_time": "2022-05-21T09:20:41.222Z"
   },
   {
    "duration": 4,
    "start_time": "2022-05-21T09:21:04.358Z"
   },
   {
    "duration": 11,
    "start_time": "2022-05-21T09:21:07.350Z"
   },
   {
    "duration": 4,
    "start_time": "2022-05-21T09:21:11.959Z"
   },
   {
    "duration": 11,
    "start_time": "2022-05-21T09:21:14.024Z"
   },
   {
    "duration": 3,
    "start_time": "2022-05-21T09:21:22.740Z"
   },
   {
    "duration": 25,
    "start_time": "2022-05-21T09:21:24.526Z"
   },
   {
    "duration": 4,
    "start_time": "2022-05-21T09:21:32.051Z"
   },
   {
    "duration": 36,
    "start_time": "2022-05-21T09:21:34.075Z"
   },
   {
    "duration": 28,
    "start_time": "2022-05-21T09:21:45.029Z"
   },
   {
    "duration": 6,
    "start_time": "2022-05-21T09:21:49.684Z"
   },
   {
    "duration": 31,
    "start_time": "2022-05-21T09:21:52.599Z"
   },
   {
    "duration": 4,
    "start_time": "2022-05-21T09:22:18.622Z"
   },
   {
    "duration": 29,
    "start_time": "2022-05-21T09:22:21.463Z"
   },
   {
    "duration": 45,
    "start_time": "2022-05-21T09:23:16.090Z"
   },
   {
    "duration": 4,
    "start_time": "2022-05-21T09:23:20.730Z"
   },
   {
    "duration": 24,
    "start_time": "2022-05-21T09:23:22.827Z"
   },
   {
    "duration": 4,
    "start_time": "2022-05-21T09:23:31.659Z"
   },
   {
    "duration": 27,
    "start_time": "2022-05-21T09:23:33.467Z"
   },
   {
    "duration": 4,
    "start_time": "2022-05-21T09:23:44.960Z"
   },
   {
    "duration": 27,
    "start_time": "2022-05-21T09:23:46.314Z"
   },
   {
    "duration": 4,
    "start_time": "2022-05-21T09:23:51.860Z"
   },
   {
    "duration": 27,
    "start_time": "2022-05-21T09:23:53.765Z"
   },
   {
    "duration": 4,
    "start_time": "2022-05-21T09:24:12.930Z"
   },
   {
    "duration": 23,
    "start_time": "2022-05-21T09:24:15.431Z"
   },
   {
    "duration": 4,
    "start_time": "2022-05-21T09:24:21.105Z"
   },
   {
    "duration": 31,
    "start_time": "2022-05-21T09:24:23.675Z"
   },
   {
    "duration": 554,
    "start_time": "2022-05-21T09:26:04.809Z"
   },
   {
    "duration": 25,
    "start_time": "2022-05-21T09:26:05.366Z"
   },
   {
    "duration": 26,
    "start_time": "2022-05-21T09:26:05.394Z"
   },
   {
    "duration": 355,
    "start_time": "2022-05-21T09:26:05.422Z"
   },
   {
    "duration": 11,
    "start_time": "2022-05-21T09:26:05.783Z"
   },
   {
    "duration": 14,
    "start_time": "2022-05-21T09:26:05.797Z"
   },
   {
    "duration": 6,
    "start_time": "2022-05-21T09:26:05.813Z"
   },
   {
    "duration": 19,
    "start_time": "2022-05-21T09:26:05.821Z"
   },
   {
    "duration": 78,
    "start_time": "2022-05-21T09:26:05.842Z"
   },
   {
    "duration": 7,
    "start_time": "2022-05-21T09:26:05.923Z"
   },
   {
    "duration": 6,
    "start_time": "2022-05-21T09:26:05.932Z"
   },
   {
    "duration": 12,
    "start_time": "2022-05-21T09:26:05.939Z"
   },
   {
    "duration": 31,
    "start_time": "2022-05-21T09:26:05.953Z"
   },
   {
    "duration": 17,
    "start_time": "2022-05-21T09:26:05.986Z"
   },
   {
    "duration": 8,
    "start_time": "2022-05-21T09:26:06.005Z"
   },
   {
    "duration": 19,
    "start_time": "2022-05-21T09:26:06.014Z"
   },
   {
    "duration": 80,
    "start_time": "2022-05-21T09:26:06.035Z"
   },
   {
    "duration": 15,
    "start_time": "2022-05-21T09:26:06.117Z"
   },
   {
    "duration": 197,
    "start_time": "2022-05-21T09:26:06.134Z"
   },
   {
    "duration": 340,
    "start_time": "2022-05-21T09:26:06.332Z"
   },
   {
    "duration": 14,
    "start_time": "2022-05-21T09:26:06.674Z"
   },
   {
    "duration": 9,
    "start_time": "2022-05-21T09:26:06.691Z"
   },
   {
    "duration": 11,
    "start_time": "2022-05-21T09:26:06.702Z"
   },
   {
    "duration": 15,
    "start_time": "2022-05-21T09:26:06.717Z"
   },
   {
    "duration": 5,
    "start_time": "2022-05-21T09:26:06.733Z"
   },
   {
    "duration": 268,
    "start_time": "2022-05-21T09:26:06.740Z"
   },
   {
    "duration": 7,
    "start_time": "2022-05-21T09:26:07.014Z"
   },
   {
    "duration": 6,
    "start_time": "2022-05-21T09:26:07.026Z"
   },
   {
    "duration": 18,
    "start_time": "2022-05-21T09:26:07.034Z"
   },
   {
    "duration": 39,
    "start_time": "2022-05-21T09:26:07.054Z"
   },
   {
    "duration": 16,
    "start_time": "2022-05-21T09:26:07.095Z"
   },
   {
    "duration": 13,
    "start_time": "2022-05-21T09:26:07.112Z"
   },
   {
    "duration": 305,
    "start_time": "2022-05-21T09:26:07.126Z"
   },
   {
    "duration": 9,
    "start_time": "2022-05-21T09:26:07.433Z"
   },
   {
    "duration": 4,
    "start_time": "2022-05-21T09:26:07.444Z"
   },
   {
    "duration": 9,
    "start_time": "2022-05-21T09:26:07.449Z"
   },
   {
    "duration": 32,
    "start_time": "2022-05-21T09:26:07.460Z"
   },
   {
    "duration": 22,
    "start_time": "2022-05-21T09:26:07.493Z"
   },
   {
    "duration": 6,
    "start_time": "2022-05-21T09:26:07.517Z"
   },
   {
    "duration": 4,
    "start_time": "2022-05-21T09:26:07.525Z"
   },
   {
    "duration": 7,
    "start_time": "2022-05-21T09:26:07.531Z"
   },
   {
    "duration": 8,
    "start_time": "2022-05-21T09:26:07.540Z"
   },
   {
    "duration": 35,
    "start_time": "2022-05-21T09:26:07.550Z"
   },
   {
    "duration": 9,
    "start_time": "2022-05-21T09:26:07.587Z"
   },
   {
    "duration": 11,
    "start_time": "2022-05-21T09:26:07.598Z"
   },
   {
    "duration": 11,
    "start_time": "2022-05-21T09:26:07.610Z"
   },
   {
    "duration": 12,
    "start_time": "2022-05-21T09:26:07.622Z"
   },
   {
    "duration": 8,
    "start_time": "2022-05-21T09:26:07.635Z"
   },
   {
    "duration": 8,
    "start_time": "2022-05-21T09:26:07.644Z"
   },
   {
    "duration": 9,
    "start_time": "2022-05-21T09:26:07.686Z"
   },
   {
    "duration": 38,
    "start_time": "2022-05-21T09:26:07.697Z"
   },
   {
    "duration": 18,
    "start_time": "2022-05-21T09:26:07.737Z"
   },
   {
    "duration": 31,
    "start_time": "2022-05-21T09:26:07.757Z"
   },
   {
    "duration": 7,
    "start_time": "2022-05-21T09:26:07.790Z"
   },
   {
    "duration": 25,
    "start_time": "2022-05-21T09:26:07.799Z"
   },
   {
    "duration": 23,
    "start_time": "2022-05-21T09:26:07.826Z"
   },
   {
    "duration": 72,
    "start_time": "2022-05-21T09:26:07.852Z"
   },
   {
    "duration": 18,
    "start_time": "2022-05-21T09:26:07.926Z"
   },
   {
    "duration": 43,
    "start_time": "2022-05-21T09:26:07.946Z"
   },
   {
    "duration": 19,
    "start_time": "2022-05-21T09:26:07.991Z"
   },
   {
    "duration": 32,
    "start_time": "2022-05-21T09:26:08.012Z"
   },
   {
    "duration": 8,
    "start_time": "2022-05-21T09:26:08.047Z"
   },
   {
    "duration": 56,
    "start_time": "2022-05-21T09:26:08.058Z"
   },
   {
    "duration": 8,
    "start_time": "2022-05-21T09:26:08.116Z"
   },
   {
    "duration": 8,
    "start_time": "2022-05-21T09:26:08.126Z"
   },
   {
    "duration": 65,
    "start_time": "2022-05-21T09:26:08.136Z"
   },
   {
    "duration": 8,
    "start_time": "2022-05-21T09:26:08.204Z"
   },
   {
    "duration": 12,
    "start_time": "2022-05-21T09:26:08.213Z"
   },
   {
    "duration": 28,
    "start_time": "2022-05-21T09:26:08.226Z"
   },
   {
    "duration": 49,
    "start_time": "2022-05-21T09:26:08.255Z"
   },
   {
    "duration": 29,
    "start_time": "2022-05-21T09:26:08.305Z"
   },
   {
    "duration": 25,
    "start_time": "2022-05-21T09:26:08.336Z"
   }
  ],
  "kernelspec": {
   "display_name": "Python 3 (ipykernel)",
   "language": "python",
   "name": "python3"
  },
  "language_info": {
   "codemirror_mode": {
    "name": "ipython",
    "version": 3
   },
   "file_extension": ".py",
   "mimetype": "text/x-python",
   "name": "python",
   "nbconvert_exporter": "python",
   "pygments_lexer": "ipython3",
   "version": "3.9.7"
  },
  "toc": {
   "base_numbering": 1,
   "nav_menu": {},
   "number_sections": false,
   "sideBar": true,
   "skip_h1_title": true,
   "title_cell": "Table of Contents",
   "title_sidebar": "Contents",
   "toc_cell": false,
   "toc_position": {
    "height": "calc(100% - 180px)",
    "left": "10px",
    "top": "150px",
    "width": "289.6px"
   },
   "toc_section_display": true,
   "toc_window_display": true
  }
 },
 "nbformat": 4,
 "nbformat_minor": 5
}
